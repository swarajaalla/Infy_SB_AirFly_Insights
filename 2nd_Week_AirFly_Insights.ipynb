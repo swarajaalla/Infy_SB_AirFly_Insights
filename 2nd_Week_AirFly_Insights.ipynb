{
  "nbformat": 4,
  "nbformat_minor": 0,
  "metadata": {
    "colab": {
      "provenance": [],
      "authorship_tag": "ABX9TyOBip0rJB3s8aaXR0bOVti+",
      "include_colab_link": true
    },
    "kernelspec": {
      "name": "python3",
      "display_name": "Python 3"
    },
    "language_info": {
      "name": "python"
    }
  },
  "cells": [
    {
      "cell_type": "markdown",
      "metadata": {
        "id": "view-in-github",
        "colab_type": "text"
      },
      "source": [
        "<a href=\"https://colab.research.google.com/github/swarajaalla/Infy_SB_AirFly_Insights/blob/sravani_dev/2nd_Week_AirFly_Insights.ipynb\" target=\"_parent\"><img src=\"https://colab.research.google.com/assets/colab-badge.svg\" alt=\"Open In Colab\"/></a>"
      ]
    },
    {
      "cell_type": "code",
      "source": [
        "# 01_imports.py\n",
        "import os\n",
        "import zipfile\n",
        "import pandas as pd\n",
        "import numpy as np\n",
        "from datetime import datetime\n",
        "pd.set_option('display.max_columns', 200)\n",
        "pd.set_option('display.width', 200)\n"
      ],
      "metadata": {
        "id": "vKc5miBkLXsq"
      },
      "execution_count": 32,
      "outputs": []
    },
    {
      "cell_type": "code",
      "source": [
        "# 02_inspect_zip.py\n",
        "zip_path = \"/content/flights_sample_100k.csv.zip\"\n",
        "with zipfile.ZipFile(zip_path, 'r') as z:\n",
        "    print(\"Files in zip:\", z.namelist())\n",
        "    # If you want to extract, list names to confirm CSV filename\n"
      ],
      "metadata": {
        "colab": {
          "base_uri": "https://localhost:8080/"
        },
        "id": "YusXkSQwM4kD",
        "outputId": "f47405f4-c172-4982-9d8a-56297537fe8f"
      },
      "execution_count": 33,
      "outputs": [
        {
          "output_type": "stream",
          "name": "stdout",
          "text": [
            "Files in zip: ['flights_sample_100k.csv']\n"
          ]
        }
      ]
    },
    {
      "cell_type": "code",
      "source": [
        "# 03_load_csv_head.py\n",
        "csv_name = \"flights_sample_100k.csv\"  # change if the filename differs\n",
        "zip_path = \"/content/flights_sample_100k.csv.zip\"\n",
        "with zipfile.ZipFile(zip_path) as z:\n",
        "    with z.open(csv_name) as f:\n",
        "        df = pd.read_csv(f, nrows=1000)  # quick preview sample\n",
        "df.info()\n",
        "df.head(3)\n"
      ],
      "metadata": {
        "colab": {
          "base_uri": "https://localhost:8080/",
          "height": 961
        },
        "id": "nR69hT3NM_wJ",
        "outputId": "1777328f-b8d4-4e4e-9863-c4d068436c19"
      },
      "execution_count": 34,
      "outputs": [
        {
          "output_type": "stream",
          "name": "stdout",
          "text": [
            "<class 'pandas.core.frame.DataFrame'>\n",
            "RangeIndex: 1000 entries, 0 to 999\n",
            "Data columns (total 32 columns):\n",
            " #   Column                   Non-Null Count  Dtype  \n",
            "---  ------                   --------------  -----  \n",
            " 0   FL_DATE                  1000 non-null   object \n",
            " 1   AIRLINE                  1000 non-null   object \n",
            " 2   AIRLINE_DOT              1000 non-null   object \n",
            " 3   AIRLINE_CODE             1000 non-null   object \n",
            " 4   DOT_CODE                 1000 non-null   int64  \n",
            " 5   FL_NUMBER                1000 non-null   int64  \n",
            " 6   ORIGIN                   1000 non-null   object \n",
            " 7   ORIGIN_CITY              1000 non-null   object \n",
            " 8   DEST                     1000 non-null   object \n",
            " 9   DEST_CITY                1000 non-null   object \n",
            " 10  CRS_DEP_TIME             1000 non-null   int64  \n",
            " 11  DEP_TIME                 974 non-null    float64\n",
            " 12  DEP_DELAY                974 non-null    float64\n",
            " 13  TAXI_OUT                 973 non-null    float64\n",
            " 14  WHEELS_OFF               973 non-null    float64\n",
            " 15  WHEELS_ON                971 non-null    float64\n",
            " 16  TAXI_IN                  971 non-null    float64\n",
            " 17  CRS_ARR_TIME             1000 non-null   int64  \n",
            " 18  ARR_TIME                 971 non-null    float64\n",
            " 19  ARR_DELAY                968 non-null    float64\n",
            " 20  CANCELLED                1000 non-null   float64\n",
            " 21  CANCELLATION_CODE        28 non-null     object \n",
            " 22  DIVERTED                 1000 non-null   float64\n",
            " 23  CRS_ELAPSED_TIME         1000 non-null   float64\n",
            " 24  ELAPSED_TIME             968 non-null    float64\n",
            " 25  AIR_TIME                 968 non-null    float64\n",
            " 26  DISTANCE                 1000 non-null   float64\n",
            " 27  DELAY_DUE_CARRIER        181 non-null    float64\n",
            " 28  DELAY_DUE_WEATHER        181 non-null    float64\n",
            " 29  DELAY_DUE_NAS            181 non-null    float64\n",
            " 30  DELAY_DUE_SECURITY       181 non-null    float64\n",
            " 31  DELAY_DUE_LATE_AIRCRAFT  181 non-null    float64\n",
            "dtypes: float64(19), int64(4), object(9)\n",
            "memory usage: 250.1+ KB\n"
          ]
        },
        {
          "output_type": "execute_result",
          "data": {
            "text/plain": [
              "      FL_DATE                 AIRLINE                 AIRLINE_DOT AIRLINE_CODE  DOT_CODE  FL_NUMBER ORIGIN                     ORIGIN_CITY DEST        DEST_CITY  CRS_DEP_TIME  DEP_TIME  DEP_DELAY  \\\n",
              "0  2019-03-01           Allegiant Air           Allegiant Air: G4           G4     20368       1668    PGD                 Punta Gorda, FL  SPI  Springfield, IL           630     620.0      -10.0   \n",
              "1  2021-02-16  American Airlines Inc.  American Airlines Inc.: AA           AA     19805       2437    DFW           Dallas/Fort Worth, TX  LAX  Los Angeles, CA          1329       NaN        NaN   \n",
              "2  2022-04-12       PSA Airlines Inc.       PSA Airlines Inc.: OH           OH     20397       5560    EWN  New Bern/Morehead/Beaufort, NC  CLT    Charlotte, NC           625     618.0       -7.0   \n",
              "\n",
              "   TAXI_OUT  WHEELS_OFF  WHEELS_ON  TAXI_IN  CRS_ARR_TIME  ARR_TIME  ARR_DELAY  CANCELLED CANCELLATION_CODE  DIVERTED  CRS_ELAPSED_TIME  ELAPSED_TIME  AIR_TIME  DISTANCE  DELAY_DUE_CARRIER  \\\n",
              "0       9.0       629.0      731.0      7.0           810     738.0      -32.0        0.0               NaN       0.0             160.0         138.0     122.0     994.0                NaN   \n",
              "1       NaN         NaN        NaN      NaN          1500       NaN        NaN        1.0                 B       0.0             211.0           NaN       NaN    1235.0                NaN   \n",
              "2      16.0       634.0      725.0     11.0           744     736.0       -8.0        0.0               NaN       0.0              79.0          78.0      51.0     221.0                NaN   \n",
              "\n",
              "   DELAY_DUE_WEATHER  DELAY_DUE_NAS  DELAY_DUE_SECURITY  DELAY_DUE_LATE_AIRCRAFT  \n",
              "0                NaN            NaN                 NaN                      NaN  \n",
              "1                NaN            NaN                 NaN                      NaN  \n",
              "2                NaN            NaN                 NaN                      NaN  "
            ],
            "text/html": [
              "\n",
              "  <div id=\"df-5f6989aa-2ca0-4bc4-b3d3-3171a4616ad2\" class=\"colab-df-container\">\n",
              "    <div>\n",
              "<style scoped>\n",
              "    .dataframe tbody tr th:only-of-type {\n",
              "        vertical-align: middle;\n",
              "    }\n",
              "\n",
              "    .dataframe tbody tr th {\n",
              "        vertical-align: top;\n",
              "    }\n",
              "\n",
              "    .dataframe thead th {\n",
              "        text-align: right;\n",
              "    }\n",
              "</style>\n",
              "<table border=\"1\" class=\"dataframe\">\n",
              "  <thead>\n",
              "    <tr style=\"text-align: right;\">\n",
              "      <th></th>\n",
              "      <th>FL_DATE</th>\n",
              "      <th>AIRLINE</th>\n",
              "      <th>AIRLINE_DOT</th>\n",
              "      <th>AIRLINE_CODE</th>\n",
              "      <th>DOT_CODE</th>\n",
              "      <th>FL_NUMBER</th>\n",
              "      <th>ORIGIN</th>\n",
              "      <th>ORIGIN_CITY</th>\n",
              "      <th>DEST</th>\n",
              "      <th>DEST_CITY</th>\n",
              "      <th>CRS_DEP_TIME</th>\n",
              "      <th>DEP_TIME</th>\n",
              "      <th>DEP_DELAY</th>\n",
              "      <th>TAXI_OUT</th>\n",
              "      <th>WHEELS_OFF</th>\n",
              "      <th>WHEELS_ON</th>\n",
              "      <th>TAXI_IN</th>\n",
              "      <th>CRS_ARR_TIME</th>\n",
              "      <th>ARR_TIME</th>\n",
              "      <th>ARR_DELAY</th>\n",
              "      <th>CANCELLED</th>\n",
              "      <th>CANCELLATION_CODE</th>\n",
              "      <th>DIVERTED</th>\n",
              "      <th>CRS_ELAPSED_TIME</th>\n",
              "      <th>ELAPSED_TIME</th>\n",
              "      <th>AIR_TIME</th>\n",
              "      <th>DISTANCE</th>\n",
              "      <th>DELAY_DUE_CARRIER</th>\n",
              "      <th>DELAY_DUE_WEATHER</th>\n",
              "      <th>DELAY_DUE_NAS</th>\n",
              "      <th>DELAY_DUE_SECURITY</th>\n",
              "      <th>DELAY_DUE_LATE_AIRCRAFT</th>\n",
              "    </tr>\n",
              "  </thead>\n",
              "  <tbody>\n",
              "    <tr>\n",
              "      <th>0</th>\n",
              "      <td>2019-03-01</td>\n",
              "      <td>Allegiant Air</td>\n",
              "      <td>Allegiant Air: G4</td>\n",
              "      <td>G4</td>\n",
              "      <td>20368</td>\n",
              "      <td>1668</td>\n",
              "      <td>PGD</td>\n",
              "      <td>Punta Gorda, FL</td>\n",
              "      <td>SPI</td>\n",
              "      <td>Springfield, IL</td>\n",
              "      <td>630</td>\n",
              "      <td>620.0</td>\n",
              "      <td>-10.0</td>\n",
              "      <td>9.0</td>\n",
              "      <td>629.0</td>\n",
              "      <td>731.0</td>\n",
              "      <td>7.0</td>\n",
              "      <td>810</td>\n",
              "      <td>738.0</td>\n",
              "      <td>-32.0</td>\n",
              "      <td>0.0</td>\n",
              "      <td>NaN</td>\n",
              "      <td>0.0</td>\n",
              "      <td>160.0</td>\n",
              "      <td>138.0</td>\n",
              "      <td>122.0</td>\n",
              "      <td>994.0</td>\n",
              "      <td>NaN</td>\n",
              "      <td>NaN</td>\n",
              "      <td>NaN</td>\n",
              "      <td>NaN</td>\n",
              "      <td>NaN</td>\n",
              "    </tr>\n",
              "    <tr>\n",
              "      <th>1</th>\n",
              "      <td>2021-02-16</td>\n",
              "      <td>American Airlines Inc.</td>\n",
              "      <td>American Airlines Inc.: AA</td>\n",
              "      <td>AA</td>\n",
              "      <td>19805</td>\n",
              "      <td>2437</td>\n",
              "      <td>DFW</td>\n",
              "      <td>Dallas/Fort Worth, TX</td>\n",
              "      <td>LAX</td>\n",
              "      <td>Los Angeles, CA</td>\n",
              "      <td>1329</td>\n",
              "      <td>NaN</td>\n",
              "      <td>NaN</td>\n",
              "      <td>NaN</td>\n",
              "      <td>NaN</td>\n",
              "      <td>NaN</td>\n",
              "      <td>NaN</td>\n",
              "      <td>1500</td>\n",
              "      <td>NaN</td>\n",
              "      <td>NaN</td>\n",
              "      <td>1.0</td>\n",
              "      <td>B</td>\n",
              "      <td>0.0</td>\n",
              "      <td>211.0</td>\n",
              "      <td>NaN</td>\n",
              "      <td>NaN</td>\n",
              "      <td>1235.0</td>\n",
              "      <td>NaN</td>\n",
              "      <td>NaN</td>\n",
              "      <td>NaN</td>\n",
              "      <td>NaN</td>\n",
              "      <td>NaN</td>\n",
              "    </tr>\n",
              "    <tr>\n",
              "      <th>2</th>\n",
              "      <td>2022-04-12</td>\n",
              "      <td>PSA Airlines Inc.</td>\n",
              "      <td>PSA Airlines Inc.: OH</td>\n",
              "      <td>OH</td>\n",
              "      <td>20397</td>\n",
              "      <td>5560</td>\n",
              "      <td>EWN</td>\n",
              "      <td>New Bern/Morehead/Beaufort, NC</td>\n",
              "      <td>CLT</td>\n",
              "      <td>Charlotte, NC</td>\n",
              "      <td>625</td>\n",
              "      <td>618.0</td>\n",
              "      <td>-7.0</td>\n",
              "      <td>16.0</td>\n",
              "      <td>634.0</td>\n",
              "      <td>725.0</td>\n",
              "      <td>11.0</td>\n",
              "      <td>744</td>\n",
              "      <td>736.0</td>\n",
              "      <td>-8.0</td>\n",
              "      <td>0.0</td>\n",
              "      <td>NaN</td>\n",
              "      <td>0.0</td>\n",
              "      <td>79.0</td>\n",
              "      <td>78.0</td>\n",
              "      <td>51.0</td>\n",
              "      <td>221.0</td>\n",
              "      <td>NaN</td>\n",
              "      <td>NaN</td>\n",
              "      <td>NaN</td>\n",
              "      <td>NaN</td>\n",
              "      <td>NaN</td>\n",
              "    </tr>\n",
              "  </tbody>\n",
              "</table>\n",
              "</div>\n",
              "    <div class=\"colab-df-buttons\">\n",
              "\n",
              "  <div class=\"colab-df-container\">\n",
              "    <button class=\"colab-df-convert\" onclick=\"convertToInteractive('df-5f6989aa-2ca0-4bc4-b3d3-3171a4616ad2')\"\n",
              "            title=\"Convert this dataframe to an interactive table.\"\n",
              "            style=\"display:none;\">\n",
              "\n",
              "  <svg xmlns=\"http://www.w3.org/2000/svg\" height=\"24px\" viewBox=\"0 -960 960 960\">\n",
              "    <path d=\"M120-120v-720h720v720H120Zm60-500h600v-160H180v160Zm220 220h160v-160H400v160Zm0 220h160v-160H400v160ZM180-400h160v-160H180v160Zm440 0h160v-160H620v160ZM180-180h160v-160H180v160Zm440 0h160v-160H620v160Z\"/>\n",
              "  </svg>\n",
              "    </button>\n",
              "\n",
              "  <style>\n",
              "    .colab-df-container {\n",
              "      display:flex;\n",
              "      gap: 12px;\n",
              "    }\n",
              "\n",
              "    .colab-df-convert {\n",
              "      background-color: #E8F0FE;\n",
              "      border: none;\n",
              "      border-radius: 50%;\n",
              "      cursor: pointer;\n",
              "      display: none;\n",
              "      fill: #1967D2;\n",
              "      height: 32px;\n",
              "      padding: 0 0 0 0;\n",
              "      width: 32px;\n",
              "    }\n",
              "\n",
              "    .colab-df-convert:hover {\n",
              "      background-color: #E2EBFA;\n",
              "      box-shadow: 0px 1px 2px rgba(60, 64, 67, 0.3), 0px 1px 3px 1px rgba(60, 64, 67, 0.15);\n",
              "      fill: #174EA6;\n",
              "    }\n",
              "\n",
              "    .colab-df-buttons div {\n",
              "      margin-bottom: 4px;\n",
              "    }\n",
              "\n",
              "    [theme=dark] .colab-df-convert {\n",
              "      background-color: #3B4455;\n",
              "      fill: #D2E3FC;\n",
              "    }\n",
              "\n",
              "    [theme=dark] .colab-df-convert:hover {\n",
              "      background-color: #434B5C;\n",
              "      box-shadow: 0px 1px 3px 1px rgba(0, 0, 0, 0.15);\n",
              "      filter: drop-shadow(0px 1px 2px rgba(0, 0, 0, 0.3));\n",
              "      fill: #FFFFFF;\n",
              "    }\n",
              "  </style>\n",
              "\n",
              "    <script>\n",
              "      const buttonEl =\n",
              "        document.querySelector('#df-5f6989aa-2ca0-4bc4-b3d3-3171a4616ad2 button.colab-df-convert');\n",
              "      buttonEl.style.display =\n",
              "        google.colab.kernel.accessAllowed ? 'block' : 'none';\n",
              "\n",
              "      async function convertToInteractive(key) {\n",
              "        const element = document.querySelector('#df-5f6989aa-2ca0-4bc4-b3d3-3171a4616ad2');\n",
              "        const dataTable =\n",
              "          await google.colab.kernel.invokeFunction('convertToInteractive',\n",
              "                                                    [key], {});\n",
              "        if (!dataTable) return;\n",
              "\n",
              "        const docLinkHtml = 'Like what you see? Visit the ' +\n",
              "          '<a target=\"_blank\" href=https://colab.research.google.com/notebooks/data_table.ipynb>data table notebook</a>'\n",
              "          + ' to learn more about interactive tables.';\n",
              "        element.innerHTML = '';\n",
              "        dataTable['output_type'] = 'display_data';\n",
              "        await google.colab.output.renderOutput(dataTable, element);\n",
              "        const docLink = document.createElement('div');\n",
              "        docLink.innerHTML = docLinkHtml;\n",
              "        element.appendChild(docLink);\n",
              "      }\n",
              "    </script>\n",
              "  </div>\n",
              "\n",
              "\n",
              "    <div id=\"df-a1ce54c0-c8bf-4edc-84dc-c4305de84e70\">\n",
              "      <button class=\"colab-df-quickchart\" onclick=\"quickchart('df-a1ce54c0-c8bf-4edc-84dc-c4305de84e70')\"\n",
              "                title=\"Suggest charts\"\n",
              "                style=\"display:none;\">\n",
              "\n",
              "<svg xmlns=\"http://www.w3.org/2000/svg\" height=\"24px\"viewBox=\"0 0 24 24\"\n",
              "     width=\"24px\">\n",
              "    <g>\n",
              "        <path d=\"M19 3H5c-1.1 0-2 .9-2 2v14c0 1.1.9 2 2 2h14c1.1 0 2-.9 2-2V5c0-1.1-.9-2-2-2zM9 17H7v-7h2v7zm4 0h-2V7h2v10zm4 0h-2v-4h2v4z\"/>\n",
              "    </g>\n",
              "</svg>\n",
              "      </button>\n",
              "\n",
              "<style>\n",
              "  .colab-df-quickchart {\n",
              "      --bg-color: #E8F0FE;\n",
              "      --fill-color: #1967D2;\n",
              "      --hover-bg-color: #E2EBFA;\n",
              "      --hover-fill-color: #174EA6;\n",
              "      --disabled-fill-color: #AAA;\n",
              "      --disabled-bg-color: #DDD;\n",
              "  }\n",
              "\n",
              "  [theme=dark] .colab-df-quickchart {\n",
              "      --bg-color: #3B4455;\n",
              "      --fill-color: #D2E3FC;\n",
              "      --hover-bg-color: #434B5C;\n",
              "      --hover-fill-color: #FFFFFF;\n",
              "      --disabled-bg-color: #3B4455;\n",
              "      --disabled-fill-color: #666;\n",
              "  }\n",
              "\n",
              "  .colab-df-quickchart {\n",
              "    background-color: var(--bg-color);\n",
              "    border: none;\n",
              "    border-radius: 50%;\n",
              "    cursor: pointer;\n",
              "    display: none;\n",
              "    fill: var(--fill-color);\n",
              "    height: 32px;\n",
              "    padding: 0;\n",
              "    width: 32px;\n",
              "  }\n",
              "\n",
              "  .colab-df-quickchart:hover {\n",
              "    background-color: var(--hover-bg-color);\n",
              "    box-shadow: 0 1px 2px rgba(60, 64, 67, 0.3), 0 1px 3px 1px rgba(60, 64, 67, 0.15);\n",
              "    fill: var(--button-hover-fill-color);\n",
              "  }\n",
              "\n",
              "  .colab-df-quickchart-complete:disabled,\n",
              "  .colab-df-quickchart-complete:disabled:hover {\n",
              "    background-color: var(--disabled-bg-color);\n",
              "    fill: var(--disabled-fill-color);\n",
              "    box-shadow: none;\n",
              "  }\n",
              "\n",
              "  .colab-df-spinner {\n",
              "    border: 2px solid var(--fill-color);\n",
              "    border-color: transparent;\n",
              "    border-bottom-color: var(--fill-color);\n",
              "    animation:\n",
              "      spin 1s steps(1) infinite;\n",
              "  }\n",
              "\n",
              "  @keyframes spin {\n",
              "    0% {\n",
              "      border-color: transparent;\n",
              "      border-bottom-color: var(--fill-color);\n",
              "      border-left-color: var(--fill-color);\n",
              "    }\n",
              "    20% {\n",
              "      border-color: transparent;\n",
              "      border-left-color: var(--fill-color);\n",
              "      border-top-color: var(--fill-color);\n",
              "    }\n",
              "    30% {\n",
              "      border-color: transparent;\n",
              "      border-left-color: var(--fill-color);\n",
              "      border-top-color: var(--fill-color);\n",
              "      border-right-color: var(--fill-color);\n",
              "    }\n",
              "    40% {\n",
              "      border-color: transparent;\n",
              "      border-right-color: var(--fill-color);\n",
              "      border-top-color: var(--fill-color);\n",
              "    }\n",
              "    60% {\n",
              "      border-color: transparent;\n",
              "      border-right-color: var(--fill-color);\n",
              "    }\n",
              "    80% {\n",
              "      border-color: transparent;\n",
              "      border-right-color: var(--fill-color);\n",
              "      border-bottom-color: var(--fill-color);\n",
              "    }\n",
              "    90% {\n",
              "      border-color: transparent;\n",
              "      border-bottom-color: var(--fill-color);\n",
              "    }\n",
              "  }\n",
              "</style>\n",
              "\n",
              "      <script>\n",
              "        async function quickchart(key) {\n",
              "          const quickchartButtonEl =\n",
              "            document.querySelector('#' + key + ' button');\n",
              "          quickchartButtonEl.disabled = true;  // To prevent multiple clicks.\n",
              "          quickchartButtonEl.classList.add('colab-df-spinner');\n",
              "          try {\n",
              "            const charts = await google.colab.kernel.invokeFunction(\n",
              "                'suggestCharts', [key], {});\n",
              "          } catch (error) {\n",
              "            console.error('Error during call to suggestCharts:', error);\n",
              "          }\n",
              "          quickchartButtonEl.classList.remove('colab-df-spinner');\n",
              "          quickchartButtonEl.classList.add('colab-df-quickchart-complete');\n",
              "        }\n",
              "        (() => {\n",
              "          let quickchartButtonEl =\n",
              "            document.querySelector('#df-a1ce54c0-c8bf-4edc-84dc-c4305de84e70 button');\n",
              "          quickchartButtonEl.style.display =\n",
              "            google.colab.kernel.accessAllowed ? 'block' : 'none';\n",
              "        })();\n",
              "      </script>\n",
              "    </div>\n",
              "\n",
              "    </div>\n",
              "  </div>\n"
            ],
            "application/vnd.google.colaboratory.intrinsic+json": {
              "type": "dataframe",
              "variable_name": "df"
            }
          },
          "metadata": {},
          "execution_count": 34
        }
      ]
    },
    {
      "cell_type": "code",
      "source": [
        "# 04_load_csv_with_dtypes.py\n",
        "# Provide dtype hints for common columns to reduce memory usage.\n",
        "dtype_hints = {\n",
        "    'YEAR': 'int16',\n",
        "    'MONTH': 'int8',\n",
        "    'DAY': 'int8',\n",
        "    'DAY_OF_WEEK': 'int8',\n",
        "    'OP_CARRIER': 'category',\n",
        "    'ORIGIN': 'category',\n",
        "    'DEST': 'category',\n",
        "    'TAIL_NUM': 'category',\n",
        "    'FL_NUM': 'int32'\n",
        "    # extend as appropriate for your CSV's column names\n",
        "}\n",
        "\n",
        "zip_path = \"/content/flights_sample_100k.csv.zip\"\n",
        "with zipfile.ZipFile(zip_path) as z:\n",
        "    with z.open(csv_name) as f:\n",
        "        df = pd.read_csv(f, dtype=dtype_hints, low_memory=True)\n",
        "print(\"Loaded shape:\", df.shape)\n",
        "df.info()\n"
      ],
      "metadata": {
        "colab": {
          "base_uri": "https://localhost:8080/"
        },
        "id": "DtHzO_rYNJ8m",
        "outputId": "23aa4bbf-af5a-4ab0-beb1-4e1c8050b156"
      },
      "execution_count": 35,
      "outputs": [
        {
          "output_type": "stream",
          "name": "stdout",
          "text": [
            "Loaded shape: (100000, 32)\n",
            "<class 'pandas.core.frame.DataFrame'>\n",
            "RangeIndex: 100000 entries, 0 to 99999\n",
            "Data columns (total 32 columns):\n",
            " #   Column                   Non-Null Count   Dtype   \n",
            "---  ------                   --------------   -----   \n",
            " 0   FL_DATE                  100000 non-null  object  \n",
            " 1   AIRLINE                  100000 non-null  object  \n",
            " 2   AIRLINE_DOT              100000 non-null  object  \n",
            " 3   AIRLINE_CODE             100000 non-null  object  \n",
            " 4   DOT_CODE                 100000 non-null  int64   \n",
            " 5   FL_NUMBER                100000 non-null  int64   \n",
            " 6   ORIGIN                   100000 non-null  category\n",
            " 7   ORIGIN_CITY              100000 non-null  object  \n",
            " 8   DEST                     100000 non-null  category\n",
            " 9   DEST_CITY                100000 non-null  object  \n",
            " 10  CRS_DEP_TIME             100000 non-null  int64   \n",
            " 11  DEP_TIME                 97424 non-null   float64 \n",
            " 12  DEP_DELAY                97423 non-null   float64 \n",
            " 13  TAXI_OUT                 97382 non-null   float64 \n",
            " 14  WHEELS_OFF               97382 non-null   float64 \n",
            " 15  WHEELS_ON                97345 non-null   float64 \n",
            " 16  TAXI_IN                  97345 non-null   float64 \n",
            " 17  CRS_ARR_TIME             100000 non-null  int64   \n",
            " 18  ARR_TIME                 97345 non-null   float64 \n",
            " 19  ARR_DELAY                97148 non-null   float64 \n",
            " 20  CANCELLED                100000 non-null  float64 \n",
            " 21  CANCELLATION_CODE        2627 non-null    object  \n",
            " 22  DIVERTED                 100000 non-null  float64 \n",
            " 23  CRS_ELAPSED_TIME         100000 non-null  float64 \n",
            " 24  ELAPSED_TIME             97148 non-null   float64 \n",
            " 25  AIR_TIME                 97148 non-null   float64 \n",
            " 26  DISTANCE                 100000 non-null  float64 \n",
            " 27  DELAY_DUE_CARRIER        17992 non-null   float64 \n",
            " 28  DELAY_DUE_WEATHER        17992 non-null   float64 \n",
            " 29  DELAY_DUE_NAS            17992 non-null   float64 \n",
            " 30  DELAY_DUE_SECURITY       17992 non-null   float64 \n",
            " 31  DELAY_DUE_LATE_AIRCRAFT  17992 non-null   float64 \n",
            "dtypes: category(2), float64(19), int64(4), object(7)\n",
            "memory usage: 23.3+ MB\n"
          ]
        }
      ]
    },
    {
      "cell_type": "code",
      "source": [
        "# 05_missing_and_stats.py\n",
        "missing = df.isna().sum().sort_values(ascending=False)\n",
        "summary = df.describe(include='all').T\n",
        "print(\"Top missing columns:\\n\", missing.head(20))\n",
        "summary.loc[:, ['count','mean','std']].head(20)\n"
      ],
      "metadata": {
        "colab": {
          "base_uri": "https://localhost:8080/",
          "height": 1000
        },
        "id": "YYpXLF9INS31",
        "outputId": "220c5bd8-0081-4274-a325-594e968b6f83"
      },
      "execution_count": 36,
      "outputs": [
        {
          "output_type": "stream",
          "name": "stdout",
          "text": [
            "Top missing columns:\n",
            " CANCELLATION_CODE          97373\n",
            "DELAY_DUE_LATE_AIRCRAFT    82008\n",
            "DELAY_DUE_CARRIER          82008\n",
            "DELAY_DUE_SECURITY         82008\n",
            "DELAY_DUE_NAS              82008\n",
            "DELAY_DUE_WEATHER          82008\n",
            "ARR_DELAY                   2852\n",
            "ELAPSED_TIME                2852\n",
            "AIR_TIME                    2852\n",
            "WHEELS_ON                   2655\n",
            "ARR_TIME                    2655\n",
            "TAXI_IN                     2655\n",
            "WHEELS_OFF                  2618\n",
            "TAXI_OUT                    2618\n",
            "DEP_DELAY                   2577\n",
            "DEP_TIME                    2576\n",
            "DEST_CITY                      0\n",
            "DEST                           0\n",
            "CRS_DEP_TIME                   0\n",
            "AIRLINE_CODE                   0\n",
            "dtype: int64\n"
          ]
        },
        {
          "output_type": "execute_result",
          "data": {
            "text/plain": [
              "                 count         mean         std\n",
              "FL_DATE         100000          NaN         NaN\n",
              "AIRLINE         100000          NaN         NaN\n",
              "AIRLINE_DOT     100000          NaN         NaN\n",
              "AIRLINE_CODE    100000          NaN         NaN\n",
              "DOT_CODE      100000.0  19977.25777  377.223161\n",
              "FL_NUMBER     100000.0   2511.91066  1745.63292\n",
              "ORIGIN          100000          NaN         NaN\n",
              "ORIGIN_CITY     100000          NaN         NaN\n",
              "DEST            100000          NaN         NaN\n",
              "DEST_CITY       100000          NaN         NaN\n",
              "CRS_DEP_TIME  100000.0   1329.31234  485.418534\n",
              "DEP_TIME       97424.0  1331.005738  498.864626\n",
              "DEP_DELAY      97423.0    10.178007   49.398318\n",
              "TAXI_OUT       97382.0    16.679992    9.170655\n",
              "WHEELS_OFF     97382.0  1353.643661    500.4562\n",
              "WHEELS_ON      97345.0  1463.905039   527.43063\n",
              "TAXI_IN        97345.0      7.69529    6.481064\n",
              "CRS_ARR_TIME  100000.0   1491.47112  512.569874\n",
              "ARR_TIME       97345.0  1467.125523  532.513348\n",
              "ARR_DELAY      97148.0     4.353759   51.360244"
            ],
            "text/html": [
              "\n",
              "  <div id=\"df-e8a3dfee-2864-4f36-b637-3d8a43a6ef5f\" class=\"colab-df-container\">\n",
              "    <div>\n",
              "<style scoped>\n",
              "    .dataframe tbody tr th:only-of-type {\n",
              "        vertical-align: middle;\n",
              "    }\n",
              "\n",
              "    .dataframe tbody tr th {\n",
              "        vertical-align: top;\n",
              "    }\n",
              "\n",
              "    .dataframe thead th {\n",
              "        text-align: right;\n",
              "    }\n",
              "</style>\n",
              "<table border=\"1\" class=\"dataframe\">\n",
              "  <thead>\n",
              "    <tr style=\"text-align: right;\">\n",
              "      <th></th>\n",
              "      <th>count</th>\n",
              "      <th>mean</th>\n",
              "      <th>std</th>\n",
              "    </tr>\n",
              "  </thead>\n",
              "  <tbody>\n",
              "    <tr>\n",
              "      <th>FL_DATE</th>\n",
              "      <td>100000</td>\n",
              "      <td>NaN</td>\n",
              "      <td>NaN</td>\n",
              "    </tr>\n",
              "    <tr>\n",
              "      <th>AIRLINE</th>\n",
              "      <td>100000</td>\n",
              "      <td>NaN</td>\n",
              "      <td>NaN</td>\n",
              "    </tr>\n",
              "    <tr>\n",
              "      <th>AIRLINE_DOT</th>\n",
              "      <td>100000</td>\n",
              "      <td>NaN</td>\n",
              "      <td>NaN</td>\n",
              "    </tr>\n",
              "    <tr>\n",
              "      <th>AIRLINE_CODE</th>\n",
              "      <td>100000</td>\n",
              "      <td>NaN</td>\n",
              "      <td>NaN</td>\n",
              "    </tr>\n",
              "    <tr>\n",
              "      <th>DOT_CODE</th>\n",
              "      <td>100000.0</td>\n",
              "      <td>19977.25777</td>\n",
              "      <td>377.223161</td>\n",
              "    </tr>\n",
              "    <tr>\n",
              "      <th>FL_NUMBER</th>\n",
              "      <td>100000.0</td>\n",
              "      <td>2511.91066</td>\n",
              "      <td>1745.63292</td>\n",
              "    </tr>\n",
              "    <tr>\n",
              "      <th>ORIGIN</th>\n",
              "      <td>100000</td>\n",
              "      <td>NaN</td>\n",
              "      <td>NaN</td>\n",
              "    </tr>\n",
              "    <tr>\n",
              "      <th>ORIGIN_CITY</th>\n",
              "      <td>100000</td>\n",
              "      <td>NaN</td>\n",
              "      <td>NaN</td>\n",
              "    </tr>\n",
              "    <tr>\n",
              "      <th>DEST</th>\n",
              "      <td>100000</td>\n",
              "      <td>NaN</td>\n",
              "      <td>NaN</td>\n",
              "    </tr>\n",
              "    <tr>\n",
              "      <th>DEST_CITY</th>\n",
              "      <td>100000</td>\n",
              "      <td>NaN</td>\n",
              "      <td>NaN</td>\n",
              "    </tr>\n",
              "    <tr>\n",
              "      <th>CRS_DEP_TIME</th>\n",
              "      <td>100000.0</td>\n",
              "      <td>1329.31234</td>\n",
              "      <td>485.418534</td>\n",
              "    </tr>\n",
              "    <tr>\n",
              "      <th>DEP_TIME</th>\n",
              "      <td>97424.0</td>\n",
              "      <td>1331.005738</td>\n",
              "      <td>498.864626</td>\n",
              "    </tr>\n",
              "    <tr>\n",
              "      <th>DEP_DELAY</th>\n",
              "      <td>97423.0</td>\n",
              "      <td>10.178007</td>\n",
              "      <td>49.398318</td>\n",
              "    </tr>\n",
              "    <tr>\n",
              "      <th>TAXI_OUT</th>\n",
              "      <td>97382.0</td>\n",
              "      <td>16.679992</td>\n",
              "      <td>9.170655</td>\n",
              "    </tr>\n",
              "    <tr>\n",
              "      <th>WHEELS_OFF</th>\n",
              "      <td>97382.0</td>\n",
              "      <td>1353.643661</td>\n",
              "      <td>500.4562</td>\n",
              "    </tr>\n",
              "    <tr>\n",
              "      <th>WHEELS_ON</th>\n",
              "      <td>97345.0</td>\n",
              "      <td>1463.905039</td>\n",
              "      <td>527.43063</td>\n",
              "    </tr>\n",
              "    <tr>\n",
              "      <th>TAXI_IN</th>\n",
              "      <td>97345.0</td>\n",
              "      <td>7.69529</td>\n",
              "      <td>6.481064</td>\n",
              "    </tr>\n",
              "    <tr>\n",
              "      <th>CRS_ARR_TIME</th>\n",
              "      <td>100000.0</td>\n",
              "      <td>1491.47112</td>\n",
              "      <td>512.569874</td>\n",
              "    </tr>\n",
              "    <tr>\n",
              "      <th>ARR_TIME</th>\n",
              "      <td>97345.0</td>\n",
              "      <td>1467.125523</td>\n",
              "      <td>532.513348</td>\n",
              "    </tr>\n",
              "    <tr>\n",
              "      <th>ARR_DELAY</th>\n",
              "      <td>97148.0</td>\n",
              "      <td>4.353759</td>\n",
              "      <td>51.360244</td>\n",
              "    </tr>\n",
              "  </tbody>\n",
              "</table>\n",
              "</div>\n",
              "    <div class=\"colab-df-buttons\">\n",
              "\n",
              "  <div class=\"colab-df-container\">\n",
              "    <button class=\"colab-df-convert\" onclick=\"convertToInteractive('df-e8a3dfee-2864-4f36-b637-3d8a43a6ef5f')\"\n",
              "            title=\"Convert this dataframe to an interactive table.\"\n",
              "            style=\"display:none;\">\n",
              "\n",
              "  <svg xmlns=\"http://www.w3.org/2000/svg\" height=\"24px\" viewBox=\"0 -960 960 960\">\n",
              "    <path d=\"M120-120v-720h720v720H120Zm60-500h600v-160H180v160Zm220 220h160v-160H400v160Zm0 220h160v-160H400v160ZM180-400h160v-160H180v160Zm440 0h160v-160H620v160ZM180-180h160v-160H180v160Zm440 0h160v-160H620v160Z\"/>\n",
              "  </svg>\n",
              "    </button>\n",
              "\n",
              "  <style>\n",
              "    .colab-df-container {\n",
              "      display:flex;\n",
              "      gap: 12px;\n",
              "    }\n",
              "\n",
              "    .colab-df-convert {\n",
              "      background-color: #E8F0FE;\n",
              "      border: none;\n",
              "      border-radius: 50%;\n",
              "      cursor: pointer;\n",
              "      display: none;\n",
              "      fill: #1967D2;\n",
              "      height: 32px;\n",
              "      padding: 0 0 0 0;\n",
              "      width: 32px;\n",
              "    }\n",
              "\n",
              "    .colab-df-convert:hover {\n",
              "      background-color: #E2EBFA;\n",
              "      box-shadow: 0px 1px 2px rgba(60, 64, 67, 0.3), 0px 1px 3px 1px rgba(60, 64, 67, 0.15);\n",
              "      fill: #174EA6;\n",
              "    }\n",
              "\n",
              "    .colab-df-buttons div {\n",
              "      margin-bottom: 4px;\n",
              "    }\n",
              "\n",
              "    [theme=dark] .colab-df-convert {\n",
              "      background-color: #3B4455;\n",
              "      fill: #D2E3FC;\n",
              "    }\n",
              "\n",
              "    [theme=dark] .colab-df-convert:hover {\n",
              "      background-color: #434B5C;\n",
              "      box-shadow: 0px 1px 3px 1px rgba(0, 0, 0, 0.15);\n",
              "      filter: drop-shadow(0px 1px 2px rgba(0, 0, 0, 0.3));\n",
              "      fill: #FFFFFF;\n",
              "    }\n",
              "  </style>\n",
              "\n",
              "    <script>\n",
              "      const buttonEl =\n",
              "        document.querySelector('#df-e8a3dfee-2864-4f36-b637-3d8a43a6ef5f button.colab-df-convert');\n",
              "      buttonEl.style.display =\n",
              "        google.colab.kernel.accessAllowed ? 'block' : 'none';\n",
              "\n",
              "      async function convertToInteractive(key) {\n",
              "        const element = document.querySelector('#df-e8a3dfee-2864-4f36-b637-3d8a43a6ef5f');\n",
              "        const dataTable =\n",
              "          await google.colab.kernel.invokeFunction('convertToInteractive',\n",
              "                                                    [key], {});\n",
              "        if (!dataTable) return;\n",
              "\n",
              "        const docLinkHtml = 'Like what you see? Visit the ' +\n",
              "          '<a target=\"_blank\" href=https://colab.research.google.com/notebooks/data_table.ipynb>data table notebook</a>'\n",
              "          + ' to learn more about interactive tables.';\n",
              "        element.innerHTML = '';\n",
              "        dataTable['output_type'] = 'display_data';\n",
              "        await google.colab.output.renderOutput(dataTable, element);\n",
              "        const docLink = document.createElement('div');\n",
              "        docLink.innerHTML = docLinkHtml;\n",
              "        element.appendChild(docLink);\n",
              "      }\n",
              "    </script>\n",
              "  </div>\n",
              "\n",
              "\n",
              "    <div id=\"df-a932dab4-0f9d-43a5-a1a0-e5c87ba6c42f\">\n",
              "      <button class=\"colab-df-quickchart\" onclick=\"quickchart('df-a932dab4-0f9d-43a5-a1a0-e5c87ba6c42f')\"\n",
              "                title=\"Suggest charts\"\n",
              "                style=\"display:none;\">\n",
              "\n",
              "<svg xmlns=\"http://www.w3.org/2000/svg\" height=\"24px\"viewBox=\"0 0 24 24\"\n",
              "     width=\"24px\">\n",
              "    <g>\n",
              "        <path d=\"M19 3H5c-1.1 0-2 .9-2 2v14c0 1.1.9 2 2 2h14c1.1 0 2-.9 2-2V5c0-1.1-.9-2-2-2zM9 17H7v-7h2v7zm4 0h-2V7h2v10zm4 0h-2v-4h2v4z\"/>\n",
              "    </g>\n",
              "</svg>\n",
              "      </button>\n",
              "\n",
              "<style>\n",
              "  .colab-df-quickchart {\n",
              "      --bg-color: #E8F0FE;\n",
              "      --fill-color: #1967D2;\n",
              "      --hover-bg-color: #E2EBFA;\n",
              "      --hover-fill-color: #174EA6;\n",
              "      --disabled-fill-color: #AAA;\n",
              "      --disabled-bg-color: #DDD;\n",
              "  }\n",
              "\n",
              "  [theme=dark] .colab-df-quickchart {\n",
              "      --bg-color: #3B4455;\n",
              "      --fill-color: #D2E3FC;\n",
              "      --hover-bg-color: #434B5C;\n",
              "      --hover-fill-color: #FFFFFF;\n",
              "      --disabled-bg-color: #3B4455;\n",
              "      --disabled-fill-color: #666;\n",
              "  }\n",
              "\n",
              "  .colab-df-quickchart {\n",
              "    background-color: var(--bg-color);\n",
              "    border: none;\n",
              "    border-radius: 50%;\n",
              "    cursor: pointer;\n",
              "    display: none;\n",
              "    fill: var(--fill-color);\n",
              "    height: 32px;\n",
              "    padding: 0;\n",
              "    width: 32px;\n",
              "  }\n",
              "\n",
              "  .colab-df-quickchart:hover {\n",
              "    background-color: var(--hover-bg-color);\n",
              "    box-shadow: 0 1px 2px rgba(60, 64, 67, 0.3), 0 1px 3px 1px rgba(60, 64, 67, 0.15);\n",
              "    fill: var(--button-hover-fill-color);\n",
              "  }\n",
              "\n",
              "  .colab-df-quickchart-complete:disabled,\n",
              "  .colab-df-quickchart-complete:disabled:hover {\n",
              "    background-color: var(--disabled-bg-color);\n",
              "    fill: var(--disabled-fill-color);\n",
              "    box-shadow: none;\n",
              "  }\n",
              "\n",
              "  .colab-df-spinner {\n",
              "    border: 2px solid var(--fill-color);\n",
              "    border-color: transparent;\n",
              "    border-bottom-color: var(--fill-color);\n",
              "    animation:\n",
              "      spin 1s steps(1) infinite;\n",
              "  }\n",
              "\n",
              "  @keyframes spin {\n",
              "    0% {\n",
              "      border-color: transparent;\n",
              "      border-bottom-color: var(--fill-color);\n",
              "      border-left-color: var(--fill-color);\n",
              "    }\n",
              "    20% {\n",
              "      border-color: transparent;\n",
              "      border-left-color: var(--fill-color);\n",
              "      border-top-color: var(--fill-color);\n",
              "    }\n",
              "    30% {\n",
              "      border-color: transparent;\n",
              "      border-left-color: var(--fill-color);\n",
              "      border-top-color: var(--fill-color);\n",
              "      border-right-color: var(--fill-color);\n",
              "    }\n",
              "    40% {\n",
              "      border-color: transparent;\n",
              "      border-right-color: var(--fill-color);\n",
              "      border-top-color: var(--fill-color);\n",
              "    }\n",
              "    60% {\n",
              "      border-color: transparent;\n",
              "      border-right-color: var(--fill-color);\n",
              "    }\n",
              "    80% {\n",
              "      border-color: transparent;\n",
              "      border-right-color: var(--fill-color);\n",
              "      border-bottom-color: var(--fill-color);\n",
              "    }\n",
              "    90% {\n",
              "      border-color: transparent;\n",
              "      border-bottom-color: var(--fill-color);\n",
              "    }\n",
              "  }\n",
              "</style>\n",
              "\n",
              "      <script>\n",
              "        async function quickchart(key) {\n",
              "          const quickchartButtonEl =\n",
              "            document.querySelector('#' + key + ' button');\n",
              "          quickchartButtonEl.disabled = true;  // To prevent multiple clicks.\n",
              "          quickchartButtonEl.classList.add('colab-df-spinner');\n",
              "          try {\n",
              "            const charts = await google.colab.kernel.invokeFunction(\n",
              "                'suggestCharts', [key], {});\n",
              "          } catch (error) {\n",
              "            console.error('Error during call to suggestCharts:', error);\n",
              "          }\n",
              "          quickchartButtonEl.classList.remove('colab-df-spinner');\n",
              "          quickchartButtonEl.classList.add('colab-df-quickchart-complete');\n",
              "        }\n",
              "        (() => {\n",
              "          let quickchartButtonEl =\n",
              "            document.querySelector('#df-a932dab4-0f9d-43a5-a1a0-e5c87ba6c42f button');\n",
              "          quickchartButtonEl.style.display =\n",
              "            google.colab.kernel.accessAllowed ? 'block' : 'none';\n",
              "        })();\n",
              "      </script>\n",
              "    </div>\n",
              "\n",
              "    </div>\n",
              "  </div>\n"
            ],
            "application/vnd.google.colaboratory.intrinsic+json": {
              "type": "dataframe",
              "summary": "{\n  \"name\": \"summary\",\n  \"rows\": 20,\n  \"fields\": [\n    {\n      \"column\": \"count\",\n      \"properties\": {\n        \"dtype\": \"date\",\n        \"min\": 97148.0,\n        \"max\": \"100000\",\n        \"num_unique_values\": 6,\n        \"samples\": [\n          \"100000\",\n          97424.0,\n          97148.0\n        ],\n        \"semantic_type\": \"\",\n        \"description\": \"\"\n      }\n    },\n    {\n      \"column\": \"mean\",\n      \"properties\": {\n        \"dtype\": \"date\",\n        \"min\": 4.35375921274756,\n        \"max\": 19977.25777,\n        \"num_unique_values\": 12,\n        \"samples\": [\n          1467.1255226257126,\n          1491.47112,\n          19977.25777\n        ],\n        \"semantic_type\": \"\",\n        \"description\": \"\"\n      }\n    },\n    {\n      \"column\": \"std\",\n      \"properties\": {\n        \"dtype\": \"date\",\n        \"min\": 6.481063812481051,\n        \"max\": 1745.6329196658799,\n        \"num_unique_values\": 12,\n        \"samples\": [\n          532.5133476198001,\n          512.5698744412501,\n          377.2231611894748\n        ],\n        \"semantic_type\": \"\",\n        \"description\": \"\"\n      }\n    }\n  ]\n}"
            }
          },
          "metadata": {},
          "execution_count": 36
        }
      ]
    },
    {
      "cell_type": "code",
      "source": [
        "# 06_parse_datetimes.py\n",
        "# Typical flight datasets have CRS_DEP_TIME, DEP_TIME, etc. which are HHMM integers.\n",
        "# We'll create a safe function to parse 'CRS_DEP_TIME' and date parts into datetimes.\n",
        "\n",
        "def hhmm_to_time(hhmm):\n",
        "    # accepts ints/floats/strings like 0, 30, 2359, '005', etc.\n",
        "    try:\n",
        "        hhmm = int(hhmm)\n",
        "    except (ValueError, TypeError):\n",
        "        return np.nan\n",
        "    hh = hhmm // 100\n",
        "    mm = hhmm % 100\n",
        "    if hh >= 24 or mm >= 60:\n",
        "        return np.nan\n",
        "    return f\"{hh:02d}:{mm:02d}\"\n",
        "\n",
        "# Example using YEAR, MONTH, DAY, CRS_DEP_TIME to build scheduled departure\n",
        "if {'YEAR','MONTH','DAY','CRS_DEP_TIME'}.issubset(df.columns):\n",
        "    sched_time_str = df['CRS_DEP_TIME'].apply(hhmm_to_time)\n",
        "    df['SCHEDULED_DEP'] = pd.to_datetime(df['YEAR'].astype(str) + '-' + df['MONTH'].astype(str).str.zfill(2) + '-' + df['DAY'].astype(str).str.zfill(2) + ' ' + sched_time_str, errors='coerce')\n",
        "    print(\"SCHEDULED_DEP example:\", df['SCHEDULED_DEP'].head())\n",
        "else:\n",
        "    print(\"Required columns for scheduled dep not present; please adjust column names.\")\n"
      ],
      "metadata": {
        "colab": {
          "base_uri": "https://localhost:8080/"
        },
        "id": "ALBppVeQNVpo",
        "outputId": "16890131-0346-4630-c90f-b366cafa2aa3"
      },
      "execution_count": 37,
      "outputs": [
        {
          "output_type": "stream",
          "name": "stdout",
          "text": [
            "Required columns for scheduled dep not present; please adjust column names.\n"
          ]
        }
      ]
    },
    {
      "cell_type": "code",
      "source": [
        "# 07_create_time_features.py\n",
        "# If SCHEDULED_DEP exists after previous step:\n",
        "if 'SCHEDULED_DEP' in df.columns:\n",
        "    df['month'] = df['SCHEDULED_DEP'].dt.month.astype('Int8')\n",
        "    df['day_of_week'] = df['SCHEDULED_DEP'].dt.dayofweek.astype('Int8')  # Monday=0\n",
        "    df['hour'] = df['SCHEDULED_DEP'].dt.hour.astype('Int8')\n",
        "    print(df[['SCHEDULED_DEP','month','day_of_week','hour']].head())\n",
        "else:\n",
        "    # fallback to existing MONTH and DAY_OF_WEEK columns\n",
        "    if 'MONTH' in df.columns:\n",
        "        df['month'] = df['MONTH'].astype('Int8')\n",
        "    if 'DAY_OF_WEEK' in df.columns:\n",
        "        df['day_of_week'] = df['DAY_OF_WEEK'].astype('Int8')\n"
      ],
      "metadata": {
        "id": "EO5f3NudNX9j"
      },
      "execution_count": 38,
      "outputs": []
    },
    {
      "cell_type": "code",
      "source": [
        "# 08_create_route.py\n",
        "if {'ORIGIN','DEST'}.issubset(df.columns):\n",
        "    df['route'] = df['ORIGIN'].astype(str) + \"_\" + df['DEST'].astype(str)\n",
        "    df['route_id'] = df['route'].astype('category').cat.codes.astype('int32')\n",
        "    print(df[['ORIGIN','DEST','route','route_id']].head())\n",
        "else:\n",
        "    print(\"ORIGIN/DEST columns missing; adjust column names.\")\n"
      ],
      "metadata": {
        "colab": {
          "base_uri": "https://localhost:8080/"
        },
        "id": "9bf8nfphNb_R",
        "outputId": "07b4bc6b-de10-4357-828a-bf5a29112b1d"
      },
      "execution_count": 39,
      "outputs": [
        {
          "output_type": "stream",
          "name": "stdout",
          "text": [
            "  ORIGIN DEST    route  route_id\n",
            "0    PGD  SPI  PGD_SPI      4660\n",
            "1    DFW  LAX  DFW_LAX      1738\n",
            "2    EWN  CLT  EWN_CLT      2058\n",
            "3    ABQ  DEN  ABQ_DEN        17\n",
            "4    PIT  STL  PIT_STL      4964\n"
          ]
        }
      ]
    },
    {
      "cell_type": "code",
      "source": [
        "# 09_handle_delays.py\n",
        "# We will treat arrival/departure delays: ARR_DELAY, DEP_DELAY commonly present.\n",
        "delay_cols = []\n",
        "for c in ['ARR_DELAY','DEP_DELAY','ARR_DELAY_NEW','DEP_DELAY_NEW','ARR_DELAY_MINUTES']:\n",
        "    if c in df.columns:\n",
        "        delay_cols.append(c)\n",
        "\n",
        "# Fill numeric nulls with 0 where appropriate and create flags\n",
        "for c in delay_cols:\n",
        "    df[c] = pd.to_numeric(df[c], errors='coerce')\n",
        "    df[c].fillna(0, inplace=True)\n",
        "# Flag for significant delay (>=15 min)\n",
        "if 'ARR_DELAY' in df.columns:\n",
        "    df['is_arr_delay_15'] = (df['ARR_DELAY'] >= 15).astype('int8')\n",
        "if 'DEP_DELAY' in df.columns:\n",
        "    df['is_dep_delay_15'] = (df['DEP_DELAY'] >= 15).astype('int8')\n",
        "\n",
        "print(\"Delay columns processed:\", delay_cols)\n"
      ],
      "metadata": {
        "colab": {
          "base_uri": "https://localhost:8080/"
        },
        "id": "eXiavCUeNe2i",
        "outputId": "fdbb6fc7-22a2-43ad-b4e2-17120aa7b3f0"
      },
      "execution_count": 40,
      "outputs": [
        {
          "output_type": "stream",
          "name": "stdout",
          "text": [
            "Delay columns processed: ['ARR_DELAY', 'DEP_DELAY']\n"
          ]
        },
        {
          "output_type": "stream",
          "name": "stderr",
          "text": [
            "/tmp/ipython-input-137270026.py:11: FutureWarning: A value is trying to be set on a copy of a DataFrame or Series through chained assignment using an inplace method.\n",
            "The behavior will change in pandas 3.0. This inplace method will never work because the intermediate object on which we are setting values always behaves as a copy.\n",
            "\n",
            "For example, when doing 'df[col].method(value, inplace=True)', try using 'df.method({col: value}, inplace=True)' or df[col] = df[col].method(value) instead, to perform the operation inplace on the original object.\n",
            "\n",
            "\n",
            "  df[c].fillna(0, inplace=True)\n"
          ]
        }
      ]
    },
    {
      "cell_type": "code",
      "source": [
        "# 10_cancellations.py\n",
        "# Many datasets have CANCELED (0/1) and CANCELLATION_CODE (A,B,C,D)\n",
        "if 'CANCELLED' in df.columns or 'CANCELED' in df.columns:\n",
        "    cancel_col = 'CANCELLED' if 'CANCELLED' in df.columns else 'CANCELED'\n",
        "    df['is_cancelled'] = df[cancel_col].fillna(0).astype('int8')\n",
        "else:\n",
        "    # sometimes DEP_DELAY == NaN and large indicator; but don't infer without column\n",
        "    df['is_cancelled'] = 0\n",
        "\n",
        "if 'CANCELLATION_CODE' in df.columns:\n",
        "    df['cancellation_code'] = df['CANCELLATION_CODE'].astype('category')\n",
        "else:\n",
        "    # create a placeholder column\n",
        "    df['cancellation_code'] = pd.Categorical(np.nan)\n",
        "print(\"Cancelled count:\", df['is_cancelled'].sum())\n"
      ],
      "metadata": {
        "colab": {
          "base_uri": "https://localhost:8080/"
        },
        "id": "SE1-ldksNiEQ",
        "outputId": "ae2daf78-062d-4635-efe1-856c9672d796"
      },
      "execution_count": 41,
      "outputs": [
        {
          "output_type": "stream",
          "name": "stdout",
          "text": [
            "Cancelled count: 2627\n"
          ]
        }
      ]
    },
    {
      "cell_type": "code",
      "source": [
        "# 11_time_of_day_bins.py\n",
        "def time_of_day(hour):\n",
        "    if pd.isna(hour):\n",
        "        return 'unknown'\n",
        "    hour = int(hour)\n",
        "    if 5 <= hour < 12:\n",
        "        return 'morning'\n",
        "    if 12 <= hour < 17:\n",
        "        return 'afternoon'\n",
        "    if 17 <= hour < 21:\n",
        "        return 'evening'\n",
        "    return 'night'\n",
        "\n",
        "# Extract hour from CRS_DEP_TIME\n",
        "if 'CRS_DEP_TIME' in df.columns:\n",
        "    df['hour'] = (df['CRS_DEP_TIME'] // 100).astype('Int8')\n",
        "    df['time_of_day'] = df['hour'].apply(lambda h: time_of_day(h) if not pd.isna(h) else 'unknown')\n",
        "    df['time_of_day'] = df['time_of_day'].astype('category')\n",
        "    print(df['time_of_day'].value_counts(dropna=False))\n",
        "else:\n",
        "    print(\"CRS_DEP_TIME column not found; cannot create time of day features.\")"
      ],
      "metadata": {
        "colab": {
          "base_uri": "https://localhost:8080/"
        },
        "id": "e7rsZgGJNlKs",
        "outputId": "22c4215b-02eb-4c0b-b8ce-5e21069e427c"
      },
      "execution_count": 42,
      "outputs": [
        {
          "output_type": "stream",
          "name": "stdout",
          "text": [
            "time_of_day\n",
            "morning      41243\n",
            "afternoon    30086\n",
            "evening      22114\n",
            "night         6557\n",
            "Name: count, dtype: int64\n"
          ]
        }
      ]
    },
    {
      "cell_type": "code",
      "source": [
        "# 12_downcast_numerics.py\n",
        "def downcast_nums(df_in):\n",
        "    for col in df_in.select_dtypes(include=['int64','float64']).columns:\n",
        "        col_min = df_in[col].min(skipna=True)\n",
        "        col_max = df_in[col].max(skipna=True)\n",
        "        if pd.api.types.is_integer_dtype(df_in[col].dropna()):\n",
        "            df_in[col] = pd.to_numeric(df_in[col], downcast='integer')\n",
        "        else:\n",
        "            df_in[col] = pd.to_numeric(df_in[col], downcast='float')\n",
        "    return df_in\n",
        "\n",
        "df = downcast_nums(df)\n",
        "df.info()\n"
      ],
      "metadata": {
        "colab": {
          "base_uri": "https://localhost:8080/"
        },
        "id": "Hjr2fxBuNt6r",
        "outputId": "7fd2c2be-33b3-4010-9ff6-8ef5b0656d46"
      },
      "execution_count": 43,
      "outputs": [
        {
          "output_type": "stream",
          "name": "stdout",
          "text": [
            "<class 'pandas.core.frame.DataFrame'>\n",
            "RangeIndex: 100000 entries, 0 to 99999\n",
            "Data columns (total 40 columns):\n",
            " #   Column                   Non-Null Count   Dtype   \n",
            "---  ------                   --------------   -----   \n",
            " 0   FL_DATE                  100000 non-null  object  \n",
            " 1   AIRLINE                  100000 non-null  object  \n",
            " 2   AIRLINE_DOT              100000 non-null  object  \n",
            " 3   AIRLINE_CODE             100000 non-null  object  \n",
            " 4   DOT_CODE                 100000 non-null  int16   \n",
            " 5   FL_NUMBER                100000 non-null  int16   \n",
            " 6   ORIGIN                   100000 non-null  category\n",
            " 7   ORIGIN_CITY              100000 non-null  object  \n",
            " 8   DEST                     100000 non-null  category\n",
            " 9   DEST_CITY                100000 non-null  object  \n",
            " 10  CRS_DEP_TIME             100000 non-null  int16   \n",
            " 11  DEP_TIME                 97424 non-null   float32 \n",
            " 12  DEP_DELAY                100000 non-null  float32 \n",
            " 13  TAXI_OUT                 97382 non-null   float32 \n",
            " 14  WHEELS_OFF               97382 non-null   float32 \n",
            " 15  WHEELS_ON                97345 non-null   float32 \n",
            " 16  TAXI_IN                  97345 non-null   float32 \n",
            " 17  CRS_ARR_TIME             100000 non-null  int16   \n",
            " 18  ARR_TIME                 97345 non-null   float32 \n",
            " 19  ARR_DELAY                100000 non-null  float32 \n",
            " 20  CANCELLED                100000 non-null  float32 \n",
            " 21  CANCELLATION_CODE        2627 non-null    object  \n",
            " 22  DIVERTED                 100000 non-null  float32 \n",
            " 23  CRS_ELAPSED_TIME         100000 non-null  float32 \n",
            " 24  ELAPSED_TIME             97148 non-null   float32 \n",
            " 25  AIR_TIME                 97148 non-null   float32 \n",
            " 26  DISTANCE                 100000 non-null  float32 \n",
            " 27  DELAY_DUE_CARRIER        17992 non-null   float32 \n",
            " 28  DELAY_DUE_WEATHER        17992 non-null   float32 \n",
            " 29  DELAY_DUE_NAS            17992 non-null   float32 \n",
            " 30  DELAY_DUE_SECURITY       17992 non-null   float32 \n",
            " 31  DELAY_DUE_LATE_AIRCRAFT  17992 non-null   float32 \n",
            " 32  route                    100000 non-null  object  \n",
            " 33  route_id                 100000 non-null  int32   \n",
            " 34  is_arr_delay_15          100000 non-null  int8    \n",
            " 35  is_dep_delay_15          100000 non-null  int8    \n",
            " 36  is_cancelled             100000 non-null  int8    \n",
            " 37  cancellation_code        2627 non-null    category\n",
            " 38  hour                     100000 non-null  Int8    \n",
            " 39  time_of_day              100000 non-null  category\n",
            "dtypes: Int8(1), category(4), float32(19), int16(4), int32(1), int8(3), object(8)\n",
            "memory usage: 15.6+ MB\n"
          ]
        }
      ]
    },
    {
      "cell_type": "code",
      "source": [
        "# 13_drop_duplicates.py\n",
        "before = df.shape[0]\n",
        "df = df.drop_duplicates()\n",
        "after = df.shape[0]\n",
        "print(f\"Dropped {before-after} duplicate rows. New shape: {df.shape}\")\n"
      ],
      "metadata": {
        "colab": {
          "base_uri": "https://localhost:8080/"
        },
        "id": "3Nvi4XpYNvHw",
        "outputId": "a082c089-7cbc-4a13-a046-9529d6bb8c43"
      },
      "execution_count": 44,
      "outputs": [
        {
          "output_type": "stream",
          "name": "stdout",
          "text": [
            "Dropped 0 duplicate rows. New shape: (100000, 40)\n"
          ]
        }
      ]
    },
    {
      "cell_type": "code",
      "source": [
        "# 14_compute_delay_minutes.py\n",
        "# If both scheduled and actual departure datetimes exist, compute minutes difference\n",
        "if {'SCHEDULED_DEP','DEP_TIME'}.issubset(df.columns):\n",
        "    # convert DEP_TIME similar to CRS_DEP_TIME -> actual dep datetime (if available)\n",
        "    actual_times = df['DEP_TIME'].apply(hhmm_to_time)\n",
        "    df['ACTUAL_DEP'] = pd.to_datetime(df['YEAR'].astype(str) + '-' + df['MONTH'].astype(str).str.zfill(2) + '-' + df['DAY'].astype(str).str.zfill(2) + ' ' + actual_times, errors='coerce')\n",
        "    df['dep_delay_minutes_calc'] = (df['ACTUAL_DEP'] - df['SCHEDULED_DEP']).dt.total_seconds() / 60\n",
        "    # If ARR_DELAY exists, compare and fill where missing\n",
        "    if 'DEP_DELAY' in df.columns:\n",
        "        df['DEP_DELAY'] = df['DEP_DELAY'].fillna(df['dep_delay_minutes_calc']).astype('float32')\n"
      ],
      "metadata": {
        "id": "w5zmdlXFNxFf"
      },
      "execution_count": 45,
      "outputs": []
    },
    {
      "cell_type": "code",
      "source": [
        "# 15_route_rolling_delay.py\n",
        "# Sort by route and scheduled departure to compute rolling metrics\n",
        "if 'route' in df.columns and 'SCHEDULED_DEP' in df.columns and 'ARR_DELAY' in df.columns:\n",
        "    df = df.sort_values(['route','SCHEDULED_DEP'])\n",
        "    # rolling mean of last 5 flights on same route\n",
        "    df['route_delay_roll5'] = df.groupby('route')['ARR_DELAY'].rolling(5, min_periods=1).mean().reset_index(level=0, drop=True).astype('float32')\n",
        "    print(\"route_delay_roll5 example:\\n\", df[['route','SCHEDULED_DEP','ARR_DELAY','route_delay_roll5']].head(10))\n"
      ],
      "metadata": {
        "id": "pioEDXl8NzKS"
      },
      "execution_count": 46,
      "outputs": []
    },
    {
      "cell_type": "code",
      "source": [
        "# 16_categorical_encoding.py\n",
        "# Example: frequency encoding for ORIGIN and DEST (simple numeric feature)\n",
        "for col in ['ORIGIN','DEST','OP_CARRIER']:\n",
        "    if col in df.columns:\n",
        "        freq = df[col].value_counts(normalize=True)\n",
        "        df[f'{col}_freq'] = df[col].map(freq).astype('float32')\n",
        "# Example label encoding via category codes for model-ready features\n",
        "for col in ['ORIGIN','DEST','OP_CARRIER','time_of_day']:\n",
        "    if col in df.columns:\n",
        "        df[f'{col}_code'] = df[col].astype('category').cat.codes.astype('int32')\n",
        "print(\"Added frequency and code features for origin/dest/carrier\")\n"
      ],
      "metadata": {
        "colab": {
          "base_uri": "https://localhost:8080/"
        },
        "id": "JsViryFQN0-K",
        "outputId": "4bcdebcf-514c-4137-bef6-3a95c4d7d16c"
      },
      "execution_count": 47,
      "outputs": [
        {
          "output_type": "stream",
          "name": "stdout",
          "text": [
            "Added frequency and code features for origin/dest/carrier\n"
          ]
        }
      ]
    },
    {
      "cell_type": "code",
      "source": [
        "# 17_qa_checks.py\n",
        "# Check negative scheduled elapsed times, implausible hours, and flights spanning > 24h\n",
        "anomalies = {}\n",
        "if 'ARR_DELAY' in df.columns:\n",
        "    anomalies['neg_arr_delay_count'] = (df['ARR_DELAY'] < -1000).sum()  # unrealistic extreme\n",
        "if 'hour' in df.columns:\n",
        "    anomalies['invalid_hours'] = df[~df['hour'].between(0,23, inclusive='both')].shape[0]\n",
        "if 'dep_delay_minutes_calc' in df.columns:\n",
        "    anomalies['huge_calc_delays'] = (df['dep_delay_minutes_calc'].abs() > 24*60).sum()\n",
        "print(\"Anomalies summary:\", anomalies)"
      ],
      "metadata": {
        "colab": {
          "base_uri": "https://localhost:8080/"
        },
        "id": "9893a0ooN3RB",
        "outputId": "9c931e1e-6cf8-4171-da56-cb676d593990"
      },
      "execution_count": 48,
      "outputs": [
        {
          "output_type": "stream",
          "name": "stdout",
          "text": [
            "Anomalies summary: {'neg_arr_delay_count': np.int64(0), 'invalid_hours': 0}\n"
          ]
        }
      ]
    },
    {
      "cell_type": "code",
      "source": [
        "# 18_create_sample_for_dev.py\n",
        "sample_df = df.sample(frac=0.01, random_state=42)  # 1% sample for fast plotting/iteration\n",
        "print(\"Sample shape:\", sample_df.shape)\n",
        "print(sample_df.head(5).to_string())\n",
        "# If you want to persist locally for reuse:\n",
        "# sample_df.to_parquet(\"/mnt/data/flights_sample_1pct.parquet\", index=False)\n"
      ],
      "metadata": {
        "colab": {
          "base_uri": "https://localhost:8080/"
        },
        "id": "qlwesJaKOBv8",
        "outputId": "bb8ffb72-5fec-4af2-95a6-3421ba35b8f2"
      },
      "execution_count": 49,
      "outputs": [
        {
          "output_type": "stream",
          "name": "stdout",
          "text": [
            "Sample shape: (1000, 45)\n",
            "          FL_DATE                 AIRLINE                 AIRLINE_DOT AIRLINE_CODE  DOT_CODE  FL_NUMBER ORIGIN   ORIGIN_CITY DEST              DEST_CITY  CRS_DEP_TIME  DEP_TIME  DEP_DELAY  TAXI_OUT  WHEELS_OFF  WHEELS_ON  TAXI_IN  CRS_ARR_TIME  ARR_TIME  ARR_DELAY  CANCELLED CANCELLATION_CODE  DIVERTED  CRS_ELAPSED_TIME  ELAPSED_TIME  AIR_TIME  DISTANCE  DELAY_DUE_CARRIER  DELAY_DUE_WEATHER  DELAY_DUE_NAS  DELAY_DUE_SECURITY  DELAY_DUE_LATE_AIRCRAFT    route  route_id  is_arr_delay_15  is_dep_delay_15  is_cancelled cancellation_code  hour time_of_day  ORIGIN_freq  DEST_freq  ORIGIN_code  DEST_code  time_of_day_code\n",
            "75721  2022-09-29         JetBlue Airways         JetBlue Airways: B6           B6     20409       1118    JFK  New York, NY  BOS             Boston, MA          1530    1531.0        1.0      14.0      1545.0     1627.0     19.0          1653    1646.0       -7.0        0.0               NaN       0.0              83.0          75.0      42.0     187.0                NaN                NaN            NaN                 NaN                      NaN  JFK_BOS      2964                0                0             0               NaN    15   afternoon      0.01683    0.01896          163         43                 0\n",
            "80184  2020-12-13  American Airlines Inc.  American Airlines Inc.: AA           AA     19805       2511    PHX   Phoenix, AZ  DEN             Denver, CO          1037    1107.0       30.0      13.0      1120.0     1247.0     10.0          1239    1257.0       18.0        0.0               NaN       0.0             122.0         110.0      87.0     602.0                0.0                0.0            0.0                 0.0                     18.0  PHX_DEN      4782                1                1             0               NaN    10     morning      0.02460    0.03956          244         88                 2\n",
            "19864  2023-08-06  Hawaiian Airlines Inc.  Hawaiian Airlines Inc.: HA           HA     19690        330    OGG   Kahului, HI  KOA               Kona, HI          1255    1255.0        0.0       9.0      1304.0     1325.0      6.0          1331    1331.0        0.0        0.0               NaN       0.0              36.0          36.0      21.0      84.0                NaN                NaN            NaN                 NaN                      NaN  OGG_KOA      4218                0                0             0               NaN    12   afternoon      0.00406    0.00204          225        172                 0\n",
            "76699  2019-04-21   United Air Lines Inc.   United Air Lines Inc.: UA           UA     19977        698    SEA   Seattle, WA  SFO      San Francisco, CA           950     939.0      -11.0      21.0      1000.0     1131.0      5.0          1208    1136.0      -32.0        0.0               NaN       0.0             138.0         117.0      91.0     679.0                NaN                NaN            NaN                 NaN                      NaN  SEA_SFO      5549                0                0             0               NaN     9     morning      0.02451    0.02000          286        287                 2\n",
            "92991  2022-08-22  American Airlines Inc.  American Airlines Inc.: AA           AA     19805       2638    ORF   Norfolk, VA  DFW  Dallas/Fort Worth, TX          1715    1750.0       35.0      13.0      1803.0     1954.0     21.0          1932    2015.0       43.0        0.0               NaN       0.0             197.0         205.0     171.0    1212.0                0.0                0.0            8.0                 0.0                     35.0  ORF_DFW      4505                1                1             0               NaN    17     evening      0.00312    0.04239          232         89                 1\n"
          ]
        }
      ]
    },
    {
      "cell_type": "code",
      "source": [
        "# 19_save_cleaned.py\n",
        "# Note: saving is optional; your instruction asked outputs in chat only. This is a recommended step.\n",
        "import os\n",
        "clean_path = \"/mnt/data/flights_cleaned_week2.parquet\"\n",
        "# Create the directory if it doesn't exist\n",
        "os.makedirs(os.path.dirname(clean_path), exist_ok=True)\n",
        "df.to_parquet(clean_path, index=False)\n",
        "print(\"Saved cleaned parquet to:\", clean_path)"
      ],
      "metadata": {
        "colab": {
          "base_uri": "https://localhost:8080/"
        },
        "id": "qlDwS2KWOEnR",
        "outputId": "1633eca2-2197-4562-d4ed-70c3f9feb36d"
      },
      "execution_count": 50,
      "outputs": [
        {
          "output_type": "stream",
          "name": "stdout",
          "text": [
            "Saved cleaned parquet to: /mnt/data/flights_cleaned_week2.parquet\n"
          ]
        }
      ]
    },
    {
      "cell_type": "code",
      "source": [
        "# 20_summary_functions.py\n",
        "def top_n_counts(df, col, n=10):\n",
        "    if col in df.columns:\n",
        "        return df[col].value_counts().head(n)\n",
        "    return pd.Series([])\n",
        "\n",
        "# Example usage:\n",
        "print(\"Top origin airports:\\n\", top_n_counts(df, 'ORIGIN', 10))\n",
        "print(\"Top carriers:\\n\", top_n_counts(df, 'OP_CARRIER', 10))\n"
      ],
      "metadata": {
        "colab": {
          "base_uri": "https://localhost:8080/"
        },
        "id": "tzjCvIYHOLJp",
        "outputId": "1e53901d-23e7-4308-9de2-71a90d245683"
      },
      "execution_count": 51,
      "outputs": [
        {
          "output_type": "stream",
          "name": "stdout",
          "text": [
            "Top origin airports:\n",
            " ORIGIN\n",
            "ATL    5099\n",
            "DFW    4444\n",
            "ORD    4053\n",
            "DEN    3886\n",
            "CLT    3110\n",
            "LAX    2866\n",
            "PHX    2460\n",
            "SEA    2451\n",
            "LAS    2391\n",
            "IAH    2180\n",
            "Name: count, dtype: int64\n",
            "Top carriers:\n",
            " Series([], dtype: object)\n"
          ]
        }
      ]
    },
    {
      "cell_type": "code",
      "source": [
        "# 21_carrier_avg_delays.py\n",
        "if {'OP_CARRIER','ARR_DELAY'}.issubset(df.columns):\n",
        "    carrier_delay = df.groupby('OP_CARRIER')['ARR_DELAY'].mean().sort_values(ascending=False)\n",
        "    print(\"Carrier-level average arrival delay:\\n\", carrier_delay.head(10))\n"
      ],
      "metadata": {
        "id": "13ce6a0NOSl4"
      },
      "execution_count": 52,
      "outputs": []
    },
    {
      "cell_type": "code",
      "source": [
        "# 22_route_delay_stats.py\n",
        "if {'route','ARR_DELAY'}.issubset(df.columns):\n",
        "    route_stats = df.groupby('route')['ARR_DELAY'].agg(['mean','count']).sort_values('mean', ascending=False)\n",
        "    print(route_stats.head(10))\n"
      ],
      "metadata": {
        "colab": {
          "base_uri": "https://localhost:8080/"
        },
        "id": "2toRrlseOXSm",
        "outputId": "3c829e75-b5f1-40be-8f54-b2abfd68ad16"
      },
      "execution_count": 53,
      "outputs": [
        {
          "output_type": "stream",
          "name": "stdout",
          "text": [
            "                mean  count\n",
            "route                      \n",
            "FCA_LGA  1520.000000      1\n",
            "RFD_SFB   595.000000      2\n",
            "BUF_MSP   474.000000      2\n",
            "SMF_HOU   408.000000      1\n",
            "AZA_GTF   339.000000      1\n",
            "RIC_PHL   324.000000      1\n",
            "EWR_VPS   315.000000      1\n",
            "GSO_PHL   307.333344      3\n",
            "GTF_AZA   279.000000      1\n",
            "MLI_PIE   278.333344      3\n"
          ]
        }
      ]
    },
    {
      "cell_type": "code",
      "source": [
        "# 23_carrier_cancellations.py\n",
        "if {'OP_CARRIER','is_cancelled'}.issubset(df.columns):\n",
        "    cancel_rate = df.groupby('OP_CARRIER')['is_cancelled'].mean().sort_values(ascending=False)\n",
        "    print(\"Cancellation rates:\\n\", cancel_rate.head(10))\n"
      ],
      "metadata": {
        "id": "f_G7hVWCOaP3"
      },
      "execution_count": 54,
      "outputs": []
    },
    {
      "cell_type": "code",
      "source": [
        "# 24_cancel_reasons.py\n",
        "if 'cancellation_code' in df.columns:\n",
        "    print(\"Cancellation reasons:\\n\", df['cancellation_code'].value_counts(dropna=False))\n"
      ],
      "metadata": {
        "colab": {
          "base_uri": "https://localhost:8080/"
        },
        "id": "BxBoeaVPObn3",
        "outputId": "39b633be-0bbd-444e-b17a-15dfcee5c6b3"
      },
      "execution_count": 55,
      "outputs": [
        {
          "output_type": "stream",
          "name": "stdout",
          "text": [
            "Cancellation reasons:\n",
            " cancellation_code\n",
            "NaN    97373\n",
            "B        930\n",
            "D        827\n",
            "A        671\n",
            "C        199\n",
            "Name: count, dtype: int64\n"
          ]
        }
      ]
    },
    {
      "cell_type": "code",
      "source": [
        "# 25_hourly_delays.py\n",
        "if {'hour','ARR_DELAY'}.issubset(df.columns):\n",
        "    hour_delay = df.groupby('hour')['ARR_DELAY'].mean()\n",
        "    print(\"Avg arrival delay by hour:\\n\", hour_delay)\n"
      ],
      "metadata": {
        "colab": {
          "base_uri": "https://localhost:8080/"
        },
        "id": "4oNJKhSOOcs2",
        "outputId": "02d9f9a2-5355-4342-d59f-43d33c3b3712"
      },
      "execution_count": 56,
      "outputs": [
        {
          "output_type": "stream",
          "name": "stdout",
          "text": [
            "Avg arrival delay by hour:\n",
            " hour\n",
            "0      9.527950\n",
            "1      9.531646\n",
            "2     11.741936\n",
            "3     -1.333333\n",
            "4      0.666667\n",
            "5     -2.851904\n",
            "6     -2.173096\n",
            "7     -1.046254\n",
            "8     -1.279639\n",
            "9     -0.602420\n",
            "10     1.226007\n",
            "11     0.709528\n",
            "12     1.510026\n",
            "13     5.112010\n",
            "14     5.468344\n",
            "15     6.451538\n",
            "16     9.145147\n",
            "17     8.319843\n",
            "18    11.313490\n",
            "19    11.137645\n",
            "20     9.306370\n",
            "21    10.226727\n",
            "22    10.949877\n",
            "23     5.970706\n",
            "Name: ARR_DELAY, dtype: float32\n"
          ]
        }
      ]
    },
    {
      "cell_type": "code",
      "source": [
        "# 26_dow_delays.py\n",
        "if {'day_of_week','ARR_DELAY'}.issubset(df.columns):\n",
        "    dow_delay = df.groupby('day_of_week')['ARR_DELAY'].mean()\n",
        "    print(\"Avg arrival delay by weekday (0=Mon):\\n\", dow_delay)\n"
      ],
      "metadata": {
        "id": "9tCI3o4bOd7v"
      },
      "execution_count": 57,
      "outputs": []
    },
    {
      "cell_type": "code",
      "source": [
        "# 27_top_origins.py\n",
        "if 'ORIGIN' in df.columns:\n",
        "    print(\"Top origin airports:\\n\", df['ORIGIN'].value_counts().head(10))\n"
      ],
      "metadata": {
        "colab": {
          "base_uri": "https://localhost:8080/"
        },
        "id": "7P-qSM3iOfrM",
        "outputId": "0aae904c-ed42-415d-c0ad-04a0ff7cfcdf"
      },
      "execution_count": 58,
      "outputs": [
        {
          "output_type": "stream",
          "name": "stdout",
          "text": [
            "Top origin airports:\n",
            " ORIGIN\n",
            "ATL    5099\n",
            "DFW    4444\n",
            "ORD    4053\n",
            "DEN    3886\n",
            "CLT    3110\n",
            "LAX    2866\n",
            "PHX    2460\n",
            "SEA    2451\n",
            "LAS    2391\n",
            "IAH    2180\n",
            "Name: count, dtype: int64\n"
          ]
        }
      ]
    },
    {
      "cell_type": "code",
      "source": [
        "# 28_top_destinations.py\n",
        "if 'DEST' in df.columns:\n",
        "    print(\"Top destination airports:\\n\", df['DEST'].value_counts().head(10))\n"
      ],
      "metadata": {
        "colab": {
          "base_uri": "https://localhost:8080/"
        },
        "id": "-HPOX-CgOqDm",
        "outputId": "f609eb49-91d6-4eaa-a246-e659f4744f65"
      },
      "execution_count": 59,
      "outputs": [
        {
          "output_type": "stream",
          "name": "stdout",
          "text": [
            "Top destination airports:\n",
            " DEST\n",
            "ATL    5095\n",
            "DFW    4239\n",
            "ORD    4157\n",
            "DEN    3956\n",
            "CLT    3269\n",
            "LAX    2804\n",
            "PHX    2628\n",
            "LAS    2413\n",
            "SEA    2323\n",
            "MCO    2171\n",
            "Name: count, dtype: int64\n"
          ]
        }
      ]
    },
    {
      "cell_type": "code",
      "source": [
        "# 29_seasonal_counts.py\n",
        "if 'month' in df.columns:\n",
        "    month_counts = df['month'].value_counts().sort_index()\n",
        "    print(\"Flights per month:\\n\", month_counts)\n"
      ],
      "metadata": {
        "id": "RKAEuzFtOrPZ"
      },
      "execution_count": 60,
      "outputs": []
    },
    {
      "cell_type": "code",
      "source": [
        "# 30_dow_counts.py\n",
        "if 'day_of_week' in df.columns:\n",
        "    dow_counts = df['day_of_week'].value_counts().sort_index()\n",
        "    print(\"Flights per weekday (0=Mon):\\n\", dow_counts)\n"
      ],
      "metadata": {
        "id": "tHATtCsqOsjN"
      },
      "execution_count": 61,
      "outputs": []
    },
    {
      "cell_type": "code",
      "source": [
        "# 31_flights_per_carrier.py\n",
        "if 'OP_CARRIER' in df.columns:\n",
        "    carrier_counts = df['OP_CARRIER'].value_counts()\n",
        "    print(\"Flights per carrier:\\n\", carrier_counts.head(10))\n"
      ],
      "metadata": {
        "id": "ywN3Caa9Otqk"
      },
      "execution_count": 62,
      "outputs": []
    },
    {
      "cell_type": "code",
      "source": [
        "# 32_avg_distance_by_carrier.py\n",
        "if {'OP_CARRIER','DISTANCE'}.issubset(df.columns):\n",
        "    dist_carrier = df.groupby('OP_CARRIER')['DISTANCE'].mean()\n",
        "    print(\"Average distance by carrier:\\n\", dist_carrier.head(10))\n"
      ],
      "metadata": {
        "id": "8zvMzGNPOvEa"
      },
      "execution_count": 63,
      "outputs": []
    },
    {
      "cell_type": "code",
      "source": [
        "# 33_avg_distance_by_route.py\n",
        "if {'route','DISTANCE'}.issubset(df.columns):\n",
        "    dist_route = df.groupby('route')['DISTANCE'].mean().sort_values(ascending=False)\n",
        "    print(\"Longest average routes:\\n\", dist_route.head(10))\n"
      ],
      "metadata": {
        "colab": {
          "base_uri": "https://localhost:8080/"
        },
        "id": "kn9hZC80OwAi",
        "outputId": "6d9e9711-42f3-4392-f4fd-6a330177b583"
      },
      "execution_count": 64,
      "outputs": [
        {
          "output_type": "stream",
          "name": "stdout",
          "text": [
            "Longest average routes:\n",
            " route\n",
            "GUM_SFO    5812.0\n",
            "BOS_HNL    5095.0\n",
            "HNL_BOS    5095.0\n",
            "HNL_JFK    4983.0\n",
            "JFK_HNL    4983.0\n",
            "HNL_EWR    4962.0\n",
            "EWR_HNL    4962.0\n",
            "OGG_EWR    4904.0\n",
            "EWR_OGG    4904.0\n",
            "IAD_HNL    4817.0\n",
            "Name: DISTANCE, dtype: float32\n"
          ]
        }
      ]
    },
    {
      "cell_type": "code",
      "source": [
        "# 34_dep_arr_correlation.py\n",
        "if {'DEP_DELAY','ARR_DELAY'}.issubset(df.columns):\n",
        "    corr = df[['DEP_DELAY','ARR_DELAY']].corr()\n",
        "    print(\"Correlation between departure and arrival delays:\\n\", corr)\n"
      ],
      "metadata": {
        "colab": {
          "base_uri": "https://localhost:8080/"
        },
        "id": "dLzqgzTQOw2q",
        "outputId": "f6407ed6-840f-4ab9-b961-dfaabf6b5981"
      },
      "execution_count": 65,
      "outputs": [
        {
          "output_type": "stream",
          "name": "stdout",
          "text": [
            "Correlation between departure and arrival delays:\n",
            "            DEP_DELAY  ARR_DELAY\n",
            "DEP_DELAY   1.000000   0.958144\n",
            "ARR_DELAY   0.958144   1.000000\n"
          ]
        }
      ]
    },
    {
      "cell_type": "code",
      "source": [
        "# 35_median_carrier_delay.py\n",
        "if {'OP_CARRIER','ARR_DELAY'}.issubset(df.columns):\n",
        "    med_delays = df.groupby('OP_CARRIER')['ARR_DELAY'].median()\n",
        "    print(\"Median delays per carrier:\\n\", med_delays.head(10))\n"
      ],
      "metadata": {
        "id": "fwuFrFHaOx0J"
      },
      "execution_count": 66,
      "outputs": []
    },
    {
      "cell_type": "code",
      "source": [
        "# 36_pct_delay_carrier.py\n",
        "if {'OP_CARRIER','is_arr_delay_15'}.issubset(df.columns):\n",
        "    pct_delay = df.groupby('OP_CARRIER')['is_arr_delay_15'].mean() * 100\n",
        "    print(\"Pct flights delayed >=15min per carrier:\\n\", pct_delay.head(10))\n"
      ],
      "metadata": {
        "id": "48DyiHz4O0hA"
      },
      "execution_count": 67,
      "outputs": []
    },
    {
      "cell_type": "code",
      "source": [
        "# 37_pct_delay_route.py\n",
        "if {'route','is_arr_delay_15'}.issubset(df.columns):\n",
        "    pct_delay_route = df.groupby('route')['is_arr_delay_15'].mean().sort_values(ascending=False) * 100\n",
        "    print(\"Pct delayed flights by route:\\n\", pct_delay_route.head(10))\n"
      ],
      "metadata": {
        "colab": {
          "base_uri": "https://localhost:8080/"
        },
        "id": "BYVeLVtVO0df",
        "outputId": "75e25495-3fec-426e-839b-e52f8ba3acaf"
      },
      "execution_count": 68,
      "outputs": [
        {
          "output_type": "stream",
          "name": "stdout",
          "text": [
            "Pct delayed flights by route:\n",
            " route\n",
            "EWR_ANC    100.0\n",
            "VPS_DCA    100.0\n",
            "TVC_DFW    100.0\n",
            "TVC_PIE    100.0\n",
            "VPS_DAY    100.0\n",
            "TYS_LAS    100.0\n",
            "UIN_ORD    100.0\n",
            "VPS_AUS    100.0\n",
            "VPS_BWI    100.0\n",
            "EWR_ACK    100.0\n",
            "Name: is_arr_delay_15, dtype: float64\n"
          ]
        }
      ]
    },
    {
      "cell_type": "code",
      "source": [
        "# 38_tod_counts.py\n",
        "if 'time_of_day' in df.columns:\n",
        "    print(\"Flights by time of day:\\n\", df['time_of_day'].value_counts())\n"
      ],
      "metadata": {
        "colab": {
          "base_uri": "https://localhost:8080/"
        },
        "id": "IUUHBkc7O0bU",
        "outputId": "972cba73-87f9-4778-8549-21de5e3cc6c4"
      },
      "execution_count": 69,
      "outputs": [
        {
          "output_type": "stream",
          "name": "stdout",
          "text": [
            "Flights by time of day:\n",
            " time_of_day\n",
            "morning      41243\n",
            "afternoon    30086\n",
            "evening      22114\n",
            "night         6557\n",
            "Name: count, dtype: int64\n"
          ]
        }
      ]
    },
    {
      "cell_type": "code",
      "source": [
        "# 39_tod_avg_delays.py\n",
        "if {'time_of_day','ARR_DELAY'}.issubset(df.columns):\n",
        "    tod_delay = df.groupby('time_of_day')['ARR_DELAY'].mean()\n",
        "    print(\"Average arrival delay by time of day:\\n\", tod_delay)\n"
      ],
      "metadata": {
        "colab": {
          "base_uri": "https://localhost:8080/"
        },
        "id": "3Qsn9towO0ZI",
        "outputId": "88f60e51-08bf-4460-8d97-4b26e9a559b1"
      },
      "execution_count": 70,
      "outputs": [
        {
          "output_type": "stream",
          "name": "stdout",
          "text": [
            "Average arrival delay by time of day:\n",
            " time_of_day\n",
            "afternoon    5.489563\n",
            "evening      9.994122\n",
            "morning     -0.691366\n",
            "night        9.959433\n",
            "Name: ARR_DELAY, dtype: float32\n"
          ]
        },
        {
          "output_type": "stream",
          "name": "stderr",
          "text": [
            "/tmp/ipython-input-2419048857.py:3: FutureWarning: The default of observed=False is deprecated and will be changed to True in a future version of pandas. Pass observed=False to retain current behavior or observed=True to adopt the future default and silence this warning.\n",
            "  tod_delay = df.groupby('time_of_day')['ARR_DELAY'].mean()\n"
          ]
        }
      ]
    },
    {
      "cell_type": "code",
      "source": [
        "# 40_busiest_routes.py\n",
        "if 'route' in df.columns:\n",
        "    busiest = df['route'].value_counts().head(10)\n",
        "    print(\"Busiest routes:\\n\", busiest)\n"
      ],
      "metadata": {
        "colab": {
          "base_uri": "https://localhost:8080/"
        },
        "id": "wblVhMH1O0Wr",
        "outputId": "110789dc-1f47-4044-ee5e-27f78b356ed8"
      },
      "execution_count": 71,
      "outputs": [
        {
          "output_type": "stream",
          "name": "stdout",
          "text": [
            "Busiest routes:\n",
            " route\n",
            "LAX_SFO    206\n",
            "SFO_LAX    188\n",
            "DCA_BOS    159\n",
            "LAX_LAS    156\n",
            "JFK_LAX    156\n",
            "OGG_HNL    152\n",
            "ORD_LGA    149\n",
            "LAS_LAX    148\n",
            "LAX_JFK    147\n",
            "LGA_ORD    145\n",
            "Name: count, dtype: int64\n"
          ]
        }
      ]
    },
    {
      "cell_type": "code",
      "source": [
        "# 41_longest_shortest_flights.py\n",
        "if 'DISTANCE' in df.columns:\n",
        "    print(\"Longest flights:\\n\", df.nlargest(5,'DISTANCE')[['ORIGIN','DEST','DISTANCE']])\n",
        "    print(\"Shortest flights:\\n\", df.nsmallest(5,'DISTANCE')[['ORIGIN','DEST','DISTANCE']])\n"
      ],
      "metadata": {
        "colab": {
          "base_uri": "https://localhost:8080/"
        },
        "id": "kabYPJLyO0Ua",
        "outputId": "76c9590c-b114-468d-d9da-9074f84a7a95"
      },
      "execution_count": 72,
      "outputs": [
        {
          "output_type": "stream",
          "name": "stdout",
          "text": [
            "Longest flights:\n",
            "       ORIGIN DEST  DISTANCE\n",
            "11857    GUM  SFO    5812.0\n",
            "29405    HNL  BOS    5095.0\n",
            "38169    HNL  BOS    5095.0\n",
            "56484    HNL  BOS    5095.0\n",
            "71369    BOS  HNL    5095.0\n",
            "Shortest flights:\n",
            "       ORIGIN DEST  DISTANCE\n",
            "40928    EGE  ASE      29.0\n",
            "48209    HHH  SAV      30.0\n",
            "17628    WRG  PSG      31.0\n",
            "21308    PSG  WRG      31.0\n",
            "28857    PSG  WRG      31.0\n"
          ]
        }
      ]
    },
    {
      "cell_type": "code",
      "source": [
        "# 42_delay_distribution.py\n",
        "if 'ARR_DELAY' in df.columns:\n",
        "    print(df['ARR_DELAY'].describe(percentiles=[0.25,0.5,0.75,0.9,0.95]))\n"
      ],
      "metadata": {
        "colab": {
          "base_uri": "https://localhost:8080/"
        },
        "id": "9cMl4nl7O0SL",
        "outputId": "8820fc10-9bf4-4b83-8fcf-5f3917afc1ae"
      },
      "execution_count": 73,
      "outputs": [
        {
          "output_type": "stream",
          "name": "stdout",
          "text": [
            "count    100000.000000\n",
            "mean          4.229590\n",
            "std          50.627243\n",
            "min         -88.000000\n",
            "25%         -15.000000\n",
            "50%          -6.000000\n",
            "75%           6.000000\n",
            "90%          35.000000\n",
            "95%          69.000000\n",
            "max        1520.000000\n",
            "Name: ARR_DELAY, dtype: float64\n"
          ]
        }
      ]
    },
    {
      "cell_type": "code",
      "source": [
        "# 43_extreme_delays.py\n",
        "if 'ARR_DELAY' in df.columns:\n",
        "    extremes = df.loc[df['ARR_DELAY'] > 300, ['AIRLINE_CODE','ORIGIN','DEST','ARR_DELAY']]\n",
        "    print(\"Flights with >5hr arrival delay:\\n\", extremes.head(10))"
      ],
      "metadata": {
        "colab": {
          "base_uri": "https://localhost:8080/"
        },
        "id": "ICrkhgT2O0Pq",
        "outputId": "9d3fd8a5-0506-4326-935a-30c1d3e4e4b3"
      },
      "execution_count": 75,
      "outputs": [
        {
          "output_type": "stream",
          "name": "stdout",
          "text": [
            "Flights with >5hr arrival delay:\n",
            "      AIRLINE_CODE ORIGIN DEST  ARR_DELAY\n",
            "198            AA    GRR  DFW     1458.0\n",
            "549            OO    ABQ  PHX      312.0\n",
            "590            YV    CMH  IAD      302.0\n",
            "699            DL    DFW  DTW      833.0\n",
            "1811           AA    PDX  ORD      540.0\n",
            "2528           WN    SLC  SMF      309.0\n",
            "2530           AA    FAT  DFW      423.0\n",
            "2534           YV    BTR  DFW      316.0\n",
            "3233           MQ    CLE  ORD      369.0\n",
            "3799           G4    LIT  SFB      822.0\n"
          ]
        }
      ]
    },
    {
      "cell_type": "code",
      "source": [
        "# 44_early_arrivals.py\n",
        "if 'ARR_DELAY' in df.columns:\n",
        "    early = df.loc[df['ARR_DELAY'] < -30, ['AIRLINE_CODE','ORIGIN','DEST','ARR_DELAY']]\n",
        "    print(\"Flights with >30 min early arrival:\\n\", early.head(10))"
      ],
      "metadata": {
        "colab": {
          "base_uri": "https://localhost:8080/"
        },
        "id": "6YD3WhaEO0NY",
        "outputId": "ca6d32f7-0095-4234-f283-848080477c13"
      },
      "execution_count": 77,
      "outputs": [
        {
          "output_type": "stream",
          "name": "stdout",
          "text": [
            "Flights with >30 min early arrival:\n",
            "     AIRLINE_CODE ORIGIN DEST  ARR_DELAY\n",
            "0             G4    PGD  SPI      -32.0\n",
            "44            AS    SJC  OGG      -59.0\n",
            "54            9E    BWI  JFK      -43.0\n",
            "62            WN    IAD  MDW      -35.0\n",
            "115           AA    BOS  MIA      -35.0\n",
            "145           OO    MEI  IAH      -35.0\n",
            "162           WN    DAL  RDU      -38.0\n",
            "197           G4    PIE  GSO      -32.0\n",
            "294           OO    JST  IAD      -56.0\n",
            "387           OO    MHT  ORD      -43.0\n"
          ]
        }
      ]
    },
    {
      "cell_type": "code",
      "source": [
        "# 45_cancelled_by_carrier.py\n",
        "if {'OP_CARRIER','is_cancelled'}.issubset(df.columns):\n",
        "    cancelled = df.groupby('OP_CARRIER')['is_cancelled'].sum().sort_values(ascending=False)\n",
        "    print(\"Cancelled flights per carrier:\\n\", cancelled)\n"
      ],
      "metadata": {
        "id": "xK7PsQ6JO0LA"
      },
      "execution_count": 78,
      "outputs": []
    },
    {
      "cell_type": "code",
      "source": [
        "# 46_cancelled_by_route.py\n",
        "if {'route','is_cancelled'}.issubset(df.columns):\n",
        "    cancelled_route = df.groupby('route')['is_cancelled'].sum().sort_values(ascending=False)\n",
        "    print(\"Cancelled flights per route:\\n\", cancelled_route.head(10))\n"
      ],
      "metadata": {
        "colab": {
          "base_uri": "https://localhost:8080/"
        },
        "id": "6pTXKFBwO0In",
        "outputId": "690623d2-9167-40f8-e705-a85e3d7c26a7"
      },
      "execution_count": 79,
      "outputs": [
        {
          "output_type": "stream",
          "name": "stdout",
          "text": [
            "Cancelled flights per route:\n",
            " route\n",
            "ORD_DCA    10\n",
            "ATL_EWR     9\n",
            "JFK_BOS     9\n",
            "DCA_BOS     8\n",
            "BOS_DCA     8\n",
            "CLT_LGA     7\n",
            "SFO_PHX     6\n",
            "ATL_DFW     6\n",
            "HNL_LIH     6\n",
            "SEA_LAX     6\n",
            "Name: is_cancelled, dtype: int8\n"
          ]
        }
      ]
    },
    {
      "cell_type": "code",
      "source": [
        "# 47_yearly_counts.py\n",
        "if 'YEAR' in df.columns:\n",
        "    yearly = df['YEAR'].value_counts().sort_index()\n",
        "    print(\"Flights per year:\\n\", yearly)\n"
      ],
      "metadata": {
        "id": "on18isB3O0GW"
      },
      "execution_count": 80,
      "outputs": []
    },
    {
      "cell_type": "code",
      "source": [
        "# 48_delay_variance_carrier.py\n",
        "if {'OP_CARRIER','ARR_DELAY'}.issubset(df.columns):\n",
        "    delay_var = df.groupby('OP_CARRIER')['ARR_DELAY'].var()\n",
        "    print(\"Delay variance per carrier:\\n\", delay_var.head(10))\n"
      ],
      "metadata": {
        "id": "P_Un0e8vO0D9"
      },
      "execution_count": 81,
      "outputs": []
    },
    {
      "cell_type": "code",
      "source": [
        "# 49_correlation_matrix.py\n",
        "num_cols = df.select_dtypes(include=[np.number]).columns\n",
        "corr_matrix = df[num_cols].corr()\n",
        "print(\"Correlation matrix (numeric cols):\\n\", corr_matrix.head())\n"
      ],
      "metadata": {
        "colab": {
          "base_uri": "https://localhost:8080/"
        },
        "id": "srNlti4LO0Bv",
        "outputId": "57aed0ee-1c7d-46a5-a9b0-5ea8335ef78f"
      },
      "execution_count": 82,
      "outputs": [
        {
          "output_type": "stream",
          "name": "stdout",
          "text": [
            "Correlation matrix (numeric cols):\n",
            "               DOT_CODE  FL_NUMBER  CRS_DEP_TIME  DEP_TIME  DEP_DELAY  TAXI_OUT  WHEELS_OFF  WHEELS_ON   TAXI_IN  CRS_ARR_TIME  ARR_TIME  ARR_DELAY  CANCELLED  DIVERTED  CRS_ELAPSED_TIME  \\\n",
            "DOT_CODE      1.000000   0.434009      0.008372  0.000594  -0.001638  0.212435    0.005992   0.001904  0.131198      0.006898  0.004755   0.015615  -0.006599  0.008983         -0.072968   \n",
            "FL_NUMBER     0.434009   1.000000     -0.000997  0.003558  -0.019413  0.092893    0.012758   0.008256 -0.009250      0.003626  0.012697  -0.014336   0.003427  0.005722         -0.326262   \n",
            "CRS_DEP_TIME  0.008372  -0.000997      1.000000  0.952157   0.092001  0.001815    0.924222   0.639261 -0.031784      0.694837  0.605173   0.089028   0.016066  0.007223         -0.013009   \n",
            "DEP_TIME      0.000594   0.003558      0.952157  1.000000   0.113765  0.009905    0.970251   0.667582 -0.027446      0.697959  0.632695   0.110942   0.015065  0.009409         -0.018072   \n",
            "DEP_DELAY    -0.001638  -0.019413      0.092001  0.113765   1.000000  0.054311    0.104423   0.018253  0.020226      0.071162  0.011741   0.958144  -0.027773  0.018806          0.020048   \n",
            "\n",
            "              ELAPSED_TIME  AIR_TIME  DISTANCE  DELAY_DUE_CARRIER  DELAY_DUE_WEATHER  DELAY_DUE_NAS  DELAY_DUE_SECURITY  DELAY_DUE_LATE_AIRCRAFT  route_id  is_arr_delay_15  is_dep_delay_15  \\\n",
            "DOT_CODE         -0.060369 -0.101916 -0.117615           0.028585           0.047251       0.083773           -0.006834                 0.018569 -0.032354         0.004694        -0.035535   \n",
            "FL_NUMBER        -0.324149 -0.344384 -0.358294           0.016154           0.041247      -0.016640           -0.011665                 0.002059 -0.037306        -0.026805        -0.039294   \n",
            "CRS_DEP_TIME     -0.011494 -0.009040 -0.003664          -0.046857          -0.003432      -0.047244           -0.004744                 0.107830 -0.033522         0.132167         0.162763   \n",
            "DEP_TIME         -0.015655 -0.014801 -0.011171          -0.072276          -0.012558      -0.036192           -0.005948                 0.120745 -0.032900         0.174006         0.209977   \n",
            "DEP_DELAY         0.025976  0.017753  0.017985           0.708373           0.268727       0.149867            0.018829                 0.520802 -0.006900         0.510882         0.558729   \n",
            "\n",
            "              is_cancelled      hour  ORIGIN_freq  DEST_freq  ORIGIN_code  DEST_code  time_of_day_code  \n",
            "DOT_CODE         -0.006599  0.008069    -0.014633  -0.021094    -0.032335  -0.028197         -0.014052  \n",
            "FL_NUMBER         0.003427 -0.001215    -0.065214  -0.074507    -0.033252  -0.038853         -0.049293  \n",
            "CRS_DEP_TIME      0.016066  0.999312     0.132066  -0.142004    -0.035211   0.027016         -0.271166  \n",
            "DEP_TIME          0.015065  0.951062     0.125082  -0.137283    -0.034668   0.027673         -0.300927  \n",
            "DEP_DELAY        -0.027773  0.091807     0.009304   0.003159    -0.006842  -0.003119         -0.031966  \n"
          ]
        }
      ]
    },
    {
      "cell_type": "code",
      "source": [
        "# 50_save_summaries.py\n",
        "summary_dict = {\n",
        "    'carrier_avg_delay': carrier_delay.head(10).to_dict() if 'carrier_delay' in locals() else {},\n",
        "    'route_stats': route_stats.head(10).to_dict() if 'route_stats' in locals() else {}\n",
        "}\n",
        "print(\"Summary checkpoint:\\n\", summary_dict)\n"
      ],
      "metadata": {
        "colab": {
          "base_uri": "https://localhost:8080/"
        },
        "id": "YjGha_yMOz-0",
        "outputId": "6a53b334-47ee-44a3-f844-0937811243b0"
      },
      "execution_count": 83,
      "outputs": [
        {
          "output_type": "stream",
          "name": "stdout",
          "text": [
            "Summary checkpoint:\n",
            " {'carrier_avg_delay': {}, 'route_stats': {'mean': {'FCA_LGA': 1520.0, 'RFD_SFB': 595.0, 'BUF_MSP': 474.0, 'SMF_HOU': 408.0, 'AZA_GTF': 339.0, 'RIC_PHL': 324.0, 'EWR_VPS': 315.0, 'GSO_PHL': 307.3333435058594, 'GTF_AZA': 279.0, 'MLI_PIE': 278.3333435058594}, 'count': {'FCA_LGA': 1, 'RFD_SFB': 2, 'BUF_MSP': 2, 'SMF_HOU': 1, 'AZA_GTF': 1, 'RIC_PHL': 1, 'EWR_VPS': 1, 'GSO_PHL': 3, 'GTF_AZA': 1, 'MLI_PIE': 3}}}\n"
          ]
        }
      ]
    }
  ]
}