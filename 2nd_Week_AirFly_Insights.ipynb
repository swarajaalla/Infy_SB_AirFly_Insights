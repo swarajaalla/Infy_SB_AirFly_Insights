{
  "nbformat": 4,
  "nbformat_minor": 0,
  "metadata": {
    "colab": {
      "provenance": []
    },
    "kernelspec": {
      "name": "python3",
      "display_name": "Python 3"
    },
    "language_info": {
      "name": "python"
    }
  },
  "cells": [
    {
      "cell_type": "code",
      "source": [
        "# 01_imports.py\n",
        "import os\n",
        "import zipfile\n",
        "import pandas as pd\n",
        "import numpy as np\n",
        "from datetime import datetime\n",
        "pd.set_option('display.max_columns', 200)\n",
        "pd.set_option('display.width', 200)\n"
      ],
      "metadata": {
        "id": "vKc5miBkLXsq"
      },
      "execution_count": 40,
      "outputs": []
    },
    {
      "cell_type": "code",
      "source": [
        "# 02_inspect_zip.py\n",
        "zip_path = \"/content/flights_sample_100k.csv.zip\"\n",
        "with zipfile.ZipFile(zip_path, 'r') as z:\n",
        "    print(\"Files in zip:\", z.namelist())\n",
        "\n"
      ],
      "metadata": {
        "colab": {
          "base_uri": "https://localhost:8080/"
        },
        "id": "YusXkSQwM4kD",
        "outputId": "f11b4fc3-1c1c-4c2c-9688-f1e3a76cb279"
      },
      "execution_count": 41,
      "outputs": [
        {
          "output_type": "stream",
          "name": "stdout",
          "text": [
            "Files in zip: ['flights_sample_100k.csv']\n"
          ]
        }
      ]
    },
    {
      "cell_type": "code",
      "source": [
        "# 03_load_csv_head.py\n",
        "csv_name = \"flights_sample_100k.csv\"  # change if the filename differs\n",
        "zip_path = \"/content/flights_sample_100k.csv.zip\"\n",
        "with zipfile.ZipFile(zip_path) as z:\n",
        "    with z.open(csv_name) as f:\n",
        "        df = pd.read_csv(f, nrows=1000)  # quick preview sample\n",
        "df.info()\n",
        "df.head(3)\n"
      ],
      "metadata": {
        "colab": {
          "base_uri": "https://localhost:8080/",
          "height": 961
        },
        "id": "nR69hT3NM_wJ",
        "outputId": "911c2868-206c-47b4-ac0a-cefe41cde2f5"
      },
      "execution_count": 42,
      "outputs": [
        {
          "output_type": "stream",
          "name": "stdout",
          "text": [
            "<class 'pandas.core.frame.DataFrame'>\n",
            "RangeIndex: 1000 entries, 0 to 999\n",
            "Data columns (total 32 columns):\n",
            " #   Column                   Non-Null Count  Dtype  \n",
            "---  ------                   --------------  -----  \n",
            " 0   FL_DATE                  1000 non-null   object \n",
            " 1   AIRLINE                  1000 non-null   object \n",
            " 2   AIRLINE_DOT              1000 non-null   object \n",
            " 3   AIRLINE_CODE             1000 non-null   object \n",
            " 4   DOT_CODE                 1000 non-null   int64  \n",
            " 5   FL_NUMBER                1000 non-null   int64  \n",
            " 6   ORIGIN                   1000 non-null   object \n",
            " 7   ORIGIN_CITY              1000 non-null   object \n",
            " 8   DEST                     1000 non-null   object \n",
            " 9   DEST_CITY                1000 non-null   object \n",
            " 10  CRS_DEP_TIME             1000 non-null   int64  \n",
            " 11  DEP_TIME                 974 non-null    float64\n",
            " 12  DEP_DELAY                974 non-null    float64\n",
            " 13  TAXI_OUT                 973 non-null    float64\n",
            " 14  WHEELS_OFF               973 non-null    float64\n",
            " 15  WHEELS_ON                971 non-null    float64\n",
            " 16  TAXI_IN                  971 non-null    float64\n",
            " 17  CRS_ARR_TIME             1000 non-null   int64  \n",
            " 18  ARR_TIME                 971 non-null    float64\n",
            " 19  ARR_DELAY                968 non-null    float64\n",
            " 20  CANCELLED                1000 non-null   float64\n",
            " 21  CANCELLATION_CODE        28 non-null     object \n",
            " 22  DIVERTED                 1000 non-null   float64\n",
            " 23  CRS_ELAPSED_TIME         1000 non-null   float64\n",
            " 24  ELAPSED_TIME             968 non-null    float64\n",
            " 25  AIR_TIME                 968 non-null    float64\n",
            " 26  DISTANCE                 1000 non-null   float64\n",
            " 27  DELAY_DUE_CARRIER        181 non-null    float64\n",
            " 28  DELAY_DUE_WEATHER        181 non-null    float64\n",
            " 29  DELAY_DUE_NAS            181 non-null    float64\n",
            " 30  DELAY_DUE_SECURITY       181 non-null    float64\n",
            " 31  DELAY_DUE_LATE_AIRCRAFT  181 non-null    float64\n",
            "dtypes: float64(19), int64(4), object(9)\n",
            "memory usage: 250.1+ KB\n"
          ]
        },
        {
          "output_type": "execute_result",
          "data": {
            "text/plain": [
              "      FL_DATE                 AIRLINE                 AIRLINE_DOT AIRLINE_CODE  DOT_CODE  FL_NUMBER ORIGIN                     ORIGIN_CITY DEST        DEST_CITY  CRS_DEP_TIME  DEP_TIME  DEP_DELAY  \\\n",
              "0  2019-03-01           Allegiant Air           Allegiant Air: G4           G4     20368       1668    PGD                 Punta Gorda, FL  SPI  Springfield, IL           630     620.0      -10.0   \n",
              "1  2021-02-16  American Airlines Inc.  American Airlines Inc.: AA           AA     19805       2437    DFW           Dallas/Fort Worth, TX  LAX  Los Angeles, CA          1329       NaN        NaN   \n",
              "2  2022-04-12       PSA Airlines Inc.       PSA Airlines Inc.: OH           OH     20397       5560    EWN  New Bern/Morehead/Beaufort, NC  CLT    Charlotte, NC           625     618.0       -7.0   \n",
              "\n",
              "   TAXI_OUT  WHEELS_OFF  WHEELS_ON  TAXI_IN  CRS_ARR_TIME  ARR_TIME  ARR_DELAY  CANCELLED CANCELLATION_CODE  DIVERTED  CRS_ELAPSED_TIME  ELAPSED_TIME  AIR_TIME  DISTANCE  DELAY_DUE_CARRIER  \\\n",
              "0       9.0       629.0      731.0      7.0           810     738.0      -32.0        0.0               NaN       0.0             160.0         138.0     122.0     994.0                NaN   \n",
              "1       NaN         NaN        NaN      NaN          1500       NaN        NaN        1.0                 B       0.0             211.0           NaN       NaN    1235.0                NaN   \n",
              "2      16.0       634.0      725.0     11.0           744     736.0       -8.0        0.0               NaN       0.0              79.0          78.0      51.0     221.0                NaN   \n",
              "\n",
              "   DELAY_DUE_WEATHER  DELAY_DUE_NAS  DELAY_DUE_SECURITY  DELAY_DUE_LATE_AIRCRAFT  \n",
              "0                NaN            NaN                 NaN                      NaN  \n",
              "1                NaN            NaN                 NaN                      NaN  \n",
              "2                NaN            NaN                 NaN                      NaN  "
            ],
            "text/html": [
              "\n",
              "  <div id=\"df-69e182d1-bba4-4a9b-b95e-642ee6eb2e77\" class=\"colab-df-container\">\n",
              "    <div>\n",
              "<style scoped>\n",
              "    .dataframe tbody tr th:only-of-type {\n",
              "        vertical-align: middle;\n",
              "    }\n",
              "\n",
              "    .dataframe tbody tr th {\n",
              "        vertical-align: top;\n",
              "    }\n",
              "\n",
              "    .dataframe thead th {\n",
              "        text-align: right;\n",
              "    }\n",
              "</style>\n",
              "<table border=\"1\" class=\"dataframe\">\n",
              "  <thead>\n",
              "    <tr style=\"text-align: right;\">\n",
              "      <th></th>\n",
              "      <th>FL_DATE</th>\n",
              "      <th>AIRLINE</th>\n",
              "      <th>AIRLINE_DOT</th>\n",
              "      <th>AIRLINE_CODE</th>\n",
              "      <th>DOT_CODE</th>\n",
              "      <th>FL_NUMBER</th>\n",
              "      <th>ORIGIN</th>\n",
              "      <th>ORIGIN_CITY</th>\n",
              "      <th>DEST</th>\n",
              "      <th>DEST_CITY</th>\n",
              "      <th>CRS_DEP_TIME</th>\n",
              "      <th>DEP_TIME</th>\n",
              "      <th>DEP_DELAY</th>\n",
              "      <th>TAXI_OUT</th>\n",
              "      <th>WHEELS_OFF</th>\n",
              "      <th>WHEELS_ON</th>\n",
              "      <th>TAXI_IN</th>\n",
              "      <th>CRS_ARR_TIME</th>\n",
              "      <th>ARR_TIME</th>\n",
              "      <th>ARR_DELAY</th>\n",
              "      <th>CANCELLED</th>\n",
              "      <th>CANCELLATION_CODE</th>\n",
              "      <th>DIVERTED</th>\n",
              "      <th>CRS_ELAPSED_TIME</th>\n",
              "      <th>ELAPSED_TIME</th>\n",
              "      <th>AIR_TIME</th>\n",
              "      <th>DISTANCE</th>\n",
              "      <th>DELAY_DUE_CARRIER</th>\n",
              "      <th>DELAY_DUE_WEATHER</th>\n",
              "      <th>DELAY_DUE_NAS</th>\n",
              "      <th>DELAY_DUE_SECURITY</th>\n",
              "      <th>DELAY_DUE_LATE_AIRCRAFT</th>\n",
              "    </tr>\n",
              "  </thead>\n",
              "  <tbody>\n",
              "    <tr>\n",
              "      <th>0</th>\n",
              "      <td>2019-03-01</td>\n",
              "      <td>Allegiant Air</td>\n",
              "      <td>Allegiant Air: G4</td>\n",
              "      <td>G4</td>\n",
              "      <td>20368</td>\n",
              "      <td>1668</td>\n",
              "      <td>PGD</td>\n",
              "      <td>Punta Gorda, FL</td>\n",
              "      <td>SPI</td>\n",
              "      <td>Springfield, IL</td>\n",
              "      <td>630</td>\n",
              "      <td>620.0</td>\n",
              "      <td>-10.0</td>\n",
              "      <td>9.0</td>\n",
              "      <td>629.0</td>\n",
              "      <td>731.0</td>\n",
              "      <td>7.0</td>\n",
              "      <td>810</td>\n",
              "      <td>738.0</td>\n",
              "      <td>-32.0</td>\n",
              "      <td>0.0</td>\n",
              "      <td>NaN</td>\n",
              "      <td>0.0</td>\n",
              "      <td>160.0</td>\n",
              "      <td>138.0</td>\n",
              "      <td>122.0</td>\n",
              "      <td>994.0</td>\n",
              "      <td>NaN</td>\n",
              "      <td>NaN</td>\n",
              "      <td>NaN</td>\n",
              "      <td>NaN</td>\n",
              "      <td>NaN</td>\n",
              "    </tr>\n",
              "    <tr>\n",
              "      <th>1</th>\n",
              "      <td>2021-02-16</td>\n",
              "      <td>American Airlines Inc.</td>\n",
              "      <td>American Airlines Inc.: AA</td>\n",
              "      <td>AA</td>\n",
              "      <td>19805</td>\n",
              "      <td>2437</td>\n",
              "      <td>DFW</td>\n",
              "      <td>Dallas/Fort Worth, TX</td>\n",
              "      <td>LAX</td>\n",
              "      <td>Los Angeles, CA</td>\n",
              "      <td>1329</td>\n",
              "      <td>NaN</td>\n",
              "      <td>NaN</td>\n",
              "      <td>NaN</td>\n",
              "      <td>NaN</td>\n",
              "      <td>NaN</td>\n",
              "      <td>NaN</td>\n",
              "      <td>1500</td>\n",
              "      <td>NaN</td>\n",
              "      <td>NaN</td>\n",
              "      <td>1.0</td>\n",
              "      <td>B</td>\n",
              "      <td>0.0</td>\n",
              "      <td>211.0</td>\n",
              "      <td>NaN</td>\n",
              "      <td>NaN</td>\n",
              "      <td>1235.0</td>\n",
              "      <td>NaN</td>\n",
              "      <td>NaN</td>\n",
              "      <td>NaN</td>\n",
              "      <td>NaN</td>\n",
              "      <td>NaN</td>\n",
              "    </tr>\n",
              "    <tr>\n",
              "      <th>2</th>\n",
              "      <td>2022-04-12</td>\n",
              "      <td>PSA Airlines Inc.</td>\n",
              "      <td>PSA Airlines Inc.: OH</td>\n",
              "      <td>OH</td>\n",
              "      <td>20397</td>\n",
              "      <td>5560</td>\n",
              "      <td>EWN</td>\n",
              "      <td>New Bern/Morehead/Beaufort, NC</td>\n",
              "      <td>CLT</td>\n",
              "      <td>Charlotte, NC</td>\n",
              "      <td>625</td>\n",
              "      <td>618.0</td>\n",
              "      <td>-7.0</td>\n",
              "      <td>16.0</td>\n",
              "      <td>634.0</td>\n",
              "      <td>725.0</td>\n",
              "      <td>11.0</td>\n",
              "      <td>744</td>\n",
              "      <td>736.0</td>\n",
              "      <td>-8.0</td>\n",
              "      <td>0.0</td>\n",
              "      <td>NaN</td>\n",
              "      <td>0.0</td>\n",
              "      <td>79.0</td>\n",
              "      <td>78.0</td>\n",
              "      <td>51.0</td>\n",
              "      <td>221.0</td>\n",
              "      <td>NaN</td>\n",
              "      <td>NaN</td>\n",
              "      <td>NaN</td>\n",
              "      <td>NaN</td>\n",
              "      <td>NaN</td>\n",
              "    </tr>\n",
              "  </tbody>\n",
              "</table>\n",
              "</div>\n",
              "    <div class=\"colab-df-buttons\">\n",
              "\n",
              "  <div class=\"colab-df-container\">\n",
              "    <button class=\"colab-df-convert\" onclick=\"convertToInteractive('df-69e182d1-bba4-4a9b-b95e-642ee6eb2e77')\"\n",
              "            title=\"Convert this dataframe to an interactive table.\"\n",
              "            style=\"display:none;\">\n",
              "\n",
              "  <svg xmlns=\"http://www.w3.org/2000/svg\" height=\"24px\" viewBox=\"0 -960 960 960\">\n",
              "    <path d=\"M120-120v-720h720v720H120Zm60-500h600v-160H180v160Zm220 220h160v-160H400v160Zm0 220h160v-160H400v160ZM180-400h160v-160H180v160Zm440 0h160v-160H620v160ZM180-180h160v-160H180v160Zm440 0h160v-160H620v160Z\"/>\n",
              "  </svg>\n",
              "    </button>\n",
              "\n",
              "  <style>\n",
              "    .colab-df-container {\n",
              "      display:flex;\n",
              "      gap: 12px;\n",
              "    }\n",
              "\n",
              "    .colab-df-convert {\n",
              "      background-color: #E8F0FE;\n",
              "      border: none;\n",
              "      border-radius: 50%;\n",
              "      cursor: pointer;\n",
              "      display: none;\n",
              "      fill: #1967D2;\n",
              "      height: 32px;\n",
              "      padding: 0 0 0 0;\n",
              "      width: 32px;\n",
              "    }\n",
              "\n",
              "    .colab-df-convert:hover {\n",
              "      background-color: #E2EBFA;\n",
              "      box-shadow: 0px 1px 2px rgba(60, 64, 67, 0.3), 0px 1px 3px 1px rgba(60, 64, 67, 0.15);\n",
              "      fill: #174EA6;\n",
              "    }\n",
              "\n",
              "    .colab-df-buttons div {\n",
              "      margin-bottom: 4px;\n",
              "    }\n",
              "\n",
              "    [theme=dark] .colab-df-convert {\n",
              "      background-color: #3B4455;\n",
              "      fill: #D2E3FC;\n",
              "    }\n",
              "\n",
              "    [theme=dark] .colab-df-convert:hover {\n",
              "      background-color: #434B5C;\n",
              "      box-shadow: 0px 1px 3px 1px rgba(0, 0, 0, 0.15);\n",
              "      filter: drop-shadow(0px 1px 2px rgba(0, 0, 0, 0.3));\n",
              "      fill: #FFFFFF;\n",
              "    }\n",
              "  </style>\n",
              "\n",
              "    <script>\n",
              "      const buttonEl =\n",
              "        document.querySelector('#df-69e182d1-bba4-4a9b-b95e-642ee6eb2e77 button.colab-df-convert');\n",
              "      buttonEl.style.display =\n",
              "        google.colab.kernel.accessAllowed ? 'block' : 'none';\n",
              "\n",
              "      async function convertToInteractive(key) {\n",
              "        const element = document.querySelector('#df-69e182d1-bba4-4a9b-b95e-642ee6eb2e77');\n",
              "        const dataTable =\n",
              "          await google.colab.kernel.invokeFunction('convertToInteractive',\n",
              "                                                    [key], {});\n",
              "        if (!dataTable) return;\n",
              "\n",
              "        const docLinkHtml = 'Like what you see? Visit the ' +\n",
              "          '<a target=\"_blank\" href=https://colab.research.google.com/notebooks/data_table.ipynb>data table notebook</a>'\n",
              "          + ' to learn more about interactive tables.';\n",
              "        element.innerHTML = '';\n",
              "        dataTable['output_type'] = 'display_data';\n",
              "        await google.colab.output.renderOutput(dataTable, element);\n",
              "        const docLink = document.createElement('div');\n",
              "        docLink.innerHTML = docLinkHtml;\n",
              "        element.appendChild(docLink);\n",
              "      }\n",
              "    </script>\n",
              "  </div>\n",
              "\n",
              "\n",
              "    <div id=\"df-3288aa5e-2141-4d9d-a696-e79996c259e2\">\n",
              "      <button class=\"colab-df-quickchart\" onclick=\"quickchart('df-3288aa5e-2141-4d9d-a696-e79996c259e2')\"\n",
              "                title=\"Suggest charts\"\n",
              "                style=\"display:none;\">\n",
              "\n",
              "<svg xmlns=\"http://www.w3.org/2000/svg\" height=\"24px\"viewBox=\"0 0 24 24\"\n",
              "     width=\"24px\">\n",
              "    <g>\n",
              "        <path d=\"M19 3H5c-1.1 0-2 .9-2 2v14c0 1.1.9 2 2 2h14c1.1 0 2-.9 2-2V5c0-1.1-.9-2-2-2zM9 17H7v-7h2v7zm4 0h-2V7h2v10zm4 0h-2v-4h2v4z\"/>\n",
              "    </g>\n",
              "</svg>\n",
              "      </button>\n",
              "\n",
              "<style>\n",
              "  .colab-df-quickchart {\n",
              "      --bg-color: #E8F0FE;\n",
              "      --fill-color: #1967D2;\n",
              "      --hover-bg-color: #E2EBFA;\n",
              "      --hover-fill-color: #174EA6;\n",
              "      --disabled-fill-color: #AAA;\n",
              "      --disabled-bg-color: #DDD;\n",
              "  }\n",
              "\n",
              "  [theme=dark] .colab-df-quickchart {\n",
              "      --bg-color: #3B4455;\n",
              "      --fill-color: #D2E3FC;\n",
              "      --hover-bg-color: #434B5C;\n",
              "      --hover-fill-color: #FFFFFF;\n",
              "      --disabled-bg-color: #3B4455;\n",
              "      --disabled-fill-color: #666;\n",
              "  }\n",
              "\n",
              "  .colab-df-quickchart {\n",
              "    background-color: var(--bg-color);\n",
              "    border: none;\n",
              "    border-radius: 50%;\n",
              "    cursor: pointer;\n",
              "    display: none;\n",
              "    fill: var(--fill-color);\n",
              "    height: 32px;\n",
              "    padding: 0;\n",
              "    width: 32px;\n",
              "  }\n",
              "\n",
              "  .colab-df-quickchart:hover {\n",
              "    background-color: var(--hover-bg-color);\n",
              "    box-shadow: 0 1px 2px rgba(60, 64, 67, 0.3), 0 1px 3px 1px rgba(60, 64, 67, 0.15);\n",
              "    fill: var(--button-hover-fill-color);\n",
              "  }\n",
              "\n",
              "  .colab-df-quickchart-complete:disabled,\n",
              "  .colab-df-quickchart-complete:disabled:hover {\n",
              "    background-color: var(--disabled-bg-color);\n",
              "    fill: var(--disabled-fill-color);\n",
              "    box-shadow: none;\n",
              "  }\n",
              "\n",
              "  .colab-df-spinner {\n",
              "    border: 2px solid var(--fill-color);\n",
              "    border-color: transparent;\n",
              "    border-bottom-color: var(--fill-color);\n",
              "    animation:\n",
              "      spin 1s steps(1) infinite;\n",
              "  }\n",
              "\n",
              "  @keyframes spin {\n",
              "    0% {\n",
              "      border-color: transparent;\n",
              "      border-bottom-color: var(--fill-color);\n",
              "      border-left-color: var(--fill-color);\n",
              "    }\n",
              "    20% {\n",
              "      border-color: transparent;\n",
              "      border-left-color: var(--fill-color);\n",
              "      border-top-color: var(--fill-color);\n",
              "    }\n",
              "    30% {\n",
              "      border-color: transparent;\n",
              "      border-left-color: var(--fill-color);\n",
              "      border-top-color: var(--fill-color);\n",
              "      border-right-color: var(--fill-color);\n",
              "    }\n",
              "    40% {\n",
              "      border-color: transparent;\n",
              "      border-right-color: var(--fill-color);\n",
              "      border-top-color: var(--fill-color);\n",
              "    }\n",
              "    60% {\n",
              "      border-color: transparent;\n",
              "      border-right-color: var(--fill-color);\n",
              "    }\n",
              "    80% {\n",
              "      border-color: transparent;\n",
              "      border-right-color: var(--fill-color);\n",
              "      border-bottom-color: var(--fill-color);\n",
              "    }\n",
              "    90% {\n",
              "      border-color: transparent;\n",
              "      border-bottom-color: var(--fill-color);\n",
              "    }\n",
              "  }\n",
              "</style>\n",
              "\n",
              "      <script>\n",
              "        async function quickchart(key) {\n",
              "          const quickchartButtonEl =\n",
              "            document.querySelector('#' + key + ' button');\n",
              "          quickchartButtonEl.disabled = true;  // To prevent multiple clicks.\n",
              "          quickchartButtonEl.classList.add('colab-df-spinner');\n",
              "          try {\n",
              "            const charts = await google.colab.kernel.invokeFunction(\n",
              "                'suggestCharts', [key], {});\n",
              "          } catch (error) {\n",
              "            console.error('Error during call to suggestCharts:', error);\n",
              "          }\n",
              "          quickchartButtonEl.classList.remove('colab-df-spinner');\n",
              "          quickchartButtonEl.classList.add('colab-df-quickchart-complete');\n",
              "        }\n",
              "        (() => {\n",
              "          let quickchartButtonEl =\n",
              "            document.querySelector('#df-3288aa5e-2141-4d9d-a696-e79996c259e2 button');\n",
              "          quickchartButtonEl.style.display =\n",
              "            google.colab.kernel.accessAllowed ? 'block' : 'none';\n",
              "        })();\n",
              "      </script>\n",
              "    </div>\n",
              "\n",
              "    </div>\n",
              "  </div>\n"
            ],
            "application/vnd.google.colaboratory.intrinsic+json": {
              "type": "dataframe",
              "variable_name": "df"
            }
          },
          "metadata": {},
          "execution_count": 42
        }
      ]
    },
    {
      "cell_type": "code",
      "source": [
        "# 04_load_csv_with_dtypes.py\n",
        "# Provide dtype hints for common columns to reduce memory usage.\n",
        "dtype_hints = {\n",
        "    'YEAR': 'int16',\n",
        "    'MONTH': 'int8',\n",
        "    'DAY': 'int8',\n",
        "    'DAY_OF_WEEK': 'int8',\n",
        "    'OP_CARRIER': 'category',\n",
        "    'ORIGIN': 'category',\n",
        "    'DEST': 'category',\n",
        "    'TAIL_NUM': 'category',\n",
        "    'FL_NUM': 'int32'\n",
        "    # extend as appropriate for your CSV's column names\n",
        "}\n",
        "\n",
        "zip_path = \"/content/flights_sample_100k.csv.zip\"\n",
        "with zipfile.ZipFile(zip_path) as z:\n",
        "    with z.open(csv_name) as f:\n",
        "        df = pd.read_csv(f, dtype=dtype_hints, low_memory=True)\n",
        "print(\"Loaded shape:\", df.shape)\n",
        "df.info()\n"
      ],
      "metadata": {
        "colab": {
          "base_uri": "https://localhost:8080/"
        },
        "id": "DtHzO_rYNJ8m",
        "outputId": "39ac084a-13e9-4728-a726-59399213ad62"
      },
      "execution_count": 43,
      "outputs": [
        {
          "output_type": "stream",
          "name": "stdout",
          "text": [
            "Loaded shape: (100000, 32)\n",
            "<class 'pandas.core.frame.DataFrame'>\n",
            "RangeIndex: 100000 entries, 0 to 99999\n",
            "Data columns (total 32 columns):\n",
            " #   Column                   Non-Null Count   Dtype   \n",
            "---  ------                   --------------   -----   \n",
            " 0   FL_DATE                  100000 non-null  object  \n",
            " 1   AIRLINE                  100000 non-null  object  \n",
            " 2   AIRLINE_DOT              100000 non-null  object  \n",
            " 3   AIRLINE_CODE             100000 non-null  object  \n",
            " 4   DOT_CODE                 100000 non-null  int64   \n",
            " 5   FL_NUMBER                100000 non-null  int64   \n",
            " 6   ORIGIN                   100000 non-null  category\n",
            " 7   ORIGIN_CITY              100000 non-null  object  \n",
            " 8   DEST                     100000 non-null  category\n",
            " 9   DEST_CITY                100000 non-null  object  \n",
            " 10  CRS_DEP_TIME             100000 non-null  int64   \n",
            " 11  DEP_TIME                 97424 non-null   float64 \n",
            " 12  DEP_DELAY                97423 non-null   float64 \n",
            " 13  TAXI_OUT                 97382 non-null   float64 \n",
            " 14  WHEELS_OFF               97382 non-null   float64 \n",
            " 15  WHEELS_ON                97345 non-null   float64 \n",
            " 16  TAXI_IN                  97345 non-null   float64 \n",
            " 17  CRS_ARR_TIME             100000 non-null  int64   \n",
            " 18  ARR_TIME                 97345 non-null   float64 \n",
            " 19  ARR_DELAY                97148 non-null   float64 \n",
            " 20  CANCELLED                100000 non-null  float64 \n",
            " 21  CANCELLATION_CODE        2627 non-null    object  \n",
            " 22  DIVERTED                 100000 non-null  float64 \n",
            " 23  CRS_ELAPSED_TIME         100000 non-null  float64 \n",
            " 24  ELAPSED_TIME             97148 non-null   float64 \n",
            " 25  AIR_TIME                 97148 non-null   float64 \n",
            " 26  DISTANCE                 100000 non-null  float64 \n",
            " 27  DELAY_DUE_CARRIER        17992 non-null   float64 \n",
            " 28  DELAY_DUE_WEATHER        17992 non-null   float64 \n",
            " 29  DELAY_DUE_NAS            17992 non-null   float64 \n",
            " 30  DELAY_DUE_SECURITY       17992 non-null   float64 \n",
            " 31  DELAY_DUE_LATE_AIRCRAFT  17992 non-null   float64 \n",
            "dtypes: category(2), float64(19), int64(4), object(7)\n",
            "memory usage: 23.3+ MB\n"
          ]
        }
      ]
    },
    {
      "cell_type": "code",
      "source": [
        "# 05_missing_and_stats.py\n",
        "missing = df.isna().sum().sort_values(ascending=False)\n",
        "summary = df.describe(include='all').T\n",
        "print(\"Top missing columns:\\n\", missing.head(20))\n",
        "summary.loc[:, ['count','mean','std']].head(20)\n"
      ],
      "metadata": {
        "colab": {
          "base_uri": "https://localhost:8080/",
          "height": 1000
        },
        "id": "YYpXLF9INS31",
        "outputId": "44d489d9-1c9e-4ebe-8462-04eeea976abf"
      },
      "execution_count": 44,
      "outputs": [
        {
          "output_type": "stream",
          "name": "stdout",
          "text": [
            "Top missing columns:\n",
            " CANCELLATION_CODE          97373\n",
            "DELAY_DUE_LATE_AIRCRAFT    82008\n",
            "DELAY_DUE_CARRIER          82008\n",
            "DELAY_DUE_SECURITY         82008\n",
            "DELAY_DUE_NAS              82008\n",
            "DELAY_DUE_WEATHER          82008\n",
            "ARR_DELAY                   2852\n",
            "ELAPSED_TIME                2852\n",
            "AIR_TIME                    2852\n",
            "WHEELS_ON                   2655\n",
            "ARR_TIME                    2655\n",
            "TAXI_IN                     2655\n",
            "WHEELS_OFF                  2618\n",
            "TAXI_OUT                    2618\n",
            "DEP_DELAY                   2577\n",
            "DEP_TIME                    2576\n",
            "DEST_CITY                      0\n",
            "DEST                           0\n",
            "CRS_DEP_TIME                   0\n",
            "AIRLINE_CODE                   0\n",
            "dtype: int64\n"
          ]
        },
        {
          "output_type": "execute_result",
          "data": {
            "text/plain": [
              "                 count         mean         std\n",
              "FL_DATE         100000          NaN         NaN\n",
              "AIRLINE         100000          NaN         NaN\n",
              "AIRLINE_DOT     100000          NaN         NaN\n",
              "AIRLINE_CODE    100000          NaN         NaN\n",
              "DOT_CODE      100000.0  19977.25777  377.223161\n",
              "FL_NUMBER     100000.0   2511.91066  1745.63292\n",
              "ORIGIN          100000          NaN         NaN\n",
              "ORIGIN_CITY     100000          NaN         NaN\n",
              "DEST            100000          NaN         NaN\n",
              "DEST_CITY       100000          NaN         NaN\n",
              "CRS_DEP_TIME  100000.0   1329.31234  485.418534\n",
              "DEP_TIME       97424.0  1331.005738  498.864626\n",
              "DEP_DELAY      97423.0    10.178007   49.398318\n",
              "TAXI_OUT       97382.0    16.679992    9.170655\n",
              "WHEELS_OFF     97382.0  1353.643661    500.4562\n",
              "WHEELS_ON      97345.0  1463.905039   527.43063\n",
              "TAXI_IN        97345.0      7.69529    6.481064\n",
              "CRS_ARR_TIME  100000.0   1491.47112  512.569874\n",
              "ARR_TIME       97345.0  1467.125523  532.513348\n",
              "ARR_DELAY      97148.0     4.353759   51.360244"
            ],
            "text/html": [
              "\n",
              "  <div id=\"df-b7c6addf-6939-4dcf-bebd-6bbf03fb93a9\" class=\"colab-df-container\">\n",
              "    <div>\n",
              "<style scoped>\n",
              "    .dataframe tbody tr th:only-of-type {\n",
              "        vertical-align: middle;\n",
              "    }\n",
              "\n",
              "    .dataframe tbody tr th {\n",
              "        vertical-align: top;\n",
              "    }\n",
              "\n",
              "    .dataframe thead th {\n",
              "        text-align: right;\n",
              "    }\n",
              "</style>\n",
              "<table border=\"1\" class=\"dataframe\">\n",
              "  <thead>\n",
              "    <tr style=\"text-align: right;\">\n",
              "      <th></th>\n",
              "      <th>count</th>\n",
              "      <th>mean</th>\n",
              "      <th>std</th>\n",
              "    </tr>\n",
              "  </thead>\n",
              "  <tbody>\n",
              "    <tr>\n",
              "      <th>FL_DATE</th>\n",
              "      <td>100000</td>\n",
              "      <td>NaN</td>\n",
              "      <td>NaN</td>\n",
              "    </tr>\n",
              "    <tr>\n",
              "      <th>AIRLINE</th>\n",
              "      <td>100000</td>\n",
              "      <td>NaN</td>\n",
              "      <td>NaN</td>\n",
              "    </tr>\n",
              "    <tr>\n",
              "      <th>AIRLINE_DOT</th>\n",
              "      <td>100000</td>\n",
              "      <td>NaN</td>\n",
              "      <td>NaN</td>\n",
              "    </tr>\n",
              "    <tr>\n",
              "      <th>AIRLINE_CODE</th>\n",
              "      <td>100000</td>\n",
              "      <td>NaN</td>\n",
              "      <td>NaN</td>\n",
              "    </tr>\n",
              "    <tr>\n",
              "      <th>DOT_CODE</th>\n",
              "      <td>100000.0</td>\n",
              "      <td>19977.25777</td>\n",
              "      <td>377.223161</td>\n",
              "    </tr>\n",
              "    <tr>\n",
              "      <th>FL_NUMBER</th>\n",
              "      <td>100000.0</td>\n",
              "      <td>2511.91066</td>\n",
              "      <td>1745.63292</td>\n",
              "    </tr>\n",
              "    <tr>\n",
              "      <th>ORIGIN</th>\n",
              "      <td>100000</td>\n",
              "      <td>NaN</td>\n",
              "      <td>NaN</td>\n",
              "    </tr>\n",
              "    <tr>\n",
              "      <th>ORIGIN_CITY</th>\n",
              "      <td>100000</td>\n",
              "      <td>NaN</td>\n",
              "      <td>NaN</td>\n",
              "    </tr>\n",
              "    <tr>\n",
              "      <th>DEST</th>\n",
              "      <td>100000</td>\n",
              "      <td>NaN</td>\n",
              "      <td>NaN</td>\n",
              "    </tr>\n",
              "    <tr>\n",
              "      <th>DEST_CITY</th>\n",
              "      <td>100000</td>\n",
              "      <td>NaN</td>\n",
              "      <td>NaN</td>\n",
              "    </tr>\n",
              "    <tr>\n",
              "      <th>CRS_DEP_TIME</th>\n",
              "      <td>100000.0</td>\n",
              "      <td>1329.31234</td>\n",
              "      <td>485.418534</td>\n",
              "    </tr>\n",
              "    <tr>\n",
              "      <th>DEP_TIME</th>\n",
              "      <td>97424.0</td>\n",
              "      <td>1331.005738</td>\n",
              "      <td>498.864626</td>\n",
              "    </tr>\n",
              "    <tr>\n",
              "      <th>DEP_DELAY</th>\n",
              "      <td>97423.0</td>\n",
              "      <td>10.178007</td>\n",
              "      <td>49.398318</td>\n",
              "    </tr>\n",
              "    <tr>\n",
              "      <th>TAXI_OUT</th>\n",
              "      <td>97382.0</td>\n",
              "      <td>16.679992</td>\n",
              "      <td>9.170655</td>\n",
              "    </tr>\n",
              "    <tr>\n",
              "      <th>WHEELS_OFF</th>\n",
              "      <td>97382.0</td>\n",
              "      <td>1353.643661</td>\n",
              "      <td>500.4562</td>\n",
              "    </tr>\n",
              "    <tr>\n",
              "      <th>WHEELS_ON</th>\n",
              "      <td>97345.0</td>\n",
              "      <td>1463.905039</td>\n",
              "      <td>527.43063</td>\n",
              "    </tr>\n",
              "    <tr>\n",
              "      <th>TAXI_IN</th>\n",
              "      <td>97345.0</td>\n",
              "      <td>7.69529</td>\n",
              "      <td>6.481064</td>\n",
              "    </tr>\n",
              "    <tr>\n",
              "      <th>CRS_ARR_TIME</th>\n",
              "      <td>100000.0</td>\n",
              "      <td>1491.47112</td>\n",
              "      <td>512.569874</td>\n",
              "    </tr>\n",
              "    <tr>\n",
              "      <th>ARR_TIME</th>\n",
              "      <td>97345.0</td>\n",
              "      <td>1467.125523</td>\n",
              "      <td>532.513348</td>\n",
              "    </tr>\n",
              "    <tr>\n",
              "      <th>ARR_DELAY</th>\n",
              "      <td>97148.0</td>\n",
              "      <td>4.353759</td>\n",
              "      <td>51.360244</td>\n",
              "    </tr>\n",
              "  </tbody>\n",
              "</table>\n",
              "</div>\n",
              "    <div class=\"colab-df-buttons\">\n",
              "\n",
              "  <div class=\"colab-df-container\">\n",
              "    <button class=\"colab-df-convert\" onclick=\"convertToInteractive('df-b7c6addf-6939-4dcf-bebd-6bbf03fb93a9')\"\n",
              "            title=\"Convert this dataframe to an interactive table.\"\n",
              "            style=\"display:none;\">\n",
              "\n",
              "  <svg xmlns=\"http://www.w3.org/2000/svg\" height=\"24px\" viewBox=\"0 -960 960 960\">\n",
              "    <path d=\"M120-120v-720h720v720H120Zm60-500h600v-160H180v160Zm220 220h160v-160H400v160Zm0 220h160v-160H400v160ZM180-400h160v-160H180v160Zm440 0h160v-160H620v160ZM180-180h160v-160H180v160Zm440 0h160v-160H620v160Z\"/>\n",
              "  </svg>\n",
              "    </button>\n",
              "\n",
              "  <style>\n",
              "    .colab-df-container {\n",
              "      display:flex;\n",
              "      gap: 12px;\n",
              "    }\n",
              "\n",
              "    .colab-df-convert {\n",
              "      background-color: #E8F0FE;\n",
              "      border: none;\n",
              "      border-radius: 50%;\n",
              "      cursor: pointer;\n",
              "      display: none;\n",
              "      fill: #1967D2;\n",
              "      height: 32px;\n",
              "      padding: 0 0 0 0;\n",
              "      width: 32px;\n",
              "    }\n",
              "\n",
              "    .colab-df-convert:hover {\n",
              "      background-color: #E2EBFA;\n",
              "      box-shadow: 0px 1px 2px rgba(60, 64, 67, 0.3), 0px 1px 3px 1px rgba(60, 64, 67, 0.15);\n",
              "      fill: #174EA6;\n",
              "    }\n",
              "\n",
              "    .colab-df-buttons div {\n",
              "      margin-bottom: 4px;\n",
              "    }\n",
              "\n",
              "    [theme=dark] .colab-df-convert {\n",
              "      background-color: #3B4455;\n",
              "      fill: #D2E3FC;\n",
              "    }\n",
              "\n",
              "    [theme=dark] .colab-df-convert:hover {\n",
              "      background-color: #434B5C;\n",
              "      box-shadow: 0px 1px 3px 1px rgba(0, 0, 0, 0.15);\n",
              "      filter: drop-shadow(0px 1px 2px rgba(0, 0, 0, 0.3));\n",
              "      fill: #FFFFFF;\n",
              "    }\n",
              "  </style>\n",
              "\n",
              "    <script>\n",
              "      const buttonEl =\n",
              "        document.querySelector('#df-b7c6addf-6939-4dcf-bebd-6bbf03fb93a9 button.colab-df-convert');\n",
              "      buttonEl.style.display =\n",
              "        google.colab.kernel.accessAllowed ? 'block' : 'none';\n",
              "\n",
              "      async function convertToInteractive(key) {\n",
              "        const element = document.querySelector('#df-b7c6addf-6939-4dcf-bebd-6bbf03fb93a9');\n",
              "        const dataTable =\n",
              "          await google.colab.kernel.invokeFunction('convertToInteractive',\n",
              "                                                    [key], {});\n",
              "        if (!dataTable) return;\n",
              "\n",
              "        const docLinkHtml = 'Like what you see? Visit the ' +\n",
              "          '<a target=\"_blank\" href=https://colab.research.google.com/notebooks/data_table.ipynb>data table notebook</a>'\n",
              "          + ' to learn more about interactive tables.';\n",
              "        element.innerHTML = '';\n",
              "        dataTable['output_type'] = 'display_data';\n",
              "        await google.colab.output.renderOutput(dataTable, element);\n",
              "        const docLink = document.createElement('div');\n",
              "        docLink.innerHTML = docLinkHtml;\n",
              "        element.appendChild(docLink);\n",
              "      }\n",
              "    </script>\n",
              "  </div>\n",
              "\n",
              "\n",
              "    <div id=\"df-e049a7af-9a93-401a-985d-69532a18a604\">\n",
              "      <button class=\"colab-df-quickchart\" onclick=\"quickchart('df-e049a7af-9a93-401a-985d-69532a18a604')\"\n",
              "                title=\"Suggest charts\"\n",
              "                style=\"display:none;\">\n",
              "\n",
              "<svg xmlns=\"http://www.w3.org/2000/svg\" height=\"24px\"viewBox=\"0 0 24 24\"\n",
              "     width=\"24px\">\n",
              "    <g>\n",
              "        <path d=\"M19 3H5c-1.1 0-2 .9-2 2v14c0 1.1.9 2 2 2h14c1.1 0 2-.9 2-2V5c0-1.1-.9-2-2-2zM9 17H7v-7h2v7zm4 0h-2V7h2v10zm4 0h-2v-4h2v4z\"/>\n",
              "    </g>\n",
              "</svg>\n",
              "      </button>\n",
              "\n",
              "<style>\n",
              "  .colab-df-quickchart {\n",
              "      --bg-color: #E8F0FE;\n",
              "      --fill-color: #1967D2;\n",
              "      --hover-bg-color: #E2EBFA;\n",
              "      --hover-fill-color: #174EA6;\n",
              "      --disabled-fill-color: #AAA;\n",
              "      --disabled-bg-color: #DDD;\n",
              "  }\n",
              "\n",
              "  [theme=dark] .colab-df-quickchart {\n",
              "      --bg-color: #3B4455;\n",
              "      --fill-color: #D2E3FC;\n",
              "      --hover-bg-color: #434B5C;\n",
              "      --hover-fill-color: #FFFFFF;\n",
              "      --disabled-bg-color: #3B4455;\n",
              "      --disabled-fill-color: #666;\n",
              "  }\n",
              "\n",
              "  .colab-df-quickchart {\n",
              "    background-color: var(--bg-color);\n",
              "    border: none;\n",
              "    border-radius: 50%;\n",
              "    cursor: pointer;\n",
              "    display: none;\n",
              "    fill: var(--fill-color);\n",
              "    height: 32px;\n",
              "    padding: 0;\n",
              "    width: 32px;\n",
              "  }\n",
              "\n",
              "  .colab-df-quickchart:hover {\n",
              "    background-color: var(--hover-bg-color);\n",
              "    box-shadow: 0 1px 2px rgba(60, 64, 67, 0.3), 0 1px 3px 1px rgba(60, 64, 67, 0.15);\n",
              "    fill: var(--button-hover-fill-color);\n",
              "  }\n",
              "\n",
              "  .colab-df-quickchart-complete:disabled,\n",
              "  .colab-df-quickchart-complete:disabled:hover {\n",
              "    background-color: var(--disabled-bg-color);\n",
              "    fill: var(--disabled-fill-color);\n",
              "    box-shadow: none;\n",
              "  }\n",
              "\n",
              "  .colab-df-spinner {\n",
              "    border: 2px solid var(--fill-color);\n",
              "    border-color: transparent;\n",
              "    border-bottom-color: var(--fill-color);\n",
              "    animation:\n",
              "      spin 1s steps(1) infinite;\n",
              "  }\n",
              "\n",
              "  @keyframes spin {\n",
              "    0% {\n",
              "      border-color: transparent;\n",
              "      border-bottom-color: var(--fill-color);\n",
              "      border-left-color: var(--fill-color);\n",
              "    }\n",
              "    20% {\n",
              "      border-color: transparent;\n",
              "      border-left-color: var(--fill-color);\n",
              "      border-top-color: var(--fill-color);\n",
              "    }\n",
              "    30% {\n",
              "      border-color: transparent;\n",
              "      border-left-color: var(--fill-color);\n",
              "      border-top-color: var(--fill-color);\n",
              "      border-right-color: var(--fill-color);\n",
              "    }\n",
              "    40% {\n",
              "      border-color: transparent;\n",
              "      border-right-color: var(--fill-color);\n",
              "      border-top-color: var(--fill-color);\n",
              "    }\n",
              "    60% {\n",
              "      border-color: transparent;\n",
              "      border-right-color: var(--fill-color);\n",
              "    }\n",
              "    80% {\n",
              "      border-color: transparent;\n",
              "      border-right-color: var(--fill-color);\n",
              "      border-bottom-color: var(--fill-color);\n",
              "    }\n",
              "    90% {\n",
              "      border-color: transparent;\n",
              "      border-bottom-color: var(--fill-color);\n",
              "    }\n",
              "  }\n",
              "</style>\n",
              "\n",
              "      <script>\n",
              "        async function quickchart(key) {\n",
              "          const quickchartButtonEl =\n",
              "            document.querySelector('#' + key + ' button');\n",
              "          quickchartButtonEl.disabled = true;  // To prevent multiple clicks.\n",
              "          quickchartButtonEl.classList.add('colab-df-spinner');\n",
              "          try {\n",
              "            const charts = await google.colab.kernel.invokeFunction(\n",
              "                'suggestCharts', [key], {});\n",
              "          } catch (error) {\n",
              "            console.error('Error during call to suggestCharts:', error);\n",
              "          }\n",
              "          quickchartButtonEl.classList.remove('colab-df-spinner');\n",
              "          quickchartButtonEl.classList.add('colab-df-quickchart-complete');\n",
              "        }\n",
              "        (() => {\n",
              "          let quickchartButtonEl =\n",
              "            document.querySelector('#df-e049a7af-9a93-401a-985d-69532a18a604 button');\n",
              "          quickchartButtonEl.style.display =\n",
              "            google.colab.kernel.accessAllowed ? 'block' : 'none';\n",
              "        })();\n",
              "      </script>\n",
              "    </div>\n",
              "\n",
              "    </div>\n",
              "  </div>\n"
            ],
            "application/vnd.google.colaboratory.intrinsic+json": {
              "type": "dataframe",
              "summary": "{\n  \"name\": \"summary\",\n  \"rows\": 20,\n  \"fields\": [\n    {\n      \"column\": \"count\",\n      \"properties\": {\n        \"dtype\": \"date\",\n        \"min\": 97148.0,\n        \"max\": \"100000\",\n        \"num_unique_values\": 6,\n        \"samples\": [\n          \"100000\",\n          97424.0,\n          97148.0\n        ],\n        \"semantic_type\": \"\",\n        \"description\": \"\"\n      }\n    },\n    {\n      \"column\": \"mean\",\n      \"properties\": {\n        \"dtype\": \"date\",\n        \"min\": 4.35375921274756,\n        \"max\": 19977.25777,\n        \"num_unique_values\": 12,\n        \"samples\": [\n          1467.1255226257126,\n          1491.47112,\n          19977.25777\n        ],\n        \"semantic_type\": \"\",\n        \"description\": \"\"\n      }\n    },\n    {\n      \"column\": \"std\",\n      \"properties\": {\n        \"dtype\": \"date\",\n        \"min\": 6.481063812481051,\n        \"max\": 1745.6329196658799,\n        \"num_unique_values\": 12,\n        \"samples\": [\n          532.5133476198001,\n          512.5698744412501,\n          377.2231611894748\n        ],\n        \"semantic_type\": \"\",\n        \"description\": \"\"\n      }\n    }\n  ]\n}"
            }
          },
          "metadata": {},
          "execution_count": 44
        }
      ]
    },
    {
      "cell_type": "code",
      "source": [
        "# 06_parse_datetimes.py\n",
        "# Typical flight datasets have CRS_DEP_TIME, DEP_TIME, etc. which are HHMM integers.\n",
        "# We'll create a safe function to parse 'CRS_DEP_TIME' and date parts into datetimes.\n",
        "\n",
        "def hhmm_to_time(hhmm):\n",
        "    # accepts ints/floats/strings like 0, 30, 2359, '005', etc.\n",
        "    try:\n",
        "        hhmm = int(hhmm)\n",
        "    except (ValueError, TypeError):\n",
        "        return np.nan\n",
        "    hh = hhmm // 100\n",
        "    mm = hhmm % 100\n",
        "    if hh >= 24 or mm >= 60:\n",
        "        return np.nan\n",
        "    return f\"{hh:02d}:{mm:02d}\"\n",
        "\n",
        "# Example using YEAR, MONTH, DAY, CRS_DEP_TIME to build scheduled departure\n",
        "if {'YEAR','MONTH','DAY','CRS_DEP_TIME'}.issubset(df.columns):\n",
        "    sched_time_str = df['CRS_DEP_TIME'].apply(hhmm_to_time)\n",
        "    df['SCHEDULED_DEP'] = pd.to_datetime(df['YEAR'].astype(str) + '-' + df['MONTH'].astype(str).str.zfill(2) + '-' + df['DAY'].astype(str).str.zfill(2) + ' ' + sched_time_str, errors='coerce')\n",
        "    print(\"SCHEDULED_DEP example:\", df['SCHEDULED_DEP'].head())\n",
        "else:\n",
        "    print(\"Required columns for scheduled dep not present; please adjust column names.\")\n"
      ],
      "metadata": {
        "colab": {
          "base_uri": "https://localhost:8080/"
        },
        "id": "ALBppVeQNVpo",
        "outputId": "0ca27fef-6698-4e35-873a-c641234eabca"
      },
      "execution_count": 45,
      "outputs": [
        {
          "output_type": "stream",
          "name": "stdout",
          "text": [
            "Required columns for scheduled dep not present; please adjust column names.\n"
          ]
        }
      ]
    },
    {
      "cell_type": "code",
      "source": [
        "# 07_create_time_features_fixed.py\n",
        "# Note: Functionality moved to cell 7784c2dd for better workflow.\n",
        "# This modification is to make this cell runnable in isolation if needed.\n",
        "\n",
        "def hhmm_to_time_str(hhmm):\n",
        "    # accepts ints/floats/strings like 0, 30, 2359, '005', etc.\n",
        "    if pd.isna(hhmm): return None\n",
        "    try:\n",
        "        hhmm = int(hhmm)\n",
        "    except (ValueError, TypeError):\n",
        "        return None\n",
        "    hh = hhmm // 100\n",
        "    mm = hhmm % 100\n",
        "    if hh >= 24 or mm >= 60:\n",
        "        return None\n",
        "    return f\"{hh:02d}:{mm:02d}\"\n",
        "\n",
        "# Re-create necessary columns if they don't exist\n",
        "if 'SCHEDULED_DEP' not in df.columns and {'CRS_DEP_TIME','FL_DATE'}.issubset(df.columns):\n",
        "    sched_times = df['CRS_DEP_TIME'].apply(hhmm_to_time_str)\n",
        "    df['SCHEDULED_DEP'] = pd.to_datetime(\n",
        "        df['FL_DATE'].astype(str) + ' ' +\n",
        "        sched_times, errors='coerce'\n",
        "    )\n",
        "\n",
        "# Now extract features if SCHEDULED_DEP is available\n",
        "if 'SCHEDULED_DEP' in df.columns:\n",
        "    df['month'] = df['SCHEDULED_DEP'].dt.month.astype('Int8')\n",
        "    df['day_of_week'] = df['SCHEDULED_DEP'].dt.dayofweek.astype('Int8')\n",
        "    df['hour'] = df['SCHEDULED_DEP'].dt.hour.astype('Int8')\n",
        "    print(df[['SCHEDULED_DEP','month','day_of_week','hour']].head())\n",
        "else:\n",
        "    # Fallback if SCHEDULED_DEP couldn't be created\n",
        "    print(\"SCHEDULED_DEP could not be created. Cannot extract time features.\")\n",
        "    # Attempt to print existing time columns if they exist from other processing\n",
        "    cols_to_print = []\n",
        "    if 'month' in df.columns: cols_to_print.append('month')\n",
        "    if 'day_of_week' in df.columns: cols_to_print.append('day_of_week')\n",
        "    if 'hour' in df.columns: cols_to_print.append('hour')\n",
        "    if cols_to_print:\n",
        "         print(df[cols_to_print].head())\n",
        "    else:\n",
        "         print(\"No time feature columns ('month', 'day_of_week', 'hour') found.\")"
      ],
      "metadata": {
        "id": "EO5f3NudNX9j",
        "colab": {
          "base_uri": "https://localhost:8080/"
        },
        "outputId": "71076552-b106-4bd2-fff0-6d39f6a4b1c7"
      },
      "execution_count": 93,
      "outputs": [
        {
          "output_type": "stream",
          "name": "stdout",
          "text": [
            "            SCHEDULED_DEP  month  day_of_week  hour\n",
            "39142 2019-02-15 17:53:00      2            4    17\n",
            "67447 2019-04-15 17:58:00      4            0    17\n",
            "24280 2019-07-29 06:10:00      7            0     6\n",
            "67413 2019-10-14 13:03:00     10            0    13\n",
            "71243 2020-02-05 17:42:00      2            2    17\n"
          ]
        }
      ]
    },
    {
      "cell_type": "code",
      "metadata": {
        "colab": {
          "base_uri": "https://localhost:8080/"
        },
        "id": "7784c2dd",
        "outputId": "98d3a47f-f0f0-4ddb-f8a3-7ffa664358fe"
      },
      "source": [
        "# 07_create_datetime_features.py\n",
        "# Consolidate datetime parsing and feature creation\n",
        "\n",
        "def hhmm_to_time_str(hhmm):\n",
        "    # accepts ints/floats/strings like 0, 30, 2359, '005', etc.\n",
        "    if pd.isna(hhmm): return None\n",
        "    try:\n",
        "        hhmm = int(hhmm)\n",
        "    except (ValueError, TypeError):\n",
        "        return None\n",
        "    hh = hhmm // 100\n",
        "    mm = hhmm % 100\n",
        "    if hh >= 24 or mm >= 60:\n",
        "        return None\n",
        "    return f\"{hh:02d}:{mm:02d}\"\n",
        "\n",
        "# Ensure CRS_DEP_TIME and FL_DATE exist in dataset\n",
        "if {'CRS_DEP_TIME','FL_DATE'}.issubset(df.columns):\n",
        "    # Scheduled departure datetime\n",
        "    sched_times = df['CRS_DEP_TIME'].apply(hhmm_to_time_str)\n",
        "    df['SCHEDULED_DEP'] = pd.to_datetime(\n",
        "        df['FL_DATE'].astype(str) + ' ' +\n",
        "        sched_times, errors='coerce'\n",
        "    )\n",
        "\n",
        "    # Extract month, day of week, and hour from SCHEDULED_DEP\n",
        "    df['month'] = df['SCHEDULED_DEP'].dt.month.astype('Int8')\n",
        "    df['day_of_week'] = df['SCHEDULED_DEP'].dt.dayofweek.astype('Int8')\n",
        "    df['hour'] = df['SCHEDULED_DEP'].dt.hour.astype('Int8')\n",
        "\n",
        "    print(df[['FL_DATE','CRS_DEP_TIME','SCHEDULED_DEP','month','day_of_week','hour']].head())\n",
        "else:\n",
        "    print(\"Required columns for datetime feature creation (FL_DATE, CRS_DEP_TIME) not found.\")"
      ],
      "execution_count": 47,
      "outputs": [
        {
          "output_type": "stream",
          "name": "stdout",
          "text": [
            "      FL_DATE  CRS_DEP_TIME       SCHEDULED_DEP  month  day_of_week  hour\n",
            "0  2019-03-01           630 2019-03-01 06:30:00      3            4     6\n",
            "1  2021-02-16          1329 2021-02-16 13:29:00      2            1    13\n",
            "2  2022-04-12           625 2022-04-12 06:25:00      4            1     6\n",
            "3  2021-10-13          1715 2021-10-13 17:15:00     10            2    17\n",
            "4  2022-06-05           535 2022-06-05 05:35:00      6            6     5\n"
          ]
        }
      ]
    },
    {
      "cell_type": "code",
      "source": [
        "# 08_create_route.py\n",
        "if {'ORIGIN','DEST'}.issubset(df.columns):\n",
        "    df['route'] = df['ORIGIN'].astype(str) + \"_\" + df['DEST'].astype(str)\n",
        "    df['route_id'] = df['route'].astype('category').cat.codes.astype('int32')\n",
        "    print(df[['ORIGIN','DEST','route','route_id']].head())\n",
        "else:\n",
        "    print(\"ORIGIN/DEST columns missing; adjust column names.\")\n"
      ],
      "metadata": {
        "colab": {
          "base_uri": "https://localhost:8080/"
        },
        "id": "9bf8nfphNb_R",
        "outputId": "c67705b9-9781-4121-a937-beaefe3554d5"
      },
      "execution_count": 48,
      "outputs": [
        {
          "output_type": "stream",
          "name": "stdout",
          "text": [
            "  ORIGIN DEST    route  route_id\n",
            "0    PGD  SPI  PGD_SPI      4660\n",
            "1    DFW  LAX  DFW_LAX      1738\n",
            "2    EWN  CLT  EWN_CLT      2058\n",
            "3    ABQ  DEN  ABQ_DEN        17\n",
            "4    PIT  STL  PIT_STL      4964\n"
          ]
        }
      ]
    },
    {
      "cell_type": "code",
      "source": [
        "# 09_handle_delays.py\n",
        "# We will treat arrival/departure delays: ARR_DELAY, DEP_DELAY commonly present.\n",
        "delay_cols = []\n",
        "for c in ['ARR_DELAY','DEP_DELAY','ARR_DELAY_NEW','DEP_DELAY_NEW','ARR_DELAY_MINUTES']:\n",
        "    if c in df.columns:\n",
        "        delay_cols.append(c)\n",
        "\n",
        "# Fill numeric nulls with 0 where appropriate and create flags\n",
        "for c in delay_cols:\n",
        "    df[c] = pd.to_numeric(df[c], errors='coerce')\n",
        "    df[c].fillna(0, inplace=True)\n",
        "# Flag for significant delay (>=15 min)\n",
        "if 'ARR_DELAY' in df.columns:\n",
        "    df['is_arr_delay_15'] = (df['ARR_DELAY'] >= 15).astype('int8')\n",
        "if 'DEP_DELAY' in df.columns:\n",
        "    df['is_dep_delay_15'] = (df['DEP_DELAY'] >= 15).astype('int8')\n",
        "\n",
        "print(\"Delay columns processed:\", delay_cols)\n"
      ],
      "metadata": {
        "colab": {
          "base_uri": "https://localhost:8080/"
        },
        "id": "eXiavCUeNe2i",
        "outputId": "f01a1c7e-7b05-4ab0-a0d1-fa9979808048"
      },
      "execution_count": 49,
      "outputs": [
        {
          "output_type": "stream",
          "name": "stdout",
          "text": [
            "Delay columns processed: ['ARR_DELAY', 'DEP_DELAY']\n"
          ]
        },
        {
          "output_type": "stream",
          "name": "stderr",
          "text": [
            "/tmp/ipython-input-137270026.py:11: FutureWarning: A value is trying to be set on a copy of a DataFrame or Series through chained assignment using an inplace method.\n",
            "The behavior will change in pandas 3.0. This inplace method will never work because the intermediate object on which we are setting values always behaves as a copy.\n",
            "\n",
            "For example, when doing 'df[col].method(value, inplace=True)', try using 'df.method({col: value}, inplace=True)' or df[col] = df[col].method(value) instead, to perform the operation inplace on the original object.\n",
            "\n",
            "\n",
            "  df[c].fillna(0, inplace=True)\n"
          ]
        }
      ]
    },
    {
      "cell_type": "code",
      "source": [
        "# 10_cancellations.py\n",
        "# Many datasets have CANCELED (0/1) and CANCELLATION_CODE (A,B,C,D)\n",
        "if 'CANCELLED' in df.columns or 'CANCELED' in df.columns:\n",
        "    cancel_col = 'CANCELLED' if 'CANCELLED' in df.columns else 'CANCELED'\n",
        "    df['is_cancelled'] = df[cancel_col].fillna(0).astype('int8')\n",
        "else:\n",
        "    # sometimes DEP_DELAY == NaN and large indicator; but don't infer without column\n",
        "    df['is_cancelled'] = 0\n",
        "\n",
        "if 'CANCELLATION_CODE' in df.columns:\n",
        "    df['cancellation_code'] = df['CANCELLATION_CODE'].astype('category')\n",
        "else:\n",
        "    # create a placeholder column\n",
        "    df['cancellation_code'] = pd.Categorical(np.nan)\n",
        "print(\"Cancelled count:\", df['is_cancelled'].sum())\n"
      ],
      "metadata": {
        "colab": {
          "base_uri": "https://localhost:8080/"
        },
        "id": "SE1-ldksNiEQ",
        "outputId": "18680452-be4d-40e2-f5c9-5f18cecca881"
      },
      "execution_count": 50,
      "outputs": [
        {
          "output_type": "stream",
          "name": "stdout",
          "text": [
            "Cancelled count: 2627\n"
          ]
        }
      ]
    },
    {
      "cell_type": "code",
      "source": [
        "# 11_time_of_day_bins.py\n",
        "def time_of_day(hour):\n",
        "    if pd.isna(hour):\n",
        "        return 'unknown'\n",
        "    hour = int(hour)\n",
        "    if 5 <= hour < 12:\n",
        "        return 'morning'\n",
        "    if 12 <= hour < 17:\n",
        "        return 'afternoon'\n",
        "    if 17 <= hour < 21:\n",
        "        return 'evening'\n",
        "    return 'night'\n",
        "\n",
        "# Extract hour from CRS_DEP_TIME\n",
        "if 'CRS_DEP_TIME' in df.columns:\n",
        "    df['hour'] = (df['CRS_DEP_TIME'] // 100).astype('Int8')\n",
        "    df['time_of_day'] = df['hour'].apply(lambda h: time_of_day(h) if not pd.isna(h) else 'unknown')\n",
        "    df['time_of_day'] = df['time_of_day'].astype('category')\n",
        "    print(df['time_of_day'].value_counts(dropna=False))\n",
        "else:\n",
        "    print(\"CRS_DEP_TIME column not found; cannot create time of day features.\")"
      ],
      "metadata": {
        "colab": {
          "base_uri": "https://localhost:8080/"
        },
        "id": "e7rsZgGJNlKs",
        "outputId": "1bcbb07b-3ac8-4926-fc8b-865fd26aafcc"
      },
      "execution_count": 51,
      "outputs": [
        {
          "output_type": "stream",
          "name": "stdout",
          "text": [
            "time_of_day\n",
            "morning      41243\n",
            "afternoon    30086\n",
            "evening      22114\n",
            "night         6557\n",
            "Name: count, dtype: int64\n"
          ]
        }
      ]
    },
    {
      "cell_type": "code",
      "source": [
        "# 12_downcast_numerics.py\n",
        "def downcast_nums(df_in):\n",
        "    for col in df_in.select_dtypes(include=['int64','float64']).columns:\n",
        "        col_min = df_in[col].min(skipna=True)\n",
        "        col_max = df_in[col].max(skipna=True)\n",
        "        if pd.api.types.is_integer_dtype(df_in[col].dropna()):\n",
        "            df_in[col] = pd.to_numeric(df_in[col], downcast='integer')\n",
        "        else:\n",
        "            df_in[col] = pd.to_numeric(df_in[col], downcast='float')\n",
        "    return df_in\n",
        "\n",
        "df = downcast_nums(df)\n",
        "df.info()\n"
      ],
      "metadata": {
        "colab": {
          "base_uri": "https://localhost:8080/"
        },
        "id": "Hjr2fxBuNt6r",
        "outputId": "2b004ed6-7b2f-4024-cf8b-2e6e5811ed53"
      },
      "execution_count": 52,
      "outputs": [
        {
          "output_type": "stream",
          "name": "stdout",
          "text": [
            "<class 'pandas.core.frame.DataFrame'>\n",
            "RangeIndex: 100000 entries, 0 to 99999\n",
            "Data columns (total 43 columns):\n",
            " #   Column                   Non-Null Count   Dtype         \n",
            "---  ------                   --------------   -----         \n",
            " 0   FL_DATE                  100000 non-null  object        \n",
            " 1   AIRLINE                  100000 non-null  object        \n",
            " 2   AIRLINE_DOT              100000 non-null  object        \n",
            " 3   AIRLINE_CODE             100000 non-null  object        \n",
            " 4   DOT_CODE                 100000 non-null  int16         \n",
            " 5   FL_NUMBER                100000 non-null  int16         \n",
            " 6   ORIGIN                   100000 non-null  category      \n",
            " 7   ORIGIN_CITY              100000 non-null  object        \n",
            " 8   DEST                     100000 non-null  category      \n",
            " 9   DEST_CITY                100000 non-null  object        \n",
            " 10  CRS_DEP_TIME             100000 non-null  int16         \n",
            " 11  DEP_TIME                 97424 non-null   float32       \n",
            " 12  DEP_DELAY                100000 non-null  float32       \n",
            " 13  TAXI_OUT                 97382 non-null   float32       \n",
            " 14  WHEELS_OFF               97382 non-null   float32       \n",
            " 15  WHEELS_ON                97345 non-null   float32       \n",
            " 16  TAXI_IN                  97345 non-null   float32       \n",
            " 17  CRS_ARR_TIME             100000 non-null  int16         \n",
            " 18  ARR_TIME                 97345 non-null   float32       \n",
            " 19  ARR_DELAY                100000 non-null  float32       \n",
            " 20  CANCELLED                100000 non-null  float32       \n",
            " 21  CANCELLATION_CODE        2627 non-null    object        \n",
            " 22  DIVERTED                 100000 non-null  float32       \n",
            " 23  CRS_ELAPSED_TIME         100000 non-null  float32       \n",
            " 24  ELAPSED_TIME             97148 non-null   float32       \n",
            " 25  AIR_TIME                 97148 non-null   float32       \n",
            " 26  DISTANCE                 100000 non-null  float32       \n",
            " 27  DELAY_DUE_CARRIER        17992 non-null   float32       \n",
            " 28  DELAY_DUE_WEATHER        17992 non-null   float32       \n",
            " 29  DELAY_DUE_NAS            17992 non-null   float32       \n",
            " 30  DELAY_DUE_SECURITY       17992 non-null   float32       \n",
            " 31  DELAY_DUE_LATE_AIRCRAFT  17992 non-null   float32       \n",
            " 32  SCHEDULED_DEP            100000 non-null  datetime64[ns]\n",
            " 33  month                    100000 non-null  Int8          \n",
            " 34  day_of_week              100000 non-null  Int8          \n",
            " 35  hour                     100000 non-null  Int8          \n",
            " 36  route                    100000 non-null  object        \n",
            " 37  route_id                 100000 non-null  int32         \n",
            " 38  is_arr_delay_15          100000 non-null  int8          \n",
            " 39  is_dep_delay_15          100000 non-null  int8          \n",
            " 40  is_cancelled             100000 non-null  int8          \n",
            " 41  cancellation_code        2627 non-null    category      \n",
            " 42  time_of_day              100000 non-null  category      \n",
            "dtypes: Int8(3), category(4), datetime64[ns](1), float32(19), int16(4), int32(1), int8(3), object(8)\n",
            "memory usage: 16.7+ MB\n"
          ]
        }
      ]
    },
    {
      "cell_type": "code",
      "source": [
        "# 13_drop_duplicates.py\n",
        "before = df.shape[0]\n",
        "df = df.drop_duplicates()\n",
        "after = df.shape[0]\n",
        "print(f\"Dropped {before-after} duplicate rows. New shape: {df.shape}\")\n"
      ],
      "metadata": {
        "colab": {
          "base_uri": "https://localhost:8080/"
        },
        "id": "3Nvi4XpYNvHw",
        "outputId": "7c2d6df6-6dd4-46a8-887e-9bf73f564b6b"
      },
      "execution_count": 53,
      "outputs": [
        {
          "output_type": "stream",
          "name": "stdout",
          "text": [
            "Dropped 0 duplicate rows. New shape: (100000, 43)\n"
          ]
        }
      ]
    },
    {
      "cell_type": "code",
      "source": [
        "# 14_compute_delay_minutes_fixed.py\n",
        "\n",
        "# Ensure CRS_DEP_TIME and DEP_TIME exist in dataset\n",
        "if {'CRS_DEP_TIME','DEP_TIME'}.issubset(df.columns):\n",
        "    # Convert both scheduled and actual hhmm integers into time strings\n",
        "    def hhmm_to_time_str(hhmm):\n",
        "        if pd.isna(hhmm): return None\n",
        "        try:\n",
        "            hhmm = int(hhmm)\n",
        "        except (ValueError, TypeError):\n",
        "            return None\n",
        "        hh = hhmm // 100\n",
        "        mm = hhmm % 100\n",
        "        if hh >= 24 or mm >= 60:\n",
        "            return None\n",
        "        return f\"{hh:02d}:{mm:02d}\"\n",
        "\n",
        "    # Scheduled departure datetime\n",
        "    sched_times = df['CRS_DEP_TIME'].apply(hhmm_to_time_str)\n",
        "    df['SCHEDULED_DEP'] = pd.to_datetime(\n",
        "        df['FL_DATE'].astype(str) + ' ' +\n",
        "        sched_times, errors='coerce'\n",
        "    )\n",
        "\n",
        "    # Actual departure datetime\n",
        "    actual_times = df['DEP_TIME'].apply(hhmm_to_time_str)\n",
        "    df['ACTUAL_DEP'] = pd.to_datetime(\n",
        "        df['FL_DATE'].astype(str) + ' ' +\n",
        "        actual_times, errors='coerce'\n",
        "    )\n",
        "\n",
        "    # Calculate difference\n",
        "    df['dep_delay_minutes_calc'] = (df['ACTUAL_DEP'] - df['SCHEDULED_DEP']).dt.total_seconds() / 60\n",
        "\n",
        "    # Fill missing DEP_DELAY if needed\n",
        "    if 'DEP_DELAY' in df.columns:\n",
        "        df['DEP_DELAY'] = df['DEP_DELAY'].fillna(df['dep_delay_minutes_calc']).astype('float32')\n",
        "\n",
        "    # Show a preview\n",
        "    print(df[['FL_DATE','SCHEDULED_DEP','ACTUAL_DEP','DEP_DELAY','dep_delay_minutes_calc']].head())\n",
        "else:\n",
        "    print(\"Columns CRS_DEP_TIME or DEP_TIME not found in dataset\")"
      ],
      "metadata": {
        "id": "w5zmdlXFNxFf",
        "colab": {
          "base_uri": "https://localhost:8080/"
        },
        "outputId": "e17a1229-18fc-46b9-8db5-746ce491e744"
      },
      "execution_count": 54,
      "outputs": [
        {
          "output_type": "stream",
          "name": "stdout",
          "text": [
            "      FL_DATE       SCHEDULED_DEP          ACTUAL_DEP  DEP_DELAY  dep_delay_minutes_calc\n",
            "0  2019-03-01 2019-03-01 06:30:00 2019-03-01 06:20:00      -10.0                   -10.0\n",
            "1  2021-02-16 2021-02-16 13:29:00                 NaT        0.0                     NaN\n",
            "2  2022-04-12 2022-04-12 06:25:00 2022-04-12 06:18:00       -7.0                    -7.0\n",
            "3  2021-10-13 2021-10-13 17:15:00 2021-10-13 17:40:00       25.0                    25.0\n",
            "4  2022-06-05 2022-06-05 05:35:00 2022-06-05 05:35:00        0.0                     0.0\n"
          ]
        }
      ]
    },
    {
      "cell_type": "code",
      "source": [
        "# 15_route_rolling_delay.py\n",
        "# Sort by route and scheduled departure to compute rolling metrics\n",
        "if 'route' in df.columns and 'SCHEDULED_DEP' in df.columns and 'ARR_DELAY' in df.columns:\n",
        "    df = df.sort_values(['route','SCHEDULED_DEP'])\n",
        "    # rolling mean of last 5 flights on same route\n",
        "    df['route_delay_roll5'] = df.groupby('route')['ARR_DELAY'].rolling(5, min_periods=1).mean().reset_index(level=0, drop=True).astype('float32')\n",
        "    print(\"route_delay_roll5 example:\\n\", df[['route','SCHEDULED_DEP','ARR_DELAY','route_delay_roll5']].head(10))\n",
        "else:\n",
        "    print(\"Required columns for route rolling delay calculation not found.\")"
      ],
      "metadata": {
        "id": "pioEDXl8NzKS",
        "colab": {
          "base_uri": "https://localhost:8080/"
        },
        "outputId": "2919f0ba-73be-46f1-e257-c2bf4c9cd46d"
      },
      "execution_count": 55,
      "outputs": [
        {
          "output_type": "stream",
          "name": "stdout",
          "text": [
            "route_delay_roll5 example:\n",
            "          route       SCHEDULED_DEP  ARR_DELAY  route_delay_roll5\n",
            "39142  ABE_ATL 2019-02-15 17:53:00      -18.0         -18.000000\n",
            "67447  ABE_ATL 2019-04-15 17:58:00      -21.0         -19.500000\n",
            "24280  ABE_ATL 2019-07-29 06:10:00       -2.0         -13.666667\n",
            "67413  ABE_ATL 2019-10-14 13:03:00      -25.0         -16.500000\n",
            "71243  ABE_ATL 2020-02-05 17:42:00      -27.0         -18.600000\n",
            "45383  ABE_ATL 2021-05-21 17:21:00      -24.0         -19.799999\n",
            "29849  ABE_ATL 2021-08-27 13:17:00       -6.0         -16.799999\n",
            "92002  ABE_ATL 2021-12-26 12:50:00      -10.0         -18.400000\n",
            "38520  ABE_ATL 2022-02-11 06:40:00      -16.0         -16.600000\n",
            "90125  ABE_ATL 2022-04-27 14:00:00      -17.0         -14.600000\n"
          ]
        }
      ]
    },
    {
      "cell_type": "code",
      "source": [
        "# 16_categorical_encoding.py\n",
        "# Example: frequency encoding for ORIGIN and DEST (simple numeric feature)\n",
        "for col in ['ORIGIN','DEST','OP_CARRIER']:\n",
        "    if col in df.columns:\n",
        "        freq = df[col].value_counts(normalize=True)\n",
        "        df[f'{col}_freq'] = df[col].map(freq).astype('float32')\n",
        "# Example label encoding via category codes for model-ready features\n",
        "for col in ['ORIGIN','DEST','OP_CARRIER','time_of_day']:\n",
        "    if col in df.columns:\n",
        "        df[f'{col}_code'] = df[col].astype('category').cat.codes.astype('int32')\n",
        "print(\"Added frequency and code features for origin/dest/carrier\")\n"
      ],
      "metadata": {
        "colab": {
          "base_uri": "https://localhost:8080/"
        },
        "id": "JsViryFQN0-K",
        "outputId": "a1c07b9e-1e86-4219-bc86-6d9a49dea8d6"
      },
      "execution_count": 56,
      "outputs": [
        {
          "output_type": "stream",
          "name": "stdout",
          "text": [
            "Added frequency and code features for origin/dest/carrier\n"
          ]
        }
      ]
    },
    {
      "cell_type": "code",
      "source": [
        "# 17_qa_checks.py\n",
        "# Check negative scheduled elapsed times, implausible hours, and flights spanning > 24h\n",
        "anomalies = {}\n",
        "if 'ARR_DELAY' in df.columns:\n",
        "    anomalies['neg_arr_delay_count'] = (df['ARR_DELAY'] < -1000).sum()  # unrealistic extreme\n",
        "if 'hour' in df.columns:\n",
        "    anomalies['invalid_hours'] = df[~df['hour'].between(0,23, inclusive='both')].shape[0]\n",
        "if 'dep_delay_minutes_calc' in df.columns:\n",
        "    anomalies['huge_calc_delays'] = (df['dep_delay_minutes_calc'].abs() > 24*60).sum()\n",
        "print(\"Anomalies summary:\", anomalies)"
      ],
      "metadata": {
        "colab": {
          "base_uri": "https://localhost:8080/"
        },
        "id": "9893a0ooN3RB",
        "outputId": "2fb9f625-7245-45f9-8f5c-73301128998e"
      },
      "execution_count": 57,
      "outputs": [
        {
          "output_type": "stream",
          "name": "stdout",
          "text": [
            "Anomalies summary: {'neg_arr_delay_count': np.int64(0), 'invalid_hours': 0, 'huge_calc_delays': np.int64(0)}\n"
          ]
        }
      ]
    },
    {
      "cell_type": "code",
      "source": [
        "# 18_create_sample_for_dev.py\n",
        "sample_df = df.sample(frac=0.01, random_state=42)  # 1% sample for fast plotting/iteration\n",
        "print(\"Sample shape:\", sample_df.shape)\n",
        "print(sample_df.head(5).to_string())\n",
        "# If you want to persist locally for reuse:\n",
        "# sample_df.to_parquet(\"/mnt/data/flights_sample_1pct.parquet\", index=False)\n"
      ],
      "metadata": {
        "colab": {
          "base_uri": "https://localhost:8080/"
        },
        "id": "qlwesJaKOBv8",
        "outputId": "0f3c0e6d-bba1-4f76-c277-1f5db2201dc9"
      },
      "execution_count": 58,
      "outputs": [
        {
          "output_type": "stream",
          "name": "stdout",
          "text": [
            "Sample shape: (1000, 51)\n",
            "          FL_DATE                 AIRLINE                 AIRLINE_DOT AIRLINE_CODE  DOT_CODE  FL_NUMBER ORIGIN         ORIGIN_CITY DEST              DEST_CITY  CRS_DEP_TIME  DEP_TIME  DEP_DELAY  TAXI_OUT  WHEELS_OFF  WHEELS_ON  TAXI_IN  CRS_ARR_TIME  ARR_TIME  ARR_DELAY  CANCELLED CANCELLATION_CODE  DIVERTED  CRS_ELAPSED_TIME  ELAPSED_TIME  AIR_TIME  DISTANCE  DELAY_DUE_CARRIER  DELAY_DUE_WEATHER  DELAY_DUE_NAS  DELAY_DUE_SECURITY  DELAY_DUE_LATE_AIRCRAFT       SCHEDULED_DEP  month  day_of_week  hour    route  route_id  is_arr_delay_15  is_dep_delay_15  is_cancelled cancellation_code time_of_day          ACTUAL_DEP  dep_delay_minutes_calc  route_delay_roll5  ORIGIN_freq  DEST_freq  ORIGIN_code  DEST_code  time_of_day_code\n",
            "4280   2021-08-10   United Air Lines Inc.   United Air Lines Inc.: UA           UA     19977       1693    PDX        Portland, OR  ORD            Chicago, IL           650       NaN        0.0       NaN         NaN        NaN      NaN          1243       NaN        0.0        1.0                 B       0.0             233.0           NaN       NaN    1739.0                NaN                NaN            NaN                 NaN                      NaN 2021-08-10 06:50:00      8            1     6  PDX_ORD      4606                0                0             1                 B     morning                 NaT                     NaN              -9.80      0.00871    0.04157          240        234                 2\n",
            "85966  2022-07-20           Allegiant Air           Allegiant Air: G4           G4     20368        447    PIE  St. Petersburg, FL  AVL          Asheville, NC          1445    1440.0       -5.0      16.0      1456.0     1616.0      4.0          1619    1620.0        1.0        0.0               NaN       0.0              94.0         100.0      80.0     519.0                NaN                NaN            NaN                 NaN                      NaN 2022-07-20 14:45:00      7            2    14  PIE_AVL      4881                0                0             0               NaN   afternoon 2022-07-20 14:40:00                    -5.0              14.60      0.00124    0.00139          247         24                 0\n",
            "91535  2021-03-04        Republic Airline        Republic Airline: YX           YX     20452       4759    CMH        Columbus, OH  PHL       Philadelphia, PA           611     603.0       -8.0      11.0       614.0      718.0      3.0           755     721.0      -34.0        0.0               NaN       0.0             104.0          78.0      64.0     406.0                NaN                NaN            NaN                 NaN                      NaN 2021-03-04 06:11:00      3            3     6  CMH_PHL      1175                0                0             0               NaN     morning 2021-03-04 06:03:00                    -8.0             -12.25      0.00556    0.01422           68        245                 2\n",
            "92206  2021-07-10  American Airlines Inc.  American Airlines Inc.: AA           AA     19805       1747    PHL    Philadelphia, PA  DFW  Dallas/Fort Worth, TX           845     839.0       -6.0      18.0       857.0     1101.0     14.0          1129    1115.0      -14.0        0.0               NaN       0.0             224.0         216.0     184.0    1303.0                NaN                NaN            NaN                 NaN                      NaN 2021-07-10 08:45:00      7            5     8  PHL_DFW      4696                0                0             0               NaN     morning 2021-07-10 08:39:00                    -6.0               6.40      0.01433    0.04239          243         89                 2\n",
            "19874  2019-07-24    Delta Air Lines Inc.    Delta Air Lines Inc.: DL           DL     19790        674    SLC  Salt Lake City, UT  ATL            Atlanta, GA          1105    1104.0       -1.0      15.0      1119.0     1623.0     10.0          1646    1633.0      -13.0        0.0               NaN       0.0             221.0         209.0     184.0    1590.0                NaN                NaN            NaN                 NaN                      NaN 2019-07-24 11:05:00      7            2    11  SLC_ATL      5794                0                0             0               NaN     morning 2019-07-24 11:04:00                    -1.0             -12.40      0.01697    0.05095          298         20                 2\n"
          ]
        }
      ]
    },
    {
      "cell_type": "code",
      "source": [
        "# 19_save_cleaned.py\n",
        "import os\n",
        "clean_path = \"/mnt/data/flights_cleaned_week2.parquet\"\n",
        "# Create the directory if it doesn't exist\n",
        "os.makedirs(os.path.dirname(clean_path), exist_ok=True)\n",
        "df.to_parquet(clean_path, index=False)\n",
        "print(\"Saved cleaned parquet to:\", clean_path)"
      ],
      "metadata": {
        "colab": {
          "base_uri": "https://localhost:8080/"
        },
        "id": "qlDwS2KWOEnR",
        "outputId": "19753f9c-c1e2-43de-a376-c7105d43d531"
      },
      "execution_count": 59,
      "outputs": [
        {
          "output_type": "stream",
          "name": "stdout",
          "text": [
            "Saved cleaned parquet to: /mnt/data/flights_cleaned_week2.parquet\n"
          ]
        }
      ]
    },
    {
      "cell_type": "code",
      "metadata": {
        "colab": {
          "base_uri": "https://localhost:8080/",
          "height": 17
        },
        "id": "feb6c199",
        "outputId": "88938de3-9c94-4fae-d256-54af7d8e92c7"
      },
      "source": [
        "from google.colab import files\n",
        "\n",
        "files.download('/mnt/data/flights_cleaned_week2.parquet')"
      ],
      "execution_count": 94,
      "outputs": [
        {
          "output_type": "display_data",
          "data": {
            "text/plain": [
              "<IPython.core.display.Javascript object>"
            ],
            "application/javascript": [
              "\n",
              "    async function download(id, filename, size) {\n",
              "      if (!google.colab.kernel.accessAllowed) {\n",
              "        return;\n",
              "      }\n",
              "      const div = document.createElement('div');\n",
              "      const label = document.createElement('label');\n",
              "      label.textContent = `Downloading \"${filename}\": `;\n",
              "      div.appendChild(label);\n",
              "      const progress = document.createElement('progress');\n",
              "      progress.max = size;\n",
              "      div.appendChild(progress);\n",
              "      document.body.appendChild(div);\n",
              "\n",
              "      const buffers = [];\n",
              "      let downloaded = 0;\n",
              "\n",
              "      const channel = await google.colab.kernel.comms.open(id);\n",
              "      // Send a message to notify the kernel that we're ready.\n",
              "      channel.send({})\n",
              "\n",
              "      for await (const message of channel.messages) {\n",
              "        // Send a message to notify the kernel that we're ready.\n",
              "        channel.send({})\n",
              "        if (message.buffers) {\n",
              "          for (const buffer of message.buffers) {\n",
              "            buffers.push(buffer);\n",
              "            downloaded += buffer.byteLength;\n",
              "            progress.value = downloaded;\n",
              "          }\n",
              "        }\n",
              "      }\n",
              "      const blob = new Blob(buffers, {type: 'application/binary'});\n",
              "      const a = document.createElement('a');\n",
              "      a.href = window.URL.createObjectURL(blob);\n",
              "      a.download = filename;\n",
              "      div.appendChild(a);\n",
              "      a.click();\n",
              "      div.remove();\n",
              "    }\n",
              "  "
            ]
          },
          "metadata": {}
        },
        {
          "output_type": "display_data",
          "data": {
            "text/plain": [
              "<IPython.core.display.Javascript object>"
            ],
            "application/javascript": [
              "download(\"download_3f8f4978-411a-40ed-8c4f-bcda802ed390\", \"flights_cleaned_week2.parquet\", 5095582)"
            ]
          },
          "metadata": {}
        }
      ]
    },
    {
      "cell_type": "code",
      "source": [
        "# 20_summary_functions.py\n",
        "def top_n_counts(df, col, n=10):\n",
        "    if col in df.columns:\n",
        "        return df[col].value_counts().head(n)\n",
        "    return pd.Series([])\n",
        "\n",
        "# Example usage:\n",
        "print(\"Top origin airports:\\n\", top_n_counts(df, 'ORIGIN', 10))\n",
        "print(\"Top carriers:\\n\", top_n_counts(df, 'OP_CARRIER', 10))\n"
      ],
      "metadata": {
        "colab": {
          "base_uri": "https://localhost:8080/"
        },
        "id": "tzjCvIYHOLJp",
        "outputId": "2bf163a5-8b4c-405d-f17d-4272462c7f1b"
      },
      "execution_count": 60,
      "outputs": [
        {
          "output_type": "stream",
          "name": "stdout",
          "text": [
            "Top origin airports:\n",
            " ORIGIN\n",
            "ATL    5099\n",
            "DFW    4444\n",
            "ORD    4053\n",
            "DEN    3886\n",
            "CLT    3110\n",
            "LAX    2866\n",
            "PHX    2460\n",
            "SEA    2451\n",
            "LAS    2391\n",
            "IAH    2180\n",
            "Name: count, dtype: int64\n",
            "Top carriers:\n",
            " Series([], dtype: object)\n"
          ]
        }
      ]
    },
    {
      "cell_type": "code",
      "source": [
        "# 21_carrier_avg_delays.py\n",
        "if {'OP_CARRIER','ARR_DELAY'}.issubset(df.columns):\n",
        "    carrier_delay = df.groupby('OP_CARRIER')['ARR_DELAY'].mean().sort_values(ascending=False)\n",
        "    print(\"Carrier-level average arrival delay:\\n\", carrier_delay.head(10))\n"
      ],
      "metadata": {
        "id": "13ce6a0NOSl4"
      },
      "execution_count": 61,
      "outputs": []
    },
    {
      "cell_type": "code",
      "source": [
        "# 22_route_delay_stats.py\n",
        "if {'route','ARR_DELAY'}.issubset(df.columns):\n",
        "    route_stats = df.groupby('route')['ARR_DELAY'].agg(['mean','count']).sort_values('mean', ascending=False)\n",
        "    print(route_stats.head(10))\n"
      ],
      "metadata": {
        "colab": {
          "base_uri": "https://localhost:8080/"
        },
        "id": "2toRrlseOXSm",
        "outputId": "3ae005fc-ef69-429a-ff52-30e8cea2172d"
      },
      "execution_count": 62,
      "outputs": [
        {
          "output_type": "stream",
          "name": "stdout",
          "text": [
            "                mean  count\n",
            "route                      \n",
            "FCA_LGA  1520.000000      1\n",
            "RFD_SFB   595.000000      2\n",
            "BUF_MSP   474.000000      2\n",
            "SMF_HOU   408.000000      1\n",
            "AZA_GTF   339.000000      1\n",
            "RIC_PHL   324.000000      1\n",
            "EWR_VPS   315.000000      1\n",
            "GSO_PHL   307.333344      3\n",
            "GTF_AZA   279.000000      1\n",
            "MLI_PIE   278.333344      3\n"
          ]
        }
      ]
    },
    {
      "cell_type": "code",
      "source": [
        "# 23_carrier_cancellations.py\n",
        "if {'OP_CARRIER','is_cancelled'}.issubset(df.columns):\n",
        "    cancel_rate = df.groupby('OP_CARRIER')['is_cancelled'].mean().sort_values(ascending=False)\n",
        "    print(\"Cancellation rates:\\n\", cancel_rate.head(10))\n"
      ],
      "metadata": {
        "id": "f_G7hVWCOaP3"
      },
      "execution_count": 63,
      "outputs": []
    },
    {
      "cell_type": "code",
      "source": [
        "# 24_cancel_reasons.py\n",
        "if 'cancellation_code' in df.columns:\n",
        "    print(\"Cancellation reasons:\\n\", df['cancellation_code'].value_counts(dropna=False))\n"
      ],
      "metadata": {
        "colab": {
          "base_uri": "https://localhost:8080/"
        },
        "id": "BxBoeaVPObn3",
        "outputId": "fa2791b5-838f-40ce-ef6c-cea19caab734"
      },
      "execution_count": 64,
      "outputs": [
        {
          "output_type": "stream",
          "name": "stdout",
          "text": [
            "Cancellation reasons:\n",
            " cancellation_code\n",
            "NaN    97373\n",
            "B        930\n",
            "D        827\n",
            "A        671\n",
            "C        199\n",
            "Name: count, dtype: int64\n"
          ]
        }
      ]
    },
    {
      "cell_type": "code",
      "source": [
        "# 25_hourly_delays.py\n",
        "if {'hour','ARR_DELAY'}.issubset(df.columns):\n",
        "    hour_delay = df.groupby('hour')['ARR_DELAY'].mean()\n",
        "    print(\"Avg arrival delay by hour:\\n\", hour_delay)\n"
      ],
      "metadata": {
        "colab": {
          "base_uri": "https://localhost:8080/"
        },
        "id": "4oNJKhSOOcs2",
        "outputId": "db0785d7-4660-49ae-ab98-40af634c0bb7"
      },
      "execution_count": 65,
      "outputs": [
        {
          "output_type": "stream",
          "name": "stdout",
          "text": [
            "Avg arrival delay by hour:\n",
            " hour\n",
            "0      9.527950\n",
            "1      9.531646\n",
            "2     11.741936\n",
            "3     -1.333333\n",
            "4      0.666667\n",
            "5     -2.851904\n",
            "6     -2.173096\n",
            "7     -1.046254\n",
            "8     -1.279639\n",
            "9     -0.602420\n",
            "10     1.226007\n",
            "11     0.709528\n",
            "12     1.510026\n",
            "13     5.112010\n",
            "14     5.468344\n",
            "15     6.451538\n",
            "16     9.145147\n",
            "17     8.319843\n",
            "18    11.313490\n",
            "19    11.137645\n",
            "20     9.306370\n",
            "21    10.226727\n",
            "22    10.949877\n",
            "23     5.970706\n",
            "Name: ARR_DELAY, dtype: float32\n"
          ]
        }
      ]
    },
    {
      "cell_type": "code",
      "source": [
        "# 26_dow_delays.py\n",
        "if {'day_of_week','ARR_DELAY'}.issubset(df.columns):\n",
        "    dow_delay = df.groupby('day_of_week')['ARR_DELAY'].mean()\n",
        "    print(\"Avg arrival delay by weekday (0=Mon):\\n\", dow_delay)"
      ],
      "metadata": {
        "id": "9tCI3o4bOd7v",
        "colab": {
          "base_uri": "https://localhost:8080/"
        },
        "outputId": "8e6867bb-9021-4d5d-a2f8-bb7d0df37b28"
      },
      "execution_count": 66,
      "outputs": [
        {
          "output_type": "stream",
          "name": "stdout",
          "text": [
            "Avg arrival delay by weekday (0=Mon):\n",
            " day_of_week\n",
            "0    5.355211\n",
            "1    1.716929\n",
            "2    2.103893\n",
            "3    5.383103\n",
            "4    5.501360\n",
            "5    4.168449\n",
            "6    5.070957\n",
            "Name: ARR_DELAY, dtype: float32\n"
          ]
        }
      ]
    },
    {
      "cell_type": "code",
      "source": [
        "# 27_top_origins.py\n",
        "if 'ORIGIN' in df.columns:\n",
        "    print(\"Top origin airports:\\n\", df['ORIGIN'].value_counts().head(10))\n"
      ],
      "metadata": {
        "colab": {
          "base_uri": "https://localhost:8080/"
        },
        "id": "7P-qSM3iOfrM",
        "outputId": "681eb520-5102-4599-b706-09329fadb523"
      },
      "execution_count": 67,
      "outputs": [
        {
          "output_type": "stream",
          "name": "stdout",
          "text": [
            "Top origin airports:\n",
            " ORIGIN\n",
            "ATL    5099\n",
            "DFW    4444\n",
            "ORD    4053\n",
            "DEN    3886\n",
            "CLT    3110\n",
            "LAX    2866\n",
            "PHX    2460\n",
            "SEA    2451\n",
            "LAS    2391\n",
            "IAH    2180\n",
            "Name: count, dtype: int64\n"
          ]
        }
      ]
    },
    {
      "cell_type": "code",
      "source": [
        "# 28_top_destinations.py\n",
        "if 'DEST' in df.columns:\n",
        "    print(\"Top destination airports:\\n\", df['DEST'].value_counts().head(10))\n"
      ],
      "metadata": {
        "colab": {
          "base_uri": "https://localhost:8080/"
        },
        "id": "-HPOX-CgOqDm",
        "outputId": "2ad171bd-ae23-4541-cd6a-c69e833bd943"
      },
      "execution_count": 68,
      "outputs": [
        {
          "output_type": "stream",
          "name": "stdout",
          "text": [
            "Top destination airports:\n",
            " DEST\n",
            "ATL    5095\n",
            "DFW    4239\n",
            "ORD    4157\n",
            "DEN    3956\n",
            "CLT    3269\n",
            "LAX    2804\n",
            "PHX    2628\n",
            "LAS    2413\n",
            "SEA    2323\n",
            "MCO    2171\n",
            "Name: count, dtype: int64\n"
          ]
        }
      ]
    },
    {
      "cell_type": "code",
      "source": [
        "# 29_seasonal_counts.py\n",
        "if 'month' in df.columns:\n",
        "    month_counts = df['month'].value_counts().sort_index()\n",
        "    print(\"Flights per month:\\n\", month_counts)"
      ],
      "metadata": {
        "id": "RKAEuzFtOrPZ",
        "colab": {
          "base_uri": "https://localhost:8080/"
        },
        "outputId": "d229ccbf-61ff-4a49-d6cb-a2c7116fdd9b"
      },
      "execution_count": 69,
      "outputs": [
        {
          "output_type": "stream",
          "name": "stdout",
          "text": [
            "Flights per month:\n",
            " month\n",
            "1     8903\n",
            "2     8246\n",
            "3     9733\n",
            "4     8434\n",
            "5     8393\n",
            "6     8688\n",
            "7     9553\n",
            "8     9444\n",
            "9     7044\n",
            "10    7286\n",
            "11    7054\n",
            "12    7222\n",
            "Name: count, dtype: Int64\n"
          ]
        }
      ]
    },
    {
      "cell_type": "code",
      "source": [
        "# 30_dow_counts.py\n",
        "if 'day_of_week' in df.columns:\n",
        "    dow_counts = df['day_of_week'].value_counts().sort_index()\n",
        "    print(\"Flights per weekday (0=Mon):\\n\", dow_counts)\n"
      ],
      "metadata": {
        "id": "tHATtCsqOsjN",
        "colab": {
          "base_uri": "https://localhost:8080/"
        },
        "outputId": "34ac194e-2659-4977-ed9e-581386f57769"
      },
      "execution_count": 70,
      "outputs": [
        {
          "output_type": "stream",
          "name": "stdout",
          "text": [
            "Flights per weekday (0=Mon):\n",
            " day_of_week\n",
            "0    14825\n",
            "1    13781\n",
            "2    14024\n",
            "3    14855\n",
            "4    15071\n",
            "5    12900\n",
            "6    14544\n",
            "Name: count, dtype: Int64\n"
          ]
        }
      ]
    },
    {
      "cell_type": "code",
      "source": [
        "# 31_flights_per_carrier.py\n",
        "if 'OP_CARRIER' in df.columns:\n",
        "    carrier_counts = df['OP_CARRIER'].value_counts()\n",
        "    print(\"Flights per carrier:\\n\", carrier_counts.head(10))\n"
      ],
      "metadata": {
        "id": "ywN3Caa9Otqk"
      },
      "execution_count": 71,
      "outputs": []
    },
    {
      "cell_type": "code",
      "source": [
        "# 32_avg_distance_by_carrier.py\n",
        "if {'OP_CARRIER','DISTANCE'}.issubset(df.columns):\n",
        "    dist_carrier = df.groupby('OP_CARRIER')['DISTANCE'].mean()\n",
        "    print(\"Average distance by carrier:\\n\", dist_carrier.head(10))\n"
      ],
      "metadata": {
        "id": "8zvMzGNPOvEa"
      },
      "execution_count": 72,
      "outputs": []
    },
    {
      "cell_type": "code",
      "source": [
        "# 33_avg_distance_by_route.py\n",
        "if {'route','DISTANCE'}.issubset(df.columns):\n",
        "    dist_route = df.groupby('route')['DISTANCE'].mean().sort_values(ascending=False)\n",
        "    print(\"Longest average routes:\\n\", dist_route.head(10))\n"
      ],
      "metadata": {
        "colab": {
          "base_uri": "https://localhost:8080/"
        },
        "id": "kn9hZC80OwAi",
        "outputId": "9918fba5-e00e-4a80-83db-cb0d437567b5"
      },
      "execution_count": 73,
      "outputs": [
        {
          "output_type": "stream",
          "name": "stdout",
          "text": [
            "Longest average routes:\n",
            " route\n",
            "GUM_SFO    5812.0\n",
            "BOS_HNL    5095.0\n",
            "HNL_BOS    5095.0\n",
            "HNL_JFK    4983.0\n",
            "JFK_HNL    4983.0\n",
            "HNL_EWR    4962.0\n",
            "EWR_HNL    4962.0\n",
            "OGG_EWR    4904.0\n",
            "EWR_OGG    4904.0\n",
            "IAD_HNL    4817.0\n",
            "Name: DISTANCE, dtype: float32\n"
          ]
        }
      ]
    },
    {
      "cell_type": "code",
      "source": [
        "# 34_dep_arr_correlation.py\n",
        "if {'DEP_DELAY','ARR_DELAY'}.issubset(df.columns):\n",
        "    corr = df[['DEP_DELAY','ARR_DELAY']].corr()\n",
        "    print(\"Correlation between departure and arrival delays:\\n\", corr)\n"
      ],
      "metadata": {
        "colab": {
          "base_uri": "https://localhost:8080/"
        },
        "id": "dLzqgzTQOw2q",
        "outputId": "2f3f5e52-9997-4f12-8672-3e5adfbe901b"
      },
      "execution_count": 74,
      "outputs": [
        {
          "output_type": "stream",
          "name": "stdout",
          "text": [
            "Correlation between departure and arrival delays:\n",
            "            DEP_DELAY  ARR_DELAY\n",
            "DEP_DELAY   1.000000   0.958144\n",
            "ARR_DELAY   0.958144   1.000000\n"
          ]
        }
      ]
    },
    {
      "cell_type": "code",
      "source": [
        "# 35_median_carrier_delay.py\n",
        "if {'OP_CARRIER','ARR_DELAY'}.issubset(df.columns):\n",
        "    med_delays = df.groupby('OP_CARRIER')['ARR_DELAY'].median()\n",
        "    print(\"Median delays per carrier:\\n\", med_delays.head(10))\n"
      ],
      "metadata": {
        "id": "fwuFrFHaOx0J"
      },
      "execution_count": 75,
      "outputs": []
    },
    {
      "cell_type": "code",
      "source": [
        "# 36_pct_delay_carrier.py\n",
        "if {'OP_CARRIER','is_arr_delay_15'}.issubset(df.columns):\n",
        "    pct_delay = df.groupby('OP_CARRIER')['is_arr_delay_15'].mean() * 100\n",
        "    print(\"Pct flights delayed >=15min per carrier:\\n\", pct_delay.head(10))\n"
      ],
      "metadata": {
        "id": "48DyiHz4O0hA"
      },
      "execution_count": 76,
      "outputs": []
    },
    {
      "cell_type": "code",
      "source": [
        "# 37_pct_delay_route.py\n",
        "if {'route','is_arr_delay_15'}.issubset(df.columns):\n",
        "    pct_delay_route = df.groupby('route')['is_arr_delay_15'].mean().sort_values(ascending=False) * 100\n",
        "    print(\"Pct delayed flights by route:\\n\", pct_delay_route.head(10))\n"
      ],
      "metadata": {
        "colab": {
          "base_uri": "https://localhost:8080/"
        },
        "id": "BYVeLVtVO0df",
        "outputId": "5f80246a-8542-4556-dd75-1960ae63b7ba"
      },
      "execution_count": 77,
      "outputs": [
        {
          "output_type": "stream",
          "name": "stdout",
          "text": [
            "Pct delayed flights by route:\n",
            " route\n",
            "EWR_ANC    100.0\n",
            "VPS_DCA    100.0\n",
            "TVC_DFW    100.0\n",
            "TVC_PIE    100.0\n",
            "VPS_DAY    100.0\n",
            "TYS_LAS    100.0\n",
            "UIN_ORD    100.0\n",
            "VPS_AUS    100.0\n",
            "VPS_BWI    100.0\n",
            "EWR_ACK    100.0\n",
            "Name: is_arr_delay_15, dtype: float64\n"
          ]
        }
      ]
    },
    {
      "cell_type": "code",
      "source": [
        "# 38_tod_counts.py\n",
        "if 'time_of_day' in df.columns:\n",
        "    print(\"Flights by time of day:\\n\", df['time_of_day'].value_counts())\n"
      ],
      "metadata": {
        "colab": {
          "base_uri": "https://localhost:8080/"
        },
        "id": "IUUHBkc7O0bU",
        "outputId": "1f16877b-316e-44c3-af8a-e012a022ba09"
      },
      "execution_count": 78,
      "outputs": [
        {
          "output_type": "stream",
          "name": "stdout",
          "text": [
            "Flights by time of day:\n",
            " time_of_day\n",
            "morning      41243\n",
            "afternoon    30086\n",
            "evening      22114\n",
            "night         6557\n",
            "Name: count, dtype: int64\n"
          ]
        }
      ]
    },
    {
      "cell_type": "code",
      "source": [
        "# 39_tod_avg_delays.py\n",
        "if {'time_of_day','ARR_DELAY'}.issubset(df.columns):\n",
        "    tod_delay = df.groupby('time_of_day')['ARR_DELAY'].mean()\n",
        "    print(\"Average arrival delay by time of day:\\n\", tod_delay)\n"
      ],
      "metadata": {
        "colab": {
          "base_uri": "https://localhost:8080/"
        },
        "id": "3Qsn9towO0ZI",
        "outputId": "2a94385b-b0ee-4cb1-923e-b7d68b032a2a"
      },
      "execution_count": 79,
      "outputs": [
        {
          "output_type": "stream",
          "name": "stdout",
          "text": [
            "Average arrival delay by time of day:\n",
            " time_of_day\n",
            "afternoon    5.489563\n",
            "evening      9.994122\n",
            "morning     -0.691366\n",
            "night        9.959433\n",
            "Name: ARR_DELAY, dtype: float32\n"
          ]
        },
        {
          "output_type": "stream",
          "name": "stderr",
          "text": [
            "/tmp/ipython-input-2419048857.py:3: FutureWarning: The default of observed=False is deprecated and will be changed to True in a future version of pandas. Pass observed=False to retain current behavior or observed=True to adopt the future default and silence this warning.\n",
            "  tod_delay = df.groupby('time_of_day')['ARR_DELAY'].mean()\n"
          ]
        }
      ]
    },
    {
      "cell_type": "code",
      "source": [
        "# 40_busiest_routes.py\n",
        "if 'route' in df.columns:\n",
        "    busiest = df['route'].value_counts().head(10)\n",
        "    print(\"Busiest routes:\\n\", busiest)\n"
      ],
      "metadata": {
        "colab": {
          "base_uri": "https://localhost:8080/"
        },
        "id": "wblVhMH1O0Wr",
        "outputId": "3e6838a0-3739-45f9-ca92-926a902e3fa5"
      },
      "execution_count": 80,
      "outputs": [
        {
          "output_type": "stream",
          "name": "stdout",
          "text": [
            "Busiest routes:\n",
            " route\n",
            "LAX_SFO    206\n",
            "SFO_LAX    188\n",
            "DCA_BOS    159\n",
            "JFK_LAX    156\n",
            "LAX_LAS    156\n",
            "OGG_HNL    152\n",
            "ORD_LGA    149\n",
            "LAS_LAX    148\n",
            "LAX_JFK    147\n",
            "LGA_ORD    145\n",
            "Name: count, dtype: int64\n"
          ]
        }
      ]
    },
    {
      "cell_type": "code",
      "source": [
        "# 41_longest_shortest_flights.py\n",
        "if 'DISTANCE' in df.columns:\n",
        "    print(\"Longest flights:\\n\", df.nlargest(5,'DISTANCE')[['ORIGIN','DEST','DISTANCE']])\n",
        "    print(\"Shortest flights:\\n\", df.nsmallest(5,'DISTANCE')[['ORIGIN','DEST','DISTANCE']])\n"
      ],
      "metadata": {
        "colab": {
          "base_uri": "https://localhost:8080/"
        },
        "id": "kabYPJLyO0Ua",
        "outputId": "b56e84fb-fb7e-4802-e1bb-61c9c6797119"
      },
      "execution_count": 81,
      "outputs": [
        {
          "output_type": "stream",
          "name": "stdout",
          "text": [
            "Longest flights:\n",
            "       ORIGIN DEST  DISTANCE\n",
            "11857    GUM  SFO    5812.0\n",
            "71369    BOS  HNL    5095.0\n",
            "83079    BOS  HNL    5095.0\n",
            "56484    HNL  BOS    5095.0\n",
            "38169    HNL  BOS    5095.0\n",
            "Shortest flights:\n",
            "       ORIGIN DEST  DISTANCE\n",
            "40928    EGE  ASE      29.0\n",
            "48209    HHH  SAV      30.0\n",
            "51211    PSG  WRG      31.0\n",
            "64848    PSG  WRG      31.0\n",
            "21308    PSG  WRG      31.0\n"
          ]
        }
      ]
    },
    {
      "cell_type": "code",
      "source": [
        "# 42_delay_distribution.py\n",
        "if 'ARR_DELAY' in df.columns:\n",
        "    print(df['ARR_DELAY'].describe(percentiles=[0.25,0.5,0.75,0.9,0.95]))\n"
      ],
      "metadata": {
        "colab": {
          "base_uri": "https://localhost:8080/"
        },
        "id": "9cMl4nl7O0SL",
        "outputId": "55934b28-2d35-4ad3-af51-69fc8160ab1e"
      },
      "execution_count": 82,
      "outputs": [
        {
          "output_type": "stream",
          "name": "stdout",
          "text": [
            "count    100000.000000\n",
            "mean          4.229590\n",
            "std          50.626984\n",
            "min         -88.000000\n",
            "25%         -15.000000\n",
            "50%          -6.000000\n",
            "75%           6.000000\n",
            "90%          35.000000\n",
            "95%          69.000000\n",
            "max        1520.000000\n",
            "Name: ARR_DELAY, dtype: float64\n"
          ]
        }
      ]
    },
    {
      "cell_type": "code",
      "source": [
        "# 43_extreme_delays.py\n",
        "if 'ARR_DELAY' in df.columns:\n",
        "    extremes = df.loc[df['ARR_DELAY'] > 300, ['AIRLINE_CODE','ORIGIN','DEST','ARR_DELAY']]\n",
        "    print(\"Flights with >5hr arrival delay:\\n\", extremes.head(10))"
      ],
      "metadata": {
        "colab": {
          "base_uri": "https://localhost:8080/"
        },
        "id": "ICrkhgT2O0Pq",
        "outputId": "5277f2ff-417c-4c09-a884-ff68cf8d9e0e"
      },
      "execution_count": 83,
      "outputs": [
        {
          "output_type": "stream",
          "name": "stdout",
          "text": [
            "Flights with >5hr arrival delay:\n",
            "       AIRLINE_CODE ORIGIN DEST  ARR_DELAY\n",
            "7461            G4    ABE  SFB      365.0\n",
            "86175           G4    ABQ  LAS      396.0\n",
            "549             OO    ABQ  PHX      312.0\n",
            "36058           OO    ABR  MSP      663.0\n",
            "32160           MQ    AEX  DFW      527.0\n",
            "46991           DL    ALB  ATL     1032.0\n",
            "13666           B6    ATL  BOS      338.0\n",
            "40997           DL    ATL  DCA      813.0\n",
            "15138           DL    ATL  DFW      388.0\n",
            "61802           DL    ATL  EWR      471.0\n"
          ]
        }
      ]
    },
    {
      "cell_type": "code",
      "source": [
        "# 44_early_arrivals.py\n",
        "if 'ARR_DELAY' in df.columns:\n",
        "    early = df.loc[df['ARR_DELAY'] < -30, ['AIRLINE_CODE','ORIGIN','DEST','ARR_DELAY']]\n",
        "    print(\"Flights with >30 min early arrival:\\n\", early.head(10))"
      ],
      "metadata": {
        "colab": {
          "base_uri": "https://localhost:8080/"
        },
        "id": "6YD3WhaEO0NY",
        "outputId": "09aeb3c4-4501-43c9-811a-9e34e47f155c"
      },
      "execution_count": 84,
      "outputs": [
        {
          "output_type": "stream",
          "name": "stdout",
          "text": [
            "Flights with >30 min early arrival:\n",
            "       AIRLINE_CODE ORIGIN DEST  ARR_DELAY\n",
            "69777           OH    ABE  CLT      -35.0\n",
            "46543           OH    ABE  CLT      -42.0\n",
            "8749            OH    ABE  CLT      -59.0\n",
            "95125           OH    ABE  CLT      -40.0\n",
            "79576           OH    ABE  CLT      -39.0\n",
            "15102           OH    ABE  CLT      -33.0\n",
            "99222           OH    ABE  CLT      -35.0\n",
            "80654           OH    ABE  CLT      -39.0\n",
            "81337           OO    ABE  DTW      -40.0\n",
            "52297           OO    ABI  IAH      -31.0\n"
          ]
        }
      ]
    },
    {
      "cell_type": "code",
      "source": [
        "# 45_cancelled_by_carrier.py\n",
        "if {'OP_CARRIER','is_cancelled'}.issubset(df.columns):\n",
        "    cancelled = df.groupby('OP_CARRIER')['is_cancelled'].sum().sort_values(ascending=False)\n",
        "    print(\"Cancelled flights per carrier:\\n\", cancelled)\n"
      ],
      "metadata": {
        "id": "xK7PsQ6JO0LA"
      },
      "execution_count": 85,
      "outputs": []
    },
    {
      "cell_type": "code",
      "source": [
        "# 46_cancelled_by_route.py\n",
        "if {'route','is_cancelled'}.issubset(df.columns):\n",
        "    cancelled_route = df.groupby('route')['is_cancelled'].sum().sort_values(ascending=False)\n",
        "    print(\"Cancelled flights per route:\\n\", cancelled_route.head(10))\n"
      ],
      "metadata": {
        "colab": {
          "base_uri": "https://localhost:8080/"
        },
        "id": "6pTXKFBwO0In",
        "outputId": "e0903338-faa7-41d5-f193-e8c9fec7b882"
      },
      "execution_count": 86,
      "outputs": [
        {
          "output_type": "stream",
          "name": "stdout",
          "text": [
            "Cancelled flights per route:\n",
            " route\n",
            "ORD_DCA    10\n",
            "ATL_EWR     9\n",
            "JFK_BOS     9\n",
            "DCA_BOS     8\n",
            "BOS_DCA     8\n",
            "CLT_LGA     7\n",
            "SFO_PHX     6\n",
            "ATL_DFW     6\n",
            "HNL_LIH     6\n",
            "SEA_LAX     6\n",
            "Name: is_cancelled, dtype: int8\n"
          ]
        }
      ]
    },
    {
      "cell_type": "code",
      "source": [
        "# 47_yearly_counts.py\n",
        "if 'YEAR' in df.columns:\n",
        "    yearly = df['YEAR'].value_counts().sort_index()\n",
        "    print(\"Flights per year:\\n\", yearly)\n"
      ],
      "metadata": {
        "id": "on18isB3O0GW"
      },
      "execution_count": 87,
      "outputs": []
    },
    {
      "cell_type": "code",
      "source": [
        "# 48_delay_variance_carrier.py\n",
        "if {'OP_CARRIER','ARR_DELAY'}.issubset(df.columns):\n",
        "    delay_var = df.groupby('OP_CARRIER')['ARR_DELAY'].var()\n",
        "    print(\"Delay variance per carrier:\\n\", delay_var.head(10))\n"
      ],
      "metadata": {
        "id": "P_Un0e8vO0D9"
      },
      "execution_count": 88,
      "outputs": []
    },
    {
      "cell_type": "code",
      "source": [
        "# 49_correlation_matrix.py\n",
        "num_cols = df.select_dtypes(include=[np.number]).columns\n",
        "corr_matrix = df[num_cols].corr()\n",
        "print(\"Correlation matrix (numeric cols):\\n\", corr_matrix.head())\n"
      ],
      "metadata": {
        "colab": {
          "base_uri": "https://localhost:8080/"
        },
        "id": "srNlti4LO0Bv",
        "outputId": "355b6bee-df41-425f-fb61-ea831f836464"
      },
      "execution_count": 89,
      "outputs": [
        {
          "output_type": "stream",
          "name": "stdout",
          "text": [
            "Correlation matrix (numeric cols):\n",
            "               DOT_CODE  FL_NUMBER  CRS_DEP_TIME  DEP_TIME  DEP_DELAY  TAXI_OUT  WHEELS_OFF  WHEELS_ON   TAXI_IN  CRS_ARR_TIME  ARR_TIME  ARR_DELAY  CANCELLED  DIVERTED  CRS_ELAPSED_TIME  \\\n",
            "DOT_CODE      1.000000   0.434009      0.008372  0.000594  -0.001638  0.212435    0.005992   0.001904  0.131198      0.006898  0.004755   0.015615  -0.006599  0.008983         -0.072968   \n",
            "FL_NUMBER     0.434009   1.000000     -0.000997  0.003558  -0.019413  0.092893    0.012758   0.008256 -0.009250      0.003626  0.012697  -0.014336   0.003427  0.005722         -0.326262   \n",
            "CRS_DEP_TIME  0.008372  -0.000997      1.000000  0.952157   0.092001  0.001815    0.924222   0.639261 -0.031784      0.694837  0.605173   0.089028   0.016066  0.007223         -0.013009   \n",
            "DEP_TIME      0.000594   0.003558      0.952157  1.000000   0.113765  0.009905    0.970251   0.667582 -0.027446      0.697959  0.632695   0.110942   0.015065  0.009409         -0.018072   \n",
            "DEP_DELAY    -0.001638  -0.019413      0.092001  0.113765   1.000000  0.054311    0.104423   0.018253  0.020226      0.071162  0.011741   0.958144  -0.027773  0.018806          0.020048   \n",
            "\n",
            "              ELAPSED_TIME  AIR_TIME  DISTANCE  DELAY_DUE_CARRIER  DELAY_DUE_WEATHER  DELAY_DUE_NAS  DELAY_DUE_SECURITY  DELAY_DUE_LATE_AIRCRAFT     month  day_of_week      hour  route_id  \\\n",
            "DOT_CODE         -0.060369 -0.101916 -0.117615           0.028585           0.047251       0.083773           -0.006834                 0.018569  0.005030     0.003951  0.008069 -0.032354   \n",
            "FL_NUMBER        -0.324149 -0.344384 -0.358294           0.016154           0.041247      -0.016640           -0.011665                 0.002059  0.016313     0.024283 -0.001215 -0.037306   \n",
            "CRS_DEP_TIME     -0.011494 -0.009040 -0.003664          -0.046857          -0.003432      -0.047244           -0.004744                 0.107830 -0.001664     0.006319  0.999312 -0.033522   \n",
            "DEP_TIME         -0.015655 -0.014801 -0.011171          -0.072276          -0.012558      -0.036192           -0.005948                 0.120745 -0.002889     0.005273  0.951062 -0.032900   \n",
            "DEP_DELAY         0.025976  0.017753  0.017985           0.708373           0.268727       0.149867            0.018829                 0.520802 -0.003992     0.011332  0.091807 -0.006900   \n",
            "\n",
            "              is_arr_delay_15  is_dep_delay_15  is_cancelled  dep_delay_minutes_calc  route_delay_roll5  ORIGIN_freq  DEST_freq  ORIGIN_code  DEST_code  time_of_day_code  \n",
            "DOT_CODE             0.004694        -0.035535     -0.006599               -0.021287           0.028721    -0.014633  -0.021094    -0.032335  -0.028197         -0.014052  \n",
            "FL_NUMBER           -0.026805        -0.039294      0.003427                0.016500          -0.008007    -0.065214  -0.074507    -0.033252  -0.038853         -0.049293  \n",
            "CRS_DEP_TIME         0.132167         0.162763      0.016066               -0.078956           0.050034     0.132066  -0.142004    -0.035211   0.027016         -0.271166  \n",
            "DEP_TIME             0.174006         0.209977      0.015065                0.228127           0.065009     0.125082  -0.137283    -0.034668   0.027673         -0.300927  \n",
            "DEP_DELAY            0.510882         0.558729     -0.027773                0.070960           0.534961     0.009304   0.003159    -0.006842  -0.003119         -0.031966  \n"
          ]
        }
      ]
    },
    {
      "cell_type": "code",
      "source": [
        "# 50_save_summaries.py\n",
        "summary_dict = {\n",
        "    'carrier_avg_delay': carrier_delay.head(10).to_dict() if 'carrier_delay' in locals() else {},\n",
        "    'route_stats': route_stats.head(10).to_dict() if 'route_stats' in locals() else {}\n",
        "}\n",
        "print(\"Summary checkpoint:\\n\", summary_dict)\n"
      ],
      "metadata": {
        "colab": {
          "base_uri": "https://localhost:8080/"
        },
        "id": "YjGha_yMOz-0",
        "outputId": "8c249d31-ef28-4bd7-93a5-234a8c333b63"
      },
      "execution_count": 90,
      "outputs": [
        {
          "output_type": "stream",
          "name": "stdout",
          "text": [
            "Summary checkpoint:\n",
            " {'carrier_avg_delay': {}, 'route_stats': {'mean': {'FCA_LGA': 1520.0, 'RFD_SFB': 595.0, 'BUF_MSP': 474.0, 'SMF_HOU': 408.0, 'AZA_GTF': 339.0, 'RIC_PHL': 324.0, 'EWR_VPS': 315.0, 'GSO_PHL': 307.3333435058594, 'GTF_AZA': 279.0, 'MLI_PIE': 278.3333435058594}, 'count': {'FCA_LGA': 1, 'RFD_SFB': 2, 'BUF_MSP': 2, 'SMF_HOU': 1, 'AZA_GTF': 1, 'RIC_PHL': 1, 'EWR_VPS': 1, 'GSO_PHL': 3, 'GTF_AZA': 1, 'MLI_PIE': 3}}}\n"
          ]
        }
      ]
    }
  ]
}