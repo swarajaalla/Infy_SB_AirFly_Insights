{
  "nbformat": 4,
  "nbformat_minor": 0,
  "metadata": {
    "colab": {
      "provenance": [],
      "authorship_tag": "ABX9TyNPJaqkg8Wr3q7tB7ItzE9f",
      "include_colab_link": true
    },
    "kernelspec": {
      "name": "python3",
      "display_name": "Python 3"
    },
    "language_info": {
      "name": "python"
    }
  },
  "cells": [
    {
      "cell_type": "markdown",
      "metadata": {
        "id": "view-in-github",
        "colab_type": "text"
      },
      "source": [
        "<a href=\"https://colab.research.google.com/github/swarajaalla/Infy_SB_AirFly_Insights/blob/sravani_dev/1st_Week_AirFly_Insights.ipynb\" target=\"_parent\"><img src=\"https://colab.research.google.com/assets/colab-badge.svg\" alt=\"Open In Colab\"/></a>"
      ]
    },
    {
      "cell_type": "code",
      "execution_count": 33,
      "metadata": {
        "colab": {
          "base_uri": "https://localhost:8080/"
        },
        "id": "L8Fb0vSGCOV9",
        "outputId": "4593c7d6-5c8e-4081-955b-23d2ab046a48"
      },
      "outputs": [
        {
          "output_type": "stream",
          "name": "stdout",
          "text": [
            "Libraries imported successfully\n"
          ]
        }
      ],
      "source": [
        "# Step 1: Import core libraries\n",
        "import pandas as pd\n",
        "import numpy as np\n",
        "print(\"Libraries imported successfully\")\n"
      ]
    },
    {
      "cell_type": "code",
      "source": [
        "# Step 2: Load the dataset\n",
        "df = pd.read_csv(\"/content/flights_sample_100k.csv.zip\", low_memory=False)\n",
        "print(\"Dataset loaded successfully\")\n"
      ],
      "metadata": {
        "colab": {
          "base_uri": "https://localhost:8080/"
        },
        "id": "8ll6cfyRCjqC",
        "outputId": "b6eeedee-86ff-4cd5-dc8d-ccb73e01d5f1"
      },
      "execution_count": 34,
      "outputs": [
        {
          "output_type": "stream",
          "name": "stdout",
          "text": [
            "Dataset loaded successfully\n"
          ]
        }
      ]
    },
    {
      "cell_type": "code",
      "source": [
        "# Step 3: Print shape of dataset\n",
        "print(\"Shape of dataset:\", df.shape)\n"
      ],
      "metadata": {
        "colab": {
          "base_uri": "https://localhost:8080/"
        },
        "id": "pT43XiV2C5_L",
        "outputId": "6b878e54-19de-4587-d315-5897b3db29f8"
      },
      "execution_count": 35,
      "outputs": [
        {
          "output_type": "stream",
          "name": "stdout",
          "text": [
            "Shape of dataset: (100000, 32)\n"
          ]
        }
      ]
    },
    {
      "cell_type": "code",
      "source": [
        "# Step 4: Display all column names\n",
        "print(\"Columns in dataset:\", df.columns.tolist())\n"
      ],
      "metadata": {
        "colab": {
          "base_uri": "https://localhost:8080/"
        },
        "id": "yD5GcsX8DITe",
        "outputId": "d94dc0e2-f717-4c67-d2d2-a52864e32983"
      },
      "execution_count": 36,
      "outputs": [
        {
          "output_type": "stream",
          "name": "stdout",
          "text": [
            "Columns in dataset: ['FL_DATE', 'AIRLINE', 'AIRLINE_DOT', 'AIRLINE_CODE', 'DOT_CODE', 'FL_NUMBER', 'ORIGIN', 'ORIGIN_CITY', 'DEST', 'DEST_CITY', 'CRS_DEP_TIME', 'DEP_TIME', 'DEP_DELAY', 'TAXI_OUT', 'WHEELS_OFF', 'WHEELS_ON', 'TAXI_IN', 'CRS_ARR_TIME', 'ARR_TIME', 'ARR_DELAY', 'CANCELLED', 'CANCELLATION_CODE', 'DIVERTED', 'CRS_ELAPSED_TIME', 'ELAPSED_TIME', 'AIR_TIME', 'DISTANCE', 'DELAY_DUE_CARRIER', 'DELAY_DUE_WEATHER', 'DELAY_DUE_NAS', 'DELAY_DUE_SECURITY', 'DELAY_DUE_LATE_AIRCRAFT']\n"
          ]
        }
      ]
    },
    {
      "cell_type": "code",
      "source": [
        "# Step 5: Display data types of each column\n",
        "print(df.dtypes)\n"
      ],
      "metadata": {
        "colab": {
          "base_uri": "https://localhost:8080/"
        },
        "id": "Q8bLNUKFDVUr",
        "outputId": "05278925-fd5e-4e30-aeac-311fcf3185b8"
      },
      "execution_count": 37,
      "outputs": [
        {
          "output_type": "stream",
          "name": "stdout",
          "text": [
            "FL_DATE                     object\n",
            "AIRLINE                     object\n",
            "AIRLINE_DOT                 object\n",
            "AIRLINE_CODE                object\n",
            "DOT_CODE                     int64\n",
            "FL_NUMBER                    int64\n",
            "ORIGIN                      object\n",
            "ORIGIN_CITY                 object\n",
            "DEST                        object\n",
            "DEST_CITY                   object\n",
            "CRS_DEP_TIME                 int64\n",
            "DEP_TIME                   float64\n",
            "DEP_DELAY                  float64\n",
            "TAXI_OUT                   float64\n",
            "WHEELS_OFF                 float64\n",
            "WHEELS_ON                  float64\n",
            "TAXI_IN                    float64\n",
            "CRS_ARR_TIME                 int64\n",
            "ARR_TIME                   float64\n",
            "ARR_DELAY                  float64\n",
            "CANCELLED                  float64\n",
            "CANCELLATION_CODE           object\n",
            "DIVERTED                   float64\n",
            "CRS_ELAPSED_TIME           float64\n",
            "ELAPSED_TIME               float64\n",
            "AIR_TIME                   float64\n",
            "DISTANCE                   float64\n",
            "DELAY_DUE_CARRIER          float64\n",
            "DELAY_DUE_WEATHER          float64\n",
            "DELAY_DUE_NAS              float64\n",
            "DELAY_DUE_SECURITY         float64\n",
            "DELAY_DUE_LATE_AIRCRAFT    float64\n",
            "dtype: object\n"
          ]
        }
      ]
    },
    {
      "cell_type": "code",
      "source": [
        "# Step 6: Dataset info (non-null counts and memory usage)\n",
        "print(df.info())\n"
      ],
      "metadata": {
        "colab": {
          "base_uri": "https://localhost:8080/"
        },
        "id": "iHWWOm_VDZXK",
        "outputId": "c7b29f5c-823b-4bd0-e43a-d7a3e308a29d"
      },
      "execution_count": 38,
      "outputs": [
        {
          "output_type": "stream",
          "name": "stdout",
          "text": [
            "<class 'pandas.core.frame.DataFrame'>\n",
            "RangeIndex: 100000 entries, 0 to 99999\n",
            "Data columns (total 32 columns):\n",
            " #   Column                   Non-Null Count   Dtype  \n",
            "---  ------                   --------------   -----  \n",
            " 0   FL_DATE                  100000 non-null  object \n",
            " 1   AIRLINE                  100000 non-null  object \n",
            " 2   AIRLINE_DOT              100000 non-null  object \n",
            " 3   AIRLINE_CODE             100000 non-null  object \n",
            " 4   DOT_CODE                 100000 non-null  int64  \n",
            " 5   FL_NUMBER                100000 non-null  int64  \n",
            " 6   ORIGIN                   100000 non-null  object \n",
            " 7   ORIGIN_CITY              100000 non-null  object \n",
            " 8   DEST                     100000 non-null  object \n",
            " 9   DEST_CITY                100000 non-null  object \n",
            " 10  CRS_DEP_TIME             100000 non-null  int64  \n",
            " 11  DEP_TIME                 97424 non-null   float64\n",
            " 12  DEP_DELAY                97423 non-null   float64\n",
            " 13  TAXI_OUT                 97382 non-null   float64\n",
            " 14  WHEELS_OFF               97382 non-null   float64\n",
            " 15  WHEELS_ON                97345 non-null   float64\n",
            " 16  TAXI_IN                  97345 non-null   float64\n",
            " 17  CRS_ARR_TIME             100000 non-null  int64  \n",
            " 18  ARR_TIME                 97345 non-null   float64\n",
            " 19  ARR_DELAY                97148 non-null   float64\n",
            " 20  CANCELLED                100000 non-null  float64\n",
            " 21  CANCELLATION_CODE        2627 non-null    object \n",
            " 22  DIVERTED                 100000 non-null  float64\n",
            " 23  CRS_ELAPSED_TIME         100000 non-null  float64\n",
            " 24  ELAPSED_TIME             97148 non-null   float64\n",
            " 25  AIR_TIME                 97148 non-null   float64\n",
            " 26  DISTANCE                 100000 non-null  float64\n",
            " 27  DELAY_DUE_CARRIER        17992 non-null   float64\n",
            " 28  DELAY_DUE_WEATHER        17992 non-null   float64\n",
            " 29  DELAY_DUE_NAS            17992 non-null   float64\n",
            " 30  DELAY_DUE_SECURITY       17992 non-null   float64\n",
            " 31  DELAY_DUE_LATE_AIRCRAFT  17992 non-null   float64\n",
            "dtypes: float64(19), int64(4), object(9)\n",
            "memory usage: 24.4+ MB\n",
            "None\n"
          ]
        }
      ]
    },
    {
      "cell_type": "code",
      "source": [
        "# Step 7: Count missing values per column\n",
        "print(df.isnull().sum())\n"
      ],
      "metadata": {
        "colab": {
          "base_uri": "https://localhost:8080/"
        },
        "id": "rgIAL3suDc8U",
        "outputId": "b13e6150-3a10-41a5-f49e-234e41bb1cbe"
      },
      "execution_count": 39,
      "outputs": [
        {
          "output_type": "stream",
          "name": "stdout",
          "text": [
            "FL_DATE                        0\n",
            "AIRLINE                        0\n",
            "AIRLINE_DOT                    0\n",
            "AIRLINE_CODE                   0\n",
            "DOT_CODE                       0\n",
            "FL_NUMBER                      0\n",
            "ORIGIN                         0\n",
            "ORIGIN_CITY                    0\n",
            "DEST                           0\n",
            "DEST_CITY                      0\n",
            "CRS_DEP_TIME                   0\n",
            "DEP_TIME                    2576\n",
            "DEP_DELAY                   2577\n",
            "TAXI_OUT                    2618\n",
            "WHEELS_OFF                  2618\n",
            "WHEELS_ON                   2655\n",
            "TAXI_IN                     2655\n",
            "CRS_ARR_TIME                   0\n",
            "ARR_TIME                    2655\n",
            "ARR_DELAY                   2852\n",
            "CANCELLED                      0\n",
            "CANCELLATION_CODE          97373\n",
            "DIVERTED                       0\n",
            "CRS_ELAPSED_TIME               0\n",
            "ELAPSED_TIME                2852\n",
            "AIR_TIME                    2852\n",
            "DISTANCE                       0\n",
            "DELAY_DUE_CARRIER          82008\n",
            "DELAY_DUE_WEATHER          82008\n",
            "DELAY_DUE_NAS              82008\n",
            "DELAY_DUE_SECURITY         82008\n",
            "DELAY_DUE_LATE_AIRCRAFT    82008\n",
            "dtype: int64\n"
          ]
        }
      ]
    },
    {
      "cell_type": "code",
      "source": [
        "# Step 8: Percentage of missing values per column\n",
        "print((df.isnull().mean() * 100).round(2))\n"
      ],
      "metadata": {
        "colab": {
          "base_uri": "https://localhost:8080/"
        },
        "id": "s45dy8T8DgZc",
        "outputId": "fbb25213-c7c0-4db6-b559-3b139ad569b1"
      },
      "execution_count": 40,
      "outputs": [
        {
          "output_type": "stream",
          "name": "stdout",
          "text": [
            "FL_DATE                     0.00\n",
            "AIRLINE                     0.00\n",
            "AIRLINE_DOT                 0.00\n",
            "AIRLINE_CODE                0.00\n",
            "DOT_CODE                    0.00\n",
            "FL_NUMBER                   0.00\n",
            "ORIGIN                      0.00\n",
            "ORIGIN_CITY                 0.00\n",
            "DEST                        0.00\n",
            "DEST_CITY                   0.00\n",
            "CRS_DEP_TIME                0.00\n",
            "DEP_TIME                    2.58\n",
            "DEP_DELAY                   2.58\n",
            "TAXI_OUT                    2.62\n",
            "WHEELS_OFF                  2.62\n",
            "WHEELS_ON                   2.66\n",
            "TAXI_IN                     2.66\n",
            "CRS_ARR_TIME                0.00\n",
            "ARR_TIME                    2.66\n",
            "ARR_DELAY                   2.85\n",
            "CANCELLED                   0.00\n",
            "CANCELLATION_CODE          97.37\n",
            "DIVERTED                    0.00\n",
            "CRS_ELAPSED_TIME            0.00\n",
            "ELAPSED_TIME                2.85\n",
            "AIR_TIME                    2.85\n",
            "DISTANCE                    0.00\n",
            "DELAY_DUE_CARRIER          82.01\n",
            "DELAY_DUE_WEATHER          82.01\n",
            "DELAY_DUE_NAS              82.01\n",
            "DELAY_DUE_SECURITY         82.01\n",
            "DELAY_DUE_LATE_AIRCRAFT    82.01\n",
            "dtype: float64\n"
          ]
        }
      ]
    },
    {
      "cell_type": "code",
      "source": [
        "# Step 9: Show first 5 rows\n",
        "print(df.head())\n"
      ],
      "metadata": {
        "colab": {
          "base_uri": "https://localhost:8080/"
        },
        "id": "BbUde8GADjbv",
        "outputId": "618f629d-9390-4cac-edf3-eae68237c7dc"
      },
      "execution_count": 41,
      "outputs": [
        {
          "output_type": "stream",
          "name": "stdout",
          "text": [
            "      FL_DATE                 AIRLINE                 AIRLINE_DOT  \\\n",
            "0  2019-03-01           Allegiant Air           Allegiant Air: G4   \n",
            "1  2021-02-16  American Airlines Inc.  American Airlines Inc.: AA   \n",
            "2  2022-04-12       PSA Airlines Inc.       PSA Airlines Inc.: OH   \n",
            "3  2021-10-13  Southwest Airlines Co.  Southwest Airlines Co.: WN   \n",
            "4  2022-06-05  Southwest Airlines Co.  Southwest Airlines Co.: WN   \n",
            "\n",
            "  AIRLINE_CODE  DOT_CODE  FL_NUMBER ORIGIN                     ORIGIN_CITY  \\\n",
            "0           G4     20368       1668    PGD                 Punta Gorda, FL   \n",
            "1           AA     19805       2437    DFW           Dallas/Fort Worth, TX   \n",
            "2           OH     20397       5560    EWN  New Bern/Morehead/Beaufort, NC   \n",
            "3           WN     19393       1944    ABQ                 Albuquerque, NM   \n",
            "4           WN     19393       3081    PIT                  Pittsburgh, PA   \n",
            "\n",
            "  DEST        DEST_CITY  ...  DIVERTED  CRS_ELAPSED_TIME  ELAPSED_TIME  \\\n",
            "0  SPI  Springfield, IL  ...       0.0             160.0         138.0   \n",
            "1  LAX  Los Angeles, CA  ...       0.0             211.0           NaN   \n",
            "2  CLT    Charlotte, NC  ...       0.0              79.0          78.0   \n",
            "3  DEN       Denver, CO  ...       0.0              80.0          71.0   \n",
            "4  STL    St. Louis, MO  ...       0.0             105.0         100.0   \n",
            "\n",
            "   AIR_TIME  DISTANCE  DELAY_DUE_CARRIER  DELAY_DUE_WEATHER  DELAY_DUE_NAS  \\\n",
            "0     122.0     994.0                NaN                NaN            NaN   \n",
            "1       NaN    1235.0                NaN                NaN            NaN   \n",
            "2      51.0     221.0                NaN                NaN            NaN   \n",
            "3      49.0     349.0               10.0                0.0            0.0   \n",
            "4      82.0     554.0                NaN                NaN            NaN   \n",
            "\n",
            "   DELAY_DUE_SECURITY  DELAY_DUE_LATE_AIRCRAFT  \n",
            "0                 NaN                      NaN  \n",
            "1                 NaN                      NaN  \n",
            "2                 NaN                      NaN  \n",
            "3                 0.0                      6.0  \n",
            "4                 NaN                      NaN  \n",
            "\n",
            "[5 rows x 32 columns]\n"
          ]
        }
      ]
    },
    {
      "cell_type": "code",
      "source": [
        "# Step 10: Show last 5 rows\n",
        "print(df.tail())\n"
      ],
      "metadata": {
        "colab": {
          "base_uri": "https://localhost:8080/"
        },
        "id": "EJmldDZADpqS",
        "outputId": "48f8cec2-9231-4e37-9c16-825cf4140a32"
      },
      "execution_count": 42,
      "outputs": [
        {
          "output_type": "stream",
          "name": "stdout",
          "text": [
            "          FL_DATE                 AIRLINE                 AIRLINE_DOT  \\\n",
            "99995  2019-02-26    Delta Air Lines Inc.    Delta Air Lines Inc.: DL   \n",
            "99996  2023-02-10  Southwest Airlines Co.  Southwest Airlines Co.: WN   \n",
            "99997  2019-06-26       Endeavor Air Inc.       Endeavor Air Inc.: 9E   \n",
            "99998  2023-06-22       Endeavor Air Inc.       Endeavor Air Inc.: 9E   \n",
            "99999  2022-01-07       Endeavor Air Inc.       Endeavor Air Inc.: 9E   \n",
            "\n",
            "      AIRLINE_CODE  DOT_CODE  FL_NUMBER ORIGIN     ORIGIN_CITY DEST  \\\n",
            "99995           DL     19790       2229    CHS  Charleston, SC  ATL   \n",
            "99996           WN     19393       2977    MDW     Chicago, IL  LAX   \n",
            "99997           9E     20363       5003    ORF     Norfolk, VA  JFK   \n",
            "99998           9E     20363       5173    CVG  Cincinnati, OH  LGA   \n",
            "99999           9E     20363       5227    ATL     Atlanta, GA  SHV   \n",
            "\n",
            "             DEST_CITY  ...  DIVERTED  CRS_ELAPSED_TIME  ELAPSED_TIME  \\\n",
            "99995      Atlanta, GA  ...       0.0              84.0          73.0   \n",
            "99996  Los Angeles, CA  ...       0.0             280.0         239.0   \n",
            "99997     New York, NY  ...       0.0              93.0          82.0   \n",
            "99998     New York, NY  ...       0.0             127.0         110.0   \n",
            "99999   Shreveport, LA  ...       0.0             113.0         100.0   \n",
            "\n",
            "       AIR_TIME  DISTANCE  DELAY_DUE_CARRIER  DELAY_DUE_WEATHER  \\\n",
            "99995      50.0     259.0                NaN                NaN   \n",
            "99996     209.0    1750.0               88.0                0.0   \n",
            "99997      51.0     290.0                NaN                NaN   \n",
            "99998      87.0     585.0                NaN                NaN   \n",
            "99999      86.0     551.0                0.0                0.0   \n",
            "\n",
            "       DELAY_DUE_NAS  DELAY_DUE_SECURITY  DELAY_DUE_LATE_AIRCRAFT  \n",
            "99995            NaN                 NaN                      NaN  \n",
            "99996            0.0                 0.0                      0.0  \n",
            "99997            NaN                 NaN                      NaN  \n",
            "99998            NaN                 NaN                      NaN  \n",
            "99999            0.0                 0.0                     22.0  \n",
            "\n",
            "[5 rows x 32 columns]\n"
          ]
        }
      ]
    },
    {
      "cell_type": "code",
      "source": [
        "# Step 11: Show 10 random rows\n",
        "print(df.sample(10))\n"
      ],
      "metadata": {
        "colab": {
          "base_uri": "https://localhost:8080/"
        },
        "id": "aC5VAu9hDtQi",
        "outputId": "7b079a44-d2bd-4a9d-9c5e-8bac6e100473"
      },
      "execution_count": 43,
      "outputs": [
        {
          "output_type": "stream",
          "name": "stdout",
          "text": [
            "          FL_DATE                 AIRLINE                 AIRLINE_DOT  \\\n",
            "69273  2023-02-05         JetBlue Airways         JetBlue Airways: B6   \n",
            "75226  2021-08-28      Mesa Airlines Inc.      Mesa Airlines Inc.: YV   \n",
            "23882  2021-03-08  Southwest Airlines Co.  Southwest Airlines Co.: WN   \n",
            "83214  2023-03-17  Southwest Airlines Co.  Southwest Airlines Co.: WN   \n",
            "74499  2019-04-05    Delta Air Lines Inc.    Delta Air Lines Inc.: DL   \n",
            "65734  2023-08-02       Endeavor Air Inc.       Endeavor Air Inc.: 9E   \n",
            "80085  2022-04-21  Southwest Airlines Co.  Southwest Airlines Co.: WN   \n",
            "61576  2023-02-05   United Air Lines Inc.   United Air Lines Inc.: UA   \n",
            "8454   2019-09-23    Alaska Airlines Inc.    Alaska Airlines Inc.: AS   \n",
            "71300  2023-06-17       PSA Airlines Inc.       PSA Airlines Inc.: OH   \n",
            "\n",
            "      AIRLINE_CODE  DOT_CODE  FL_NUMBER ORIGIN            ORIGIN_CITY DEST  \\\n",
            "69273           B6     20409        130    RSW         Fort Myers, FL  JFK   \n",
            "75226           YV     20378       5791    DFW  Dallas/Fort Worth, TX  MAF   \n",
            "23882           WN     19393       1046    BWI          Baltimore, MD  SRQ   \n",
            "83214           WN     19393        799    SFO      San Francisco, CA  LAS   \n",
            "74499           DL     19790       1309    ATL            Atlanta, GA  EWR   \n",
            "65734           9E     20363       5292    ATL            Atlanta, GA  ABE   \n",
            "80085           WN     19393        447    DEN             Denver, CO  PHX   \n",
            "61576           UA     19977       1303    PHX            Phoenix, AZ  DEN   \n",
            "8454            AS     19930        803    SJC           San Jose, CA  OGG   \n",
            "71300           OH     20397       5610    MYR       Myrtle Beach, SC  DFW   \n",
            "\n",
            "                            DEST_CITY  ...  DIVERTED  CRS_ELAPSED_TIME  \\\n",
            "69273                    New York, NY  ...       0.0             177.0   \n",
            "75226              Midland/Odessa, TX  ...       0.0              77.0   \n",
            "23882          Sarasota/Bradenton, FL  ...       0.0             155.0   \n",
            "83214                   Las Vegas, NV  ...       0.0              90.0   \n",
            "74499                      Newark, NJ  ...       0.0             129.0   \n",
            "65734  Allentown/Bethlehem/Easton, PA  ...       0.0             127.0   \n",
            "80085                     Phoenix, AZ  ...       0.0             115.0   \n",
            "61576                      Denver, CO  ...       0.0             112.0   \n",
            "8454                      Kahului, HI  ...       0.0             330.0   \n",
            "71300           Dallas/Fort Worth, TX  ...       0.0             199.0   \n",
            "\n",
            "       ELAPSED_TIME  AIR_TIME  DISTANCE  DELAY_DUE_CARRIER  DELAY_DUE_WEATHER  \\\n",
            "69273         163.0     139.0    1074.0                NaN                NaN   \n",
            "75226          59.0      47.0     309.0                NaN                NaN   \n",
            "23882         132.0     119.0     880.0                NaN                NaN   \n",
            "83214          96.0      65.0     414.0                NaN                NaN   \n",
            "74499         113.0      94.0     746.0                NaN                NaN   \n",
            "65734         117.0      95.0     692.0                NaN                NaN   \n",
            "80085         107.0      88.0     602.0                NaN                NaN   \n",
            "61576          94.0      72.0     602.0                NaN                NaN   \n",
            "8454          297.0     277.0    2355.0                NaN                NaN   \n",
            "71300         173.0     144.0    1048.0                NaN                NaN   \n",
            "\n",
            "       DELAY_DUE_NAS  DELAY_DUE_SECURITY  DELAY_DUE_LATE_AIRCRAFT  \n",
            "69273            NaN                 NaN                      NaN  \n",
            "75226            NaN                 NaN                      NaN  \n",
            "23882            NaN                 NaN                      NaN  \n",
            "83214            NaN                 NaN                      NaN  \n",
            "74499            NaN                 NaN                      NaN  \n",
            "65734            NaN                 NaN                      NaN  \n",
            "80085            NaN                 NaN                      NaN  \n",
            "61576            NaN                 NaN                      NaN  \n",
            "8454             NaN                 NaN                      NaN  \n",
            "71300            NaN                 NaN                      NaN  \n",
            "\n",
            "[10 rows x 32 columns]\n"
          ]
        }
      ]
    },
    {
      "cell_type": "code",
      "source": [
        "# Step 12: Memory usage of dataset\n",
        "print(\"Memory usage MB:\", df.memory_usage(deep=True).sum() / (1024*1024))\n"
      ],
      "metadata": {
        "colab": {
          "base_uri": "https://localhost:8080/"
        },
        "id": "3j4xiuH8DwH6",
        "outputId": "4ef66aa8-181e-444d-d9fe-7c1891407e7a"
      },
      "execution_count": 44,
      "outputs": [
        {
          "output_type": "stream",
          "name": "stdout",
          "text": [
            "Memory usage MB: 66.36585330963135\n"
          ]
        }
      ]
    },
    {
      "cell_type": "code",
      "source": [
        "# Step 13: Unique airlines\n",
        "print(\"Unique airlines:\", df[\"AIRLINE\"].nunique())\n",
        "print(df[\"AIRLINE\"].unique()[:10])\n"
      ],
      "metadata": {
        "colab": {
          "base_uri": "https://localhost:8080/"
        },
        "id": "5fypV-8QD0Pg",
        "outputId": "7e3c9e3a-ac3d-4777-cf51-72ab910efe85"
      },
      "execution_count": 45,
      "outputs": [
        {
          "output_type": "stream",
          "name": "stdout",
          "text": [
            "Unique airlines: 18\n",
            "['Allegiant Air' 'American Airlines Inc.' 'PSA Airlines Inc.'\n",
            " 'Southwest Airlines Co.' 'Delta Air Lines Inc.' 'United Air Lines Inc.'\n",
            " 'Spirit Air Lines' 'SkyWest Airlines Inc.' 'Republic Airline'\n",
            " 'JetBlue Airways']\n"
          ]
        }
      ]
    },
    {
      "cell_type": "code",
      "source": [
        "# Step 14: Unique origin and destination airports\n",
        "print(\"Unique origins:\", df[\"ORIGIN\"].nunique())\n",
        "print(\"Unique destinations:\", df[\"DEST\"].nunique())\n"
      ],
      "metadata": {
        "colab": {
          "base_uri": "https://localhost:8080/"
        },
        "id": "xrEqkc-DD3AJ",
        "outputId": "07a81fed-b587-4187-9d00-22a7808b7880"
      },
      "execution_count": 46,
      "outputs": [
        {
          "output_type": "stream",
          "name": "stdout",
          "text": [
            "Unique origins: 372\n",
            "Unique destinations: 376\n"
          ]
        }
      ]
    },
    {
      "cell_type": "code",
      "source": [
        "# Step 15: Top 5 airlines by flight count\n",
        "print(df[\"AIRLINE\"].value_counts().head(5))\n"
      ],
      "metadata": {
        "colab": {
          "base_uri": "https://localhost:8080/"
        },
        "id": "p2uLDwo1D6w0",
        "outputId": "54bcbeb7-8eb2-4847-c755-143897c5e54e"
      },
      "execution_count": 47,
      "outputs": [
        {
          "output_type": "stream",
          "name": "stdout",
          "text": [
            "AIRLINE\n",
            "Southwest Airlines Co.    19150\n",
            "Delta Air Lines Inc.      13070\n",
            "American Airlines Inc.    12874\n",
            "SkyWest Airlines Inc.     11306\n",
            "United Air Lines Inc.      8506\n",
            "Name: count, dtype: int64\n"
          ]
        }
      ]
    },
    {
      "cell_type": "code",
      "source": [
        "# Step 16: Top 5 origin airports\n",
        "print(df[\"ORIGIN\"].value_counts().head(5))\n"
      ],
      "metadata": {
        "colab": {
          "base_uri": "https://localhost:8080/"
        },
        "id": "ExtswUo2D_nM",
        "outputId": "29054c25-b171-46a0-ef39-bfd66ed5410c"
      },
      "execution_count": 48,
      "outputs": [
        {
          "output_type": "stream",
          "name": "stdout",
          "text": [
            "ORIGIN\n",
            "ATL    5099\n",
            "DFW    4444\n",
            "ORD    4053\n",
            "DEN    3886\n",
            "CLT    3110\n",
            "Name: count, dtype: int64\n"
          ]
        }
      ]
    },
    {
      "cell_type": "code",
      "source": [
        "# Step 17: Top 5 destination airports\n",
        "print(df[\"DEST\"].value_counts().head(5))\n"
      ],
      "metadata": {
        "colab": {
          "base_uri": "https://localhost:8080/"
        },
        "id": "dGeZrdq7ECAV",
        "outputId": "07b5a05f-5f08-4175-dfc2-1f6b7597b1e6"
      },
      "execution_count": 49,
      "outputs": [
        {
          "output_type": "stream",
          "name": "stdout",
          "text": [
            "DEST\n",
            "ATL    5095\n",
            "DFW    4239\n",
            "ORD    4157\n",
            "DEN    3956\n",
            "CLT    3269\n",
            "Name: count, dtype: int64\n"
          ]
        }
      ]
    },
    {
      "cell_type": "code",
      "source": [
        "# Step 18: Total number of flights\n",
        "print(\"Total flights:\", len(df))\n"
      ],
      "metadata": {
        "colab": {
          "base_uri": "https://localhost:8080/"
        },
        "id": "Y__eznC_EEn-",
        "outputId": "aee9cedb-92ce-4df7-affd-0fb7218584c7"
      },
      "execution_count": 50,
      "outputs": [
        {
          "output_type": "stream",
          "name": "stdout",
          "text": [
            "Total flights: 100000\n"
          ]
        }
      ]
    },
    {
      "cell_type": "code",
      "source": [
        "# Step 19: Convert FL_DATE to datetime\n",
        "df[\"FL_DATE\"] = pd.to_datetime(df[\"FL_DATE\"], errors=\"coerce\")\n",
        "print(\"Converted FL_DATE to datetime\")\n"
      ],
      "metadata": {
        "colab": {
          "base_uri": "https://localhost:8080/"
        },
        "id": "GkGOGkqbEHAS",
        "outputId": "3829abac-08f8-406b-e072-b041fb969384"
      },
      "execution_count": 51,
      "outputs": [
        {
          "output_type": "stream",
          "name": "stdout",
          "text": [
            "Converted FL_DATE to datetime\n"
          ]
        }
      ]
    },
    {
      "cell_type": "code",
      "source": [
        "# Step 20: Extract year from FL_DATE\n",
        "df[\"Year\"] = df[\"FL_DATE\"].dt.year\n",
        "print(df[\"Year\"].head())\n"
      ],
      "metadata": {
        "colab": {
          "base_uri": "https://localhost:8080/"
        },
        "id": "WSklXNjWEKJZ",
        "outputId": "994802e0-c6e2-4d46-ad3f-cf6c44227a6e"
      },
      "execution_count": 52,
      "outputs": [
        {
          "output_type": "stream",
          "name": "stdout",
          "text": [
            "0    2019\n",
            "1    2021\n",
            "2    2022\n",
            "3    2021\n",
            "4    2022\n",
            "Name: Year, dtype: int32\n"
          ]
        }
      ]
    },
    {
      "cell_type": "code",
      "source": [
        "# Step 21: Extract month from FL_DATE\n",
        "df[\"Month\"] = df[\"FL_DATE\"].dt.month\n",
        "print(df[\"Month\"].head())"
      ],
      "metadata": {
        "id": "HIC9s9lHENy8",
        "colab": {
          "base_uri": "https://localhost:8080/"
        },
        "outputId": "9869073b-537c-4157-8883-03e88a5a9322"
      },
      "execution_count": 53,
      "outputs": [
        {
          "output_type": "stream",
          "name": "stdout",
          "text": [
            "0     3\n",
            "1     2\n",
            "2     4\n",
            "3    10\n",
            "4     6\n",
            "Name: Month, dtype: int32\n"
          ]
        }
      ]
    },
    {
      "cell_type": "code",
      "source": [
        "# Step 22: Extract day of month from FL_DATE\n",
        "df[\"Day\"] = df[\"FL_DATE\"].dt.day\n",
        "print(df[\"Day\"].head())\n"
      ],
      "metadata": {
        "id": "IMrFqbejEfIn",
        "colab": {
          "base_uri": "https://localhost:8080/"
        },
        "outputId": "85e48f8c-1315-4fdd-dc67-f46777bbb5d3"
      },
      "execution_count": 54,
      "outputs": [
        {
          "output_type": "stream",
          "name": "stdout",
          "text": [
            "0     1\n",
            "1    16\n",
            "2    12\n",
            "3    13\n",
            "4     5\n",
            "Name: Day, dtype: int32\n"
          ]
        }
      ]
    },
    {
      "cell_type": "code",
      "source": [
        "# Step 23: Extract day of week\n",
        "df[\"DayOfWeek\"] = df[\"FL_DATE\"].dt.day_name()\n",
        "print(df[\"DayOfWeek\"].head())\n"
      ],
      "metadata": {
        "id": "w2ojJ2wnEivv",
        "colab": {
          "base_uri": "https://localhost:8080/"
        },
        "outputId": "0e1fe7a8-b3df-4d90-ebcc-d3f666a78f46"
      },
      "execution_count": 55,
      "outputs": [
        {
          "output_type": "stream",
          "name": "stdout",
          "text": [
            "0       Friday\n",
            "1      Tuesday\n",
            "2      Tuesday\n",
            "3    Wednesday\n",
            "4       Sunday\n",
            "Name: DayOfWeek, dtype: object\n"
          ]
        }
      ]
    },
    {
      "cell_type": "code",
      "source": [
        "# Step 24: Extract hour from CRS_DEP_TIME\n",
        "df[\"CRS_DEP_TIME\"] = df[\"CRS_DEP_TIME\"].astype(str).str.zfill(4)\n",
        "df[\"DepHour\"] = df[\"CRS_DEP_TIME\"].str[:2].astype(int)\n",
        "print(df[[\"CRS_DEP_TIME\",\"DepHour\"]].head())\n"
      ],
      "metadata": {
        "id": "ayMYmLWdEmXG",
        "colab": {
          "base_uri": "https://localhost:8080/"
        },
        "outputId": "c4557c01-0e10-4cf6-bc69-9144ef15c458"
      },
      "execution_count": 56,
      "outputs": [
        {
          "output_type": "stream",
          "name": "stdout",
          "text": [
            "  CRS_DEP_TIME  DepHour\n",
            "0         0630        6\n",
            "1         1329       13\n",
            "2         0625        6\n",
            "3         1715       17\n",
            "4         0535        5\n"
          ]
        }
      ]
    },
    {
      "cell_type": "code",
      "source": [
        "# Step 25: Extract hour from CRS_ARR_TIME\n",
        "df[\"CRS_ARR_TIME\"] = df[\"CRS_ARR_TIME\"].astype(str).str.zfill(4)\n",
        "df[\"ArrHour\"] = df[\"CRS_ARR_TIME\"].str[:2].astype(int)\n",
        "print(df[[\"CRS_ARR_TIME\",\"ArrHour\"]].head())\n"
      ],
      "metadata": {
        "id": "LIlbY5YvEoaa",
        "colab": {
          "base_uri": "https://localhost:8080/"
        },
        "outputId": "a5f19e0c-31b4-4356-f9dd-9f0ac1f99491"
      },
      "execution_count": 57,
      "outputs": [
        {
          "output_type": "stream",
          "name": "stdout",
          "text": [
            "  CRS_ARR_TIME  ArrHour\n",
            "0         0810        8\n",
            "1         1500       15\n",
            "2         0744        7\n",
            "3         1835       18\n",
            "4         0620        6\n"
          ]
        }
      ]
    },
    {
      "cell_type": "code",
      "source": [
        "# Step 26: Create route as ORIGIN-DEST\n",
        "df[\"Route\"] = df[\"ORIGIN\"] + \"-\" + df[\"DEST\"]\n",
        "print(df[\"Route\"].head())\n"
      ],
      "metadata": {
        "id": "Ha8NfYzpEqLp",
        "colab": {
          "base_uri": "https://localhost:8080/"
        },
        "outputId": "e29281c5-0721-4c13-fbd6-cac5231d4b2c"
      },
      "execution_count": 58,
      "outputs": [
        {
          "output_type": "stream",
          "name": "stdout",
          "text": [
            "0    PGD-SPI\n",
            "1    DFW-LAX\n",
            "2    EWN-CLT\n",
            "3    ABQ-DEN\n",
            "4    PIT-STL\n",
            "Name: Route, dtype: object\n"
          ]
        }
      ]
    },
    {
      "cell_type": "code",
      "source": [
        "# Step 27: Nulls in DEP_DELAY and ARR_DELAY\n",
        "print(df[[\"DEP_DELAY\",\"ARR_DELAY\"]].isnull().sum())\n"
      ],
      "metadata": {
        "id": "JjymZFbUErnr",
        "colab": {
          "base_uri": "https://localhost:8080/"
        },
        "outputId": "02e2c61b-52f0-42f6-9be6-c4d6e6eff7bb"
      },
      "execution_count": 59,
      "outputs": [
        {
          "output_type": "stream",
          "name": "stdout",
          "text": [
            "DEP_DELAY    2577\n",
            "ARR_DELAY    2852\n",
            "dtype: int64\n"
          ]
        }
      ]
    },
    {
      "cell_type": "code",
      "source": [
        "# Step 28: Count cancelled flights\n",
        "if \"CANCELLED\" in df.columns:\n",
        "    print(\"Cancelled flights:\", df[\"CANCELLED\"].sum())\n"
      ],
      "metadata": {
        "id": "d5VjEksMEwoi",
        "colab": {
          "base_uri": "https://localhost:8080/"
        },
        "outputId": "8172c859-374b-40fd-d354-440d5a23f43a"
      },
      "execution_count": 60,
      "outputs": [
        {
          "output_type": "stream",
          "name": "stdout",
          "text": [
            "Cancelled flights: 2627.0\n"
          ]
        }
      ]
    },
    {
      "cell_type": "code",
      "source": [
        "# Step 29: Count diverted flights\n",
        "if \"DIVERTED\" in df.columns:\n",
        "    print(\"Diverted flights:\", df[\"DIVERTED\"].sum())\n"
      ],
      "metadata": {
        "id": "509PkkqlEx2Y",
        "colab": {
          "base_uri": "https://localhost:8080/"
        },
        "outputId": "098e812f-755a-49a5-84c8-9416f8c19170"
      },
      "execution_count": 61,
      "outputs": [
        {
          "output_type": "stream",
          "name": "stdout",
          "text": [
            "Diverted flights: 225.0\n"
          ]
        }
      ]
    },
    {
      "cell_type": "code",
      "source": [
        "# Step 30: Number of flights by year\n",
        "print(df[\"Year\"].value_counts().sort_index())\n"
      ],
      "metadata": {
        "id": "fmhqPYJsEy5h",
        "colab": {
          "base_uri": "https://localhost:8080/"
        },
        "outputId": "ab403604-4563-4ba0-f24a-50a1c7e8e737"
      },
      "execution_count": 62,
      "outputs": [
        {
          "output_type": "stream",
          "name": "stdout",
          "text": [
            "Year\n",
            "2019    25083\n",
            "2020    15823\n",
            "2021    20526\n",
            "2022    23082\n",
            "2023    15486\n",
            "Name: count, dtype: int64\n"
          ]
        }
      ]
    },
    {
      "cell_type": "code",
      "source": [
        "# Step 31: Number of flights by month\n",
        "print(df[\"Month\"].value_counts().sort_index())\n"
      ],
      "metadata": {
        "id": "znh8FgNVE1Go",
        "colab": {
          "base_uri": "https://localhost:8080/"
        },
        "outputId": "d58fcd1b-53d3-4314-f770-5db48ed43ac9"
      },
      "execution_count": 63,
      "outputs": [
        {
          "output_type": "stream",
          "name": "stdout",
          "text": [
            "Month\n",
            "1     8903\n",
            "2     8246\n",
            "3     9733\n",
            "4     8434\n",
            "5     8393\n",
            "6     8688\n",
            "7     9553\n",
            "8     9444\n",
            "9     7044\n",
            "10    7286\n",
            "11    7054\n",
            "12    7222\n",
            "Name: count, dtype: int64\n"
          ]
        }
      ]
    },
    {
      "cell_type": "code",
      "source": [
        "# Step 32: Flights by day of week\n",
        "print(df[\"DayOfWeek\"].value_counts())\n"
      ],
      "metadata": {
        "id": "_bP-0WAuE_HZ",
        "colab": {
          "base_uri": "https://localhost:8080/"
        },
        "outputId": "b4addbe8-be88-4263-fccd-d40061ec67ab"
      },
      "execution_count": 64,
      "outputs": [
        {
          "output_type": "stream",
          "name": "stdout",
          "text": [
            "DayOfWeek\n",
            "Friday       15071\n",
            "Thursday     14855\n",
            "Monday       14825\n",
            "Sunday       14544\n",
            "Wednesday    14024\n",
            "Tuesday      13781\n",
            "Saturday     12900\n",
            "Name: count, dtype: int64\n"
          ]
        }
      ]
    },
    {
      "cell_type": "code",
      "source": [
        "# Step 33: Average departure delay\n",
        "print(\"Avg DEP_DELAY:\", df[\"DEP_DELAY\"].mean())\n"
      ],
      "metadata": {
        "id": "X-L1eFTRFAML",
        "colab": {
          "base_uri": "https://localhost:8080/"
        },
        "outputId": "4cc6f070-2067-4b2d-fca9-58d7f9635354"
      },
      "execution_count": 65,
      "outputs": [
        {
          "output_type": "stream",
          "name": "stdout",
          "text": [
            "Avg DEP_DELAY: 10.178007246748715\n"
          ]
        }
      ]
    },
    {
      "cell_type": "code",
      "source": [
        "# Step 34: Average arrival delay\n",
        "print(\"Avg ARR_DELAY:\", df[\"ARR_DELAY\"].mean())\n"
      ],
      "metadata": {
        "id": "7YvlTb4bFB0R",
        "colab": {
          "base_uri": "https://localhost:8080/"
        },
        "outputId": "b947d892-12c7-4037-bf2b-efeda90526c7"
      },
      "execution_count": 66,
      "outputs": [
        {
          "output_type": "stream",
          "name": "stdout",
          "text": [
            "Avg ARR_DELAY: 4.35375921274756\n"
          ]
        }
      ]
    },
    {
      "cell_type": "code",
      "source": [
        "# Step 35: Summary of delay columns\n",
        "delay_cols = [\"DEP_DELAY\",\"ARR_DELAY\",\"DELAY_DUE_CARRIER\",\"DELAY_DUE_WEATHER\",\n",
        "              \"DELAY_DUE_NAS\",\"DELAY_DUE_SECURITY\",\"DELAY_DUE_LATE_AIRCRAFT\"]\n",
        "print(df[delay_cols].describe())\n"
      ],
      "metadata": {
        "id": "Uv6nWCrQFDun",
        "colab": {
          "base_uri": "https://localhost:8080/"
        },
        "outputId": "fe17e751-256b-482c-f872-caf50e7e8815"
      },
      "execution_count": 67,
      "outputs": [
        {
          "output_type": "stream",
          "name": "stdout",
          "text": [
            "          DEP_DELAY     ARR_DELAY  DELAY_DUE_CARRIER  DELAY_DUE_WEATHER  \\\n",
            "count  97423.000000  97148.000000       17992.000000       17992.000000   \n",
            "mean      10.178007      4.353759          24.912850           3.872777   \n",
            "std       49.398318     51.360244          71.923245          30.007417   \n",
            "min      -81.000000    -88.000000           0.000000           0.000000   \n",
            "25%       -6.000000    -15.000000           0.000000           0.000000   \n",
            "50%       -2.000000     -7.000000           4.000000           0.000000   \n",
            "75%        6.000000      7.000000          23.000000           0.000000   \n",
            "max     1512.000000   1520.000000        1473.000000        1285.000000   \n",
            "\n",
            "       DELAY_DUE_NAS  DELAY_DUE_SECURITY  DELAY_DUE_LATE_AIRCRAFT  \n",
            "count   17992.000000        17992.000000             17992.000000  \n",
            "mean       13.325311            0.139395                24.841430  \n",
            "std        33.717869            3.341215                53.336648  \n",
            "min         0.000000            0.000000                 0.000000  \n",
            "25%         0.000000            0.000000                 0.000000  \n",
            "50%         0.000000            0.000000                 0.000000  \n",
            "75%        17.000000            0.000000                29.000000  \n",
            "max      1207.000000          249.000000              1018.000000  \n"
          ]
        }
      ]
    },
    {
      "cell_type": "code",
      "source": [
        "# Step 36: Create TotalDelay column\n",
        "df[\"TotalDelay\"] = df[\"DEP_DELAY\"].fillna(0) + df[\"ARR_DELAY\"].fillna(0)\n",
        "print(df[\"TotalDelay\"].head())\n"
      ],
      "metadata": {
        "id": "_oFYVA3oFFFk",
        "colab": {
          "base_uri": "https://localhost:8080/"
        },
        "outputId": "2734a5ad-21bb-4e73-c245-c0917bd922c9"
      },
      "execution_count": 68,
      "outputs": [
        {
          "output_type": "stream",
          "name": "stdout",
          "text": [
            "0   -42.0\n",
            "1     0.0\n",
            "2   -15.0\n",
            "3    41.0\n",
            "4    -5.0\n",
            "Name: TotalDelay, dtype: float64\n"
          ]
        }
      ]
    },
    {
      "cell_type": "code",
      "source": [
        "# Step 37: Create IsDelayed flag (delay > 15 min)\n",
        "df[\"IsDelayed\"] = (df[\"TotalDelay\"] > 15).astype(int)\n",
        "print(df[\"IsDelayed\"].value_counts())\n"
      ],
      "metadata": {
        "id": "VWOtM4pOFKz3",
        "colab": {
          "base_uri": "https://localhost:8080/"
        },
        "outputId": "83db934a-6c4f-492f-db85-8c06e7534253"
      },
      "execution_count": 69,
      "outputs": [
        {
          "output_type": "stream",
          "name": "stdout",
          "text": [
            "IsDelayed\n",
            "0    77651\n",
            "1    22349\n",
            "Name: count, dtype: int64\n"
          ]
        }
      ]
    },
    {
      "cell_type": "code",
      "source": [
        "# Step 38: Summary statistics for numeric columns\n",
        "print(df.describe())\n"
      ],
      "metadata": {
        "id": "b5uTT_rCFMiH",
        "colab": {
          "base_uri": "https://localhost:8080/"
        },
        "outputId": "c333c45b-f024-4f24-96e4-ee274ad3d743"
      },
      "execution_count": 70,
      "outputs": [
        {
          "output_type": "stream",
          "name": "stdout",
          "text": [
            "                             FL_DATE       DOT_CODE     FL_NUMBER  \\\n",
            "count                         100000  100000.000000  100000.00000   \n",
            "mean   2021-05-10 20:35:57.984000256   19977.257770    2511.91066   \n",
            "min              2019-01-01 00:00:00   19393.000000       1.00000   \n",
            "25%              2019-12-30 00:00:00   19790.000000    1054.00000   \n",
            "50%              2021-07-03 00:00:00   19930.000000    2150.00000   \n",
            "75%              2022-08-03 00:00:00   20368.000000    3794.00000   \n",
            "max              2023-08-31 00:00:00   20452.000000    8819.00000   \n",
            "std                              NaN     377.223161    1745.63292   \n",
            "\n",
            "           DEP_TIME     DEP_DELAY      TAXI_OUT    WHEELS_OFF     WHEELS_ON  \\\n",
            "count  97424.000000  97423.000000  97382.000000  97382.000000  97345.000000   \n",
            "mean    1331.005738     10.178007     16.679992   1353.643661   1463.905039   \n",
            "min        1.000000    -81.000000      1.000000      1.000000      1.000000   \n",
            "25%      918.000000     -6.000000     11.000000    932.000000   1050.000000   \n",
            "50%     1325.000000     -2.000000     14.000000   1338.000000   1502.000000   \n",
            "75%     1738.000000      6.000000     19.000000   1752.000000   1909.000000   \n",
            "max     2400.000000   1512.000000    163.000000   2400.000000   2400.000000   \n",
            "std      498.864626     49.398318      9.170655    500.456200    527.430630   \n",
            "\n",
            "            TAXI_IN      ARR_TIME  ...  DELAY_DUE_NAS  DELAY_DUE_SECURITY  \\\n",
            "count  97345.000000  97345.000000  ...   17992.000000        17992.000000   \n",
            "mean       7.695290   1467.125523  ...      13.325311            0.139395   \n",
            "min        1.000000      1.000000  ...       0.000000            0.000000   \n",
            "25%        4.000000   1053.000000  ...       0.000000            0.000000   \n",
            "50%        6.000000   1506.000000  ...       0.000000            0.000000   \n",
            "75%        9.000000   1913.000000  ...      17.000000            0.000000   \n",
            "max      261.000000   2400.000000  ...    1207.000000          249.000000   \n",
            "std        6.481064    532.513348  ...      33.717869            3.341215   \n",
            "\n",
            "       DELAY_DUE_LATE_AIRCRAFT          Year         Month            Day  \\\n",
            "count             17992.000000  100000.00000  100000.00000  100000.000000   \n",
            "mean                 24.841430    2020.88065       6.25360      15.745780   \n",
            "min                   0.000000    2019.00000       1.00000       1.000000   \n",
            "25%                   0.000000    2019.00000       3.00000       8.000000   \n",
            "50%                   0.000000    2021.00000       6.00000      16.000000   \n",
            "75%                  29.000000    2022.00000       9.00000      23.000000   \n",
            "max                1018.000000    2023.00000      12.00000      31.000000   \n",
            "std                  53.336648       1.41336       3.37855       8.777355   \n",
            "\n",
            "            DepHour        ArrHour     TotalDelay      IsDelayed  \n",
            "count  100000.00000  100000.000000  100000.000000  100000.000000  \n",
            "mean       13.02297      14.619350      14.145310       0.223490  \n",
            "min         0.00000       0.000000    -169.000000       0.000000  \n",
            "25%         9.00000      11.000000     -20.000000       0.000000  \n",
            "50%        13.00000      15.000000      -8.000000       0.000000  \n",
            "75%        17.00000      19.000000      11.000000       0.000000  \n",
            "max        23.00000      23.000000    3032.000000       1.000000  \n",
            "std         4.83031       5.122733      98.366664       0.416586  \n",
            "\n",
            "[8 rows x 29 columns]\n"
          ]
        }
      ]
    },
    {
      "cell_type": "code",
      "source": [
        "# Step 39: Summary statistics for categorical columns\n",
        "print(df.describe(include=\"object\"))\n"
      ],
      "metadata": {
        "id": "SB0qRu5uFODM",
        "colab": {
          "base_uri": "https://localhost:8080/"
        },
        "outputId": "1385bf8f-2b2c-428b-f8f8-ad59982892fe"
      },
      "execution_count": 71,
      "outputs": [
        {
          "output_type": "stream",
          "name": "stdout",
          "text": [
            "                       AIRLINE                 AIRLINE_DOT AIRLINE_CODE  \\\n",
            "count                   100000                      100000       100000   \n",
            "unique                      18                          18           18   \n",
            "top     Southwest Airlines Co.  Southwest Airlines Co.: WN           WN   \n",
            "freq                     19150                       19150        19150   \n",
            "\n",
            "        ORIGIN  ORIGIN_CITY    DEST    DEST_CITY CRS_DEP_TIME CRS_ARR_TIME  \\\n",
            "count   100000       100000  100000       100000       100000       100000   \n",
            "unique     372          366     376          369         1238         1327   \n",
            "top        ATL  Chicago, IL     ATL  Chicago, IL         0600         2359   \n",
            "freq      5099         5219    5095         5359         2073          324   \n",
            "\n",
            "       CANCELLATION_CODE DayOfWeek    Route  \n",
            "count               2627    100000   100000  \n",
            "unique                 4         7     6356  \n",
            "top                    B    Friday  LAX-SFO  \n",
            "freq                 930     15071      206  \n"
          ]
        }
      ]
    },
    {
      "cell_type": "code",
      "source": [
        "# Step 40: Flights & delay percentage per airline\n",
        "print(df.groupby(\"AIRLINE\").agg(\n",
        "    flights=(\"AIRLINE\",\"count\"),\n",
        "    avg_delay=(\"TotalDelay\",\"mean\"),\n",
        "    pct_delayed=(\"IsDelayed\",\"mean\")\n",
        "))\n"
      ],
      "metadata": {
        "id": "iDP4QGRdFPEL",
        "colab": {
          "base_uri": "https://localhost:8080/"
        },
        "outputId": "105d1eb1-f2f9-49c8-fd2b-2d2165610dc9"
      },
      "execution_count": 72,
      "outputs": [
        {
          "output_type": "stream",
          "name": "stdout",
          "text": [
            "                                    flights  avg_delay  pct_delayed\n",
            "AIRLINE                                                            \n",
            "Alaska Airlines Inc.                   3466   7.156953     0.215811\n",
            "Allegiant Air                          1743  30.077453     0.283993\n",
            "American Airlines Inc.                12874  18.896070     0.233339\n",
            "Delta Air Lines Inc.                  13070   9.137184     0.181025\n",
            "Endeavor Air Inc.                      3748   2.548559     0.145144\n",
            "Envoy Air                              3958   9.061142     0.195301\n",
            "ExpressJet Airlines LLC d/b/a aha!      649  28.012327     0.248074\n",
            "Frontier Airlines Inc.                 2197  24.266727     0.285844\n",
            "Hawaiian Airlines Inc.                 1000   7.062000     0.219000\n",
            "Horizon Air                             666  11.388889     0.195195\n",
            "JetBlue Airways                        3729  33.050684     0.327970\n",
            "Mesa Airlines Inc.                     2110  21.149763     0.211374\n",
            "PSA Airlines Inc.                      3662  13.250956     0.202622\n",
            "Republic Airline                       4955   4.159233     0.175177\n",
            "SkyWest Airlines Inc.                 11306  11.833628     0.184592\n",
            "Southwest Airlines Co.                19150  13.693890     0.266684\n",
            "Spirit Air Lines                       3211  24.121457     0.275927\n",
            "United Air Lines Inc.                  8506  15.584646     0.225958\n"
          ]
        }
      ]
    },
    {
      "cell_type": "code",
      "source": [
        "# Step 41: Flights by route (top 10)\n",
        "print(df[\"Route\"].value_counts().head(10))\n"
      ],
      "metadata": {
        "id": "bzJ-OXuTFQcv",
        "colab": {
          "base_uri": "https://localhost:8080/"
        },
        "outputId": "b7a32609-901f-47f7-ca0b-d5b4b182b0a0"
      },
      "execution_count": 73,
      "outputs": [
        {
          "output_type": "stream",
          "name": "stdout",
          "text": [
            "Route\n",
            "LAX-SFO    206\n",
            "SFO-LAX    188\n",
            "DCA-BOS    159\n",
            "LAX-LAS    156\n",
            "JFK-LAX    156\n",
            "OGG-HNL    152\n",
            "ORD-LGA    149\n",
            "LAS-LAX    148\n",
            "LAX-JFK    147\n",
            "LGA-ORD    145\n",
            "Name: count, dtype: int64\n"
          ]
        }
      ]
    },
    {
      "cell_type": "code",
      "source": [
        "# Step 42: Top 5 longest flights\n",
        "print(df.nlargest(5, \"DISTANCE\")[[\"ORIGIN\",\"DEST\",\"DISTANCE\"]])\n"
      ],
      "metadata": {
        "id": "3sBn9-44FRxp",
        "colab": {
          "base_uri": "https://localhost:8080/"
        },
        "outputId": "f5a85db1-94fb-4942-9b5a-12eb838d00c7"
      },
      "execution_count": 74,
      "outputs": [
        {
          "output_type": "stream",
          "name": "stdout",
          "text": [
            "      ORIGIN DEST  DISTANCE\n",
            "11857    GUM  SFO    5812.0\n",
            "29405    HNL  BOS    5095.0\n",
            "38169    HNL  BOS    5095.0\n",
            "56484    HNL  BOS    5095.0\n",
            "71369    BOS  HNL    5095.0\n"
          ]
        }
      ]
    },
    {
      "cell_type": "code",
      "source": [
        "# Step 43: Top 5 shortest flights\n",
        "print(df.nsmallest(5, \"DISTANCE\")[[\"ORIGIN\",\"DEST\",\"DISTANCE\"]])\n"
      ],
      "metadata": {
        "id": "ZJD1yKMiFS24",
        "colab": {
          "base_uri": "https://localhost:8080/"
        },
        "outputId": "4dc654a8-5742-49f1-cc96-3c4fefe0d280"
      },
      "execution_count": 75,
      "outputs": [
        {
          "output_type": "stream",
          "name": "stdout",
          "text": [
            "      ORIGIN DEST  DISTANCE\n",
            "40928    EGE  ASE      29.0\n",
            "48209    HHH  SAV      30.0\n",
            "17628    WRG  PSG      31.0\n",
            "21308    PSG  WRG      31.0\n",
            "28857    PSG  WRG      31.0\n"
          ]
        }
      ]
    },
    {
      "cell_type": "code",
      "source": [
        "# Step 44: Check if ARR_TIME < DEP_TIME\n",
        "df[\"DEP_TIME\"] = pd.to_numeric(df[\"DEP_TIME\"], errors=\"coerce\")\n",
        "df[\"ARR_TIME\"] = pd.to_numeric(df[\"ARR_TIME\"], errors=\"coerce\")\n",
        "invalid = df[df[\"ARR_TIME\"] < df[\"DEP_TIME\"]]\n",
        "print(\"Flights with invalid times:\", len(invalid))\n"
      ],
      "metadata": {
        "id": "THv9w_KaFT1I",
        "colab": {
          "base_uri": "https://localhost:8080/"
        },
        "outputId": "f6e46ad3-3525-4d42-8869-8f261229328c"
      },
      "execution_count": 76,
      "outputs": [
        {
          "output_type": "stream",
          "name": "stdout",
          "text": [
            "Flights with invalid times: 4079\n"
          ]
        }
      ]
    },
    {
      "cell_type": "code",
      "source": [
        "# Step 45: Save optimized dataset to pickle\n",
        "df.to_pickle(\"flights_week1.pkl\")\n",
        "print(\"Saved dataset as pickle\")\n"
      ],
      "metadata": {
        "id": "cdnieeVfFVkH",
        "colab": {
          "base_uri": "https://localhost:8080/"
        },
        "outputId": "ace5cab4-41ab-4ead-97df-0be6abbc9b83"
      },
      "execution_count": 77,
      "outputs": [
        {
          "output_type": "stream",
          "name": "stdout",
          "text": [
            "Saved dataset as pickle\n"
          ]
        }
      ]
    },
    {
      "cell_type": "code",
      "source": [
        "# Step 46: Save optimized dataset to CSV\n",
        "df.to_csv(\"flights_week1.csv\", index=False)\n",
        "print(\"Saved dataset as CSV\")\n"
      ],
      "metadata": {
        "id": "ShgRUBdwFXbA",
        "colab": {
          "base_uri": "https://localhost:8080/"
        },
        "outputId": "67079bfb-b0fa-4fd2-c6df-243473969103"
      },
      "execution_count": 78,
      "outputs": [
        {
          "output_type": "stream",
          "name": "stdout",
          "text": [
            "Saved dataset as CSV\n"
          ]
        }
      ]
    },
    {
      "cell_type": "code",
      "source": [
        "# Step 47: Function for missing value report\n",
        "def missing_report(data):\n",
        "    return data.isnull().sum()[data.isnull().sum() > 0].sort_values(ascending=False)\n",
        "\n",
        "print(missing_report(df))\n"
      ],
      "metadata": {
        "id": "zk5wAkmuFjGn",
        "colab": {
          "base_uri": "https://localhost:8080/"
        },
        "outputId": "e9ea34d4-4f66-44dc-88cb-b4e564b8ed5b"
      },
      "execution_count": 79,
      "outputs": [
        {
          "output_type": "stream",
          "name": "stdout",
          "text": [
            "CANCELLATION_CODE          97373\n",
            "DELAY_DUE_WEATHER          82008\n",
            "DELAY_DUE_LATE_AIRCRAFT    82008\n",
            "DELAY_DUE_NAS              82008\n",
            "DELAY_DUE_CARRIER          82008\n",
            "DELAY_DUE_SECURITY         82008\n",
            "ARR_DELAY                   2852\n",
            "AIR_TIME                    2852\n",
            "ELAPSED_TIME                2852\n",
            "TAXI_IN                     2655\n",
            "ARR_TIME                    2655\n",
            "WHEELS_ON                   2655\n",
            "WHEELS_OFF                  2618\n",
            "TAXI_OUT                    2618\n",
            "DEP_DELAY                   2577\n",
            "DEP_TIME                    2576\n",
            "dtype: int64\n"
          ]
        }
      ]
    }
  ]
}