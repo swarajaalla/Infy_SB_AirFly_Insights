{
 "cells": [
  {
   "cell_type": "markdown",
   "metadata": {
    "application/vnd.databricks.v1+cell": {
     "cellMetadata": {
      "byteLimit": 2048000,
      "rowLimit": 10000
     },
     "inputWidgets": {},
     "nuid": "c350c409-f6fa-4970-ba31-51b350df48e6",
     "showTitle": false,
     "tableResultSettingsMap": {},
     "title": ""
    }
   },
   "source": [
    "## **WEAK 1 & 2 ANALYSIS**\n"
   ]
  },
  {
   "cell_type": "code",
   "execution_count": 0,
   "metadata": {
    "application/vnd.databricks.v1+cell": {
     "cellMetadata": {
      "byteLimit": 2048000,
      "rowLimit": 10000
     },
     "inputWidgets": {},
     "nuid": "3bb7d30a-0bd3-4b60-9505-c0cb0517de34",
     "showTitle": false,
     "tableResultSettingsMap": {},
     "title": ""
    }
   },
   "outputs": [
    {
     "output_type": "display_data",
     "data": {
      "text/html": [
       "<style scoped>\n",
       "  .table-result-container {\n",
       "    max-height: 300px;\n",
       "    overflow: auto;\n",
       "  }\n",
       "  table, th, td {\n",
       "    border: 1px solid black;\n",
       "    border-collapse: collapse;\n",
       "  }\n",
       "  th, td {\n",
       "    padding: 5px;\n",
       "  }\n",
       "  th {\n",
       "    text-align: left;\n",
       "  }\n",
       "</style><div class='table-result-container'><table class='table-result'><thead style='background-color: white'><tr><th>DayOfWeek</th><th>Date</th><th>DepTime</th><th>ArrTime</th><th>CRSArrTime</th><th>UniqueCarrier</th><th>Airline</th><th>FlightNum</th><th>TailNum</th><th>ActualElapsedTime</th><th>CRSElapsedTime</th><th>AirTime</th><th>ArrDelay</th><th>DepDelay</th><th>Origin</th><th>Org_Airport</th><th>Dest</th><th>Dest_Airport</th><th>Distance</th><th>TaxiIn</th><th>TaxiOut</th><th>Cancelled</th><th>CancellationCode</th><th>Diverted</th><th>CarrierDelay</th><th>WeatherDelay</th><th>NASDelay</th><th>SecurityDelay</th><th>LateAircraftDelay</th></tr></thead><tbody><tr><td>4</td><td>03-01-2019</td><td>1829</td><td>1959</td><td>1925</td><td>WN</td><td>Southwest Airlines Co.</td><td>3920</td><td>N464WN</td><td>90</td><td>90</td><td>77</td><td>34</td><td>34</td><td>IND</td><td>Indianapolis International Airport</td><td>BWI</td><td>Baltimore-Washington International Airport</td><td>515</td><td>3</td><td>10</td><td>0</td><td>N</td><td>0</td><td>2</td><td>0</td><td>0</td><td>0</td><td>32</td></tr><tr><td>4</td><td>03-01-2019</td><td>1937</td><td>2037</td><td>1940</td><td>WN</td><td>Southwest Airlines Co.</td><td>509</td><td>N763SW</td><td>240</td><td>250</td><td>230</td><td>57</td><td>67</td><td>IND</td><td>Indianapolis International Airport</td><td>LAS</td><td>McCarran International Airport</td><td>1591</td><td>3</td><td>7</td><td>0</td><td>N</td><td>0</td><td>10</td><td>0</td><td>0</td><td>0</td><td>47</td></tr><tr><td>4</td><td>03-01-2019</td><td>1644</td><td>1845</td><td>1725</td><td>WN</td><td>Southwest Airlines Co.</td><td>1333</td><td>N334SW</td><td>121</td><td>135</td><td>107</td><td>80</td><td>94</td><td>IND</td><td>Indianapolis International Airport</td><td>MCO</td><td>Orlando International Airport</td><td>828</td><td>6</td><td>8</td><td>0</td><td>N</td><td>0</td><td>8</td><td>0</td><td>0</td><td>0</td><td>72</td></tr><tr><td>4</td><td>03-01-2019</td><td>1452</td><td>1640</td><td>1625</td><td>WN</td><td>Southwest Airlines Co.</td><td>675</td><td>N286WN</td><td>228</td><td>240</td><td>213</td><td>15</td><td>27</td><td>IND</td><td>Indianapolis International Airport</td><td>PHX</td><td>Phoenix Sky Harbor International Airport</td><td>1489</td><td>7</td><td>8</td><td>0</td><td>N</td><td>0</td><td>3</td><td>0</td><td>0</td><td>0</td><td>12</td></tr><tr><td>4</td><td>03-01-2019</td><td>1323</td><td>1526</td><td>1510</td><td>WN</td><td>Southwest Airlines Co.</td><td>4</td><td>N674AA</td><td>123</td><td>135</td><td>110</td><td>16</td><td>28</td><td>IND</td><td>Indianapolis International Airport</td><td>TPA</td><td>Tampa International Airport</td><td>838</td><td>4</td><td>9</td><td>0</td><td>N</td><td>0</td><td>0</td><td>0</td><td>0</td><td>0</td><td>16</td></tr><tr><td>4</td><td>03-01-2019</td><td>1416</td><td>1512</td><td>1435</td><td>WN</td><td>Southwest Airlines Co.</td><td>54</td><td>N643SW</td><td>56</td><td>70</td><td>49</td><td>37</td><td>51</td><td>ISP</td><td>Long Island MacArthur Airport</td><td>BWI</td><td>Baltimore-Washington International Airport</td><td>220</td><td>2</td><td>5</td><td>0</td><td>N</td><td>0</td><td>12</td><td>0</td><td>0</td><td>0</td><td>25</td></tr><tr><td>4</td><td>03-01-2019</td><td>1657</td><td>1754</td><td>1735</td><td>WN</td><td>Southwest Airlines Co.</td><td>623</td><td>N724SW</td><td>57</td><td>70</td><td>47</td><td>19</td><td>32</td><td>ISP</td><td>Long Island MacArthur Airport</td><td>BWI</td><td>Baltimore-Washington International Airport</td><td>220</td><td>5</td><td>5</td><td>0</td><td>N</td><td>0</td><td>7</td><td>0</td><td>0</td><td>0</td><td>12</td></tr><tr><td>4</td><td>03-01-2019</td><td>1422</td><td>1657</td><td>1610</td><td>WN</td><td>Southwest Airlines Co.</td><td>188</td><td>N215WN</td><td>155</td><td>195</td><td>143</td><td>47</td><td>87</td><td>ISP</td><td>Long Island MacArthur Airport</td><td>FLL</td><td>Fort Lauderdale-Hollywood International Airport</td><td>1093</td><td>6</td><td>6</td><td>0</td><td>N</td><td>0</td><td>40</td><td>0</td><td>0</td><td>0</td><td>7</td></tr><tr><td>4</td><td>03-01-2019</td><td>2107</td><td>2334</td><td>2230</td><td>WN</td><td>Southwest Airlines Co.</td><td>362</td><td>N798SW</td><td>147</td><td>165</td><td>134</td><td>64</td><td>82</td><td>ISP</td><td>Long Island MacArthur Airport</td><td>MCO</td><td>Orlando International Airport</td><td>972</td><td>6</td><td>7</td><td>0</td><td>N</td><td>0</td><td>5</td><td>0</td><td>0</td><td>0</td><td>59</td></tr><tr><td>4</td><td>03-01-2019</td><td>1812</td><td>1927</td><td>1815</td><td>WN</td><td>Southwest Airlines Co.</td><td>422</td><td>N779SW</td><td>135</td><td>145</td><td>118</td><td>72</td><td>82</td><td>ISP</td><td>Long Island MacArthur Airport</td><td>MDW</td><td>Chicago Midway International Airport</td><td>765</td><td>6</td><td>11</td><td>0</td><td>N</td><td>0</td><td>3</td><td>0</td><td>0</td><td>0</td><td>69</td></tr></tbody></table></div>"
      ]
     },
     "metadata": {
      "application/vnd.databricks.v1+output": {
       "addedWidgets": {},
       "aggData": [],
       "aggError": "",
       "aggOverflow": false,
       "aggSchema": [],
       "aggSeriesLimitReached": false,
       "aggType": "",
       "arguments": {},
       "columnCustomDisplayInfos": {},
       "data": [
        [
         4,
         "03-01-2019",
         1829,
         1959,
         1925,
         "WN",
         "Southwest Airlines Co.",
         3920,
         "N464WN",
         90,
         90,
         77,
         34,
         34,
         "IND",
         "Indianapolis International Airport",
         "BWI",
         "Baltimore-Washington International Airport",
         515,
         3,
         10,
         0,
         "N",
         0,
         2,
         0,
         0,
         0,
         32
        ],
        [
         4,
         "03-01-2019",
         1937,
         2037,
         1940,
         "WN",
         "Southwest Airlines Co.",
         509,
         "N763SW",
         240,
         250,
         230,
         57,
         67,
         "IND",
         "Indianapolis International Airport",
         "LAS",
         "McCarran International Airport",
         1591,
         3,
         7,
         0,
         "N",
         0,
         10,
         0,
         0,
         0,
         47
        ],
        [
         4,
         "03-01-2019",
         1644,
         1845,
         1725,
         "WN",
         "Southwest Airlines Co.",
         1333,
         "N334SW",
         121,
         135,
         107,
         80,
         94,
         "IND",
         "Indianapolis International Airport",
         "MCO",
         "Orlando International Airport",
         828,
         6,
         8,
         0,
         "N",
         0,
         8,
         0,
         0,
         0,
         72
        ],
        [
         4,
         "03-01-2019",
         1452,
         1640,
         1625,
         "WN",
         "Southwest Airlines Co.",
         675,
         "N286WN",
         228,
         240,
         213,
         15,
         27,
         "IND",
         "Indianapolis International Airport",
         "PHX",
         "Phoenix Sky Harbor International Airport",
         1489,
         7,
         8,
         0,
         "N",
         0,
         3,
         0,
         0,
         0,
         12
        ],
        [
         4,
         "03-01-2019",
         1323,
         1526,
         1510,
         "WN",
         "Southwest Airlines Co.",
         4,
         "N674AA",
         123,
         135,
         110,
         16,
         28,
         "IND",
         "Indianapolis International Airport",
         "TPA",
         "Tampa International Airport",
         838,
         4,
         9,
         0,
         "N",
         0,
         0,
         0,
         0,
         0,
         16
        ],
        [
         4,
         "03-01-2019",
         1416,
         1512,
         1435,
         "WN",
         "Southwest Airlines Co.",
         54,
         "N643SW",
         56,
         70,
         49,
         37,
         51,
         "ISP",
         "Long Island MacArthur Airport",
         "BWI",
         "Baltimore-Washington International Airport",
         220,
         2,
         5,
         0,
         "N",
         0,
         12,
         0,
         0,
         0,
         25
        ],
        [
         4,
         "03-01-2019",
         1657,
         1754,
         1735,
         "WN",
         "Southwest Airlines Co.",
         623,
         "N724SW",
         57,
         70,
         47,
         19,
         32,
         "ISP",
         "Long Island MacArthur Airport",
         "BWI",
         "Baltimore-Washington International Airport",
         220,
         5,
         5,
         0,
         "N",
         0,
         7,
         0,
         0,
         0,
         12
        ],
        [
         4,
         "03-01-2019",
         1422,
         1657,
         1610,
         "WN",
         "Southwest Airlines Co.",
         188,
         "N215WN",
         155,
         195,
         143,
         47,
         87,
         "ISP",
         "Long Island MacArthur Airport",
         "FLL",
         "Fort Lauderdale-Hollywood International Airport",
         1093,
         6,
         6,
         0,
         "N",
         0,
         40,
         0,
         0,
         0,
         7
        ],
        [
         4,
         "03-01-2019",
         2107,
         2334,
         2230,
         "WN",
         "Southwest Airlines Co.",
         362,
         "N798SW",
         147,
         165,
         134,
         64,
         82,
         "ISP",
         "Long Island MacArthur Airport",
         "MCO",
         "Orlando International Airport",
         972,
         6,
         7,
         0,
         "N",
         0,
         5,
         0,
         0,
         0,
         59
        ],
        [
         4,
         "03-01-2019",
         1812,
         1927,
         1815,
         "WN",
         "Southwest Airlines Co.",
         422,
         "N779SW",
         135,
         145,
         118,
         72,
         82,
         "ISP",
         "Long Island MacArthur Airport",
         "MDW",
         "Chicago Midway International Airport",
         765,
         6,
         11,
         0,
         "N",
         0,
         3,
         0,
         0,
         0,
         69
        ]
       ],
       "datasetInfos": [],
       "dbfsResultPath": null,
       "isJsonSchema": true,
       "metadata": {},
       "overflow": false,
       "plotOptions": {
        "customPlotOptions": {},
        "displayType": "table",
        "pivotAggregation": null,
        "pivotColumns": null,
        "xColumns": null,
        "yColumns": null
       },
       "removedWidgets": [],
       "schema": [
        {
         "metadata": "{}",
         "name": "DayOfWeek",
         "type": "\"long\""
        },
        {
         "metadata": "{}",
         "name": "Date",
         "type": "\"string\""
        },
        {
         "metadata": "{}",
         "name": "DepTime",
         "type": "\"long\""
        },
        {
         "metadata": "{}",
         "name": "ArrTime",
         "type": "\"long\""
        },
        {
         "metadata": "{}",
         "name": "CRSArrTime",
         "type": "\"long\""
        },
        {
         "metadata": "{}",
         "name": "UniqueCarrier",
         "type": "\"string\""
        },
        {
         "metadata": "{}",
         "name": "Airline",
         "type": "\"string\""
        },
        {
         "metadata": "{}",
         "name": "FlightNum",
         "type": "\"long\""
        },
        {
         "metadata": "{}",
         "name": "TailNum",
         "type": "\"string\""
        },
        {
         "metadata": "{}",
         "name": "ActualElapsedTime",
         "type": "\"long\""
        },
        {
         "metadata": "{}",
         "name": "CRSElapsedTime",
         "type": "\"long\""
        },
        {
         "metadata": "{}",
         "name": "AirTime",
         "type": "\"long\""
        },
        {
         "metadata": "{}",
         "name": "ArrDelay",
         "type": "\"long\""
        },
        {
         "metadata": "{}",
         "name": "DepDelay",
         "type": "\"long\""
        },
        {
         "metadata": "{}",
         "name": "Origin",
         "type": "\"string\""
        },
        {
         "metadata": "{}",
         "name": "Org_Airport",
         "type": "\"string\""
        },
        {
         "metadata": "{}",
         "name": "Dest",
         "type": "\"string\""
        },
        {
         "metadata": "{}",
         "name": "Dest_Airport",
         "type": "\"string\""
        },
        {
         "metadata": "{}",
         "name": "Distance",
         "type": "\"long\""
        },
        {
         "metadata": "{}",
         "name": "TaxiIn",
         "type": "\"long\""
        },
        {
         "metadata": "{}",
         "name": "TaxiOut",
         "type": "\"long\""
        },
        {
         "metadata": "{}",
         "name": "Cancelled",
         "type": "\"long\""
        },
        {
         "metadata": "{}",
         "name": "CancellationCode",
         "type": "\"string\""
        },
        {
         "metadata": "{}",
         "name": "Diverted",
         "type": "\"long\""
        },
        {
         "metadata": "{}",
         "name": "CarrierDelay",
         "type": "\"long\""
        },
        {
         "metadata": "{}",
         "name": "WeatherDelay",
         "type": "\"long\""
        },
        {
         "metadata": "{}",
         "name": "NASDelay",
         "type": "\"long\""
        },
        {
         "metadata": "{}",
         "name": "SecurityDelay",
         "type": "\"long\""
        },
        {
         "metadata": "{}",
         "name": "LateAircraftDelay",
         "type": "\"long\""
        }
       ],
       "type": "table"
      }
     },
     "output_type": "display_data"
    }
   ],
   "source": [
    "\n",
    "import pandas as pd \n",
    "data=pd.read_csv(\"/Volumes/workspace/airlines/flight/Flight_delay.csv\")\n",
    "display(data.head(10))\n"
   ]
  },
  {
   "cell_type": "code",
   "execution_count": 0,
   "metadata": {
    "application/vnd.databricks.v1+cell": {
     "cellMetadata": {
      "byteLimit": 2048000,
      "rowLimit": 10000
     },
     "inputWidgets": {},
     "nuid": "32595c2c-95a3-4bf9-a93d-3460edd201a5",
     "showTitle": false,
     "tableResultSettingsMap": {},
     "title": ""
    }
   },
   "outputs": [
    {
     "output_type": "display_data",
     "data": {
      "text/html": [
       "<style scoped>\n",
       "  .table-result-container {\n",
       "    max-height: 300px;\n",
       "    overflow: auto;\n",
       "  }\n",
       "  table, th, td {\n",
       "    border: 1px solid black;\n",
       "    border-collapse: collapse;\n",
       "  }\n",
       "  th, td {\n",
       "    padding: 5px;\n",
       "  }\n",
       "  th {\n",
       "    text-align: left;\n",
       "  }\n",
       "</style><div class='table-result-container'><table class='table-result'><thead style='background-color: white'><tr><th>DayOfWeek</th><th>Date</th><th>DepTime</th><th>ArrTime</th><th>CRSArrTime</th><th>UniqueCarrier</th><th>Airline</th><th>FlightNum</th><th>TailNum</th><th>ActualElapsedTime</th><th>CRSElapsedTime</th><th>AirTime</th><th>ArrDelay</th><th>DepDelay</th><th>Origin</th><th>Org_Airport</th><th>Dest</th><th>Dest_Airport</th><th>Distance</th><th>TaxiIn</th><th>TaxiOut</th><th>Cancelled</th><th>CancellationCode</th><th>Diverted</th><th>CarrierDelay</th><th>WeatherDelay</th><th>NASDelay</th><th>SecurityDelay</th><th>LateAircraftDelay</th></tr></thead><tbody><tr><td>7</td><td>29-06-2019</td><td>1308</td><td>1715</td><td>1640</td><td>AA</td><td>American Airlines Inc.</td><td>1494</td><td>N584AA</td><td>187</td><td>175</td><td>155</td><td>35</td><td>23</td><td>DFW</td><td>Dallas/Fort Worth International Airport</td><td>FLL</td><td>Fort Lauderdale-Hollywood International Airport</td><td>1119</td><td>6</td><td>26</td><td>0</td><td>N</td><td>0</td><td>14</td><td>0</td><td>12</td><td>0</td><td>9</td></tr><tr><td>3</td><td>04-06-2019</td><td>1617</td><td>1945</td><td>1915</td><td>AA</td><td>American Airlines Inc.</td><td>1496</td><td>N405AA</td><td>148</td><td>160</td><td>129</td><td>30</td><td>42</td><td>DFW</td><td>Dallas/Fort Worth International Airport</td><td>MCO</td><td>Orlando International Airport</td><td>984</td><td>4</td><td>15</td><td>0</td><td>N</td><td>0</td><td>0</td><td>0</td><td>0</td><td>0</td><td>30</td></tr><tr><td>7</td><td>08-06-2019</td><td>1623</td><td>1957</td><td>1915</td><td>AA</td><td>American Airlines Inc.</td><td>1496</td><td>N511AA</td><td>154</td><td>160</td><td>130</td><td>42</td><td>48</td><td>DFW</td><td>Dallas/Fort Worth International Airport</td><td>MCO</td><td>Orlando International Airport</td><td>984</td><td>8</td><td>16</td><td>0</td><td>N</td><td>0</td><td>42</td><td>0</td><td>0</td><td>0</td><td>0</td></tr><tr><td>2</td><td>10-06-2019</td><td>1623</td><td>2003</td><td>1915</td><td>AA</td><td>American Airlines Inc.</td><td>1496</td><td>N499AA</td><td>160</td><td>160</td><td>136</td><td>48</td><td>48</td><td>DFW</td><td>Dallas/Fort Worth International Airport</td><td>MCO</td><td>Orlando International Airport</td><td>984</td><td>8</td><td>16</td><td>0</td><td>N</td><td>0</td><td>46</td><td>0</td><td>0</td><td>0</td><td>2</td></tr><tr><td>4</td><td>12-06-2019</td><td>1545</td><td>1944</td><td>1915</td><td>AA</td><td>American Airlines Inc.</td><td>1496</td><td>N498AA</td><td>179</td><td>160</td><td>148</td><td>29</td><td>10</td><td>DFW</td><td>Dallas/Fort Worth International Airport</td><td>MCO</td><td>Orlando International Airport</td><td>984</td><td>7</td><td>24</td><td>0</td><td>N</td><td>0</td><td>10</td><td>0</td><td>19</td><td>0</td><td>0</td></tr><tr><td>5</td><td>13-06-2019</td><td>1609</td><td>1942</td><td>1915</td><td>AA</td><td>American Airlines Inc.</td><td>1496</td><td>N510AA</td><td>153</td><td>160</td><td>131</td><td>27</td><td>34</td><td>DFW</td><td>Dallas/Fort Worth International Airport</td><td>MCO</td><td>Orlando International Airport</td><td>984</td><td>7</td><td>15</td><td>0</td><td>N</td><td>0</td><td>27</td><td>0</td><td>0</td><td>0</td><td>0</td></tr><tr><td>6</td><td>14-06-2019</td><td>1616</td><td>1954</td><td>1915</td><td>AA</td><td>American Airlines Inc.</td><td>1496</td><td>N559AA</td><td>158</td><td>160</td><td>136</td><td>39</td><td>41</td><td>DFW</td><td>Dallas/Fort Worth International Airport</td><td>MCO</td><td>Orlando International Airport</td><td>984</td><td>11</td><td>11</td><td>0</td><td>N</td><td>0</td><td>11</td><td>0</td><td>0</td><td>0</td><td>28</td></tr><tr><td>2</td><td>17-06-2019</td><td>1617</td><td>2002</td><td>1915</td><td>AA</td><td>American Airlines Inc.</td><td>1496</td><td>N505AA</td><td>165</td><td>160</td><td>141</td><td>47</td><td>42</td><td>DFW</td><td>Dallas/Fort Worth International Airport</td><td>MCO</td><td>Orlando International Airport</td><td>984</td><td>7</td><td>17</td><td>0</td><td>N</td><td>0</td><td>0</td><td>22</td><td>5</td><td>0</td><td>20</td></tr><tr><td>7</td><td>22-06-2019</td><td>1607</td><td>1941</td><td>1915</td><td>AA</td><td>American Airlines Inc.</td><td>1496</td><td>N421AA</td><td>154</td><td>160</td><td>137</td><td>26</td><td>32</td><td>DFW</td><td>Dallas/Fort Worth International Airport</td><td>MCO</td><td>Orlando International Airport</td><td>984</td><td>5</td><td>12</td><td>0</td><td>N</td><td>0</td><td>1</td><td>0</td><td>0</td><td>0</td><td>25</td></tr><tr><td>1</td><td>23-06-2019</td><td>1608</td><td>1933</td><td>1915</td><td>AA</td><td>American Airlines Inc.</td><td>1496</td><td>N487AA</td><td>145</td><td>160</td><td>129</td><td>18</td><td>33</td><td>DFW</td><td>Dallas/Fort Worth International Airport</td><td>MCO</td><td>Orlando International Airport</td><td>984</td><td>6</td><td>10</td><td>0</td><td>N</td><td>0</td><td>18</td><td>0</td><td>0</td><td>0</td><td>0</td></tr></tbody></table></div>"
      ]
     },
     "metadata": {
      "application/vnd.databricks.v1+output": {
       "addedWidgets": {},
       "aggData": [],
       "aggError": "",
       "aggOverflow": false,
       "aggSchema": [],
       "aggSeriesLimitReached": false,
       "aggType": "",
       "arguments": {},
       "columnCustomDisplayInfos": {},
       "data": [
        [
         7,
         "29-06-2019",
         1308,
         1715,
         1640,
         "AA",
         "American Airlines Inc.",
         1494,
         "N584AA",
         187,
         175,
         155,
         35,
         23,
         "DFW",
         "Dallas/Fort Worth International Airport",
         "FLL",
         "Fort Lauderdale-Hollywood International Airport",
         1119,
         6,
         26,
         0,
         "N",
         0,
         14,
         0,
         12,
         0,
         9
        ],
        [
         3,
         "04-06-2019",
         1617,
         1945,
         1915,
         "AA",
         "American Airlines Inc.",
         1496,
         "N405AA",
         148,
         160,
         129,
         30,
         42,
         "DFW",
         "Dallas/Fort Worth International Airport",
         "MCO",
         "Orlando International Airport",
         984,
         4,
         15,
         0,
         "N",
         0,
         0,
         0,
         0,
         0,
         30
        ],
        [
         7,
         "08-06-2019",
         1623,
         1957,
         1915,
         "AA",
         "American Airlines Inc.",
         1496,
         "N511AA",
         154,
         160,
         130,
         42,
         48,
         "DFW",
         "Dallas/Fort Worth International Airport",
         "MCO",
         "Orlando International Airport",
         984,
         8,
         16,
         0,
         "N",
         0,
         42,
         0,
         0,
         0,
         0
        ],
        [
         2,
         "10-06-2019",
         1623,
         2003,
         1915,
         "AA",
         "American Airlines Inc.",
         1496,
         "N499AA",
         160,
         160,
         136,
         48,
         48,
         "DFW",
         "Dallas/Fort Worth International Airport",
         "MCO",
         "Orlando International Airport",
         984,
         8,
         16,
         0,
         "N",
         0,
         46,
         0,
         0,
         0,
         2
        ],
        [
         4,
         "12-06-2019",
         1545,
         1944,
         1915,
         "AA",
         "American Airlines Inc.",
         1496,
         "N498AA",
         179,
         160,
         148,
         29,
         10,
         "DFW",
         "Dallas/Fort Worth International Airport",
         "MCO",
         "Orlando International Airport",
         984,
         7,
         24,
         0,
         "N",
         0,
         10,
         0,
         19,
         0,
         0
        ],
        [
         5,
         "13-06-2019",
         1609,
         1942,
         1915,
         "AA",
         "American Airlines Inc.",
         1496,
         "N510AA",
         153,
         160,
         131,
         27,
         34,
         "DFW",
         "Dallas/Fort Worth International Airport",
         "MCO",
         "Orlando International Airport",
         984,
         7,
         15,
         0,
         "N",
         0,
         27,
         0,
         0,
         0,
         0
        ],
        [
         6,
         "14-06-2019",
         1616,
         1954,
         1915,
         "AA",
         "American Airlines Inc.",
         1496,
         "N559AA",
         158,
         160,
         136,
         39,
         41,
         "DFW",
         "Dallas/Fort Worth International Airport",
         "MCO",
         "Orlando International Airport",
         984,
         11,
         11,
         0,
         "N",
         0,
         11,
         0,
         0,
         0,
         28
        ],
        [
         2,
         "17-06-2019",
         1617,
         2002,
         1915,
         "AA",
         "American Airlines Inc.",
         1496,
         "N505AA",
         165,
         160,
         141,
         47,
         42,
         "DFW",
         "Dallas/Fort Worth International Airport",
         "MCO",
         "Orlando International Airport",
         984,
         7,
         17,
         0,
         "N",
         0,
         0,
         22,
         5,
         0,
         20
        ],
        [
         7,
         "22-06-2019",
         1607,
         1941,
         1915,
         "AA",
         "American Airlines Inc.",
         1496,
         "N421AA",
         154,
         160,
         137,
         26,
         32,
         "DFW",
         "Dallas/Fort Worth International Airport",
         "MCO",
         "Orlando International Airport",
         984,
         5,
         12,
         0,
         "N",
         0,
         1,
         0,
         0,
         0,
         25
        ],
        [
         1,
         "23-06-2019",
         1608,
         1933,
         1915,
         "AA",
         "American Airlines Inc.",
         1496,
         "N487AA",
         145,
         160,
         129,
         18,
         33,
         "DFW",
         "Dallas/Fort Worth International Airport",
         "MCO",
         "Orlando International Airport",
         984,
         6,
         10,
         0,
         "N",
         0,
         18,
         0,
         0,
         0,
         0
        ]
       ],
       "datasetInfos": [],
       "dbfsResultPath": null,
       "isJsonSchema": true,
       "metadata": {},
       "overflow": false,
       "plotOptions": {
        "customPlotOptions": {},
        "displayType": "table",
        "pivotAggregation": null,
        "pivotColumns": null,
        "xColumns": null,
        "yColumns": null
       },
       "removedWidgets": [],
       "schema": [
        {
         "metadata": "{}",
         "name": "DayOfWeek",
         "type": "\"long\""
        },
        {
         "metadata": "{}",
         "name": "Date",
         "type": "\"string\""
        },
        {
         "metadata": "{}",
         "name": "DepTime",
         "type": "\"long\""
        },
        {
         "metadata": "{}",
         "name": "ArrTime",
         "type": "\"long\""
        },
        {
         "metadata": "{}",
         "name": "CRSArrTime",
         "type": "\"long\""
        },
        {
         "metadata": "{}",
         "name": "UniqueCarrier",
         "type": "\"string\""
        },
        {
         "metadata": "{}",
         "name": "Airline",
         "type": "\"string\""
        },
        {
         "metadata": "{}",
         "name": "FlightNum",
         "type": "\"long\""
        },
        {
         "metadata": "{}",
         "name": "TailNum",
         "type": "\"string\""
        },
        {
         "metadata": "{}",
         "name": "ActualElapsedTime",
         "type": "\"long\""
        },
        {
         "metadata": "{}",
         "name": "CRSElapsedTime",
         "type": "\"long\""
        },
        {
         "metadata": "{}",
         "name": "AirTime",
         "type": "\"long\""
        },
        {
         "metadata": "{}",
         "name": "ArrDelay",
         "type": "\"long\""
        },
        {
         "metadata": "{}",
         "name": "DepDelay",
         "type": "\"long\""
        },
        {
         "metadata": "{}",
         "name": "Origin",
         "type": "\"string\""
        },
        {
         "metadata": "{}",
         "name": "Org_Airport",
         "type": "\"string\""
        },
        {
         "metadata": "{}",
         "name": "Dest",
         "type": "\"string\""
        },
        {
         "metadata": "{}",
         "name": "Dest_Airport",
         "type": "\"string\""
        },
        {
         "metadata": "{}",
         "name": "Distance",
         "type": "\"long\""
        },
        {
         "metadata": "{}",
         "name": "TaxiIn",
         "type": "\"long\""
        },
        {
         "metadata": "{}",
         "name": "TaxiOut",
         "type": "\"long\""
        },
        {
         "metadata": "{}",
         "name": "Cancelled",
         "type": "\"long\""
        },
        {
         "metadata": "{}",
         "name": "CancellationCode",
         "type": "\"string\""
        },
        {
         "metadata": "{}",
         "name": "Diverted",
         "type": "\"long\""
        },
        {
         "metadata": "{}",
         "name": "CarrierDelay",
         "type": "\"long\""
        },
        {
         "metadata": "{}",
         "name": "WeatherDelay",
         "type": "\"long\""
        },
        {
         "metadata": "{}",
         "name": "NASDelay",
         "type": "\"long\""
        },
        {
         "metadata": "{}",
         "name": "SecurityDelay",
         "type": "\"long\""
        },
        {
         "metadata": "{}",
         "name": "LateAircraftDelay",
         "type": "\"long\""
        }
       ],
       "type": "table"
      }
     },
     "output_type": "display_data"
    }
   ],
   "source": [
    "display(data.tail(10))"
   ]
  },
  {
   "cell_type": "code",
   "execution_count": 0,
   "metadata": {
    "application/vnd.databricks.v1+cell": {
     "cellMetadata": {
      "byteLimit": 2048000,
      "rowLimit": 10000
     },
     "inputWidgets": {},
     "nuid": "7a7a5824-fd1e-4041-9157-7623673c8a37",
     "showTitle": false,
     "tableResultSettingsMap": {},
     "title": ""
    }
   },
   "outputs": [
    {
     "output_type": "stream",
     "name": "stdout",
     "output_type": "stream",
     "text": [
      "Shape: (DayOfWeek            484551\nDate                 484551\nDepTime              484551\nArrTime              484551\nCRSArrTime           484551\nUniqueCarrier        484551\nAirline              484551\nFlightNum            484551\nTailNum              484551\nActualElapsedTime    484551\nCRSElapsedTime       484551\nAirTime              484551\nArrDelay             484551\nDepDelay             484551\nOrigin               484551\nOrg_Airport          483374\nDest                 484551\nDest_Airport         483072\nDistance             484551\nTaxiIn               484551\nTaxiOut              484551\nCancelled            484551\nCancellationCode     484551\nDiverted             484551\nCarrierDelay         484551\nWeatherDelay         484551\nNASDelay             484551\nSecurityDelay        484551\nLateAircraftDelay    484551\ndtype: int64, 29)\n"
     ]
    }
   ],
   "source": [
    "num_rows = data.count()\n",
    "num_cols = len(data.columns)\n",
    "print(\"Shape:\", (num_rows, num_cols))"
   ]
  },
  {
   "cell_type": "code",
   "execution_count": 0,
   "metadata": {
    "application/vnd.databricks.v1+cell": {
     "cellMetadata": {
      "byteLimit": 2048000,
      "rowLimit": 10000
     },
     "inputWidgets": {},
     "nuid": "12e19ebe-1495-4583-83ad-29f2c68ab6b1",
     "showTitle": false,
     "tableResultSettingsMap": {},
     "title": ""
    }
   },
   "outputs": [
    {
     "output_type": "stream",
     "name": "stdout",
     "output_type": "stream",
     "text": [
      "\nInfo:\n<class 'pandas.core.frame.DataFrame'>\nRangeIndex: 484551 entries, 0 to 484550\nData columns (total 29 columns):\n #   Column             Non-Null Count   Dtype \n---  ------             --------------   ----- \n 0   DayOfWeek          484551 non-null  int64 \n 1   Date               484551 non-null  object\n 2   DepTime            484551 non-null  int64 \n 3   ArrTime            484551 non-null  int64 \n 4   CRSArrTime         484551 non-null  int64 \n 5   UniqueCarrier      484551 non-null  object\n 6   Airline            484551 non-null  object\n 7   FlightNum          484551 non-null  int64 \n 8   TailNum            484551 non-null  object\n 9   ActualElapsedTime  484551 non-null  int64 \n 10  CRSElapsedTime     484551 non-null  int64 \n 11  AirTime            484551 non-null  int64 \n 12  ArrDelay           484551 non-null  int64 \n 13  DepDelay           484551 non-null  int64 \n 14  Origin             484551 non-null  object\n 15  Org_Airport        483374 non-null  object\n 16  Dest               484551 non-null  object\n 17  Dest_Airport       483072 non-null  object\n 18  Distance           484551 non-null  int64 \n 19  TaxiIn             484551 non-null  int64 \n 20  TaxiOut            484551 non-null  int64 \n 21  Cancelled          484551 non-null  int64 \n 22  CancellationCode   484551 non-null  object\n 23  Diverted           484551 non-null  int64 \n 24  CarrierDelay       484551 non-null  int64 \n 25  WeatherDelay       484551 non-null  int64 \n 26  NASDelay           484551 non-null  int64 \n 27  SecurityDelay      484551 non-null  int64 \n 28  LateAircraftDelay  484551 non-null  int64 \ndtypes: int64(20), object(9)\nmemory usage: 107.2+ MB\nNone\n"
     ]
    }
   ],
   "source": [
    "print(\"\\nInfo:\")\n",
    "print(data.info())\n"
   ]
  },
  {
   "cell_type": "code",
   "execution_count": 0,
   "metadata": {
    "application/vnd.databricks.v1+cell": {
     "cellMetadata": {
      "byteLimit": 2048000,
      "rowLimit": 10000
     },
     "inputWidgets": {},
     "nuid": "e6b577f2-911e-4ab1-95d4-56a06e4fab97",
     "showTitle": false,
     "tableResultSettingsMap": {},
     "title": ""
    }
   },
   "outputs": [
    {
     "output_type": "stream",
     "name": "stdout",
     "output_type": "stream",
     "text": [
      "\nDtypes:\nDayOfWeek             int64\nDate                 object\nDepTime               int64\nArrTime               int64\nCRSArrTime            int64\nUniqueCarrier        object\nAirline              object\nFlightNum             int64\nTailNum              object\nActualElapsedTime     int64\nCRSElapsedTime        int64\nAirTime               int64\nArrDelay              int64\nDepDelay              int64\nOrigin               object\nOrg_Airport          object\nDest                 object\nDest_Airport         object\nDistance              int64\nTaxiIn                int64\nTaxiOut               int64\nCancelled             int64\nCancellationCode     object\nDiverted              int64\nCarrierDelay          int64\nWeatherDelay          int64\nNASDelay              int64\nSecurityDelay         int64\nLateAircraftDelay     int64\ndtype: object\n"
     ]
    }
   ],
   "source": [
    "print(\"\\nDtypes:\")\n",
    "print(data.dtypes)\n"
   ]
  },
  {
   "cell_type": "code",
   "execution_count": 0,
   "metadata": {
    "application/vnd.databricks.v1+cell": {
     "cellMetadata": {
      "byteLimit": 2048000,
      "rowLimit": 10000
     },
     "inputWidgets": {},
     "nuid": "423466ed-b563-4ef6-b0a7-6b7b3c9c2064",
     "showTitle": false,
     "tableResultSettingsMap": {},
     "title": ""
    }
   },
   "outputs": [
    {
     "output_type": "stream",
     "name": "stdout",
     "output_type": "stream",
     "text": [
      "\nMissing values per column:\nDayOfWeek               0\nDate                    0\nDepTime                 0\nArrTime                 0\nCRSArrTime              0\nUniqueCarrier           0\nAirline                 0\nFlightNum               0\nTailNum                 0\nActualElapsedTime       0\nCRSElapsedTime          0\nAirTime                 0\nArrDelay                0\nDepDelay                0\nOrigin                  0\nOrg_Airport          1177\nDest                    0\nDest_Airport         1479\nDistance                0\nTaxiIn                  0\nTaxiOut                 0\nCancelled               0\nCancellationCode        0\nDiverted                0\nCarrierDelay            0\nWeatherDelay            0\nNASDelay                0\nSecurityDelay           0\nLateAircraftDelay       0\ndtype: int64\n"
     ]
    }
   ],
   "source": [
    "print(\"\\nMissing values per column:\")\n",
    "print(data.isnull().sum())"
   ]
  },
  {
   "cell_type": "code",
   "execution_count": 0,
   "metadata": {
    "application/vnd.databricks.v1+cell": {
     "cellMetadata": {
      "byteLimit": 2048000,
      "rowLimit": 10000
     },
     "inputWidgets": {},
     "nuid": "f99a1172-e9d6-4c9f-95b7-168346b9c4d4",
     "showTitle": false,
     "tableResultSettingsMap": {},
     "title": ""
    }
   },
   "outputs": [],
   "source": [
    "data['Org_Airport']=data['Org_Airport'].fillna(\"Unknown\")\n",
    "data['Dest_Airport']=data['Dest_Airport'].fillna(\"Unknown\")"
   ]
  },
  {
   "cell_type": "code",
   "execution_count": 0,
   "metadata": {
    "application/vnd.databricks.v1+cell": {
     "cellMetadata": {
      "byteLimit": 2048000,
      "rowLimit": 10000
     },
     "inputWidgets": {},
     "nuid": "89d67cc6-5558-4134-b0f3-f020d2772a0a",
     "showTitle": false,
     "tableResultSettingsMap": {},
     "title": ""
    }
   },
   "outputs": [
    {
     "output_type": "stream",
     "name": "stdout",
     "output_type": "stream",
     "text": [
      "\nMissing values per column:\nDayOfWeek            0\nDate                 0\nDepTime              0\nArrTime              0\nCRSArrTime           0\nUniqueCarrier        0\nAirline              0\nFlightNum            0\nTailNum              0\nActualElapsedTime    0\nCRSElapsedTime       0\nAirTime              0\nArrDelay             0\nDepDelay             0\nOrigin               0\nOrg_Airport          0\nDest                 0\nDest_Airport         0\nDistance             0\nTaxiIn               0\nTaxiOut              0\nCancelled            0\nCancellationCode     0\nDiverted             0\nCarrierDelay         0\nWeatherDelay         0\nNASDelay             0\nSecurityDelay        0\nLateAircraftDelay    0\ndtype: int64\n"
     ]
    }
   ],
   "source": [
    "print(\"\\nMissing values per column:\")\n",
    "print(data.isnull().sum())"
   ]
  },
  {
   "cell_type": "code",
   "execution_count": 0,
   "metadata": {
    "application/vnd.databricks.v1+cell": {
     "cellMetadata": {
      "byteLimit": 2048000,
      "rowLimit": 10000
     },
     "inputWidgets": {},
     "nuid": "fab96e1c-410c-429e-8d07-036ba3b2ed1c",
     "showTitle": false,
     "tableResultSettingsMap": {},
     "title": ""
    }
   },
   "outputs": [
    {
     "output_type": "stream",
     "name": "stdout",
     "output_type": "stream",
     "text": [
      "Number of Duplicate Rows\n2\n"
     ]
    }
   ],
   "source": [
    "print(\"Number of Duplicate Rows\")\n",
    "print(data.duplicated().sum())\n",
    "data=data.drop_duplicates()"
   ]
  },
  {
   "cell_type": "code",
   "execution_count": 0,
   "metadata": {
    "application/vnd.databricks.v1+cell": {
     "cellMetadata": {
      "byteLimit": 2048000,
      "rowLimit": 10000
     },
     "inputWidgets": {},
     "nuid": "7797a62f-0a74-404c-bfce-dada8121b13c",
     "showTitle": false,
     "tableResultSettingsMap": {},
     "title": ""
    }
   },
   "outputs": [
    {
     "output_type": "stream",
     "name": "stdout",
     "output_type": "stream",
     "text": [
      "(484549, 29)\n(484549, 29)\n"
     ]
    }
   ],
   "source": [
    "print(data.shape)\n",
    "data=data.drop_duplicates()\n",
    "print(data.shape)"
   ]
  },
  {
   "cell_type": "code",
   "execution_count": 0,
   "metadata": {
    "application/vnd.databricks.v1+cell": {
     "cellMetadata": {
      "byteLimit": 2048000,
      "rowLimit": 10000
     },
     "inputWidgets": {},
     "nuid": "19ba7b41-4b50-428c-a8ed-0e6f6094f351",
     "showTitle": false,
     "tableResultSettingsMap": {},
     "title": ""
    }
   },
   "outputs": [
    {
     "output_type": "stream",
     "name": "stdout",
     "output_type": "stream",
     "text": [
      "\nMemory usage (MB):\n342.3839054107666\n"
     ]
    }
   ],
   "source": [
    "print(\"\\nMemory usage (MB):\")\n",
    "print(data.memory_usage(deep=True).sum() / 1024**2)"
   ]
  },
  {
   "cell_type": "code",
   "execution_count": 0,
   "metadata": {
    "application/vnd.databricks.v1+cell": {
     "cellMetadata": {
      "byteLimit": 2048000,
      "rowLimit": 10000
     },
     "inputWidgets": {},
     "nuid": "def6e927-f188-4954-ace8-6e5371983013",
     "showTitle": false,
     "tableResultSettingsMap": {},
     "title": ""
    }
   },
   "outputs": [
    {
     "output_type": "stream",
     "name": "stdout",
     "output_type": "stream",
     "text": [
      "Statistical Measures\n"
     ]
    },
    {
     "output_type": "execute_result",
     "data": {
      "text/html": [
       "<div>\n",
       "<style scoped>\n",
       "    .dataframe tbody tr th:only-of-type {\n",
       "        vertical-align: middle;\n",
       "    }\n",
       "\n",
       "    .dataframe tbody tr th {\n",
       "        vertical-align: top;\n",
       "    }\n",
       "\n",
       "    .dataframe thead th {\n",
       "        text-align: right;\n",
       "    }\n",
       "</style>\n",
       "<table border=\"1\" class=\"dataframe\">\n",
       "  <thead>\n",
       "    <tr style=\"text-align: right;\">\n",
       "      <th></th>\n",
       "      <th>DayOfWeek</th>\n",
       "      <th>DepTime</th>\n",
       "      <th>ArrTime</th>\n",
       "      <th>CRSArrTime</th>\n",
       "      <th>FlightNum</th>\n",
       "      <th>ActualElapsedTime</th>\n",
       "      <th>CRSElapsedTime</th>\n",
       "      <th>AirTime</th>\n",
       "      <th>ArrDelay</th>\n",
       "      <th>DepDelay</th>\n",
       "      <th>Distance</th>\n",
       "      <th>TaxiIn</th>\n",
       "      <th>TaxiOut</th>\n",
       "      <th>Cancelled</th>\n",
       "      <th>Diverted</th>\n",
       "      <th>CarrierDelay</th>\n",
       "      <th>WeatherDelay</th>\n",
       "      <th>NASDelay</th>\n",
       "      <th>SecurityDelay</th>\n",
       "      <th>LateAircraftDelay</th>\n",
       "    </tr>\n",
       "  </thead>\n",
       "  <tbody>\n",
       "    <tr>\n",
       "      <th>count</th>\n",
       "      <td>484549.000000</td>\n",
       "      <td>484549.000000</td>\n",
       "      <td>484549.000000</td>\n",
       "      <td>484549.000000</td>\n",
       "      <td>484549.000000</td>\n",
       "      <td>484549.000000</td>\n",
       "      <td>484549.000000</td>\n",
       "      <td>484549.000000</td>\n",
       "      <td>484549.000000</td>\n",
       "      <td>484549.000000</td>\n",
       "      <td>484549.000000</td>\n",
       "      <td>484549.000000</td>\n",
       "      <td>484549.000000</td>\n",
       "      <td>484549.0</td>\n",
       "      <td>484549.0</td>\n",
       "      <td>484549.000000</td>\n",
       "      <td>484549.000000</td>\n",
       "      <td>484549.000000</td>\n",
       "      <td>484549.000000</td>\n",
       "      <td>484549.000000</td>\n",
       "    </tr>\n",
       "    <tr>\n",
       "      <th>mean</th>\n",
       "      <td>3.991605</td>\n",
       "      <td>1564.476313</td>\n",
       "      <td>1617.782323</td>\n",
       "      <td>1652.128222</td>\n",
       "      <td>2139.213010</td>\n",
       "      <td>134.810527</td>\n",
       "      <td>131.400845</td>\n",
       "      <td>108.877222</td>\n",
       "      <td>60.907832</td>\n",
       "      <td>57.498133</td>\n",
       "      <td>752.143197</td>\n",
       "      <td>6.782404</td>\n",
       "      <td>19.150901</td>\n",
       "      <td>0.0</td>\n",
       "      <td>0.0</td>\n",
       "      <td>17.419419</td>\n",
       "      <td>3.153297</td>\n",
       "      <td>13.599386</td>\n",
       "      <td>0.082033</td>\n",
       "      <td>26.653697</td>\n",
       "    </tr>\n",
       "    <tr>\n",
       "      <th>std</th>\n",
       "      <td>1.971470</td>\n",
       "      <td>452.235472</td>\n",
       "      <td>583.637817</td>\n",
       "      <td>466.096303</td>\n",
       "      <td>1812.678698</td>\n",
       "      <td>74.070509</td>\n",
       "      <td>71.542667</td>\n",
       "      <td>70.113643</td>\n",
       "      <td>56.975528</td>\n",
       "      <td>55.991123</td>\n",
       "      <td>571.632249</td>\n",
       "      <td>5.555825</td>\n",
       "      <td>15.309773</td>\n",
       "      <td>0.0</td>\n",
       "      <td>0.0</td>\n",
       "      <td>39.417948</td>\n",
       "      <td>19.503696</td>\n",
       "      <td>31.454683</td>\n",
       "      <td>1.884778</td>\n",
       "      <td>40.536042</td>\n",
       "    </tr>\n",
       "    <tr>\n",
       "      <th>min</th>\n",
       "      <td>1.000000</td>\n",
       "      <td>1.000000</td>\n",
       "      <td>1.000000</td>\n",
       "      <td>1.000000</td>\n",
       "      <td>1.000000</td>\n",
       "      <td>15.000000</td>\n",
       "      <td>-21.000000</td>\n",
       "      <td>0.000000</td>\n",
       "      <td>15.000000</td>\n",
       "      <td>6.000000</td>\n",
       "      <td>31.000000</td>\n",
       "      <td>0.000000</td>\n",
       "      <td>0.000000</td>\n",
       "      <td>0.0</td>\n",
       "      <td>0.0</td>\n",
       "      <td>0.000000</td>\n",
       "      <td>0.000000</td>\n",
       "      <td>0.000000</td>\n",
       "      <td>0.000000</td>\n",
       "      <td>0.000000</td>\n",
       "    </tr>\n",
       "    <tr>\n",
       "      <th>25%</th>\n",
       "      <td>2.000000</td>\n",
       "      <td>1234.000000</td>\n",
       "      <td>1327.000000</td>\n",
       "      <td>1339.000000</td>\n",
       "      <td>629.000000</td>\n",
       "      <td>80.000000</td>\n",
       "      <td>79.000000</td>\n",
       "      <td>57.000000</td>\n",
       "      <td>25.000000</td>\n",
       "      <td>23.000000</td>\n",
       "      <td>331.000000</td>\n",
       "      <td>4.000000</td>\n",
       "      <td>11.000000</td>\n",
       "      <td>0.0</td>\n",
       "      <td>0.0</td>\n",
       "      <td>0.000000</td>\n",
       "      <td>0.000000</td>\n",
       "      <td>0.000000</td>\n",
       "      <td>0.000000</td>\n",
       "      <td>0.000000</td>\n",
       "    </tr>\n",
       "    <tr>\n",
       "      <th>50%</th>\n",
       "      <td>4.000000</td>\n",
       "      <td>1620.000000</td>\n",
       "      <td>1737.000000</td>\n",
       "      <td>1723.000000</td>\n",
       "      <td>1514.000000</td>\n",
       "      <td>116.000000</td>\n",
       "      <td>114.000000</td>\n",
       "      <td>90.000000</td>\n",
       "      <td>42.000000</td>\n",
       "      <td>40.000000</td>\n",
       "      <td>599.000000</td>\n",
       "      <td>5.000000</td>\n",
       "      <td>15.000000</td>\n",
       "      <td>0.0</td>\n",
       "      <td>0.0</td>\n",
       "      <td>2.000000</td>\n",
       "      <td>0.000000</td>\n",
       "      <td>1.000000</td>\n",
       "      <td>0.000000</td>\n",
       "      <td>13.000000</td>\n",
       "    </tr>\n",
       "    <tr>\n",
       "      <th>75%</th>\n",
       "      <td>6.000000</td>\n",
       "      <td>1928.000000</td>\n",
       "      <td>2049.000000</td>\n",
       "      <td>2025.000000</td>\n",
       "      <td>3683.000000</td>\n",
       "      <td>168.000000</td>\n",
       "      <td>162.000000</td>\n",
       "      <td>139.000000</td>\n",
       "      <td>76.000000</td>\n",
       "      <td>72.000000</td>\n",
       "      <td>992.000000</td>\n",
       "      <td>8.000000</td>\n",
       "      <td>22.000000</td>\n",
       "      <td>0.0</td>\n",
       "      <td>0.0</td>\n",
       "      <td>19.000000</td>\n",
       "      <td>0.000000</td>\n",
       "      <td>13.000000</td>\n",
       "      <td>0.000000</td>\n",
       "      <td>36.000000</td>\n",
       "    </tr>\n",
       "    <tr>\n",
       "      <th>max</th>\n",
       "      <td>7.000000</td>\n",
       "      <td>2400.000000</td>\n",
       "      <td>2400.000000</td>\n",
       "      <td>2359.000000</td>\n",
       "      <td>8403.000000</td>\n",
       "      <td>727.000000</td>\n",
       "      <td>602.000000</td>\n",
       "      <td>609.000000</td>\n",
       "      <td>1707.000000</td>\n",
       "      <td>1710.000000</td>\n",
       "      <td>4502.000000</td>\n",
       "      <td>207.000000</td>\n",
       "      <td>383.000000</td>\n",
       "      <td>0.0</td>\n",
       "      <td>0.0</td>\n",
       "      <td>1707.000000</td>\n",
       "      <td>1148.000000</td>\n",
       "      <td>1357.000000</td>\n",
       "      <td>392.000000</td>\n",
       "      <td>1254.000000</td>\n",
       "    </tr>\n",
       "  </tbody>\n",
       "</table>\n",
       "</div>"
      ],
      "text/plain": [
       "           DayOfWeek        DepTime  ...  SecurityDelay  LateAircraftDelay\n",
       "count  484549.000000  484549.000000  ...  484549.000000      484549.000000\n",
       "mean        3.991605    1564.476313  ...       0.082033          26.653697\n",
       "std         1.971470     452.235472  ...       1.884778          40.536042\n",
       "min         1.000000       1.000000  ...       0.000000           0.000000\n",
       "25%         2.000000    1234.000000  ...       0.000000           0.000000\n",
       "50%         4.000000    1620.000000  ...       0.000000          13.000000\n",
       "75%         6.000000    1928.000000  ...       0.000000          36.000000\n",
       "max         7.000000    2400.000000  ...     392.000000        1254.000000\n",
       "\n",
       "[8 rows x 20 columns]"
      ]
     },
     "execution_count": 22,
     "metadata": {},
     "output_type": "execute_result"
    }
   ],
   "source": [
    "print(\"Statistical Measures\")\n",
    "data.describe()"
   ]
  },
  {
   "cell_type": "code",
   "execution_count": 0,
   "metadata": {
    "application/vnd.databricks.v1+cell": {
     "cellMetadata": {
      "byteLimit": 2048000,
      "rowLimit": 10000
     },
     "inputWidgets": {},
     "nuid": "7e092834-c893-4aa8-93e1-005eea5aa4f6",
     "showTitle": false,
     "tableResultSettingsMap": {},
     "title": ""
    }
   },
   "outputs": [
    {
     "output_type": "display_data",
     "data": {
      "image/png": "[encoded data removed]",
      "text/plain": [
       "<Figure size 665x1710 with 20 Axes>"
      ]
     },
     "metadata": {},
     "output_type": "display_data"
    }
   ],
   "source": [
    "import matplotlib.pyplot as plt\n",
    "\n",
    "numeric_data = data.select_dtypes(include=[\"number\"])\n",
    "\n",
    "fig, axs = plt.subplots(\n",
    "    len(numeric_data.columns), \n",
    "    1, \n",
    "    figsize=(7, 18), \n",
    "    dpi=95\n",
    ")\n",
    "for i, col in enumerate(numeric_data.columns):\n",
    "    axs[i].boxplot(numeric_data[col].dropna(), vert=False)\n",
    "    axs[i].set_ylabel(col)\n",
    "plt.tight_layout()\n",
    "plt.show()"
   ]
  },
  {
   "cell_type": "code",
   "execution_count": 0,
   "metadata": {
    "application/vnd.databricks.v1+cell": {
     "cellMetadata": {
      "byteLimit": 2048000,
      "rowLimit": 10000
     },
     "inputWidgets": {},
     "nuid": "9e82053d-13e6-4958-b858-2f55716c6d85",
     "showTitle": false,
     "tableResultSettingsMap": {},
     "title": ""
    }
   },
   "outputs": [],
   "source": [
    "numeric_cols = data.select_dtypes(include=[\"number\"]).columns\n",
    "\n",
    "for col in numeric_cols:\n",
    "    Q1 = data[col].quantile(0.25)\n",
    "    Q3 = data[col].quantile(0.75)\n",
    "    IQR = Q3 - Q1\n",
    "    lower_bound = Q1 - 1.5 * IQR\n",
    "    upper_bound = Q3 + 1.5 * IQR\n",
    "    data = data[(data[col] >= lower_bound) & (data[col] <= upper_bound)]"
   ]
  },
  {
   "cell_type": "code",
   "execution_count": 0,
   "metadata": {
    "application/vnd.databricks.v1+cell": {
     "cellMetadata": {
      "byteLimit": 2048000,
      "rowLimit": 10000
     },
     "inputWidgets": {},
     "nuid": "e42327d0-5b26-49bf-8379-7b22d8e41f26",
     "showTitle": false,
     "tableResultSettingsMap": {},
     "title": ""
    }
   },
   "outputs": [
    {
     "output_type": "display_data",
     "data": {
      "image/png": "[encoded data removed]",
      "text/plain": [
       "<Figure size 1200x1000 with 2 Axes>"
      ]
     },
     "metadata": {},
     "output_type": "display_data"
    }
   ],
   "source": [
    "import pandas as pd\n",
    "import numpy as np\n",
    "import seaborn as sns\n",
    "import matplotlib.pyplot as plt\n",
    "correlation = data.corr(numeric_only=True)\n",
    "correlation = correlation.round(2)\n",
    "plt.figure(figsize=(12, 10))\n",
    "mask = np.triu(np.ones_like(correlation, dtype=bool))\n",
    "sns.heatmap(correlation, \n",
    "            mask=mask,          \n",
    "            annot=True,         \n",
    "            fmt=\".2f\",          \n",
    "            cmap=\"coolwarm\",    \n",
    "            vmin=-1, vmax=1,    \n",
    "            linewidths=0.5, \n",
    "            cbar_kws={\"shrink\": 0.8}) \n",
    "\n",
    "plt.title(\"Correlation Matrix of Numerical Columns\", fontsize=16, pad=20)\n",
    "plt.xticks(rotation=45, ha='right')\n",
    "plt.yticks(rotation=0)\n",
    "plt.tight_layout()\n",
    "plt.show()\n"
   ]
  },
  {
   "cell_type": "code",
   "execution_count": 0,
   "metadata": {
    "application/vnd.databricks.v1+cell": {
     "cellMetadata": {
      "byteLimit": 2048000,
      "rowLimit": 10000
     },
     "inputWidgets": {},
     "nuid": "8b1572d0-2cff-4332-8677-cb3ec67d1e54",
     "showTitle": false,
     "tableResultSettingsMap": {},
     "title": ""
    }
   },
   "outputs": [
    {
     "output_type": "stream",
     "name": "stdout",
     "output_type": "stream",
     "text": [
      "Index(['DayOfWeek', 'Date', 'DepTime', 'ArrTime', 'CRSArrTime',\n       'UniqueCarrier', 'Airline', 'FlightNum', 'TailNum', 'ActualElapsedTime',\n       'CRSElapsedTime', 'AirTime', 'ArrDelay', 'DepDelay', 'Origin',\n       'Org_Airport', 'Dest', 'Dest_Airport', 'Distance', 'TaxiIn', 'TaxiOut',\n       'Cancelled', 'CancellationCode', 'Diverted', 'CarrierDelay',\n       'WeatherDelay', 'NASDelay', 'SecurityDelay', 'LateAircraftDelay'],\n      dtype='object')\n"
     ]
    },
    {
     "output_type": "display_data",
     "data": {
      "image/png": "[encoded data removed]",
      "text/plain": [
       "<Figure size 800x500 with 1 Axes>"
      ]
     },
     "metadata": {},
     "output_type": "display_data"
    }
   ],
   "source": [
    "# Check the actual column names\n",
    "print(data.columns)\n",
    "\n",
    "# Replace 'Delay' with the correct column name, for example 'delay' or 'DELAY'\n",
    "plt.figure(figsize=(8, 5))\n",
    "sns.histplot(\n",
    "    data['DepDelay'],  # update this to the correct column name\n",
    "    kde=True,\n",
    "    bins=30\n",
    ")\n",
    "plt.title(\"Distribution of Target Variable: Delay\")\n",
    "plt.xlabel(\"Delay\")\n",
    "plt.ylabel(\"Frequency\")\n",
    "plt.tight_layout()\n",
    "plt.show()"
   ]
  },
  {
   "cell_type": "code",
   "execution_count": 0,
   "metadata": {
    "application/vnd.databricks.v1+cell": {
     "cellMetadata": {
      "byteLimit": 2048000,
      "rowLimit": 10000
     },
     "inputWidgets": {},
     "nuid": "325db865-205c-4e5f-98c8-2a25e82f95d0",
     "showTitle": false,
     "tableResultSettingsMap": {},
     "title": ""
    }
   },
   "outputs": [],
   "source": [
    "target_col = 'DepDelay'  \n",
    "X = data.drop(columns=[target_col])\n",
    "y = data[target_col]"
   ]
  },
  {
   "cell_type": "code",
   "execution_count": 0,
   "metadata": {
    "application/vnd.databricks.v1+cell": {
     "cellMetadata": {
      "byteLimit": 2048000,
      "rowLimit": 10000
     },
     "inputWidgets": {},
     "nuid": "1d83c37c-6e7d-4986-8a9f-86e50a5f9cce",
     "showTitle": false,
     "tableResultSettingsMap": {},
     "title": ""
    }
   },
   "outputs": [
    {
     "output_type": "display_data",
     "data": {
      "text/html": [
       "<style scoped>\n",
       "  .table-result-container {\n",
       "    max-height: 300px;\n",
       "    overflow: auto;\n",
       "  }\n",
       "  table, th, td {\n",
       "    border: 1px solid black;\n",
       "    border-collapse: collapse;\n",
       "  }\n",
       "  th, td {\n",
       "    padding: 5px;\n",
       "  }\n",
       "  th {\n",
       "    text-align: left;\n",
       "  }\n",
       "</style><div class='table-result-container'><table class='table-result'><thead style='background-color: white'><tr><th>DayOfWeek</th><th>DepTime</th><th>ArrTime</th><th>CRSArrTime</th><th>FlightNum</th><th>ActualElapsedTime</th><th>CRSElapsedTime</th><th>AirTime</th><th>ArrDelay</th><th>Distance</th><th>TaxiIn</th><th>TaxiOut</th><th>Cancelled</th><th>Diverted</th><th>CarrierDelay</th><th>WeatherDelay</th><th>NASDelay</th><th>SecurityDelay</th><th>LateAircraftDelay</th><th>Date</th><th>UniqueCarrier</th><th>Airline</th><th>TailNum</th><th>Origin</th><th>Org_Airport</th><th>Dest</th><th>Dest_Airport</th><th>CancellationCode</th></tr></thead><tbody><tr><td>4.858263052882631E-4</td><td>0.690082984231081</td><td>0.576296494210293</td><td>0.6406457743956032</td><td>0.9699746788651358</td><td>-0.39133682462242836</td><td>-0.4234612388915104</td><td>-0.2428509220104828</td><td>-0.04559179683323051</td><td>-0.2022618591417768</td><td>-0.9644118846533841</td><td>-0.7045172695619681</td><td>0.0</td><td>0.0</td><td>-0.6387259926578557</td><td>0.0</td><td>-0.6219873184556268</td><td>0.0</td><td>0.45711970330702334</td><td>03-01-2019</td><td>WN</td><td>Southwest Airlines Co.</td><td>N464WN</td><td>IND</td><td>Indianapolis International Airport</td><td>BWI</td><td>Baltimore-Washington International Airport</td><td>N</td></tr><tr><td>4.858263052882631E-4</td><td>0.9573112759546474</td><td>0.7703809084036646</td><td>0.678368565158183</td><td>-0.944909224964542</td><td>2.815268855314112</td><td>3.0095619175659603</td><td>3.140154575565594</td><td>1.1942423018771249</td><td>2.789449161844266</td><td>-0.9644118846533841</td><td>-1.1453182534974895</td><td>0.0</td><td>0.0</td><td>0.013979697881544023</td><td>0.0</td><td>-0.6219873184556268</td><td>0.0</td><td>1.1349783439085595</td><td>03-01-2019</td><td>WN</td><td>Southwest Airlines Co.</td><td>N763SW</td><td>IND</td><td>Indianapolis International Airport</td><td>LAS</td><td>McCarran International Airport</td><td>N</td></tr><tr><td>4.858263052882631E-4</td><td>0.23233081785274995</td><td>0.29263465808151923</td><td>0.13767523089453848</td><td>-0.482328064965816</td><td>0.27136168256445664</td><td>0.5420765238621532</td><td>0.420483489278944</td><td>2.43407640058748</td><td>0.6680035214982151</td><td>0.18000231626101976</td><td>-0.9983845921856491</td><td>0.0</td><td>0.0</td><td>-0.1491967247533059</td><td>0.0</td><td>-0.6219873184556268</td><td>0.0</td><td>2.26474274491112</td><td>03-01-2019</td><td>WN</td><td>Southwest Airlines Co.</td><td>N334SW</td><td>IND</td><td>Indianapolis International Airport</td><td>MCO</td><td>Orlando International Airport</td><td>N</td></tr><tr><td>4.858263052882631E-4</td><td>-0.24274170076692345</td><td>-0.2174589946061881</td><td>-0.11381004085599389</td><td>-0.8517193310813035</td><td>2.5587404009191888</td><td>2.794997970287368</td><td>2.7642650758349188</td><td>-1.0698025740287416</td><td>2.505848302977559</td><td>0.561473716565821</td><td>-0.9983845921856491</td><td>0.0</td><td>0.0</td><td>-0.5571377813404307</td><td>0.0</td><td>-0.6219873184556268</td><td>0.0</td><td>-0.44669181749502485</td><td>03-01-2019</td><td>WN</td><td>Southwest Airlines Co.</td><td>N286WN</td><td>IND</td><td>Indianapolis International Airport</td><td>PHX</td><td>Phoenix Sky Harbor International Airport</td><td>N</td></tr><tr><td>4.858263052882631E-4</td><td>-0.5619310492145165</td><td>-0.5011208307349619</td><td>-0.4030181033691061</td><td>-1.228408600934635</td><td>0.31411642496361053</td><td>0.5420765238621532</td><td>0.4868169304078867</td><td>-1.0158967436500304</td><td>0.6958075272694608</td><td>-0.5829404843485828</td><td>-0.8514509308738086</td><td>0.0</td><td>0.0</td><td>-0.8019024152927056</td><td>0.0</td><td>-0.6219873184556268</td><td>0.0</td><td>-0.26592951333461523</td><td>03-01-2019</td><td>WN</td><td>Southwest Airlines Co.</td><td>N674AA</td><td>IND</td><td>Indianapolis International Airport</td><td>TPA</td><td>Tampa International Airport</td><td>N</td></tr></tbody></table></div>"
      ]
     },
     "metadata": {
      "application/vnd.databricks.v1+output": {
       "addedWidgets": {},
       "aggData": [],
       "aggError": "",
       "aggOverflow": false,
       "aggSchema": [],
       "aggSeriesLimitReached": false,
       "aggType": "",
       "arguments": {},
       "columnCustomDisplayInfos": {},
       "data": [
        [
         4.858263052882631E-4,
         0.690082984231081,
         0.576296494210293,
         0.6406457743956032,
         0.9699746788651358,
         -0.39133682462242836,
         -0.4234612388915104,
         -0.2428509220104828,
         -0.04559179683323051,
         -0.2022618591417768,
         -0.9644118846533841,
         -0.7045172695619681,
         0.0,
         0.0,
         -0.6387259926578557,
         0.0,
         -0.6219873184556268,
         0.0,
         0.45711970330702334,
         "03-01-2019",
         "WN",
         "Southwest Airlines Co.",
         "N464WN",
         "IND",
         "Indianapolis International Airport",
         "BWI",
         "Baltimore-Washington International Airport",
         "N"
        ],
        [
         4.858263052882631E-4,
         0.9573112759546474,
         0.7703809084036646,
         0.678368565158183,
         -0.944909224964542,
         2.815268855314112,
         3.0095619175659603,
         3.140154575565594,
         1.1942423018771249,
         2.789449161844266,
         -0.9644118846533841,
         -1.1453182534974895,
         0.0,
         0.0,
         0.013979697881544023,
         0.0,
         -0.6219873184556268,
         0.0,
         1.1349783439085595,
         "03-01-2019",
         "WN",
         "Southwest Airlines Co.",
         "N763SW",
         "IND",
         "Indianapolis International Airport",
         "LAS",
         "McCarran International Airport",
         "N"
        ],
        [
         4.858263052882631E-4,
         0.23233081785274995,
         0.29263465808151923,
         0.13767523089453848,
         -0.482328064965816,
         0.27136168256445664,
         0.5420765238621532,
         0.420483489278944,
         2.43407640058748,
         0.6680035214982151,
         0.18000231626101976,
         -0.9983845921856491,
         0.0,
         0.0,
         -0.1491967247533059,
         0.0,
         -0.6219873184556268,
         0.0,
         2.26474274491112,
         "03-01-2019",
         "WN",
         "Southwest Airlines Co.",
         "N334SW",
         "IND",
         "Indianapolis International Airport",
         "MCO",
         "Orlando International Airport",
         "N"
        ],
        [
         4.858263052882631E-4,
         -0.24274170076692345,
         -0.2174589946061881,
         -0.11381004085599389,
         -0.8517193310813035,
         2.5587404009191888,
         2.794997970287368,
         2.7642650758349188,
         -1.0698025740287416,
         2.505848302977559,
         0.561473716565821,
         -0.9983845921856491,
         0.0,
         0.0,
         -0.5571377813404307,
         0.0,
         -0.6219873184556268,
         0.0,
         -0.44669181749502485,
         "03-01-2019",
         "WN",
         "Southwest Airlines Co.",
         "N286WN",
         "IND",
         "Indianapolis International Airport",
         "PHX",
         "Phoenix Sky Harbor International Airport",
         "N"
        ],
        [
         4.858263052882631E-4,
         -0.5619310492145165,
         -0.5011208307349619,
         -0.4030181033691061,
         -1.228408600934635,
         0.31411642496361053,
         0.5420765238621532,
         0.4868169304078867,
         -1.0158967436500304,
         0.6958075272694608,
         -0.5829404843485828,
         -0.8514509308738086,
         0.0,
         0.0,
         -0.8019024152927056,
         0.0,
         -0.6219873184556268,
         0.0,
         -0.26592951333461523,
         "03-01-2019",
         "WN",
         "Southwest Airlines Co.",
         "N674AA",
         "IND",
         "Indianapolis International Airport",
         "TPA",
         "Tampa International Airport",
         "N"
        ]
       ],
       "datasetInfos": [],
       "dbfsResultPath": null,
       "isJsonSchema": true,
       "metadata": {},
       "overflow": false,
       "plotOptions": {
        "customPlotOptions": {},
        "displayType": "table",
        "pivotAggregation": null,
        "pivotColumns": null,
        "xColumns": null,
        "yColumns": null
       },
       "removedWidgets": [],
       "schema": [
        {
         "metadata": "{}",
         "name": "DayOfWeek",
         "type": "\"double\""
        },
        {
         "metadata": "{}",
         "name": "DepTime",
         "type": "\"double\""
        },
        {
         "metadata": "{}",
         "name": "ArrTime",
         "type": "\"double\""
        },
        {
         "metadata": "{}",
         "name": "CRSArrTime",
         "type": "\"double\""
        },
        {
         "metadata": "{}",
         "name": "FlightNum",
         "type": "\"double\""
        },
        {
         "metadata": "{}",
         "name": "ActualElapsedTime",
         "type": "\"double\""
        },
        {
         "metadata": "{}",
         "name": "CRSElapsedTime",
         "type": "\"double\""
        },
        {
         "metadata": "{}",
         "name": "AirTime",
         "type": "\"double\""
        },
        {
         "metadata": "{}",
         "name": "ArrDelay",
         "type": "\"double\""
        },
        {
         "metadata": "{}",
         "name": "Distance",
         "type": "\"double\""
        },
        {
         "metadata": "{}",
         "name": "TaxiIn",
         "type": "\"double\""
        },
        {
         "metadata": "{}",
         "name": "TaxiOut",
         "type": "\"double\""
        },
        {
         "metadata": "{}",
         "name": "Cancelled",
         "type": "\"double\""
        },
        {
         "metadata": "{}",
         "name": "Diverted",
         "type": "\"double\""
        },
        {
         "metadata": "{}",
         "name": "CarrierDelay",
         "type": "\"double\""
        },
        {
         "metadata": "{}",
         "name": "WeatherDelay",
         "type": "\"double\""
        },
        {
         "metadata": "{}",
         "name": "NASDelay",
         "type": "\"double\""
        },
        {
         "metadata": "{}",
         "name": "SecurityDelay",
         "type": "\"double\""
        },
        {
         "metadata": "{}",
         "name": "LateAircraftDelay",
         "type": "\"double\""
        },
        {
         "metadata": "{}",
         "name": "Date",
         "type": "\"string\""
        },
        {
         "metadata": "{}",
         "name": "UniqueCarrier",
         "type": "\"string\""
        },
        {
         "metadata": "{}",
         "name": "Airline",
         "type": "\"string\""
        },
        {
         "metadata": "{}",
         "name": "TailNum",
         "type": "\"string\""
        },
        {
         "metadata": "{}",
         "name": "Origin",
         "type": "\"string\""
        },
        {
         "metadata": "{}",
         "name": "Org_Airport",
         "type": "\"string\""
        },
        {
         "metadata": "{}",
         "name": "Dest",
         "type": "\"string\""
        },
        {
         "metadata": "{}",
         "name": "Dest_Airport",
         "type": "\"string\""
        },
        {
         "metadata": "{}",
         "name": "CancellationCode",
         "type": "\"string\""
        }
       ],
       "type": "table"
      }
     },
     "output_type": "display_data"
    },
    {
     "output_type": "display_data",
     "data": {
      "text/html": [
       "<style scoped>\n",
       "  .table-result-container {\n",
       "    max-height: 300px;\n",
       "    overflow: auto;\n",
       "  }\n",
       "  table, th, td {\n",
       "    border: 1px solid black;\n",
       "    border-collapse: collapse;\n",
       "  }\n",
       "  th, td {\n",
       "    padding: 5px;\n",
       "  }\n",
       "  th {\n",
       "    text-align: left;\n",
       "  }\n",
       "</style><div class='table-result-container'><table class='table-result'><thead style='background-color: white'><tr><th>DayOfWeek</th><th>DepTime</th><th>ArrTime</th><th>CRSArrTime</th><th>FlightNum</th><th>ActualElapsedTime</th><th>CRSElapsedTime</th><th>AirTime</th><th>ArrDelay</th><th>Distance</th><th>TaxiIn</th><th>TaxiOut</th><th>Cancelled</th><th>Diverted</th><th>CarrierDelay</th><th>WeatherDelay</th><th>NASDelay</th><th>SecurityDelay</th><th>LateAircraftDelay</th><th>Date</th><th>UniqueCarrier</th><th>Airline</th><th>TailNum</th><th>Origin</th><th>Org_Airport</th><th>Dest</th><th>Dest_Airport</th><th>CancellationCode</th></tr></thead><tbody><tr><td>0.5</td><td>0.7404545454545455</td><td>0.7745398773006136</td><td>0.7809076682316118</td><td>0.46643656272316114</td><td>0.2830188679245283</td><td>0.29761904761904756</td><td>0.31718061674008813</td><td>0.15966386554621848</td><td>0.2935112189205579</td><td>0.21428571428571427</td><td>0.2702702702702703</td><td>0.0</td><td>0.0</td><td>0.0425531914893617</td><td>0.0</td><td>0.0</td><td>0.0</td><td>0.35555555555555557</td><td>03-01-2019</td><td>WN</td><td>Southwest Airlines Co.</td><td>N464WN</td><td>IND</td><td>Indianapolis International Airport</td><td>BWI</td><td>Baltimore-Washington International Airport</td><td>N</td></tr><tr><td>0.5</td><td>0.7895454545454546</td><td>0.8144171779141105</td><td>0.7887323943661972</td><td>0.06046179481075935</td><td>0.8490566037735849</td><td>0.9325396825396824</td><td>0.9911894273127755</td><td>0.3529411764705882</td><td>0.9460278956943602</td><td>0.21428571428571427</td><td>0.1891891891891892</td><td>0.0</td><td>0.0</td><td>0.2127659574468085</td><td>0.0</td><td>0.0</td><td>0.0</td><td>0.5222222222222223</td><td>03-01-2019</td><td>WN</td><td>Southwest Airlines Co.</td><td>N763SW</td><td>IND</td><td>Indianapolis International Airport</td><td>LAS</td><td>McCarran International Airport</td><td>N</td></tr><tr><td>0.5</td><td>0.6563636363636364</td><td>0.7162576687116565</td><td>0.6765779864371414</td><td>0.15853368245655797</td><td>0.4</td><td>0.47619047619047616</td><td>0.4493392070484582</td><td>0.5462184873949579</td><td>0.4833232261976956</td><td>0.42857142857142855</td><td>0.21621621621621623</td><td>0.0</td><td>0.0</td><td>0.1702127659574468</td><td>0.0</td><td>0.0</td><td>0.0</td><td>0.8</td><td>03-01-2019</td><td>WN</td><td>Southwest Airlines Co.</td><td>N334SW</td><td>IND</td><td>Indianapolis International Airport</td><td>MCO</td><td>Orlando International Airport</td><td>N</td></tr><tr><td>0.5</td><td>0.5690909090909091</td><td>0.6114519427402864</td><td>0.6244131455399061</td><td>0.08021899547726732</td><td>0.8037735849056604</td><td>0.8928571428571428</td><td>0.9162995594713658</td><td>0.0</td><td>0.8841722255912674</td><td>0.5</td><td>0.21621621621621623</td><td>0.0</td><td>0.0</td><td>0.06382978723404255</td><td>0.0</td><td>0.0</td><td>0.0</td><td>0.13333333333333333</td><td>03-01-2019</td><td>WN</td><td>Southwest Airlines Co.</td><td>N286WN</td><td>IND</td><td>Indianapolis International Airport</td><td>PHX</td><td>Phoenix Sky Harbor International Airport</td><td>N</td></tr><tr><td>0.5</td><td>0.5104545454545454</td><td>0.5531697341513293</td><td>0.5644235785080856</td><td>3.5705784337062603E-4</td><td>0.4075471698113208</td><td>0.47619047619047616</td><td>0.4625550660792952</td><td>0.008403361344537813</td><td>0.4893875075803517</td><td>0.2857142857142857</td><td>0.24324324324324326</td><td>0.0</td><td>0.0</td><td>0.0</td><td>0.0</td><td>0.0</td><td>0.0</td><td>0.17777777777777778</td><td>03-01-2019</td><td>WN</td><td>Southwest Airlines Co.</td><td>N674AA</td><td>IND</td><td>Indianapolis International Airport</td><td>TPA</td><td>Tampa International Airport</td><td>N</td></tr></tbody></table></div>"
      ]
     },
     "metadata": {
      "application/vnd.databricks.v1+output": {
       "addedWidgets": {},
       "aggData": [],
       "aggError": "",
       "aggOverflow": false,
       "aggSchema": [],
       "aggSeriesLimitReached": false,
       "aggType": "",
       "arguments": {},
       "columnCustomDisplayInfos": {},
       "data": [
        [
         0.5,
         0.7404545454545455,
         0.7745398773006136,
         0.7809076682316118,
         0.46643656272316114,
         0.2830188679245283,
         0.29761904761904756,
         0.31718061674008813,
         0.15966386554621848,
         0.2935112189205579,
         0.21428571428571427,
         0.2702702702702703,
         0.0,
         0.0,
         0.0425531914893617,
         0.0,
         0.0,
         0.0,
         0.35555555555555557,
         "03-01-2019",
         "WN",
         "Southwest Airlines Co.",
         "N464WN",
         "IND",
         "Indianapolis International Airport",
         "BWI",
         "Baltimore-Washington International Airport",
         "N"
        ],
        [
         0.5,
         0.7895454545454546,
         0.8144171779141105,
         0.7887323943661972,
         0.06046179481075935,
         0.8490566037735849,
         0.9325396825396824,
         0.9911894273127755,
         0.3529411764705882,
         0.9460278956943602,
         0.21428571428571427,
         0.1891891891891892,
         0.0,
         0.0,
         0.2127659574468085,
         0.0,
         0.0,
         0.0,
         0.5222222222222223,
         "03-01-2019",
         "WN",
         "Southwest Airlines Co.",
         "N763SW",
         "IND",
         "Indianapolis International Airport",
         "LAS",
         "McCarran International Airport",
         "N"
        ],
        [
         0.5,
         0.6563636363636364,
         0.7162576687116565,
         0.6765779864371414,
         0.15853368245655797,
         0.4,
         0.47619047619047616,
         0.4493392070484582,
         0.5462184873949579,
         0.4833232261976956,
         0.42857142857142855,
         0.21621621621621623,
         0.0,
         0.0,
         0.1702127659574468,
         0.0,
         0.0,
         0.0,
         0.8,
         "03-01-2019",
         "WN",
         "Southwest Airlines Co.",
         "N334SW",
         "IND",
         "Indianapolis International Airport",
         "MCO",
         "Orlando International Airport",
         "N"
        ],
        [
         0.5,
         0.5690909090909091,
         0.6114519427402864,
         0.6244131455399061,
         0.08021899547726732,
         0.8037735849056604,
         0.8928571428571428,
         0.9162995594713658,
         0.0,
         0.8841722255912674,
         0.5,
         0.21621621621621623,
         0.0,
         0.0,
         0.06382978723404255,
         0.0,
         0.0,
         0.0,
         0.13333333333333333,
         "03-01-2019",
         "WN",
         "Southwest Airlines Co.",
         "N286WN",
         "IND",
         "Indianapolis International Airport",
         "PHX",
         "Phoenix Sky Harbor International Airport",
         "N"
        ],
        [
         0.5,
         0.5104545454545454,
         0.5531697341513293,
         0.5644235785080856,
         3.5705784337062603E-4,
         0.4075471698113208,
         0.47619047619047616,
         0.4625550660792952,
         0.008403361344537813,
         0.4893875075803517,
         0.2857142857142857,
         0.24324324324324326,
         0.0,
         0.0,
         0.0,
         0.0,
         0.0,
         0.0,
         0.17777777777777778,
         "03-01-2019",
         "WN",
         "Southwest Airlines Co.",
         "N674AA",
         "IND",
         "Indianapolis International Airport",
         "TPA",
         "Tampa International Airport",
         "N"
        ]
       ],
       "datasetInfos": [],
       "dbfsResultPath": null,
       "isJsonSchema": true,
       "metadata": {},
       "overflow": false,
       "plotOptions": {
        "customPlotOptions": {},
        "displayType": "table",
        "pivotAggregation": null,
        "pivotColumns": null,
        "xColumns": null,
        "yColumns": null
       },
       "removedWidgets": [],
       "schema": [
        {
         "metadata": "{}",
         "name": "DayOfWeek",
         "type": "\"double\""
        },
        {
         "metadata": "{}",
         "name": "DepTime",
         "type": "\"double\""
        },
        {
         "metadata": "{}",
         "name": "ArrTime",
         "type": "\"double\""
        },
        {
         "metadata": "{}",
         "name": "CRSArrTime",
         "type": "\"double\""
        },
        {
         "metadata": "{}",
         "name": "FlightNum",
         "type": "\"double\""
        },
        {
         "metadata": "{}",
         "name": "ActualElapsedTime",
         "type": "\"double\""
        },
        {
         "metadata": "{}",
         "name": "CRSElapsedTime",
         "type": "\"double\""
        },
        {
         "metadata": "{}",
         "name": "AirTime",
         "type": "\"double\""
        },
        {
         "metadata": "{}",
         "name": "ArrDelay",
         "type": "\"double\""
        },
        {
         "metadata": "{}",
         "name": "Distance",
         "type": "\"double\""
        },
        {
         "metadata": "{}",
         "name": "TaxiIn",
         "type": "\"double\""
        },
        {
         "metadata": "{}",
         "name": "TaxiOut",
         "type": "\"double\""
        },
        {
         "metadata": "{}",
         "name": "Cancelled",
         "type": "\"double\""
        },
        {
         "metadata": "{}",
         "name": "Diverted",
         "type": "\"double\""
        },
        {
         "metadata": "{}",
         "name": "CarrierDelay",
         "type": "\"double\""
        },
        {
         "metadata": "{}",
         "name": "WeatherDelay",
         "type": "\"double\""
        },
        {
         "metadata": "{}",
         "name": "NASDelay",
         "type": "\"double\""
        },
        {
         "metadata": "{}",
         "name": "SecurityDelay",
         "type": "\"double\""
        },
        {
         "metadata": "{}",
         "name": "LateAircraftDelay",
         "type": "\"double\""
        },
        {
         "metadata": "{}",
         "name": "Date",
         "type": "\"string\""
        },
        {
         "metadata": "{}",
         "name": "UniqueCarrier",
         "type": "\"string\""
        },
        {
         "metadata": "{}",
         "name": "Airline",
         "type": "\"string\""
        },
        {
         "metadata": "{}",
         "name": "TailNum",
         "type": "\"string\""
        },
        {
         "metadata": "{}",
         "name": "Origin",
         "type": "\"string\""
        },
        {
         "metadata": "{}",
         "name": "Org_Airport",
         "type": "\"string\""
        },
        {
         "metadata": "{}",
         "name": "Dest",
         "type": "\"string\""
        },
        {
         "metadata": "{}",
         "name": "Dest_Airport",
         "type": "\"string\""
        },
        {
         "metadata": "{}",
         "name": "CancellationCode",
         "type": "\"string\""
        }
       ],
       "type": "table"
      }
     },
     "output_type": "display_data"
    }
   ],
   "source": [
    "from sklearn.preprocessing import StandardScaler, MinMaxScaler\n",
    "\n",
    "scaler_standard = StandardScaler()\n",
    "X_standardized = scaler_standard.fit_transform(X.select_dtypes(include=[\"number\"]))\n",
    "\n",
    "\n",
    "scaler_minmax = MinMaxScaler()\n",
    "X_normalized = scaler_minmax.fit_transform(X.select_dtypes(include=[\"number\"]))\n",
    "\n",
    "\n",
    "X_standardized_df = pd.DataFrame(X_standardized, columns=X.select_dtypes(include=[\"number\"]).columns, index=X.index)\n",
    "X_normalized_df = pd.DataFrame(X_normalized, columns=X.select_dtypes(include=[\"number\"]).columns, index=X.index)\n",
    "\n",
    "\n",
    "X_standardized_full = pd.concat([X_standardized_df, X.select_dtypes(exclude=[\"number\"])], axis=1)\n",
    "X_normalized_full = pd.concat([X_normalized_df, X.select_dtypes(exclude=[\"number\"])], axis=1)\n",
    "\n",
    "display(X_standardized_full.head())\n",
    "display(X_normalized_full.head())"
   ]
  },
  {
   "cell_type": "code",
   "execution_count": 0,
   "metadata": {
    "application/vnd.databricks.v1+cell": {
     "cellMetadata": {
      "byteLimit": 2048000,
      "rowLimit": 10000
     },
     "inputWidgets": {},
     "nuid": "a044dd89-75bb-499c-b07c-a69c3e611825",
     "showTitle": false,
     "tableResultSettingsMap": {},
     "title": ""
    }
   },
   "outputs": [
    {
     "output_type": "stream",
     "name": "stdout",
     "output_type": "stream",
     "text": [
      "Sample shape: (24527, 45)\n"
     ]
    }
   ],
   "source": [
    "data.sample(5, random_state=42)\n",
    "\n",
    "sample_data = data.sample(frac=0.1, random_state=42)\n",
    "print(\"Sample shape:\", sample_data.shape)\n"
   ]
  },
  {
   "cell_type": "code",
   "execution_count": 0,
   "metadata": {
    "application/vnd.databricks.v1+cell": {
     "cellMetadata": {
      "byteLimit": 2048000,
      "rowLimit": 10000
     },
     "inputWidgets": {},
     "nuid": "bc7d2434-1e96-4e86-98e1-bfbbbf122a0d",
     "showTitle": false,
     "tableResultSettingsMap": {},
     "title": ""
    }
   },
   "outputs": [
    {
     "output_type": "stream",
     "name": "stdout",
     "output_type": "stream",
     "text": [
      "Memory usage reduced from 81.81 MB to 20.02 MB\n"
     ]
    }
   ],
   "source": [
    "import numpy as np\n",
    "\n",
    "def optimize_dtypes(data):\n",
    "    for col in data.select_dtypes(include=['int64']).columns:\n",
    "        data[col] = pd.to_numeric(data[col], downcast='integer')\n",
    "    for col in data.select_dtypes(include=['float64']).columns:\n",
    "        data[col] = pd.to_numeric(data[col], downcast='float')\n",
    "    for col in data.select_dtypes(include=['object']).columns:\n",
    "        num_unique = data[col].nunique()\n",
    "        num_total = len(data[col])\n",
    "        if num_unique / num_total < 0.5:\n",
    "            data[col] = data[col].astype('category')\n",
    "    return data\n",
    "\n",
    "before = data.memory_usage(deep=True).sum() / 1024**2\n",
    "data = optimize_dtypes(data)\n",
    "\n",
    "after = data.memory_usage(deep=True).sum() / 1024**2\n",
    "\n",
    "print(f\"Memory usage reduced from {before:.2f} MB to {after:.2f} MB\")\n"
   ]
  },
  {
   "cell_type": "code",
   "execution_count": 0,
   "metadata": {
    "application/vnd.databricks.v1+cell": {
     "cellMetadata": {
      "byteLimit": 2048000,
      "rowLimit": 10000
     },
     "inputWidgets": {},
     "nuid": "44e1d5ce-099c-4e8b-862e-41ab5daecfba",
     "showTitle": false,
     "tableResultSettingsMap": {},
     "title": ""
    }
   },
   "outputs": [
    {
     "output_type": "stream",
     "name": "stdout",
     "output_type": "stream",
     "text": [
      "Duration difference feature added\n"
     ]
    },
    {
     "output_type": "display_data",
     "data": {
      "text/html": [
       "<style scoped>\n",
       "  .table-result-container {\n",
       "    max-height: 300px;\n",
       "    overflow: auto;\n",
       "  }\n",
       "  table, th, td {\n",
       "    border: 1px solid black;\n",
       "    border-collapse: collapse;\n",
       "  }\n",
       "  th, td {\n",
       "    padding: 5px;\n",
       "  }\n",
       "  th {\n",
       "    text-align: left;\n",
       "  }\n",
       "</style><div class='table-result-container'><table class='table-result'><thead style='background-color: white'><tr><th>ActualElapsedTime</th><th>CRSElapsedTime</th><th>DurationDiff</th></tr></thead><tbody><tr><td>90</td><td>90</td><td>0</td></tr><tr><td>240</td><td>250</td><td>-10</td></tr><tr><td>121</td><td>135</td><td>-14</td></tr><tr><td>228</td><td>240</td><td>-12</td></tr><tr><td>123</td><td>135</td><td>-12</td></tr></tbody></table></div>"
      ]
     },
     "metadata": {
      "application/vnd.databricks.v1+output": {
       "addedWidgets": {},
       "aggData": [],
       "aggError": "",
       "aggOverflow": false,
       "aggSchema": [],
       "aggSeriesLimitReached": false,
       "aggType": "",
       "arguments": {},
       "columnCustomDisplayInfos": {},
       "data": [
        [
         90,
         90,
         0
        ],
        [
         240,
         250,
         -10
        ],
        [
         121,
         135,
         -14
        ],
        [
         228,
         240,
         -12
        ],
        [
         123,
         135,
         -12
        ]
       ],
       "datasetInfos": [],
       "dbfsResultPath": null,
       "isJsonSchema": true,
       "metadata": {},
       "overflow": false,
       "plotOptions": {
        "customPlotOptions": {},
        "displayType": "table",
        "pivotAggregation": null,
        "pivotColumns": null,
        "xColumns": null,
        "yColumns": null
       },
       "removedWidgets": [],
       "schema": [
        {
         "metadata": "{}",
         "name": "ActualElapsedTime",
         "type": "\"short\""
        },
        {
         "metadata": "{}",
         "name": "CRSElapsedTime",
         "type": "\"short\""
        },
        {
         "metadata": "{}",
         "name": "DurationDiff",
         "type": "\"short\""
        }
       ],
       "type": "table"
      }
     },
     "output_type": "display_data"
    }
   ],
   "source": [
    "data['DurationDiff'] = data['ActualElapsedTime'] - data['CRSElapsedTime']\n",
    "\n",
    "print(\"Duration difference feature added\")\n",
    "display(data[['ActualElapsedTime','CRSElapsedTime','DurationDiff']].head())\n"
   ]
  },
  {
   "cell_type": "code",
   "execution_count": 0,
   "metadata": {
    "application/vnd.databricks.v1+cell": {
     "cellMetadata": {
      "byteLimit": 2048000,
      "rowLimit": 10000
     },
     "inputWidgets": {},
     "nuid": "b76ad4f2-d937-4608-9533-a381d14c6ac2",
     "showTitle": false,
     "tableResultSettingsMap": {},
     "title": ""
    }
   },
   "outputs": [
    {
     "output_type": "stream",
     "name": "stdout",
     "output_type": "stream",
     "text": [
      " Delay features added\n"
     ]
    },
    {
     "output_type": "display_data",
     "data": {
      "text/html": [
       "<style scoped>\n",
       "  .table-result-container {\n",
       "    max-height: 300px;\n",
       "    overflow: auto;\n",
       "  }\n",
       "  table, th, td {\n",
       "    border: 1px solid black;\n",
       "    border-collapse: collapse;\n",
       "  }\n",
       "  th, td {\n",
       "    padding: 5px;\n",
       "  }\n",
       "  th {\n",
       "    text-align: left;\n",
       "  }\n",
       "</style><div class='table-result-container'><table class='table-result'><thead style='background-color: white'><tr><th>DepDelay</th><th>DepDelayed_Flag</th><th>ArrDelay</th><th>ArrDelayed_Flag</th><th>TotalDelay</th></tr></thead><tbody><tr><td>34</td><td>1</td><td>34</td><td>1</td><td>34</td></tr><tr><td>67</td><td>1</td><td>57</td><td>1</td><td>57</td></tr><tr><td>94</td><td>1</td><td>80</td><td>1</td><td>80</td></tr><tr><td>27</td><td>1</td><td>15</td><td>1</td><td>15</td></tr><tr><td>28</td><td>1</td><td>16</td><td>1</td><td>16</td></tr></tbody></table></div>"
      ]
     },
     "metadata": {
      "application/vnd.databricks.v1+output": {
       "addedWidgets": {},
       "aggData": [],
       "aggError": "",
       "aggOverflow": false,
       "aggSchema": [],
       "aggSeriesLimitReached": false,
       "aggType": "",
       "arguments": {},
       "columnCustomDisplayInfos": {},
       "data": [
        [
         34,
         1,
         34,
         1,
         34
        ],
        [
         67,
         1,
         57,
         1,
         57
        ],
        [
         94,
         1,
         80,
         1,
         80
        ],
        [
         27,
         1,
         15,
         1,
         15
        ],
        [
         28,
         1,
         16,
         1,
         16
        ]
       ],
       "datasetInfos": [],
       "dbfsResultPath": null,
       "isJsonSchema": true,
       "metadata": {},
       "overflow": false,
       "plotOptions": {
        "customPlotOptions": {},
        "displayType": "table",
        "pivotAggregation": null,
        "pivotColumns": null,
        "xColumns": null,
        "yColumns": null
       },
       "removedWidgets": [],
       "schema": [
        {
         "metadata": "{}",
         "name": "DepDelay",
         "type": "\"byte\""
        },
        {
         "metadata": "{}",
         "name": "DepDelayed_Flag",
         "type": "\"long\""
        },
        {
         "metadata": "{}",
         "name": "ArrDelay",
         "type": "\"short\""
        },
        {
         "metadata": "{}",
         "name": "ArrDelayed_Flag",
         "type": "\"long\""
        },
        {
         "metadata": "{}",
         "name": "TotalDelay",
         "type": "\"long\""
        }
       ],
       "type": "table"
      }
     },
     "output_type": "display_data"
    }
   ],
   "source": [
    "\n",
    "data['DepDelayed_Flag'] = (data['DepDelay'] > 0).astype(int)\n",
    "data['ArrDelayed_Flag'] = (data['ArrDelay'] > 0).astype(int)\n",
    "\n",
    "delay_cols = ['CarrierDelay','WeatherDelay','NASDelay','SecurityDelay','LateAircraftDelay']\n",
    "data['TotalDelay'] = data[delay_cols].sum(axis=1)\n",
    "\n",
    "print(\" Delay features added\")\n",
    "display(data[['DepDelay','DepDelayed_Flag','ArrDelay','ArrDelayed_Flag','TotalDelay']].head())\n"
   ]
  },
  {
   "cell_type": "code",
   "execution_count": 0,
   "metadata": {
    "application/vnd.databricks.v1+cell": {
     "cellMetadata": {
      "byteLimit": 2048000,
      "rowLimit": 10000
     },
     "inputWidgets": {},
     "nuid": "c1a30919-74b5-4c7d-bae6-8bde2769a33f",
     "showTitle": false,
     "tableResultSettingsMap": {},
     "title": ""
    }
   },
   "outputs": [
    {
     "output_type": "stream",
     "name": "stdout",
     "output_type": "stream",
     "text": [
      "Categorical encoding applied\n"
     ]
    },
    {
     "output_type": "display_data",
     "data": {
      "text/html": [
       "<style scoped>\n",
       "  .table-result-container {\n",
       "    max-height: 300px;\n",
       "    overflow: auto;\n",
       "  }\n",
       "  table, th, td {\n",
       "    border: 1px solid black;\n",
       "    border-collapse: collapse;\n",
       "  }\n",
       "  th, td {\n",
       "    padding: 5px;\n",
       "  }\n",
       "  th {\n",
       "    text-align: left;\n",
       "  }\n",
       "</style><div class='table-result-container'><table class='table-result'><thead style='background-color: white'><tr><th>UniqueCarrier</th><th>Airline</th><th>Origin</th><th>Org_Airport</th><th>Dest</th><th>Dest_Airport</th><th>CancellationCode</th></tr></thead><tbody><tr><td>11</td><td>9</td><td>124</td><td>105</td><td>42</td><td>15</td><td>0</td></tr><tr><td>11</td><td>9</td><td>124</td><td>105</td><td>138</td><td>143</td><td>0</td></tr><tr><td>11</td><td>9</td><td>124</td><td>105</td><td>158</td><td>172</td><td>0</td></tr><tr><td>11</td><td>9</td><td>124</td><td>105</td><td>199</td><td>178</td><td>0</td></tr><tr><td>11</td><td>9</td><td>124</td><td>105</td><td>256</td><td>226</td><td>0</td></tr></tbody></table></div>"
      ]
     },
     "metadata": {
      "application/vnd.databricks.v1+output": {
       "addedWidgets": {},
       "aggData": [],
       "aggError": "",
       "aggOverflow": false,
       "aggSchema": [],
       "aggSeriesLimitReached": false,
       "aggType": "",
       "arguments": {},
       "columnCustomDisplayInfos": {},
       "data": [
        [
         11,
         9,
         124,
         105,
         42,
         15,
         0
        ],
        [
         11,
         9,
         124,
         105,
         138,
         143,
         0
        ],
        [
         11,
         9,
         124,
         105,
         158,
         172,
         0
        ],
        [
         11,
         9,
         124,
         105,
         199,
         178,
         0
        ],
        [
         11,
         9,
         124,
         105,
         256,
         226,
         0
        ]
       ],
       "datasetInfos": [],
       "dbfsResultPath": null,
       "isJsonSchema": true,
       "metadata": {},
       "overflow": false,
       "plotOptions": {
        "customPlotOptions": {},
        "displayType": "table",
        "pivotAggregation": null,
        "pivotColumns": null,
        "xColumns": null,
        "yColumns": null
       },
       "removedWidgets": [],
       "schema": [
        {
         "metadata": "{}",
         "name": "UniqueCarrier",
         "type": "\"long\""
        },
        {
         "metadata": "{}",
         "name": "Airline",
         "type": "\"long\""
        },
        {
         "metadata": "{}",
         "name": "Origin",
         "type": "\"long\""
        },
        {
         "metadata": "{}",
         "name": "Org_Airport",
         "type": "\"long\""
        },
        {
         "metadata": "{}",
         "name": "Dest",
         "type": "\"long\""
        },
        {
         "metadata": "{}",
         "name": "Dest_Airport",
         "type": "\"long\""
        },
        {
         "metadata": "{}",
         "name": "CancellationCode",
         "type": "\"long\""
        }
       ],
       "type": "table"
      }
     },
     "output_type": "display_data"
    }
   ],
   "source": [
    "from sklearn.preprocessing import LabelEncoder\n",
    "\n",
    "cat_cols = ['UniqueCarrier','Airline','Origin','Org_Airport','Dest','Dest_Airport','CancellationCode']\n",
    "le = LabelEncoder()\n",
    "for col in cat_cols:\n",
    "    data[col] = le.fit_transform(data[col].astype(str))\n",
    "\n",
    "print(\"Categorical encoding applied\")\n",
    "display(data[cat_cols].head())\n"
   ]
  },
  {
   "cell_type": "code",
   "execution_count": 0,
   "metadata": {
    "application/vnd.databricks.v1+cell": {
     "cellMetadata": {
      "byteLimit": 2048000,
      "rowLimit": 10000
     },
     "inputWidgets": {},
     "nuid": "29e555b3-8a37-40f7-af7f-d357e8f638c0",
     "showTitle": false,
     "tableResultSettingsMap": {},
     "title": ""
    }
   },
   "outputs": [
    {
     "output_type": "stream",
     "name": "stdout",
     "output_type": "stream",
     "text": [
      "Index(['DayOfWeek', 'Date', 'DepTime', 'ArrTime', 'CRSArrTime',\n       'UniqueCarrier', 'Airline', 'FlightNum', 'TailNum', 'ActualElapsedTime',\n       'CRSElapsedTime', 'AirTime', 'ArrDelay', 'DepDelay', 'Origin',\n       'Org_Airport', 'Dest', 'Dest_Airport', 'Distance', 'TaxiIn', 'TaxiOut',\n       'Cancelled', 'CancellationCode', 'Diverted', 'CarrierDelay',\n       'WeatherDelay', 'NASDelay', 'SecurityDelay', 'LateAircraftDelay',\n       'Year', 'Month', 'Day', 'Weekday', 'DepHour', 'DepMin', 'ArrHour',\n       'ArrMin', 'DurationDiff', 'DepDelayed_Flag', 'ArrDelayed_Flag',\n       'TotalDelay'],\n      dtype='object')\n"
     ]
    },
    {
     "output_type": "display_data",
     "data": {
      "text/html": [
       "<style scoped>\n",
       "  .table-result-container {\n",
       "    max-height: 300px;\n",
       "    overflow: auto;\n",
       "  }\n",
       "  table, th, td {\n",
       "    border: 1px solid black;\n",
       "    border-collapse: collapse;\n",
       "  }\n",
       "  th, td {\n",
       "    padding: 5px;\n",
       "  }\n",
       "  th {\n",
       "    text-align: left;\n",
       "  }\n",
       "</style><div class='table-result-container'><table class='table-result'><thead style='background-color: white'><tr><th>ArrDelay</th><th>DepDelay</th><th>Cancelled</th></tr></thead><tbody><tr><td>34</td><td>34</td><td>0</td></tr><tr><td>57</td><td>67</td><td>0</td></tr><tr><td>80</td><td>94</td><td>0</td></tr><tr><td>15</td><td>27</td><td>0</td></tr><tr><td>16</td><td>28</td><td>0</td></tr></tbody></table></div>"
      ]
     },
     "metadata": {
      "application/vnd.databricks.v1+output": {
       "addedWidgets": {},
       "aggData": [],
       "aggError": "",
       "aggOverflow": false,
       "aggSchema": [],
       "aggSeriesLimitReached": false,
       "aggType": "",
       "arguments": {},
       "columnCustomDisplayInfos": {},
       "data": [
        [
         34,
         34,
         0
        ],
        [
         57,
         67,
         0
        ],
        [
         80,
         94,
         0
        ],
        [
         15,
         27,
         0
        ],
        [
         16,
         28,
         0
        ]
       ],
       "datasetInfos": [],
       "dbfsResultPath": null,
       "isJsonSchema": true,
       "metadata": {},
       "overflow": false,
       "plotOptions": {
        "customPlotOptions": {},
        "displayType": "table",
        "pivotAggregation": null,
        "pivotColumns": null,
        "xColumns": null,
        "yColumns": null
       },
       "removedWidgets": [],
       "schema": [
        {
         "metadata": "{}",
         "name": "ArrDelay",
         "type": "\"short\""
        },
        {
         "metadata": "{}",
         "name": "DepDelay",
         "type": "\"byte\""
        },
        {
         "metadata": "{}",
         "name": "Cancelled",
         "type": "\"byte\""
        }
       ],
       "type": "table"
      }
     },
     "output_type": "display_data"
    }
   ],
   "source": [
    "print(data.columns)\n",
    "data = data.fillna(\n",
    "    {\n",
    "        \"ArrDelay\": 0,\n",
    "        \"DepDelay\": 0,\n",
    "        \"Cancelled\": 0\n",
    "    }\n",
    ")\n",
    "display(data[['ArrDelay','DepDelay','Cancelled']].head())\n"
   ]
  },
  {
   "cell_type": "code",
   "execution_count": 0,
   "metadata": {
    "application/vnd.databricks.v1+cell": {
     "cellMetadata": {
      "byteLimit": 2048000,
      "rowLimit": 10000
     },
     "inputWidgets": {},
     "nuid": "304eb8aa-97c4-4471-8692-268a57a30057",
     "showTitle": false,
     "tableResultSettingsMap": {},
     "title": ""
    }
   },
   "outputs": [
    {
     "output_type": "execute_result",
     "data": {
      "text/html": [
       "<div>\n",
       "<style scoped>\n",
       "    .dataframe tbody tr th:only-of-type {\n",
       "        vertical-align: middle;\n",
       "    }\n",
       "\n",
       "    .dataframe tbody tr th {\n",
       "        vertical-align: top;\n",
       "    }\n",
       "\n",
       "    .dataframe thead th {\n",
       "        text-align: right;\n",
       "    }\n",
       "</style>\n",
       "<table border=\"1\" class=\"dataframe\">\n",
       "  <thead>\n",
       "    <tr style=\"text-align: right;\">\n",
       "      <th></th>\n",
       "      <th>Date</th>\n",
       "      <th>DepTime</th>\n",
       "    </tr>\n",
       "  </thead>\n",
       "  <tbody>\n",
       "    <tr>\n",
       "      <th>0</th>\n",
       "      <td>2019-03-01</td>\n",
       "      <td>18:29:00</td>\n",
       "    </tr>\n",
       "    <tr>\n",
       "      <th>1</th>\n",
       "      <td>2019-03-01</td>\n",
       "      <td>19:37:00</td>\n",
       "    </tr>\n",
       "    <tr>\n",
       "      <th>2</th>\n",
       "      <td>2019-03-01</td>\n",
       "      <td>16:44:00</td>\n",
       "    </tr>\n",
       "    <tr>\n",
       "      <th>3</th>\n",
       "      <td>2019-03-01</td>\n",
       "      <td>14:52:00</td>\n",
       "    </tr>\n",
       "    <tr>\n",
       "      <th>4</th>\n",
       "      <td>2019-03-01</td>\n",
       "      <td>13:23:00</td>\n",
       "    </tr>\n",
       "  </tbody>\n",
       "</table>\n",
       "</div>"
      ],
      "text/plain": [
       "        Date   DepTime\n",
       "0 2019-03-01  18:29:00\n",
       "1 2019-03-01  19:37:00\n",
       "2 2019-03-01  16:44:00\n",
       "3 2019-03-01  14:52:00\n",
       "4 2019-03-01  13:23:00"
      ]
     },
     "execution_count": 50,
     "metadata": {},
     "output_type": "execute_result"
    }
   ],
   "source": [
    "data['Date'] = pd.to_datetime(\n",
    "    data['Date'],\n",
    "    errors='coerce'\n",
    ")\n",
    "\n",
    "data['DepTime'] = pd.to_datetime(\n",
    "    data['DepTime'].astype(str).str.zfill(4),  \n",
    "    format='%H%M',\n",
    "    errors='coerce'\n",
    ").dt.time\n",
    "data[['Date', 'DepTime']].head()\n"
   ]
  },
  {
   "cell_type": "code",
   "execution_count": 0,
   "metadata": {
    "application/vnd.databricks.v1+cell": {
     "cellMetadata": {
      "byteLimit": 2048000,
      "rowLimit": 10000
     },
     "inputWidgets": {},
     "nuid": "8f1d5dab-90eb-40c9-b042-70f00d82d036",
     "showTitle": false,
     "tableResultSettingsMap": {},
     "title": ""
    }
   },
   "outputs": [
    {
     "output_type": "execute_result",
     "data": {
      "text/html": [
       "<div>\n",
       "<style scoped>\n",
       "    .dataframe tbody tr th:only-of-type {\n",
       "        vertical-align: middle;\n",
       "    }\n",
       "\n",
       "    .dataframe tbody tr th {\n",
       "        vertical-align: top;\n",
       "    }\n",
       "\n",
       "    .dataframe thead th {\n",
       "        text-align: right;\n",
       "    }\n",
       "</style>\n",
       "<table border=\"1\" class=\"dataframe\">\n",
       "  <thead>\n",
       "    <tr style=\"text-align: right;\">\n",
       "      <th></th>\n",
       "      <th>Date</th>\n",
       "      <th>Month</th>\n",
       "      <th>DayOfWeekNum</th>\n",
       "      <th>DayName</th>\n",
       "      <th>DepTime</th>\n",
       "      <th>Hour</th>\n",
       "      <th>Route</th>\n",
       "    </tr>\n",
       "  </thead>\n",
       "  <tbody>\n",
       "    <tr>\n",
       "      <th>0</th>\n",
       "      <td>2019-03-01</td>\n",
       "      <td>3</td>\n",
       "      <td>4</td>\n",
       "      <td>Friday</td>\n",
       "      <td>18:29:00</td>\n",
       "      <td>NaN</td>\n",
       "      <td>124-42</td>\n",
       "    </tr>\n",
       "    <tr>\n",
       "      <th>1</th>\n",
       "      <td>2019-03-01</td>\n",
       "      <td>3</td>\n",
       "      <td>4</td>\n",
       "      <td>Friday</td>\n",
       "      <td>19:37:00</td>\n",
       "      <td>NaN</td>\n",
       "      <td>124-138</td>\n",
       "    </tr>\n",
       "    <tr>\n",
       "      <th>2</th>\n",
       "      <td>2019-03-01</td>\n",
       "      <td>3</td>\n",
       "      <td>4</td>\n",
       "      <td>Friday</td>\n",
       "      <td>16:44:00</td>\n",
       "      <td>NaN</td>\n",
       "      <td>124-158</td>\n",
       "    </tr>\n",
       "    <tr>\n",
       "      <th>3</th>\n",
       "      <td>2019-03-01</td>\n",
       "      <td>3</td>\n",
       "      <td>4</td>\n",
       "      <td>Friday</td>\n",
       "      <td>14:52:00</td>\n",
       "      <td>NaN</td>\n",
       "      <td>124-199</td>\n",
       "    </tr>\n",
       "    <tr>\n",
       "      <th>4</th>\n",
       "      <td>2019-03-01</td>\n",
       "      <td>3</td>\n",
       "      <td>4</td>\n",
       "      <td>Friday</td>\n",
       "      <td>13:23:00</td>\n",
       "      <td>NaN</td>\n",
       "      <td>124-256</td>\n",
       "    </tr>\n",
       "  </tbody>\n",
       "</table>\n",
       "</div>"
      ],
      "text/plain": [
       "        Date  Month  DayOfWeekNum DayName   DepTime  Hour    Route\n",
       "0 2019-03-01      3             4  Friday  18:29:00   NaN   124-42\n",
       "1 2019-03-01      3             4  Friday  19:37:00   NaN  124-138\n",
       "2 2019-03-01      3             4  Friday  16:44:00   NaN  124-158\n",
       "3 2019-03-01      3             4  Friday  14:52:00   NaN  124-199\n",
       "4 2019-03-01      3             4  Friday  13:23:00   NaN  124-256"
      ]
     },
     "execution_count": 51,
     "metadata": {},
     "output_type": "execute_result"
    }
   ],
   "source": [
    "data['Date'] = pd.to_datetime(data['Date'], errors='coerce')\n",
    "\n",
    "data['Month'] = data['Date'].dt.month\n",
    "data['DayOfWeekNum'] = data['Date'].dt.dayofweek   \n",
    "data['DayName'] = data['Date'].dt.day_name()\n",
    "\n",
    "data['Hour'] = pd.to_datetime(\n",
    "    data['DepTime'].astype(str).str.zfill(4),  \n",
    "    format='%H%M',\n",
    "    errors='coerce'\n",
    ").dt.hour\n",
    "\n",
    "data['Route'] = (\n",
    "    data['Origin'].astype(str) + \"-\" + data['Dest'].astype(str)\n",
    ")\n",
    "data[['Date','Month','DayOfWeekNum','DayName','DepTime','Hour','Route']].head()\n",
    "\n"
   ]
  },
  {
   "cell_type": "code",
   "execution_count": 0,
   "metadata": {
    "application/vnd.databricks.v1+cell": {
     "cellMetadata": {
      "byteLimit": 2048000,
      "rowLimit": 10000
     },
     "inputWidgets": {},
     "nuid": "e7907080-d42b-46b6-baae-c4543a772fdf",
     "showTitle": false,
     "tableResultSettingsMap": {},
     "title": ""
    }
   },
   "outputs": [],
   "source": [
    "output_path =(\"/Volumes/workspace/airlines/flight/cleaned_dataset.csv\")\n",
    "data.to_csv(output_path, index=False)"
   ]
  }
 ],
 "metadata": {
  "application/vnd.databricks.v1+notebook": {
   "computePreferences": {
    "hardware": {
     "accelerator": null,
     "gpuPoolId": null,
     "memory": null
    }
   },
   "dashboards": [],
   "environmentMetadata": {
    "base_environment": "",
    "environment_version": "3"
   },
   "inputWidgetPreferences": null,
   "language": "python",
   "notebookMetadata": {
    "pythonIndentUnit": 4
   },
   "notebookName": "Airlines_data_cleaning",
   "widgets": {}
  },
  "language_info": {
   "name": "python"
  }
 },
 "nbformat": 4,
 "nbformat_minor": 0
}