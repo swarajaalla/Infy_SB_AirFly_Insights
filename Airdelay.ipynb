{
 "cells": [
  {
   "cell_type": "code",
   "execution_count": 0,
   "metadata": {
    "application/vnd.databricks.v1+cell": {
     "cellMetadata": {
      "byteLimit": 2048000,
      "rowLimit": 10000
     },
     "inputWidgets": {},
     "nuid": "69270a56-139d-4824-ba39-cc621db5c0cf",
     "showTitle": false,
     "tableResultSettingsMap": {},
     "title": ""
    }
   },
   "outputs": [
    {
     "output_type": "execute_result",
     "data": {
      "text/html": [
       "<div>\n",
       "<style scoped>\n",
       "    .dataframe tbody tr th:only-of-type {\n",
       "        vertical-align: middle;\n",
       "    }\n",
       "\n",
       "    .dataframe tbody tr th {\n",
       "        vertical-align: top;\n",
       "    }\n",
       "\n",
       "    .dataframe thead th {\n",
       "        text-align: right;\n",
       "    }\n",
       "</style>\n",
       "<table border=\"1\" class=\"dataframe\">\n",
       "  <thead>\n",
       "    <tr style=\"text-align: right;\">\n",
       "      <th></th>\n",
       "      <th>DayOfWeek</th>\n",
       "      <th>Date</th>\n",
       "      <th>DepTime</th>\n",
       "      <th>ArrTime</th>\n",
       "      <th>CRSArrTime</th>\n",
       "      <th>UniqueCarrier</th>\n",
       "      <th>Airline</th>\n",
       "      <th>FlightNum</th>\n",
       "      <th>TailNum</th>\n",
       "      <th>ActualElapsedTime</th>\n",
       "      <th>CRSElapsedTime</th>\n",
       "      <th>AirTime</th>\n",
       "      <th>ArrDelay</th>\n",
       "      <th>DepDelay</th>\n",
       "      <th>Origin</th>\n",
       "      <th>Org_Airport</th>\n",
       "      <th>Dest</th>\n",
       "      <th>Dest_Airport</th>\n",
       "      <th>Distance</th>\n",
       "      <th>TaxiIn</th>\n",
       "      <th>TaxiOut</th>\n",
       "      <th>Cancelled</th>\n",
       "      <th>CancellationCode</th>\n",
       "      <th>Diverted</th>\n",
       "      <th>CarrierDelay</th>\n",
       "      <th>WeatherDelay</th>\n",
       "      <th>NASDelay</th>\n",
       "      <th>SecurityDelay</th>\n",
       "      <th>LateAircraftDelay</th>\n",
       "    </tr>\n",
       "  </thead>\n",
       "  <tbody>\n",
       "    <tr>\n",
       "      <th>0</th>\n",
       "      <td>4</td>\n",
       "      <td>03-01-2019</td>\n",
       "      <td>1829</td>\n",
       "      <td>1959</td>\n",
       "      <td>1925</td>\n",
       "      <td>WN</td>\n",
       "      <td>Southwest Airlines Co.</td>\n",
       "      <td>3920</td>\n",
       "      <td>N464WN</td>\n",
       "      <td>90</td>\n",
       "      <td>90</td>\n",
       "      <td>77</td>\n",
       "      <td>34</td>\n",
       "      <td>34</td>\n",
       "      <td>IND</td>\n",
       "      <td>Indianapolis International Airport</td>\n",
       "      <td>BWI</td>\n",
       "      <td>Baltimore-Washington International Airport</td>\n",
       "      <td>515</td>\n",
       "      <td>3</td>\n",
       "      <td>10</td>\n",
       "      <td>0</td>\n",
       "      <td>N</td>\n",
       "      <td>0</td>\n",
       "      <td>2</td>\n",
       "      <td>0</td>\n",
       "      <td>0</td>\n",
       "      <td>0</td>\n",
       "      <td>32</td>\n",
       "    </tr>\n",
       "    <tr>\n",
       "      <th>1</th>\n",
       "      <td>4</td>\n",
       "      <td>03-01-2019</td>\n",
       "      <td>1937</td>\n",
       "      <td>2037</td>\n",
       "      <td>1940</td>\n",
       "      <td>WN</td>\n",
       "      <td>Southwest Airlines Co.</td>\n",
       "      <td>509</td>\n",
       "      <td>N763SW</td>\n",
       "      <td>240</td>\n",
       "      <td>250</td>\n",
       "      <td>230</td>\n",
       "      <td>57</td>\n",
       "      <td>67</td>\n",
       "      <td>IND</td>\n",
       "      <td>Indianapolis International Airport</td>\n",
       "      <td>LAS</td>\n",
       "      <td>McCarran International Airport</td>\n",
       "      <td>1591</td>\n",
       "      <td>3</td>\n",
       "      <td>7</td>\n",
       "      <td>0</td>\n",
       "      <td>N</td>\n",
       "      <td>0</td>\n",
       "      <td>10</td>\n",
       "      <td>0</td>\n",
       "      <td>0</td>\n",
       "      <td>0</td>\n",
       "      <td>47</td>\n",
       "    </tr>\n",
       "    <tr>\n",
       "      <th>2</th>\n",
       "      <td>4</td>\n",
       "      <td>03-01-2019</td>\n",
       "      <td>1644</td>\n",
       "      <td>1845</td>\n",
       "      <td>1725</td>\n",
       "      <td>WN</td>\n",
       "      <td>Southwest Airlines Co.</td>\n",
       "      <td>1333</td>\n",
       "      <td>N334SW</td>\n",
       "      <td>121</td>\n",
       "      <td>135</td>\n",
       "      <td>107</td>\n",
       "      <td>80</td>\n",
       "      <td>94</td>\n",
       "      <td>IND</td>\n",
       "      <td>Indianapolis International Airport</td>\n",
       "      <td>MCO</td>\n",
       "      <td>Orlando International Airport</td>\n",
       "      <td>828</td>\n",
       "      <td>6</td>\n",
       "      <td>8</td>\n",
       "      <td>0</td>\n",
       "      <td>N</td>\n",
       "      <td>0</td>\n",
       "      <td>8</td>\n",
       "      <td>0</td>\n",
       "      <td>0</td>\n",
       "      <td>0</td>\n",
       "      <td>72</td>\n",
       "    </tr>\n",
       "    <tr>\n",
       "      <th>3</th>\n",
       "      <td>4</td>\n",
       "      <td>03-01-2019</td>\n",
       "      <td>1452</td>\n",
       "      <td>1640</td>\n",
       "      <td>1625</td>\n",
       "      <td>WN</td>\n",
       "      <td>Southwest Airlines Co.</td>\n",
       "      <td>675</td>\n",
       "      <td>N286WN</td>\n",
       "      <td>228</td>\n",
       "      <td>240</td>\n",
       "      <td>213</td>\n",
       "      <td>15</td>\n",
       "      <td>27</td>\n",
       "      <td>IND</td>\n",
       "      <td>Indianapolis International Airport</td>\n",
       "      <td>PHX</td>\n",
       "      <td>Phoenix Sky Harbor International Airport</td>\n",
       "      <td>1489</td>\n",
       "      <td>7</td>\n",
       "      <td>8</td>\n",
       "      <td>0</td>\n",
       "      <td>N</td>\n",
       "      <td>0</td>\n",
       "      <td>3</td>\n",
       "      <td>0</td>\n",
       "      <td>0</td>\n",
       "      <td>0</td>\n",
       "      <td>12</td>\n",
       "    </tr>\n",
       "    <tr>\n",
       "      <th>4</th>\n",
       "      <td>4</td>\n",
       "      <td>03-01-2019</td>\n",
       "      <td>1323</td>\n",
       "      <td>1526</td>\n",
       "      <td>1510</td>\n",
       "      <td>WN</td>\n",
       "      <td>Southwest Airlines Co.</td>\n",
       "      <td>4</td>\n",
       "      <td>N674AA</td>\n",
       "      <td>123</td>\n",
       "      <td>135</td>\n",
       "      <td>110</td>\n",
       "      <td>16</td>\n",
       "      <td>28</td>\n",
       "      <td>IND</td>\n",
       "      <td>Indianapolis International Airport</td>\n",
       "      <td>TPA</td>\n",
       "      <td>Tampa International Airport</td>\n",
       "      <td>838</td>\n",
       "      <td>4</td>\n",
       "      <td>9</td>\n",
       "      <td>0</td>\n",
       "      <td>N</td>\n",
       "      <td>0</td>\n",
       "      <td>0</td>\n",
       "      <td>0</td>\n",
       "      <td>0</td>\n",
       "      <td>0</td>\n",
       "      <td>16</td>\n",
       "    </tr>\n",
       "  </tbody>\n",
       "</table>\n",
       "</div>"
      ],
      "text/plain": [
       "   DayOfWeek        Date  DepTime  ...  NASDelay  SecurityDelay LateAircraftDelay\n",
       "0          4  03-01-2019     1829  ...         0              0                32\n",
       "1          4  03-01-2019     1937  ...         0              0                47\n",
       "2          4  03-01-2019     1644  ...         0              0                72\n",
       "3          4  03-01-2019     1452  ...         0              0                12\n",
       "4          4  03-01-2019     1323  ...         0              0                16\n",
       "\n",
       "[5 rows x 29 columns]"
      ]
     },
     "execution_count": 3,
     "metadata": {},
     "output_type": "execute_result"
    }
   ],
   "source": [
    "import pandas as pd\n",
    "\n",
    "# Adjust the path based on where you uploaded it\n",
    "df = pd.read_csv('/Volumes/workspace/airdelays/airdelays/Flight_delay.csv')\n",
    "\n",
    "df.head()\n"
   ]
  },
  {
   "cell_type": "code",
   "execution_count": 0,
   "metadata": {
    "application/vnd.databricks.v1+cell": {
     "cellMetadata": {
      "byteLimit": 2048000,
      "rowLimit": 10000
     },
     "inputWidgets": {},
     "nuid": "a4272979-8c2b-4844-aef3-c3dc497fbd28",
     "showTitle": false,
     "tableResultSettingsMap": {},
     "title": ""
    }
   },
   "outputs": [
    {
     "output_type": "execute_result",
     "data": {
      "text/html": [
       "<div>\n",
       "<style scoped>\n",
       "    .dataframe tbody tr th:only-of-type {\n",
       "        vertical-align: middle;\n",
       "    }\n",
       "\n",
       "    .dataframe tbody tr th {\n",
       "        vertical-align: top;\n",
       "    }\n",
       "\n",
       "    .dataframe thead th {\n",
       "        text-align: right;\n",
       "    }\n",
       "</style>\n",
       "<table border=\"1\" class=\"dataframe\">\n",
       "  <thead>\n",
       "    <tr style=\"text-align: right;\">\n",
       "      <th></th>\n",
       "      <th>DayOfWeek</th>\n",
       "      <th>Date</th>\n",
       "      <th>DepTime</th>\n",
       "      <th>ArrTime</th>\n",
       "      <th>CRSArrTime</th>\n",
       "      <th>UniqueCarrier</th>\n",
       "      <th>Airline</th>\n",
       "      <th>FlightNum</th>\n",
       "      <th>TailNum</th>\n",
       "      <th>ActualElapsedTime</th>\n",
       "      <th>CRSElapsedTime</th>\n",
       "      <th>AirTime</th>\n",
       "      <th>ArrDelay</th>\n",
       "      <th>DepDelay</th>\n",
       "      <th>Origin</th>\n",
       "      <th>Org_Airport</th>\n",
       "      <th>Dest</th>\n",
       "      <th>Dest_Airport</th>\n",
       "      <th>Distance</th>\n",
       "      <th>TaxiIn</th>\n",
       "      <th>TaxiOut</th>\n",
       "      <th>Cancelled</th>\n",
       "      <th>CancellationCode</th>\n",
       "      <th>Diverted</th>\n",
       "      <th>CarrierDelay</th>\n",
       "      <th>WeatherDelay</th>\n",
       "      <th>NASDelay</th>\n",
       "      <th>SecurityDelay</th>\n",
       "      <th>LateAircraftDelay</th>\n",
       "    </tr>\n",
       "  </thead>\n",
       "  <tbody>\n",
       "    <tr>\n",
       "      <th>484541</th>\n",
       "      <td>7</td>\n",
       "      <td>29-06-2019</td>\n",
       "      <td>1308</td>\n",
       "      <td>1715</td>\n",
       "      <td>1640</td>\n",
       "      <td>AA</td>\n",
       "      <td>American Airlines Inc.</td>\n",
       "      <td>1494</td>\n",
       "      <td>N584AA</td>\n",
       "      <td>187</td>\n",
       "      <td>175</td>\n",
       "      <td>155</td>\n",
       "      <td>35</td>\n",
       "      <td>23</td>\n",
       "      <td>DFW</td>\n",
       "      <td>Dallas/Fort Worth International Airport</td>\n",
       "      <td>FLL</td>\n",
       "      <td>Fort Lauderdale-Hollywood International Airport</td>\n",
       "      <td>1119</td>\n",
       "      <td>6</td>\n",
       "      <td>26</td>\n",
       "      <td>0</td>\n",
       "      <td>N</td>\n",
       "      <td>0</td>\n",
       "      <td>14</td>\n",
       "      <td>0</td>\n",
       "      <td>12</td>\n",
       "      <td>0</td>\n",
       "      <td>9</td>\n",
       "    </tr>\n",
       "    <tr>\n",
       "      <th>484542</th>\n",
       "      <td>3</td>\n",
       "      <td>04-06-2019</td>\n",
       "      <td>1617</td>\n",
       "      <td>1945</td>\n",
       "      <td>1915</td>\n",
       "      <td>AA</td>\n",
       "      <td>American Airlines Inc.</td>\n",
       "      <td>1496</td>\n",
       "      <td>N405AA</td>\n",
       "      <td>148</td>\n",
       "      <td>160</td>\n",
       "      <td>129</td>\n",
       "      <td>30</td>\n",
       "      <td>42</td>\n",
       "      <td>DFW</td>\n",
       "      <td>Dallas/Fort Worth International Airport</td>\n",
       "      <td>MCO</td>\n",
       "      <td>Orlando International Airport</td>\n",
       "      <td>984</td>\n",
       "      <td>4</td>\n",
       "      <td>15</td>\n",
       "      <td>0</td>\n",
       "      <td>N</td>\n",
       "      <td>0</td>\n",
       "      <td>0</td>\n",
       "      <td>0</td>\n",
       "      <td>0</td>\n",
       "      <td>0</td>\n",
       "      <td>30</td>\n",
       "    </tr>\n",
       "    <tr>\n",
       "      <th>484543</th>\n",
       "      <td>7</td>\n",
       "      <td>08-06-2019</td>\n",
       "      <td>1623</td>\n",
       "      <td>1957</td>\n",
       "      <td>1915</td>\n",
       "      <td>AA</td>\n",
       "      <td>American Airlines Inc.</td>\n",
       "      <td>1496</td>\n",
       "      <td>N511AA</td>\n",
       "      <td>154</td>\n",
       "      <td>160</td>\n",
       "      <td>130</td>\n",
       "      <td>42</td>\n",
       "      <td>48</td>\n",
       "      <td>DFW</td>\n",
       "      <td>Dallas/Fort Worth International Airport</td>\n",
       "      <td>MCO</td>\n",
       "      <td>Orlando International Airport</td>\n",
       "      <td>984</td>\n",
       "      <td>8</td>\n",
       "      <td>16</td>\n",
       "      <td>0</td>\n",
       "      <td>N</td>\n",
       "      <td>0</td>\n",
       "      <td>42</td>\n",
       "      <td>0</td>\n",
       "      <td>0</td>\n",
       "      <td>0</td>\n",
       "      <td>0</td>\n",
       "    </tr>\n",
       "    <tr>\n",
       "      <th>484544</th>\n",
       "      <td>2</td>\n",
       "      <td>10-06-2019</td>\n",
       "      <td>1623</td>\n",
       "      <td>2003</td>\n",
       "      <td>1915</td>\n",
       "      <td>AA</td>\n",
       "      <td>American Airlines Inc.</td>\n",
       "      <td>1496</td>\n",
       "      <td>N499AA</td>\n",
       "      <td>160</td>\n",
       "      <td>160</td>\n",
       "      <td>136</td>\n",
       "      <td>48</td>\n",
       "      <td>48</td>\n",
       "      <td>DFW</td>\n",
       "      <td>Dallas/Fort Worth International Airport</td>\n",
       "      <td>MCO</td>\n",
       "      <td>Orlando International Airport</td>\n",
       "      <td>984</td>\n",
       "      <td>8</td>\n",
       "      <td>16</td>\n",
       "      <td>0</td>\n",
       "      <td>N</td>\n",
       "      <td>0</td>\n",
       "      <td>46</td>\n",
       "      <td>0</td>\n",
       "      <td>0</td>\n",
       "      <td>0</td>\n",
       "      <td>2</td>\n",
       "    </tr>\n",
       "    <tr>\n",
       "      <th>484545</th>\n",
       "      <td>4</td>\n",
       "      <td>12-06-2019</td>\n",
       "      <td>1545</td>\n",
       "      <td>1944</td>\n",
       "      <td>1915</td>\n",
       "      <td>AA</td>\n",
       "      <td>American Airlines Inc.</td>\n",
       "      <td>1496</td>\n",
       "      <td>N498AA</td>\n",
       "      <td>179</td>\n",
       "      <td>160</td>\n",
       "      <td>148</td>\n",
       "      <td>29</td>\n",
       "      <td>10</td>\n",
       "      <td>DFW</td>\n",
       "      <td>Dallas/Fort Worth International Airport</td>\n",
       "      <td>MCO</td>\n",
       "      <td>Orlando International Airport</td>\n",
       "      <td>984</td>\n",
       "      <td>7</td>\n",
       "      <td>24</td>\n",
       "      <td>0</td>\n",
       "      <td>N</td>\n",
       "      <td>0</td>\n",
       "      <td>10</td>\n",
       "      <td>0</td>\n",
       "      <td>19</td>\n",
       "      <td>0</td>\n",
       "      <td>0</td>\n",
       "    </tr>\n",
       "    <tr>\n",
       "      <th>484546</th>\n",
       "      <td>5</td>\n",
       "      <td>13-06-2019</td>\n",
       "      <td>1609</td>\n",
       "      <td>1942</td>\n",
       "      <td>1915</td>\n",
       "      <td>AA</td>\n",
       "      <td>American Airlines Inc.</td>\n",
       "      <td>1496</td>\n",
       "      <td>N510AA</td>\n",
       "      <td>153</td>\n",
       "      <td>160</td>\n",
       "      <td>131</td>\n",
       "      <td>27</td>\n",
       "      <td>34</td>\n",
       "      <td>DFW</td>\n",
       "      <td>Dallas/Fort Worth International Airport</td>\n",
       "      <td>MCO</td>\n",
       "      <td>Orlando International Airport</td>\n",
       "      <td>984</td>\n",
       "      <td>7</td>\n",
       "      <td>15</td>\n",
       "      <td>0</td>\n",
       "      <td>N</td>\n",
       "      <td>0</td>\n",
       "      <td>27</td>\n",
       "      <td>0</td>\n",
       "      <td>0</td>\n",
       "      <td>0</td>\n",
       "      <td>0</td>\n",
       "    </tr>\n",
       "    <tr>\n",
       "      <th>484547</th>\n",
       "      <td>6</td>\n",
       "      <td>14-06-2019</td>\n",
       "      <td>1616</td>\n",
       "      <td>1954</td>\n",
       "      <td>1915</td>\n",
       "      <td>AA</td>\n",
       "      <td>American Airlines Inc.</td>\n",
       "      <td>1496</td>\n",
       "      <td>N559AA</td>\n",
       "      <td>158</td>\n",
       "      <td>160</td>\n",
       "      <td>136</td>\n",
       "      <td>39</td>\n",
       "      <td>41</td>\n",
       "      <td>DFW</td>\n",
       "      <td>Dallas/Fort Worth International Airport</td>\n",
       "      <td>MCO</td>\n",
       "      <td>Orlando International Airport</td>\n",
       "      <td>984</td>\n",
       "      <td>11</td>\n",
       "      <td>11</td>\n",
       "      <td>0</td>\n",
       "      <td>N</td>\n",
       "      <td>0</td>\n",
       "      <td>11</td>\n",
       "      <td>0</td>\n",
       "      <td>0</td>\n",
       "      <td>0</td>\n",
       "      <td>28</td>\n",
       "    </tr>\n",
       "    <tr>\n",
       "      <th>484548</th>\n",
       "      <td>2</td>\n",
       "      <td>17-06-2019</td>\n",
       "      <td>1617</td>\n",
       "      <td>2002</td>\n",
       "      <td>1915</td>\n",
       "      <td>AA</td>\n",
       "      <td>American Airlines Inc.</td>\n",
       "      <td>1496</td>\n",
       "      <td>N505AA</td>\n",
       "      <td>165</td>\n",
       "      <td>160</td>\n",
       "      <td>141</td>\n",
       "      <td>47</td>\n",
       "      <td>42</td>\n",
       "      <td>DFW</td>\n",
       "      <td>Dallas/Fort Worth International Airport</td>\n",
       "      <td>MCO</td>\n",
       "      <td>Orlando International Airport</td>\n",
       "      <td>984</td>\n",
       "      <td>7</td>\n",
       "      <td>17</td>\n",
       "      <td>0</td>\n",
       "      <td>N</td>\n",
       "      <td>0</td>\n",
       "      <td>0</td>\n",
       "      <td>22</td>\n",
       "      <td>5</td>\n",
       "      <td>0</td>\n",
       "      <td>20</td>\n",
       "    </tr>\n",
       "    <tr>\n",
       "      <th>484549</th>\n",
       "      <td>7</td>\n",
       "      <td>22-06-2019</td>\n",
       "      <td>1607</td>\n",
       "      <td>1941</td>\n",
       "      <td>1915</td>\n",
       "      <td>AA</td>\n",
       "      <td>American Airlines Inc.</td>\n",
       "      <td>1496</td>\n",
       "      <td>N421AA</td>\n",
       "      <td>154</td>\n",
       "      <td>160</td>\n",
       "      <td>137</td>\n",
       "      <td>26</td>\n",
       "      <td>32</td>\n",
       "      <td>DFW</td>\n",
       "      <td>Dallas/Fort Worth International Airport</td>\n",
       "      <td>MCO</td>\n",
       "      <td>Orlando International Airport</td>\n",
       "      <td>984</td>\n",
       "      <td>5</td>\n",
       "      <td>12</td>\n",
       "      <td>0</td>\n",
       "      <td>N</td>\n",
       "      <td>0</td>\n",
       "      <td>1</td>\n",
       "      <td>0</td>\n",
       "      <td>0</td>\n",
       "      <td>0</td>\n",
       "      <td>25</td>\n",
       "    </tr>\n",
       "    <tr>\n",
       "      <th>484550</th>\n",
       "      <td>1</td>\n",
       "      <td>23-06-2019</td>\n",
       "      <td>1608</td>\n",
       "      <td>1933</td>\n",
       "      <td>1915</td>\n",
       "      <td>AA</td>\n",
       "      <td>American Airlines Inc.</td>\n",
       "      <td>1496</td>\n",
       "      <td>N487AA</td>\n",
       "      <td>145</td>\n",
       "      <td>160</td>\n",
       "      <td>129</td>\n",
       "      <td>18</td>\n",
       "      <td>33</td>\n",
       "      <td>DFW</td>\n",
       "      <td>Dallas/Fort Worth International Airport</td>\n",
       "      <td>MCO</td>\n",
       "      <td>Orlando International Airport</td>\n",
       "      <td>984</td>\n",
       "      <td>6</td>\n",
       "      <td>10</td>\n",
       "      <td>0</td>\n",
       "      <td>N</td>\n",
       "      <td>0</td>\n",
       "      <td>18</td>\n",
       "      <td>0</td>\n",
       "      <td>0</td>\n",
       "      <td>0</td>\n",
       "      <td>0</td>\n",
       "    </tr>\n",
       "  </tbody>\n",
       "</table>\n",
       "</div>"
      ],
      "text/plain": [
       "        DayOfWeek        Date  ...  SecurityDelay  LateAircraftDelay\n",
       "484541          7  29-06-2019  ...              0                  9\n",
       "484542          3  04-06-2019  ...              0                 30\n",
       "484543          7  08-06-2019  ...              0                  0\n",
       "484544          2  10-06-2019  ...              0                  2\n",
       "484545          4  12-06-2019  ...              0                  0\n",
       "484546          5  13-06-2019  ...              0                  0\n",
       "484547          6  14-06-2019  ...              0                 28\n",
       "484548          2  17-06-2019  ...              0                 20\n",
       "484549          7  22-06-2019  ...              0                 25\n",
       "484550          1  23-06-2019  ...              0                  0\n",
       "\n",
       "[10 rows x 29 columns]"
      ]
     },
     "execution_count": 5,
     "metadata": {},
     "output_type": "execute_result"
    }
   ],
   "source": [
    "df.tail(10)"
   ]
  },
  {
   "cell_type": "code",
   "execution_count": 0,
   "metadata": {
    "application/vnd.databricks.v1+cell": {
     "cellMetadata": {
      "byteLimit": 2048000,
      "rowLimit": 10000
     },
     "inputWidgets": {},
     "nuid": "37a7f943-6b71-42d5-a4b1-e19b28ca47ba",
     "showTitle": false,
     "tableResultSettingsMap": {},
     "title": ""
    }
   },
   "outputs": [
    {
     "output_type": "execute_result",
     "data": {
      "text/plain": [
       "14051979"
      ]
     },
     "execution_count": 8,
     "metadata": {},
     "output_type": "execute_result"
    }
   ],
   "source": [
    "df.size"
   ]
  },
  {
   "cell_type": "code",
   "execution_count": 0,
   "metadata": {
    "application/vnd.databricks.v1+cell": {
     "cellMetadata": {
      "byteLimit": 2048000,
      "rowLimit": 10000
     },
     "inputWidgets": {},
     "nuid": "b96daa30-2b54-4b56-b024-72a22c4967d8",
     "showTitle": false,
     "tableResultSettingsMap": {},
     "title": ""
    }
   },
   "outputs": [
    {
     "output_type": "execute_result",
     "data": {
      "text/plain": [
       "DayOfWeek             int64\n",
       "Date                 object\n",
       "DepTime               int64\n",
       "ArrTime               int64\n",
       "CRSArrTime            int64\n",
       "UniqueCarrier        object\n",
       "Airline              object\n",
       "FlightNum             int64\n",
       "TailNum              object\n",
       "ActualElapsedTime     int64\n",
       "CRSElapsedTime        int64\n",
       "AirTime               int64\n",
       "ArrDelay              int64\n",
       "DepDelay              int64\n",
       "Origin               object\n",
       "Org_Airport          object\n",
       "Dest                 object\n",
       "Dest_Airport         object\n",
       "Distance              int64\n",
       "TaxiIn                int64\n",
       "TaxiOut               int64\n",
       "Cancelled             int64\n",
       "CancellationCode     object\n",
       "Diverted              int64\n",
       "CarrierDelay          int64\n",
       "WeatherDelay          int64\n",
       "NASDelay              int64\n",
       "SecurityDelay         int64\n",
       "LateAircraftDelay     int64\n",
       "dtype: object"
      ]
     },
     "execution_count": 12,
     "metadata": {},
     "output_type": "execute_result"
    }
   ],
   "source": [
    "df.dtypes"
   ]
  },
  {
   "cell_type": "code",
   "execution_count": 0,
   "metadata": {
    "application/vnd.databricks.v1+cell": {
     "cellMetadata": {
      "byteLimit": 2048000,
      "rowLimit": 10000
     },
     "inputWidgets": {},
     "nuid": "1b2af7d6-34c2-44a0-ab6f-fb6739a675e1",
     "showTitle": false,
     "tableResultSettingsMap": {},
     "title": ""
    }
   },
   "outputs": [
    {
     "output_type": "execute_result",
     "data": {
      "text/plain": [
       "Index(['DayOfWeek', 'Date', 'DepTime', 'ArrTime', 'CRSArrTime',\n",
       "       'UniqueCarrier', 'Airline', 'FlightNum', 'TailNum', 'ActualElapsedTime',\n",
       "       'CRSElapsedTime', 'AirTime', 'ArrDelay', 'DepDelay', 'Origin',\n",
       "       'Org_Airport', 'Dest', 'Dest_Airport', 'Distance', 'TaxiIn', 'TaxiOut',\n",
       "       'Cancelled', 'CancellationCode', 'Diverted', 'CarrierDelay',\n",
       "       'WeatherDelay', 'NASDelay', 'SecurityDelay', 'LateAircraftDelay'],\n",
       "      dtype='object')"
      ]
     },
     "execution_count": 14,
     "metadata": {},
     "output_type": "execute_result"
    }
   ],
   "source": [
    "df.columns"
   ]
  },
  {
   "cell_type": "code",
   "execution_count": 0,
   "metadata": {
    "application/vnd.databricks.v1+cell": {
     "cellMetadata": {
      "byteLimit": 2048000,
      "rowLimit": 10000
     },
     "inputWidgets": {},
     "nuid": "330104d6-b8c1-4f1c-bb64-25baa48fe720",
     "showTitle": false,
     "tableResultSettingsMap": {},
     "title": ""
    }
   },
   "outputs": [
    {
     "output_type": "stream",
     "name": "stdout",
     "output_type": "stream",
     "text": [
      "<class 'pandas.core.frame.DataFrame'>\nRangeIndex: 484551 entries, 0 to 484550\nData columns (total 29 columns):\n #   Column             Non-Null Count   Dtype \n---  ------             --------------   ----- \n 0   DayOfWeek          484551 non-null  int64 \n 1   Date               484551 non-null  object\n 2   DepTime            484551 non-null  int64 \n 3   ArrTime            484551 non-null  int64 \n 4   CRSArrTime         484551 non-null  int64 \n 5   UniqueCarrier      484551 non-null  object\n 6   Airline            484551 non-null  object\n 7   FlightNum          484551 non-null  int64 \n 8   TailNum            484551 non-null  object\n 9   ActualElapsedTime  484551 non-null  int64 \n 10  CRSElapsedTime     484551 non-null  int64 \n 11  AirTime            484551 non-null  int64 \n 12  ArrDelay           484551 non-null  int64 \n 13  DepDelay           484551 non-null  int64 \n 14  Origin             484551 non-null  object\n 15  Org_Airport        483374 non-null  object\n 16  Dest               484551 non-null  object\n 17  Dest_Airport       483072 non-null  object\n 18  Distance           484551 non-null  int64 \n 19  TaxiIn             484551 non-null  int64 \n 20  TaxiOut            484551 non-null  int64 \n 21  Cancelled          484551 non-null  int64 \n 22  CancellationCode   484551 non-null  object\n 23  Diverted           484551 non-null  int64 \n 24  CarrierDelay       484551 non-null  int64 \n 25  WeatherDelay       484551 non-null  int64 \n 26  NASDelay           484551 non-null  int64 \n 27  SecurityDelay      484551 non-null  int64 \n 28  LateAircraftDelay  484551 non-null  int64 \ndtypes: int64(20), object(9)\nmemory usage: 107.2+ MB\n"
     ]
    }
   ],
   "source": [
    "df.describe()\n",
    "df.info()"
   ]
  },
  {
   "cell_type": "code",
   "execution_count": 0,
   "metadata": {
    "application/vnd.databricks.v1+cell": {
     "cellMetadata": {
      "byteLimit": 2048000,
      "rowLimit": 10000
     },
     "inputWidgets": {},
     "nuid": "c8ed5756-c0f4-43a7-9e67-aace6eb359f6",
     "showTitle": false,
     "tableResultSettingsMap": {},
     "title": ""
    }
   },
   "outputs": [
    {
     "output_type": "execute_result",
     "data": {
      "text/plain": [
       "DayOfWeek               0\n",
       "Date                    0\n",
       "DepTime                 0\n",
       "ArrTime                 0\n",
       "CRSArrTime              0\n",
       "UniqueCarrier           0\n",
       "Airline                 0\n",
       "FlightNum               0\n",
       "TailNum                 0\n",
       "ActualElapsedTime       0\n",
       "CRSElapsedTime          0\n",
       "AirTime                 0\n",
       "ArrDelay                0\n",
       "DepDelay                0\n",
       "Origin                  0\n",
       "Org_Airport          1177\n",
       "Dest                    0\n",
       "Dest_Airport         1479\n",
       "Distance                0\n",
       "TaxiIn                  0\n",
       "TaxiOut                 0\n",
       "Cancelled               0\n",
       "CancellationCode        0\n",
       "Diverted                0\n",
       "CarrierDelay            0\n",
       "WeatherDelay            0\n",
       "NASDelay                0\n",
       "SecurityDelay           0\n",
       "LateAircraftDelay       0\n",
       "dtype: int64"
      ]
     },
     "execution_count": 19,
     "metadata": {},
     "output_type": "execute_result"
    }
   ],
   "source": [
    "df.isnull().sum()"
   ]
  },
  {
   "cell_type": "code",
   "execution_count": 0,
   "metadata": {
    "application/vnd.databricks.v1+cell": {
     "cellMetadata": {
      "byteLimit": 2048000,
      "rowLimit": 10000
     },
     "inputWidgets": {},
     "nuid": "f1c65ec0-dae8-4a6d-8ed4-7a3421ee39d4",
     "showTitle": false,
     "tableResultSettingsMap": {},
     "title": ""
    }
   },
   "outputs": [
    {
     "output_type": "execute_result",
     "data": {
      "text/plain": [
       "Org_Airport     1177\n",
       "Dest_Airport    1479\n",
       "dtype: int64"
      ]
     },
     "execution_count": 22,
     "metadata": {},
     "output_type": "execute_result"
    }
   ],
   "source": [
    "null_cols = df.isnull().sum()\n",
    "null_cols[null_cols > 0]\n"
   ]
  },
  {
   "cell_type": "code",
   "execution_count": 0,
   "metadata": {
    "application/vnd.databricks.v1+cell": {
     "cellMetadata": {
      "byteLimit": 2048000,
      "rowLimit": 10000
     },
     "inputWidgets": {},
     "nuid": "e5175c5f-8aa3-4164-911a-7635e08be36e",
     "showTitle": false,
     "tableResultSettingsMap": {},
     "title": ""
    }
   },
   "outputs": [
    {
     "output_type": "execute_result",
     "data": {
      "text/plain": [
       "2"
      ]
     },
     "execution_count": 24,
     "metadata": {},
     "output_type": "execute_result"
    }
   ],
   "source": [
    "df.duplicated().sum()"
   ]
  },
  {
   "cell_type": "code",
   "execution_count": 0,
   "metadata": {
    "application/vnd.databricks.v1+cell": {
     "cellMetadata": {
      "byteLimit": 2048000,
      "rowLimit": 10000
     },
     "inputWidgets": {},
     "nuid": "e3cb8d48-79c9-49c7-911c-67eeaa930703",
     "showTitle": false,
     "tableResultSettingsMap": {},
     "title": ""
    }
   },
   "outputs": [
    {
     "output_type": "execute_result",
     "data": {
      "text/html": [
       "<div>\n",
       "<style scoped>\n",
       "    .dataframe tbody tr th:only-of-type {\n",
       "        vertical-align: middle;\n",
       "    }\n",
       "\n",
       "    .dataframe tbody tr th {\n",
       "        vertical-align: top;\n",
       "    }\n",
       "\n",
       "    .dataframe thead th {\n",
       "        text-align: right;\n",
       "    }\n",
       "</style>\n",
       "<table border=\"1\" class=\"dataframe\">\n",
       "  <thead>\n",
       "    <tr style=\"text-align: right;\">\n",
       "      <th></th>\n",
       "      <th>DayOfWeek</th>\n",
       "      <th>Date</th>\n",
       "      <th>DepTime</th>\n",
       "      <th>ArrTime</th>\n",
       "      <th>CRSArrTime</th>\n",
       "      <th>UniqueCarrier</th>\n",
       "      <th>Airline</th>\n",
       "      <th>FlightNum</th>\n",
       "      <th>TailNum</th>\n",
       "      <th>ActualElapsedTime</th>\n",
       "      <th>CRSElapsedTime</th>\n",
       "      <th>AirTime</th>\n",
       "      <th>ArrDelay</th>\n",
       "      <th>DepDelay</th>\n",
       "      <th>Origin</th>\n",
       "      <th>Org_Airport</th>\n",
       "      <th>Dest</th>\n",
       "      <th>Dest_Airport</th>\n",
       "      <th>Distance</th>\n",
       "      <th>TaxiIn</th>\n",
       "      <th>TaxiOut</th>\n",
       "      <th>Cancelled</th>\n",
       "      <th>CancellationCode</th>\n",
       "      <th>Diverted</th>\n",
       "      <th>CarrierDelay</th>\n",
       "      <th>WeatherDelay</th>\n",
       "      <th>NASDelay</th>\n",
       "      <th>SecurityDelay</th>\n",
       "      <th>LateAircraftDelay</th>\n",
       "    </tr>\n",
       "  </thead>\n",
       "  <tbody>\n",
       "    <tr>\n",
       "      <th>145746</th>\n",
       "      <td>4</td>\n",
       "      <td>28-02-2019</td>\n",
       "      <td>1854</td>\n",
       "      <td>1946</td>\n",
       "      <td>1902</td>\n",
       "      <td>F9</td>\n",
       "      <td>Frontier Airlines Inc.</td>\n",
       "      <td>773</td>\n",
       "      <td>N201FR</td>\n",
       "      <td>112</td>\n",
       "      <td>115</td>\n",
       "      <td>91</td>\n",
       "      <td>44</td>\n",
       "      <td>47</td>\n",
       "      <td>DEN</td>\n",
       "      <td>Denver International Airport</td>\n",
       "      <td>LAS</td>\n",
       "      <td>McCarran International Airport</td>\n",
       "      <td>629</td>\n",
       "      <td>8</td>\n",
       "      <td>13</td>\n",
       "      <td>0</td>\n",
       "      <td>N</td>\n",
       "      <td>0</td>\n",
       "      <td>44</td>\n",
       "      <td>0</td>\n",
       "      <td>0</td>\n",
       "      <td>0</td>\n",
       "      <td>0</td>\n",
       "    </tr>\n",
       "    <tr>\n",
       "      <th>145748</th>\n",
       "      <td>4</td>\n",
       "      <td>28-02-2019</td>\n",
       "      <td>2027</td>\n",
       "      <td>2314</td>\n",
       "      <td>2229</td>\n",
       "      <td>F9</td>\n",
       "      <td>Frontier Airlines Inc.</td>\n",
       "      <td>780</td>\n",
       "      <td>N201FR</td>\n",
       "      <td>107</td>\n",
       "      <td>107</td>\n",
       "      <td>84</td>\n",
       "      <td>45</td>\n",
       "      <td>45</td>\n",
       "      <td>LAS</td>\n",
       "      <td>McCarran International Airport</td>\n",
       "      <td>DEN</td>\n",
       "      <td>Denver International Airport</td>\n",
       "      <td>629</td>\n",
       "      <td>10</td>\n",
       "      <td>13</td>\n",
       "      <td>0</td>\n",
       "      <td>N</td>\n",
       "      <td>0</td>\n",
       "      <td>1</td>\n",
       "      <td>0</td>\n",
       "      <td>44</td>\n",
       "      <td>0</td>\n",
       "      <td>0</td>\n",
       "    </tr>\n",
       "  </tbody>\n",
       "</table>\n",
       "</div>"
      ],
      "text/plain": [
       "        DayOfWeek        Date  ...  SecurityDelay  LateAircraftDelay\n",
       "145746          4  28-02-2019  ...              0                  0\n",
       "145748          4  28-02-2019  ...              0                  0\n",
       "\n",
       "[2 rows x 29 columns]"
      ]
     },
     "execution_count": 28,
     "metadata": {},
     "output_type": "execute_result"
    },
    {
     "output_type": "display_data",
     "data": {
      "application/vnd.databricks.v1+display_df_hint": {
       "mode": "should_hint",
       "name": "duplicates",
       "type": "pandas.core.frame.DataFrame"
      }
     },
     "metadata": {},
     "output_type": "display_data"
    }
   ],
   "source": [
    "duplicates = df[df.duplicated()]\n",
    "duplicates\n"
   ]
  },
  {
   "cell_type": "code",
   "execution_count": 0,
   "metadata": {
    "application/vnd.databricks.v1+cell": {
     "cellMetadata": {
      "byteLimit": 2048000,
      "rowLimit": 10000
     },
     "inputWidgets": {},
     "nuid": "01f393ac-8b31-4ade-9e87-4323fc7fb1bf",
     "showTitle": false,
     "tableResultSettingsMap": {},
     "title": ""
    }
   },
   "outputs": [],
   "source": [
    "df = df.drop_duplicates()\n"
   ]
  },
  {
   "cell_type": "code",
   "execution_count": 0,
   "metadata": {
    "application/vnd.databricks.v1+cell": {
     "cellMetadata": {
      "byteLimit": 2048000,
      "rowLimit": 10000
     },
     "inputWidgets": {},
     "nuid": "9c00300d-1e83-4a72-b1f9-13f862de3717",
     "showTitle": false,
     "tableResultSettingsMap": {},
     "title": ""
    }
   },
   "outputs": [
    {
     "output_type": "execute_result",
     "data": {
      "text/plain": [
       "0"
      ]
     },
     "execution_count": 33,
     "metadata": {},
     "output_type": "execute_result"
    }
   ],
   "source": [
    "df.duplicated().sum()"
   ]
  },
  {
   "cell_type": "code",
   "execution_count": 0,
   "metadata": {
    "application/vnd.databricks.v1+cell": {
     "cellMetadata": {
      "byteLimit": 2048000,
      "rowLimit": 10000
     },
     "inputWidgets": {},
     "nuid": "942851ca-2208-41e8-b969-935897ff578e",
     "showTitle": false,
     "tableResultSettingsMap": {},
     "title": ""
    }
   },
   "outputs": [
    {
     "output_type": "execute_result",
     "data": {
      "text/plain": [
       "TailNum            0\n",
       "Origin             0\n",
       "Org_Airport     1177\n",
       "Dest               0\n",
       "Dest_Airport    1479\n",
       "dtype: int64"
      ]
     },
     "execution_count": 40,
     "metadata": {},
     "output_type": "execute_result"
    }
   ],
   "source": [
    "df[['TailNum', 'Origin', 'Org_Airport', 'Dest', 'Dest_Airport']].isnull().sum()"
   ]
  },
  {
   "cell_type": "code",
   "execution_count": 0,
   "metadata": {
    "application/vnd.databricks.v1+cell": {
     "cellMetadata": {
      "byteLimit": 2048000,
      "rowLimit": 10000
     },
     "inputWidgets": {},
     "nuid": "c20cd926-bb73-41ba-9c4a-c0bccbf8ccd9",
     "showTitle": false,
     "tableResultSettingsMap": {},
     "title": ""
    }
   },
   "outputs": [
    {
     "output_type": "execute_result",
     "data": {
      "text/html": [
       "<div>\n",
       "<style scoped>\n",
       "    .dataframe tbody tr th:only-of-type {\n",
       "        vertical-align: middle;\n",
       "    }\n",
       "\n",
       "    .dataframe tbody tr th {\n",
       "        vertical-align: top;\n",
       "    }\n",
       "\n",
       "    .dataframe thead th {\n",
       "        text-align: right;\n",
       "    }\n",
       "</style>\n",
       "<table border=\"1\" class=\"dataframe\">\n",
       "  <thead>\n",
       "    <tr style=\"text-align: right;\">\n",
       "      <th></th>\n",
       "      <th>TailNum</th>\n",
       "      <th>Origin</th>\n",
       "      <th>Org_Airport</th>\n",
       "      <th>Dest</th>\n",
       "      <th>Dest_Airport</th>\n",
       "    </tr>\n",
       "  </thead>\n",
       "  <tbody>\n",
       "    <tr>\n",
       "      <th>0</th>\n",
       "      <td>N464WN</td>\n",
       "      <td>IND</td>\n",
       "      <td>Indianapolis International Airport</td>\n",
       "      <td>BWI</td>\n",
       "      <td>Baltimore-Washington International Airport</td>\n",
       "    </tr>\n",
       "    <tr>\n",
       "      <th>1</th>\n",
       "      <td>N763SW</td>\n",
       "      <td>IND</td>\n",
       "      <td>Indianapolis International Airport</td>\n",
       "      <td>LAS</td>\n",
       "      <td>McCarran International Airport</td>\n",
       "    </tr>\n",
       "    <tr>\n",
       "      <th>2</th>\n",
       "      <td>N334SW</td>\n",
       "      <td>IND</td>\n",
       "      <td>Indianapolis International Airport</td>\n",
       "      <td>MCO</td>\n",
       "      <td>Orlando International Airport</td>\n",
       "    </tr>\n",
       "    <tr>\n",
       "      <th>3</th>\n",
       "      <td>N286WN</td>\n",
       "      <td>IND</td>\n",
       "      <td>Indianapolis International Airport</td>\n",
       "      <td>PHX</td>\n",
       "      <td>Phoenix Sky Harbor International Airport</td>\n",
       "    </tr>\n",
       "    <tr>\n",
       "      <th>4</th>\n",
       "      <td>N674AA</td>\n",
       "      <td>IND</td>\n",
       "      <td>Indianapolis International Airport</td>\n",
       "      <td>TPA</td>\n",
       "      <td>Tampa International Airport</td>\n",
       "    </tr>\n",
       "  </tbody>\n",
       "</table>\n",
       "</div>"
      ],
      "text/plain": [
       "  TailNum Origin  ... Dest                                Dest_Airport\n",
       "0  N464WN    IND  ...  BWI  Baltimore-Washington International Airport\n",
       "1  N763SW    IND  ...  LAS              McCarran International Airport\n",
       "2  N334SW    IND  ...  MCO               Orlando International Airport\n",
       "3  N286WN    IND  ...  PHX    Phoenix Sky Harbor International Airport\n",
       "4  N674AA    IND  ...  TPA                 Tampa International Airport\n",
       "\n",
       "[5 rows x 5 columns]"
      ]
     },
     "execution_count": 47,
     "metadata": {},
     "output_type": "execute_result"
    }
   ],
   "source": [
    "df_selected = df[['TailNum', 'Origin', 'Org_Airport', 'Dest', 'Dest_Airport']]\n",
    "df_selected.head()\n"
   ]
  },
  {
   "cell_type": "code",
   "execution_count": 0,
   "metadata": {
    "application/vnd.databricks.v1+cell": {
     "cellMetadata": {
      "byteLimit": 2048000,
      "rowLimit": 10000
     },
     "inputWidgets": {},
     "nuid": "2c791e84-d00b-4a81-bbc8-4ab9c322567e",
     "showTitle": false,
     "tableResultSettingsMap": {},
     "title": ""
    }
   },
   "outputs": [
    {
     "output_type": "display_data",
     "data": {
      "text/html": [
       "<style scoped>\n",
       "  .table-result-container {\n",
       "    max-height: 300px;\n",
       "    overflow: auto;\n",
       "  }\n",
       "  table, th, td {\n",
       "    border: 1px solid black;\n",
       "    border-collapse: collapse;\n",
       "  }\n",
       "  th, td {\n",
       "    padding: 5px;\n",
       "  }\n",
       "  th {\n",
       "    text-align: left;\n",
       "  }\n",
       "</style><div class='table-result-container'><table class='table-result'><thead style='background-color: white'><tr><th>Dest</th><th>Dest_Airport</th></tr></thead><tbody><tr><td>BWI</td><td>Baltimore-Washington International Airport</td></tr><tr><td>LAS</td><td>McCarran International Airport</td></tr><tr><td>MCO</td><td>Orlando International Airport</td></tr><tr><td>PHX</td><td>Phoenix Sky Harbor International Airport</td></tr><tr><td>TPA</td><td>Tampa International Airport</td></tr><tr><td>FLL</td><td>Fort Lauderdale-Hollywood International Airport</td></tr><tr><td>MDW</td><td>Chicago Midway International Airport</td></tr><tr><td>PBI</td><td>Palm Beach International Airport</td></tr><tr><td>HOU</td><td>William P. Hobby Airport</td></tr><tr><td>BHM</td><td>Birmingham-Shuttlesworth International Airport</td></tr><tr><td>BNA</td><td>Nashville International Airport</td></tr><tr><td>PHL</td><td>Philadelphia International Airport</td></tr><tr><td>ABQ</td><td>Albuquerque International Sunport</td></tr><tr><td>ALB</td><td>Albany International Airport</td></tr><tr><td>AMA</td><td>Rick Husband Amarillo International Airport</td></tr><tr><td>AUS</td><td>Austin-Bergstrom International Airport</td></tr><tr><td>BDL</td><td>Bradley International Airport</td></tr><tr><td>BOI</td><td>Boise Airport (Boise Air Terminal)</td></tr><tr><td>BUF</td><td>Buffalo Niagara International Airport</td></tr><tr><td>BUR</td><td>Bob Hope Airport (Hollywood Burbank Airport)</td></tr><tr><td>CMH</td><td>Port Columbus International Airport</td></tr><tr><td>DEN</td><td>Denver International Airport</td></tr><tr><td>ELP</td><td>El Paso International Airport</td></tr><tr><td>GEG</td><td>Spokane International Airport</td></tr><tr><td>IAD</td><td>Washington Dulles International Airport</td></tr><tr><td>IND</td><td>Indianapolis International Airport</td></tr><tr><td>ISP</td><td>Long Island MacArthur Airport</td></tr><tr><td>LAX</td><td>Los Angeles International Airport</td></tr><tr><td>LBB</td><td>Lubbock Preston Smith International Airport</td></tr><tr><td>MAF</td><td>Midland International Airport</td></tr><tr><td>MCI</td><td>Kansas City International Airport</td></tr><tr><td>MSY</td><td>Louis Armstrong New Orleans International Airport</td></tr><tr><td>OAK</td><td>Oakland International Airport</td></tr><tr><td>OMA</td><td>Eppley Airfield</td></tr><tr><td>ONT</td><td>Ontario International Airport</td></tr><tr><td>ORF</td><td>Norfolk International Airport</td></tr><tr><td>PDX</td><td>Portland International Airport</td></tr><tr><td>PIT</td><td>Pittsburgh International Airport</td></tr><tr><td>PVD</td><td>Theodore Francis Green State Airport</td></tr><tr><td>RDU</td><td>Raleigh-Durham International Airport</td></tr><tr><td>RNO</td><td>Reno/Tahoe International Airport</td></tr><tr><td>SAN</td><td>San Diego International Airport (Lindbergh Field)</td></tr><tr><td>SAT</td><td>San Antonio International Airport</td></tr><tr><td>SDF</td><td>Louisville International Airport (Standiford Field)</td></tr><tr><td>SFO</td><td>San Francisco International Airport</td></tr><tr><td>SJC</td><td>Norman Y. Mineta San José International Airport</td></tr><tr><td>SLC</td><td>Salt Lake City International Airport</td></tr><tr><td>SMF</td><td>Sacramento International Airport</td></tr><tr><td>SNA</td><td>John Wayne Airport (Orange County Airport)</td></tr><tr><td>STL</td><td>St. Louis International Airport at Lambert Field</td></tr><tr><td>TUL</td><td>Tulsa International Airport</td></tr><tr><td>TUS</td><td>Tucson International Airport</td></tr><tr><td>DAL</td><td>Dallas Love Field</td></tr><tr><td>OKC</td><td>Will Rogers World Airport</td></tr><tr><td>SEA</td><td>Seattle-Tacoma International Airport</td></tr><tr><td>CLE</td><td>Cleveland Hopkins International Airport</td></tr><tr><td>DTW</td><td>Detroit Metropolitan Airport</td></tr><tr><td>JAN</td><td>Jackson-Evers International Airport</td></tr><tr><td>MHT</td><td>Manchester-Boston Regional Airport</td></tr><tr><td>RSW</td><td>Southwest Florida International Airport</td></tr><tr><td>LIT</td><td>Bill and Hillary Clinton National Airport (Adams Field)</td></tr><tr><td>JAX</td><td>Jacksonville International Airport</td></tr><tr><td>HRL</td><td>Valley International Airport</td></tr><tr><td>CRP</td><td>Corpus Christi International Airport</td></tr><tr><td>CVG</td><td>Cincinnati/Northern Kentucky International Airport</td></tr><tr><td>DFW</td><td>Dallas/Fort Worth International Airport</td></tr><tr><td>MSP</td><td>Minneapolis-Saint Paul International Airport</td></tr><tr><td>ATL</td><td>Hartsfield-Jackson Atlanta International Airport</td></tr><tr><td>GSP</td><td>Greenville-Spartanburg International Airport</td></tr><tr><td>ORD</td><td>Chicago O'Hare International Airport</td></tr><tr><td>MKE</td><td>General Mitchell International Airport</td></tr><tr><td>MSN</td><td>Dane County Regional Airport</td></tr><tr><td>EWR</td><td>Newark Liberty International Airport</td></tr><tr><td>SUN</td><td>Friedman Memorial Airport</td></tr><tr><td>SGU</td><td>St. George Regional Airport</td></tr><tr><td>TWF</td><td>Magic Valley Regional Airport (Joslin Field)</td></tr><tr><td>SBA</td><td>Santa Barbara Municipal Airport (Santa Barbara Airport)</td></tr><tr><td>IDA</td><td>Idaho Falls Regional Airport</td></tr><tr><td>BZN</td><td>Bozeman Yellowstone International Airport (Gallatin Field Airport)</td></tr><tr><td>RAP</td><td>Rapid City Regional Airport</td></tr><tr><td>SLE</td><td>null</td></tr><tr><td>MSO</td><td>Missoula International Airport</td></tr><tr><td>BIL</td><td>Billings Logan International Airport</td></tr><tr><td>PSP</td><td>Palm Springs International Airport</td></tr><tr><td>LGB</td><td>Long Beach Airport (Daugherty Field)</td></tr><tr><td>COS</td><td>City of Colorado Springs Municipal Airport</td></tr><tr><td>GTF</td><td>Great Falls International Airport</td></tr><tr><td>MEM</td><td>Memphis International Airport</td></tr><tr><td>JAC</td><td>Jackson Hole Airport</td></tr><tr><td>ASE</td><td>Aspen-Pitkin County Airport</td></tr><tr><td>FCA</td><td>Glacier Park International Airport</td></tr><tr><td>PSC</td><td>Tri-Cities Airport</td></tr><tr><td>ACV</td><td>Arcata Airport</td></tr><tr><td>RDD</td><td>Redding Municipal Airport</td></tr><tr><td>FAT</td><td>Fresno Yosemite International Airport</td></tr><tr><td>EUG</td><td>Eugene Airport (Mahlon Sweet Field)</td></tr><tr><td>MOD</td><td>null</td></tr><tr><td>LEX</td><td>Blue Grass Airport</td></tr><tr><td>BTV</td><td>Burlington International Airport</td></tr><tr><td>ROA</td><td>Roanoke Regional Airport (Woodrum Field)</td></tr><tr><td>CHS</td><td>Charleston International Airport/Charleston AFB</td></tr><tr><td>FSD</td><td>Sioux Falls Regional Airport</td></tr><tr><td>PIA</td><td>General Wayne A. Downing Peoria International Airport</td></tr><tr><td>LNK</td><td>Lincoln Airport (Lincoln Municipal)</td></tr><tr><td>GUC</td><td>Gunnison-Crested Butte Regional Airport</td></tr><tr><td>AZO</td><td>Kalamazoo/Battle Creek International Airport</td></tr><tr><td>TVC</td><td>Cherry Capital Airport</td></tr><tr><td>IAH</td><td>George Bush Intercontinental Airport</td></tr><tr><td>SAV</td><td>Savannah/Hilton Head International Airport</td></tr><tr><td>CRW</td><td>Yeager Airport</td></tr><tr><td>ATW</td><td>Appleton International Airport</td></tr><tr><td>TYS</td><td>McGhee Tyson Airport</td></tr><tr><td>AVP</td><td>Wilkes-Barre/Scranton International Airport</td></tr><tr><td>FAR</td><td>Hector International Airport</td></tr><tr><td>GJT</td><td>Grand Junction Regional Airport (Walker Field)</td></tr><tr><td>ABE</td><td>Lehigh Valley International Airport</td></tr><tr><td>XNA</td><td>Northwest Arkansas Regional Airport</td></tr><tr><td>MLI</td><td>Quad City International Airport</td></tr><tr><td>GRR</td><td>Gerald R. Ford International Airport</td></tr><tr><td>DSM</td><td>Des Moines International Airport</td></tr><tr><td>GRB</td><td>Green Bay-Austin Straubel International Airport</td></tr><tr><td>DAY</td><td>James M. Cox Dayton International Airport</td></tr><tr><td>CWA</td><td>Central Wisconsin Airport</td></tr><tr><td>SGF</td><td>Springfield-Branson National Airport</td></tr><tr><td>BIS</td><td>Bismarck Municipal Airport</td></tr><tr><td>HSV</td><td>Huntsville International Airport</td></tr><tr><td>HDN</td><td>Yampa Valley Airport (Yampa Valley Regional)</td></tr><tr><td>MFR</td><td>Rogue Valley International Airport</td></tr><tr><td>LAN</td><td>Capital Region International Airport ( Lansing Capital City)</td></tr><tr><td>SYR</td><td>Syracuse Hancock International Airport</td></tr><tr><td>YUM</td><td>Yuma International Airport</td></tr><tr><td>SBP</td><td>San Luis Obispo County Regional Airport (McChesney Field)</td></tr><tr><td>RDM</td><td>Redmond Municipal Airport (Roberts Field)</td></tr><tr><td>MTJ</td><td>Montrose Regional Airport</td></tr><tr><td>MRY</td><td>Monterey Regional Airport (Monterey Peninsula Airport)</td></tr><tr><td>BFL</td><td>Meadows Field</td></tr><tr><td>CID</td><td>The Eastern Iowa Airport</td></tr><tr><td>SBN</td><td>South Bend International Airport (South Bend Regional)</td></tr><tr><td>ICT</td><td>Wichita Dwight D. Eisenhower National Airport (Wichita Mid-Continent Airport)</td></tr><tr><td>SPI</td><td>Abraham Lincoln Capital Airport</td></tr><tr><td>FWA</td><td>Fort Wayne International Airport</td></tr><tr><td>DRO</td><td>Durango-La Plata County Airport</td></tr><tr><td>MBS</td><td>MBS International Airport</td></tr><tr><td>PIH</td><td>Pocatello Regional Airport</td></tr><tr><td>YKM</td><td>null</td></tr><tr><td>SMX</td><td>Santa Maria Public Airport (Capt G. Allan Hancock Field)</td></tr><tr><td>CEC</td><td>Del Norte County Airport (Jack McNamara Field)</td></tr><tr><td>CIC</td><td>null</td></tr><tr><td>PMD</td><td>null</td></tr><tr><td>EKO</td><td>Elko Regional Airport</td></tr><tr><td>IYK</td><td>null</td></tr><tr><td>OXR</td><td>null</td></tr><tr><td>IPL</td><td>null</td></tr><tr><td>CLD</td><td>McClellan-Palomar Airport</td></tr><tr><td>RFD</td><td>null</td></tr><tr><td>CPR</td><td>Natrona County International Airport</td></tr><tr><td>HLN</td><td>Helena Regional Airport</td></tr><tr><td>BLI</td><td>Bellingham International Airport</td></tr><tr><td>BTM</td><td>Bert Mooney Airport</td></tr><tr><td>CAK</td><td>Akron-Canton Regional Airport</td></tr><tr><td>COD</td><td>Yellowstone Regional Airport</td></tr><tr><td>CLT</td><td>Charlotte Douglas International Airport</td></tr><tr><td>CDC</td><td>Cedar City Regional Airport</td></tr><tr><td>BMI</td><td>Central Illinois Regional Airport at Bloomington-Normal</td></tr><tr><td>HPN</td><td>Westchester County Airport</td></tr><tr><td>LWS</td><td>Lewiston-Nez Perce County Airport</td></tr><tr><td>HNL</td><td>Honolulu International Airport</td></tr><tr><td>KOA</td><td>Kona International Airport at Keahole</td></tr><tr><td>OGG</td><td>Kahului Airport</td></tr><tr><td>JFK</td><td>John F. Kennedy International Airport (New York International Airport)</td></tr><tr><td>LIH</td><td>Lihue Airport</td></tr><tr><td>BOS</td><td>Gen. Edward Lawrence Logan International Airport</td></tr><tr><td>RIC</td><td>Richmond International Airport</td></tr><tr><td>ROC</td><td>Greater Rochester International Airport</td></tr><tr><td>EGE</td><td>Eagle County Regional Airport</td></tr><tr><td>GSO</td><td>Piedmont Triad International Airport</td></tr><tr><td>LGA</td><td>LaGuardia Airport (Marine Air Terminal)</td></tr><tr><td>MDT</td><td>Harrisburg International Airport</td></tr><tr><td>DCA</td><td>Ronald Reagan Washington National Airport</td></tr><tr><td>STT</td><td>Cyril E. King Airport</td></tr><tr><td>SJU</td><td>Luis Muñoz Marín International Airport</td></tr><tr><td>MIA</td><td>Miami International Airport</td></tr><tr><td>MYR</td><td>Myrtle Beach International Airport</td></tr><tr><td>ANC</td><td>Ted Stevens Anchorage International Airport</td></tr><tr><td>ILM</td><td>Wilmington International Airport</td></tr><tr><td>SRQ</td><td>Sarasota-Bradenton International Airport</td></tr><tr><td>PNS</td><td>Pensacola International Airport (Pensacola Gulf Coast Regional Airport)</td></tr><tr><td>CAE</td><td>Columbia Metropolitan Airport</td></tr><tr><td>MLB</td><td>Melbourne International Airport</td></tr><tr><td>MOB</td><td>Mobile Regional Airport</td></tr><tr><td>DAB</td><td>Daytona Beach International Airport</td></tr><tr><td>GPT</td><td>Gulfport-Biloxi International Airport</td></tr><tr><td>VPS</td><td>Destin-Fort Walton Beach Airport/Eglin AFB</td></tr><tr><td>TLH</td><td>Tallahassee International Airport</td></tr><tr><td>MCN</td><td>null</td></tr><tr><td>VLD</td><td>Valdosta Regional Airport</td></tr><tr><td>AVL</td><td>Asheville Regional Airport</td></tr><tr><td>BTR</td><td>Baton Rouge Metropolitan Airport</td></tr><tr><td>CSG</td><td>Columbus Metropolitan Airport</td></tr><tr><td>TRI</td><td>Tri-Cities Regional Airport</td></tr><tr><td>SWF</td><td>Stewart International Airport</td></tr><tr><td>BQK</td><td>Brunswick Golden Isles Airport</td></tr><tr><td>CHA</td><td>Chattanooga Metropolitan Airport (Lovell Field)</td></tr><tr><td>MEI</td><td>Meridian Regional Airport</td></tr><tr><td>MGM</td><td>Montgomery Regional Airport</td></tr><tr><td>FAY</td><td>Fayetteville Regional Airport</td></tr><tr><td>EWN</td><td>Coastal Carolina Regional Airport (Craven County Regional)</td></tr><tr><td>SCE</td><td>University Park Airport</td></tr><tr><td>LFT</td><td>Lafayette Regional Airport</td></tr><tr><td>DHN</td><td>Dothan Regional Airport</td></tr><tr><td>EYW</td><td>Key West International Airport</td></tr><tr><td>EVV</td><td>Evansville Regional Airport</td></tr><tr><td>SHV</td><td>Shreveport Regional Airport</td></tr><tr><td>PFN</td><td>null</td></tr><tr><td>GNV</td><td>Gainesville Regional Airport</td></tr><tr><td>PHF</td><td>Newport News/Williamsburg International Airport</td></tr><tr><td>FNT</td><td>Bishop International Airport</td></tr><tr><td>AGS</td><td>Augusta Regional Airport (Bush Field)</td></tr><tr><td>PWM</td><td>Portland International Jetport</td></tr><tr><td>ABY</td><td>Southwest Georgia Regional Airport</td></tr><tr><td>AEX</td><td>Alexandria International Airport</td></tr><tr><td>CHO</td><td>Charlottesville-Albemarle Airport</td></tr><tr><td>OAJ</td><td>Albert J. Ellis Airport</td></tr><tr><td>MFE</td><td>McAllen-Miller International Airport (McAllen Miller International)</td></tr><tr><td>FSM</td><td>Fort Smith Regional Airport</td></tr><tr><td>GRK</td><td>Killeen-Fort Hood Regional Airport</td></tr><tr><td>MLU</td><td>Monroe Regional Airport</td></tr><tr><td>FLO</td><td>null</td></tr><tr><td>HHH</td><td>null</td></tr><tr><td>TOL</td><td>Toledo Express Airport</td></tr><tr><td>LYH</td><td>null</td></tr><tr><td>GTR</td><td>Golden Triangle Regional Airport</td></tr><tr><td>ACY</td><td>Atlantic City International Airport</td></tr><tr><td>BGR</td><td>Bangor International Airport</td></tr><tr><td>ITO</td><td>Hilo International Airport</td></tr><tr><td>LAW</td><td>Lawton-Fort Sill Regional Airport</td></tr><tr><td>TYR</td><td>Tyler Pounds Regional Airport</td></tr><tr><td>CLL</td><td>Easterwood Airport</td></tr><tr><td>ABI</td><td>Abilene Regional Airport</td></tr><tr><td>TXK</td><td>Texarkana Regional Airport (Webb Field)</td></tr><tr><td>ACT</td><td>Waco Regional Airport</td></tr><tr><td>SPS</td><td>Wichita Falls Municipal Airport/Sheppard AFB</td></tr><tr><td>SJT</td><td>San Angelo Regional Airport (Mathis Field)</td></tr><tr><td>GGG</td><td>East Texas Regional Airport</td></tr><tr><td>LRD</td><td>Laredo International Airport</td></tr><tr><td>CMI</td><td>University of Illinois - Willard Airport</td></tr><tr><td>ROW</td><td>Roswell International Air Center</td></tr><tr><td>MQT</td><td>Sawyer International Airport</td></tr><tr><td>RST</td><td>Rochester International Airport</td></tr><tr><td>LSE</td><td>La Crosse Regional Airport</td></tr><tr><td>DBQ</td><td>Dubuque Regional Airport</td></tr><tr><td>STX</td><td>Henry E. Rohlsen Airport</td></tr><tr><td>SIT</td><td>Sitka Rocky Gutierrez Airport</td></tr><tr><td>JNU</td><td>Juneau International Airport</td></tr><tr><td>CDV</td><td>Merle K. (Mudhole) Smith Airport</td></tr><tr><td>PSG</td><td>Petersburg James A. Johnson Airport</td></tr><tr><td>YAK</td><td>Yakutat Airport</td></tr><tr><td>KTN</td><td>Ketchikan International Airport</td></tr><tr><td>FAI</td><td>Fairbanks International Airport</td></tr><tr><td>BRW</td><td>Wiley Post-Will Rogers Memorial Airport</td></tr><tr><td>OTZ</td><td>Ralph Wien Memorial Airport</td></tr><tr><td>BET</td><td>Bethel Airport</td></tr><tr><td>ADQ</td><td>Kodiak Airport</td></tr><tr><td>WRG</td><td>Wrangell Airport</td></tr><tr><td>SCC</td><td>Deadhorse Airport (Prudhoe Bay Airport)</td></tr><tr><td>OME</td><td>Nome Airport</td></tr><tr><td>ADK</td><td>Adak Airport</td></tr><tr><td>PSE</td><td>Mercedita Airport</td></tr><tr><td>BQN</td><td>Rafael Hernández Airport</td></tr><tr><td>MKG</td><td>Muskegon County Airport</td></tr><tr><td>DLG</td><td>Dillingham Airport</td></tr><tr><td>AKN</td><td>King Salmon Airport</td></tr><tr><td>LWB</td><td>null</td></tr><tr><td>WYS</td><td>Westerly State Airport</td></tr></tbody></table></div>"
      ]
     },
     "metadata": {
      "application/vnd.databricks.v1+output": {
       "addedWidgets": {},
       "aggData": [],
       "aggError": "",
       "aggOverflow": false,
       "aggSchema": [],
       "aggSeriesLimitReached": false,
       "aggType": "",
       "arguments": {},
       "columnCustomDisplayInfos": {},
       "data": [
        [
         "BWI",
         "Baltimore-Washington International Airport"
        ],
        [
         "LAS",
         "McCarran International Airport"
        ],
        [
         "MCO",
         "Orlando International Airport"
        ],
        [
         "PHX",
         "Phoenix Sky Harbor International Airport"
        ],
        [
         "TPA",
         "Tampa International Airport"
        ],
        [
         "FLL",
         "Fort Lauderdale-Hollywood International Airport"
        ],
        [
         "MDW",
         "Chicago Midway International Airport"
        ],
        [
         "PBI",
         "Palm Beach International Airport"
        ],
        [
         "HOU",
         "William P. Hobby Airport"
        ],
        [
         "BHM",
         "Birmingham-Shuttlesworth International Airport"
        ],
        [
         "BNA",
         "Nashville International Airport"
        ],
        [
         "PHL",
         "Philadelphia International Airport"
        ],
        [
         "ABQ",
         "Albuquerque International Sunport"
        ],
        [
         "ALB",
         "Albany International Airport"
        ],
        [
         "AMA",
         "Rick Husband Amarillo International Airport"
        ],
        [
         "AUS",
         "Austin-Bergstrom International Airport"
        ],
        [
         "BDL",
         "Bradley International Airport"
        ],
        [
         "BOI",
         "Boise Airport (Boise Air Terminal)"
        ],
        [
         "BUF",
         "Buffalo Niagara International Airport"
        ],
        [
         "BUR",
         "Bob Hope Airport (Hollywood Burbank Airport)"
        ],
        [
         "CMH",
         "Port Columbus International Airport"
        ],
        [
         "DEN",
         "Denver International Airport"
        ],
        [
         "ELP",
         "El Paso International Airport"
        ],
        [
         "GEG",
         "Spokane International Airport"
        ],
        [
         "IAD",
         "Washington Dulles International Airport"
        ],
        [
         "IND",
         "Indianapolis International Airport"
        ],
        [
         "ISP",
         "Long Island MacArthur Airport"
        ],
        [
         "LAX",
         "Los Angeles International Airport"
        ],
        [
         "LBB",
         "Lubbock Preston Smith International Airport"
        ],
        [
         "MAF",
         "Midland International Airport"
        ],
        [
         "MCI",
         "Kansas City International Airport"
        ],
        [
         "MSY",
         "Louis Armstrong New Orleans International Airport"
        ],
        [
         "OAK",
         "Oakland International Airport"
        ],
        [
         "OMA",
         "Eppley Airfield"
        ],
        [
         "ONT",
         "Ontario International Airport"
        ],
        [
         "ORF",
         "Norfolk International Airport"
        ],
        [
         "PDX",
         "Portland International Airport"
        ],
        [
         "PIT",
         "Pittsburgh International Airport"
        ],
        [
         "PVD",
         "Theodore Francis Green State Airport"
        ],
        [
         "RDU",
         "Raleigh-Durham International Airport"
        ],
        [
         "RNO",
         "Reno/Tahoe International Airport"
        ],
        [
         "SAN",
         "San Diego International Airport (Lindbergh Field)"
        ],
        [
         "SAT",
         "San Antonio International Airport"
        ],
        [
         "SDF",
         "Louisville International Airport (Standiford Field)"
        ],
        [
         "SFO",
         "San Francisco International Airport"
        ],
        [
         "SJC",
         "Norman Y. Mineta San José International Airport"
        ],
        [
         "SLC",
         "Salt Lake City International Airport"
        ],
        [
         "SMF",
         "Sacramento International Airport"
        ],
        [
         "SNA",
         "John Wayne Airport (Orange County Airport)"
        ],
        [
         "STL",
         "St. Louis International Airport at Lambert Field"
        ],
        [
         "TUL",
         "Tulsa International Airport"
        ],
        [
         "TUS",
         "Tucson International Airport"
        ],
        [
         "DAL",
         "Dallas Love Field"
        ],
        [
         "OKC",
         "Will Rogers World Airport"
        ],
        [
         "SEA",
         "Seattle-Tacoma International Airport"
        ],
        [
         "CLE",
         "Cleveland Hopkins International Airport"
        ],
        [
         "DTW",
         "Detroit Metropolitan Airport"
        ],
        [
         "JAN",
         "Jackson-Evers International Airport"
        ],
        [
         "MHT",
         "Manchester-Boston Regional Airport"
        ],
        [
         "RSW",
         "Southwest Florida International Airport"
        ],
        [
         "LIT",
         "Bill and Hillary Clinton National Airport (Adams Field)"
        ],
        [
         "JAX",
         "Jacksonville International Airport"
        ],
        [
         "HRL",
         "Valley International Airport"
        ],
        [
         "CRP",
         "Corpus Christi International Airport"
        ],
        [
         "CVG",
         "Cincinnati/Northern Kentucky International Airport"
        ],
        [
         "DFW",
         "Dallas/Fort Worth International Airport"
        ],
        [
         "MSP",
         "Minneapolis-Saint Paul International Airport"
        ],
        [
         "ATL",
         "Hartsfield-Jackson Atlanta International Airport"
        ],
        [
         "GSP",
         "Greenville-Spartanburg International Airport"
        ],
        [
         "ORD",
         "Chicago O'Hare International Airport"
        ],
        [
         "MKE",
         "General Mitchell International Airport"
        ],
        [
         "MSN",
         "Dane County Regional Airport"
        ],
        [
         "EWR",
         "Newark Liberty International Airport"
        ],
        [
         "SUN",
         "Friedman Memorial Airport"
        ],
        [
         "SGU",
         "St. George Regional Airport"
        ],
        [
         "TWF",
         "Magic Valley Regional Airport (Joslin Field)"
        ],
        [
         "SBA",
         "Santa Barbara Municipal Airport (Santa Barbara Airport)"
        ],
        [
         "IDA",
         "Idaho Falls Regional Airport"
        ],
        [
         "BZN",
         "Bozeman Yellowstone International Airport (Gallatin Field Airport)"
        ],
        [
         "RAP",
         "Rapid City Regional Airport"
        ],
        [
         "SLE",
         null
        ],
        [
         "MSO",
         "Missoula International Airport"
        ],
        [
         "BIL",
         "Billings Logan International Airport"
        ],
        [
         "PSP",
         "Palm Springs International Airport"
        ],
        [
         "LGB",
         "Long Beach Airport (Daugherty Field)"
        ],
        [
         "COS",
         "City of Colorado Springs Municipal Airport"
        ],
        [
         "GTF",
         "Great Falls International Airport"
        ],
        [
         "MEM",
         "Memphis International Airport"
        ],
        [
         "JAC",
         "Jackson Hole Airport"
        ],
        [
         "ASE",
         "Aspen-Pitkin County Airport"
        ],
        [
         "FCA",
         "Glacier Park International Airport"
        ],
        [
         "PSC",
         "Tri-Cities Airport"
        ],
        [
         "ACV",
         "Arcata Airport"
        ],
        [
         "RDD",
         "Redding Municipal Airport"
        ],
        [
         "FAT",
         "Fresno Yosemite International Airport"
        ],
        [
         "EUG",
         "Eugene Airport (Mahlon Sweet Field)"
        ],
        [
         "MOD",
         null
        ],
        [
         "LEX",
         "Blue Grass Airport"
        ],
        [
         "BTV",
         "Burlington International Airport"
        ],
        [
         "ROA",
         "Roanoke Regional Airport (Woodrum Field)"
        ],
        [
         "CHS",
         "Charleston International Airport/Charleston AFB"
        ],
        [
         "FSD",
         "Sioux Falls Regional Airport"
        ],
        [
         "PIA",
         "General Wayne A. Downing Peoria International Airport"
        ],
        [
         "LNK",
         "Lincoln Airport (Lincoln Municipal)"
        ],
        [
         "GUC",
         "Gunnison-Crested Butte Regional Airport"
        ],
        [
         "AZO",
         "Kalamazoo/Battle Creek International Airport"
        ],
        [
         "TVC",
         "Cherry Capital Airport"
        ],
        [
         "IAH",
         "George Bush Intercontinental Airport"
        ],
        [
         "SAV",
         "Savannah/Hilton Head International Airport"
        ],
        [
         "CRW",
         "Yeager Airport"
        ],
        [
         "ATW",
         "Appleton International Airport"
        ],
        [
         "TYS",
         "McGhee Tyson Airport"
        ],
        [
         "AVP",
         "Wilkes-Barre/Scranton International Airport"
        ],
        [
         "FAR",
         "Hector International Airport"
        ],
        [
         "GJT",
         "Grand Junction Regional Airport (Walker Field)"
        ],
        [
         "ABE",
         "Lehigh Valley International Airport"
        ],
        [
         "XNA",
         "Northwest Arkansas Regional Airport"
        ],
        [
         "MLI",
         "Quad City International Airport"
        ],
        [
         "GRR",
         "Gerald R. Ford International Airport"
        ],
        [
         "DSM",
         "Des Moines International Airport"
        ],
        [
         "GRB",
         "Green Bay-Austin Straubel International Airport"
        ],
        [
         "DAY",
         "James M. Cox Dayton International Airport"
        ],
        [
         "CWA",
         "Central Wisconsin Airport"
        ],
        [
         "SGF",
         "Springfield-Branson National Airport"
        ],
        [
         "BIS",
         "Bismarck Municipal Airport"
        ],
        [
         "HSV",
         "Huntsville International Airport"
        ],
        [
         "HDN",
         "Yampa Valley Airport (Yampa Valley Regional)"
        ],
        [
         "MFR",
         "Rogue Valley International Airport"
        ],
        [
         "LAN",
         "Capital Region International Airport ( Lansing Capital City)"
        ],
        [
         "SYR",
         "Syracuse Hancock International Airport"
        ],
        [
         "YUM",
         "Yuma International Airport"
        ],
        [
         "SBP",
         "San Luis Obispo County Regional Airport (McChesney Field)"
        ],
        [
         "RDM",
         "Redmond Municipal Airport (Roberts Field)"
        ],
        [
         "MTJ",
         "Montrose Regional Airport"
        ],
        [
         "MRY",
         "Monterey Regional Airport (Monterey Peninsula Airport)"
        ],
        [
         "BFL",
         "Meadows Field"
        ],
        [
         "CID",
         "The Eastern Iowa Airport"
        ],
        [
         "SBN",
         "South Bend International Airport (South Bend Regional)"
        ],
        [
         "ICT",
         "Wichita Dwight D. Eisenhower National Airport (Wichita Mid-Continent Airport)"
        ],
        [
         "SPI",
         "Abraham Lincoln Capital Airport"
        ],
        [
         "FWA",
         "Fort Wayne International Airport"
        ],
        [
         "DRO",
         "Durango-La Plata County Airport"
        ],
        [
         "MBS",
         "MBS International Airport"
        ],
        [
         "PIH",
         "Pocatello Regional Airport"
        ],
        [
         "YKM",
         null
        ],
        [
         "SMX",
         "Santa Maria Public Airport (Capt G. Allan Hancock Field)"
        ],
        [
         "CEC",
         "Del Norte County Airport (Jack McNamara Field)"
        ],
        [
         "CIC",
         null
        ],
        [
         "PMD",
         null
        ],
        [
         "EKO",
         "Elko Regional Airport"
        ],
        [
         "IYK",
         null
        ],
        [
         "OXR",
         null
        ],
        [
         "IPL",
         null
        ],
        [
         "CLD",
         "McClellan-Palomar Airport"
        ],
        [
         "RFD",
         null
        ],
        [
         "CPR",
         "Natrona County International Airport"
        ],
        [
         "HLN",
         "Helena Regional Airport"
        ],
        [
         "BLI",
         "Bellingham International Airport"
        ],
        [
         "BTM",
         "Bert Mooney Airport"
        ],
        [
         "CAK",
         "Akron-Canton Regional Airport"
        ],
        [
         "COD",
         "Yellowstone Regional Airport"
        ],
        [
         "CLT",
         "Charlotte Douglas International Airport"
        ],
        [
         "CDC",
         "Cedar City Regional Airport"
        ],
        [
         "BMI",
         "Central Illinois Regional Airport at Bloomington-Normal"
        ],
        [
         "HPN",
         "Westchester County Airport"
        ],
        [
         "LWS",
         "Lewiston-Nez Perce County Airport"
        ],
        [
         "HNL",
         "Honolulu International Airport"
        ],
        [
         "KOA",
         "Kona International Airport at Keahole"
        ],
        [
         "OGG",
         "Kahului Airport"
        ],
        [
         "JFK",
         "John F. Kennedy International Airport (New York International Airport)"
        ],
        [
         "LIH",
         "Lihue Airport"
        ],
        [
         "BOS",
         "Gen. Edward Lawrence Logan International Airport"
        ],
        [
         "RIC",
         "Richmond International Airport"
        ],
        [
         "ROC",
         "Greater Rochester International Airport"
        ],
        [
         "EGE",
         "Eagle County Regional Airport"
        ],
        [
         "GSO",
         "Piedmont Triad International Airport"
        ],
        [
         "LGA",
         "LaGuardia Airport (Marine Air Terminal)"
        ],
        [
         "MDT",
         "Harrisburg International Airport"
        ],
        [
         "DCA",
         "Ronald Reagan Washington National Airport"
        ],
        [
         "STT",
         "Cyril E. King Airport"
        ],
        [
         "SJU",
         "Luis Muñoz Marín International Airport"
        ],
        [
         "MIA",
         "Miami International Airport"
        ],
        [
         "MYR",
         "Myrtle Beach International Airport"
        ],
        [
         "ANC",
         "Ted Stevens Anchorage International Airport"
        ],
        [
         "ILM",
         "Wilmington International Airport"
        ],
        [
         "SRQ",
         "Sarasota-Bradenton International Airport"
        ],
        [
         "PNS",
         "Pensacola International Airport (Pensacola Gulf Coast Regional Airport)"
        ],
        [
         "CAE",
         "Columbia Metropolitan Airport"
        ],
        [
         "MLB",
         "Melbourne International Airport"
        ],
        [
         "MOB",
         "Mobile Regional Airport"
        ],
        [
         "DAB",
         "Daytona Beach International Airport"
        ],
        [
         "GPT",
         "Gulfport-Biloxi International Airport"
        ],
        [
         "VPS",
         "Destin-Fort Walton Beach Airport/Eglin AFB"
        ],
        [
         "TLH",
         "Tallahassee International Airport"
        ],
        [
         "MCN",
         null
        ],
        [
         "VLD",
         "Valdosta Regional Airport"
        ],
        [
         "AVL",
         "Asheville Regional Airport"
        ],
        [
         "BTR",
         "Baton Rouge Metropolitan Airport"
        ],
        [
         "CSG",
         "Columbus Metropolitan Airport"
        ],
        [
         "TRI",
         "Tri-Cities Regional Airport"
        ],
        [
         "SWF",
         "Stewart International Airport"
        ],
        [
         "BQK",
         "Brunswick Golden Isles Airport"
        ],
        [
         "CHA",
         "Chattanooga Metropolitan Airport (Lovell Field)"
        ],
        [
         "MEI",
         "Meridian Regional Airport"
        ],
        [
         "MGM",
         "Montgomery Regional Airport"
        ],
        [
         "FAY",
         "Fayetteville Regional Airport"
        ],
        [
         "EWN",
         "Coastal Carolina Regional Airport (Craven County Regional)"
        ],
        [
         "SCE",
         "University Park Airport"
        ],
        [
         "LFT",
         "Lafayette Regional Airport"
        ],
        [
         "DHN",
         "Dothan Regional Airport"
        ],
        [
         "EYW",
         "Key West International Airport"
        ],
        [
         "EVV",
         "Evansville Regional Airport"
        ],
        [
         "SHV",
         "Shreveport Regional Airport"
        ],
        [
         "PFN",
         null
        ],
        [
         "GNV",
         "Gainesville Regional Airport"
        ],
        [
         "PHF",
         "Newport News/Williamsburg International Airport"
        ],
        [
         "FNT",
         "Bishop International Airport"
        ],
        [
         "AGS",
         "Augusta Regional Airport (Bush Field)"
        ],
        [
         "PWM",
         "Portland International Jetport"
        ],
        [
         "ABY",
         "Southwest Georgia Regional Airport"
        ],
        [
         "AEX",
         "Alexandria International Airport"
        ],
        [
         "CHO",
         "Charlottesville-Albemarle Airport"
        ],
        [
         "OAJ",
         "Albert J. Ellis Airport"
        ],
        [
         "MFE",
         "McAllen-Miller International Airport (McAllen Miller International)"
        ],
        [
         "FSM",
         "Fort Smith Regional Airport"
        ],
        [
         "GRK",
         "Killeen-Fort Hood Regional Airport"
        ],
        [
         "MLU",
         "Monroe Regional Airport"
        ],
        [
         "FLO",
         null
        ],
        [
         "HHH",
         null
        ],
        [
         "TOL",
         "Toledo Express Airport"
        ],
        [
         "LYH",
         null
        ],
        [
         "GTR",
         "Golden Triangle Regional Airport"
        ],
        [
         "ACY",
         "Atlantic City International Airport"
        ],
        [
         "BGR",
         "Bangor International Airport"
        ],
        [
         "ITO",
         "Hilo International Airport"
        ],
        [
         "LAW",
         "Lawton-Fort Sill Regional Airport"
        ],
        [
         "TYR",
         "Tyler Pounds Regional Airport"
        ],
        [
         "CLL",
         "Easterwood Airport"
        ],
        [
         "ABI",
         "Abilene Regional Airport"
        ],
        [
         "TXK",
         "Texarkana Regional Airport (Webb Field)"
        ],
        [
         "ACT",
         "Waco Regional Airport"
        ],
        [
         "SPS",
         "Wichita Falls Municipal Airport/Sheppard AFB"
        ],
        [
         "SJT",
         "San Angelo Regional Airport (Mathis Field)"
        ],
        [
         "GGG",
         "East Texas Regional Airport"
        ],
        [
         "LRD",
         "Laredo International Airport"
        ],
        [
         "CMI",
         "University of Illinois - Willard Airport"
        ],
        [
         "ROW",
         "Roswell International Air Center"
        ],
        [
         "MQT",
         "Sawyer International Airport"
        ],
        [
         "RST",
         "Rochester International Airport"
        ],
        [
         "LSE",
         "La Crosse Regional Airport"
        ],
        [
         "DBQ",
         "Dubuque Regional Airport"
        ],
        [
         "STX",
         "Henry E. Rohlsen Airport"
        ],
        [
         "SIT",
         "Sitka Rocky Gutierrez Airport"
        ],
        [
         "JNU",
         "Juneau International Airport"
        ],
        [
         "CDV",
         "Merle K. (Mudhole) Smith Airport"
        ],
        [
         "PSG",
         "Petersburg James A. Johnson Airport"
        ],
        [
         "YAK",
         "Yakutat Airport"
        ],
        [
         "KTN",
         "Ketchikan International Airport"
        ],
        [
         "FAI",
         "Fairbanks International Airport"
        ],
        [
         "BRW",
         "Wiley Post-Will Rogers Memorial Airport"
        ],
        [
         "OTZ",
         "Ralph Wien Memorial Airport"
        ],
        [
         "BET",
         "Bethel Airport"
        ],
        [
         "ADQ",
         "Kodiak Airport"
        ],
        [
         "WRG",
         "Wrangell Airport"
        ],
        [
         "SCC",
         "Deadhorse Airport (Prudhoe Bay Airport)"
        ],
        [
         "OME",
         "Nome Airport"
        ],
        [
         "ADK",
         "Adak Airport"
        ],
        [
         "PSE",
         "Mercedita Airport"
        ],
        [
         "BQN",
         "Rafael Hernández Airport"
        ],
        [
         "MKG",
         "Muskegon County Airport"
        ],
        [
         "DLG",
         "Dillingham Airport"
        ],
        [
         "AKN",
         "King Salmon Airport"
        ],
        [
         "LWB",
         null
        ],
        [
         "WYS",
         "Westerly State Airport"
        ]
       ],
       "datasetInfos": [],
       "dbfsResultPath": null,
       "isJsonSchema": true,
       "metadata": {},
       "overflow": false,
       "plotOptions": {
        "customPlotOptions": {},
        "displayType": "table",
        "pivotAggregation": null,
        "pivotColumns": null,
        "xColumns": null,
        "yColumns": null
       },
       "removedWidgets": [],
       "schema": [
        {
         "metadata": "{}",
         "name": "Dest",
         "type": "\"string\""
        },
        {
         "metadata": "{}",
         "name": "Dest_Airport",
         "type": "\"string\""
        }
       ],
       "type": "table"
      }
     },
     "output_type": "display_data"
    }
   ],
   "source": [
    "distinct_dest_df = df[[\"Dest\", \"Dest_Airport\"]].drop_duplicates()\n",
    "display(distinct_dest_df)\n",
    "\n",
    "\n"
   ]
  },
  {
   "cell_type": "code",
   "execution_count": 0,
   "metadata": {
    "application/vnd.databricks.v1+cell": {
     "cellMetadata": {
      "byteLimit": 2048000,
      "rowLimit": 10000
     },
     "inputWidgets": {},
     "nuid": "e70f3f26-b815-4160-b20d-f09da23c249f",
     "showTitle": false,
     "tableResultSettingsMap": {},
     "title": ""
    }
   },
   "outputs": [
    {
     "output_type": "display_data",
     "data": {
      "text/html": [
       "<style scoped>\n",
       "  .table-result-container {\n",
       "    max-height: 300px;\n",
       "    overflow: auto;\n",
       "  }\n",
       "  table, th, td {\n",
       "    border: 1px solid black;\n",
       "    border-collapse: collapse;\n",
       "  }\n",
       "  th, td {\n",
       "    padding: 5px;\n",
       "  }\n",
       "  th {\n",
       "    text-align: left;\n",
       "  }\n",
       "</style><div class='table-result-container'><table class='table-result'><thead style='background-color: white'><tr><th>Origin</th><th>Org_Airport</th></tr></thead><tbody><tr><td>IND</td><td>Indianapolis International Airport</td></tr><tr><td>ISP</td><td>Long Island MacArthur Airport</td></tr><tr><td>JAN</td><td>Jackson-Evers International Airport</td></tr><tr><td>JAX</td><td>Jacksonville International Airport</td></tr><tr><td>LAS</td><td>McCarran International Airport</td></tr><tr><td>LAX</td><td>Los Angeles International Airport</td></tr><tr><td>LBB</td><td>Lubbock Preston Smith International Airport</td></tr><tr><td>LIT</td><td>Bill and Hillary Clinton National Airport (Adams Field)</td></tr><tr><td>MAF</td><td>Midland International Airport</td></tr><tr><td>MCI</td><td>Kansas City International Airport</td></tr><tr><td>MCO</td><td>Orlando International Airport</td></tr><tr><td>MDW</td><td>Chicago Midway International Airport</td></tr><tr><td>MHT</td><td>Manchester-Boston Regional Airport</td></tr><tr><td>MSY</td><td>Louis Armstrong New Orleans International Airport</td></tr><tr><td>OAK</td><td>Oakland International Airport</td></tr><tr><td>OKC</td><td>Will Rogers World Airport</td></tr><tr><td>OMA</td><td>Eppley Airfield</td></tr><tr><td>ONT</td><td>Ontario International Airport</td></tr><tr><td>ORF</td><td>Norfolk International Airport</td></tr><tr><td>PBI</td><td>Palm Beach International Airport</td></tr><tr><td>PDX</td><td>Portland International Airport</td></tr><tr><td>PHL</td><td>Philadelphia International Airport</td></tr><tr><td>PHX</td><td>Phoenix Sky Harbor International Airport</td></tr><tr><td>PIT</td><td>Pittsburgh International Airport</td></tr><tr><td>PVD</td><td>Theodore Francis Green State Airport</td></tr><tr><td>RDU</td><td>Raleigh-Durham International Airport</td></tr><tr><td>RNO</td><td>Reno/Tahoe International Airport</td></tr><tr><td>RSW</td><td>Southwest Florida International Airport</td></tr><tr><td>SAN</td><td>San Diego International Airport (Lindbergh Field)</td></tr><tr><td>SAT</td><td>San Antonio International Airport</td></tr><tr><td>SDF</td><td>Louisville International Airport (Standiford Field)</td></tr><tr><td>SEA</td><td>Seattle-Tacoma International Airport</td></tr><tr><td>SFO</td><td>San Francisco International Airport</td></tr><tr><td>SJC</td><td>Norman Y. Mineta San José International Airport</td></tr><tr><td>SLC</td><td>Salt Lake City International Airport</td></tr><tr><td>SMF</td><td>Sacramento International Airport</td></tr><tr><td>SNA</td><td>John Wayne Airport (Orange County Airport)</td></tr><tr><td>STL</td><td>St. Louis International Airport at Lambert Field</td></tr><tr><td>TPA</td><td>Tampa International Airport</td></tr><tr><td>TUL</td><td>Tulsa International Airport</td></tr><tr><td>TUS</td><td>Tucson International Airport</td></tr><tr><td>ABQ</td><td>Albuquerque International Sunport</td></tr><tr><td>AMA</td><td>Rick Husband Amarillo International Airport</td></tr><tr><td>AUS</td><td>Austin-Bergstrom International Airport</td></tr><tr><td>BHM</td><td>Birmingham-Shuttlesworth International Airport</td></tr><tr><td>BNA</td><td>Nashville International Airport</td></tr><tr><td>BOI</td><td>Boise Airport (Boise Air Terminal)</td></tr><tr><td>BUF</td><td>Buffalo Niagara International Airport</td></tr><tr><td>BUR</td><td>Bob Hope Airport (Hollywood Burbank Airport)</td></tr><tr><td>BWI</td><td>Baltimore-Washington International Airport</td></tr><tr><td>CMH</td><td>Port Columbus International Airport</td></tr><tr><td>CRP</td><td>Corpus Christi International Airport</td></tr><tr><td>DAL</td><td>Dallas Love Field</td></tr><tr><td>DEN</td><td>Denver International Airport</td></tr><tr><td>ELP</td><td>El Paso International Airport</td></tr><tr><td>FLL</td><td>Fort Lauderdale-Hollywood International Airport</td></tr><tr><td>GEG</td><td>Spokane International Airport</td></tr><tr><td>HOU</td><td>William P. Hobby Airport</td></tr><tr><td>HRL</td><td>Valley International Airport</td></tr><tr><td>IAD</td><td>Washington Dulles International Airport</td></tr><tr><td>ALB</td><td>Albany International Airport</td></tr><tr><td>BDL</td><td>Bradley International Airport</td></tr><tr><td>DTW</td><td>Detroit Metropolitan Airport</td></tr><tr><td>CLE</td><td>Cleveland Hopkins International Airport</td></tr><tr><td>ORD</td><td>Chicago O'Hare International Airport</td></tr><tr><td>ATL</td><td>Hartsfield-Jackson Atlanta International Airport</td></tr><tr><td>CVG</td><td>Cincinnati/Northern Kentucky International Airport</td></tr><tr><td>MKE</td><td>General Mitchell International Airport</td></tr><tr><td>MSP</td><td>Minneapolis-Saint Paul International Airport</td></tr><tr><td>EWR</td><td>Newark Liberty International Airport</td></tr><tr><td>SUN</td><td>Friedman Memorial Airport</td></tr><tr><td>SGU</td><td>St. George Regional Airport</td></tr><tr><td>MSO</td><td>Missoula International Airport</td></tr><tr><td>BZN</td><td>Bozeman Yellowstone International Airport (Gallatin Field Airport)</td></tr><tr><td>GTF</td><td>Great Falls International Airport</td></tr><tr><td>BIL</td><td>Billings Logan International Airport</td></tr><tr><td>PSP</td><td>Palm Springs International Airport</td></tr><tr><td>HDN</td><td>Yampa Valley Airport (Yampa Valley Regional)</td></tr><tr><td>IAH</td><td>George Bush Intercontinental Airport</td></tr><tr><td>DFW</td><td>Dallas/Fort Worth International Airport</td></tr><tr><td>ASE</td><td>Aspen-Pitkin County Airport</td></tr><tr><td>JAC</td><td>Jackson Hole Airport</td></tr><tr><td>SBP</td><td>San Luis Obispo County Regional Airport (McChesney Field)</td></tr><tr><td>FAT</td><td>Fresno Yosemite International Airport</td></tr><tr><td>EUG</td><td>Eugene Airport (Mahlon Sweet Field)</td></tr><tr><td>MOD</td><td>null</td></tr><tr><td>LEX</td><td>Blue Grass Airport</td></tr><tr><td>FSD</td><td>Sioux Falls Regional Airport</td></tr><tr><td>BTV</td><td>Burlington International Airport</td></tr><tr><td>ROA</td><td>Roanoke Regional Airport (Woodrum Field)</td></tr><tr><td>MEM</td><td>Memphis International Airport</td></tr><tr><td>FAR</td><td>Hector International Airport</td></tr><tr><td>XNA</td><td>Northwest Arkansas Regional Airport</td></tr><tr><td>COS</td><td>City of Colorado Springs Municipal Airport</td></tr><tr><td>GUC</td><td>Gunnison-Crested Butte Regional Airport</td></tr><tr><td>AZO</td><td>Kalamazoo/Battle Creek International Airport</td></tr><tr><td>TVC</td><td>Cherry Capital Airport</td></tr><tr><td>CRW</td><td>Yeager Airport</td></tr><tr><td>TYS</td><td>McGhee Tyson Airport</td></tr><tr><td>SAV</td><td>Savannah/Hilton Head International Airport</td></tr><tr><td>ICT</td><td>Wichita Dwight D. Eisenhower National Airport (Wichita Mid-Continent Airport)</td></tr><tr><td>GJT</td><td>Grand Junction Regional Airport (Walker Field)</td></tr><tr><td>PIA</td><td>General Wayne A. Downing Peoria International Airport</td></tr><tr><td>SGF</td><td>Springfield-Branson National Airport</td></tr><tr><td>MSN</td><td>Dane County Regional Airport</td></tr><tr><td>CID</td><td>The Eastern Iowa Airport</td></tr><tr><td>MLI</td><td>Quad City International Airport</td></tr><tr><td>DRO</td><td>Durango-La Plata County Airport</td></tr><tr><td>CHS</td><td>Charleston International Airport/Charleston AFB</td></tr><tr><td>DSM</td><td>Des Moines International Airport</td></tr><tr><td>ATW</td><td>Appleton International Airport</td></tr><tr><td>GRB</td><td>Green Bay-Austin Straubel International Airport</td></tr><tr><td>FWA</td><td>Fort Wayne International Airport</td></tr><tr><td>DAY</td><td>James M. Cox Dayton International Airport</td></tr><tr><td>LNK</td><td>Lincoln Airport (Lincoln Municipal)</td></tr><tr><td>FCA</td><td>Glacier Park International Airport</td></tr><tr><td>IDA</td><td>Idaho Falls Regional Airport</td></tr><tr><td>HSV</td><td>Huntsville International Airport</td></tr><tr><td>CWA</td><td>Central Wisconsin Airport</td></tr><tr><td>MFR</td><td>Rogue Valley International Airport</td></tr><tr><td>PSC</td><td>Tri-Cities Airport</td></tr><tr><td>SYR</td><td>Syracuse Hancock International Airport</td></tr><tr><td>SBA</td><td>Santa Barbara Municipal Airport (Santa Barbara Airport)</td></tr><tr><td>RAP</td><td>Rapid City Regional Airport</td></tr><tr><td>YUM</td><td>Yuma International Airport</td></tr><tr><td>RDM</td><td>Redmond Municipal Airport (Roberts Field)</td></tr><tr><td>LGB</td><td>Long Beach Airport (Daugherty Field)</td></tr><tr><td>MTJ</td><td>Montrose Regional Airport</td></tr><tr><td>RDD</td><td>Redding Municipal Airport</td></tr><tr><td>CLD</td><td>McClellan-Palomar Airport</td></tr><tr><td>SBN</td><td>South Bend International Airport (South Bend Regional)</td></tr><tr><td>HPN</td><td>Westchester County Airport</td></tr><tr><td>SPI</td><td>Abraham Lincoln Capital Airport</td></tr><tr><td>MBS</td><td>MBS International Airport</td></tr><tr><td>LAN</td><td>Capital Region International Airport ( Lansing Capital City)</td></tr><tr><td>TWF</td><td>Magic Valley Regional Airport (Joslin Field)</td></tr><tr><td>MRY</td><td>Monterey Regional Airport (Monterey Peninsula Airport)</td></tr><tr><td>SMX</td><td>Santa Maria Public Airport (Capt G. Allan Hancock Field)</td></tr><tr><td>ACV</td><td>Arcata Airport</td></tr><tr><td>BFL</td><td>Meadows Field</td></tr><tr><td>CEC</td><td>Del Norte County Airport (Jack McNamara Field)</td></tr><tr><td>CIC</td><td>null</td></tr><tr><td>PMD</td><td>null</td></tr><tr><td>EKO</td><td>Elko Regional Airport</td></tr><tr><td>IYK</td><td>null</td></tr><tr><td>OXR</td><td>null</td></tr><tr><td>IPL</td><td>null</td></tr><tr><td>PIH</td><td>Pocatello Regional Airport</td></tr><tr><td>CPR</td><td>Natrona County International Airport</td></tr><tr><td>BTM</td><td>Bert Mooney Airport</td></tr><tr><td>HLN</td><td>Helena Regional Airport</td></tr><tr><td>BLI</td><td>Bellingham International Airport</td></tr><tr><td>CAK</td><td>Akron-Canton Regional Airport</td></tr><tr><td>RFD</td><td>null</td></tr><tr><td>COD</td><td>Yellowstone Regional Airport</td></tr><tr><td>SLE</td><td>null</td></tr><tr><td>LWS</td><td>Lewiston-Nez Perce County Airport</td></tr><tr><td>GRR</td><td>Gerald R. Ford International Airport</td></tr><tr><td>AVP</td><td>Wilkes-Barre/Scranton International Airport</td></tr><tr><td>ABE</td><td>Lehigh Valley International Airport</td></tr><tr><td>BIS</td><td>Bismarck Municipal Airport</td></tr><tr><td>GSP</td><td>Greenville-Spartanburg International Airport</td></tr><tr><td>CDC</td><td>Cedar City Regional Airport</td></tr><tr><td>BMI</td><td>Central Illinois Regional Airport at Bloomington-Normal</td></tr><tr><td>YKM</td><td>null</td></tr><tr><td>CLT</td><td>Charlotte Douglas International Airport</td></tr><tr><td>HNL</td><td>Honolulu International Airport</td></tr><tr><td>KOA</td><td>Kona International Airport at Keahole</td></tr><tr><td>OGG</td><td>Kahului Airport</td></tr><tr><td>JFK</td><td>John F. Kennedy International Airport (New York International Airport)</td></tr><tr><td>LIH</td><td>Lihue Airport</td></tr><tr><td>MDT</td><td>Harrisburg International Airport</td></tr><tr><td>LGA</td><td>LaGuardia Airport (Marine Air Terminal)</td></tr><tr><td>RIC</td><td>Richmond International Airport</td></tr><tr><td>BOS</td><td>Gen. Edward Lawrence Logan International Airport</td></tr><tr><td>EGE</td><td>Eagle County Regional Airport</td></tr><tr><td>ROC</td><td>Greater Rochester International Airport</td></tr><tr><td>GSO</td><td>Piedmont Triad International Airport</td></tr><tr><td>DCA</td><td>Ronald Reagan Washington National Airport</td></tr><tr><td>SJU</td><td>Luis Muñoz Marín International Airport</td></tr><tr><td>STT</td><td>Cyril E. King Airport</td></tr><tr><td>MIA</td><td>Miami International Airport</td></tr><tr><td>ANC</td><td>Ted Stevens Anchorage International Airport</td></tr><tr><td>MYR</td><td>Myrtle Beach International Airport</td></tr><tr><td>STX</td><td>Henry E. Rohlsen Airport</td></tr><tr><td>ILM</td><td>Wilmington International Airport</td></tr><tr><td>VPS</td><td>Destin-Fort Walton Beach Airport/Eglin AFB</td></tr><tr><td>SRQ</td><td>Sarasota-Bradenton International Airport</td></tr><tr><td>PNS</td><td>Pensacola International Airport (Pensacola Gulf Coast Regional Airport)</td></tr><tr><td>DAB</td><td>Daytona Beach International Airport</td></tr><tr><td>CAE</td><td>Columbia Metropolitan Airport</td></tr><tr><td>GPT</td><td>Gulfport-Biloxi International Airport</td></tr><tr><td>MLB</td><td>Melbourne International Airport</td></tr><tr><td>PHF</td><td>Newport News/Williamsburg International Airport</td></tr><tr><td>MFE</td><td>McAllen-Miller International Airport (McAllen Miller International)</td></tr><tr><td>SHV</td><td>Shreveport Regional Airport</td></tr><tr><td>MGM</td><td>Montgomery Regional Airport</td></tr><tr><td>PFN</td><td>null</td></tr><tr><td>CHA</td><td>Chattanooga Metropolitan Airport (Lovell Field)</td></tr><tr><td>FAY</td><td>Fayetteville Regional Airport</td></tr><tr><td>AGS</td><td>Augusta Regional Airport (Bush Field)</td></tr><tr><td>MOB</td><td>Mobile Regional Airport</td></tr><tr><td>BTR</td><td>Baton Rouge Metropolitan Airport</td></tr><tr><td>BGR</td><td>Bangor International Airport</td></tr><tr><td>GNV</td><td>Gainesville Regional Airport</td></tr><tr><td>ABY</td><td>Southwest Georgia Regional Airport</td></tr><tr><td>DHN</td><td>Dothan Regional Airport</td></tr><tr><td>AVL</td><td>Asheville Regional Airport</td></tr><tr><td>EVV</td><td>Evansville Regional Airport</td></tr><tr><td>FNT</td><td>Bishop International Airport</td></tr><tr><td>TRI</td><td>Tri-Cities Regional Airport</td></tr><tr><td>OAJ</td><td>Albert J. Ellis Airport</td></tr><tr><td>AEX</td><td>Alexandria International Airport</td></tr><tr><td>SWF</td><td>Stewart International Airport</td></tr><tr><td>EWN</td><td>Coastal Carolina Regional Airport (Craven County Regional)</td></tr><tr><td>MEI</td><td>Meridian Regional Airport</td></tr><tr><td>PWM</td><td>Portland International Jetport</td></tr><tr><td>GRK</td><td>Killeen-Fort Hood Regional Airport</td></tr><tr><td>GTR</td><td>Golden Triangle Regional Airport</td></tr><tr><td>LFT</td><td>Lafayette Regional Airport</td></tr><tr><td>LYH</td><td>null</td></tr><tr><td>HHH</td><td>null</td></tr><tr><td>EYW</td><td>Key West International Airport</td></tr><tr><td>VLD</td><td>Valdosta Regional Airport</td></tr><tr><td>CSG</td><td>Columbus Metropolitan Airport</td></tr><tr><td>MLU</td><td>Monroe Regional Airport</td></tr><tr><td>TLH</td><td>Tallahassee International Airport</td></tr><tr><td>ACY</td><td>Atlantic City International Airport</td></tr><tr><td>FSM</td><td>Fort Smith Regional Airport</td></tr><tr><td>MCN</td><td>null</td></tr><tr><td>CHO</td><td>Charlottesville-Albemarle Airport</td></tr><tr><td>TOL</td><td>Toledo Express Airport</td></tr><tr><td>FLO</td><td>null</td></tr><tr><td>BQK</td><td>Brunswick Golden Isles Airport</td></tr><tr><td>SCE</td><td>University Park Airport</td></tr><tr><td>ITO</td><td>Hilo International Airport</td></tr><tr><td>LAW</td><td>Lawton-Fort Sill Regional Airport</td></tr><tr><td>SPS</td><td>Wichita Falls Municipal Airport/Sheppard AFB</td></tr><tr><td>ABI</td><td>Abilene Regional Airport</td></tr><tr><td>CLL</td><td>Easterwood Airport</td></tr><tr><td>TYR</td><td>Tyler Pounds Regional Airport</td></tr><tr><td>GGG</td><td>East Texas Regional Airport</td></tr><tr><td>ACT</td><td>Waco Regional Airport</td></tr><tr><td>SJT</td><td>San Angelo Regional Airport (Mathis Field)</td></tr><tr><td>TXK</td><td>Texarkana Regional Airport (Webb Field)</td></tr><tr><td>LRD</td><td>Laredo International Airport</td></tr><tr><td>CMI</td><td>University of Illinois - Willard Airport</td></tr><tr><td>ROW</td><td>Roswell International Air Center</td></tr><tr><td>RST</td><td>Rochester International Airport</td></tr><tr><td>MQT</td><td>Sawyer International Airport</td></tr><tr><td>LSE</td><td>La Crosse Regional Airport</td></tr><tr><td>DBQ</td><td>Dubuque Regional Airport</td></tr><tr><td>KTN</td><td>Ketchikan International Airport</td></tr><tr><td>JNU</td><td>Juneau International Airport</td></tr><tr><td>SIT</td><td>Sitka Rocky Gutierrez Airport</td></tr><tr><td>PSG</td><td>Petersburg James A. Johnson Airport</td></tr><tr><td>CDV</td><td>Merle K. (Mudhole) Smith Airport</td></tr><tr><td>YAK</td><td>Yakutat Airport</td></tr><tr><td>BET</td><td>Bethel Airport</td></tr><tr><td>BRW</td><td>Wiley Post-Will Rogers Memorial Airport</td></tr><tr><td>SCC</td><td>Deadhorse Airport (Prudhoe Bay Airport)</td></tr><tr><td>FAI</td><td>Fairbanks International Airport</td></tr><tr><td>ADQ</td><td>Kodiak Airport</td></tr><tr><td>WRG</td><td>Wrangell Airport</td></tr><tr><td>OME</td><td>Nome Airport</td></tr><tr><td>OTZ</td><td>Ralph Wien Memorial Airport</td></tr><tr><td>ADK</td><td>Adak Airport</td></tr><tr><td>PSE</td><td>Mercedita Airport</td></tr><tr><td>BQN</td><td>Rafael Hernández Airport</td></tr><tr><td>MKG</td><td>Muskegon County Airport</td></tr><tr><td>DLG</td><td>Dillingham Airport</td></tr><tr><td>AKN</td><td>King Salmon Airport</td></tr><tr><td>LWB</td><td>null</td></tr><tr><td>WYS</td><td>Westerly State Airport</td></tr></tbody></table></div>"
      ]
     },
     "metadata": {
      "application/vnd.databricks.v1+output": {
       "addedWidgets": {},
       "aggData": [],
       "aggError": "",
       "aggOverflow": false,
       "aggSchema": [],
       "aggSeriesLimitReached": false,
       "aggType": "",
       "arguments": {},
       "columnCustomDisplayInfos": {},
       "data": [
        [
         "IND",
         "Indianapolis International Airport"
        ],
        [
         "ISP",
         "Long Island MacArthur Airport"
        ],
        [
         "JAN",
         "Jackson-Evers International Airport"
        ],
        [
         "JAX",
         "Jacksonville International Airport"
        ],
        [
         "LAS",
         "McCarran International Airport"
        ],
        [
         "LAX",
         "Los Angeles International Airport"
        ],
        [
         "LBB",
         "Lubbock Preston Smith International Airport"
        ],
        [
         "LIT",
         "Bill and Hillary Clinton National Airport (Adams Field)"
        ],
        [
         "MAF",
         "Midland International Airport"
        ],
        [
         "MCI",
         "Kansas City International Airport"
        ],
        [
         "MCO",
         "Orlando International Airport"
        ],
        [
         "MDW",
         "Chicago Midway International Airport"
        ],
        [
         "MHT",
         "Manchester-Boston Regional Airport"
        ],
        [
         "MSY",
         "Louis Armstrong New Orleans International Airport"
        ],
        [
         "OAK",
         "Oakland International Airport"
        ],
        [
         "OKC",
         "Will Rogers World Airport"
        ],
        [
         "OMA",
         "Eppley Airfield"
        ],
        [
         "ONT",
         "Ontario International Airport"
        ],
        [
         "ORF",
         "Norfolk International Airport"
        ],
        [
         "PBI",
         "Palm Beach International Airport"
        ],
        [
         "PDX",
         "Portland International Airport"
        ],
        [
         "PHL",
         "Philadelphia International Airport"
        ],
        [
         "PHX",
         "Phoenix Sky Harbor International Airport"
        ],
        [
         "PIT",
         "Pittsburgh International Airport"
        ],
        [
         "PVD",
         "Theodore Francis Green State Airport"
        ],
        [
         "RDU",
         "Raleigh-Durham International Airport"
        ],
        [
         "RNO",
         "Reno/Tahoe International Airport"
        ],
        [
         "RSW",
         "Southwest Florida International Airport"
        ],
        [
         "SAN",
         "San Diego International Airport (Lindbergh Field)"
        ],
        [
         "SAT",
         "San Antonio International Airport"
        ],
        [
         "SDF",
         "Louisville International Airport (Standiford Field)"
        ],
        [
         "SEA",
         "Seattle-Tacoma International Airport"
        ],
        [
         "SFO",
         "San Francisco International Airport"
        ],
        [
         "SJC",
         "Norman Y. Mineta San José International Airport"
        ],
        [
         "SLC",
         "Salt Lake City International Airport"
        ],
        [
         "SMF",
         "Sacramento International Airport"
        ],
        [
         "SNA",
         "John Wayne Airport (Orange County Airport)"
        ],
        [
         "STL",
         "St. Louis International Airport at Lambert Field"
        ],
        [
         "TPA",
         "Tampa International Airport"
        ],
        [
         "TUL",
         "Tulsa International Airport"
        ],
        [
         "TUS",
         "Tucson International Airport"
        ],
        [
         "ABQ",
         "Albuquerque International Sunport"
        ],
        [
         "AMA",
         "Rick Husband Amarillo International Airport"
        ],
        [
         "AUS",
         "Austin-Bergstrom International Airport"
        ],
        [
         "BHM",
         "Birmingham-Shuttlesworth International Airport"
        ],
        [
         "BNA",
         "Nashville International Airport"
        ],
        [
         "BOI",
         "Boise Airport (Boise Air Terminal)"
        ],
        [
         "BUF",
         "Buffalo Niagara International Airport"
        ],
        [
         "BUR",
         "Bob Hope Airport (Hollywood Burbank Airport)"
        ],
        [
         "BWI",
         "Baltimore-Washington International Airport"
        ],
        [
         "CMH",
         "Port Columbus International Airport"
        ],
        [
         "CRP",
         "Corpus Christi International Airport"
        ],
        [
         "DAL",
         "Dallas Love Field"
        ],
        [
         "DEN",
         "Denver International Airport"
        ],
        [
         "ELP",
         "El Paso International Airport"
        ],
        [
         "FLL",
         "Fort Lauderdale-Hollywood International Airport"
        ],
        [
         "GEG",
         "Spokane International Airport"
        ],
        [
         "HOU",
         "William P. Hobby Airport"
        ],
        [
         "HRL",
         "Valley International Airport"
        ],
        [
         "IAD",
         "Washington Dulles International Airport"
        ],
        [
         "ALB",
         "Albany International Airport"
        ],
        [
         "BDL",
         "Bradley International Airport"
        ],
        [
         "DTW",
         "Detroit Metropolitan Airport"
        ],
        [
         "CLE",
         "Cleveland Hopkins International Airport"
        ],
        [
         "ORD",
         "Chicago O'Hare International Airport"
        ],
        [
         "ATL",
         "Hartsfield-Jackson Atlanta International Airport"
        ],
        [
         "CVG",
         "Cincinnati/Northern Kentucky International Airport"
        ],
        [
         "MKE",
         "General Mitchell International Airport"
        ],
        [
         "MSP",
         "Minneapolis-Saint Paul International Airport"
        ],
        [
         "EWR",
         "Newark Liberty International Airport"
        ],
        [
         "SUN",
         "Friedman Memorial Airport"
        ],
        [
         "SGU",
         "St. George Regional Airport"
        ],
        [
         "MSO",
         "Missoula International Airport"
        ],
        [
         "BZN",
         "Bozeman Yellowstone International Airport (Gallatin Field Airport)"
        ],
        [
         "GTF",
         "Great Falls International Airport"
        ],
        [
         "BIL",
         "Billings Logan International Airport"
        ],
        [
         "PSP",
         "Palm Springs International Airport"
        ],
        [
         "HDN",
         "Yampa Valley Airport (Yampa Valley Regional)"
        ],
        [
         "IAH",
         "George Bush Intercontinental Airport"
        ],
        [
         "DFW",
         "Dallas/Fort Worth International Airport"
        ],
        [
         "ASE",
         "Aspen-Pitkin County Airport"
        ],
        [
         "JAC",
         "Jackson Hole Airport"
        ],
        [
         "SBP",
         "San Luis Obispo County Regional Airport (McChesney Field)"
        ],
        [
         "FAT",
         "Fresno Yosemite International Airport"
        ],
        [
         "EUG",
         "Eugene Airport (Mahlon Sweet Field)"
        ],
        [
         "MOD",
         null
        ],
        [
         "LEX",
         "Blue Grass Airport"
        ],
        [
         "FSD",
         "Sioux Falls Regional Airport"
        ],
        [
         "BTV",
         "Burlington International Airport"
        ],
        [
         "ROA",
         "Roanoke Regional Airport (Woodrum Field)"
        ],
        [
         "MEM",
         "Memphis International Airport"
        ],
        [
         "FAR",
         "Hector International Airport"
        ],
        [
         "XNA",
         "Northwest Arkansas Regional Airport"
        ],
        [
         "COS",
         "City of Colorado Springs Municipal Airport"
        ],
        [
         "GUC",
         "Gunnison-Crested Butte Regional Airport"
        ],
        [
         "AZO",
         "Kalamazoo/Battle Creek International Airport"
        ],
        [
         "TVC",
         "Cherry Capital Airport"
        ],
        [
         "CRW",
         "Yeager Airport"
        ],
        [
         "TYS",
         "McGhee Tyson Airport"
        ],
        [
         "SAV",
         "Savannah/Hilton Head International Airport"
        ],
        [
         "ICT",
         "Wichita Dwight D. Eisenhower National Airport (Wichita Mid-Continent Airport)"
        ],
        [
         "GJT",
         "Grand Junction Regional Airport (Walker Field)"
        ],
        [
         "PIA",
         "General Wayne A. Downing Peoria International Airport"
        ],
        [
         "SGF",
         "Springfield-Branson National Airport"
        ],
        [
         "MSN",
         "Dane County Regional Airport"
        ],
        [
         "CID",
         "The Eastern Iowa Airport"
        ],
        [
         "MLI",
         "Quad City International Airport"
        ],
        [
         "DRO",
         "Durango-La Plata County Airport"
        ],
        [
         "CHS",
         "Charleston International Airport/Charleston AFB"
        ],
        [
         "DSM",
         "Des Moines International Airport"
        ],
        [
         "ATW",
         "Appleton International Airport"
        ],
        [
         "GRB",
         "Green Bay-Austin Straubel International Airport"
        ],
        [
         "FWA",
         "Fort Wayne International Airport"
        ],
        [
         "DAY",
         "James M. Cox Dayton International Airport"
        ],
        [
         "LNK",
         "Lincoln Airport (Lincoln Municipal)"
        ],
        [
         "FCA",
         "Glacier Park International Airport"
        ],
        [
         "IDA",
         "Idaho Falls Regional Airport"
        ],
        [
         "HSV",
         "Huntsville International Airport"
        ],
        [
         "CWA",
         "Central Wisconsin Airport"
        ],
        [
         "MFR",
         "Rogue Valley International Airport"
        ],
        [
         "PSC",
         "Tri-Cities Airport"
        ],
        [
         "SYR",
         "Syracuse Hancock International Airport"
        ],
        [
         "SBA",
         "Santa Barbara Municipal Airport (Santa Barbara Airport)"
        ],
        [
         "RAP",
         "Rapid City Regional Airport"
        ],
        [
         "YUM",
         "Yuma International Airport"
        ],
        [
         "RDM",
         "Redmond Municipal Airport (Roberts Field)"
        ],
        [
         "LGB",
         "Long Beach Airport (Daugherty Field)"
        ],
        [
         "MTJ",
         "Montrose Regional Airport"
        ],
        [
         "RDD",
         "Redding Municipal Airport"
        ],
        [
         "CLD",
         "McClellan-Palomar Airport"
        ],
        [
         "SBN",
         "South Bend International Airport (South Bend Regional)"
        ],
        [
         "HPN",
         "Westchester County Airport"
        ],
        [
         "SPI",
         "Abraham Lincoln Capital Airport"
        ],
        [
         "MBS",
         "MBS International Airport"
        ],
        [
         "LAN",
         "Capital Region International Airport ( Lansing Capital City)"
        ],
        [
         "TWF",
         "Magic Valley Regional Airport (Joslin Field)"
        ],
        [
         "MRY",
         "Monterey Regional Airport (Monterey Peninsula Airport)"
        ],
        [
         "SMX",
         "Santa Maria Public Airport (Capt G. Allan Hancock Field)"
        ],
        [
         "ACV",
         "Arcata Airport"
        ],
        [
         "BFL",
         "Meadows Field"
        ],
        [
         "CEC",
         "Del Norte County Airport (Jack McNamara Field)"
        ],
        [
         "CIC",
         null
        ],
        [
         "PMD",
         null
        ],
        [
         "EKO",
         "Elko Regional Airport"
        ],
        [
         "IYK",
         null
        ],
        [
         "OXR",
         null
        ],
        [
         "IPL",
         null
        ],
        [
         "PIH",
         "Pocatello Regional Airport"
        ],
        [
         "CPR",
         "Natrona County International Airport"
        ],
        [
         "BTM",
         "Bert Mooney Airport"
        ],
        [
         "HLN",
         "Helena Regional Airport"
        ],
        [
         "BLI",
         "Bellingham International Airport"
        ],
        [
         "CAK",
         "Akron-Canton Regional Airport"
        ],
        [
         "RFD",
         null
        ],
        [
         "COD",
         "Yellowstone Regional Airport"
        ],
        [
         "SLE",
         null
        ],
        [
         "LWS",
         "Lewiston-Nez Perce County Airport"
        ],
        [
         "GRR",
         "Gerald R. Ford International Airport"
        ],
        [
         "AVP",
         "Wilkes-Barre/Scranton International Airport"
        ],
        [
         "ABE",
         "Lehigh Valley International Airport"
        ],
        [
         "BIS",
         "Bismarck Municipal Airport"
        ],
        [
         "GSP",
         "Greenville-Spartanburg International Airport"
        ],
        [
         "CDC",
         "Cedar City Regional Airport"
        ],
        [
         "BMI",
         "Central Illinois Regional Airport at Bloomington-Normal"
        ],
        [
         "YKM",
         null
        ],
        [
         "CLT",
         "Charlotte Douglas International Airport"
        ],
        [
         "HNL",
         "Honolulu International Airport"
        ],
        [
         "KOA",
         "Kona International Airport at Keahole"
        ],
        [
         "OGG",
         "Kahului Airport"
        ],
        [
         "JFK",
         "John F. Kennedy International Airport (New York International Airport)"
        ],
        [
         "LIH",
         "Lihue Airport"
        ],
        [
         "MDT",
         "Harrisburg International Airport"
        ],
        [
         "LGA",
         "LaGuardia Airport (Marine Air Terminal)"
        ],
        [
         "RIC",
         "Richmond International Airport"
        ],
        [
         "BOS",
         "Gen. Edward Lawrence Logan International Airport"
        ],
        [
         "EGE",
         "Eagle County Regional Airport"
        ],
        [
         "ROC",
         "Greater Rochester International Airport"
        ],
        [
         "GSO",
         "Piedmont Triad International Airport"
        ],
        [
         "DCA",
         "Ronald Reagan Washington National Airport"
        ],
        [
         "SJU",
         "Luis Muñoz Marín International Airport"
        ],
        [
         "STT",
         "Cyril E. King Airport"
        ],
        [
         "MIA",
         "Miami International Airport"
        ],
        [
         "ANC",
         "Ted Stevens Anchorage International Airport"
        ],
        [
         "MYR",
         "Myrtle Beach International Airport"
        ],
        [
         "STX",
         "Henry E. Rohlsen Airport"
        ],
        [
         "ILM",
         "Wilmington International Airport"
        ],
        [
         "VPS",
         "Destin-Fort Walton Beach Airport/Eglin AFB"
        ],
        [
         "SRQ",
         "Sarasota-Bradenton International Airport"
        ],
        [
         "PNS",
         "Pensacola International Airport (Pensacola Gulf Coast Regional Airport)"
        ],
        [
         "DAB",
         "Daytona Beach International Airport"
        ],
        [
         "CAE",
         "Columbia Metropolitan Airport"
        ],
        [
         "GPT",
         "Gulfport-Biloxi International Airport"
        ],
        [
         "MLB",
         "Melbourne International Airport"
        ],
        [
         "PHF",
         "Newport News/Williamsburg International Airport"
        ],
        [
         "MFE",
         "McAllen-Miller International Airport (McAllen Miller International)"
        ],
        [
         "SHV",
         "Shreveport Regional Airport"
        ],
        [
         "MGM",
         "Montgomery Regional Airport"
        ],
        [
         "PFN",
         null
        ],
        [
         "CHA",
         "Chattanooga Metropolitan Airport (Lovell Field)"
        ],
        [
         "FAY",
         "Fayetteville Regional Airport"
        ],
        [
         "AGS",
         "Augusta Regional Airport (Bush Field)"
        ],
        [
         "MOB",
         "Mobile Regional Airport"
        ],
        [
         "BTR",
         "Baton Rouge Metropolitan Airport"
        ],
        [
         "BGR",
         "Bangor International Airport"
        ],
        [
         "GNV",
         "Gainesville Regional Airport"
        ],
        [
         "ABY",
         "Southwest Georgia Regional Airport"
        ],
        [
         "DHN",
         "Dothan Regional Airport"
        ],
        [
         "AVL",
         "Asheville Regional Airport"
        ],
        [
         "EVV",
         "Evansville Regional Airport"
        ],
        [
         "FNT",
         "Bishop International Airport"
        ],
        [
         "TRI",
         "Tri-Cities Regional Airport"
        ],
        [
         "OAJ",
         "Albert J. Ellis Airport"
        ],
        [
         "AEX",
         "Alexandria International Airport"
        ],
        [
         "SWF",
         "Stewart International Airport"
        ],
        [
         "EWN",
         "Coastal Carolina Regional Airport (Craven County Regional)"
        ],
        [
         "MEI",
         "Meridian Regional Airport"
        ],
        [
         "PWM",
         "Portland International Jetport"
        ],
        [
         "GRK",
         "Killeen-Fort Hood Regional Airport"
        ],
        [
         "GTR",
         "Golden Triangle Regional Airport"
        ],
        [
         "LFT",
         "Lafayette Regional Airport"
        ],
        [
         "LYH",
         null
        ],
        [
         "HHH",
         null
        ],
        [
         "EYW",
         "Key West International Airport"
        ],
        [
         "VLD",
         "Valdosta Regional Airport"
        ],
        [
         "CSG",
         "Columbus Metropolitan Airport"
        ],
        [
         "MLU",
         "Monroe Regional Airport"
        ],
        [
         "TLH",
         "Tallahassee International Airport"
        ],
        [
         "ACY",
         "Atlantic City International Airport"
        ],
        [
         "FSM",
         "Fort Smith Regional Airport"
        ],
        [
         "MCN",
         null
        ],
        [
         "CHO",
         "Charlottesville-Albemarle Airport"
        ],
        [
         "TOL",
         "Toledo Express Airport"
        ],
        [
         "FLO",
         null
        ],
        [
         "BQK",
         "Brunswick Golden Isles Airport"
        ],
        [
         "SCE",
         "University Park Airport"
        ],
        [
         "ITO",
         "Hilo International Airport"
        ],
        [
         "LAW",
         "Lawton-Fort Sill Regional Airport"
        ],
        [
         "SPS",
         "Wichita Falls Municipal Airport/Sheppard AFB"
        ],
        [
         "ABI",
         "Abilene Regional Airport"
        ],
        [
         "CLL",
         "Easterwood Airport"
        ],
        [
         "TYR",
         "Tyler Pounds Regional Airport"
        ],
        [
         "GGG",
         "East Texas Regional Airport"
        ],
        [
         "ACT",
         "Waco Regional Airport"
        ],
        [
         "SJT",
         "San Angelo Regional Airport (Mathis Field)"
        ],
        [
         "TXK",
         "Texarkana Regional Airport (Webb Field)"
        ],
        [
         "LRD",
         "Laredo International Airport"
        ],
        [
         "CMI",
         "University of Illinois - Willard Airport"
        ],
        [
         "ROW",
         "Roswell International Air Center"
        ],
        [
         "RST",
         "Rochester International Airport"
        ],
        [
         "MQT",
         "Sawyer International Airport"
        ],
        [
         "LSE",
         "La Crosse Regional Airport"
        ],
        [
         "DBQ",
         "Dubuque Regional Airport"
        ],
        [
         "KTN",
         "Ketchikan International Airport"
        ],
        [
         "JNU",
         "Juneau International Airport"
        ],
        [
         "SIT",
         "Sitka Rocky Gutierrez Airport"
        ],
        [
         "PSG",
         "Petersburg James A. Johnson Airport"
        ],
        [
         "CDV",
         "Merle K. (Mudhole) Smith Airport"
        ],
        [
         "YAK",
         "Yakutat Airport"
        ],
        [
         "BET",
         "Bethel Airport"
        ],
        [
         "BRW",
         "Wiley Post-Will Rogers Memorial Airport"
        ],
        [
         "SCC",
         "Deadhorse Airport (Prudhoe Bay Airport)"
        ],
        [
         "FAI",
         "Fairbanks International Airport"
        ],
        [
         "ADQ",
         "Kodiak Airport"
        ],
        [
         "WRG",
         "Wrangell Airport"
        ],
        [
         "OME",
         "Nome Airport"
        ],
        [
         "OTZ",
         "Ralph Wien Memorial Airport"
        ],
        [
         "ADK",
         "Adak Airport"
        ],
        [
         "PSE",
         "Mercedita Airport"
        ],
        [
         "BQN",
         "Rafael Hernández Airport"
        ],
        [
         "MKG",
         "Muskegon County Airport"
        ],
        [
         "DLG",
         "Dillingham Airport"
        ],
        [
         "AKN",
         "King Salmon Airport"
        ],
        [
         "LWB",
         null
        ],
        [
         "WYS",
         "Westerly State Airport"
        ]
       ],
       "datasetInfos": [],
       "dbfsResultPath": null,
       "isJsonSchema": true,
       "metadata": {},
       "overflow": false,
       "plotOptions": {
        "customPlotOptions": {},
        "displayType": "table",
        "pivotAggregation": null,
        "pivotColumns": null,
        "xColumns": null,
        "yColumns": null
       },
       "removedWidgets": [],
       "schema": [
        {
         "metadata": "{}",
         "name": "Origin",
         "type": "\"string\""
        },
        {
         "metadata": "{}",
         "name": "Org_Airport",
         "type": "\"string\""
        }
       ],
       "type": "table"
      }
     },
     "output_type": "display_data"
    }
   ],
   "source": [
    "distinct_origin_df = df[[\"Origin\",\"Org_Airport\"]].drop_duplicates()\n",
    "display(distinct_origin_df)\n"
   ]
  },
  {
   "cell_type": "code",
   "execution_count": 0,
   "metadata": {
    "application/vnd.databricks.v1+cell": {
     "cellMetadata": {
      "byteLimit": 2048000,
      "rowLimit": 10000
     },
     "inputWidgets": {},
     "nuid": "154f76cf-fae3-4ed1-88ac-627f3370c813",
     "showTitle": false,
     "tableResultSettingsMap": {},
     "title": ""
    }
   },
   "outputs": [],
   "source": [
    "airport_mapping = {\n",
    "    'BWI':'Baltimore-Washington International Airport',\n",
    "    'LAS':'McCarran International Airport',\n",
    "    'MCO':'Orlando International Airport',\n",
    "    'PHX':'Phoenix Sky Harbor International Airport',\n",
    "    'TPA':'Tampa International Airport',\n",
    "    'FLL':'Fort Lauderdale-Hollywood International Airport',\n",
    "    'MDW':'Chicago Midway International Airport',\n",
    "    'PBI':'Palm Beach International Airport',\n",
    "    'HOU':'William P. Hobby Airport',\n",
    "    'BHM':'Birmingham-Shuttlesworth International Airport',\n",
    "    'BNA':'Nashville International Airport',\n",
    "    'PHL':'Philadelphia International Airport',\n",
    "    'ABQ':'Albuquerque International Sunport',\n",
    "    'ALB':'Albany International Airport',\n",
    "    'AMA':'Rick Husband Amarillo International Airport',\n",
    "    'AUS':'Austin-Bergstrom International Airport',\n",
    "    'BDL':'Bradley International Airport',\n",
    "    'BOI':'Boise Airport (Boise Air Terminal)',\n",
    "    'BUF':'Buffalo Niagara International Airport',\n",
    "    'BUR':'Bob Hope Airport (Hollywood Burbank Airport)',\n",
    "    'CMH':'Port Columbus International Airport',\n",
    "    'DEN':'Denver International Airport',\n",
    "    'ELP':'El Paso International Airport',\n",
    "    'GEG':'Spokane International Airport',\n",
    "    'IAD':'Washington Dulles International Airport',\n",
    "    'IND':'Indianapolis International Airport',\n",
    "    'ISP':'Long Island MacArthur Airport',\n",
    "    'LAX':'Los Angeles International Airport',\n",
    "    'LBB':'Lubbock Preston Smith International Airport',\n",
    "    'MAF':'Midland International Airport',\n",
    "    'MCI':'Kansas City International Airport',\n",
    "    'MSY':'Louis Armstrong New Orleans International Airport',\n",
    "    'OAK':'Oakland International Airport',\n",
    "    'OMA':'Eppley Airfield',\n",
    "    'ONT':'Ontario International Airport',\n",
    "    'ORF':'Norfolk International Airport',\n",
    "    'PDX':'Portland International Airport',\n",
    "    'PIT':'Pittsburgh International Airport',\n",
    "    'PVD':'Theodore Francis Green State Airport',\n",
    "    'RDU':'Raleigh-Durham International Airport',\n",
    "    'RNO':'Reno/Tahoe International Airport',\n",
    "    'SAN':'San Diego International Airport (Lindbergh Field)',\n",
    "    'SAT':'San Antonio International Airport',\n",
    "    'SDF':'Louisville International Airport (Standiford Field)',\n",
    "    'SFO':'San Francisco International Airport',\n",
    "    'SJC':'Norman Y. Mineta San José International Airport',\n",
    "    'SLC':'Salt Lake City International Airport',\n",
    "    'SMF':'Sacramento International Airport',\n",
    "    'SNA':'John Wayne Airport (Orange County Airport)',\n",
    "    'STL':'St. Louis International Airport at Lambert Field',\n",
    "    'TUL':'Tulsa International Airport',\n",
    "    'TUS':'Tucson International Airport',\n",
    "    'DAL':'Dallas Love Field',\n",
    "    'OKC':'Will Rogers World Airport',\n",
    "    'SEA':'Seattle-Tacoma International Airport',\n",
    "    'CLE':'Cleveland Hopkins International Airport',\n",
    "    'DTW':'Detroit Metropolitan Airport',\n",
    "    'JAN':'Jackson-Evers International Airport',\n",
    "    'MHT':'Manchester-Boston Regional Airport',\n",
    "    'RSW':'Southwest Florida International Airport',\n",
    "    'LIT':'Bill and Hillary Clinton National Airport (Adams Field)',\n",
    "    'JAX':'Jacksonville International Airport',\n",
    "    'HRL':'Valley International Airport',\n",
    "    'CRP':'Corpus Christi International Airport',\n",
    "    'CVG':'Cincinnati/Northern Kentucky International Airport',\n",
    "    'DFW':'Dallas/Fort Worth International Airport',\n",
    "    'MSP':'Minneapolis-Saint Paul International Airport',\n",
    "    'ATL':'Hartsfield-Jackson Atlanta International Airport',\n",
    "    'GSP':'Greenville-Spartanburg International Airport',\n",
    "    'ORD':'Chicago O\\'Hare International Airport',\n",
    "    'MKE':'General Mitchell International Airport',\n",
    "    'MSN':'Dane County Regional Airport',\n",
    "    'EWR':'Newark Liberty International Airport',\n",
    "    'SUN':'Friedman Memorial Airport',\n",
    "    'SGU':'St. George Regional Airport',\n",
    "    'TWF':'Magic Valley Regional Airport (Joslin Field)',\n",
    "    'SBA':'Santa Barbara Municipal Airport (Santa Barbara Airport)',\n",
    "    'IDA':'Idaho Falls Regional Airport',\n",
    "    'BZN':'Bozeman Yellowstone International Airport (Gallatin Field Airport)',\n",
    "    'RAP':'Rapid City Regional Airport',\n",
    "    'SLE':None,\n",
    "    'MSO':'Missoula International Airport',\n",
    "    'BIL':'Billings Logan International Airport',\n",
    "    'PSP':'Palm Springs International Airport',\n",
    "    'LGB':'Long Beach Airport (Daugherty Field)',\n",
    "    'COS':'City of Colorado Springs Municipal Airport',\n",
    "    'GTF':'Great Falls International Airport',\n",
    "    'MEM':'Memphis International Airport',\n",
    "    'JAC':'Jackson Hole Airport',\n",
    "    'ASE':'Aspen-Pitkin County Airport',\n",
    "    'FCA':'Glacier Park International Airport',\n",
    "    'PSC':'Tri-Cities Airport',\n",
    "    'ACV':'Arcata Airport',\n",
    "    'RDD':'Redding Municipal Airport',\n",
    "    'FAT':'Fresno Yosemite International Airport',\n",
    "    'EUG':'Eugene Airport (Mahlon Sweet Field)',\n",
    "    'MOD':None,\n",
    "    'LEX':'Blue Grass Airport',\n",
    "    'BTV':'Burlington International Airport',\n",
    "    'ROA':'Roanoke Regional Airport (Woodrum Field)',\n",
    "    # ... continue all remaining mappings\n",
    "}\n",
    "\n",
    "# Fill missing Dest_Airport using mapping\n",
    "df['Dest_Airport'] = df.apply(\n",
    "    lambda row: airport_mapping.get(row['Dest'], row['Dest_Airport']) \n",
    "    if pd.isna(row['Dest_Airport']) else row['Dest_Airport'], axis=1\n",
    ")"
   ]
  }
 ],
 "metadata": {
  "application/vnd.databricks.v1+notebook": {
   "computePreferences": null,
   "dashboards": [],
   "environmentMetadata": {
    "base_environment": "",
    "environment_version": "3"
   },
   "inputWidgetPreferences": null,
   "language": "python",
   "notebookMetadata": {
    "pythonIndentUnit": 4
   },
   "notebookName": "Airdelay",
   "widgets": {}
  },
  "language_info": {
   "name": "python"
  }
 },
 "nbformat": 4,
 "nbformat_minor": 0
}