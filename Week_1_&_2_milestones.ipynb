{
 "cells": [
  {
   "cell_type": "markdown",
   "metadata": {
    "application/vnd.databricks.v1+cell": {
     "cellMetadata": {},
     "inputWidgets": {},
     "nuid": "ea830487-7e4b-4368-97ab-c052db21cc6b",
     "showTitle": false,
     "tableResultSettingsMap": {},
     "title": ""
    }
   },
   "source": [
    "Week 1: Project Initialization and Dataset Setup\n",
    "Step 1. Define goals, KPIs, workflow\n",
    "\n",
    "Goal: Predict flight delays more accurately using cleaned and preprocessed data.\n",
    "\n",
    "KPIs:\n",
    "\n",
    "- Model accuracy / AUC on delay prediction\n",
    "- Reduction of nulls (target = 0 nulls in cleaned dataset)\n",
    "- Faster preprocessing by saving a reusable cleaned CSV\n",
    "\n",
    "Workflow:\n",
    "\n",
    "- Load raw CSV\n",
    "- Explore schema, datatypes, and memory usage\n",
    "- Handle nulls and optimize\n",
    "- Save cleaned CSV\n",
    "\n",
    "Step 1:Import Libraries"
   ]
  },
  {
   "cell_type": "code",
   "execution_count": 0,
   "metadata": {
    "application/vnd.databricks.v1+cell": {
     "cellMetadata": {
      "byteLimit": 2048000,
      "rowLimit": 10000
     },
     "inputWidgets": {},
     "nuid": "ac2e555b-0385-4db4-97e3-5cd218083610",
     "showTitle": false,
     "tableResultSettingsMap": {},
     "title": ""
    }
   },
   "outputs": [
    {
     "output_type": "stream",
     "name": "stdout",
     "output_type": "stream",
     "text": [
      "✅ Imports ready, Spark session available.\n"
     ]
    }
   ],
   "source": [
    "# Step 1: imports\n",
    "import pandas as pd\n",
    "import numpy as np\n",
    "from pyspark.sql import SparkSession\n",
    "from pyspark.sql import functions as F\n",
    "from pyspark.sql.functions import col, trim, lit\n",
    "\n",
    "spark = SparkSession.builder.getOrCreate()\n",
    "print(\"✅ Imports ready, Spark session available.\")\n"
   ]
  },
  {
   "cell_type": "markdown",
   "metadata": {
    "application/vnd.databricks.v1+cell": {
     "cellMetadata": {},
     "inputWidgets": {},
     "nuid": "79baf9ba-f1b9-4fe0-8ba2-e878337edace",
     "showTitle": false,
     "tableResultSettingsMap": {},
     "title": ""
    }
   },
   "source": [
    "Step 2: Load Dataset"
   ]
  },
  {
   "cell_type": "code",
   "execution_count": 0,
   "metadata": {
    "application/vnd.databricks.v1+cell": {
     "cellMetadata": {
      "byteLimit": 2048000,
      "rowLimit": 10000
     },
     "inputWidgets": {},
     "nuid": "1def9b4a-1435-4254-b85b-cab493066078",
     "showTitle": false,
     "tableResultSettingsMap": {},
     "title": ""
    }
   },
   "outputs": [
    {
     "output_type": "stream",
     "name": "stdout",
     "output_type": "stream",
     "text": [
      "✅ Raw dataset loaded\nRows: 484551 Columns: 29\n"
     ]
    },
    {
     "output_type": "execute_result",
     "data": {
      "text/html": [
       "<div>\n",
       "<style scoped>\n",
       "    .dataframe tbody tr th:only-of-type {\n",
       "        vertical-align: middle;\n",
       "    }\n",
       "\n",
       "    .dataframe tbody tr th {\n",
       "        vertical-align: top;\n",
       "    }\n",
       "\n",
       "    .dataframe thead th {\n",
       "        text-align: right;\n",
       "    }\n",
       "</style>\n",
       "<table border=\"1\" class=\"dataframe\">\n",
       "  <thead>\n",
       "    <tr style=\"text-align: right;\">\n",
       "      <th></th>\n",
       "      <th>DayOfWeek</th>\n",
       "      <th>Date</th>\n",
       "      <th>DepTime</th>\n",
       "      <th>ArrTime</th>\n",
       "      <th>CRSArrTime</th>\n",
       "      <th>UniqueCarrier</th>\n",
       "      <th>Airline</th>\n",
       "      <th>FlightNum</th>\n",
       "      <th>TailNum</th>\n",
       "      <th>ActualElapsedTime</th>\n",
       "      <th>CRSElapsedTime</th>\n",
       "      <th>AirTime</th>\n",
       "      <th>ArrDelay</th>\n",
       "      <th>DepDelay</th>\n",
       "      <th>Origin</th>\n",
       "      <th>Org_Airport</th>\n",
       "      <th>Dest</th>\n",
       "      <th>Dest_Airport</th>\n",
       "      <th>Distance</th>\n",
       "      <th>TaxiIn</th>\n",
       "      <th>TaxiOut</th>\n",
       "      <th>Cancelled</th>\n",
       "      <th>CancellationCode</th>\n",
       "      <th>Diverted</th>\n",
       "      <th>CarrierDelay</th>\n",
       "      <th>WeatherDelay</th>\n",
       "      <th>NASDelay</th>\n",
       "      <th>SecurityDelay</th>\n",
       "      <th>LateAircraftDelay</th>\n",
       "    </tr>\n",
       "  </thead>\n",
       "  <tbody>\n",
       "    <tr>\n",
       "      <th>0</th>\n",
       "      <td>4</td>\n",
       "      <td>03-01-2019</td>\n",
       "      <td>1829</td>\n",
       "      <td>1959</td>\n",
       "      <td>1925</td>\n",
       "      <td>WN</td>\n",
       "      <td>Southwest Airlines Co.</td>\n",
       "      <td>3920</td>\n",
       "      <td>N464WN</td>\n",
       "      <td>90</td>\n",
       "      <td>90</td>\n",
       "      <td>77</td>\n",
       "      <td>34</td>\n",
       "      <td>34</td>\n",
       "      <td>IND</td>\n",
       "      <td>Indianapolis International Airport</td>\n",
       "      <td>BWI</td>\n",
       "      <td>Baltimore-Washington International Airport</td>\n",
       "      <td>515</td>\n",
       "      <td>3</td>\n",
       "      <td>10</td>\n",
       "      <td>0</td>\n",
       "      <td>N</td>\n",
       "      <td>0</td>\n",
       "      <td>2</td>\n",
       "      <td>0</td>\n",
       "      <td>0</td>\n",
       "      <td>0</td>\n",
       "      <td>32</td>\n",
       "    </tr>\n",
       "    <tr>\n",
       "      <th>1</th>\n",
       "      <td>4</td>\n",
       "      <td>03-01-2019</td>\n",
       "      <td>1937</td>\n",
       "      <td>2037</td>\n",
       "      <td>1940</td>\n",
       "      <td>WN</td>\n",
       "      <td>Southwest Airlines Co.</td>\n",
       "      <td>509</td>\n",
       "      <td>N763SW</td>\n",
       "      <td>240</td>\n",
       "      <td>250</td>\n",
       "      <td>230</td>\n",
       "      <td>57</td>\n",
       "      <td>67</td>\n",
       "      <td>IND</td>\n",
       "      <td>Indianapolis International Airport</td>\n",
       "      <td>LAS</td>\n",
       "      <td>McCarran International Airport</td>\n",
       "      <td>1591</td>\n",
       "      <td>3</td>\n",
       "      <td>7</td>\n",
       "      <td>0</td>\n",
       "      <td>N</td>\n",
       "      <td>0</td>\n",
       "      <td>10</td>\n",
       "      <td>0</td>\n",
       "      <td>0</td>\n",
       "      <td>0</td>\n",
       "      <td>47</td>\n",
       "    </tr>\n",
       "    <tr>\n",
       "      <th>2</th>\n",
       "      <td>4</td>\n",
       "      <td>03-01-2019</td>\n",
       "      <td>1644</td>\n",
       "      <td>1845</td>\n",
       "      <td>1725</td>\n",
       "      <td>WN</td>\n",
       "      <td>Southwest Airlines Co.</td>\n",
       "      <td>1333</td>\n",
       "      <td>N334SW</td>\n",
       "      <td>121</td>\n",
       "      <td>135</td>\n",
       "      <td>107</td>\n",
       "      <td>80</td>\n",
       "      <td>94</td>\n",
       "      <td>IND</td>\n",
       "      <td>Indianapolis International Airport</td>\n",
       "      <td>MCO</td>\n",
       "      <td>Orlando International Airport</td>\n",
       "      <td>828</td>\n",
       "      <td>6</td>\n",
       "      <td>8</td>\n",
       "      <td>0</td>\n",
       "      <td>N</td>\n",
       "      <td>0</td>\n",
       "      <td>8</td>\n",
       "      <td>0</td>\n",
       "      <td>0</td>\n",
       "      <td>0</td>\n",
       "      <td>72</td>\n",
       "    </tr>\n",
       "    <tr>\n",
       "      <th>3</th>\n",
       "      <td>4</td>\n",
       "      <td>03-01-2019</td>\n",
       "      <td>1452</td>\n",
       "      <td>1640</td>\n",
       "      <td>1625</td>\n",
       "      <td>WN</td>\n",
       "      <td>Southwest Airlines Co.</td>\n",
       "      <td>675</td>\n",
       "      <td>N286WN</td>\n",
       "      <td>228</td>\n",
       "      <td>240</td>\n",
       "      <td>213</td>\n",
       "      <td>15</td>\n",
       "      <td>27</td>\n",
       "      <td>IND</td>\n",
       "      <td>Indianapolis International Airport</td>\n",
       "      <td>PHX</td>\n",
       "      <td>Phoenix Sky Harbor International Airport</td>\n",
       "      <td>1489</td>\n",
       "      <td>7</td>\n",
       "      <td>8</td>\n",
       "      <td>0</td>\n",
       "      <td>N</td>\n",
       "      <td>0</td>\n",
       "      <td>3</td>\n",
       "      <td>0</td>\n",
       "      <td>0</td>\n",
       "      <td>0</td>\n",
       "      <td>12</td>\n",
       "    </tr>\n",
       "    <tr>\n",
       "      <th>4</th>\n",
       "      <td>4</td>\n",
       "      <td>03-01-2019</td>\n",
       "      <td>1323</td>\n",
       "      <td>1526</td>\n",
       "      <td>1510</td>\n",
       "      <td>WN</td>\n",
       "      <td>Southwest Airlines Co.</td>\n",
       "      <td>4</td>\n",
       "      <td>N674AA</td>\n",
       "      <td>123</td>\n",
       "      <td>135</td>\n",
       "      <td>110</td>\n",
       "      <td>16</td>\n",
       "      <td>28</td>\n",
       "      <td>IND</td>\n",
       "      <td>Indianapolis International Airport</td>\n",
       "      <td>TPA</td>\n",
       "      <td>Tampa International Airport</td>\n",
       "      <td>838</td>\n",
       "      <td>4</td>\n",
       "      <td>9</td>\n",
       "      <td>0</td>\n",
       "      <td>N</td>\n",
       "      <td>0</td>\n",
       "      <td>0</td>\n",
       "      <td>0</td>\n",
       "      <td>0</td>\n",
       "      <td>0</td>\n",
       "      <td>16</td>\n",
       "    </tr>\n",
       "  </tbody>\n",
       "</table>\n",
       "</div>"
      ],
      "text/plain": [
       "   DayOfWeek        Date  DepTime  ...  NASDelay  SecurityDelay LateAircraftDelay\n",
       "0          4  03-01-2019     1829  ...         0              0                32\n",
       "1          4  03-01-2019     1937  ...         0              0                47\n",
       "2          4  03-01-2019     1644  ...         0              0                72\n",
       "3          4  03-01-2019     1452  ...         0              0                12\n",
       "4          4  03-01-2019     1323  ...         0              0                16\n",
       "\n",
       "[5 rows x 29 columns]"
      ]
     },
     "execution_count": 8,
     "metadata": {},
     "output_type": "execute_result"
    }
   ],
   "source": [
    "# Path to raw dataset\n",
    "raw_path = \"/Volumes/workspace/default/airlines/Flight_delay.csv\"\n",
    "\n",
    "# Load\n",
    "df = pd.read_csv(raw_path)\n",
    "\n",
    "print(\"✅ Raw dataset loaded\")\n",
    "print(\"Rows:\", df.shape[0], \"Columns:\", df.shape[1])\n",
    "df.head()\n"
   ]
  },
  {
   "cell_type": "markdown",
   "metadata": {
    "application/vnd.databricks.v1+cell": {
     "cellMetadata": {},
     "inputWidgets": {},
     "nuid": "eb7e1ffd-4b25-4356-8c68-a7533e904099",
     "showTitle": false,
     "tableResultSettingsMap": {},
     "title": ""
    }
   },
   "source": [
    "Step 3: Explore schema & datatypes"
   ]
  },
  {
   "cell_type": "code",
   "execution_count": 0,
   "metadata": {
    "application/vnd.databricks.v1+cell": {
     "cellMetadata": {
      "byteLimit": 2048000,
      "rowLimit": 10000
     },
     "inputWidgets": {},
     "nuid": "718a9481-5245-4764-925f-432ffa12742d",
     "showTitle": false,
     "tableResultSettingsMap": {},
     "title": ""
    }
   },
   "outputs": [
    {
     "output_type": "stream",
     "name": "stdout",
     "output_type": "stream",
     "text": [
      "\n\uD83D\uDCCC Data Types:\nDayOfWeek             int64\nDate                 object\nDepTime               int64\nArrTime               int64\nCRSArrTime            int64\nUniqueCarrier        object\nAirline              object\nFlightNum             int64\nTailNum              object\nActualElapsedTime     int64\nCRSElapsedTime        int64\nAirTime               int64\nArrDelay              int64\nDepDelay              int64\nOrigin               object\nOrg_Airport          object\nDest                 object\nDest_Airport         object\nDistance              int64\nTaxiIn                int64\nTaxiOut               int64\nCancelled             int64\nCancellationCode     object\nDiverted              int64\nCarrierDelay          int64\nWeatherDelay          int64\nNASDelay              int64\nSecurityDelay         int64\nLateAircraftDelay     int64\ndtype: object\n\n\uD83D\uDCCC Missing values:\nDayOfWeek               0\nDate                    0\nDepTime                 0\nArrTime                 0\nCRSArrTime              0\nUniqueCarrier           0\nAirline                 0\nFlightNum               0\nTailNum                 0\nActualElapsedTime       0\nCRSElapsedTime          0\nAirTime                 0\nArrDelay                0\nDepDelay                0\nOrigin                  0\nOrg_Airport          1177\nDest                    0\nDest_Airport         1479\nDistance                0\nTaxiIn                  0\nTaxiOut                 0\nCancelled               0\nCancellationCode        0\nDiverted                0\nCarrierDelay            0\nWeatherDelay            0\nNASDelay                0\nSecurityDelay           0\nLateAircraftDelay       0\ndtype: int64\n\n\uD83D\uDCCC Memory usage (MB): 107.21\n"
     ]
    }
   ],
   "source": [
    "print(\"\\n\uD83D\uDCCC Data Types:\")\n",
    "print(df.dtypes)\n",
    "\n",
    "print(\"\\n\uD83D\uDCCC Missing values:\")\n",
    "print(df.isnull().sum())\n",
    "\n",
    "print(\"\\n\uD83D\uDCCC Memory usage (MB):\", round(df.memory_usage().sum() / 1024**2, 2))\n"
   ]
  },
  {
   "cell_type": "markdown",
   "metadata": {
    "application/vnd.databricks.v1+cell": {
     "cellMetadata": {},
     "inputWidgets": {},
     "nuid": "dfcf7cf9-5ac6-40c2-8098-22c00d6f4105",
     "showTitle": false,
     "tableResultSettingsMap": {},
     "title": ""
    }
   },
   "source": [
    "Step 4: Sampling (optional for faster testing)"
   ]
  },
  {
   "cell_type": "code",
   "execution_count": 0,
   "metadata": {
    "application/vnd.databricks.v1+cell": {
     "cellMetadata": {
      "byteLimit": 2048000,
      "rowLimit": 10000
     },
     "inputWidgets": {},
     "nuid": "61331e52-ff68-4e4f-babb-21be3e59d1a4",
     "showTitle": false,
     "tableResultSettingsMap": {},
     "title": ""
    }
   },
   "outputs": [
    {
     "output_type": "stream",
     "name": "stdout",
     "output_type": "stream",
     "text": [
      "✅ Sample size: (4846, 29)\n"
     ]
    }
   ],
   "source": [
    "# Take a 1% sample for quick checks\n",
    "df_sample = df.sample(frac=0.01, random_state=42)\n",
    "print(\"✅ Sample size:\", df_sample.shape)\n"
   ]
  },
  {
   "cell_type": "markdown",
   "metadata": {
    "application/vnd.databricks.v1+cell": {
     "cellMetadata": {},
     "inputWidgets": {},
     "nuid": "50a53d22-cb8d-4d89-a1e4-507af3463b8b",
     "showTitle": false,
     "tableResultSettingsMap": {},
     "title": ""
    }
   },
   "source": [
    "Step 5: Memory optimization (convert types)"
   ]
  },
  {
   "cell_type": "code",
   "execution_count": 0,
   "metadata": {
    "application/vnd.databricks.v1+cell": {
     "cellMetadata": {
      "byteLimit": 2048000,
      "rowLimit": 10000
     },
     "inputWidgets": {},
     "nuid": "b7915f82-88af-4b94-8666-38d558f64222",
     "showTitle": false,
     "tableResultSettingsMap": {},
     "title": ""
    }
   },
   "outputs": [
    {
     "output_type": "stream",
     "name": "stdout",
     "output_type": "stream",
     "text": [
      "✅ Memory optimized. New size (MB): 50.37\n"
     ]
    }
   ],
   "source": [
    "# Convert int64 → int32, float64 → float32 where possible\n",
    "for col in df.select_dtypes(include=[\"int64\"]).columns:\n",
    "    df[col] = pd.to_numeric(df[col], downcast=\"integer\")\n",
    "\n",
    "for col in df.select_dtypes(include=[\"float64\"]).columns:\n",
    "    df[col] = pd.to_numeric(df[col], downcast=\"float\")\n",
    "\n",
    "print(\"✅ Memory optimized. New size (MB):\", round(df.memory_usage().sum() / 1024**2, 2))\n"
   ]
  },
  {
   "cell_type": "markdown",
   "metadata": {
    "application/vnd.databricks.v1+cell": {
     "cellMetadata": {},
     "inputWidgets": {},
     "nuid": "6dad644c-070f-4752-868e-f95cdd7ca41e",
     "showTitle": false,
     "tableResultSettingsMap": {},
     "title": ""
    }
   },
   "source": [
    "Week 2: Preprocessing and Feature Engineering\n",
    "\n",
    "Step 6. Handle nulls rigorously"
   ]
  },
  {
   "cell_type": "code",
   "execution_count": 0,
   "metadata": {
    "application/vnd.databricks.v1+cell": {
     "cellMetadata": {
      "byteLimit": 2048000,
      "rowLimit": 10000
     },
     "inputWidgets": {},
     "nuid": "64f866c5-c72f-48a7-a69b-1056a73e873b",
     "showTitle": false,
     "tableResultSettingsMap": {},
     "title": ""
    }
   },
   "outputs": [
    {
     "output_type": "stream",
     "name": "stdout",
     "output_type": "stream",
     "text": [
      "✅ Nulls handled. Remaining null count: 0\n"
     ]
    }
   ],
   "source": [
    "# Categorical → \"Unknown\"\n",
    "for col in df.select_dtypes(include=\"object\").columns:\n",
    "    df[col] = df[col].fillna(\"Unknown\")\n",
    "\n",
    "# Numeric → median\n",
    "for col in df.select_dtypes(include=[\"int32\",\"int64\",\"float32\",\"float64\"]).columns:\n",
    "    df[col] = df[col].fillna(df[col].median())\n",
    "\n",
    "print(\"✅ Nulls handled. Remaining null count:\", df.isnull().sum().sum())\n"
   ]
  },
  {
   "cell_type": "markdown",
   "metadata": {
    "application/vnd.databricks.v1+cell": {
     "cellMetadata": {},
     "inputWidgets": {},
     "nuid": "ac77f245-b306-4f73-a444-db0302166d6d",
     "showTitle": false,
     "tableResultSettingsMap": {},
     "title": ""
    }
   },
   "source": [
    "Step 7: Format datetime"
   ]
  },
  {
   "cell_type": "code",
   "execution_count": 0,
   "metadata": {
    "application/vnd.databricks.v1+cell": {
     "cellMetadata": {
      "byteLimit": 2048000,
      "rowLimit": 10000
     },
     "inputWidgets": {},
     "nuid": "12ee0e63-8647-4542-8c84-59318df863bf",
     "showTitle": false,
     "tableResultSettingsMap": {},
     "title": ""
    }
   },
   "outputs": [
    {
     "output_type": "stream",
     "name": "stdout",
     "output_type": "stream",
     "text": [
      "\uD83D\uDCCC First 5 raw Date values: [Timestamp('2019-03-01 00:00:00'), Timestamp('2019-03-01 00:00:00'), Timestamp('2019-03-01 00:00:00'), Timestamp('2019-03-01 00:00:00'), Timestamp('2019-03-01 00:00:00')]\n\n\uD83D\uDCCC Converted Date column sample:\n0   2019-03-01\n1   2019-03-01\n2   2019-03-01\n3   2019-03-01\n4   2019-03-01\nName: Date, dtype: datetime64[ns]\nDate column dtype: datetime64[ns]\n"
     ]
    }
   ],
   "source": [
    "# Peek at raw values before conversion\n",
    "print(\"\uD83D\uDCCC First 5 raw Date values:\", df[\"Date\"].head().tolist())\n",
    "\n",
    "# Try to parse with known format (adjust if needed)\n",
    "try:\n",
    "    # If your dataset has YYYY-MM-DD (e.g., 2019-03-01)\n",
    "    df[\"Date\"] = pd.to_datetime(df[\"Date\"], format=\"%Y-%m-%d\", errors=\"coerce\")\n",
    "except:\n",
    "    # If your dataset has DD/MM/YYYY (e.g., 01/03/2019)\n",
    "    df[\"Date\"] = pd.to_datetime(df[\"Date\"], format=\"%d/%m/%Y\", errors=\"coerce\")\n",
    "\n",
    "# Double check result\n",
    "print(\"\\n\uD83D\uDCCC Converted Date column sample:\")\n",
    "print(df[\"Date\"].head())\n",
    "print(\"Date column dtype:\", df[\"Date\"].dtype)\n"
   ]
  },
  {
   "cell_type": "markdown",
   "metadata": {
    "application/vnd.databricks.v1+cell": {
     "cellMetadata": {},
     "inputWidgets": {},
     "nuid": "70c865f7-f333-49b9-8e9b-1c3d3fa4b315",
     "showTitle": false,
     "tableResultSettingsMap": {},
     "title": ""
    }
   },
   "source": [
    "Step 8:Feature Engineering"
   ]
  },
  {
   "cell_type": "code",
   "execution_count": 0,
   "metadata": {
    "application/vnd.databricks.v1+cell": {
     "cellMetadata": {
      "byteLimit": 2048000,
      "rowLimit": 10000
     },
     "inputWidgets": {},
     "nuid": "9ff0b0a1-af30-483a-88a2-01c6521369bf",
     "showTitle": false,
     "tableResultSettingsMap": {},
     "title": ""
    }
   },
   "outputs": [
    {
     "output_type": "stream",
     "name": "stdout",
     "output_type": "stream",
     "text": [
      "\uD83D\uDCCC Sample with new features:\n        Date  Month  DayOfWeek  DayNumber  Hour Origin Dest    Route\n0 2019-03-01      3          4          1    18    IND  BWI  IND-BWI\n1 2019-03-01      3          4          1    19    IND  LAS  IND-LAS\n2 2019-03-01      3          4          1    16    IND  MCO  IND-MCO\n3 2019-03-01      3          4          1    14    IND  PHX  IND-PHX\n4 2019-03-01      3          4          1    13    IND  TPA  IND-TPA\n"
     ]
    }
   ],
   "source": [
    "# Month, Day of Week, Day Number\n",
    "df[\"Month\"] = df[\"Date\"].dt.month\n",
    "df[\"DayOfWeek\"] = df[\"Date\"].dt.dayofweek   # Monday=0, Sunday=6\n",
    "df[\"DayNumber\"] = df[\"Date\"].dt.day\n",
    "\n",
    "# Convert DepTime (HHMM format) into Hour (HH)\n",
    "df[\"Hour\"] = (df[\"DepTime\"] // 100).astype(int)\n",
    "\n",
    "# Create Route as Origin-Dest\n",
    "df[\"Route\"] = df[\"Origin\"] + \"-\" + df[\"Dest\"]\n",
    "\n",
    "# ✅ Double check\n",
    "print(\"\uD83D\uDCCC Sample with new features:\")\n",
    "print(df[[\"Date\", \"Month\", \"DayOfWeek\", \"DayNumber\", \"Hour\", \"Origin\", \"Dest\", \"Route\"]].head())\n"
   ]
  },
  {
   "cell_type": "markdown",
   "metadata": {
    "application/vnd.databricks.v1+cell": {
     "cellMetadata": {},
     "inputWidgets": {},
     "nuid": "8fca308c-b9bd-43e7-b43b-6b61b0e43800",
     "showTitle": false,
     "tableResultSettingsMap": {},
     "title": ""
    }
   },
   "source": [
    "Step 9:Save Preprocessed Data"
   ]
  },
  {
   "cell_type": "code",
   "execution_count": 0,
   "metadata": {
    "application/vnd.databricks.v1+cell": {
     "cellMetadata": {
      "byteLimit": 2048000,
      "rowLimit": 10000
     },
     "inputWidgets": {},
     "nuid": "00006d36-a46d-4b7e-9eb1-cda58a6015cc",
     "showTitle": false,
     "tableResultSettingsMap": {},
     "title": ""
    }
   },
   "outputs": [
    {
     "output_type": "stream",
     "name": "stdout",
     "output_type": "stream",
     "text": [
      "✅ Cleaned dataset saved to: /Volumes/workspace/default/airlines/Flight_delay_cleaned.csv\n\uD83D\uDCCC Final shape: (484551, 33)\n"
     ]
    }
   ],
   "source": [
    "# Step 9: Save the cleaned dataset\n",
    "output_path = \"/Volumes/workspace/default/airlines/Flight_delay_cleaned.csv\"\n",
    "df.to_csv(output_path, index=False)\n",
    "\n",
    "print(f\"✅ Cleaned dataset saved to: {output_path}\")\n",
    "print(\"\uD83D\uDCCC Final shape:\", df.shape)\n"
   ]
  },
  {
   "cell_type": "markdown",
   "metadata": {
    "application/vnd.databricks.v1+cell": {
     "cellMetadata": {},
     "inputWidgets": {},
     "nuid": "b26e214e-e409-4032-8c5f-da89b34c53ac",
     "showTitle": false,
     "tableResultSettingsMap": {},
     "title": ""
    }
   },
   "source": [
    "Step 10:Duplicate removal"
   ]
  },
  {
   "cell_type": "code",
   "execution_count": 0,
   "metadata": {
    "application/vnd.databricks.v1+cell": {
     "cellMetadata": {
      "byteLimit": 2048000,
      "rowLimit": 10000
     },
     "inputWidgets": {},
     "nuid": "c49b7ea7-c032-4caa-b5fc-8fe94318f015",
     "showTitle": false,
     "tableResultSettingsMap": {},
     "title": ""
    }
   },
   "outputs": [
    {
     "output_type": "stream",
     "name": "stdout",
     "output_type": "stream",
     "text": [
      "\uD83D\uDCCC Shape before duplicate removal: (484551, 33)\n\uD83D\uDCCC Shape after duplicate removal: (484549, 33)\n\uD83D\uDCCC Duplicate rows left: 0\n✅ Final cleaned dataset saved at: /Volumes/workspace/default/airlines/Flight_delay_final.csv\n"
     ]
    }
   ],
   "source": [
    "import pandas as pd\n",
    "\n",
    "# Paths\n",
    "cleaned_path = \"/Volumes/workspace/default/airlines/Flight_delay_cleaned.csv\"\n",
    "final_path = \"/Volumes/workspace/default/airlines/Flight_delay_final.csv\"\n",
    "\n",
    "# Load cleaned dataset\n",
    "df_cleaned = pd.read_csv(cleaned_path)\n",
    "\n",
    "# Drop duplicates\n",
    "before_shape = df_cleaned.shape\n",
    "df_final = df_cleaned.drop_duplicates()\n",
    "after_shape = df_final.shape\n",
    "\n",
    "# Save final dataset\n",
    "df_final.to_csv(final_path, index=False)\n",
    "\n",
    "print(\"\uD83D\uDCCC Shape before duplicate removal:\", before_shape)\n",
    "print(\"\uD83D\uDCCC Shape after duplicate removal:\", after_shape)\n",
    "print(\"\uD83D\uDCCC Duplicate rows left:\", df_final.duplicated().sum())\n",
    "print(f\"✅ Final cleaned dataset saved at: {final_path}\")\n"
   ]
  },
  {
   "cell_type": "markdown",
   "metadata": {
    "application/vnd.databricks.v1+cell": {
     "cellMetadata": {},
     "inputWidgets": {},
     "nuid": "5b461f80-97f2-44b8-affe-dc664f6b22b5",
     "showTitle": false,
     "tableResultSettingsMap": {},
     "title": ""
    }
   },
   "source": [
    "Step 11:Compare Cleaned vs Final"
   ]
  },
  {
   "cell_type": "code",
   "execution_count": 0,
   "metadata": {
    "application/vnd.databricks.v1+cell": {
     "cellMetadata": {
      "byteLimit": 2048000,
      "rowLimit": 10000
     },
     "inputWidgets": {},
     "nuid": "2602a734-21b9-4963-87a8-93828bb82f5a",
     "showTitle": false,
     "tableResultSettingsMap": {},
     "title": ""
    }
   },
   "outputs": [
    {
     "output_type": "stream",
     "name": "stdout",
     "output_type": "stream",
     "text": [
      "\n\uD83D\uDCCC CLEANED Dataset Shape: (484551, 33)\n\uD83D\uDCCC FINAL Dataset Shape: (484549, 33)\n\n\uD83D\uDCCC Null values in FINAL dataset:\n0 total nulls (should be 0)\n\n\uD83D\uDCCC Columns in FINAL dataset: 33\nExtra derived columns: set()\n\n\uD83D\uDCCC Sample 3 rows from FINAL dataset:\n   DayOfWeek        Date  DepTime  ArrTime  ...  Month DayNumber Hour    Route\n0          4  2019-03-01     1829     1959  ...      3         1   18  IND-BWI\n1          4  2019-03-01     1937     2037  ...      3         1   19  IND-LAS\n2          4  2019-03-01     1644     1845  ...      3         1   16  IND-MCO\n\n[3 rows x 33 columns]\n"
     ]
    }
   ],
   "source": [
    "# Load final dataset\n",
    "df_final = pd.read_csv(final_path)\n",
    "\n",
    "print(\"\\n\uD83D\uDCCC CLEANED Dataset Shape:\", df_cleaned.shape)\n",
    "print(\"\uD83D\uDCCC FINAL Dataset Shape:\", df_final.shape)\n",
    "\n",
    "# Check nulls\n",
    "print(\"\\n\uD83D\uDCCC Null values in FINAL dataset:\")\n",
    "print(df_final.isnull().sum().sum(), \"total nulls (should be 0)\")\n",
    "\n",
    "# Compare extra columns\n",
    "print(\"\\n\uD83D\uDCCC Columns in FINAL dataset:\", len(df_final.columns))\n",
    "print(\"Extra derived columns:\", set(df_final.columns) - set(df_cleaned.columns))\n",
    "\n",
    "# Quick sample\n",
    "print(\"\\n\uD83D\uDCCC Sample 3 rows from FINAL dataset:\")\n",
    "print(df_final.head(3))\n"
   ]
  },
  {
   "cell_type": "markdown",
   "metadata": {
    "application/vnd.databricks.v1+cell": {
     "cellMetadata": {},
     "inputWidgets": {},
     "nuid": "d781a6dc-1e31-4993-910e-100326f23ae9",
     "showTitle": false,
     "tableResultSettingsMap": {},
     "title": ""
    }
   },
   "source": []
  }
 ],
 "metadata": {
  "application/vnd.databricks.v1+notebook": {
   "computePreferences": null,
   "dashboards": [],
   "environmentMetadata": {
    "base_environment": "",
    "environment_version": "3"
   },
   "inputWidgetPreferences": null,
   "language": "python",
   "notebookMetadata": {
    "mostRecentlyExecutedCommandWithImplicitDF": {
     "commandId": -1,
     "dataframes": [
      "_sqldf"
     ]
    },
    "pythonIndentUnit": 4
   },
   "notebookName": "Airlines project Infosys Springboard Yuvadharanie",
   "widgets": {}
  },
  "language_info": {
   "name": "python"
  }
 },
 "nbformat": 4,
 "nbformat_minor": 0
}
