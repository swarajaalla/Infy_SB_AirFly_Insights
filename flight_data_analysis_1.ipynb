{
 "cells": [
  {
   "cell_type": "markdown",
   "metadata": {
    "application/vnd.databricks.v1+cell": {
     "cellMetadata": {
      "byteLimit": 2048000,
      "rowLimit": 10000
     },
     "inputWidgets": {},
     "nuid": "9c76193c-e710-42f5-951a-cadad1404cf5",
     "showTitle": false,
     "tableResultSettingsMap": {},
     "title": ""
    }
   },
   "source": [
    "DayOfWeek → Day of the week (1 = Monday, …, 7 = Sunday).\n",
    "\n",
    "Date → Flight date.\n",
    "\n",
    "DepTime → Actual departure time (local, HHMM format, e.g., 1345 = 1:45 PM).\n",
    "\n",
    "ArrTime → Actual arrival time (local, HHMM format).\n",
    "\n",
    "CRSArrTime → Scheduled arrival time (as per airline’s published schedule).\n",
    "\n",
    "UniqueCarrier → Carrier code (e.g., \"AA\" = American Airlines, \"DL\" = Delta).\n",
    "\n",
    "Airline → Airline name (full name of UniqueCarrier).\n",
    "\n",
    "FlightNum → Flight number assigned by the airline.\n",
    "\n",
    "TailNum → Aircraft registration number (plane’s unique ID).\n",
    "\n",
    "ActualElapsedTime → Actual elapsed flight time in minutes (ArrTime − DepTime).\n",
    "\n",
    "CRSElapsedTime → Scheduled elapsed flight time in minutes.\n",
    "\n",
    "AirTime → Actual time spent flying in minutes (excluding taxiing).\n",
    "\n",
    "ArrDelay → Arrival delay in minutes (early arrivals = negative values).\n",
    "\n",
    "DepDelay → Departure delay in minutes.\n",
    "\n",
    "Origin → Origin airport code (e.g., \"ATL\" = Atlanta).\n",
    "\n",
    "Org_Airport → Origin airport full name (if available).\n",
    "\n",
    "Dest → Destination airport code (e.g., \"LAX\" = Los Angeles).\n",
    "\n",
    "Dest_Airport → Destination airport full name (if available).\n",
    "\n",
    "Distance → Distance between origin and destination airports (miles).\n",
    "\n",
    "TaxiIn → Taxi-in time in minutes (arrival gate from runway).\n",
    "\n",
    "TaxiOut → Taxi-out time in minutes (departure runway from gate).\n",
    "\n",
    "Cancelled → 1 = Flight cancelled, 0 = Not cancelled.\n",
    "\n",
    "CancellationCode → Reason for cancellation:\n",
    "\n",
    "\"A\" = Carrier\n",
    "\n",
    "\"B\" = Weather\n",
    "\n",
    "\"C\" = NAS (National Airspace System)\n",
    "\n",
    "\"D\" = Security\n",
    "\n",
    "Diverted → 1 = Flight diverted, 0 = Not diverted.\n",
    "\n",
    "CarrierDelay → Delay minutes due to airline (maintenance, crew, etc.).\n",
    "\n",
    "WeatherDelay → Delay minutes due to weather.\n",
    "\n",
    "NASDelay → Delay minutes due to National Airspace System (air traffic control, heavy traffic, etc.).\n",
    "\n",
    "SecurityDelay → Delay minutes due to security (e.g., evacuation, screening).\n",
    "\n",
    "LateAircraftDelay → Delay minutes because the aircraft arrived late from a previous flight."
   ]
  },
  {
   "cell_type": "code",
   "execution_count": 0,
   "metadata": {
    "application/vnd.databricks.v1+cell": {
     "cellMetadata": {
      "byteLimit": 2048000,
      "rowLimit": 10000
     },
     "inputWidgets": {},
     "nuid": "8b41bfe1-1032-42d4-bc5e-536a27fc579b",
     "showTitle": false,
     "tableResultSettingsMap": {},
     "title": ""
    }
   },
   "outputs": [
    {
     "output_type": "stream",
     "name": "stdout",
     "output_type": "stream",
     "text": [
      "   DayOfWeek        Date  DepTime  ArrTime  CRSArrTime UniqueCarrier  \\\n0          4  03-01-2019     1829     1959        1925            WN   \n1          4  03-01-2019     1937     2037        1940            WN   \n2          4  03-01-2019     1644     1845        1725            WN   \n3          4  03-01-2019     1452     1640        1625            WN   \n4          4  03-01-2019     1323     1526        1510            WN   \n\n                  Airline  FlightNum TailNum  ActualElapsedTime  \\\n0  Southwest Airlines Co.       3920  N464WN                 90   \n1  Southwest Airlines Co.        509  N763SW                240   \n2  Southwest Airlines Co.       1333  N334SW                121   \n3  Southwest Airlines Co.        675  N286WN                228   \n4  Southwest Airlines Co.          4  N674AA                123   \n\n   CRSElapsedTime  AirTime  ArrDelay  DepDelay Origin  \\\n0              90       77        34        34    IND   \n1             250      230        57        67    IND   \n2             135      107        80        94    IND   \n3             240      213        15        27    IND   \n4             135      110        16        28    IND   \n\n                          Org_Airport Dest  \\\n0  Indianapolis International Airport  BWI   \n1  Indianapolis International Airport  LAS   \n2  Indianapolis International Airport  MCO   \n3  Indianapolis International Airport  PHX   \n4  Indianapolis International Airport  TPA   \n\n                                 Dest_Airport  Distance  TaxiIn  TaxiOut  \\\n0  Baltimore-Washington International Airport       515       3       10   \n1              McCarran International Airport      1591       3        7   \n2               Orlando International Airport       828       6        8   \n3    Phoenix Sky Harbor International Airport      1489       7        8   \n4                 Tampa International Airport       838       4        9   \n\n   Cancelled CancellationCode  Diverted  CarrierDelay  WeatherDelay  NASDelay  \\\n0          0                N         0             2             0         0   \n1          0                N         0            10             0         0   \n2          0                N         0             8             0         0   \n3          0                N         0             3             0         0   \n4          0                N         0             0             0         0   \n\n   SecurityDelay  LateAircraftDelay  \n0              0                 32  \n1              0                 47  \n2              0                 72  \n3              0                 12  \n4              0                 16  \n"
     ]
    }
   ],
   "source": [
    "import pandas as pd\n",
    "\n",
    "# Replace 'your_file.csv' with the path to your dataset\n",
    "data = pd.read_csv(\"/Volumes/workspace/default/airlines/Flight_delay.csv\")\n",
    "\n",
    "# Display first 5 rows\n",
    "print(data.head())\n"
   ]
  },
  {
   "cell_type": "code",
   "execution_count": 0,
   "metadata": {
    "application/vnd.databricks.v1+cell": {
     "cellMetadata": {
      "byteLimit": 2048000,
      "rowLimit": 10000
     },
     "inputWidgets": {},
     "nuid": "eb4878f0-0f7a-4ae8-820f-5321bb6aba79",
     "showTitle": false,
     "tableResultSettingsMap": {},
     "title": ""
    }
   },
   "outputs": [
    {
     "output_type": "stream",
     "name": "stdout",
     "output_type": "stream",
     "text": [
      "Columns in the dataset:\n['DayOfWeek', 'Date', 'DepTime', 'ArrTime', 'CRSArrTime', 'UniqueCarrier', 'Airline', 'FlightNum', 'TailNum', 'ActualElapsedTime', 'CRSElapsedTime', 'AirTime', 'ArrDelay', 'DepDelay', 'Origin', 'Org_Airport', 'Dest', 'Dest_Airport', 'Distance', 'TaxiIn', 'TaxiOut', 'Cancelled', 'CancellationCode', 'Diverted', 'CarrierDelay', 'WeatherDelay', 'NASDelay', 'SecurityDelay', 'LateAircraftDelay']\n"
     ]
    }
   ],
   "source": [
    "\n",
    "\n",
    "\n",
    "\n",
    "# Get all column names\n",
    "columns = data.columns.tolist()\n",
    "\n",
    "print(\"Columns in the dataset:\")\n",
    "print(columns)\n"
   ]
  },
  {
   "cell_type": "code",
   "execution_count": 0,
   "metadata": {
    "application/vnd.databricks.v1+cell": {
     "cellMetadata": {
      "byteLimit": 2048000,
      "rowLimit": 10000
     },
     "inputWidgets": {},
     "nuid": "f842537d-0cc6-431c-bf14-571243368b70",
     "showTitle": false,
     "tableResultSettingsMap": {},
     "title": ""
    }
   },
   "outputs": [
    {
     "output_type": "stream",
     "name": "stdout",
     "output_type": "stream",
     "text": [
      "   DayOfWeek        Date  DepTime  ArrTime  CRSArrTime UniqueCarrier  \\\n0          4  03-01-2019     1829     1959        1925            WN   \n1          4  03-01-2019     1937     2037        1940            WN   \n2          4  03-01-2019     1644     1845        1725            WN   \n3          4  03-01-2019     1452     1640        1625            WN   \n4          4  03-01-2019     1323     1526        1510            WN   \n\n                  Airline  FlightNum TailNum  ActualElapsedTime  \\\n0  Southwest Airlines Co.       3920  N464WN                 90   \n1  Southwest Airlines Co.        509  N763SW                240   \n2  Southwest Airlines Co.       1333  N334SW                121   \n3  Southwest Airlines Co.        675  N286WN                228   \n4  Southwest Airlines Co.          4  N674AA                123   \n\n   CRSElapsedTime  AirTime  ArrDelay  DepDelay Origin  \\\n0              90       77        34        34    IND   \n1             250      230        57        67    IND   \n2             135      107        80        94    IND   \n3             240      213        15        27    IND   \n4             135      110        16        28    IND   \n\n                          Org_Airport Dest  \\\n0  Indianapolis International Airport  BWI   \n1  Indianapolis International Airport  LAS   \n2  Indianapolis International Airport  MCO   \n3  Indianapolis International Airport  PHX   \n4  Indianapolis International Airport  TPA   \n\n                                 Dest_Airport  Distance  TaxiIn  TaxiOut  \\\n0  Baltimore-Washington International Airport       515       3       10   \n1              McCarran International Airport      1591       3        7   \n2               Orlando International Airport       828       6        8   \n3    Phoenix Sky Harbor International Airport      1489       7        8   \n4                 Tampa International Airport       838       4        9   \n\n   Cancelled CancellationCode  Diverted  CarrierDelay  WeatherDelay  NASDelay  \\\n0          0                N         0             2             0         0   \n1          0                N         0            10             0         0   \n2          0                N         0             8             0         0   \n3          0                N         0             3             0         0   \n4          0                N         0             0             0         0   \n\n   SecurityDelay  LateAircraftDelay  \n0              0                 32  \n1              0                 47  \n2              0                 72  \n3              0                 12  \n4              0                 16  \n"
     ]
    }
   ],
   "source": [
    "print(data.head())"
   ]
  },
  {
   "cell_type": "code",
   "execution_count": 0,
   "metadata": {
    "application/vnd.databricks.v1+cell": {
     "cellMetadata": {
      "byteLimit": 2048000,
      "rowLimit": 10000
     },
     "inputWidgets": {},
     "nuid": "b1dd4418-21b9-452d-af31-0777af20fa36",
     "showTitle": false,
     "tableResultSettingsMap": {},
     "title": ""
    }
   },
   "outputs": [
    {
     "output_type": "stream",
     "name": "stdout",
     "output_type": "stream",
     "text": [
      "\n--- Dataset Info ---\n<class 'pandas.core.frame.DataFrame'>\nRangeIndex: 484551 entries, 0 to 484550\nData columns (total 29 columns):\n #   Column             Non-Null Count   Dtype \n---  ------             --------------   ----- \n 0   DayOfWeek          484551 non-null  int64 \n 1   Date               484551 non-null  object\n 2   DepTime            484551 non-null  int64 \n 3   ArrTime            484551 non-null  int64 \n 4   CRSArrTime         484551 non-null  int64 \n 5   UniqueCarrier      484551 non-null  object\n 6   Airline            484551 non-null  object\n 7   FlightNum          484551 non-null  int64 \n 8   TailNum            484551 non-null  object\n 9   ActualElapsedTime  484551 non-null  int64 \n 10  CRSElapsedTime     484551 non-null  int64 \n 11  AirTime            484551 non-null  int64 \n 12  ArrDelay           484551 non-null  int64 \n 13  DepDelay           484551 non-null  int64 \n 14  Origin             484551 non-null  object\n 15  Org_Airport        483374 non-null  object\n 16  Dest               484551 non-null  object\n 17  Dest_Airport       483072 non-null  object\n 18  Distance           484551 non-null  int64 \n 19  TaxiIn             484551 non-null  int64 \n 20  TaxiOut            484551 non-null  int64 \n 21  Cancelled          484551 non-null  int64 \n 22  CancellationCode   484551 non-null  object\n 23  Diverted           484551 non-null  int64 \n 24  CarrierDelay       484551 non-null  int64 \n 25  WeatherDelay       484551 non-null  int64 \n 26  NASDelay           484551 non-null  int64 \n 27  SecurityDelay      484551 non-null  int64 \n 28  LateAircraftDelay  484551 non-null  int64 \ndtypes: int64(20), object(9)\nmemory usage: 107.2+ MB\n"
     ]
    }
   ],
   "source": [
    "# Set Pandas option to display ALL columns\n",
    "pd.set_option('display.max_columns', None)\n",
    "\n",
    "# Now info() and describe() will show everything\n",
    "print(\"\\n--- Dataset Info ---\")\n",
    "data.info()\n",
    "\n",
    "\n"
   ]
  },
  {
   "cell_type": "code",
   "execution_count": 0,
   "metadata": {
    "application/vnd.databricks.v1+cell": {
     "cellMetadata": {
      "byteLimit": 2048000,
      "rowLimit": 10000
     },
     "inputWidgets": {},
     "nuid": "54ba233a-e9df-4815-a009-243dfa18859e",
     "showTitle": false,
     "tableResultSettingsMap": {},
     "title": ""
    }
   },
   "outputs": [
    {
     "output_type": "stream",
     "name": "stdout",
     "output_type": "stream",
     "text": [
      "\n--- Dataset Description ---\n            DayOfWeek        Date        DepTime        ArrTime  \\\ncount   484551.000000      484551  484551.000000  484551.000000   \nunique            NaN         181            NaN            NaN   \ntop               NaN  22-02-2019            NaN            NaN   \nfreq              NaN        5515            NaN            NaN   \nmean         3.991605         NaN    1564.477865    1617.784438   \nstd          1.971466         NaN     452.235219     583.637660   \nmin          1.000000         NaN       1.000000       1.000000   \n25%          2.000000         NaN    1234.000000    1327.000000   \n50%          4.000000         NaN    1620.000000    1737.000000   \n75%          6.000000         NaN    1928.000000    2049.000000   \nmax          7.000000         NaN    2400.000000    2400.000000   \n\n           CRSArrTime UniqueCarrier                 Airline      FlightNum  \\\ncount   484551.000000        484551                  484551  484551.000000   \nunique            NaN            12                      12            NaN   \ntop               NaN            WN  Southwest Airlines Co.            NaN   \nfreq              NaN        119048                  119048            NaN   \nmean      1652.129929           NaN                     NaN    2139.207386   \nstd        466.096216           NaN                     NaN    1812.677071   \nmin          1.000000           NaN                     NaN       1.000000   \n25%       1339.000000           NaN                     NaN     629.000000   \n50%       1723.000000           NaN                     NaN    1514.000000   \n75%       2025.000000           NaN                     NaN    3683.000000   \nmax       2359.000000           NaN                     NaN    8403.000000   \n\n       TailNum  ActualElapsedTime  CRSElapsedTime        AirTime  \\\ncount   484551      484551.000000   484551.000000  484551.000000   \nunique    3512                NaN             NaN            NaN   \ntop     N645AE                NaN             NaN            NaN   \nfreq       367                NaN             NaN            NaN   \nmean       NaN         134.810422      131.400761     108.877134   \nstd        NaN          74.070374       71.542531      70.113513   \nmin        NaN          15.000000      -21.000000       0.000000   \n25%        NaN          80.000000       79.000000      57.000000   \n50%        NaN         116.000000      114.000000      90.000000   \n75%        NaN         168.000000      162.000000     139.000000   \nmax        NaN         727.000000      602.000000     609.000000   \n\n             ArrDelay       DepDelay  Origin  \\\ncount   484551.000000  484551.000000  484551   \nunique            NaN            NaN     274   \ntop               NaN            NaN     ORD   \nfreq              NaN            NaN   46945   \nmean        60.907764      57.498086     NaN   \nstd         56.975420      55.991012     NaN   \nmin         15.000000       6.000000     NaN   \n25%         25.000000      23.000000     NaN   \n50%         42.000000      40.000000     NaN   \n75%         76.000000      72.000000     NaN   \nmax       1707.000000    1710.000000     NaN   \n\n                                 Org_Airport    Dest  \\\ncount                                 483374  484551   \nunique                                   259     274   \ntop     Chicago O'Hare International Airport     ORD   \nfreq                                   46945   40622   \nmean                                     NaN     NaN   \nstd                                      NaN     NaN   \nmin                                      NaN     NaN   \n25%                                      NaN     NaN   \n50%                                      NaN     NaN   \n75%                                      NaN     NaN   \nmax                                      NaN     NaN   \n\n                                Dest_Airport       Distance         TaxiIn  \\\ncount                                 483072  484551.000000  484551.000000   \nunique                                   259            NaN            NaN   \ntop     Chicago O'Hare International Airport            NaN            NaN   \nfreq                                   40622            NaN            NaN   \nmean                                     NaN     752.142689       6.782413   \nstd                                      NaN     571.631124       5.555816   \nmin                                      NaN      31.000000       0.000000   \n25%                                      NaN     331.000000       4.000000   \n50%                                      NaN     599.000000       5.000000   \n75%                                      NaN     992.000000       8.000000   \nmax                                      NaN    4502.000000     207.000000   \n\n              TaxiOut  Cancelled CancellationCode  Diverted   CarrierDelay  \\\ncount   484551.000000   484551.0           484551  484551.0  484551.000000   \nunique            NaN        NaN                1       NaN            NaN   \ntop               NaN        NaN                N       NaN            NaN   \nfreq              NaN        NaN           484551       NaN            NaN   \nmean        19.150876        0.0              NaN       0.0      17.419440   \nstd         15.309747        0.0              NaN       0.0      39.417893   \nmin          0.000000        0.0              NaN       0.0       0.000000   \n25%         11.000000        0.0              NaN       0.0       0.000000   \n50%         15.000000        0.0              NaN       0.0       2.000000   \n75%         22.000000        0.0              NaN       0.0      19.000000   \nmax        383.000000        0.0              NaN       0.0    1707.000000   \n\n         WeatherDelay       NASDelay  SecurityDelay  LateAircraftDelay  \ncount   484551.000000  484551.000000  484551.000000      484551.000000  \nunique            NaN            NaN            NaN                NaN  \ntop               NaN            NaN            NaN                NaN  \nfreq              NaN            NaN            NaN                NaN  \nmean         3.153284      13.599421       0.082033          26.653587  \nstd         19.503657      31.454655       1.884774          40.535994  \nmin          0.000000       0.000000       0.000000           0.000000  \n25%          0.000000       0.000000       0.000000           0.000000  \n50%          0.000000       1.000000       0.000000          13.000000  \n75%          0.000000      13.000000       0.000000          36.000000  \nmax       1148.000000    1357.000000     392.000000        1254.000000  \n"
     ]
    }
   ],
   "source": [
    "print(\"\\n--- Dataset Description ---\")\n",
    "print(data.describe(include='all'))  # include='all' adds categorical columns too"
   ]
  },
  {
   "cell_type": "code",
   "execution_count": 0,
   "metadata": {
    "application/vnd.databricks.v1+cell": {
     "cellMetadata": {
      "byteLimit": 2048000,
      "rowLimit": 10000
     },
     "inputWidgets": {},
     "nuid": "8a2ecf39-4896-4ba7-8077-905aa65320c5",
     "showTitle": false,
     "tableResultSettingsMap": {},
     "title": ""
    }
   },
   "outputs": [
    {
     "output_type": "stream",
     "name": "stdout",
     "output_type": "stream",
     "text": [
      "Before removing duplicates: (484551, 29)\nAfter removing duplicates: (484549, 29)\n"
     ]
    }
   ],
   "source": [
    "# Remove duplicate rows\n",
    "data_no_duplicates = data.drop_duplicates()\n",
    "print(\"Before removing duplicates:\", data.shape)\n",
    "print(\"After removing duplicates:\", data_no_duplicates.shape)"
   ]
  },
  {
   "cell_type": "code",
   "execution_count": 0,
   "metadata": {
    "application/vnd.databricks.v1+cell": {
     "cellMetadata": {
      "byteLimit": 2048000,
      "rowLimit": 10000
     },
     "inputWidgets": {},
     "nuid": "17df7e19-d626-496b-bc1d-71f1ff39cc42",
     "showTitle": false,
     "tableResultSettingsMap": {},
     "title": ""
    }
   },
   "outputs": [
    {
     "output_type": "stream",
     "name": "stdout",
     "output_type": "stream",
     "text": [
      "        DayOfWeek        Date  DepTime  ArrTime  CRSArrTime UniqueCarrier  \\\n9098            5  18-01-2019     2149     2304        2235            WN   \n52651           1  21-01-2019      835      957         905            EV   \n185971          5  14-03-2019     2136     2314        2230            WN   \n37599           4  10-01-2019     1932     2109        2010            UA   \n238854          1  17-03-2019     1447     1632        1615            MQ   \n\n                             Airline  FlightNum TailNum  ActualElapsedTime  \\\n9098          Southwest Airlines Co.       3332  N345SA                 75   \n52651    Atlantic Southeast Airlines       4450  N851AS                 82   \n185971        Southwest Airlines Co.       1071  N506SW                 98   \n37599          United Air Lines Inc.       1219  N818UA                157   \n238854  American Eagle Airlines Inc.       3861  N823AE                105   \n\n        CRSElapsedTime  AirTime  ArrDelay  DepDelay Origin  \\\n9098                80       60        29        34    SMF   \n52651               95       64        52        65    ATL   \n185971              85       54        44        31    PHL   \n37599              156      131        59        58    PHL   \n238854             110       85        17        22    DFW   \n\n                                             Org_Airport Dest  \\\n9098                    Sacramento International Airport  LAS   \n52651   Hartsfield-Jackson Atlanta International Airport  PHF   \n185971                Philadelphia International Airport  MHT   \n37599                 Philadelphia International Airport  ORD   \n238854           Dallas/Fort Worth International Airport  VPS   \n\n                                           Dest_Airport  Distance  TaxiIn  \\\n9098                     McCarran International Airport       397       6   \n52651   Newport News/Williamsburg International Airport       508       5   \n185971               Manchester-Boston Regional Airport       290       3   \n37599              Chicago O'Hare International Airport       678       9   \n238854       Destin-Fort Walton Beach Airport/Eglin AFB       626       8   \n\n        TaxiOut  Cancelled CancellationCode  Diverted  CarrierDelay  \\\n9098          9          0                N         0             3   \n52651        13          0                N         0            52   \n185971       41          0                N         0             0   \n37599        17          0                N         0             0   \n238854       12          0                N         0            17   \n\n        WeatherDelay  NASDelay  SecurityDelay  LateAircraftDelay  \n9098               0         0              0                 26  \n52651              0         0              0                  0  \n185971             0        13              0                 31  \n37599              0        59              0                  0  \n238854             0         0              0                  0  \n"
     ]
    }
   ],
   "source": [
    "sample_df = data.sample(frac=0.01, random_state=42)  # 1% random sample\n",
    "print(sample_df.head())"
   ]
  },
  {
   "cell_type": "code",
   "execution_count": 0,
   "metadata": {
    "application/vnd.databricks.v1+cell": {
     "cellMetadata": {
      "byteLimit": 2048000,
      "rowLimit": 10000
     },
     "inputWidgets": {},
     "nuid": "53b87efe-f322-4f70-bbd7-11c1ee6be04b",
     "showTitle": false,
     "tableResultSettingsMap": {},
     "title": ""
    }
   },
   "outputs": [],
   "source": [
    "#random sampling\n",
    "\n",
    "sample_df = pd.read_csv(\"/Volumes/workspace/default/airlines/Flight_delay.csv\", nrows=100000)  # first 100k rows"
   ]
  },
  {
   "cell_type": "code",
   "execution_count": 0,
   "metadata": {
    "application/vnd.databricks.v1+cell": {
     "cellMetadata": {
      "byteLimit": 2048000,
      "rowLimit": 10000
     },
     "inputWidgets": {},
     "nuid": "02dc77c8-1e8d-4004-b75a-f97e0745271c",
     "showTitle": false,
     "tableResultSettingsMap": {},
     "title": ""
    }
   },
   "outputs": [],
   "source": [
    "sample_df = data.groupby(\"Airline\", group_keys=False).apply(lambda x: x.sample(frac=0.01))"
   ]
  },
  {
   "cell_type": "markdown",
   "metadata": {
    "application/vnd.databricks.v1+cell": {
     "cellMetadata": {
      "byteLimit": 2048000,
      "rowLimit": 10000
     },
     "inputWidgets": {},
     "nuid": "ec9e5849-33b5-4dd6-8f4f-58e3c2aeaebd",
     "showTitle": false,
     "tableResultSettingsMap": {},
     "title": ""
    }
   },
   "source": [
    "Key Optimizations\n",
    "\n",
    "Integers downcasted (int64 → int8/16/32)\n",
    "Example: DayOfWeek, Cancelled, Diverted can fit into int8.\n",
    "\n",
    "Floats used for delay columns since they can contain NaN.\n",
    "\n",
    "Objects → Categories (Airline, Origin, Dest, etc.), since they repeat values.\n",
    "\n",
    "Memory report before & after shows how much RAM was saved."
   ]
  },
  {
   "cell_type": "code",
   "execution_count": 0,
   "metadata": {
    "application/vnd.databricks.v1+cell": {
     "cellMetadata": {
      "byteLimit": 2048000,
      "rowLimit": 10000
     },
     "inputWidgets": {},
     "nuid": "e4909d39-40f4-4ec8-bb72-23abdc544e8f",
     "showTitle": false,
     "tableResultSettingsMap": {},
     "title": ""
    }
   },
   "outputs": [],
   "source": [
    "#Memory Management\n",
    "\n",
    "\n",
    "def optimize_airfly_memory(path):\n",
    "    \"\"\"\n",
    "    Load AirFly dataset with optimized dtypes for memory usage.\n",
    "    \"\"\"\n",
    "    # Define numeric downcast mapping\n",
    "    dtype_map = {\n",
    "        \"DayOfWeek\": \"int8\",\n",
    "        \"DepTime\": \"int32\",\n",
    "        \"ArrTime\": \"int32\",\n",
    "        \"CRSArrTime\": \"int32\",\n",
    "        \"FlightNum\": \"int32\",\n",
    "        \"ActualElapsedTime\": \"float32\",   # may contain nulls after cleaning\n",
    "        \"CRSElapsedTime\": \"float32\",\n",
    "        \"AirTime\": \"float32\",\n",
    "        \"ArrDelay\": \"float32\",\n",
    "        \"DepDelay\": \"float32\",\n",
    "        \"Distance\": \"int32\",\n",
    "        \"TaxiIn\": \"float32\",\n",
    "        \"TaxiOut\": \"float32\",\n",
    "        \"Cancelled\": \"int8\",\n",
    "        \"Diverted\": \"int8\",\n",
    "        \"CarrierDelay\": \"float32\",\n",
    "        \"WeatherDelay\": \"float32\",\n",
    "        \"NASDelay\": \"float32\",\n",
    "        \"SecurityDelay\": \"float32\",\n",
    "        \"LateAircraftDelay\": \"float32\"\n",
    "    }\n",
    "\n",
    "    # Read CSV with dtype mapping (for numeric columns)\n",
    "    data = pd.read_csv(\"/Volumes/workspace/default/airlines/Flight_delay.csv\", dtype=dtype_map, low_memory=True)\n",
    "\n",
    "    # Convert object columns to category\n",
    "    categorical_cols = [\n",
    "        \"Date\", \"UniqueCarrier\", \"Airline\", \"TailNum\",\n",
    "        \"Origin\", \"Org_Airport\", \"Dest\", \"Dest_Airport\",\n",
    "        \"CancellationCode\"\n",
    "    ]\n",
    "    for col in categorical_cols:\n",
    "        data[col] = data[col].astype(\"category\")\n",
    "\n",
    "    return data\n",
    "\n",
    "\n",
    "def report_memory(data):\n",
    "    \"\"\"\n",
    "    Prints memory usage of dataframe in MB by column.\n",
    "    \"\"\"\n",
    "    mem = data.memory_usage(deep=True) / 1024**2\n",
    "    mem_data = mem.reset_index()\n",
    "    mem_data.columns = [\"Column\", \"Memory_MB\"]\n",
    "    print(\"Total Memory: {:.2f} MB\".format(mem.sum()))\n",
    "    return mem_data\n",
    "\n",
    "\n",
    "\n"
   ]
  },
  {
   "cell_type": "code",
   "execution_count": 0,
   "metadata": {
    "application/vnd.databricks.v1+cell": {
     "cellMetadata": {
      "byteLimit": 2048000,
      "rowLimit": 10000
     },
     "inputWidgets": {},
     "nuid": "ea92a140-92c8-4ae5-b5de-0f9b26a02f3e",
     "showTitle": false,
     "tableResultSettingsMap": {},
     "title": ""
    }
   },
   "outputs": [
    {
     "output_type": "stream",
     "name": "stdout",
     "output_type": "stream",
     "text": [
      "\uD83D\uDD39 Loading original dataset...\nOriginal memory usage:\nTotal Memory: 334.41 MB\n               Column  Memory_MB\n0               Index   0.000126\n1           DayOfWeek   3.696831\n2                Date  27.264127\n3             DepTime   3.696831\n4             ArrTime   3.696831\n5          CRSArrTime   3.696831\n6       UniqueCarrier  23.567296\n7             Airline  32.788416\n8           FlightNum   3.696831\n9             TailNum  25.414421\n10  ActualElapsedTime   3.696831\n11     CRSElapsedTime   3.696831\n12            AirTime   3.696831\n13           ArrDelay   3.696831\n14           DepDelay   3.696831\n15             Origin  24.029400\n16        Org_Airport  40.147590\n17               Dest  24.029400\n18       Dest_Airport  40.130426\n19           Distance   3.696831\n20             TaxiIn   3.696831\n21            TaxiOut   3.696831\n22          Cancelled   3.696831\n23   CancellationCode  23.105192\n24           Diverted   3.696831\n25       CarrierDelay   3.696831\n26       WeatherDelay   3.696831\n27           NASDelay   3.696831\n28      SecurityDelay   3.696831\n29  LateAircraftDelay   3.696831\n"
     ]
    }
   ],
   "source": [
    "# Example usage\n",
    "path = \"/Volumes/workspace/default/airlines/Flight_delay.csv\"\n",
    "\n",
    "print(\"\uD83D\uDD39 Loading original dataset...\")\n",
    "df_raw = pd.read_csv(path)\n",
    "print(\"Original memory usage:\")\n",
    "print(report_memory(df_raw))\n"
   ]
  },
  {
   "cell_type": "code",
   "execution_count": 0,
   "metadata": {
    "application/vnd.databricks.v1+cell": {
     "cellMetadata": {
      "byteLimit": 2048000,
      "rowLimit": 10000
     },
     "inputWidgets": {},
     "nuid": "20ddaab0-3804-4dff-971c-5d41b2b0b1fc",
     "showTitle": false,
     "tableResultSettingsMap": {},
     "title": ""
    }
   },
   "outputs": [
    {
     "output_type": "stream",
     "name": "stdout",
     "output_type": "stream",
     "text": [
      "\n\uD83D\uDD39 Loading optimized dataset...\nOptimized memory usage:\nTotal Memory: 40.17 MB\n               Column  Memory_MB\n0               Index   0.000126\n1           DayOfWeek   0.462104\n2                Date   0.938367\n3             DepTime   1.848415\n4             ArrTime   1.848415\n5          CRSArrTime   1.848415\n6       UniqueCarrier   0.462974\n7             Airline   0.463194\n8           FlightNum   1.848415\n9             TailNum   1.234409\n10  ActualElapsedTime   1.848415\n11     CRSElapsedTime   1.848415\n12            AirTime   1.848415\n13           ArrDelay   1.848415\n14           DepDelay   1.848415\n15             Origin   0.945707\n16        Org_Airport   0.952967\n17               Dest   0.945707\n18       Dest_Airport   0.952967\n19           Distance   1.848415\n20             TaxiIn   1.848415\n21            TaxiOut   1.848415\n22          Cancelled   0.462104\n23   CancellationCode   0.462255\n24           Diverted   0.462104\n25       CarrierDelay   1.848415\n26       WeatherDelay   1.848415\n27           NASDelay   1.848415\n28      SecurityDelay   1.848415\n29  LateAircraftDelay   1.848415\n"
     ]
    }
   ],
   "source": [
    "path = \"/Volumes/workspace/default/airlines/Flight_delay.csv\"\n",
    "print(\"\\n\uD83D\uDD39 Loading optimized dataset...\")\n",
    "df_opt = optimize_airfly_memory(path)\n",
    "print(\"Optimized memory usage:\")\n",
    "print(report_memory(df_opt))"
   ]
  },
  {
   "cell_type": "code",
   "execution_count": 0,
   "metadata": {
    "application/vnd.databricks.v1+cell": {
     "cellMetadata": {
      "byteLimit": 2048000,
      "rowLimit": 10000
     },
     "inputWidgets": {},
     "nuid": "5038e954-3bba-4793-b538-ec1a5df8c648",
     "showTitle": false,
     "tableResultSettingsMap": {},
     "title": ""
    }
   },
   "outputs": [
    {
     "output_type": "stream",
     "name": "stdout",
     "output_type": "stream",
     "text": [
      "Missing values per column:\nDayOfWeek               0\nDate                    0\nDepTime                 0\nArrTime                 0\nCRSArrTime              0\nUniqueCarrier           0\nAirline                 0\nFlightNum               0\nTailNum                 0\nActualElapsedTime       0\nCRSElapsedTime          0\nAirTime                 0\nArrDelay                0\nDepDelay                0\nOrigin                  0\nOrg_Airport          1177\nDest                    0\nDest_Airport         1479\nDistance                0\nTaxiIn                  0\nTaxiOut                 0\nCancelled               0\nCancellationCode        0\nDiverted                0\nCarrierDelay            0\nWeatherDelay            0\nNASDelay                0\nSecurityDelay           0\nLateAircraftDelay       0\ndtype: int64\n"
     ]
    }
   ],
   "source": [
    "# ---- General Missing Value Check ----\n",
    "print(\"Missing values per column:\")\n",
    "print(data.isnull().sum())\n"
   ]
  },
  {
   "cell_type": "code",
   "execution_count": 0,
   "metadata": {
    "application/vnd.databricks.v1+cell": {
     "cellMetadata": {
      "byteLimit": 2048000,
      "rowLimit": 10000
     },
     "inputWidgets": {},
     "nuid": "0b44c4b1-cfbf-4451-be82-bb467775cec9",
     "showTitle": false,
     "tableResultSettingsMap": {},
     "title": ""
    }
   },
   "outputs": [],
   "source": [
    "# ---- Handling Missing Values ----\n",
    "\n",
    "# 1. For categorical text fields → fill with \"Unknown\" or most frequent value\n",
    "categorical_cols = [\"Org_Airport\", \"Dest_Airport\", \"CancellationCode\", \"TailNum\"]\n",
    "for col in categorical_cols:\n",
    "    if col in data.columns:\n",
    "        data[col] = data[col].fillna(\"Unknown\")   # or use df[col].mode()[0]"
   ]
  },
  {
   "cell_type": "code",
   "execution_count": 0,
   "metadata": {
    "application/vnd.databricks.v1+cell": {
     "cellMetadata": {
      "byteLimit": 2048000,
      "rowLimit": 10000
     },
     "inputWidgets": {},
     "nuid": "8bc13f57-726a-4e9d-a799-0186c4bf8673",
     "showTitle": false,
     "tableResultSettingsMap": {},
     "title": ""
    }
   },
   "outputs": [],
   "source": [
    "# 2. For numeric fields related to delays → replace NaN with 0 (means no delay recorded)\n",
    "delay_cols = [\"CarrierDelay\", \"WeatherDelay\", \"NASDelay\", \"SecurityDelay\", \"LateAircraftDelay\"]\n",
    "for col in delay_cols:\n",
    "    if col in data.columns:\n",
    "        data[col] = data[col].fillna(0)"
   ]
  },
  {
   "cell_type": "code",
   "execution_count": 0,
   "metadata": {
    "application/vnd.databricks.v1+cell": {
     "cellMetadata": {
      "byteLimit": 2048000,
      "rowLimit": 10000
     },
     "inputWidgets": {},
     "nuid": "88be8a58-5694-4814-bc88-f1b429f165ca",
     "showTitle": false,
     "tableResultSettingsMap": {},
     "title": ""
    }
   },
   "outputs": [],
   "source": [
    "# 3. For elapsed time or airtime → fill with median (less skewed than mean)\n",
    "time_cols = [\"ActualElapsedTime\", \"AirTime\"]\n",
    "for col in time_cols:\n",
    "    if col in data.columns:\n",
    "        data[col] = data[col].fillna(data[col].median())"
   ]
  },
  {
   "cell_type": "code",
   "execution_count": 0,
   "metadata": {
    "application/vnd.databricks.v1+cell": {
     "cellMetadata": {
      "byteLimit": 2048000,
      "rowLimit": 10000
     },
     "inputWidgets": {},
     "nuid": "3a892b39-395e-40bd-9dce-9506c30ef1c0",
     "showTitle": false,
     "tableResultSettingsMap": {},
     "title": ""
    }
   },
   "outputs": [],
   "source": [
    "# ---- Cancellation column ----\n",
    "# If 'CancellationCode' is null, it means the flight was NOT cancelled\n",
    "if \"CancellationCode\" in data.columns:\n",
    "    data[\"CancellationCode\"] = data[\"CancellationCode\"].fillna(\"Not Cancelled\")"
   ]
  },
  {
   "cell_type": "code",
   "execution_count": 0,
   "metadata": {
    "application/vnd.databricks.v1+cell": {
     "cellMetadata": {
      "byteLimit": 2048000,
      "rowLimit": 10000
     },
     "inputWidgets": {},
     "nuid": "d7935baf-2fc3-4fde-a197-4e54fbafd96b",
     "showTitle": false,
     "tableResultSettingsMap": {},
     "title": ""
    }
   },
   "outputs": [
    {
     "output_type": "stream",
     "name": "stdout",
     "output_type": "stream",
     "text": [
      "CarrierDelay         0\nWeatherDelay         0\nNASDelay             0\nSecurityDelay        0\nLateAircraftDelay    0\nCancelled            0\nCancellationCode     0\ndtype: int64\n"
     ]
    }
   ],
   "source": [
    "# ---- Check results ----\n",
    "print(data[delay_cols + [\"Cancelled\", \"CancellationCode\"]].isnull().sum())"
   ]
  },
  {
   "cell_type": "code",
   "execution_count": 0,
   "metadata": {
    "application/vnd.databricks.v1+cell": {
     "cellMetadata": {
      "byteLimit": 2048000,
      "rowLimit": 10000
     },
     "inputWidgets": {},
     "nuid": "c7a4df05-2029-49b3-b41e-d4a29b021ee2",
     "showTitle": false,
     "tableResultSettingsMap": {},
     "title": ""
    }
   },
   "outputs": [],
   "source": [
    "# 4. If still missing values remain → drop those rows (safe clean-up)\n",
    "df = data.dropna()"
   ]
  },
  {
   "cell_type": "code",
   "execution_count": 0,
   "metadata": {
    "application/vnd.databricks.v1+cell": {
     "cellMetadata": {
      "byteLimit": 2048000,
      "rowLimit": 10000
     },
     "inputWidgets": {},
     "nuid": "9a83b9ca-95bb-49b1-9a18-17048b294fb5",
     "showTitle": false,
     "tableResultSettingsMap": {},
     "title": ""
    }
   },
   "outputs": [
    {
     "output_type": "stream",
     "name": "stdout",
     "output_type": "stream",
     "text": [
      "\nMissing values after cleaning:\nDayOfWeek            0\nDate                 0\nDepTime              0\nArrTime              0\nCRSArrTime           0\nUniqueCarrier        0\nAirline              0\nFlightNum            0\nTailNum              0\nActualElapsedTime    0\nCRSElapsedTime       0\nAirTime              0\nArrDelay             0\nDepDelay             0\nOrigin               0\nOrg_Airport          0\nDest                 0\nDest_Airport         0\nDistance             0\nTaxiIn               0\nTaxiOut              0\nCancelled            0\nCancellationCode     0\nDiverted             0\nCarrierDelay         0\nWeatherDelay         0\nNASDelay             0\nSecurityDelay        0\nLateAircraftDelay    0\ndtype: int64\n"
     ]
    }
   ],
   "source": [
    "# ---- Verify again ----\n",
    "print(\"\\nMissing values after cleaning:\")\n",
    "print(data.isnull().sum())"
   ]
  },
  {
   "cell_type": "markdown",
   "metadata": {
    "application/vnd.databricks.v1+cell": {
     "cellMetadata": {
      "byteLimit": 2048000,
      "rowLimit": 10000
     },
     "inputWidgets": {},
     "nuid": "69824ae4-e8fe-4fe3-98eb-09c524001043",
     "showTitle": false,
     "tableResultSettingsMap": {},
     "title": ""
    }
   },
   "source": [
    "Delay columns → Null means no delay logged → safely replaced with 0.\n",
    "\n",
    "CancellationCode → Null means flight wasn’t cancelled → replaced with \"Not Cancelled\".\n",
    "\n",
    "Cancelled column (0/1) → already numeric, but you can also double-check consistency (if Cancelled=0, then CancellationCode should be \"Not Cancelled\")."
   ]
  },
  {
   "cell_type": "code",
   "execution_count": 0,
   "metadata": {
    "application/vnd.databricks.v1+cell": {
     "cellMetadata": {
      "byteLimit": 2048000,
      "rowLimit": 10000
     },
     "inputWidgets": {},
     "nuid": "1d58b7d0-e974-4523-af4a-c558648e202b",
     "showTitle": false,
     "tableResultSettingsMap": {},
     "title": ""
    }
   },
   "outputs": [],
   "source": [
    "# ---- Convert 'Date' + 'DepTime' into a proper datetime ----\n",
    "# Step 1: Ensure Date is datetime\n",
    "data[\"Date\"] = pd.to_datetime(data[\"Date\"], dayfirst=True, errors=\"coerce\")\n",
    "\n"
   ]
  },
  {
   "cell_type": "code",
   "execution_count": 0,
   "metadata": {
    "application/vnd.databricks.v1+cell": {
     "cellMetadata": {
      "byteLimit": 2048000,
      "rowLimit": 10000
     },
     "inputWidgets": {},
     "nuid": "119f4818-c68c-4ae6-aded-89bf208a14e9",
     "showTitle": false,
     "tableResultSettingsMap": {},
     "title": ""
    }
   },
   "outputs": [],
   "source": [
    "# Step 2: Convert DepTime (HHMM int) into string with leading zeros\n",
    "data[\"DepTime\"] = data[\"DepTime\"].apply(lambda x: f\"{int(x):04d}\" if pd.notnull(x) else \"0000\")\n"
   ]
  },
  {
   "cell_type": "code",
   "execution_count": 0,
   "metadata": {
    "application/vnd.databricks.v1+cell": {
     "cellMetadata": {
      "byteLimit": 2048000,
      "rowLimit": 10000
     },
     "inputWidgets": {},
     "nuid": "1b462fa8-25e1-4db1-bee1-2e8fde47250a",
     "showTitle": false,
     "tableResultSettingsMap": {},
     "title": ""
    }
   },
   "outputs": [],
   "source": [
    "# Step 3: Extract hour + minute\n",
    "data[\"DepHour\"] = data[\"DepTime\"].str[:2].astype(int)\n",
    "data[\"DepMinute\"] = data[\"DepTime\"].str[2:].astype(int)"
   ]
  },
  {
   "cell_type": "code",
   "execution_count": 0,
   "metadata": {
    "application/vnd.databricks.v1+cell": {
     "cellMetadata": {
      "byteLimit": 2048000,
      "rowLimit": 10000
     },
     "inputWidgets": {},
     "nuid": "c6848fac-8b97-43ef-b657-1216d3b7166b",
     "showTitle": false,
     "tableResultSettingsMap": {},
     "title": ""
    }
   },
   "outputs": [],
   "source": [
    "# Step 4: Combine Date + Time into full datetime\n",
    "data[\"DepDatetime\"] = data[\"Date\"] + pd.to_timedelta(data[\"DepHour\"], unit=\"h\") + pd.to_timedelta(data[\"DepMinute\"], unit=\"m\")\n"
   ]
  },
  {
   "cell_type": "code",
   "execution_count": 0,
   "metadata": {
    "application/vnd.databricks.v1+cell": {
     "cellMetadata": {
      "byteLimit": 2048000,
      "rowLimit": 10000
     },
     "inputWidgets": {},
     "nuid": "5f6c1d2a-f1f5-483a-9f70-b7f16d861080",
     "showTitle": false,
     "tableResultSettingsMap": {},
     "title": ""
    }
   },
   "outputs": [],
   "source": [
    "# ---- Derived Features ----\n",
    "data[\"Month\"] = data[\"DepDatetime\"].dt.month          # Month number (1–12)\n",
    "data[\"DayOfWeek\"] = data[\"DepDatetime\"].dt.day_name() # Monday, Tuesday...\n",
    "data[\"Hour\"] = data[\"DepDatetime\"].dt.hour            # Hour of departure\n",
    "data[\"Route\"] = data[\"Origin\"] + \"-\" + df[\"Dest\"]     # Route string (e.g., ATL-LAX)"
   ]
  },
  {
   "cell_type": "code",
   "execution_count": 0,
   "metadata": {
    "application/vnd.databricks.v1+cell": {
     "cellMetadata": {
      "byteLimit": 2048000,
      "rowLimit": 10000
     },
     "inputWidgets": {},
     "nuid": "fb4db5b8-9d79-4278-b54c-0c205e2af631",
     "showTitle": false,
     "tableResultSettingsMap": {},
     "title": ""
    }
   },
   "outputs": [
    {
     "output_type": "stream",
     "name": "stdout",
     "output_type": "stream",
     "text": [
      "        Date DepTime         DepDatetime  Month DayOfWeek  Hour    Route\n0 2019-01-03    1829 2019-01-03 18:29:00      1  Thursday    18  IND-BWI\n1 2019-01-03    1937 2019-01-03 19:37:00      1  Thursday    19  IND-LAS\n2 2019-01-03    1644 2019-01-03 16:44:00      1  Thursday    16  IND-MCO\n3 2019-01-03    1452 2019-01-03 14:52:00      1  Thursday    14  IND-PHX\n4 2019-01-03    1323 2019-01-03 13:23:00      1  Thursday    13  IND-TPA\n"
     ]
    }
   ],
   "source": [
    "# ---- Check results ----\n",
    "print(data[[\"Date\", \"DepTime\", \"DepDatetime\", \"Month\", \"DayOfWeek\", \"Hour\", \"Route\"]].head())"
   ]
  },
  {
   "cell_type": "code",
   "execution_count": 0,
   "metadata": {
    "application/vnd.databricks.v1+cell": {
     "cellMetadata": {
      "byteLimit": 2048000,
      "rowLimit": 10000
     },
     "inputWidgets": {},
     "nuid": "eacfbee4-1c14-4156-b844-7cba7580bb4c",
     "showTitle": false,
     "tableResultSettingsMap": {},
     "title": ""
    }
   },
   "outputs": [
    {
     "output_type": "stream",
     "name": "stdout",
     "output_type": "stream",
     "text": [
      "✅ Preprocessed dataset saved as flights_preprocessed.csv\n"
     ]
    }
   ],
   "source": [
    "# ---- 5. Save the preprocessed dataset ----\n",
    "data.to_csv(\"flights_preprocessed.csv\", index=False)\n",
    "print(\"✅ Preprocessed dataset saved as flights_preprocessed.csv\")"
   ]
  },
  {
   "cell_type": "code",
   "execution_count": 0,
   "metadata": {
    "application/vnd.databricks.v1+cell": {
     "cellMetadata": {
      "byteLimit": 2048000,
      "rowLimit": 10000
     },
     "inputWidgets": {},
     "nuid": "bf793f13-edda-43ee-ba40-7660a5b94e5a",
     "showTitle": true,
     "tableResultSettingsMap": {},
     "title": "formatting date and time columns"
    }
   },
   "outputs": [],
   "source": [
    "# STEP 1: Convert Date column\n",
    "data[\"Date\"] = pd.to_datetime(data[\"Date\"], errors=\"coerce\")  "
   ]
  },
  {
   "cell_type": "code",
   "execution_count": 0,
   "metadata": {
    "application/vnd.databricks.v1+cell": {
     "cellMetadata": {
      "byteLimit": 2048000,
      "rowLimit": 10000
     },
     "inputWidgets": {},
     "nuid": "e2f5fa5b-bdd9-4340-8e47-5793b037c1a4",
     "showTitle": false,
     "tableResultSettingsMap": {},
     "title": ""
    }
   },
   "outputs": [],
   "source": [
    "# STEP 2: Define helper function\n",
    "# ===============================\n",
    "def convert_hhmm_to_time(series):\n",
    "    \"\"\"\n",
    "    Convert HHMM (e.g., 930 = 09:30) integers into timedelta objects.\n",
    "    - Handles missing values by replacing with \"0000\".\n",
    "    - Ensures proper zero-padding (e.g., 45 -> \"0045\").\n",
    "    \"\"\"\n",
    "    # Fill missing values with 0, convert to string, pad to 4 digits\n",
    "    series = series.fillna(0).astype(int).astype(str).str.zfill(4)\n",
    "    \n",
    "    # Extract hours and minutes separately\n",
    "    hours = series.str[:2].astype(int)\n",
    "    minutes = series.str[2:].astype(int)\n",
    "    \n",
    "    # Convert to timedelta (hours + minutes)\n",
    "    return pd.to_timedelta(hours, unit=\"h\") + pd.to_timedelta(minutes, unit=\"m\")"
   ]
  },
  {
   "cell_type": "code",
   "execution_count": 0,
   "metadata": {
    "application/vnd.databricks.v1+cell": {
     "cellMetadata": {
      "byteLimit": 2048000,
      "rowLimit": 10000
     },
     "inputWidgets": {},
     "nuid": "fc2b242c-30a0-48a3-9583-d5a84c96bba7",
     "showTitle": false,
     "tableResultSettingsMap": {},
     "title": ""
    }
   },
   "outputs": [],
   "source": [
    "# STEP 3: Apply conversion to time fields\n",
    "# ===============================\n",
    "data[\"DepTime_obj\"] = convert_hhmm_to_time(data[\"DepTime\"])\n",
    "data[\"ArrTime_obj\"] = convert_hhmm_to_time(data[\"ArrTime\"])\n",
    "data[\"CRSArrTime_obj\"] = convert_hhmm_to_time(data[\"CRSArrTime\"])"
   ]
  },
  {
   "cell_type": "code",
   "execution_count": 0,
   "metadata": {
    "application/vnd.databricks.v1+cell": {
     "cellMetadata": {
      "byteLimit": 2048000,
      "rowLimit": 10000
     },
     "inputWidgets": {},
     "nuid": "cb5898f4-8bba-43b9-86db-d65750014439",
     "showTitle": false,
     "tableResultSettingsMap": {},
     "title": ""
    }
   },
   "outputs": [],
   "source": [
    "# STEP 4: Combine Date + Time\n",
    "# Creates full datetime columns for departure and arrival\n",
    "data[\"DepDateTime\"] = data[\"Date\"] + data[\"DepTime_obj\"]\n",
    "data[\"ArrDateTime\"] = data[\"Date\"] + data[\"ArrTime_obj\"]\n",
    "data[\"CRSArrDateTime\"] = data[\"Date\"] + data[\"CRSArrTime_obj\"]"
   ]
  },
  {
   "cell_type": "code",
   "execution_count": 0,
   "metadata": {
    "application/vnd.databricks.v1+cell": {
     "cellMetadata": {
      "byteLimit": 2048000,
      "rowLimit": 10000
     },
     "inputWidgets": {},
     "nuid": "67704df6-5643-47ec-8a4b-ac49a414680b",
     "showTitle": false,
     "tableResultSettingsMap": {},
     "title": ""
    }
   },
   "outputs": [],
   "source": [
    "# STEP 5: Handle overnight flights (optional but recommended)\n",
    "# If arrival time is earlier than departure time, it means arrival is on the next day\n",
    "data.loc[data[\"ArrDateTime\"] < data[\"DepDateTime\"], \"ArrDateTime\"] += pd.Timedelta(days=1)\n",
    "data.loc[data[\"CRSArrDateTime\"] < data[\"DepDateTime\"], \"CRSArrDateTime\"] += pd.Timedelta(days=1)"
   ]
  },
  {
   "cell_type": "code",
   "execution_count": 0,
   "metadata": {
    "application/vnd.databricks.v1+cell": {
     "cellMetadata": {
      "byteLimit": 2048000,
      "rowLimit": 10000
     },
     "inputWidgets": {},
     "nuid": "11068a6e-f948-4dbe-8dcf-12bb9d2b0b8e",
     "showTitle": false,
     "tableResultSettingsMap": {},
     "title": ""
    }
   },
   "outputs": [],
   "source": [
    "# STEP 6: Clean up temporary columns\n",
    "data.drop(columns=[\"DepTime_obj\", \"ArrTime_obj\", \"CRSArrTime_obj\"], inplace=True)\n"
   ]
  },
  {
   "cell_type": "code",
   "execution_count": 0,
   "metadata": {
    "application/vnd.databricks.v1+cell": {
     "cellMetadata": {
      "byteLimit": 2048000,
      "rowLimit": 10000
     },
     "inputWidgets": {},
     "nuid": "0f153d1e-ae2c-4bfe-a26a-457f349c6b00",
     "showTitle": false,
     "tableResultSettingsMap": {},
     "title": ""
    }
   },
   "outputs": [
    {
     "output_type": "stream",
     "name": "stdout",
     "output_type": "stream",
     "text": [
      "        Date DepTime  ArrTime  CRSArrTime         DepDateTime  \\\n0 2019-01-03    1829     1959        1925 2019-01-03 18:29:00   \n1 2019-01-03    1937     2037        1940 2019-01-03 19:37:00   \n2 2019-01-03    1644     1845        1725 2019-01-03 16:44:00   \n3 2019-01-03    1452     1640        1625 2019-01-03 14:52:00   \n4 2019-01-03    1323     1526        1510 2019-01-03 13:23:00   \n\n          ArrDateTime      CRSArrDateTime  \n0 2019-01-03 19:59:00 2019-01-03 19:25:00  \n1 2019-01-03 20:37:00 2019-01-03 19:40:00  \n2 2019-01-03 18:45:00 2019-01-03 17:25:00  \n3 2019-01-03 16:40:00 2019-01-03 16:25:00  \n4 2019-01-03 15:26:00 2019-01-03 15:10:00  \n"
     ]
    }
   ],
   "source": [
    "# Final check\n",
    "print(data[[\"Date\", \"DepTime\", \"ArrTime\", \"CRSArrTime\", \n",
    "          \"DepDateTime\", \"ArrDateTime\", \"CRSArrDateTime\"]].head())"
   ]
  },
  {
   "cell_type": "code",
   "execution_count": 0,
   "metadata": {
    "application/vnd.databricks.v1+cell": {
     "cellMetadata": {
      "byteLimit": 2048000,
      "rowLimit": 10000
     },
     "inputWidgets": {},
     "nuid": "823791d8-b9aa-4b93-a2cd-496d7fbfc6ad",
     "showTitle": false,
     "tableResultSettingsMap": {},
     "title": ""
    }
   },
   "outputs": [
    {
     "output_type": "stream",
     "name": "stdout",
     "output_type": "stream",
     "text": [
      "             ArrTime     CRSArrTime      FlightNum  ActualElapsedTime  \\\ncount  484551.000000  484551.000000  484551.000000      484551.000000   \nmean     1617.784438    1652.129929    2139.207386         134.810422   \nstd       583.637660     466.096216    1812.677071          74.070374   \nmin         1.000000       1.000000       1.000000          15.000000   \n25%      1327.000000    1339.000000     629.000000          80.000000   \n50%      1737.000000    1723.000000    1514.000000         116.000000   \n75%      2049.000000    2025.000000    3683.000000         168.000000   \nmax      2400.000000    2359.000000    8403.000000         727.000000   \n\n       CRSElapsedTime        AirTime       ArrDelay       DepDelay  \\\ncount   484551.000000  484551.000000  484551.000000  484551.000000   \nmean       131.400761     108.877134      60.907764      57.498086   \nstd         71.542531      70.113513      56.975420      55.991012   \nmin        -21.000000       0.000000      15.000000       6.000000   \n25%         79.000000      57.000000      25.000000      23.000000   \n50%        114.000000      90.000000      42.000000      40.000000   \n75%        162.000000     139.000000      76.000000      72.000000   \nmax        602.000000     609.000000    1707.000000    1710.000000   \n\n            Distance         TaxiIn        TaxiOut  Cancelled  Diverted  \\\ncount  484551.000000  484551.000000  484551.000000   484551.0  484551.0   \nmean      752.142689       6.782413      19.150876        0.0       0.0   \nstd       571.631124       5.555816      15.309747        0.0       0.0   \nmin        31.000000       0.000000       0.000000        0.0       0.0   \n25%       331.000000       4.000000      11.000000        0.0       0.0   \n50%       599.000000       5.000000      15.000000        0.0       0.0   \n75%       992.000000       8.000000      22.000000        0.0       0.0   \nmax      4502.000000     207.000000     383.000000        0.0       0.0   \n\n        CarrierDelay   WeatherDelay       NASDelay  SecurityDelay  \\\ncount  484551.000000  484551.000000  484551.000000  484551.000000   \nmean       17.419440       3.153284      13.599421       0.082033   \nstd        39.417893      19.503657      31.454655       1.884774   \nmin         0.000000       0.000000       0.000000       0.000000   \n25%         0.000000       0.000000       0.000000       0.000000   \n50%         2.000000       0.000000       1.000000       0.000000   \n75%        19.000000       0.000000      13.000000       0.000000   \nmax      1707.000000    1148.000000    1357.000000     392.000000   \n\n       LateAircraftDelay        DepHour      DepMinute          Month  \\\ncount      484551.000000  484551.000000  484551.000000  484551.000000   \nmean           26.653587      15.351515      29.326354       3.369899   \nstd            40.535994       4.527145      17.325228       1.715434   \nmin             0.000000       0.000000       0.000000       1.000000   \n25%             0.000000      12.000000      14.000000       2.000000   \n50%            13.000000      16.000000      29.000000       3.000000   \n75%            36.000000      19.000000      44.000000       5.000000   \nmax          1254.000000      24.000000      59.000000       6.000000   \n\n                Hour  \ncount  484551.000000  \nmean       15.347057  \nstd         4.530442  \nmin         0.000000  \n25%        12.000000  \n50%        16.000000  \n75%        19.000000  \nmax        23.000000  \n"
     ]
    }
   ],
   "source": [
    "print(data.describe())"
   ]
  },
  {
   "cell_type": "code",
   "execution_count": 0,
   "metadata": {
    "application/vnd.databricks.v1+cell": {
     "cellMetadata": {
      "byteLimit": 2048000,
      "rowLimit": 10000
     },
     "inputWidgets": {},
     "nuid": "e9e5a40c-763f-4324-943c-78f8794cc414",
     "showTitle": false,
     "tableResultSettingsMap": {},
     "title": ""
    }
   },
   "outputs": [
    {
     "output_type": "stream",
     "name": "stdout",
     "output_type": "stream",
     "text": [
      "<class 'pandas.core.frame.DataFrame'>\nRangeIndex: 484551 entries, 0 to 484550\nData columns (total 38 columns):\n #   Column             Non-Null Count   Dtype         \n---  ------             --------------   -----         \n 0   DayOfWeek          484551 non-null  object        \n 1   Date               484551 non-null  datetime64[ns]\n 2   DepTime            484551 non-null  object        \n 3   ArrTime            484551 non-null  int64         \n 4   CRSArrTime         484551 non-null  int64         \n 5   UniqueCarrier      484551 non-null  object        \n 6   Airline            484551 non-null  object        \n 7   FlightNum          484551 non-null  int64         \n 8   TailNum            484551 non-null  object        \n 9   ActualElapsedTime  484551 non-null  int64         \n 10  CRSElapsedTime     484551 non-null  int64         \n 11  AirTime            484551 non-null  int64         \n 12  ArrDelay           484551 non-null  int64         \n 13  DepDelay           484551 non-null  int64         \n 14  Origin             484551 non-null  object        \n 15  Org_Airport        484551 non-null  object        \n 16  Dest               484551 non-null  object        \n 17  Dest_Airport       484551 non-null  object        \n 18  Distance           484551 non-null  int64         \n 19  TaxiIn             484551 non-null  int64         \n 20  TaxiOut            484551 non-null  int64         \n 21  Cancelled          484551 non-null  int64         \n 22  CancellationCode   484551 non-null  object        \n 23  Diverted           484551 non-null  int64         \n 24  CarrierDelay       484551 non-null  int64         \n 25  WeatherDelay       484551 non-null  int64         \n 26  NASDelay           484551 non-null  int64         \n 27  SecurityDelay      484551 non-null  int64         \n 28  LateAircraftDelay  484551 non-null  int64         \n 29  DepHour            484551 non-null  int64         \n 30  DepMinute          484551 non-null  int64         \n 31  DepDatetime        484551 non-null  datetime64[ns]\n 32  Month              484551 non-null  int64         \n 33  Hour               484551 non-null  int64         \n 34  Route              484551 non-null  object        \n 35  DepDateTime        484551 non-null  datetime64[ns]\n 36  ArrDateTime        484551 non-null  datetime64[ns]\n 37  CRSArrDateTime     484551 non-null  datetime64[ns]\ndtypes: datetime64[ns](5), int64(22), object(11)\nmemory usage: 140.5+ MB\nNone\n"
     ]
    }
   ],
   "source": [
    "print(data.info())"
   ]
  },
  {
   "cell_type": "code",
   "execution_count": 0,
   "metadata": {
    "application/vnd.databricks.v1+cell": {
     "cellMetadata": {
      "byteLimit": 2048000,
      "rowLimit": 10000
     },
     "inputWidgets": {},
     "nuid": "fa88d2bb-72e8-48e2-8e17-6bc94e9a7b84",
     "showTitle": false,
     "tableResultSettingsMap": {},
     "title": ""
    }
   },
   "outputs": [
    {
     "output_type": "stream",
     "name": "stdout",
     "output_type": "stream",
     "text": [
      "Dataset saved successfully with columns removed!\n"
     ]
    }
   ],
   "source": [
    "import pandas as pd\n",
    "\n",
    "# Step 1: Read your dataset\n",
    "data = pd.read_csv(\"/Workspace/Users/tulasivaliveti123@gmail.com/flights_preprocessed.csv\")  # replace with your dataset path\n",
    "\n",
    "# Step 2: Drop unwanted columns\n",
    "columns_to_remove = ['DepHour','DepMinute','DepDatetime',]  # replace with the columns you want to remove\n",
    "data = data.drop(columns=columns_to_remove)\n",
    "\n",
    "# Step 3: Save the updated dataset as CSV\n",
    "data.to_csv(\"airfly_cleaned_removed_columns.csv\", index=False)\n",
    "\n",
    "print(\"Dataset saved successfully with columns removed!\")\n"
   ]
  },
  {
   "cell_type": "code",
   "execution_count": 0,
   "metadata": {
    "application/vnd.databricks.v1+cell": {
     "cellMetadata": {
      "byteLimit": 2048000,
      "rowLimit": 10000
     },
     "inputWidgets": {},
     "nuid": "3269480c-8a79-42ee-8fb9-c6e791221a06",
     "showTitle": false,
     "tableResultSettingsMap": {},
     "title": ""
    }
   },
   "outputs": [
    {
     "output_type": "stream",
     "name": "stdout",
     "output_type": "stream",
     "text": [
      "Index(['DayOfWeek', 'Date', 'DepTime', 'ArrTime', 'CRSArrTime',\n       'UniqueCarrier', 'Airline', 'FlightNum', 'TailNum', 'ActualElapsedTime',\n       'CRSElapsedTime', 'AirTime', 'ArrDelay', 'DepDelay', 'Origin',\n       'Org_Airport', 'Dest', 'Dest_Airport', 'Distance', 'TaxiIn', 'TaxiOut',\n       'Cancelled', 'CancellationCode', 'Diverted', 'CarrierDelay',\n       'WeatherDelay', 'NASDelay', 'SecurityDelay', 'LateAircraftDelay',\n       'Month', 'Hour', 'Route'],\n      dtype='object')\n"
     ]
    }
   ],
   "source": [
    "print(data.columns)\n"
   ]
  },
  {
   "cell_type": "code",
   "execution_count": 0,
   "metadata": {
    "application/vnd.databricks.v1+cell": {
     "cellMetadata": {
      "byteLimit": 2048000,
      "rowLimit": 10000
     },
     "inputWidgets": {},
     "nuid": "f1fdb4c8-a86c-4fe9-8904-a7fd3bfbd69f",
     "showTitle": false,
     "tableResultSettingsMap": {},
     "title": ""
    }
   },
   "outputs": [
    {
     "output_type": "stream",
     "name": "stdout",
     "output_type": "stream",
     "text": [
      "<class 'pandas.core.frame.DataFrame'>\nRangeIndex: 484551 entries, 0 to 484550\nData columns (total 32 columns):\n #   Column             Non-Null Count   Dtype \n---  ------             --------------   ----- \n 0   DayOfWeek          484551 non-null  object\n 1   Date               484551 non-null  object\n 2   DepTime            484551 non-null  int64 \n 3   ArrTime            484551 non-null  int64 \n 4   CRSArrTime         484551 non-null  int64 \n 5   UniqueCarrier      484551 non-null  object\n 6   Airline            484551 non-null  object\n 7   FlightNum          484551 non-null  int64 \n 8   TailNum            484551 non-null  object\n 9   ActualElapsedTime  484551 non-null  int64 \n 10  CRSElapsedTime     484551 non-null  int64 \n 11  AirTime            484551 non-null  int64 \n 12  ArrDelay           484551 non-null  int64 \n 13  DepDelay           484551 non-null  int64 \n 14  Origin             484551 non-null  object\n 15  Org_Airport        484551 non-null  object\n 16  Dest               484551 non-null  object\n 17  Dest_Airport       484551 non-null  object\n 18  Distance           484551 non-null  int64 \n 19  TaxiIn             484551 non-null  int64 \n 20  TaxiOut            484551 non-null  int64 \n 21  Cancelled          484551 non-null  int64 \n 22  CancellationCode   484551 non-null  object\n 23  Diverted           484551 non-null  int64 \n 24  CarrierDelay       484551 non-null  int64 \n 25  WeatherDelay       484551 non-null  int64 \n 26  NASDelay           484551 non-null  int64 \n 27  SecurityDelay      484551 non-null  int64 \n 28  LateAircraftDelay  484551 non-null  int64 \n 29  Month              484551 non-null  int64 \n 30  Hour               484551 non-null  int64 \n 31  Route              484551 non-null  object\ndtypes: int64(21), object(11)\nmemory usage: 118.3+ MB\nNone\n"
     ]
    }
   ],
   "source": [
    "print(data.info())"
   ]
  }
 ],
 "metadata": {
  "application/vnd.databricks.v1+notebook": {
   "computePreferences": {
    "hardware": {
     "accelerator": null,
     "gpuPoolId": null,
     "memory": null
    }
   },
   "dashboards": [],
   "environmentMetadata": {
    "base_environment": "",
    "environment_version": "3"
   },
   "inputWidgetPreferences": null,
   "language": "python",
   "notebookMetadata": {
    "pythonIndentUnit": 4
   },
   "notebookName": "flight_data_analysis_1",
   "widgets": {}
  },
  "language_info": {
   "name": "python"
  }
 },
 "nbformat": 4,
 "nbformat_minor": 0
}