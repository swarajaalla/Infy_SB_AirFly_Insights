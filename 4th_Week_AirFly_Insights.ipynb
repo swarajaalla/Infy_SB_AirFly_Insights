{
  "nbformat": 4,
  "nbformat_minor": 0,
  "metadata": {
    "colab": {
      "provenance": [],
      "authorship_tag": "ABX9TyPCSVj/CCp9vxmK/2S1UEo6",
      "include_colab_link": true
    },
    "kernelspec": {
      "name": "python3",
      "display_name": "Python 3"
    },
    "language_info": {
      "name": "python"
    }
  },
  "cells": [
    {
      "cell_type": "markdown",
      "metadata": {
        "id": "view-in-github",
        "colab_type": "text"
      },
      "source": [
        "<a href=\"https://colab.research.google.com/github/swarajaalla/Infy_SB_AirFly_Insights/blob/sravani_dev/4th_Week_AirFly_Insights.ipynb\" target=\"_parent\"><img src=\"https://colab.research.google.com/assets/colab-badge.svg\" alt=\"Open In Colab\"/></a>"
      ]
    },
    {
      "cell_type": "code",
      "execution_count": 70,
      "metadata": {
        "id": "QtEzopd2VR7O"
      },
      "outputs": [],
      "source": [
        "# 01_imports_week4.py\n",
        "import pandas as pd\n",
        "import numpy as np\n",
        "import matplotlib.pyplot as plt\n"
      ]
    },
    {
      "cell_type": "code",
      "source": [
        "# 02_load_data_week4.py\n",
        "df = pd.read_csv(\"/content/flights_sample_100k.csv.zip\")\n",
        "print(\"Data shape:\", df.shape)"
      ],
      "metadata": {
        "id": "2o_j_YLcVm3A",
        "colab": {
          "base_uri": "https://localhost:8080/"
        },
        "outputId": "749ca84e-fae2-4efe-bdc0-d38f9578625d"
      },
      "execution_count": 71,
      "outputs": [
        {
          "output_type": "stream",
          "name": "stdout",
          "text": [
            "Data shape: (100000, 32)\n"
          ]
        }
      ]
    },
    {
      "cell_type": "code",
      "source": [
        "# 03_check_delay_cause_cols.py\n",
        "cause_cols = [c for c in df.columns if 'DELAY' in c.upper()]\n",
        "print(\"Delay cause columns:\", cause_cols)\n"
      ],
      "metadata": {
        "id": "A7hS2HVlVmzi",
        "colab": {
          "base_uri": "https://localhost:8080/"
        },
        "outputId": "abb0b383-6edf-4c61-99e0-d7383ecca787"
      },
      "execution_count": 72,
      "outputs": [
        {
          "output_type": "stream",
          "name": "stdout",
          "text": [
            "Delay cause columns: ['DEP_DELAY', 'ARR_DELAY', 'DELAY_DUE_CARRIER', 'DELAY_DUE_WEATHER', 'DELAY_DUE_NAS', 'DELAY_DUE_SECURITY', 'DELAY_DUE_LATE_AIRCRAFT']\n"
          ]
        }
      ]
    },
    {
      "cell_type": "code",
      "source": [
        "# 04_fill_delay_causes.py\n",
        "for c in cause_cols:\n",
        "    df[c] = pd.to_numeric(df[c], errors='coerce').fillna(0)\n"
      ],
      "metadata": {
        "id": "Nt9IBfaQVmxL"
      },
      "execution_count": 73,
      "outputs": []
    },
    {
      "cell_type": "code",
      "source": [
        "# 05_avg_delay_causes.py\n",
        "if cause_cols:\n",
        "    avg_cause = df[cause_cols].mean().sort_values(ascending=False)\n",
        "    print(\"Average delay (minutes) by cause:\\n\", avg_cause)\n"
      ],
      "metadata": {
        "id": "9ZI-MOFrVmuy",
        "colab": {
          "base_uri": "https://localhost:8080/"
        },
        "outputId": "750949c9-60dd-4102-abea-fc1fbef080ee"
      },
      "execution_count": 74,
      "outputs": [
        {
          "output_type": "stream",
          "name": "stdout",
          "text": [
            "Average delay (minutes) by cause:\n",
            " DEP_DELAY                  9.91572\n",
            "DELAY_DUE_CARRIER          4.48232\n",
            "DELAY_DUE_LATE_AIRCRAFT    4.46947\n",
            "ARR_DELAY                  4.22959\n",
            "DELAY_DUE_NAS              2.39749\n",
            "DELAY_DUE_WEATHER          0.69679\n",
            "DELAY_DUE_SECURITY         0.02508\n",
            "dtype: float64\n"
          ]
        }
      ]
    },
    {
      "cell_type": "code",
      "source": [
        "# 06_plot_delay_causes_carrier.py\n",
        "if {'OP_CARRIER'}.issubset(df.columns) and cause_cols:\n",
        "    carrier_cause = df.groupby('OP_CARRIER')[cause_cols].mean()\n",
        "    carrier_cause.head(10).plot(kind='bar', stacked=True, figsize=(12,6))\n",
        "    plt.title('Average Delay by Cause (per Carrier)')\n",
        "    plt.ylabel('Minutes')\n",
        "    plt.show()\n"
      ],
      "metadata": {
        "id": "PDI39Uk4Vms4"
      },
      "execution_count": 75,
      "outputs": []
    },
    {
      "cell_type": "code",
      "source": [
        "# 07_plot_delay_causes_month.py\n",
        "if {'month'}.issubset(df.columns) and cause_cols:\n",
        "    month_cause = df.groupby('month')[cause_cols].mean()\n",
        "    month_cause.plot(kind='bar', stacked=True, figsize=(12,6))\n",
        "    plt.title('Average Delay by Cause (per Month)')\n",
        "    plt.ylabel('Minutes')\n",
        "    plt.show()\n"
      ],
      "metadata": {
        "id": "7kwe7HmtVmqs"
      },
      "execution_count": 76,
      "outputs": []
    },
    {
      "cell_type": "code",
      "source": [
        "# 08_routes_avg_delay.py\n",
        "if {'route','ARR_DELAY'}.issubset(df.columns):\n",
        "    route_delay = df.groupby('route')['ARR_DELAY'].mean().sort_values(ascending=False).head(20)\n",
        "    print(route_delay)\n"
      ],
      "metadata": {
        "id": "NOcLuveUVmoM"
      },
      "execution_count": 77,
      "outputs": []
    },
    {
      "cell_type": "code",
      "source": [
        "# 09_routes_cancel_rate.py\n",
        "if {'route','is_cancelled'}.issubset(df.columns):\n",
        "    route_cancel = df.groupby('route')['is_cancelled'].mean().sort_values(ascending=False).head(20)\n",
        "    print(route_cancel)\n"
      ],
      "metadata": {
        "id": "7paAYaU_Vml6"
      },
      "execution_count": 78,
      "outputs": []
    },
    {
      "cell_type": "code",
      "source": [
        "# 10_route_delay_vs_cancel.py\n",
        "if {'route','ARR_DELAY','is_cancelled'}.issubset(df.columns):\n",
        "    route_summary = df.groupby('route').agg(avg_delay=('ARR_DELAY','mean'), cancel_rate=('is_cancelled','mean'))\n",
        "    plt.scatter(route_summary['avg_delay'], route_summary['cancel_rate'], alpha=0.5)\n",
        "    plt.xlabel(\"Avg Delay (min)\")\n",
        "    plt.ylabel(\"Cancel Rate\")\n",
        "    plt.title(\"Route-level: Avg Delay vs Cancel Rate\")\n",
        "    plt.show()\n"
      ],
      "metadata": {
        "id": "7EHPm8ocVmjg"
      },
      "execution_count": 79,
      "outputs": []
    },
    {
      "cell_type": "code",
      "source": [
        "# 11_quarterly_avg_delay.py\n",
        "if {'ARR_DELAY','month'}.issubset(df.columns):\n",
        "    df['quarter'] = pd.cut(df['month'], bins=[0,3,6,9,12], labels=['Q1','Q2','Q3','Q4'])\n",
        "    print(df.groupby('quarter')['ARR_DELAY'].mean())\n",
        "else:\n",
        "    print(\"Columns missing for quarterly average delay calculation.\")"
      ],
      "metadata": {
        "id": "gYBadZU4Vmhb",
        "colab": {
          "base_uri": "https://localhost:8080/"
        },
        "outputId": "93ed9936-bc7f-48e8-e908-21a4b36dd9ea"
      },
      "execution_count": 80,
      "outputs": [
        {
          "output_type": "stream",
          "name": "stdout",
          "text": [
            "Columns missing for quarterly average delay calculation.\n"
          ]
        }
      ]
    },
    {
      "cell_type": "code",
      "source": [
        "# 12_plot_quarterly_delay.py\n",
        "if {'ARR_DELAY','month'}.issubset(df.columns):\n",
        "    df['quarter'] = pd.cut(df['month'], bins=[0,3,6,9,12], labels=['Q1','Q2','Q3','Q4'])\n",
        "    quarter_avg = df.groupby('quarter')['ARR_DELAY'].mean()\n",
        "    quarter_avg.plot(kind='bar', color='coral')\n",
        "    plt.title('Average Arrival Delay by Quarter')\n",
        "    plt.ylabel('Minutes')\n",
        "    plt.show()\n",
        "else:\n",
        "    print(\"Columns missing for quarterly average delay plotting.\")"
      ],
      "metadata": {
        "id": "ADTHoSuZVme1",
        "colab": {
          "base_uri": "https://localhost:8080/"
        },
        "outputId": "24e5d50c-12b1-4b4c-f668-7f7523851992"
      },
      "execution_count": 81,
      "outputs": [
        {
          "output_type": "stream",
          "name": "stdout",
          "text": [
            "Columns missing for quarterly average delay plotting.\n"
          ]
        }
      ]
    },
    {
      "cell_type": "code",
      "source": [
        "# 13_weekend_vs_weekday.py\n",
        "if {'ARR_DELAY','day_of_week'}.issubset(df.columns):\n",
        "    df['is_weekend'] = df['day_of_week'].isin([5,6]).astype(int)\n",
        "    avg_delay = df.groupby('is_weekend')['ARR_DELAY'].mean()\n",
        "    print(\"Weekday avg delay:\", avg_delay[0], \"Weekend avg delay:\", avg_delay[1])\n"
      ],
      "metadata": {
        "id": "MaJRLcVDVmcT"
      },
      "execution_count": 82,
      "outputs": []
    },
    {
      "cell_type": "code",
      "source": [
        "# 14_heatmap_hour_dow.py\n",
        "if {'hour','day_of_week','ARR_DELAY'}.issubset(df.columns):\n",
        "    pivot = df.pivot_table(index='day_of_week', columns='hour', values='ARR_DELAY', aggfunc='mean')\n",
        "    plt.imshow(pivot, aspect='auto')\n",
        "    plt.colorbar(label='Avg Delay (min)')\n",
        "    plt.xlabel(\"Hour\")\n",
        "    plt.ylabel(\"Day of Week\")\n",
        "    plt.title(\"Avg Delay by Hour vs Day of Week\")\n",
        "    plt.show()\n"
      ],
      "metadata": {
        "id": "RYJX4xmXVmZ6"
      },
      "execution_count": 83,
      "outputs": []
    },
    {
      "cell_type": "code",
      "source": [
        "# 15_busiest_airports.py\n",
        "if 'ORIGIN' in df.columns:\n",
        "    print(df['ORIGIN'].value_counts().head(20))\n"
      ],
      "metadata": {
        "id": "6LNNvr5bVmXj",
        "colab": {
          "base_uri": "https://localhost:8080/"
        },
        "outputId": "e7f0bf42-6b0f-41ff-c91f-92192e0babf9"
      },
      "execution_count": 84,
      "outputs": [
        {
          "output_type": "stream",
          "name": "stdout",
          "text": [
            "ORIGIN\n",
            "ATL    5099\n",
            "DFW    4444\n",
            "ORD    4053\n",
            "DEN    3886\n",
            "CLT    3110\n",
            "LAX    2866\n",
            "PHX    2460\n",
            "SEA    2451\n",
            "LAS    2391\n",
            "IAH    2180\n",
            "LGA    2172\n",
            "MCO    2148\n",
            "DTW    2139\n",
            "MSP    2003\n",
            "SFO    1992\n",
            "DCA    1869\n",
            "BOS    1789\n",
            "EWR    1762\n",
            "SLC    1697\n",
            "JFK    1683\n",
            "Name: count, dtype: int64\n"
          ]
        }
      ]
    },
    {
      "cell_type": "code",
      "source": [
        "# 16_avg_delay_airport.py\n",
        "if {'ORIGIN','ARR_DELAY'}.issubset(df.columns):\n",
        "    origin_delay = df.groupby('ORIGIN')['ARR_DELAY'].mean().sort_values(ascending=False).head(20)\n",
        "    print(origin_delay)\n"
      ],
      "metadata": {
        "id": "gcgy2720VmVM",
        "colab": {
          "base_uri": "https://localhost:8080/"
        },
        "outputId": "2154098f-5235-4824-c274-5d339e23d919"
      },
      "execution_count": 85,
      "outputs": [
        {
          "output_type": "stream",
          "name": "stdout",
          "text": [
            "ORIGIN\n",
            "TXK    134.636364\n",
            "LAR    124.250000\n",
            "RFD     98.357143\n",
            "TOL     89.642857\n",
            "SLN     79.250000\n",
            "ESC     75.625000\n",
            "HIB     69.833333\n",
            "BQN     59.592593\n",
            "UIN     49.000000\n",
            "BFF     48.100000\n",
            "OTH     46.833333\n",
            "PIR     45.666667\n",
            "LCK     43.217391\n",
            "SHR     40.714286\n",
            "ABR     40.642857\n",
            "RDD     39.833333\n",
            "DVL     39.800000\n",
            "HGR     38.666667\n",
            "GRI     33.555556\n",
            "SPI     33.384615\n",
            "Name: ARR_DELAY, dtype: float64\n"
          ]
        }
      ]
    },
    {
      "cell_type": "code",
      "source": [
        "# 17_cancel_airport.py\n",
        "if {'ORIGIN','is_cancelled'}.issubset(df.columns):\n",
        "    origin_cancel = df.groupby('ORIGIN')['is_cancelled'].mean().sort_values(ascending=False).head(20)\n",
        "    print(origin_cancel)\n"
      ],
      "metadata": {
        "id": "KqHlwtpCVmTE"
      },
      "execution_count": 86,
      "outputs": []
    },
    {
      "cell_type": "code",
      "source": [
        "# 18_airport_delay_vs_cancel.py\n",
        "if {'ORIGIN','ARR_DELAY','is_cancelled'}.issubset(df.columns):\n",
        "    summary = df.groupby('ORIGIN').agg(avg_delay=('ARR_DELAY','mean'), cancel_rate=('is_cancelled','mean'))\n",
        "    plt.scatter(summary['avg_delay'], summary['cancel_rate'])\n",
        "    plt.xlabel(\"Avg Delay (min)\")\n",
        "    plt.ylabel(\"Cancel Rate\")\n",
        "    plt.title(\"Airport-level: Delay vs Cancellation\")\n",
        "    plt.show()\n"
      ],
      "metadata": {
        "id": "M57PIiOhVmQd"
      },
      "execution_count": 87,
      "outputs": []
    },
    {
      "cell_type": "code",
      "source": [
        "# 19_corr_heatmap.py\n",
        "num_cols = df.select_dtypes(include=[np.number]).columns\n",
        "corr = df[num_cols].corr()\n",
        "plt.imshow(corr, cmap='coolwarm', aspect='auto')\n",
        "plt.colorbar()\n",
        "plt.title(\"Correlation Heatmap\")\n",
        "plt.show()\n"
      ],
      "metadata": {
        "id": "W17fJSR2VmOQ",
        "colab": {
          "base_uri": "https://localhost:8080/",
          "height": 452
        },
        "outputId": "9bb74ff1-b50c-402d-8197-1b6f8700df3a"
      },
      "execution_count": 88,
      "outputs": [
        {
          "output_type": "display_data",
          "data": {
            "text/plain": [
              "<Figure size 640x480 with 2 Axes>"
            ],
            "image/png": "[encoded data removed]"
          },
          "metadata": {}
        }
      ]
    },
    {
      "cell_type": "code",
      "source": [
        "# 20_cancel_by_month.py\n",
        "if {'month','is_cancelled'}.issubset(df.columns):\n",
        "    cancel_month = df.groupby('month')['is_cancelled'].mean()\n",
        "    cancel_month.plot(kind='bar')\n",
        "    plt.title('Cancellation Rate by Month')\n",
        "    plt.ylabel('Rate')\n",
        "    plt.show()\n"
      ],
      "metadata": {
        "id": "vjhGZS6OVmL4"
      },
      "execution_count": 89,
      "outputs": []
    },
    {
      "cell_type": "code",
      "source": [
        "# 21_turnaround_time.py\n",
        "if {'TAIL_NUM','ACTUAL_DEP','ACTUAL_ARR'}.issubset(df.columns):\n",
        "    # compute turnaround = next flight's ACTUAL_DEP - this flight's ACTUAL_ARR grouped by tail\n",
        "    df_sorted = df.sort_values(['TAIL_NUM','ACTUAL_ARR'])\n",
        "    df_sorted['next_dep'] = df_sorted.groupby('TAIL_NUM')['ACTUAL_DEP'].shift(-1)\n",
        "    df_sorted['turnaround_min'] = (pd.to_datetime(df_sorted['next_dep']) - pd.to_datetime(df_sorted['ACTUAL_ARR'])).dt.total_seconds() / 60\n",
        "    print(\"Turnaround examples:\\n\", df_sorted[['TAIL_NUM','ACTUAL_ARR','next_dep','turnaround_min']].head())\n",
        "else:\n",
        "    print(\"Required columns for turnaround not present.\")\n"
      ],
      "metadata": {
        "id": "fLJ2hm7HVmJ0",
        "colab": {
          "base_uri": "https://localhost:8080/"
        },
        "outputId": "028879e4-6f09-44f6-c2ca-1ed477d5d876"
      },
      "execution_count": 90,
      "outputs": [
        {
          "output_type": "stream",
          "name": "stdout",
          "text": [
            "Required columns for turnaround not present.\n"
          ]
        }
      ]
    },
    {
      "cell_type": "code",
      "source": [
        "# 22_turnaround_hist.py\n",
        "if 'turnaround_min' in df.columns:\n",
        "    data = df['turnaround_min'].dropna()\n",
        "    data = data[(data > 0) & (data < 24*60)]\n",
        "    plt.figure(figsize=(8,4))\n",
        "    plt.hist(data, bins=80)\n",
        "    plt.title('Aircraft Turnaround Time (minutes)')\n",
        "    plt.xlabel('Minutes')\n",
        "    plt.show()\n",
        "else:\n",
        "    print(\"No turnaround_min column found.\")\n"
      ],
      "metadata": {
        "id": "XsvfXEPYVmHp",
        "colab": {
          "base_uri": "https://localhost:8080/"
        },
        "outputId": "17e809ab-5e3b-452b-835e-348c6fc59833"
      },
      "execution_count": 91,
      "outputs": [
        {
          "output_type": "stream",
          "name": "stdout",
          "text": [
            "No turnaround_min column found.\n"
          ]
        }
      ]
    },
    {
      "cell_type": "code",
      "source": [
        "# 23_delay_propagation_by_tail.py\n",
        "if {'TAIL_NUM','DEP_DELAY','ARR_DELAY'}.issubset(df.columns):\n",
        "    df_sorted = df.sort_values(['TAIL_NUM','SCHEDULED_DEP'])\n",
        "    df_sorted['prev_arr_delay'] = df_sorted.groupby('TAIL_NUM')['ARR_DELAY'].shift(1)\n",
        "    corr = df_sorted[['prev_arr_delay','DEP_DELAY']].dropna().corr().iloc[0,1]\n",
        "    print(\"Correlation prev_arr_delay -> next DEP_DELAY by tail:\", corr)\n",
        "else:\n",
        "    print(\"Necessary columns for delay propagation missing.\")\n"
      ],
      "metadata": {
        "id": "dWuIZRHJVmFT",
        "colab": {
          "base_uri": "https://localhost:8080/"
        },
        "outputId": "f8a3f035-be7a-4145-f236-3ce7f221e6d3"
      },
      "execution_count": 92,
      "outputs": [
        {
          "output_type": "stream",
          "name": "stdout",
          "text": [
            "Necessary columns for delay propagation missing.\n"
          ]
        }
      ]
    },
    {
      "cell_type": "code",
      "source": [
        "# 24_routes_long_turnaround.py\n",
        "if 'turnaround_min' in df.columns and 'route' in df.columns:\n",
        "    long_turn = df.loc[df['turnaround_min']>360, 'route'].value_counts().head(20)\n",
        "    print(\"Routes with many long turnarounds (>6h):\\n\", long_turn)\n",
        "else:\n",
        "    print(\"Columns missing for long turnaround analysis.\")\n"
      ],
      "metadata": {
        "id": "AHEEN_0GVmC_",
        "colab": {
          "base_uri": "https://localhost:8080/"
        },
        "outputId": "312f24ea-0333-4ed2-fed3-79bfd5c4b89a"
      },
      "execution_count": 93,
      "outputs": [
        {
          "output_type": "stream",
          "name": "stdout",
          "text": [
            "Columns missing for long turnaround analysis.\n"
          ]
        }
      ]
    },
    {
      "cell_type": "code",
      "source": [
        "# 25_cluster_routes_kmeans.py\n",
        "from sklearn.cluster import KMeans\n",
        "if {'route','ARR_DELAY','DISTANCE'}.issubset(df.columns):\n",
        "    route_feat = df.groupby('route').agg(avg_delay=('ARR_DELAY','mean'), avg_dist=('DISTANCE','mean'), count=('ARR_DELAY','size'))\n",
        "    route_feat = route_feat[route_feat['count']>=10]  # require min flights\n",
        "    X = route_feat[['avg_delay','avg_dist']].fillna(0).values\n",
        "    kmeans = KMeans(n_clusters=4, random_state=42)\n",
        "    route_feat['cluster'] = kmeans.fit_predict(X)\n",
        "    print(route_feat[['avg_delay','avg_dist','count','cluster']].head())\n",
        "else:\n",
        "    print(\"Columns missing for clustering.\")\n"
      ],
      "metadata": {
        "id": "5tPT9cPRVmAn",
        "colab": {
          "base_uri": "https://localhost:8080/"
        },
        "outputId": "e4529bd6-d626-4a34-a07f-413c41622b93"
      },
      "execution_count": 94,
      "outputs": [
        {
          "output_type": "stream",
          "name": "stdout",
          "text": [
            "Columns missing for clustering.\n"
          ]
        }
      ]
    },
    {
      "cell_type": "code",
      "source": [
        "# 26_pca_numeric_sample.py\n",
        "from sklearn.decomposition import PCA\n",
        "if df.select_dtypes(include=[np.number]).shape[1] >= 3:\n",
        "    num = df.select_dtypes(include=[np.number]).sample(n=min(2000, len(df)), random_state=1).dropna(axis=1)\n",
        "    pca = PCA(n_components=2)\n",
        "    proj = pca.fit_transform(num)\n",
        "    plt.figure(figsize=(6,6))\n",
        "    plt.scatter(proj[:,0], proj[:,1], s=6, alpha=0.6)\n",
        "    plt.title('PCA (2 components) of numeric features (sample)')\n",
        "    plt.show()\n",
        "else:\n",
        "    print(\"Not enough numeric features for PCA.\")\n"
      ],
      "metadata": {
        "id": "OzfQLzvBVl-h",
        "colab": {
          "base_uri": "https://localhost:8080/",
          "height": 545
        },
        "outputId": "b4ab4ec0-ff7e-4dd8-9023-e4b78d6b1c56"
      },
      "execution_count": 95,
      "outputs": [
        {
          "output_type": "display_data",
          "data": {
            "text/plain": [
              "<Figure size 600x600 with 1 Axes>"
            ],
            "image/png": "[encoded data removed]"
          },
          "metadata": {}
        }
      ]
    },
    {
      "cell_type": "code",
      "source": [
        "# 27_tail_delay_fraction.py\n",
        "if {'TAIL_NUM','is_arr_delay_15'}.issubset(df.columns):\n",
        "    tail_pct = df.groupby('TAIL_NUM')['is_arr_delay_15'].mean().sort_values(ascending=False).head(20)\n",
        "    print(\"Tails with highest delay fraction:\\n\", tail_pct)\n",
        "else:\n",
        "    print(\"TAIL_NUM or is_arr_delay_15 missing.\")\n"
      ],
      "metadata": {
        "id": "-SpmAKrEVl8U",
        "colab": {
          "base_uri": "https://localhost:8080/"
        },
        "outputId": "2dd86521-f490-46d4-e632-aefcd62aa1af"
      },
      "execution_count": 96,
      "outputs": [
        {
          "output_type": "stream",
          "name": "stdout",
          "text": [
            "TAIL_NUM or is_arr_delay_15 missing.\n"
          ]
        }
      ]
    },
    {
      "cell_type": "code",
      "source": [
        "# 28_tail_cancellations.py\n",
        "if {'TAIL_NUM','is_cancelled'}.issubset(df.columns):\n",
        "    tail_cancel = df.groupby('TAIL_NUM')['is_cancelled'].sum().sort_values(ascending=False).head(20)\n",
        "    print(\"Tails with most cancellations:\\n\", tail_cancel)\n",
        "else:\n",
        "    print(\"No TAIL_NUM/is_cancelled columns.\")\n"
      ],
      "metadata": {
        "id": "mKhNzsFzVl56",
        "colab": {
          "base_uri": "https://localhost:8080/"
        },
        "outputId": "70302ed5-5253-4ab7-cd3d-15cecc434776"
      },
      "execution_count": 97,
      "outputs": [
        {
          "output_type": "stream",
          "name": "stdout",
          "text": [
            "No TAIL_NUM/is_cancelled columns.\n"
          ]
        }
      ]
    },
    {
      "cell_type": "code",
      "source": [
        "# 29_distance_vs_pctdelay.py\n",
        "if {'DISTANCE','is_arr_delay_15'}.issubset(df.columns):\n",
        "    agg = df.groupby(pd.cut(df['DISTANCE'], bins=10)).agg(pct_delay=('is_arr_delay_15','mean'))\n",
        "    plt.figure(figsize=(8,4))\n",
        "    agg['pct_delay'].plot(marker='o')\n",
        "    plt.title('Percent Delayed by Distance Buckets')\n",
        "    plt.ylabel('Fraction delayed')\n",
        "    plt.show()\n",
        "else:\n",
        "    print(\"DISTANCE or is_arr_delay_15 missing.\")\n"
      ],
      "metadata": {
        "id": "7UNTmXrdVl3p",
        "colab": {
          "base_uri": "https://localhost:8080/"
        },
        "outputId": "a699d0eb-664e-493c-8de1-b9833f511287"
      },
      "execution_count": 98,
      "outputs": [
        {
          "output_type": "stream",
          "name": "stdout",
          "text": [
            "DISTANCE or is_arr_delay_15 missing.\n"
          ]
        }
      ]
    },
    {
      "cell_type": "code",
      "source": [
        "# 30_median_delay_tail.py\n",
        "if {'TAIL_NUM','ARR_DELAY'}.issubset(df.columns):\n",
        "    tail_med = df.groupby('TAIL_NUM')['ARR_DELAY'].median().sort_values(ascending=False)\n",
        "    print(\"Worst median by tail (top 10):\\n\", tail_med.head(10))\n",
        "else:\n",
        "    print(\"TAIL_NUM/ARR_DELAY missing.\")\n"
      ],
      "metadata": {
        "id": "kMgW0n_pVj5_",
        "colab": {
          "base_uri": "https://localhost:8080/"
        },
        "outputId": "089d7333-bccc-458b-90b7-a299e54c9f48"
      },
      "execution_count": 99,
      "outputs": [
        {
          "output_type": "stream",
          "name": "stdout",
          "text": [
            "TAIL_NUM/ARR_DELAY missing.\n"
          ]
        }
      ]
    },
    {
      "cell_type": "code",
      "source": [
        "# 31_airport_connectivity.py\n",
        "if {'ORIGIN','DEST'}.issubset(df.columns):\n",
        "    out_deg = df.groupby('ORIGIN')['DEST'].nunique()\n",
        "    in_deg = df.groupby('DEST')['ORIGIN'].nunique()\n",
        "    conn = pd.DataFrame({'out_deg': out_deg, 'in_deg': in_deg}).fillna(0)\n",
        "    conn['total_links'] = conn['out_deg'] + conn['in_deg']\n",
        "    print(conn.sort_values('total_links', ascending=False).head(20))\n",
        "else:\n",
        "    print(\"ORIGIN/DEST missing.\")\n"
      ],
      "metadata": {
        "id": "c5Q3LEdpVj35",
        "colab": {
          "base_uri": "https://localhost:8080/"
        },
        "outputId": "14c272e4-9b0d-4226-82df-fb7ae9824e08"
      },
      "execution_count": 100,
      "outputs": [
        {
          "output_type": "stream",
          "name": "stdout",
          "text": [
            "     out_deg  in_deg  total_links\n",
            "DFW    190.0   188.0        378.0\n",
            "ORD    182.0   180.0        362.0\n",
            "DEN    180.0   176.0        356.0\n",
            "ATL    161.0   157.0        318.0\n",
            "CLT    141.0   139.0        280.0\n",
            "MSP    124.0   123.0        247.0\n",
            "IAH    124.0   122.0        246.0\n",
            "LAS    117.0   115.0        232.0\n",
            "DTW    113.0   109.0        222.0\n",
            "PHX    106.0   104.0        210.0\n",
            "LAX     98.0    98.0        196.0\n",
            "DCA     94.0    97.0        191.0\n",
            "SEA     92.0    94.0        186.0\n",
            "SLC     94.0    91.0        185.0\n",
            "EWR     90.0    87.0        177.0\n",
            "PHL     89.0    87.0        176.0\n",
            "MCO     85.0    89.0        174.0\n",
            "SFO     82.0    84.0        166.0\n",
            "LGA     80.0    82.0        162.0\n",
            "MDW     78.0    80.0        158.0\n"
          ]
        }
      ]
    },
    {
      "cell_type": "code",
      "source": [
        "# 32_top_hubs.py\n",
        "if 'total_links' in locals() or 'conn' in locals():\n",
        "    hubs = conn.sort_values('total_links', ascending=False).head(10)\n",
        "    print(\"Top hubs:\\n\", hubs)\n",
        "else:\n",
        "    print(\"Run airport connectivity first.\")\n"
      ],
      "metadata": {
        "id": "LGIZnBRPVj1v",
        "colab": {
          "base_uri": "https://localhost:8080/"
        },
        "outputId": "e29d4d96-7efc-45dc-c7c1-06e4412294f0"
      },
      "execution_count": 101,
      "outputs": [
        {
          "output_type": "stream",
          "name": "stdout",
          "text": [
            "Top hubs:\n",
            "      out_deg  in_deg  total_links\n",
            "DFW    190.0   188.0        378.0\n",
            "ORD    182.0   180.0        362.0\n",
            "DEN    180.0   176.0        356.0\n",
            "ATL    161.0   157.0        318.0\n",
            "CLT    141.0   139.0        280.0\n",
            "MSP    124.0   123.0        247.0\n",
            "IAH    124.0   122.0        246.0\n",
            "LAS    117.0   115.0        232.0\n",
            "DTW    113.0   109.0        222.0\n",
            "PHX    106.0   104.0        210.0\n"
          ]
        }
      ]
    },
    {
      "cell_type": "code",
      "source": [
        "# 33_carrier_rolling_monthly.py\n",
        "if 'SCHEDULED_DEP' in df.columns and 'OP_CARRIER' in df.columns and 'ARR_DELAY' in df.columns:\n",
        "    monthly = df.set_index('SCHEDULED_DEP').groupby([pd.Grouper(freq='M'),'OP_CARRIER'])['ARR_DELAY'].mean().unstack().fillna(method='ffill')\n",
        "    # show top 5 carriers by overall count\n",
        "    top5 = df['OP_CARRIER'].value_counts().nlargest(5).index\n",
        "    monthly[top5].plot(figsize=(12,5))\n",
        "    plt.title('Monthly Avg Arrival Delay for Top 5 Carriers')\n",
        "    plt.ylabel('Avg Delay (min)')\n",
        "    plt.show()\n",
        "else:\n",
        "    print(\"Missing columns for monthly rolling.\")\n"
      ],
      "metadata": {
        "id": "hLpwxujsVjzu",
        "colab": {
          "base_uri": "https://localhost:8080/"
        },
        "outputId": "7855f1cd-8dc4-40d9-9fc8-7a8290388e7f"
      },
      "execution_count": 102,
      "outputs": [
        {
          "output_type": "stream",
          "name": "stdout",
          "text": [
            "Missing columns for monthly rolling.\n"
          ]
        }
      ]
    },
    {
      "cell_type": "code",
      "source": [
        "# 34_seasonal_decompose.py\n",
        "from statsmodels.tsa.seasonal import seasonal_decompose\n",
        "if 'SCHEDULED_DEP' in df.columns:\n",
        "    daily = df.set_index('SCHEDULED_DEP').resample('D').size()\n",
        "    daily = daily.asfreq('D').fillna(0)\n",
        "    res = seasonal_decompose(daily, model='additive', period=7)\n",
        "    plt.figure(figsize=(10,8))\n",
        "    plt.subplot(311); plt.plot(res.trend); plt.title('Trend')\n",
        "    plt.subplot(312); plt.plot(res.seasonal); plt.title('Seasonal')\n",
        "    plt.subplot(313); plt.plot(res.resid); plt.title('Residual')\n",
        "    plt.tight_layout()\n",
        "    plt.show()\n",
        "else:\n",
        "    print(\"SCHEDULED_DEP missing for decomposition.\")\n"
      ],
      "metadata": {
        "id": "0CeaGYvbVjxb",
        "colab": {
          "base_uri": "https://localhost:8080/"
        },
        "outputId": "d6219923-2907-4c07-fc7b-35d79e23681c"
      },
      "execution_count": 103,
      "outputs": [
        {
          "output_type": "stream",
          "name": "stdout",
          "text": [
            "SCHEDULED_DEP missing for decomposition.\n"
          ]
        }
      ]
    },
    {
      "cell_type": "code",
      "source": [
        "# 35_time_to_delay_hist.py\n",
        "if 'DEP_DELAY' in df.columns:\n",
        "    positive = df.loc[df['DEP_DELAY']>0, 'DEP_DELAY']\n",
        "    plt.figure(figsize=(8,4))\n",
        "    plt.hist(positive, bins=80)\n",
        "    plt.title('Distribution of Positive Departure Delays')\n",
        "    plt.xlabel('Departure Delay (min)')\n",
        "    plt.show()\n",
        "else:\n",
        "    print(\"DEP_DELAY missing.\")\n"
      ],
      "metadata": {
        "id": "kmbY2qDAVjvP",
        "colab": {
          "base_uri": "https://localhost:8080/",
          "height": 410
        },
        "outputId": "2314984e-47fd-4433-a114-9c31967b5051"
      },
      "execution_count": 104,
      "outputs": [
        {
          "output_type": "display_data",
          "data": {
            "text/plain": [
              "<Figure size 800x400 with 1 Axes>"
            ],
            "image/png": "[encoded data removed]"
          },
          "metadata": {}
        }
      ]
    },
    {
      "cell_type": "code",
      "source": [
        "# 36_quick_linear_regression.py\n",
        "from sklearn.linear_model import LinearRegression\n",
        "if 'ARR_DELAY' in df.columns:\n",
        "    features = []\n",
        "    for col in ['DEP_DELAY','DISTANCE','hour','day_of_week','month']:\n",
        "        if col in df.columns:\n",
        "            features.append(col)\n",
        "    df_reg = df[features + ['ARR_DELAY']].dropna().sample(n=min(20000, len(df)), random_state=2)\n",
        "    X = df_reg[features].values\n",
        "    y = df_reg['ARR_DELAY'].values\n",
        "    model = LinearRegression()\n",
        "    model.fit(X,y)\n",
        "    print(\"Coefficients:\", dict(zip(features, model.coef_)))\n",
        "    print(\"Intercept:\", model.intercept_)\n",
        "else:\n",
        "    print(\"ARR_DELAY missing.\")\n"
      ],
      "metadata": {
        "colab": {
          "base_uri": "https://localhost:8080/"
        },
        "id": "fcqY4tU9XLwB",
        "outputId": "6ec1db46-caef-415b-e347-9aa6e9df3bd5"
      },
      "execution_count": 105,
      "outputs": [
        {
          "output_type": "stream",
          "name": "stdout",
          "text": [
            "Coefficients: {'DEP_DELAY': np.float64(0.9983147835827868), 'DISTANCE': np.float64(-0.0014131361943973766)}\n",
            "Intercept: -4.557059544609181\n"
          ]
        }
      ]
    },
    {
      "cell_type": "code",
      "source": [
        "# 37_tree_feature_importance.py\n",
        "from sklearn.tree import DecisionTreeRegressor\n",
        "if 'ARR_DELAY' in df.columns:\n",
        "    features = [c for c in ['DEP_DELAY','DISTANCE','hour','day_of_week','month'] if c in df.columns]\n",
        "    sample = df[features + ['ARR_DELAY']].dropna().sample(n=min(10000,len(df)), random_state=3)\n",
        "    X = sample[features].values\n",
        "    y = sample['ARR_DELAY'].values\n",
        "    tree = DecisionTreeRegressor(max_depth=5, random_state=1)\n",
        "    tree.fit(X,y)\n",
        "    importances = dict(zip(features, tree.feature_importances_))\n",
        "    print(\"Feature importances (tree):\", importances)\n",
        "else:\n",
        "    print(\"ARR_DELAY missing.\")\n"
      ],
      "metadata": {
        "colab": {
          "base_uri": "https://localhost:8080/"
        },
        "id": "bAuga-lTXLsb",
        "outputId": "17540743-0900-4e6a-c00e-33e1e80ef36d"
      },
      "execution_count": 106,
      "outputs": [
        {
          "output_type": "stream",
          "name": "stdout",
          "text": [
            "Feature importances (tree): {'DEP_DELAY': np.float64(0.9997746327026907), 'DISTANCE': np.float64(0.0002253672973092193)}\n"
          ]
        }
      ]
    },
    {
      "cell_type": "code",
      "source": [
        "# 38_groupwise_zscore.py\n",
        "from scipy import stats\n",
        "if {'route','ARR_DELAY'}.issubset(df.columns):\n",
        "    df['route_delay_z'] = df.groupby('route')['ARR_DELAY'].transform(lambda x: stats.zscore(x.fillna(0)))\n",
        "    outliers = df.loc[df['route_delay_z'].abs()>3, ['route','ARR_DELAY','route_delay_z']].head(20)\n",
        "    print(\"Route-level delay outliers:\\n\", outliers)\n",
        "else:\n",
        "    print(\"route or ARR_DELAY missing.\")\n"
      ],
      "metadata": {
        "colab": {
          "base_uri": "https://localhost:8080/"
        },
        "id": "Vo_7cRHMXLqW",
        "outputId": "cd514bdd-5354-4c7d-f020-f16cf6ea8538"
      },
      "execution_count": 107,
      "outputs": [
        {
          "output_type": "stream",
          "name": "stdout",
          "text": [
            "route or ARR_DELAY missing.\n"
          ]
        }
      ]
    },
    {
      "cell_type": "code",
      "source": [
        "# 39_before_after_compare.py\n",
        "import pandas as pd\n",
        "if 'SCHEDULED_DEP' in df.columns and 'ARR_DELAY' in df.columns:\n",
        "    cutoff = pd.to_datetime('2018-01-01')  # example cutoff\n",
        "    before = df.loc[df['SCHEDULED_DEP'] < cutoff, 'ARR_DELAY'].mean()\n",
        "    after = df.loc[df['SCHEDULED_DEP'] >= cutoff, 'ARR_DELAY'].mean()\n",
        "    print(f\"Mean ARR_DELAY before {cutoff.date()}: {before:.2f}, after: {after:.2f}\")\n",
        "else:\n",
        "    print(\"Need SCHEDULED_DEP and ARR_DELAY.\")\n"
      ],
      "metadata": {
        "colab": {
          "base_uri": "https://localhost:8080/"
        },
        "id": "MT_lnEmPXLoI",
        "outputId": "4f4967d8-3e74-4e80-9ccf-459f20c91bf0"
      },
      "execution_count": 108,
      "outputs": [
        {
          "output_type": "stream",
          "name": "stdout",
          "text": [
            "Need SCHEDULED_DEP and ARR_DELAY.\n"
          ]
        }
      ]
    },
    {
      "cell_type": "code",
      "source": [
        "# 40_arrival_timeline_airport.py\n",
        "if {'SCHEDULED_DEP','DEST'}.issubset(df.columns):\n",
        "    airport = df['DEST'].value_counts().idxmax()  # busiest dest\n",
        "    sub = df[df['DEST']==airport].sort_values('SCHEDULED_DEP').head(500)\n",
        "    plt.figure(figsize=(12,2))\n",
        "    plt.scatter(sub['SCHEDULED_DEP'].values, np.arange(len(sub)), s=2)\n",
        "    plt.title(f'Schedule density for arrivals at {airport} (sample)')\n",
        "    plt.xlabel('Scheduled time')\n",
        "    plt.yticks([])\n",
        "    plt.show()\n",
        "else:\n",
        "    print(\"SCHEDULED_DEP/DEST missing.\")\n"
      ],
      "metadata": {
        "colab": {
          "base_uri": "https://localhost:8080/"
        },
        "id": "dtlLP34FXLkB",
        "outputId": "bd4ac8cf-b977-4334-d98f-c1426e543b2e"
      },
      "execution_count": 109,
      "outputs": [
        {
          "output_type": "stream",
          "name": "stdout",
          "text": [
            "SCHEDULED_DEP/DEST missing.\n"
          ]
        }
      ]
    },
    {
      "cell_type": "code",
      "source": [
        "# 41_flightnum_avg_delay.py\n",
        "if 'FL_NUM' in df.columns and 'ARR_DELAY' in df.columns:\n",
        "    fl_avg = df.groupby('FL_NUM')['ARR_DELAY'].mean().sort_values(ascending=False).head(20)\n",
        "    print(\"Flight numbers with highest avg arrival delay:\\n\", fl_avg)\n",
        "else:\n",
        "    print(\"FL_NUM or ARR_DELAY missing.\")\n"
      ],
      "metadata": {
        "colab": {
          "base_uri": "https://localhost:8080/"
        },
        "id": "dCNOiom2XLhs",
        "outputId": "95702bb4-1204-43e0-f1c9-c00ffc175856"
      },
      "execution_count": 110,
      "outputs": [
        {
          "output_type": "stream",
          "name": "stdout",
          "text": [
            "FL_NUM or ARR_DELAY missing.\n"
          ]
        }
      ]
    },
    {
      "cell_type": "code",
      "source": [
        "# 42_cancel_code_by_carrier.py\n",
        "if 'CANCELLATION_CODE' in df.columns and 'OP_CARRIER' in df.columns:\n",
        "    ctab = pd.crosstab(df['OP_CARRIER'], df['CANCELLATION_CODE'])\n",
        "    print(\"Cancellation codes by carrier:\\n\", ctab)\n",
        "else:\n",
        "    print(\"Cancellation code or carrier missing.\")\n"
      ],
      "metadata": {
        "colab": {
          "base_uri": "https://localhost:8080/"
        },
        "id": "4nTPTGmGXLfx",
        "outputId": "cd663b79-2612-4b03-b79a-030377f23161"
      },
      "execution_count": 111,
      "outputs": [
        {
          "output_type": "stream",
          "name": "stdout",
          "text": [
            "Cancellation code or carrier missing.\n"
          ]
        }
      ]
    },
    {
      "cell_type": "code",
      "source": [
        "# 43_direct_vs_multi_leg.py\n",
        "# Heuristic: flights with same FL_NUM across days are single legs; multi-leg detection requires itinerary data.\n",
        "if 'FL_NUM' in df.columns and 'ORIGIN' in df.columns and 'DEST' in df.columns:\n",
        "    # crude heuristic: routes with same origin/dest considered direct\n",
        "    df['is_direct'] = True\n",
        "    med_direct = df[df['is_direct']==True].groupby('is_direct')['ARR_DELAY'].median()\n",
        "    print(\"Median ARR_DELAY for direct (heuristic):\\n\", med_direct)\n",
        "else:\n",
        "    print(\"Not enough data for direct vs multi-leg comparison.\")\n"
      ],
      "metadata": {
        "colab": {
          "base_uri": "https://localhost:8080/"
        },
        "id": "prozl6h0XLdl",
        "outputId": "fe5eb956-5026-4097-a363-c657865095c3"
      },
      "execution_count": 112,
      "outputs": [
        {
          "output_type": "stream",
          "name": "stdout",
          "text": [
            "Not enough data for direct vs multi-leg comparison.\n"
          ]
        }
      ]
    },
    {
      "cell_type": "code",
      "source": [
        "# 44_acf_daily_delays.py\n",
        "from statsmodels.tsa.stattools import acf\n",
        "if 'SCHEDULED_DEP' in df.columns and 'ARR_DELAY' in df.columns:\n",
        "    daily = df.set_index('SCHEDULED_DEP')['ARR_DELAY'].resample('D').median().fillna(0)\n",
        "    acfs = acf(daily, nlags=30)\n",
        "    plt.figure(figsize=(8,4))\n",
        "    plt.stem(range(len(acfs)), acfs, use_line_collection=True)\n",
        "    plt.title('ACF of Daily Median Arrival Delay')\n",
        "    plt.xlabel('Lag (days)')\n",
        "    plt.show()\n",
        "else:\n",
        "    print(\"SCHEDULED_DEP/ARR_DELAY missing.\")\n"
      ],
      "metadata": {
        "colab": {
          "base_uri": "https://localhost:8080/"
        },
        "id": "mIC3UMvTXLbX",
        "outputId": "8777c3f0-0e78-4f94-b0a0-f392511ade01"
      },
      "execution_count": 113,
      "outputs": [
        {
          "output_type": "stream",
          "name": "stdout",
          "text": [
            "SCHEDULED_DEP/ARR_DELAY missing.\n"
          ]
        }
      ]
    },
    {
      "cell_type": "code",
      "source": [
        "# 45_export_route_stats.py\n",
        "if {'route','ARR_DELAY','DISTANCE','is_cancelled'}.issubset(df.columns):\n",
        "    route_stats = df.groupby('route').agg(total_flights=('ARR_DELAY','size'),\n",
        "                                          avg_delay=('ARR_DELAY','mean'),\n",
        "                                          med_delay=('ARR_DELAY','median'),\n",
        "                                          std_delay=('ARR_DELAY','std'),\n",
        "                                          avg_dist=('DISTANCE','mean'),\n",
        "                                          cancel_rate=('is_cancelled','mean'))\n",
        "    route_stats['cancel_rate'] = route_stats['cancel_rate']*100\n",
        "    route_stats = route_stats.sort_values('avg_delay', ascending=False)\n",
        "    route_stats.head(20)\n",
        "    route_stats.to_csv('/mnt/data/route_stats_week4.csv')\n",
        "    print(\"Saved /mnt/data/route_stats_week4.csv\")\n",
        "else:\n",
        "    print(\"Columns missing for route stats export.\")\n"
      ],
      "metadata": {
        "colab": {
          "base_uri": "https://localhost:8080/"
        },
        "id": "sFV_1yOCXLZD",
        "outputId": "78224a8a-1cb5-4c12-899b-099ba95950df"
      },
      "execution_count": 114,
      "outputs": [
        {
          "output_type": "stream",
          "name": "stdout",
          "text": [
            "Columns missing for route stats export.\n"
          ]
        }
      ]
    },
    {
      "cell_type": "code",
      "source": [
        "# 46_weekhour_hotspots.py\n",
        "if {'day_of_week','hour','ARR_DELAY'}.issubset(df.columns):\n",
        "    pivot = df.pivot_table(index='day_of_week', columns='hour', values='ARR_DELAY', aggfunc='mean')\n",
        "    # flatten and sort\n",
        "    flat = pivot.stack().reset_index()\n",
        "    flat.columns = ['day_of_week','hour','avg_delay']\n",
        "    hotspots = flat.sort_values('avg_delay', ascending=False).head(10)\n",
        "    print(\"Top 10 weekday-hour hotspots:\\n\", hotspots)\n",
        "else:\n",
        "    print(\"Needed columns for hotspots.\")\n"
      ],
      "metadata": {
        "colab": {
          "base_uri": "https://localhost:8080/"
        },
        "id": "2F3lU6aaXLWx",
        "outputId": "b5c814ec-73ab-423b-cb6c-5f040e5a021c"
      },
      "execution_count": 115,
      "outputs": [
        {
          "output_type": "stream",
          "name": "stdout",
          "text": [
            "Needed columns for hotspots.\n"
          ]
        }
      ]
    },
    {
      "cell_type": "code",
      "source": [
        "# 47_negative_scheduled_duration.py\n",
        "if {'SCHEDULED_DEP','SCHEDULED_ARR'}.issubset(df.columns):\n",
        "    df['sched_dur_min'] = (pd.to_datetime(df['SCHEDULED_ARR']) - pd.to_datetime(df['SCHEDULED_DEP'])).dt.total_seconds()/60\n",
        "    neg = df.loc[df['sched_dur_min'] < 0, ['SCHEDULED_DEP','SCHEDULED_ARR','ORIGIN','DEST']].head(20)\n",
        "    print(\"Negative scheduled durations (sample):\\n\", neg)\n",
        "else:\n",
        "    print(\"Scheduled dep/arr columns missing.\")\n"
      ],
      "metadata": {
        "colab": {
          "base_uri": "https://localhost:8080/"
        },
        "id": "mTt72uA9XLUp",
        "outputId": "3f3bd5ed-f4c0-462e-9572-60c7b3cffa0a"
      },
      "execution_count": 116,
      "outputs": [
        {
          "output_type": "stream",
          "name": "stdout",
          "text": [
            "Scheduled dep/arr columns missing.\n"
          ]
        }
      ]
    },
    {
      "cell_type": "code",
      "source": [
        "# 48_morning_vs_night.py\n",
        "if 'hour' in df.columns and 'ARR_DELAY' in df.columns:\n",
        "    morning = df.loc[df['hour'].between(5,11),'ARR_DELAY'].median()\n",
        "    night = df.loc[(df['hour']>=0) & (df['hour']<5) | (df['hour']>=21),'ARR_DELAY'].median()\n",
        "    print(f\"Median delay morning (5-11): {morning}, night: {night}\")\n",
        "else:\n",
        "    print(\"hour/ARR_DELAY missing.\")\n"
      ],
      "metadata": {
        "colab": {
          "base_uri": "https://localhost:8080/"
        },
        "id": "OoZRl_8sXLSW",
        "outputId": "43865977-6bd9-4d46-b473-199eeae7939e"
      },
      "execution_count": 117,
      "outputs": [
        {
          "output_type": "stream",
          "name": "stdout",
          "text": [
            "hour/ARR_DELAY missing.\n"
          ]
        }
      ]
    },
    {
      "cell_type": "code",
      "source": [
        "# 49_month_95th_delay.py\n",
        "if {'month','ARR_DELAY'}.issubset(df.columns):\n",
        "    m95 = df.groupby('month')['ARR_DELAY'].quantile(0.95).sort_values(ascending=False)\n",
        "    print(\"Months by 95th percentile of ARR_DELAY:\\n\", m95)\n",
        "else:\n",
        "    print(\"month/ARR_DELAY missing.\")\n"
      ],
      "metadata": {
        "colab": {
          "base_uri": "https://localhost:8080/"
        },
        "id": "17EdT3AJXLP9",
        "outputId": "e8690171-e14d-4653-94e7-fe93fa60ae53"
      },
      "execution_count": 118,
      "outputs": [
        {
          "output_type": "stream",
          "name": "stdout",
          "text": [
            "month/ARR_DELAY missing.\n"
          ]
        }
      ]
    }
  ]
}