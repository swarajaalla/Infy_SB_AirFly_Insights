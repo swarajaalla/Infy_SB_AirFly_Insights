{
 "cells": [
  {
   "cell_type": "code",
   "execution_count": 1,
   "id": "e3adb2b9",
   "metadata": {},
   "outputs": [
    {
     "name": "stdout",
     "output_type": "stream",
     "text": [
      "22\n"
     ]
    }
   ],
   "source": [
    "print(1+21)"
   ]
  },
  {
   "cell_type": "code",
   "execution_count": 2,
   "id": "e004d92d",
   "metadata": {},
   "outputs": [
    {
     "name": "stdout",
     "output_type": "stream",
     "text": [
      "Don't forget to pay the utility bills\n",
      "To do list remainig\n",
      "-Buy groceries\n",
      "-Pay bills\n",
      "-Schedule meeting\n",
      "-Go for a run\n"
     ]
    }
   ],
   "source": [
    "to_do_list=[\"Buy groceries\",\"Clean the house\",\"Pay bills\"]\n",
    "\n",
    "##Adding to task\n",
    "to_do_list.append(\"Schedule meeting\")\n",
    "to_do_list.append(\"Go for a run\")\n",
    "\n",
    "## Removing a completed task\n",
    "to_do_list.remove(\"Clean the house\")\n",
    "\n",
    "##Checking if a task is in the list\n",
    "if \"Pay bills\" in to_do_list:\n",
    "    print(\"Don't forget to pay the utility bills\")\n",
    "\n",
    "print(\"To do list remainig\")\n",
    "for task in to_do_list:\n",
    "    print(f\"-{task}\")"
   ]
  },
  {
   "cell_type": "code",
   "execution_count": 3,
   "id": "9a1adf98",
   "metadata": {},
   "outputs": [
    {
     "name": "stdout",
     "output_type": "stream",
     "text": [
      "87.16666666666667\n",
      "The highest grade:92\n",
      "The lowest grade:78\n"
     ]
    }
   ],
   "source": [
    "#organizing student grade\n",
    "grades=[85,92,78,90,88]\n",
    "\n",
    "#Adding a new grade\n",
    "grades.append(90)\n",
    "\n",
    "#Calculating avg grade\n",
    "average_grade=sum(grades)/len(grades)\n",
    "print(average_grade)\n",
    "\n",
    "#Finding highest and lowest grade\n",
    "print(f\"The highest grade:{max(grades)}\")\n",
    "print(f\"The lowest grade:{min(grades)}\")"
   ]
  },
  {
   "cell_type": "code",
   "execution_count": null,
   "id": "d3299ef1",
   "metadata": {},
   "outputs": [],
   "source": []
  }
 ],
 "metadata": {
  "kernelspec": {
   "display_name": "Python 3",
   "language": "python",
   "name": "python3"
  },
  "language_info": {
   "codemirror_mode": {
    "name": "ipython",
    "version": 3
   },
   "file_extension": ".py",
   "mimetype": "text/x-python",
   "name": "python",
   "nbconvert_exporter": "python",
   "pygments_lexer": "ipython3",
   "version": "3.12.0"
  }
 },
 "nbformat": 4,
 "nbformat_minor": 5
}
