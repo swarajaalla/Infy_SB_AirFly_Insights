{
 "cells": [
  {
   "cell_type": "code",
   "execution_count": 4,
   "id": "82796c0a",
   "metadata": {},
   "outputs": [
    {
     "name": "stdout",
     "output_type": "stream",
     "text": [
      "Collecting numpy\n",
      "  Downloading numpy-2.3.1-cp312-cp312-win_amd64.whl.metadata (60 kB)\n",
      "Downloading numpy-2.3.1-cp312-cp312-win_amd64.whl (12.7 MB)\n",
      "   ---------------------------------------- 0.0/12.7 MB ? eta -:--:--\n",
      "   ---------------------------------------- 0.0/12.7 MB ? eta -:--:--\n",
      "   ---------------------------------------- 0.0/12.7 MB ? eta -:--:--\n",
      "    --------------------------------------- 0.3/12.7 MB ? eta -:--:--\n",
      "    --------------------------------------- 0.3/12.7 MB ? eta -:--:--\n",
      "    --------------------------------------- 0.3/12.7 MB ? eta -:--:--\n",
      "   - -------------------------------------- 0.5/12.7 MB 409.0 kB/s eta 0:00:30\n",
      "   - -------------------------------------- 0.5/12.7 MB 409.0 kB/s eta 0:00:30\n",
      "   - -------------------------------------- 0.5/12.7 MB 409.0 kB/s eta 0:00:30\n",
      "   - -------------------------------------- 0.5/12.7 MB 409.0 kB/s eta 0:00:30\n",
      "   -- ------------------------------------- 0.8/12.7 MB 322.6 kB/s eta 0:00:38\n",
      "   -- ------------------------------------- 0.8/12.7 MB 322.6 kB/s eta 0:00:38\n",
      "   -- ------------------------------------- 0.8/12.7 MB 322.6 kB/s eta 0:00:38\n",
      "   --- ------------------------------------ 1.0/12.7 MB 342.4 kB/s eta 0:00:35\n",
      "   --- ------------------------------------ 1.0/12.7 MB 342.4 kB/s eta 0:00:35\n",
      "   --- ------------------------------------ 1.0/12.7 MB 342.4 kB/s eta 0:00:35\n",
      "   --- ------------------------------------ 1.0/12.7 MB 342.4 kB/s eta 0:00:35\n",
      "   ---- ----------------------------------- 1.3/12.7 MB 351.3 kB/s eta 0:00:33\n",
      "   ---- ----------------------------------- 1.3/12.7 MB 351.3 kB/s eta 0:00:33\n",
      "   ---- ----------------------------------- 1.6/12.7 MB 383.0 kB/s eta 0:00:30\n",
      "   ----- ---------------------------------- 1.8/12.7 MB 426.5 kB/s eta 0:00:26\n",
      "   ------- -------------------------------- 2.4/12.7 MB 526.3 kB/s eta 0:00:20\n",
      "   --------- ------------------------------ 3.1/12.7 MB 680.9 kB/s eta 0:00:15\n",
      "   ------------- -------------------------- 4.2/12.7 MB 886.0 kB/s eta 0:00:10\n",
      "   --------------- ------------------------ 5.0/12.7 MB 1.0 MB/s eta 0:00:08\n",
      "   ------------------ --------------------- 6.0/12.7 MB 1.2 MB/s eta 0:00:06\n",
      "   ---------------------- ----------------- 7.1/12.7 MB 1.4 MB/s eta 0:00:05\n",
      "   ------------------------- -------------- 8.1/12.7 MB 1.5 MB/s eta 0:00:04\n",
      "   --------------------------- ------------ 8.9/12.7 MB 1.6 MB/s eta 0:00:03\n",
      "   -------------------------------- ------- 10.2/12.7 MB 1.8 MB/s eta 0:00:02\n",
      "   ----------------------------------- ---- 11.3/12.7 MB 1.9 MB/s eta 0:00:01\n",
      "   -------------------------------------- - 12.3/12.7 MB 2.0 MB/s eta 0:00:01\n",
      "   ---------------------------------------- 12.7/12.7 MB 2.0 MB/s eta 0:00:00\n",
      "Installing collected packages: numpy\n",
      "Successfully installed numpy-2.3.1\n"
     ]
    }
   ],
   "source": [
    "!pip install numpy\n"
   ]
  },
  {
   "cell_type": "code",
   "execution_count": 6,
   "id": "3e1f8f7f",
   "metadata": {},
   "outputs": [
    {
     "data": {
      "text/plain": [
       "array([1, 2, 3, 4])"
      ]
     },
     "execution_count": 6,
     "metadata": {},
     "output_type": "execute_result"
    }
   ],
   "source": [
    "import numpy as np\n",
    "np.array([1,2,3,4])"
   ]
  },
  {
   "cell_type": "code",
   "execution_count": 7,
   "id": "ea043cf2",
   "metadata": {},
   "outputs": [
    {
     "name": "stdout",
     "output_type": "stream",
     "text": [
      "4.0\n",
      "3.141592653589793\n"
     ]
    }
   ],
   "source": [
    "from math import *\n",
    "print(sqrt(16))\n",
    "print(pi)"
   ]
  },
  {
   "cell_type": "code",
   "execution_count": 1,
   "id": "3dfe190a",
   "metadata": {},
   "outputs": [
    {
     "data": {
      "text/plain": [
       "5"
      ]
     },
     "execution_count": 1,
     "metadata": {},
     "output_type": "execute_result"
    }
   ],
   "source": [
    "from package.maths import addition\n",
    "addition(2,3)"
   ]
  }
 ],
 "metadata": {
  "kernelspec": {
   "display_name": "Python 3",
   "language": "python",
   "name": "python3"
  },
  "language_info": {
   "codemirror_mode": {
    "name": "ipython",
    "version": 3
   },
   "file_extension": ".py",
   "mimetype": "text/x-python",
   "name": "python",
   "nbconvert_exporter": "python",
   "pygments_lexer": "ipython3",
   "version": "3.12.0"
  }
 },
 "nbformat": 4,
 "nbformat_minor": 5
}
