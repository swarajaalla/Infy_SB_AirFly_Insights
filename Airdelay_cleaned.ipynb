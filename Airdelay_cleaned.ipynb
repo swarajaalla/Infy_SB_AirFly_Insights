{
 "cells": [
  {
   "cell_type": "code",
   "execution_count": 0,
   "metadata": {
    "application/vnd.databricks.v1+cell": {
     "cellMetadata": {
      "byteLimit": 2048000,
      "rowLimit": 10000
     },
     "inputWidgets": {},
     "nuid": "952e55a0-7272-42ae-a0cd-44c56344958f",
     "showTitle": false,
     "tableResultSettingsMap": {},
     "title": ""
    }
   },
   "outputs": [],
   "source": [
    "\n",
    "import pandas as pd\n",
    "4\n",
    "# Replace 'your_file.csv' with the path to your dataset\n",
    "df = pd.read_csv(\"/Volumes/workspace/default/airdelay/Flight_delay.csv\")"
   ]
  },
  {
   "cell_type": "code",
   "execution_count": 0,
   "metadata": {
    "application/vnd.databricks.v1+cell": {
     "cellMetadata": {
      "byteLimit": 2048000,
      "rowLimit": 10000
     },
     "inputWidgets": {},
     "nuid": "a5c4df3b-391c-442b-a6ed-d0439f9b2ffb",
     "showTitle": false,
     "tableResultSettingsMap": {},
     "title": ""
    }
   },
   "outputs": [
    {
     "output_type": "execute_result",
     "data": {
      "text/html": [
       "<div>\n",
       "<style scoped>\n",
       "    .dataframe tbody tr th:only-of-type {\n",
       "        vertical-align: middle;\n",
       "    }\n",
       "\n",
       "    .dataframe tbody tr th {\n",
       "        vertical-align: top;\n",
       "    }\n",
       "\n",
       "    .dataframe thead th {\n",
       "        text-align: right;\n",
       "    }\n",
       "</style>\n",
       "<table border=\"1\" class=\"dataframe\">\n",
       "  <thead>\n",
       "    <tr style=\"text-align: right;\">\n",
       "      <th></th>\n",
       "      <th>DayOfWeek</th>\n",
       "      <th>Date</th>\n",
       "      <th>DepTime</th>\n",
       "      <th>ArrTime</th>\n",
       "      <th>CRSArrTime</th>\n",
       "      <th>UniqueCarrier</th>\n",
       "      <th>Airline</th>\n",
       "      <th>FlightNum</th>\n",
       "      <th>TailNum</th>\n",
       "      <th>ActualElapsedTime</th>\n",
       "      <th>CRSElapsedTime</th>\n",
       "      <th>AirTime</th>\n",
       "      <th>ArrDelay</th>\n",
       "      <th>DepDelay</th>\n",
       "      <th>Origin</th>\n",
       "      <th>Org_Airport</th>\n",
       "      <th>Dest</th>\n",
       "      <th>Dest_Airport</th>\n",
       "      <th>Distance</th>\n",
       "      <th>TaxiIn</th>\n",
       "      <th>TaxiOut</th>\n",
       "      <th>Cancelled</th>\n",
       "      <th>CancellationCode</th>\n",
       "      <th>Diverted</th>\n",
       "      <th>CarrierDelay</th>\n",
       "      <th>WeatherDelay</th>\n",
       "      <th>NASDelay</th>\n",
       "      <th>SecurityDelay</th>\n",
       "      <th>LateAircraftDelay</th>\n",
       "    </tr>\n",
       "  </thead>\n",
       "  <tbody>\n",
       "    <tr>\n",
       "      <th>0</th>\n",
       "      <td>4</td>\n",
       "      <td>03-01-2019</td>\n",
       "      <td>1829</td>\n",
       "      <td>1959</td>\n",
       "      <td>1925</td>\n",
       "      <td>WN</td>\n",
       "      <td>Southwest Airlines Co.</td>\n",
       "      <td>3920</td>\n",
       "      <td>N464WN</td>\n",
       "      <td>90</td>\n",
       "      <td>90</td>\n",
       "      <td>77</td>\n",
       "      <td>34</td>\n",
       "      <td>34</td>\n",
       "      <td>IND</td>\n",
       "      <td>Indianapolis International Airport</td>\n",
       "      <td>BWI</td>\n",
       "      <td>Baltimore-Washington International Airport</td>\n",
       "      <td>515</td>\n",
       "      <td>3</td>\n",
       "      <td>10</td>\n",
       "      <td>0</td>\n",
       "      <td>N</td>\n",
       "      <td>0</td>\n",
       "      <td>2</td>\n",
       "      <td>0</td>\n",
       "      <td>0</td>\n",
       "      <td>0</td>\n",
       "      <td>32</td>\n",
       "    </tr>\n",
       "    <tr>\n",
       "      <th>1</th>\n",
       "      <td>4</td>\n",
       "      <td>03-01-2019</td>\n",
       "      <td>1937</td>\n",
       "      <td>2037</td>\n",
       "      <td>1940</td>\n",
       "      <td>WN</td>\n",
       "      <td>Southwest Airlines Co.</td>\n",
       "      <td>509</td>\n",
       "      <td>N763SW</td>\n",
       "      <td>240</td>\n",
       "      <td>250</td>\n",
       "      <td>230</td>\n",
       "      <td>57</td>\n",
       "      <td>67</td>\n",
       "      <td>IND</td>\n",
       "      <td>Indianapolis International Airport</td>\n",
       "      <td>LAS</td>\n",
       "      <td>McCarran International Airport</td>\n",
       "      <td>1591</td>\n",
       "      <td>3</td>\n",
       "      <td>7</td>\n",
       "      <td>0</td>\n",
       "      <td>N</td>\n",
       "      <td>0</td>\n",
       "      <td>10</td>\n",
       "      <td>0</td>\n",
       "      <td>0</td>\n",
       "      <td>0</td>\n",
       "      <td>47</td>\n",
       "    </tr>\n",
       "    <tr>\n",
       "      <th>2</th>\n",
       "      <td>4</td>\n",
       "      <td>03-01-2019</td>\n",
       "      <td>1644</td>\n",
       "      <td>1845</td>\n",
       "      <td>1725</td>\n",
       "      <td>WN</td>\n",
       "      <td>Southwest Airlines Co.</td>\n",
       "      <td>1333</td>\n",
       "      <td>N334SW</td>\n",
       "      <td>121</td>\n",
       "      <td>135</td>\n",
       "      <td>107</td>\n",
       "      <td>80</td>\n",
       "      <td>94</td>\n",
       "      <td>IND</td>\n",
       "      <td>Indianapolis International Airport</td>\n",
       "      <td>MCO</td>\n",
       "      <td>Orlando International Airport</td>\n",
       "      <td>828</td>\n",
       "      <td>6</td>\n",
       "      <td>8</td>\n",
       "      <td>0</td>\n",
       "      <td>N</td>\n",
       "      <td>0</td>\n",
       "      <td>8</td>\n",
       "      <td>0</td>\n",
       "      <td>0</td>\n",
       "      <td>0</td>\n",
       "      <td>72</td>\n",
       "    </tr>\n",
       "    <tr>\n",
       "      <th>3</th>\n",
       "      <td>4</td>\n",
       "      <td>03-01-2019</td>\n",
       "      <td>1452</td>\n",
       "      <td>1640</td>\n",
       "      <td>1625</td>\n",
       "      <td>WN</td>\n",
       "      <td>Southwest Airlines Co.</td>\n",
       "      <td>675</td>\n",
       "      <td>N286WN</td>\n",
       "      <td>228</td>\n",
       "      <td>240</td>\n",
       "      <td>213</td>\n",
       "      <td>15</td>\n",
       "      <td>27</td>\n",
       "      <td>IND</td>\n",
       "      <td>Indianapolis International Airport</td>\n",
       "      <td>PHX</td>\n",
       "      <td>Phoenix Sky Harbor International Airport</td>\n",
       "      <td>1489</td>\n",
       "      <td>7</td>\n",
       "      <td>8</td>\n",
       "      <td>0</td>\n",
       "      <td>N</td>\n",
       "      <td>0</td>\n",
       "      <td>3</td>\n",
       "      <td>0</td>\n",
       "      <td>0</td>\n",
       "      <td>0</td>\n",
       "      <td>12</td>\n",
       "    </tr>\n",
       "    <tr>\n",
       "      <th>4</th>\n",
       "      <td>4</td>\n",
       "      <td>03-01-2019</td>\n",
       "      <td>1323</td>\n",
       "      <td>1526</td>\n",
       "      <td>1510</td>\n",
       "      <td>WN</td>\n",
       "      <td>Southwest Airlines Co.</td>\n",
       "      <td>4</td>\n",
       "      <td>N674AA</td>\n",
       "      <td>123</td>\n",
       "      <td>135</td>\n",
       "      <td>110</td>\n",
       "      <td>16</td>\n",
       "      <td>28</td>\n",
       "      <td>IND</td>\n",
       "      <td>Indianapolis International Airport</td>\n",
       "      <td>TPA</td>\n",
       "      <td>Tampa International Airport</td>\n",
       "      <td>838</td>\n",
       "      <td>4</td>\n",
       "      <td>9</td>\n",
       "      <td>0</td>\n",
       "      <td>N</td>\n",
       "      <td>0</td>\n",
       "      <td>0</td>\n",
       "      <td>0</td>\n",
       "      <td>0</td>\n",
       "      <td>0</td>\n",
       "      <td>16</td>\n",
       "    </tr>\n",
       "  </tbody>\n",
       "</table>\n",
       "</div>"
      ],
      "text/plain": [
       "   DayOfWeek        Date  DepTime  ...  NASDelay  SecurityDelay LateAircraftDelay\n",
       "0          4  03-01-2019     1829  ...         0              0                32\n",
       "1          4  03-01-2019     1937  ...         0              0                47\n",
       "2          4  03-01-2019     1644  ...         0              0                72\n",
       "3          4  03-01-2019     1452  ...         0              0                12\n",
       "4          4  03-01-2019     1323  ...         0              0                16\n",
       "\n",
       "[5 rows x 29 columns]"
      ]
     },
     "execution_count": 6,
     "metadata": {},
     "output_type": "execute_result"
    }
   ],
   "source": [
    "# displays first 5 rows of the DataFrame \n",
    "df.head()"
   ]
  },
  {
   "cell_type": "code",
   "execution_count": 0,
   "metadata": {
    "application/vnd.databricks.v1+cell": {
     "cellMetadata": {
      "byteLimit": 2048000,
      "rowLimit": 10000
     },
     "inputWidgets": {},
     "nuid": "a293e975-1805-4cc0-a613-376f7c47ad88",
     "showTitle": false,
     "tableResultSettingsMap": {},
     "title": ""
    }
   },
   "outputs": [
    {
     "output_type": "execute_result",
     "data": {
      "text/html": [
       "<div>\n",
       "<style scoped>\n",
       "    .dataframe tbody tr th:only-of-type {\n",
       "        vertical-align: middle;\n",
       "    }\n",
       "\n",
       "    .dataframe tbody tr th {\n",
       "        vertical-align: top;\n",
       "    }\n",
       "\n",
       "    .dataframe thead th {\n",
       "        text-align: right;\n",
       "    }\n",
       "</style>\n",
       "<table border=\"1\" class=\"dataframe\">\n",
       "  <thead>\n",
       "    <tr style=\"text-align: right;\">\n",
       "      <th></th>\n",
       "      <th>DayOfWeek</th>\n",
       "      <th>Date</th>\n",
       "      <th>DepTime</th>\n",
       "      <th>ArrTime</th>\n",
       "      <th>CRSArrTime</th>\n",
       "      <th>UniqueCarrier</th>\n",
       "      <th>Airline</th>\n",
       "      <th>FlightNum</th>\n",
       "      <th>TailNum</th>\n",
       "      <th>ActualElapsedTime</th>\n",
       "      <th>CRSElapsedTime</th>\n",
       "      <th>AirTime</th>\n",
       "      <th>ArrDelay</th>\n",
       "      <th>DepDelay</th>\n",
       "      <th>Origin</th>\n",
       "      <th>Org_Airport</th>\n",
       "      <th>Dest</th>\n",
       "      <th>Dest_Airport</th>\n",
       "      <th>Distance</th>\n",
       "      <th>TaxiIn</th>\n",
       "      <th>TaxiOut</th>\n",
       "      <th>Cancelled</th>\n",
       "      <th>CancellationCode</th>\n",
       "      <th>Diverted</th>\n",
       "      <th>CarrierDelay</th>\n",
       "      <th>WeatherDelay</th>\n",
       "      <th>NASDelay</th>\n",
       "      <th>SecurityDelay</th>\n",
       "      <th>LateAircraftDelay</th>\n",
       "    </tr>\n",
       "  </thead>\n",
       "  <tbody>\n",
       "    <tr>\n",
       "      <th>484546</th>\n",
       "      <td>5</td>\n",
       "      <td>13-06-2019</td>\n",
       "      <td>1609</td>\n",
       "      <td>1942</td>\n",
       "      <td>1915</td>\n",
       "      <td>AA</td>\n",
       "      <td>American Airlines Inc.</td>\n",
       "      <td>1496</td>\n",
       "      <td>N510AA</td>\n",
       "      <td>153</td>\n",
       "      <td>160</td>\n",
       "      <td>131</td>\n",
       "      <td>27</td>\n",
       "      <td>34</td>\n",
       "      <td>DFW</td>\n",
       "      <td>Dallas/Fort Worth International Airport</td>\n",
       "      <td>MCO</td>\n",
       "      <td>Orlando International Airport</td>\n",
       "      <td>984</td>\n",
       "      <td>7</td>\n",
       "      <td>15</td>\n",
       "      <td>0</td>\n",
       "      <td>N</td>\n",
       "      <td>0</td>\n",
       "      <td>27</td>\n",
       "      <td>0</td>\n",
       "      <td>0</td>\n",
       "      <td>0</td>\n",
       "      <td>0</td>\n",
       "    </tr>\n",
       "    <tr>\n",
       "      <th>484547</th>\n",
       "      <td>6</td>\n",
       "      <td>14-06-2019</td>\n",
       "      <td>1616</td>\n",
       "      <td>1954</td>\n",
       "      <td>1915</td>\n",
       "      <td>AA</td>\n",
       "      <td>American Airlines Inc.</td>\n",
       "      <td>1496</td>\n",
       "      <td>N559AA</td>\n",
       "      <td>158</td>\n",
       "      <td>160</td>\n",
       "      <td>136</td>\n",
       "      <td>39</td>\n",
       "      <td>41</td>\n",
       "      <td>DFW</td>\n",
       "      <td>Dallas/Fort Worth International Airport</td>\n",
       "      <td>MCO</td>\n",
       "      <td>Orlando International Airport</td>\n",
       "      <td>984</td>\n",
       "      <td>11</td>\n",
       "      <td>11</td>\n",
       "      <td>0</td>\n",
       "      <td>N</td>\n",
       "      <td>0</td>\n",
       "      <td>11</td>\n",
       "      <td>0</td>\n",
       "      <td>0</td>\n",
       "      <td>0</td>\n",
       "      <td>28</td>\n",
       "    </tr>\n",
       "    <tr>\n",
       "      <th>484548</th>\n",
       "      <td>2</td>\n",
       "      <td>17-06-2019</td>\n",
       "      <td>1617</td>\n",
       "      <td>2002</td>\n",
       "      <td>1915</td>\n",
       "      <td>AA</td>\n",
       "      <td>American Airlines Inc.</td>\n",
       "      <td>1496</td>\n",
       "      <td>N505AA</td>\n",
       "      <td>165</td>\n",
       "      <td>160</td>\n",
       "      <td>141</td>\n",
       "      <td>47</td>\n",
       "      <td>42</td>\n",
       "      <td>DFW</td>\n",
       "      <td>Dallas/Fort Worth International Airport</td>\n",
       "      <td>MCO</td>\n",
       "      <td>Orlando International Airport</td>\n",
       "      <td>984</td>\n",
       "      <td>7</td>\n",
       "      <td>17</td>\n",
       "      <td>0</td>\n",
       "      <td>N</td>\n",
       "      <td>0</td>\n",
       "      <td>0</td>\n",
       "      <td>22</td>\n",
       "      <td>5</td>\n",
       "      <td>0</td>\n",
       "      <td>20</td>\n",
       "    </tr>\n",
       "    <tr>\n",
       "      <th>484549</th>\n",
       "      <td>7</td>\n",
       "      <td>22-06-2019</td>\n",
       "      <td>1607</td>\n",
       "      <td>1941</td>\n",
       "      <td>1915</td>\n",
       "      <td>AA</td>\n",
       "      <td>American Airlines Inc.</td>\n",
       "      <td>1496</td>\n",
       "      <td>N421AA</td>\n",
       "      <td>154</td>\n",
       "      <td>160</td>\n",
       "      <td>137</td>\n",
       "      <td>26</td>\n",
       "      <td>32</td>\n",
       "      <td>DFW</td>\n",
       "      <td>Dallas/Fort Worth International Airport</td>\n",
       "      <td>MCO</td>\n",
       "      <td>Orlando International Airport</td>\n",
       "      <td>984</td>\n",
       "      <td>5</td>\n",
       "      <td>12</td>\n",
       "      <td>0</td>\n",
       "      <td>N</td>\n",
       "      <td>0</td>\n",
       "      <td>1</td>\n",
       "      <td>0</td>\n",
       "      <td>0</td>\n",
       "      <td>0</td>\n",
       "      <td>25</td>\n",
       "    </tr>\n",
       "    <tr>\n",
       "      <th>484550</th>\n",
       "      <td>1</td>\n",
       "      <td>23-06-2019</td>\n",
       "      <td>1608</td>\n",
       "      <td>1933</td>\n",
       "      <td>1915</td>\n",
       "      <td>AA</td>\n",
       "      <td>American Airlines Inc.</td>\n",
       "      <td>1496</td>\n",
       "      <td>N487AA</td>\n",
       "      <td>145</td>\n",
       "      <td>160</td>\n",
       "      <td>129</td>\n",
       "      <td>18</td>\n",
       "      <td>33</td>\n",
       "      <td>DFW</td>\n",
       "      <td>Dallas/Fort Worth International Airport</td>\n",
       "      <td>MCO</td>\n",
       "      <td>Orlando International Airport</td>\n",
       "      <td>984</td>\n",
       "      <td>6</td>\n",
       "      <td>10</td>\n",
       "      <td>0</td>\n",
       "      <td>N</td>\n",
       "      <td>0</td>\n",
       "      <td>18</td>\n",
       "      <td>0</td>\n",
       "      <td>0</td>\n",
       "      <td>0</td>\n",
       "      <td>0</td>\n",
       "    </tr>\n",
       "  </tbody>\n",
       "</table>\n",
       "</div>"
      ],
      "text/plain": [
       "        DayOfWeek        Date  ...  SecurityDelay  LateAircraftDelay\n",
       "484546          5  13-06-2019  ...              0                  0\n",
       "484547          6  14-06-2019  ...              0                 28\n",
       "484548          2  17-06-2019  ...              0                 20\n",
       "484549          7  22-06-2019  ...              0                 25\n",
       "484550          1  23-06-2019  ...              0                  0\n",
       "\n",
       "[5 rows x 29 columns]"
      ]
     },
     "execution_count": 7,
     "metadata": {},
     "output_type": "execute_result"
    }
   ],
   "source": [
    "# displays last 10 rows of the DataFrame\n",
    "df.tail(5)"
   ]
  },
  {
   "cell_type": "code",
   "execution_count": 0,
   "metadata": {
    "application/vnd.databricks.v1+cell": {
     "cellMetadata": {
      "byteLimit": 2048000,
      "rowLimit": 10000
     },
     "inputWidgets": {},
     "nuid": "43d8a5fa-2cca-42dd-af5f-3c402ca49681",
     "showTitle": false,
     "tableResultSettingsMap": {},
     "title": ""
    }
   },
   "outputs": [
    {
     "output_type": "execute_result",
     "data": {
      "text/plain": [
       "14051979"
      ]
     },
     "execution_count": 8,
     "metadata": {},
     "output_type": "execute_result"
    }
   ],
   "source": [
    " # returns total number of elements (rows × columns) in the DataFrame\n",
    " df.size"
   ]
  },
  {
   "cell_type": "code",
   "execution_count": 0,
   "metadata": {
    "application/vnd.databricks.v1+cell": {
     "cellMetadata": {
      "byteLimit": 2048000,
      "rowLimit": 10000
     },
     "inputWidgets": {},
     "nuid": "4662f453-2257-4430-9180-f62e4eaf2b35",
     "showTitle": false,
     "tableResultSettingsMap": {},
     "title": ""
    }
   },
   "outputs": [
    {
     "output_type": "execute_result",
     "data": {
      "text/plain": [
       "DayOfWeek             int64\n",
       "Date                 object\n",
       "DepTime               int64\n",
       "ArrTime               int64\n",
       "CRSArrTime            int64\n",
       "UniqueCarrier        object\n",
       "Airline              object\n",
       "FlightNum             int64\n",
       "TailNum              object\n",
       "ActualElapsedTime     int64\n",
       "CRSElapsedTime        int64\n",
       "AirTime               int64\n",
       "ArrDelay              int64\n",
       "DepDelay              int64\n",
       "Origin               object\n",
       "Org_Airport          object\n",
       "Dest                 object\n",
       "Dest_Airport         object\n",
       "Distance              int64\n",
       "TaxiIn                int64\n",
       "TaxiOut               int64\n",
       "Cancelled             int64\n",
       "CancellationCode     object\n",
       "Diverted              int64\n",
       "CarrierDelay          int64\n",
       "WeatherDelay          int64\n",
       "NASDelay              int64\n",
       "SecurityDelay         int64\n",
       "LateAircraftDelay     int64\n",
       "dtype: object"
      ]
     },
     "execution_count": 9,
     "metadata": {},
     "output_type": "execute_result"
    }
   ],
   "source": [
    " # shows data type of each column in the DataFrame\n",
    " df.dtypes"
   ]
  },
  {
   "cell_type": "code",
   "execution_count": 0,
   "metadata": {
    "application/vnd.databricks.v1+cell": {
     "cellMetadata": {
      "byteLimit": 2048000,
      "rowLimit": 10000
     },
     "inputWidgets": {},
     "nuid": "445a5a2d-59c2-40a5-a7f8-4c4bcdbcfc1e",
     "showTitle": false,
     "tableResultSettingsMap": {},
     "title": ""
    }
   },
   "outputs": [
    {
     "output_type": "execute_result",
     "data": {
      "text/plain": [
       "Index(['DayOfWeek', 'Date', 'DepTime', 'ArrTime', 'CRSArrTime',\n",
       "       'UniqueCarrier', 'Airline', 'FlightNum', 'TailNum', 'ActualElapsedTime',\n",
       "       'CRSElapsedTime', 'AirTime', 'ArrDelay', 'DepDelay', 'Origin',\n",
       "       'Org_Airport', 'Dest', 'Dest_Airport', 'Distance', 'TaxiIn', 'TaxiOut',\n",
       "       'Cancelled', 'CancellationCode', 'Diverted', 'CarrierDelay',\n",
       "       'WeatherDelay', 'NASDelay', 'SecurityDelay', 'LateAircraftDelay'],\n",
       "      dtype='object')"
      ]
     },
     "execution_count": 10,
     "metadata": {},
     "output_type": "execute_result"
    }
   ],
   "source": [
    "# returns the list of column labels in the DataFrame\n",
    "df.columns\n"
   ]
  },
  {
   "cell_type": "code",
   "execution_count": 0,
   "metadata": {
    "application/vnd.databricks.v1+cell": {
     "cellMetadata": {
      "byteLimit": 2048000,
      "rowLimit": 10000
     },
     "inputWidgets": {},
     "nuid": "bc602da9-c818-4f7a-a14c-137bf42fcf97",
     "showTitle": false,
     "tableResultSettingsMap": {},
     "title": ""
    }
   },
   "outputs": [
    {
     "output_type": "execute_result",
     "data": {
      "text/plain": [
       "(484551, 29)"
      ]
     },
     "execution_count": 11,
     "metadata": {},
     "output_type": "execute_result"
    }
   ],
   "source": [
    "# returns the number of rows and columns in the DataFrame\n",
    "df.shape"
   ]
  },
  {
   "cell_type": "code",
   "execution_count": 0,
   "metadata": {
    "application/vnd.databricks.v1+cell": {
     "cellMetadata": {
      "byteLimit": 2048000,
      "rowLimit": 10000
     },
     "inputWidgets": {},
     "nuid": "5c4a7319-df62-4c44-a056-48272c04e187",
     "showTitle": false,
     "tableResultSettingsMap": {},
     "title": ""
    }
   },
   "outputs": [
    {
     "output_type": "execute_result",
     "data": {
      "text/html": [
       "<div>\n",
       "<style scoped>\n",
       "    .dataframe tbody tr th:only-of-type {\n",
       "        vertical-align: middle;\n",
       "    }\n",
       "\n",
       "    .dataframe tbody tr th {\n",
       "        vertical-align: top;\n",
       "    }\n",
       "\n",
       "    .dataframe thead th {\n",
       "        text-align: right;\n",
       "    }\n",
       "</style>\n",
       "<table border=\"1\" class=\"dataframe\">\n",
       "  <thead>\n",
       "    <tr style=\"text-align: right;\">\n",
       "      <th></th>\n",
       "      <th>DayOfWeek</th>\n",
       "      <th>DepTime</th>\n",
       "      <th>ArrTime</th>\n",
       "      <th>CRSArrTime</th>\n",
       "      <th>FlightNum</th>\n",
       "      <th>ActualElapsedTime</th>\n",
       "      <th>CRSElapsedTime</th>\n",
       "      <th>AirTime</th>\n",
       "      <th>ArrDelay</th>\n",
       "      <th>DepDelay</th>\n",
       "      <th>Distance</th>\n",
       "      <th>TaxiIn</th>\n",
       "      <th>TaxiOut</th>\n",
       "      <th>Cancelled</th>\n",
       "      <th>Diverted</th>\n",
       "      <th>CarrierDelay</th>\n",
       "      <th>WeatherDelay</th>\n",
       "      <th>NASDelay</th>\n",
       "      <th>SecurityDelay</th>\n",
       "      <th>LateAircraftDelay</th>\n",
       "    </tr>\n",
       "  </thead>\n",
       "  <tbody>\n",
       "    <tr>\n",
       "      <th>count</th>\n",
       "      <td>484551.000000</td>\n",
       "      <td>484551.000000</td>\n",
       "      <td>484551.000000</td>\n",
       "      <td>484551.000000</td>\n",
       "      <td>484551.000000</td>\n",
       "      <td>484551.000000</td>\n",
       "      <td>484551.000000</td>\n",
       "      <td>484551.000000</td>\n",
       "      <td>484551.000000</td>\n",
       "      <td>484551.000000</td>\n",
       "      <td>484551.000000</td>\n",
       "      <td>484551.000000</td>\n",
       "      <td>484551.000000</td>\n",
       "      <td>484551.0</td>\n",
       "      <td>484551.0</td>\n",
       "      <td>484551.000000</td>\n",
       "      <td>484551.000000</td>\n",
       "      <td>484551.000000</td>\n",
       "      <td>484551.000000</td>\n",
       "      <td>484551.000000</td>\n",
       "    </tr>\n",
       "    <tr>\n",
       "      <th>mean</th>\n",
       "      <td>3.991605</td>\n",
       "      <td>1564.477865</td>\n",
       "      <td>1617.784438</td>\n",
       "      <td>1652.129929</td>\n",
       "      <td>2139.207386</td>\n",
       "      <td>134.810422</td>\n",
       "      <td>131.400761</td>\n",
       "      <td>108.877134</td>\n",
       "      <td>60.907764</td>\n",
       "      <td>57.498086</td>\n",
       "      <td>752.142689</td>\n",
       "      <td>6.782413</td>\n",
       "      <td>19.150876</td>\n",
       "      <td>0.0</td>\n",
       "      <td>0.0</td>\n",
       "      <td>17.419440</td>\n",
       "      <td>3.153284</td>\n",
       "      <td>13.599421</td>\n",
       "      <td>0.082033</td>\n",
       "      <td>26.653587</td>\n",
       "    </tr>\n",
       "    <tr>\n",
       "      <th>std</th>\n",
       "      <td>1.971466</td>\n",
       "      <td>452.235219</td>\n",
       "      <td>583.637660</td>\n",
       "      <td>466.096216</td>\n",
       "      <td>1812.677071</td>\n",
       "      <td>74.070374</td>\n",
       "      <td>71.542531</td>\n",
       "      <td>70.113513</td>\n",
       "      <td>56.975420</td>\n",
       "      <td>55.991012</td>\n",
       "      <td>571.631124</td>\n",
       "      <td>5.555816</td>\n",
       "      <td>15.309747</td>\n",
       "      <td>0.0</td>\n",
       "      <td>0.0</td>\n",
       "      <td>39.417893</td>\n",
       "      <td>19.503657</td>\n",
       "      <td>31.454655</td>\n",
       "      <td>1.884774</td>\n",
       "      <td>40.535994</td>\n",
       "    </tr>\n",
       "    <tr>\n",
       "      <th>min</th>\n",
       "      <td>1.000000</td>\n",
       "      <td>1.000000</td>\n",
       "      <td>1.000000</td>\n",
       "      <td>1.000000</td>\n",
       "      <td>1.000000</td>\n",
       "      <td>15.000000</td>\n",
       "      <td>-21.000000</td>\n",
       "      <td>0.000000</td>\n",
       "      <td>15.000000</td>\n",
       "      <td>6.000000</td>\n",
       "      <td>31.000000</td>\n",
       "      <td>0.000000</td>\n",
       "      <td>0.000000</td>\n",
       "      <td>0.0</td>\n",
       "      <td>0.0</td>\n",
       "      <td>0.000000</td>\n",
       "      <td>0.000000</td>\n",
       "      <td>0.000000</td>\n",
       "      <td>0.000000</td>\n",
       "      <td>0.000000</td>\n",
       "    </tr>\n",
       "    <tr>\n",
       "      <th>25%</th>\n",
       "      <td>2.000000</td>\n",
       "      <td>1234.000000</td>\n",
       "      <td>1327.000000</td>\n",
       "      <td>1339.000000</td>\n",
       "      <td>629.000000</td>\n",
       "      <td>80.000000</td>\n",
       "      <td>79.000000</td>\n",
       "      <td>57.000000</td>\n",
       "      <td>25.000000</td>\n",
       "      <td>23.000000</td>\n",
       "      <td>331.000000</td>\n",
       "      <td>4.000000</td>\n",
       "      <td>11.000000</td>\n",
       "      <td>0.0</td>\n",
       "      <td>0.0</td>\n",
       "      <td>0.000000</td>\n",
       "      <td>0.000000</td>\n",
       "      <td>0.000000</td>\n",
       "      <td>0.000000</td>\n",
       "      <td>0.000000</td>\n",
       "    </tr>\n",
       "    <tr>\n",
       "      <th>50%</th>\n",
       "      <td>4.000000</td>\n",
       "      <td>1620.000000</td>\n",
       "      <td>1737.000000</td>\n",
       "      <td>1723.000000</td>\n",
       "      <td>1514.000000</td>\n",
       "      <td>116.000000</td>\n",
       "      <td>114.000000</td>\n",
       "      <td>90.000000</td>\n",
       "      <td>42.000000</td>\n",
       "      <td>40.000000</td>\n",
       "      <td>599.000000</td>\n",
       "      <td>5.000000</td>\n",
       "      <td>15.000000</td>\n",
       "      <td>0.0</td>\n",
       "      <td>0.0</td>\n",
       "      <td>2.000000</td>\n",
       "      <td>0.000000</td>\n",
       "      <td>1.000000</td>\n",
       "      <td>0.000000</td>\n",
       "      <td>13.000000</td>\n",
       "    </tr>\n",
       "    <tr>\n",
       "      <th>75%</th>\n",
       "      <td>6.000000</td>\n",
       "      <td>1928.000000</td>\n",
       "      <td>2049.000000</td>\n",
       "      <td>2025.000000</td>\n",
       "      <td>3683.000000</td>\n",
       "      <td>168.000000</td>\n",
       "      <td>162.000000</td>\n",
       "      <td>139.000000</td>\n",
       "      <td>76.000000</td>\n",
       "      <td>72.000000</td>\n",
       "      <td>992.000000</td>\n",
       "      <td>8.000000</td>\n",
       "      <td>22.000000</td>\n",
       "      <td>0.0</td>\n",
       "      <td>0.0</td>\n",
       "      <td>19.000000</td>\n",
       "      <td>0.000000</td>\n",
       "      <td>13.000000</td>\n",
       "      <td>0.000000</td>\n",
       "      <td>36.000000</td>\n",
       "    </tr>\n",
       "    <tr>\n",
       "      <th>max</th>\n",
       "      <td>7.000000</td>\n",
       "      <td>2400.000000</td>\n",
       "      <td>2400.000000</td>\n",
       "      <td>2359.000000</td>\n",
       "      <td>8403.000000</td>\n",
       "      <td>727.000000</td>\n",
       "      <td>602.000000</td>\n",
       "      <td>609.000000</td>\n",
       "      <td>1707.000000</td>\n",
       "      <td>1710.000000</td>\n",
       "      <td>4502.000000</td>\n",
       "      <td>207.000000</td>\n",
       "      <td>383.000000</td>\n",
       "      <td>0.0</td>\n",
       "      <td>0.0</td>\n",
       "      <td>1707.000000</td>\n",
       "      <td>1148.000000</td>\n",
       "      <td>1357.000000</td>\n",
       "      <td>392.000000</td>\n",
       "      <td>1254.000000</td>\n",
       "    </tr>\n",
       "  </tbody>\n",
       "</table>\n",
       "</div>"
      ],
      "text/plain": [
       "           DayOfWeek        DepTime  ...  SecurityDelay  LateAircraftDelay\n",
       "count  484551.000000  484551.000000  ...  484551.000000      484551.000000\n",
       "mean        3.991605    1564.477865  ...       0.082033          26.653587\n",
       "std         1.971466     452.235219  ...       1.884774          40.535994\n",
       "min         1.000000       1.000000  ...       0.000000           0.000000\n",
       "25%         2.000000    1234.000000  ...       0.000000           0.000000\n",
       "50%         4.000000    1620.000000  ...       0.000000          13.000000\n",
       "75%         6.000000    1928.000000  ...       0.000000          36.000000\n",
       "max         7.000000    2400.000000  ...     392.000000        1254.000000\n",
       "\n",
       "[8 rows x 20 columns]"
      ]
     },
     "execution_count": 12,
     "metadata": {},
     "output_type": "execute_result"
    }
   ],
   "source": [
    " # generates summary statistics (count, mean, std, min, quartiles, max) for numerical columns\n",
    " df.describe()"
   ]
  },
  {
   "cell_type": "code",
   "execution_count": 0,
   "metadata": {
    "application/vnd.databricks.v1+cell": {
     "cellMetadata": {
      "byteLimit": 2048000,
      "rowLimit": 10000
     },
     "inputWidgets": {},
     "nuid": "590c1cd8-9e44-4405-9c8e-1bed9e6f4175",
     "showTitle": false,
     "tableResultSettingsMap": {},
     "title": ""
    }
   },
   "outputs": [
    {
     "output_type": "stream",
     "name": "stdout",
     "output_type": "stream",
     "text": [
      "<class 'pandas.core.frame.DataFrame'>\nRangeIndex: 484551 entries, 0 to 484550\nData columns (total 29 columns):\n #   Column             Non-Null Count   Dtype \n---  ------             --------------   ----- \n 0   DayOfWeek          484551 non-null  int64 \n 1   Date               484551 non-null  object\n 2   DepTime            484551 non-null  int64 \n 3   ArrTime            484551 non-null  int64 \n 4   CRSArrTime         484551 non-null  int64 \n 5   UniqueCarrier      484551 non-null  object\n 6   Airline            484551 non-null  object\n 7   FlightNum          484551 non-null  int64 \n 8   TailNum            484551 non-null  object\n 9   ActualElapsedTime  484551 non-null  int64 \n 10  CRSElapsedTime     484551 non-null  int64 \n 11  AirTime            484551 non-null  int64 \n 12  ArrDelay           484551 non-null  int64 \n 13  DepDelay           484551 non-null  int64 \n 14  Origin             484551 non-null  object\n 15  Org_Airport        483374 non-null  object\n 16  Dest               484551 non-null  object\n 17  Dest_Airport       483072 non-null  object\n 18  Distance           484551 non-null  int64 \n 19  TaxiIn             484551 non-null  int64 \n 20  TaxiOut            484551 non-null  int64 \n 21  Cancelled          484551 non-null  int64 \n 22  CancellationCode   484551 non-null  object\n 23  Diverted           484551 non-null  int64 \n 24  CarrierDelay       484551 non-null  int64 \n 25  WeatherDelay       484551 non-null  int64 \n 26  NASDelay           484551 non-null  int64 \n 27  SecurityDelay      484551 non-null  int64 \n 28  LateAircraftDelay  484551 non-null  int64 \ndtypes: int64(20), object(9)\nmemory usage: 107.2+ MB\n"
     ]
    }
   ],
   "source": [
    "# displays summary of DataFrame (index, columns, non-null counts, and data types)\n",
    "df.info()"
   ]
  },
  {
   "cell_type": "code",
   "execution_count": 0,
   "metadata": {
    "application/vnd.databricks.v1+cell": {
     "cellMetadata": {
      "byteLimit": 2048000,
      "rowLimit": 10000
     },
     "inputWidgets": {},
     "nuid": "338111c4-f3e2-46d2-9a52-b41bd14933f4",
     "showTitle": false,
     "tableResultSettingsMap": {},
     "title": ""
    }
   },
   "outputs": [
    {
     "output_type": "stream",
     "name": "stdout",
     "output_type": "stream",
     "text": [
      "Before removing duplicates: (484551, 29)\nAfter removing duplicates : (484549, 29)\n"
     ]
    }
   ],
   "source": [
    "# remove duplicate rows\n",
    "df_no_duplicates = df.drop_duplicates()\n",
    "\n",
    "# check shape before and after removing duplicates\n",
    "print(\"Before removing duplicates:\", df.shape)  \n",
    "print(\"After removing duplicates :\", df_no_duplicates.shape)\n"
   ]
  },
  {
   "cell_type": "code",
   "execution_count": 0,
   "metadata": {
    "application/vnd.databricks.v1+cell": {
     "cellMetadata": {
      "byteLimit": 2048000,
      "rowLimit": 10000
     },
     "inputWidgets": {},
     "nuid": "e294efcb-a96f-4e7b-9e3c-f7e03007bd5d",
     "showTitle": false,
     "tableResultSettingsMap": {},
     "title": ""
    }
   },
   "outputs": [
    {
     "output_type": "stream",
     "name": "stdout",
     "output_type": "stream",
     "text": [
      "        DayOfWeek        Date  ...  SecurityDelay  LateAircraftDelay\n9098            5  18-01-2019  ...              0                 26\n52651           1  21-01-2019  ...              0                  0\n185971          5  14-03-2019  ...              0                 31\n37599           4  10-01-2019  ...              0                  0\n238854          1  17-03-2019  ...              0                  0\n\n[5 rows x 29 columns]\n"
     ]
    }
   ],
   "source": [
    "# take 1% random sample of the data\n",
    "sample_df = df.sample(frac=0.01, random_state=42)\n",
    "\n",
    "# show first 5 rows of the sample\n",
    "print(sample_df.head())\n"
   ]
  },
  {
   "cell_type": "code",
   "execution_count": 0,
   "metadata": {
    "application/vnd.databricks.v1+cell": {
     "cellMetadata": {
      "byteLimit": 2048000,
      "rowLimit": 10000
     },
     "inputWidgets": {},
     "nuid": "ee91552e-2d90-41d4-9444-cac9eb05ad39",
     "showTitle": false,
     "tableResultSettingsMap": {},
     "title": ""
    }
   },
   "outputs": [],
   "source": [
    "# random sampling\n",
    "sample_df = pd.read_csv(\"/Volumes/workspace/default/airdelay/Flight_delay.csv\", nrows=100000)  # first 100k rows\n"
   ]
  },
  {
   "cell_type": "code",
   "execution_count": 0,
   "metadata": {
    "application/vnd.databricks.v1+cell": {
     "cellMetadata": {
      "byteLimit": 2048000,
      "rowLimit": 10000
     },
     "inputWidgets": {},
     "nuid": "2c8840cb-182c-4cdd-a298-456b8fb2404b",
     "showTitle": false,
     "tableResultSettingsMap": {},
     "title": ""
    }
   },
   "outputs": [],
   "source": [
    "#Memory Optimization\n",
    "def optimize_airfly_memory(path):\n",
    "    \"\"\"\n",
    "    Load AirFly dataset with optimized dtypes for memory usage.\n",
    "    \"\"\"\n",
    "    # Define numeric downcast mapping\n",
    "    dtype_map = {\n",
    "        \"DayOfWeek\": \"int8\",\n",
    "        \"DepTime\": \"int32\",\n",
    "        \"ArrTime\": \"int32\",\n",
    "        \"CRSArrTime\": \"int32\",\n",
    "        \"FlightNum\": \"int32\",\n",
    "        \"ActualElapsedTime\": \"float32\",   # may contain nulls after cleaning\n",
    "        \"CRSElapsedTime\": \"float32\",\n",
    "        \"AirTime\": \"float32\",\n",
    "        \"ArrDelay\": \"float32\",\n",
    "        \"DepDelay\": \"float32\",\n",
    "        \"Distance\": \"int32\",\n",
    "        \"TaxiIn\": \"float32\",\n",
    "        \"TaxiOut\": \"float32\",\n",
    "        \"Cancelled\": \"int8\",\n",
    "        \"Diverted\": \"int8\",\n",
    "        \"CarrierDelay\": \"float32\",\n",
    "        \"WeatherDelay\": \"float32\",\n",
    "        \"NASDelay\": \"float32\",\n",
    "        \"SecurityDelay\": \"float32\",\n",
    "        \"LateAircraftDelay\": \"float32\"\n",
    "    }\n",
    "\n",
    "    # Read CSV with dtype mapping (for numeric columns)\n",
    "    data = pd.read_csv(\"/Volumes/workspace/default/airdelay/Flight_delay.csv\", dtype=dtype_map, low_memory=True)\n",
    "\n",
    "    # Convert object columns to category\n",
    "    categorical_cols = [\n",
    "        \"Date\", \"UniqueCarrier\", \"Airline\", \"TailNum\",\n",
    "        \"Origin\", \"Org_Airport\", \"Dest\", \"Dest_Airport\",\n",
    "        \"CancellationCode\"\n",
    "    ]\n",
    "    for col in categorical_cols:\n",
    "        data[col] = data[col].astype(\"category\")\n",
    "\n",
    "    return data\n",
    "\n",
    "\n",
    "def report_memory(data):\n",
    "    \"\"\"\n",
    "    Prints memory usage of dataframe in MB by column.\n",
    "    \"\"\"\n",
    "    mem = data.memory_usage(deep=True) / 1024**2\n",
    "    mem_data = mem.reset_index()\n",
    "    mem_data.columns = [\"Column\", \"Memory_MB\"]\n",
    "    print(\"Total Memory: {:.2f} MB\".format(mem.sum()))\n",
    "    return mem_data\n"
   ]
  },
  {
   "cell_type": "code",
   "execution_count": 0,
   "metadata": {
    "application/vnd.databricks.v1+cell": {
     "cellMetadata": {
      "byteLimit": 2048000,
      "rowLimit": 10000
     },
     "inputWidgets": {},
     "nuid": "730a8c34-e111-4763-818a-6c71b41d95d3",
     "showTitle": false,
     "tableResultSettingsMap": {},
     "title": ""
    }
   },
   "outputs": [
    {
     "output_type": "stream",
     "name": "stdout",
     "output_type": "stream",
     "text": [
      "\uD83D\uDD39 Loading original dataset...\nOriginal memory usage:\nTotal Memory: 334.41 MB\n               Column  Memory_MB\n0               Index   0.000126\n1           DayOfWeek   3.696831\n2                Date  27.264127\n3             DepTime   3.696831\n4             ArrTime   3.696831\n5          CRSArrTime   3.696831\n6       UniqueCarrier  23.567296\n7             Airline  32.788416\n8           FlightNum   3.696831\n9             TailNum  25.414421\n10  ActualElapsedTime   3.696831\n11     CRSElapsedTime   3.696831\n12            AirTime   3.696831\n13           ArrDelay   3.696831\n14           DepDelay   3.696831\n15             Origin  24.029400\n16        Org_Airport  40.147590\n17               Dest  24.029400\n18       Dest_Airport  40.130426\n19           Distance   3.696831\n20             TaxiIn   3.696831\n21            TaxiOut   3.696831\n22          Cancelled   3.696831\n23   CancellationCode  23.105192\n24           Diverted   3.696831\n25       CarrierDelay   3.696831\n26       WeatherDelay   3.696831\n27           NASDelay   3.696831\n28      SecurityDelay   3.696831\n29  LateAircraftDelay   3.696831\n"
     ]
    }
   ],
   "source": [
    "path = \"/Volumes/workspace/default/airdelay/Flight_delay.csv\"\n",
    "\n",
    "print(\"\uD83D\uDD39 Loading original dataset...\")\n",
    "df_raw = pd.read_csv(path)\n",
    "print(\"Original memory usage:\")\n",
    "print(report_memory(df_raw))"
   ]
  },
  {
   "cell_type": "code",
   "execution_count": 0,
   "metadata": {
    "application/vnd.databricks.v1+cell": {
     "cellMetadata": {
      "byteLimit": 2048000,
      "rowLimit": 10000
     },
     "inputWidgets": {},
     "nuid": "dfaa9169-e020-4352-9e3b-506f2082151d",
     "showTitle": false,
     "tableResultSettingsMap": {},
     "title": ""
    }
   },
   "outputs": [
    {
     "output_type": "stream",
     "name": "stdout",
     "output_type": "stream",
     "text": [
      "\n\uD83D\uDD39 Loading optimized dataset...\nOptimized memory usage:\nTotal Memory: 40.17 MB\n               Column  Memory_MB\n0               Index   0.000126\n1           DayOfWeek   0.462104\n2                Date   0.938367\n3             DepTime   1.848415\n4             ArrTime   1.848415\n5          CRSArrTime   1.848415\n6       UniqueCarrier   0.462974\n7             Airline   0.463194\n8           FlightNum   1.848415\n9             TailNum   1.234409\n10  ActualElapsedTime   1.848415\n11     CRSElapsedTime   1.848415\n12            AirTime   1.848415\n13           ArrDelay   1.848415\n14           DepDelay   1.848415\n15             Origin   0.945707\n16        Org_Airport   0.952967\n17               Dest   0.945707\n18       Dest_Airport   0.952967\n19           Distance   1.848415\n20             TaxiIn   1.848415\n21            TaxiOut   1.848415\n22          Cancelled   0.462104\n23   CancellationCode   0.462255\n24           Diverted   0.462104\n25       CarrierDelay   1.848415\n26       WeatherDelay   1.848415\n27           NASDelay   1.848415\n28      SecurityDelay   1.848415\n29  LateAircraftDelay   1.848415\n"
     ]
    }
   ],
   "source": [
    "\n",
    "path = \"/Volumes/workspace/default/Airdelay/Flight_delay.csv\"\n",
    "print(\"\\n\uD83D\uDD39 Loading optimized dataset...\")\n",
    "df_opt = optimize_airfly_memory(path)\n",
    "print(\"Optimized memory usage:\")\n",
    "print(report_memory(df_opt))"
   ]
  },
  {
   "cell_type": "code",
   "execution_count": 0,
   "metadata": {
    "application/vnd.databricks.v1+cell": {
     "cellMetadata": {
      "byteLimit": 2048000,
      "rowLimit": 10000
     },
     "inputWidgets": {},
     "nuid": "3206a6a7-7114-4a4e-8de6-1d316b48d75f",
     "showTitle": false,
     "tableResultSettingsMap": {},
     "title": ""
    }
   },
   "outputs": [
    {
     "output_type": "execute_result",
     "data": {
      "text/plain": [
       "DayOfWeek               0\n",
       "Date                    0\n",
       "DepTime                 0\n",
       "ArrTime                 0\n",
       "CRSArrTime              0\n",
       "UniqueCarrier           0\n",
       "Airline                 0\n",
       "FlightNum               0\n",
       "TailNum                 0\n",
       "ActualElapsedTime       0\n",
       "CRSElapsedTime          0\n",
       "AirTime                 0\n",
       "ArrDelay                0\n",
       "DepDelay                0\n",
       "Origin                  0\n",
       "Org_Airport          1177\n",
       "Dest                    0\n",
       "Dest_Airport         1479\n",
       "Distance                0\n",
       "TaxiIn                  0\n",
       "TaxiOut                 0\n",
       "Cancelled               0\n",
       "CancellationCode        0\n",
       "Diverted                0\n",
       "CarrierDelay            0\n",
       "WeatherDelay            0\n",
       "NASDelay                0\n",
       "SecurityDelay           0\n",
       "LateAircraftDelay       0\n",
       "dtype: int64"
      ]
     },
     "execution_count": 20,
     "metadata": {},
     "output_type": "execute_result"
    }
   ],
   "source": [
    "df.isnull().sum()"
   ]
  },
  {
   "cell_type": "code",
   "execution_count": 0,
   "metadata": {
    "application/vnd.databricks.v1+cell": {
     "cellMetadata": {
      "byteLimit": 2048000,
      "rowLimit": 10000
     },
     "inputWidgets": {},
     "nuid": "5360771c-7b03-46be-975d-0d05dabf724d",
     "showTitle": false,
     "tableResultSettingsMap": {},
     "title": ""
    }
   },
   "outputs": [],
   "source": [
    "# Handling Missing Values\n",
    "\n",
    "\n",
    "\n",
    "\n",
    "#1 Fill categorical text fields with \"Unknown\" for missing values\n",
    "categorical_cols = [\n",
    "    \"Date\", \"UniqueCarrier\", \"Airline\", \"TailNum\",\n",
    "    \"Origin\", \"Org_Airport\", \"Dest\", \"Dest_Airport\",\n",
    "    \"CancellationCode\"\n",
    "]\n",
    "\n",
    "for col in categorical_cols:\n",
    "    if df[col].isnull().any():\n",
    "        df[col] = df[col].fillna(\"Unknown\")"
   ]
  },
  {
   "cell_type": "code",
   "execution_count": 0,
   "metadata": {
    "application/vnd.databricks.v1+cell": {
     "cellMetadata": {
      "byteLimit": 2048000,
      "rowLimit": 10000
     },
     "inputWidgets": {},
     "nuid": "7bc44801-7c2b-4e6d-a4ce-cbfa12bd4c91",
     "showTitle": false,
     "tableResultSettingsMap": {},
     "title": ""
    }
   },
   "outputs": [],
   "source": [
    "#2 Replace NaN with 0 for numeric delay fields\n",
    "delay_cols = [\n",
    "    \"ArrDelay\", \"DepDelay\", \"CarrierDelay\", \"WeatherDelay\",\n",
    "    \"NASDelay\", \"SecurityDelay\", \"LateAircraftDelay\"\n",
    "]\n",
    "df[delay_cols] = df[delay_cols].fillna(0)"
   ]
  },
  {
   "cell_type": "code",
   "execution_count": 0,
   "metadata": {
    "application/vnd.databricks.v1+cell": {
     "cellMetadata": {
      "byteLimit": 2048000,
      "rowLimit": 10000
     },
     "inputWidgets": {},
     "nuid": "fea13998-14dd-434e-856e-c85a0a1676a5",
     "showTitle": false,
     "tableResultSettingsMap": {},
     "title": ""
    }
   },
   "outputs": [],
   "source": [
    "#3 Fill missing values in elapsed time or airtime columns with median\n",
    "elapsed_cols = [\"ActualElapsedTime\", \"CRSElapsedTime\", \"AirTime\"]\n",
    "for col in elapsed_cols:\n",
    "    if df[col].isnull().any():\n",
    "        median_val = df[col].median()\n",
    "        df[col] = df[col].fillna(median_val)"
   ]
  },
  {
   "cell_type": "code",
   "execution_count": 0,
   "metadata": {
    "application/vnd.databricks.v1+cell": {
     "cellMetadata": {
      "byteLimit": 2048000,
      "rowLimit": 10000
     },
     "inputWidgets": {},
     "nuid": "c6b6bd7c-b76b-492f-959f-25a9ec1ffa83",
     "showTitle": false,
     "tableResultSettingsMap": {},
     "title": ""
    }
   },
   "outputs": [],
   "source": [
    "#4 If 'CancellationCode' is null, it means the flight was NOT cancelled\n",
    "df['CancellationCode'] = df['CancellationCode'].fillna(\"NotCancelled\")"
   ]
  },
  {
   "cell_type": "code",
   "execution_count": 0,
   "metadata": {
    "application/vnd.databricks.v1+cell": {
     "cellMetadata": {
      "byteLimit": 2048000,
      "rowLimit": 10000
     },
     "inputWidgets": {},
     "nuid": "b396c8db-7649-4a73-b01d-a915919ddc04",
     "showTitle": false,
     "tableResultSettingsMap": {},
     "title": ""
    }
   },
   "outputs": [
    {
     "output_type": "stream",
     "name": "stdout",
     "output_type": "stream",
     "text": [
      "ArrDelay             0\nDepDelay             0\nCarrierDelay         0\nWeatherDelay         0\nNASDelay             0\nSecurityDelay        0\nLateAircraftDelay    0\nCancelled            0\nCancellationCode     0\ndtype: int64\n"
     ]
    }
   ],
   "source": [
    "# Check results \n",
    "print(df[delay_cols + [\"Cancelled\", \"CancellationCode\"]].isnull().sum())"
   ]
  },
  {
   "cell_type": "code",
   "execution_count": 0,
   "metadata": {
    "application/vnd.databricks.v1+cell": {
     "cellMetadata": {
      "byteLimit": 2048000,
      "rowLimit": 10000
     },
     "inputWidgets": {},
     "nuid": "907f3871-b616-47ff-92f5-2ddec59de5cc",
     "showTitle": false,
     "tableResultSettingsMap": {},
     "title": ""
    }
   },
   "outputs": [],
   "source": [
    " #5 If still missing values remain → drop those rows (safe clean-up)\n",
    "df = df.dropna()"
   ]
  },
  {
   "cell_type": "code",
   "execution_count": 0,
   "metadata": {
    "application/vnd.databricks.v1+cell": {
     "cellMetadata": {
      "byteLimit": 2048000,
      "rowLimit": 10000
     },
     "inputWidgets": {},
     "nuid": "8ab8f08d-e40f-4aa9-9e97-1472550e175e",
     "showTitle": false,
     "tableResultSettingsMap": {},
     "title": ""
    }
   },
   "outputs": [
    {
     "output_type": "stream",
     "name": "stdout",
     "output_type": "stream",
     "text": [
      "\nMissing values after cleaning:\nDayOfWeek            0\nDate                 0\nDepTime              0\nArrTime              0\nCRSArrTime           0\nUniqueCarrier        0\nAirline              0\nFlightNum            0\nTailNum              0\nActualElapsedTime    0\nCRSElapsedTime       0\nAirTime              0\nArrDelay             0\nDepDelay             0\nOrigin               0\nOrg_Airport          0\nDest                 0\nDest_Airport         0\nDistance             0\nTaxiIn               0\nTaxiOut              0\nCancelled            0\nCancellationCode     0\nDiverted             0\nCarrierDelay         0\nWeatherDelay         0\nNASDelay             0\nSecurityDelay        0\nLateAircraftDelay    0\ndtype: int64\n"
     ]
    }
   ],
   "source": [
    "#Missing value after cleaning\n",
    "print(\"\\nMissing values after cleaning:\")\n",
    "print(df.isnull().sum())"
   ]
  },
  {
   "cell_type": "code",
   "execution_count": 0,
   "metadata": {
    "application/vnd.databricks.v1+cell": {
     "cellMetadata": {
      "byteLimit": 2048000,
      "rowLimit": 10000
     },
     "inputWidgets": {},
     "nuid": "9dd7478c-50ad-486e-b817-86c15e9511e1",
     "showTitle": false,
     "tableResultSettingsMap": {},
     "title": ""
    }
   },
   "outputs": [],
   "source": [
    "# First, convert the 'Date' column to datetime type\n",
    "df[\"Date\"] = pd.to_datetime(df[\"Date\"], dayfirst=True, errors=\"coerce\")"
   ]
  },
  {
   "cell_type": "code",
   "execution_count": 0,
   "metadata": {
    "application/vnd.databricks.v1+cell": {
     "cellMetadata": {
      "byteLimit": 2048000,
      "rowLimit": 10000
     },
     "inputWidgets": {},
     "nuid": "9fbfa25c-ed60-41fe-9df6-fc5cdc8acd94",
     "showTitle": false,
     "tableResultSettingsMap": {},
     "title": ""
    }
   },
   "outputs": [],
   "source": [
    "#Convert 'DepTime' (HHMM integer) to a 4-digit string with leading zeros\n",
    "df[\"DepTime\"] = df[\"DepTime\"].apply(lambda x: f\"{int(x):04d}\" if pd.notnull(x) else \"0000\")"
   ]
  },
  {
   "cell_type": "code",
   "execution_count": 0,
   "metadata": {
    "application/vnd.databricks.v1+cell": {
     "cellMetadata": {
      "byteLimit": 2048000,
      "rowLimit": 10000
     },
     "inputWidgets": {},
     "nuid": "ea527e74-02df-4d2f-9baa-fb3e5fc29a4f",
     "showTitle": false,
     "tableResultSettingsMap": {},
     "title": ""
    }
   },
   "outputs": [],
   "source": [
    " #Extract hour and minute from 'DepTime' string\n",
    " df[\"DepHour\"] = df[\"DepTime\"].str[:2].astype(int)\n",
    "df[\"DepMinute\"] = df[\"DepTime\"].str[2:].astype(int)"
   ]
  },
  {
   "cell_type": "code",
   "execution_count": 0,
   "metadata": {
    "application/vnd.databricks.v1+cell": {
     "cellMetadata": {
      "byteLimit": 2048000,
      "rowLimit": 10000
     },
     "inputWidgets": {},
     "nuid": "da38d51e-c1f9-4b9d-b77f-e8809839aac0",
     "showTitle": false,
     "tableResultSettingsMap": {},
     "title": ""
    }
   },
   "outputs": [],
   "source": [
    "# Combine 'Date', 'DepHour', and 'DepMinute' into a single datetime column 'DepDatetime'\n",
    "\n",
    "df[\"DepDatetime\"] = df.apply(\n",
    "    lambda row: pd.Timestamp(\n",
    "        year=row[\"Date\"].year,\n",
    "        month=row[\"Date\"].month,\n",
    "        day=row[\"Date\"].day,\n",
    "        hour=min(max(row[\"DepHour\"], 0), 23),\n",
    "        minute=min(max(row[\"DepMinute\"], 0), 59)\n",
    "    ),\n",
    "    axis=1\n",
    ")"
   ]
  },
  {
   "cell_type": "code",
   "execution_count": 0,
   "metadata": {
    "application/vnd.databricks.v1+cell": {
     "cellMetadata": {
      "byteLimit": 2048000,
      "rowLimit": 10000
     },
     "inputWidgets": {},
     "nuid": "9cc4df97-af4d-4301-b8bc-af431f8e7675",
     "showTitle": false,
     "tableResultSettingsMap": {},
     "title": ""
    }
   },
   "outputs": [],
   "source": [
    "# Extract the month number from departure datetime (1–12)\n",
    "df[\"Month\"] = df[\"DepDatetime\"].dt.month\n",
    "\n",
    "# Extract the day name of the week (Monday, Tuesday, etc.)\n",
    "df[\"DayOfWeek\"] = df[\"DepDatetime\"].dt.day_name()\n",
    "\n",
    "# Extract the hour of departure\n",
    "df[\"Hour\"] = df[\"DepDatetime\"].dt.hour"
   ]
  },
  {
   "cell_type": "code",
   "execution_count": 0,
   "metadata": {
    "application/vnd.databricks.v1+cell": {
     "cellMetadata": {
      "byteLimit": 2048000,
      "rowLimit": 10000
     },
     "inputWidgets": {},
     "nuid": "db26f6ef-8466-47f9-9c2a-43f45899bb52",
     "showTitle": false,
     "tableResultSettingsMap": {},
     "title": ""
    }
   },
   "outputs": [],
   "source": [
    "# Create a route string by combining Origin and Destination (e.g., ATL-LAX)\n",
    "df[\"Route\"] = df[\"Origin\"] + \"-\" + df[\"Dest\"]"
   ]
  },
  {
   "cell_type": "code",
   "execution_count": 0,
   "metadata": {
    "application/vnd.databricks.v1+cell": {
     "cellMetadata": {
      "byteLimit": 2048000,
      "rowLimit": 10000
     },
     "inputWidgets": {},
     "nuid": "6363daf2-fce1-4324-925a-af11516c49c7",
     "showTitle": false,
     "tableResultSettingsMap": {},
     "title": ""
    }
   },
   "outputs": [
    {
     "output_type": "stream",
     "name": "stdout",
     "output_type": "stream",
     "text": [
      "        Date DepTime         DepDatetime  Month DayOfWeek  Hour    Route\n0 2019-01-03    1829 2019-01-03 18:29:00      1  Thursday    18  IND-BWI\n1 2019-01-03    1937 2019-01-03 19:37:00      1  Thursday    19  IND-LAS\n2 2019-01-03    1644 2019-01-03 16:44:00      1  Thursday    16  IND-MCO\n3 2019-01-03    1452 2019-01-03 14:52:00      1  Thursday    14  IND-PHX\n4 2019-01-03    1323 2019-01-03 13:23:00      1  Thursday    13  IND-TPA\n"
     ]
    }
   ],
   "source": [
    "print(df[[\"Date\", \"DepTime\", \"DepDatetime\", \"Month\", \"DayOfWeek\", \"Hour\", \"Route\"]].head(5))\n"
   ]
  },
  {
   "cell_type": "code",
   "execution_count": 0,
   "metadata": {
    "application/vnd.databricks.v1+cell": {
     "cellMetadata": {
      "byteLimit": 2048000,
      "rowLimit": 10000
     },
     "inputWidgets": {},
     "nuid": "25cfec70-ed51-45bc-b00b-5e715d61ae6e",
     "showTitle": false,
     "tableResultSettingsMap": {},
     "title": ""
    }
   },
   "outputs": [
    {
     "output_type": "stream",
     "name": "stdout",
     "output_type": "stream",
     "text": [
      "Minimum Distance: 31\n"
     ]
    }
   ],
   "source": [
    "# Print the minimum value from the 'Distance' column\n",
    "print(\"Minimum Distance:\", df['Distance'].min())"
   ]
  },
  {
   "cell_type": "code",
   "execution_count": 0,
   "metadata": {
    "application/vnd.databricks.v1+cell": {
     "cellMetadata": {
      "byteLimit": 2048000,
      "rowLimit": 10000
     },
     "inputWidgets": {},
     "nuid": "88f41356-3965-448c-85fd-30ae88a459b5",
     "showTitle": false,
     "tableResultSettingsMap": {},
     "title": ""
    }
   },
   "outputs": [
    {
     "output_type": "stream",
     "name": "stdout",
     "output_type": "stream",
     "text": [
      "Maximum Distance: 4502\n"
     ]
    }
   ],
   "source": [
    "# Print the maximum value from the 'Distance' column\n",
    "print(\"Maximum Distance:\", df['Distance'].max())"
   ]
  },
  {
   "cell_type": "code",
   "execution_count": 0,
   "metadata": {
    "application/vnd.databricks.v1+cell": {
     "cellMetadata": {
      "byteLimit": 2048000,
      "rowLimit": 10000
     },
     "inputWidgets": {},
     "nuid": "53d610d6-f879-4aba-adf3-626c324e5c89",
     "showTitle": false,
     "tableResultSettingsMap": {},
     "title": ""
    }
   },
   "outputs": [
    {
     "output_type": "stream",
     "name": "stdout",
     "output_type": "stream",
     "text": [
      "Average Distance: 752.1426887984959\n"
     ]
    }
   ],
   "source": [
    "# Print the average (mean) value of the 'Distance' column\n",
    "print(\"Average Distance:\", df['Distance'].mean())"
   ]
  },
  {
   "cell_type": "code",
   "execution_count": 0,
   "metadata": {
    "application/vnd.databricks.v1+cell": {
     "cellMetadata": {
      "byteLimit": 2048000,
      "rowLimit": 10000
     },
     "inputWidgets": {},
     "nuid": "fe13b56b-9161-46c1-9f4a-5e100ef101df",
     "showTitle": false,
     "tableResultSettingsMap": {},
     "title": ""
    }
   },
   "outputs": [
    {
     "output_type": "stream",
     "name": "stdout",
     "output_type": "stream",
     "text": [
      "    FlightNum Origin Dest  Distance\n1         509    IND  LAS      1591\n3         675    IND  PHX      1489\n7         188    ISP  FLL      1093\n10       1056    ISP  PBI      1052\n25        302    LAS  ALB      2237\n"
     ]
    }
   ],
   "source": [
    "#Distance more than 1000\n",
    "print(\n",
    "    df.loc[\n",
    "        df[\"Distance\"] > 1000,\n",
    "        [\"FlightNum\", \"Origin\", \"Dest\", \"Distance\"]\n",
    "    ].head(5)\n",
    ")"
   ]
  },
  {
   "cell_type": "code",
   "execution_count": 0,
   "metadata": {
    "application/vnd.databricks.v1+cell": {
     "cellMetadata": {
      "byteLimit": 2048000,
      "rowLimit": 10000
     },
     "inputWidgets": {},
     "nuid": "e7f68dbf-22f6-4bee-8bf8-8de1dd3eba06",
     "showTitle": false,
     "tableResultSettingsMap": {},
     "title": ""
    }
   },
   "outputs": [
    {
     "output_type": "stream",
     "name": "stdout",
     "output_type": "stream",
     "text": [
      "                         Airline   ArrDelay\n0           Alaska Airlines Inc.  57.557600\n1         American Airlines Inc.  65.729621\n2   American Eagle Airlines Inc.  64.277233\n3    Atlantic Southeast Airlines  63.210684\n4           Delta Air Lines Inc.  59.292422\n5         Frontier Airlines Inc.  41.973710\n6         Hawaiian Airlines Inc.  55.658333\n7                JetBlue Airways  72.869370\n8          Skywest Airlines Inc.  65.187659\n9         Southwest Airlines Co.  51.032945\n10               US Airways Inc.  58.454165\n11         United Air Lines Inc.  69.670539\n"
     ]
    },
    {
     "output_type": "display_data",
     "data": {
      "application/vnd.databricks.v1+display_df_hint": {
       "mode": "should_hint",
       "name": "avg_delay_per_airline",
       "type": "pandas.core.frame.DataFrame"
      }
     },
     "metadata": {},
     "output_type": "display_data"
    }
   ],
   "source": [
    "# Calculate average arrival delay per airline\n",
    "avg_delay_per_airline = df.groupby(\"Airline\")[\"ArrDelay\"].mean().reset_index()\n",
    "print(avg_delay_per_airline)"
   ]
  },
  {
   "cell_type": "code",
   "execution_count": 0,
   "metadata": {
    "application/vnd.databricks.v1+cell": {
     "cellMetadata": {
      "byteLimit": 2048000,
      "rowLimit": 10000
     },
     "inputWidgets": {},
     "nuid": "72478fde-7700-4517-93fd-03fd8f5f2341",
     "showTitle": false,
     "tableResultSettingsMap": {},
     "title": ""
    }
   },
   "outputs": [
    {
     "output_type": "stream",
     "name": "stdout",
     "output_type": "stream",
     "text": [
      "    Airport  AvgArrDelay\n0       ABE    86.921986\n1       ABI   100.898089\n2       ABQ    50.931923\n3       ABY    66.427184\n4       ACT    61.608696\n..      ...          ...\n269     WYS    21.000000\n270     XNA    75.252757\n271     YAK    74.535714\n272     YKM    38.037037\n273     YUM    50.383929\n\n[274 rows x 2 columns]\n"
     ]
    },
    {
     "output_type": "display_data",
     "data": {
      "application/vnd.databricks.v1+display_df_hint": {
       "mode": "should_hint",
       "name": "avg_delay_per_airport",
       "type": "pandas.core.frame.DataFrame"
      }
     },
     "metadata": {},
     "output_type": "display_data"
    }
   ],
   "source": [
    "#Average delay per airport\n",
    "avg_delay_per_airport = df.groupby(\"Origin\")[\"ArrDelay\"].mean().reset_index().rename(columns={\"Origin\": \"Airport\", \"ArrDelay\": \"AvgArrDelay\"})\n",
    "print(avg_delay_per_airport)"
   ]
  },
  {
   "cell_type": "code",
   "execution_count": 0,
   "metadata": {
    "application/vnd.databricks.v1+cell": {
     "cellMetadata": {
      "byteLimit": 2048000,
      "rowLimit": 10000
     },
     "inputWidgets": {},
     "nuid": "24a099fe-c6a9-44fc-a531-daafbba2db4d",
     "showTitle": false,
     "tableResultSettingsMap": {},
     "title": ""
    }
   },
   "outputs": [
    {
     "output_type": "stream",
     "name": "stdout",
     "output_type": "stream",
     "text": [
      "        Route  AvgArrDelay\n0     ABE-ATL    89.353846\n1     ABE-CLT    71.333333\n2     ABE-CVG    55.000000\n3     ABE-ORD    86.911765\n4     ABI-DFW   100.898089\n...       ...          ...\n3372  YAK-JNU    74.272727\n3373  YKM-SLC    38.037037\n3374  YUM-IPL    39.625000\n3375  YUM-LAX    45.769231\n3376  YUM-SLC    71.250000\n\n[3377 rows x 2 columns]\n"
     ]
    },
    {
     "output_type": "display_data",
     "data": {
      "application/vnd.databricks.v1+display_df_hint": {
       "mode": "should_hint",
       "name": "avg_delay_per_route",
       "type": "pandas.core.frame.DataFrame"
      }
     },
     "metadata": {},
     "output_type": "display_data"
    }
   ],
   "source": [
    "# Average delay per route\n",
    "avg_delay_per_route = df.groupby(\"Route\")[\"ArrDelay\"].mean().reset_index().rename(columns={\"ArrDelay\": \"AvgArrDelay\"})\n",
    "print(avg_delay_per_route)"
   ]
  },
  {
   "cell_type": "code",
   "execution_count": 0,
   "metadata": {
    "application/vnd.databricks.v1+cell": {
     "cellMetadata": {
      "byteLimit": 2048000,
      "rowLimit": 10000
     },
     "inputWidgets": {},
     "nuid": "0420a978-5650-402f-be16-6615c13ba722",
     "showTitle": false,
     "tableResultSettingsMap": {},
     "title": ""
    }
   },
   "outputs": [
    {
     "output_type": "stream",
     "name": "stdout",
     "output_type": "stream",
     "text": [
      "   DayOfWeek  TotalArrDelay\n0     Friday        4074079\n1     Monday        4117199\n2   Saturday        3671266\n3     Sunday        4145097\n4   Thursday        5366216\n5    Tuesday        4075335\n6  Wednesday        4063726\n"
     ]
    },
    {
     "output_type": "display_data",
     "data": {
      "application/vnd.databricks.v1+display_df_hint": {
       "mode": "should_hint",
       "name": "total_delay_by_day",
       "type": "pandas.core.frame.DataFrame"
      }
     },
     "metadata": {},
     "output_type": "display_data"
    }
   ],
   "source": [
    "# Display the total arrival delay for each day of the week\n",
    "total_delay_by_day = df.groupby(\"DayOfWeek\")[\"ArrDelay\"].sum().reset_index().rename(columns={\"ArrDelay\": \"TotalArrDelay\"})\n",
    "print(total_delay_by_day)"
   ]
  },
  {
   "cell_type": "code",
   "execution_count": 0,
   "metadata": {
    "application/vnd.databricks.v1+cell": {
     "cellMetadata": {
      "byteLimit": 2048000,
      "rowLimit": 10000
     },
     "inputWidgets": {},
     "nuid": "5d1e83ae-1348-4b6d-8b9e-5879461ebb7a",
     "showTitle": false,
     "tableResultSettingsMap": {},
     "title": ""
    }
   },
   "outputs": [
    {
     "output_type": "stream",
     "name": "stdout",
     "output_type": "stream",
     "text": [
      "Percentage of delayed flights: 100.00%\n"
     ]
    }
   ],
   "source": [
    "# Calculate percentage of delayed flights (ArrDelay > 0)\n",
    "delayed_flights = df[df[\"ArrDelay\"] > 0].shape[0]\n",
    "total_flights = df.shape[0]\n",
    "percentage_delayed = (delayed_flights / total_flights) * 100\n",
    "print(f\"Percentage of delayed flights: {percentage_delayed:.2f}%\")"
   ]
  },
  {
   "cell_type": "code",
   "execution_count": 0,
   "metadata": {
    "application/vnd.databricks.v1+cell": {
     "cellMetadata": {
      "byteLimit": 2048000,
      "rowLimit": 10000
     },
     "inputWidgets": {},
     "nuid": "6a6df9a7-c7bd-4e21-9bd4-19cfbb068e1a",
     "showTitle": false,
     "tableResultSettingsMap": {},
     "title": ""
    }
   },
   "outputs": [
    {
     "output_type": "stream",
     "name": "stdout",
     "output_type": "stream",
     "text": [
      "On-time performance rate: 0.00%\n"
     ]
    }
   ],
   "source": [
    "# Calculate on-time performance rate (ArrDelay <= 0)\n",
    "on_time_flights = df[df[\"ArrDelay\"] <= 0].shape[0]\n",
    "total_flights = df.shape[0]\n",
    "on_time_performance_rate = (on_time_flights / total_flights) * 100\n",
    "print(f\"On-time performance rate: {on_time_performance_rate:.2f}%\")"
   ]
  },
  {
   "cell_type": "code",
   "execution_count": 0,
   "metadata": {
    "application/vnd.databricks.v1+cell": {
     "cellMetadata": {
      "byteLimit": 2048000,
      "rowLimit": 10000
     },
     "inputWidgets": {},
     "nuid": "d3ae40b0-80e2-447a-8a65-3f2b5eb209df",
     "showTitle": false,
     "tableResultSettingsMap": {},
     "title": ""
    }
   },
   "outputs": [
    {
     "output_type": "display_data",
     "data": {
      "text/html": [
       "<style scoped>\n",
       "  .table-result-container {\n",
       "    max-height: 300px;\n",
       "    overflow: auto;\n",
       "  }\n",
       "  table, th, td {\n",
       "    border: 1px solid black;\n",
       "    border-collapse: collapse;\n",
       "  }\n",
       "  th, td {\n",
       "    padding: 5px;\n",
       "  }\n",
       "  th {\n",
       "    text-align: left;\n",
       "  }\n",
       "</style><div class='table-result-container'><table class='table-result'><thead style='background-color: white'><tr><th>Season</th><th>AvgArrDelay</th></tr></thead><tbody><tr><td>Winter</td><td>63.3222170758067</td></tr><tr><td>Spring</td><td>58.25259942022948</td></tr><tr><td>Summer</td><td>63.30072189408855</td></tr></tbody></table></div>"
      ]
     },
     "metadata": {
      "application/vnd.databricks.v1+output": {
       "addedWidgets": {},
       "aggData": [],
       "aggError": "",
       "aggOverflow": false,
       "aggSchema": [],
       "aggSeriesLimitReached": false,
       "aggType": "",
       "arguments": {},
       "columnCustomDisplayInfos": {},
       "data": [
        [
         "Winter",
         63.3222170758067
        ],
        [
         "Spring",
         58.25259942022948
        ],
        [
         "Summer",
         63.30072189408855
        ]
       ],
       "datasetInfos": [],
       "dbfsResultPath": null,
       "isJsonSchema": true,
       "metadata": {},
       "overflow": false,
       "plotOptions": {
        "customPlotOptions": {},
        "displayType": "table",
        "pivotAggregation": null,
        "pivotColumns": null,
        "xColumns": null,
        "yColumns": null
       },
       "removedWidgets": [],
       "schema": [
        {
         "metadata": "{}",
         "name": "Season",
         "type": "\"string\""
        },
        {
         "metadata": "{}",
         "name": "AvgArrDelay",
         "type": "\"double\""
        }
       ],
       "type": "table"
      }
     },
     "output_type": "display_data"
    }
   ],
   "source": [
    "# Calculate average arrival delay per season\n",
    "from pyspark.sql.functions import month, when, col, avg\n",
    "\n",
    "# Add a 'Season' column based on the month\n",
    "df_spark = spark.createDataFrame(df)\n",
    "df_spark = df_spark.withColumn(\n",
    "    \"Season\",\n",
    "    when(month(\"Date\").isin([12, 1, 2]), \"Winter\")\n",
    "    .when(month(\"Date\").isin([3, 4, 5]), \"Spring\")\n",
    "    .when(month(\"Date\").isin([6, 7, 8]), \"Summer\")\n",
    "    .when(month(\"Date\").isin([9, 10, 11]), \"Fall\")\n",
    ")\n",
    "\n",
    "# Calculate average delay per season\n",
    "avg_delay_per_season = df_spark.groupBy(\"Season\").agg(avg(\"ArrDelay\").alias(\"AvgArrDelay\"))\n",
    "display(avg_delay_per_season)"
   ]
  },
  {
   "cell_type": "code",
   "execution_count": 0,
   "metadata": {
    "application/vnd.databricks.v1+cell": {
     "cellMetadata": {
      "byteLimit": 2048000,
      "rowLimit": 10000
     },
     "inputWidgets": {},
     "nuid": "2f7c04a0-2ff7-4ebb-ac08-62b936740d99",
     "showTitle": false,
     "tableResultSettingsMap": {},
     "title": ""
    }
   },
   "outputs": [
    {
     "output_type": "stream",
     "name": "stdout",
     "output_type": "stream",
     "text": [
      "       DayOfWeek DepTime  ArrDelay\n0       Thursday    1829        34\n1       Thursday    1937        57\n2       Thursday    1644        80\n3       Thursday    1452        15\n4       Thursday    1323        16\n...          ...     ...       ...\n484546  Thursday    1609        27\n484547    Friday    1616        39\n484548    Monday    1617        47\n484549  Saturday    1607        26\n484550    Sunday    1608        18\n\n[484551 rows x 3 columns]\n"
     ]
    },
    {
     "output_type": "display_data",
     "data": {
      "application/vnd.databricks.v1+display_df_hint": {
       "mode": "should_hint",
       "name": "delay_by_time",
       "type": "pandas.core.frame.DataFrame"
      }
     },
     "metadata": {},
     "output_type": "display_data"
    }
   ],
   "source": [
    "# Delay distribution by time of day. just day,time ,delay column is required\n",
    "delay_by_time = df[[\"DayOfWeek\", \"DepTime\", \"ArrDelay\"]]\n",
    "print(delay_by_time)"
   ]
  },
  {
   "cell_type": "code",
   "execution_count": 0,
   "metadata": {
    "application/vnd.databricks.v1+cell": {
     "cellMetadata": {
      "byteLimit": 2048000,
      "rowLimit": 10000
     },
     "inputWidgets": {},
     "nuid": "4b0568d4-7ef9-4199-9c09-2ad86a700199",
     "showTitle": false,
     "tableResultSettingsMap": {},
     "title": ""
    }
   },
   "outputs": [
    {
     "output_type": "execute_result",
     "data": {
      "text/plain": [
       "DayOfWeek            0\n",
       "Date                 0\n",
       "DepTime              0\n",
       "ArrTime              0\n",
       "CRSArrTime           0\n",
       "UniqueCarrier        0\n",
       "Airline              0\n",
       "FlightNum            0\n",
       "TailNum              0\n",
       "ActualElapsedTime    0\n",
       "CRSElapsedTime       0\n",
       "AirTime              0\n",
       "ArrDelay             0\n",
       "DepDelay             0\n",
       "Origin               0\n",
       "Org_Airport          0\n",
       "Dest                 0\n",
       "Dest_Airport         0\n",
       "Distance             0\n",
       "TaxiIn               0\n",
       "TaxiOut              0\n",
       "Cancelled            0\n",
       "CancellationCode     0\n",
       "Diverted             0\n",
       "CarrierDelay         0\n",
       "WeatherDelay         0\n",
       "NASDelay             0\n",
       "SecurityDelay        0\n",
       "LateAircraftDelay    0\n",
       "DepHour              0\n",
       "DepMinute            0\n",
       "DepDatetime          0\n",
       "Month                0\n",
       "Hour                 0\n",
       "Route                0\n",
       "Season               0\n",
       "dtype: int64"
      ]
     },
     "execution_count": 61,
     "metadata": {},
     "output_type": "execute_result"
    }
   ],
   "source": [
    "df.isnull().sum()"
   ]
  },
  {
   "cell_type": "code",
   "execution_count": 0,
   "metadata": {
    "application/vnd.databricks.v1+cell": {
     "cellMetadata": {
      "byteLimit": 2048000,
      "rowLimit": 10000
     },
     "inputWidgets": {},
     "nuid": "86aff0b1-d7c7-4e05-84be-53bec8200960",
     "showTitle": false,
     "tableResultSettingsMap": {},
     "title": ""
    }
   },
   "outputs": [],
   "source": [
    "\n",
    "df.to_csv(\"/Volumes/workspace/default/airdelay/Flight_delay_cleaned.csv\", index=False)"
   ]
  }
 ],
 "metadata": {
  "application/vnd.databricks.v1+notebook": {
   "computePreferences": null,
   "dashboards": [],
   "environmentMetadata": {
    "base_environment": "",
    "environment_version": "3"
   },
   "inputWidgetPreferences": null,
   "language": "python",
   "notebookMetadata": {
    "pythonIndentUnit": 4
   },
   "notebookName": "Airdelay_cleaned",
   "widgets": {}
  },
  "language_info": {
   "name": "python"
  }
 },
 "nbformat": 4,
 "nbformat_minor": 0
}