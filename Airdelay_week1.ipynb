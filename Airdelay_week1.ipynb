{
 "cells": [
  {
   "cell_type": "code",
   "execution_count": 0,
   "metadata": {
    "application/vnd.databricks.v1+cell": {
     "cellMetadata": {
      "byteLimit": 2048000,
      "rowLimit": 10000
     },
     "inputWidgets": {},
     "nuid": "69270a56-139d-4824-ba39-cc621db5c0cf",
     "showTitle": false,
     "tableResultSettingsMap": {},
     "title": ""
    }
   },
   "outputs": [
    {
     "output_type": "execute_result",
     "data": {
      "text/html": [
       "<div>\n",
       "<style scoped>\n",
       "    .dataframe tbody tr th:only-of-type {\n",
       "        vertical-align: middle;\n",
       "    }\n",
       "\n",
       "    .dataframe tbody tr th {\n",
       "        vertical-align: top;\n",
       "    }\n",
       "\n",
       "    .dataframe thead th {\n",
       "        text-align: right;\n",
       "    }\n",
       "</style>\n",
       "<table border=\"1\" class=\"dataframe\">\n",
       "  <thead>\n",
       "    <tr style=\"text-align: right;\">\n",
       "      <th></th>\n",
       "      <th>DayOfWeek</th>\n",
       "      <th>Date</th>\n",
       "      <th>DepTime</th>\n",
       "      <th>ArrTime</th>\n",
       "      <th>CRSArrTime</th>\n",
       "      <th>UniqueCarrier</th>\n",
       "      <th>Airline</th>\n",
       "      <th>FlightNum</th>\n",
       "      <th>TailNum</th>\n",
       "      <th>ActualElapsedTime</th>\n",
       "      <th>CRSElapsedTime</th>\n",
       "      <th>AirTime</th>\n",
       "      <th>ArrDelay</th>\n",
       "      <th>DepDelay</th>\n",
       "      <th>Origin</th>\n",
       "      <th>Org_Airport</th>\n",
       "      <th>Dest</th>\n",
       "      <th>Dest_Airport</th>\n",
       "      <th>Distance</th>\n",
       "      <th>TaxiIn</th>\n",
       "      <th>TaxiOut</th>\n",
       "      <th>Cancelled</th>\n",
       "      <th>CancellationCode</th>\n",
       "      <th>Diverted</th>\n",
       "      <th>CarrierDelay</th>\n",
       "      <th>WeatherDelay</th>\n",
       "      <th>NASDelay</th>\n",
       "      <th>SecurityDelay</th>\n",
       "      <th>LateAircraftDelay</th>\n",
       "    </tr>\n",
       "  </thead>\n",
       "  <tbody>\n",
       "    <tr>\n",
       "      <th>0</th>\n",
       "      <td>4</td>\n",
       "      <td>03-01-2019</td>\n",
       "      <td>1829</td>\n",
       "      <td>1959</td>\n",
       "      <td>1925</td>\n",
       "      <td>WN</td>\n",
       "      <td>Southwest Airlines Co.</td>\n",
       "      <td>3920</td>\n",
       "      <td>N464WN</td>\n",
       "      <td>90</td>\n",
       "      <td>90</td>\n",
       "      <td>77</td>\n",
       "      <td>34</td>\n",
       "      <td>34</td>\n",
       "      <td>IND</td>\n",
       "      <td>Indianapolis International Airport</td>\n",
       "      <td>BWI</td>\n",
       "      <td>Baltimore-Washington International Airport</td>\n",
       "      <td>515</td>\n",
       "      <td>3</td>\n",
       "      <td>10</td>\n",
       "      <td>0</td>\n",
       "      <td>N</td>\n",
       "      <td>0</td>\n",
       "      <td>2</td>\n",
       "      <td>0</td>\n",
       "      <td>0</td>\n",
       "      <td>0</td>\n",
       "      <td>32</td>\n",
       "    </tr>\n",
       "    <tr>\n",
       "      <th>1</th>\n",
       "      <td>4</td>\n",
       "      <td>03-01-2019</td>\n",
       "      <td>1937</td>\n",
       "      <td>2037</td>\n",
       "      <td>1940</td>\n",
       "      <td>WN</td>\n",
       "      <td>Southwest Airlines Co.</td>\n",
       "      <td>509</td>\n",
       "      <td>N763SW</td>\n",
       "      <td>240</td>\n",
       "      <td>250</td>\n",
       "      <td>230</td>\n",
       "      <td>57</td>\n",
       "      <td>67</td>\n",
       "      <td>IND</td>\n",
       "      <td>Indianapolis International Airport</td>\n",
       "      <td>LAS</td>\n",
       "      <td>McCarran International Airport</td>\n",
       "      <td>1591</td>\n",
       "      <td>3</td>\n",
       "      <td>7</td>\n",
       "      <td>0</td>\n",
       "      <td>N</td>\n",
       "      <td>0</td>\n",
       "      <td>10</td>\n",
       "      <td>0</td>\n",
       "      <td>0</td>\n",
       "      <td>0</td>\n",
       "      <td>47</td>\n",
       "    </tr>\n",
       "    <tr>\n",
       "      <th>2</th>\n",
       "      <td>4</td>\n",
       "      <td>03-01-2019</td>\n",
       "      <td>1644</td>\n",
       "      <td>1845</td>\n",
       "      <td>1725</td>\n",
       "      <td>WN</td>\n",
       "      <td>Southwest Airlines Co.</td>\n",
       "      <td>1333</td>\n",
       "      <td>N334SW</td>\n",
       "      <td>121</td>\n",
       "      <td>135</td>\n",
       "      <td>107</td>\n",
       "      <td>80</td>\n",
       "      <td>94</td>\n",
       "      <td>IND</td>\n",
       "      <td>Indianapolis International Airport</td>\n",
       "      <td>MCO</td>\n",
       "      <td>Orlando International Airport</td>\n",
       "      <td>828</td>\n",
       "      <td>6</td>\n",
       "      <td>8</td>\n",
       "      <td>0</td>\n",
       "      <td>N</td>\n",
       "      <td>0</td>\n",
       "      <td>8</td>\n",
       "      <td>0</td>\n",
       "      <td>0</td>\n",
       "      <td>0</td>\n",
       "      <td>72</td>\n",
       "    </tr>\n",
       "    <tr>\n",
       "      <th>3</th>\n",
       "      <td>4</td>\n",
       "      <td>03-01-2019</td>\n",
       "      <td>1452</td>\n",
       "      <td>1640</td>\n",
       "      <td>1625</td>\n",
       "      <td>WN</td>\n",
       "      <td>Southwest Airlines Co.</td>\n",
       "      <td>675</td>\n",
       "      <td>N286WN</td>\n",
       "      <td>228</td>\n",
       "      <td>240</td>\n",
       "      <td>213</td>\n",
       "      <td>15</td>\n",
       "      <td>27</td>\n",
       "      <td>IND</td>\n",
       "      <td>Indianapolis International Airport</td>\n",
       "      <td>PHX</td>\n",
       "      <td>Phoenix Sky Harbor International Airport</td>\n",
       "      <td>1489</td>\n",
       "      <td>7</td>\n",
       "      <td>8</td>\n",
       "      <td>0</td>\n",
       "      <td>N</td>\n",
       "      <td>0</td>\n",
       "      <td>3</td>\n",
       "      <td>0</td>\n",
       "      <td>0</td>\n",
       "      <td>0</td>\n",
       "      <td>12</td>\n",
       "    </tr>\n",
       "    <tr>\n",
       "      <th>4</th>\n",
       "      <td>4</td>\n",
       "      <td>03-01-2019</td>\n",
       "      <td>1323</td>\n",
       "      <td>1526</td>\n",
       "      <td>1510</td>\n",
       "      <td>WN</td>\n",
       "      <td>Southwest Airlines Co.</td>\n",
       "      <td>4</td>\n",
       "      <td>N674AA</td>\n",
       "      <td>123</td>\n",
       "      <td>135</td>\n",
       "      <td>110</td>\n",
       "      <td>16</td>\n",
       "      <td>28</td>\n",
       "      <td>IND</td>\n",
       "      <td>Indianapolis International Airport</td>\n",
       "      <td>TPA</td>\n",
       "      <td>Tampa International Airport</td>\n",
       "      <td>838</td>\n",
       "      <td>4</td>\n",
       "      <td>9</td>\n",
       "      <td>0</td>\n",
       "      <td>N</td>\n",
       "      <td>0</td>\n",
       "      <td>0</td>\n",
       "      <td>0</td>\n",
       "      <td>0</td>\n",
       "      <td>0</td>\n",
       "      <td>16</td>\n",
       "    </tr>\n",
       "  </tbody>\n",
       "</table>\n",
       "</div>"
      ],
      "text/plain": [
       "   DayOfWeek        Date  DepTime  ...  NASDelay  SecurityDelay LateAircraftDelay\n",
       "0          4  03-01-2019     1829  ...         0              0                32\n",
       "1          4  03-01-2019     1937  ...         0              0                47\n",
       "2          4  03-01-2019     1644  ...         0              0                72\n",
       "3          4  03-01-2019     1452  ...         0              0                12\n",
       "4          4  03-01-2019     1323  ...         0              0                16\n",
       "\n",
       "[5 rows x 29 columns]"
      ]
     },
     "execution_count": 4,
     "metadata": {},
     "output_type": "execute_result"
    }
   ],
   "source": [
    "import pandas as pd\n",
    "\n",
    "# Adjust the path based on where you uploaded it\n",
    "df = pd.read_csv('/Volumes/workspace/airdelays/airdelays/Flight_delay.csv')\n",
    "\n",
    "df.head()\n"
   ]
  },
  {
   "cell_type": "code",
   "execution_count": 0,
   "metadata": {
    "application/vnd.databricks.v1+cell": {
     "cellMetadata": {
      "byteLimit": 2048000,
      "rowLimit": 10000
     },
     "inputWidgets": {},
     "nuid": "a4272979-8c2b-4844-aef3-c3dc497fbd28",
     "showTitle": false,
     "tableResultSettingsMap": {},
     "title": ""
    }
   },
   "outputs": [
    {
     "output_type": "execute_result",
     "data": {
      "text/html": [
       "<div>\n",
       "<style scoped>\n",
       "    .dataframe tbody tr th:only-of-type {\n",
       "        vertical-align: middle;\n",
       "    }\n",
       "\n",
       "    .dataframe tbody tr th {\n",
       "        vertical-align: top;\n",
       "    }\n",
       "\n",
       "    .dataframe thead th {\n",
       "        text-align: right;\n",
       "    }\n",
       "</style>\n",
       "<table border=\"1\" class=\"dataframe\">\n",
       "  <thead>\n",
       "    <tr style=\"text-align: right;\">\n",
       "      <th></th>\n",
       "      <th>DayOfWeek</th>\n",
       "      <th>Date</th>\n",
       "      <th>DepTime</th>\n",
       "      <th>ArrTime</th>\n",
       "      <th>CRSArrTime</th>\n",
       "      <th>UniqueCarrier</th>\n",
       "      <th>Airline</th>\n",
       "      <th>FlightNum</th>\n",
       "      <th>TailNum</th>\n",
       "      <th>ActualElapsedTime</th>\n",
       "      <th>CRSElapsedTime</th>\n",
       "      <th>AirTime</th>\n",
       "      <th>ArrDelay</th>\n",
       "      <th>DepDelay</th>\n",
       "      <th>Origin</th>\n",
       "      <th>Org_Airport</th>\n",
       "      <th>Dest</th>\n",
       "      <th>Dest_Airport</th>\n",
       "      <th>Distance</th>\n",
       "      <th>TaxiIn</th>\n",
       "      <th>TaxiOut</th>\n",
       "      <th>Cancelled</th>\n",
       "      <th>CancellationCode</th>\n",
       "      <th>Diverted</th>\n",
       "      <th>CarrierDelay</th>\n",
       "      <th>WeatherDelay</th>\n",
       "      <th>NASDelay</th>\n",
       "      <th>SecurityDelay</th>\n",
       "      <th>LateAircraftDelay</th>\n",
       "    </tr>\n",
       "  </thead>\n",
       "  <tbody>\n",
       "    <tr>\n",
       "      <th>484541</th>\n",
       "      <td>7</td>\n",
       "      <td>29-06-2019</td>\n",
       "      <td>1308</td>\n",
       "      <td>1715</td>\n",
       "      <td>1640</td>\n",
       "      <td>AA</td>\n",
       "      <td>American Airlines Inc.</td>\n",
       "      <td>1494</td>\n",
       "      <td>N584AA</td>\n",
       "      <td>187</td>\n",
       "      <td>175</td>\n",
       "      <td>155</td>\n",
       "      <td>35</td>\n",
       "      <td>23</td>\n",
       "      <td>DFW</td>\n",
       "      <td>Dallas/Fort Worth International Airport</td>\n",
       "      <td>FLL</td>\n",
       "      <td>Fort Lauderdale-Hollywood International Airport</td>\n",
       "      <td>1119</td>\n",
       "      <td>6</td>\n",
       "      <td>26</td>\n",
       "      <td>0</td>\n",
       "      <td>N</td>\n",
       "      <td>0</td>\n",
       "      <td>14</td>\n",
       "      <td>0</td>\n",
       "      <td>12</td>\n",
       "      <td>0</td>\n",
       "      <td>9</td>\n",
       "    </tr>\n",
       "    <tr>\n",
       "      <th>484542</th>\n",
       "      <td>3</td>\n",
       "      <td>04-06-2019</td>\n",
       "      <td>1617</td>\n",
       "      <td>1945</td>\n",
       "      <td>1915</td>\n",
       "      <td>AA</td>\n",
       "      <td>American Airlines Inc.</td>\n",
       "      <td>1496</td>\n",
       "      <td>N405AA</td>\n",
       "      <td>148</td>\n",
       "      <td>160</td>\n",
       "      <td>129</td>\n",
       "      <td>30</td>\n",
       "      <td>42</td>\n",
       "      <td>DFW</td>\n",
       "      <td>Dallas/Fort Worth International Airport</td>\n",
       "      <td>MCO</td>\n",
       "      <td>Orlando International Airport</td>\n",
       "      <td>984</td>\n",
       "      <td>4</td>\n",
       "      <td>15</td>\n",
       "      <td>0</td>\n",
       "      <td>N</td>\n",
       "      <td>0</td>\n",
       "      <td>0</td>\n",
       "      <td>0</td>\n",
       "      <td>0</td>\n",
       "      <td>0</td>\n",
       "      <td>30</td>\n",
       "    </tr>\n",
       "    <tr>\n",
       "      <th>484543</th>\n",
       "      <td>7</td>\n",
       "      <td>08-06-2019</td>\n",
       "      <td>1623</td>\n",
       "      <td>1957</td>\n",
       "      <td>1915</td>\n",
       "      <td>AA</td>\n",
       "      <td>American Airlines Inc.</td>\n",
       "      <td>1496</td>\n",
       "      <td>N511AA</td>\n",
       "      <td>154</td>\n",
       "      <td>160</td>\n",
       "      <td>130</td>\n",
       "      <td>42</td>\n",
       "      <td>48</td>\n",
       "      <td>DFW</td>\n",
       "      <td>Dallas/Fort Worth International Airport</td>\n",
       "      <td>MCO</td>\n",
       "      <td>Orlando International Airport</td>\n",
       "      <td>984</td>\n",
       "      <td>8</td>\n",
       "      <td>16</td>\n",
       "      <td>0</td>\n",
       "      <td>N</td>\n",
       "      <td>0</td>\n",
       "      <td>42</td>\n",
       "      <td>0</td>\n",
       "      <td>0</td>\n",
       "      <td>0</td>\n",
       "      <td>0</td>\n",
       "    </tr>\n",
       "    <tr>\n",
       "      <th>484544</th>\n",
       "      <td>2</td>\n",
       "      <td>10-06-2019</td>\n",
       "      <td>1623</td>\n",
       "      <td>2003</td>\n",
       "      <td>1915</td>\n",
       "      <td>AA</td>\n",
       "      <td>American Airlines Inc.</td>\n",
       "      <td>1496</td>\n",
       "      <td>N499AA</td>\n",
       "      <td>160</td>\n",
       "      <td>160</td>\n",
       "      <td>136</td>\n",
       "      <td>48</td>\n",
       "      <td>48</td>\n",
       "      <td>DFW</td>\n",
       "      <td>Dallas/Fort Worth International Airport</td>\n",
       "      <td>MCO</td>\n",
       "      <td>Orlando International Airport</td>\n",
       "      <td>984</td>\n",
       "      <td>8</td>\n",
       "      <td>16</td>\n",
       "      <td>0</td>\n",
       "      <td>N</td>\n",
       "      <td>0</td>\n",
       "      <td>46</td>\n",
       "      <td>0</td>\n",
       "      <td>0</td>\n",
       "      <td>0</td>\n",
       "      <td>2</td>\n",
       "    </tr>\n",
       "    <tr>\n",
       "      <th>484545</th>\n",
       "      <td>4</td>\n",
       "      <td>12-06-2019</td>\n",
       "      <td>1545</td>\n",
       "      <td>1944</td>\n",
       "      <td>1915</td>\n",
       "      <td>AA</td>\n",
       "      <td>American Airlines Inc.</td>\n",
       "      <td>1496</td>\n",
       "      <td>N498AA</td>\n",
       "      <td>179</td>\n",
       "      <td>160</td>\n",
       "      <td>148</td>\n",
       "      <td>29</td>\n",
       "      <td>10</td>\n",
       "      <td>DFW</td>\n",
       "      <td>Dallas/Fort Worth International Airport</td>\n",
       "      <td>MCO</td>\n",
       "      <td>Orlando International Airport</td>\n",
       "      <td>984</td>\n",
       "      <td>7</td>\n",
       "      <td>24</td>\n",
       "      <td>0</td>\n",
       "      <td>N</td>\n",
       "      <td>0</td>\n",
       "      <td>10</td>\n",
       "      <td>0</td>\n",
       "      <td>19</td>\n",
       "      <td>0</td>\n",
       "      <td>0</td>\n",
       "    </tr>\n",
       "    <tr>\n",
       "      <th>484546</th>\n",
       "      <td>5</td>\n",
       "      <td>13-06-2019</td>\n",
       "      <td>1609</td>\n",
       "      <td>1942</td>\n",
       "      <td>1915</td>\n",
       "      <td>AA</td>\n",
       "      <td>American Airlines Inc.</td>\n",
       "      <td>1496</td>\n",
       "      <td>N510AA</td>\n",
       "      <td>153</td>\n",
       "      <td>160</td>\n",
       "      <td>131</td>\n",
       "      <td>27</td>\n",
       "      <td>34</td>\n",
       "      <td>DFW</td>\n",
       "      <td>Dallas/Fort Worth International Airport</td>\n",
       "      <td>MCO</td>\n",
       "      <td>Orlando International Airport</td>\n",
       "      <td>984</td>\n",
       "      <td>7</td>\n",
       "      <td>15</td>\n",
       "      <td>0</td>\n",
       "      <td>N</td>\n",
       "      <td>0</td>\n",
       "      <td>27</td>\n",
       "      <td>0</td>\n",
       "      <td>0</td>\n",
       "      <td>0</td>\n",
       "      <td>0</td>\n",
       "    </tr>\n",
       "    <tr>\n",
       "      <th>484547</th>\n",
       "      <td>6</td>\n",
       "      <td>14-06-2019</td>\n",
       "      <td>1616</td>\n",
       "      <td>1954</td>\n",
       "      <td>1915</td>\n",
       "      <td>AA</td>\n",
       "      <td>American Airlines Inc.</td>\n",
       "      <td>1496</td>\n",
       "      <td>N559AA</td>\n",
       "      <td>158</td>\n",
       "      <td>160</td>\n",
       "      <td>136</td>\n",
       "      <td>39</td>\n",
       "      <td>41</td>\n",
       "      <td>DFW</td>\n",
       "      <td>Dallas/Fort Worth International Airport</td>\n",
       "      <td>MCO</td>\n",
       "      <td>Orlando International Airport</td>\n",
       "      <td>984</td>\n",
       "      <td>11</td>\n",
       "      <td>11</td>\n",
       "      <td>0</td>\n",
       "      <td>N</td>\n",
       "      <td>0</td>\n",
       "      <td>11</td>\n",
       "      <td>0</td>\n",
       "      <td>0</td>\n",
       "      <td>0</td>\n",
       "      <td>28</td>\n",
       "    </tr>\n",
       "    <tr>\n",
       "      <th>484548</th>\n",
       "      <td>2</td>\n",
       "      <td>17-06-2019</td>\n",
       "      <td>1617</td>\n",
       "      <td>2002</td>\n",
       "      <td>1915</td>\n",
       "      <td>AA</td>\n",
       "      <td>American Airlines Inc.</td>\n",
       "      <td>1496</td>\n",
       "      <td>N505AA</td>\n",
       "      <td>165</td>\n",
       "      <td>160</td>\n",
       "      <td>141</td>\n",
       "      <td>47</td>\n",
       "      <td>42</td>\n",
       "      <td>DFW</td>\n",
       "      <td>Dallas/Fort Worth International Airport</td>\n",
       "      <td>MCO</td>\n",
       "      <td>Orlando International Airport</td>\n",
       "      <td>984</td>\n",
       "      <td>7</td>\n",
       "      <td>17</td>\n",
       "      <td>0</td>\n",
       "      <td>N</td>\n",
       "      <td>0</td>\n",
       "      <td>0</td>\n",
       "      <td>22</td>\n",
       "      <td>5</td>\n",
       "      <td>0</td>\n",
       "      <td>20</td>\n",
       "    </tr>\n",
       "    <tr>\n",
       "      <th>484549</th>\n",
       "      <td>7</td>\n",
       "      <td>22-06-2019</td>\n",
       "      <td>1607</td>\n",
       "      <td>1941</td>\n",
       "      <td>1915</td>\n",
       "      <td>AA</td>\n",
       "      <td>American Airlines Inc.</td>\n",
       "      <td>1496</td>\n",
       "      <td>N421AA</td>\n",
       "      <td>154</td>\n",
       "      <td>160</td>\n",
       "      <td>137</td>\n",
       "      <td>26</td>\n",
       "      <td>32</td>\n",
       "      <td>DFW</td>\n",
       "      <td>Dallas/Fort Worth International Airport</td>\n",
       "      <td>MCO</td>\n",
       "      <td>Orlando International Airport</td>\n",
       "      <td>984</td>\n",
       "      <td>5</td>\n",
       "      <td>12</td>\n",
       "      <td>0</td>\n",
       "      <td>N</td>\n",
       "      <td>0</td>\n",
       "      <td>1</td>\n",
       "      <td>0</td>\n",
       "      <td>0</td>\n",
       "      <td>0</td>\n",
       "      <td>25</td>\n",
       "    </tr>\n",
       "    <tr>\n",
       "      <th>484550</th>\n",
       "      <td>1</td>\n",
       "      <td>23-06-2019</td>\n",
       "      <td>1608</td>\n",
       "      <td>1933</td>\n",
       "      <td>1915</td>\n",
       "      <td>AA</td>\n",
       "      <td>American Airlines Inc.</td>\n",
       "      <td>1496</td>\n",
       "      <td>N487AA</td>\n",
       "      <td>145</td>\n",
       "      <td>160</td>\n",
       "      <td>129</td>\n",
       "      <td>18</td>\n",
       "      <td>33</td>\n",
       "      <td>DFW</td>\n",
       "      <td>Dallas/Fort Worth International Airport</td>\n",
       "      <td>MCO</td>\n",
       "      <td>Orlando International Airport</td>\n",
       "      <td>984</td>\n",
       "      <td>6</td>\n",
       "      <td>10</td>\n",
       "      <td>0</td>\n",
       "      <td>N</td>\n",
       "      <td>0</td>\n",
       "      <td>18</td>\n",
       "      <td>0</td>\n",
       "      <td>0</td>\n",
       "      <td>0</td>\n",
       "      <td>0</td>\n",
       "    </tr>\n",
       "  </tbody>\n",
       "</table>\n",
       "</div>"
      ],
      "text/plain": [
       "        DayOfWeek        Date  ...  SecurityDelay  LateAircraftDelay\n",
       "484541          7  29-06-2019  ...              0                  9\n",
       "484542          3  04-06-2019  ...              0                 30\n",
       "484543          7  08-06-2019  ...              0                  0\n",
       "484544          2  10-06-2019  ...              0                  2\n",
       "484545          4  12-06-2019  ...              0                  0\n",
       "484546          5  13-06-2019  ...              0                  0\n",
       "484547          6  14-06-2019  ...              0                 28\n",
       "484548          2  17-06-2019  ...              0                 20\n",
       "484549          7  22-06-2019  ...              0                 25\n",
       "484550          1  23-06-2019  ...              0                  0\n",
       "\n",
       "[10 rows x 29 columns]"
      ]
     },
     "execution_count": 85,
     "metadata": {},
     "output_type": "execute_result"
    }
   ],
   "source": [
    "df.tail(10)"
   ]
  },
  {
   "cell_type": "code",
   "execution_count": 0,
   "metadata": {
    "application/vnd.databricks.v1+cell": {
     "cellMetadata": {
      "byteLimit": 2048000,
      "rowLimit": 10000
     },
     "inputWidgets": {},
     "nuid": "37a7f943-6b71-42d5-a4b1-e19b28ca47ba",
     "showTitle": false,
     "tableResultSettingsMap": {},
     "title": ""
    }
   },
   "outputs": [
    {
     "output_type": "execute_result",
     "data": {
      "text/plain": [
       "14051979"
      ]
     },
     "execution_count": 86,
     "metadata": {},
     "output_type": "execute_result"
    }
   ],
   "source": [
    "df.size"
   ]
  },
  {
   "cell_type": "code",
   "execution_count": 0,
   "metadata": {
    "application/vnd.databricks.v1+cell": {
     "cellMetadata": {
      "byteLimit": 2048000,
      "rowLimit": 10000
     },
     "inputWidgets": {},
     "nuid": "b96daa30-2b54-4b56-b024-72a22c4967d8",
     "showTitle": false,
     "tableResultSettingsMap": {},
     "title": ""
    }
   },
   "outputs": [
    {
     "output_type": "execute_result",
     "data": {
      "text/plain": [
       "DayOfWeek             int64\n",
       "Date                 object\n",
       "DepTime               int64\n",
       "ArrTime               int64\n",
       "CRSArrTime            int64\n",
       "UniqueCarrier        object\n",
       "Airline              object\n",
       "FlightNum             int64\n",
       "TailNum              object\n",
       "ActualElapsedTime     int64\n",
       "CRSElapsedTime        int64\n",
       "AirTime               int64\n",
       "ArrDelay              int64\n",
       "DepDelay              int64\n",
       "Origin               object\n",
       "Org_Airport          object\n",
       "Dest                 object\n",
       "Dest_Airport         object\n",
       "Distance              int64\n",
       "TaxiIn                int64\n",
       "TaxiOut               int64\n",
       "Cancelled             int64\n",
       "CancellationCode     object\n",
       "Diverted              int64\n",
       "CarrierDelay          int64\n",
       "WeatherDelay          int64\n",
       "NASDelay              int64\n",
       "SecurityDelay         int64\n",
       "LateAircraftDelay     int64\n",
       "dtype: object"
      ]
     },
     "execution_count": 87,
     "metadata": {},
     "output_type": "execute_result"
    }
   ],
   "source": [
    "df.dtypes"
   ]
  },
  {
   "cell_type": "code",
   "execution_count": 0,
   "metadata": {
    "application/vnd.databricks.v1+cell": {
     "cellMetadata": {
      "byteLimit": 2048000,
      "rowLimit": 10000
     },
     "inputWidgets": {},
     "nuid": "1b2af7d6-34c2-44a0-ab6f-fb6739a675e1",
     "showTitle": false,
     "tableResultSettingsMap": {},
     "title": ""
    }
   },
   "outputs": [
    {
     "output_type": "execute_result",
     "data": {
      "text/plain": [
       "Index(['DayOfWeek', 'Date', 'DepTime', 'ArrTime', 'CRSArrTime',\n",
       "       'UniqueCarrier', 'Airline', 'FlightNum', 'TailNum', 'ActualElapsedTime',\n",
       "       'CRSElapsedTime', 'AirTime', 'ArrDelay', 'DepDelay', 'Origin',\n",
       "       'Org_Airport', 'Dest', 'Dest_Airport', 'Distance', 'TaxiIn', 'TaxiOut',\n",
       "       'Cancelled', 'CancellationCode', 'Diverted', 'CarrierDelay',\n",
       "       'WeatherDelay', 'NASDelay', 'SecurityDelay', 'LateAircraftDelay'],\n",
       "      dtype='object')"
      ]
     },
     "execution_count": 88,
     "metadata": {},
     "output_type": "execute_result"
    }
   ],
   "source": [
    "df.columns"
   ]
  },
  {
   "cell_type": "code",
   "execution_count": 0,
   "metadata": {
    "application/vnd.databricks.v1+cell": {
     "cellMetadata": {
      "byteLimit": 2048000,
      "rowLimit": 10000
     },
     "inputWidgets": {},
     "nuid": "330104d6-b8c1-4f1c-bb64-25baa48fe720",
     "showTitle": false,
     "tableResultSettingsMap": {},
     "title": ""
    }
   },
   "outputs": [
    {
     "output_type": "stream",
     "name": "stdout",
     "output_type": "stream",
     "text": [
      "<class 'pandas.core.frame.DataFrame'>\nRangeIndex: 484551 entries, 0 to 484550\nData columns (total 29 columns):\n #   Column             Non-Null Count   Dtype \n---  ------             --------------   ----- \n 0   DayOfWeek          484551 non-null  int64 \n 1   Date               484551 non-null  object\n 2   DepTime            484551 non-null  int64 \n 3   ArrTime            484551 non-null  int64 \n 4   CRSArrTime         484551 non-null  int64 \n 5   UniqueCarrier      484551 non-null  object\n 6   Airline            484551 non-null  object\n 7   FlightNum          484551 non-null  int64 \n 8   TailNum            484551 non-null  object\n 9   ActualElapsedTime  484551 non-null  int64 \n 10  CRSElapsedTime     484551 non-null  int64 \n 11  AirTime            484551 non-null  int64 \n 12  ArrDelay           484551 non-null  int64 \n 13  DepDelay           484551 non-null  int64 \n 14  Origin             484551 non-null  object\n 15  Org_Airport        483374 non-null  object\n 16  Dest               484551 non-null  object\n 17  Dest_Airport       483072 non-null  object\n 18  Distance           484551 non-null  int64 \n 19  TaxiIn             484551 non-null  int64 \n 20  TaxiOut            484551 non-null  int64 \n 21  Cancelled          484551 non-null  int64 \n 22  CancellationCode   484551 non-null  object\n 23  Diverted           484551 non-null  int64 \n 24  CarrierDelay       484551 non-null  int64 \n 25  WeatherDelay       484551 non-null  int64 \n 26  NASDelay           484551 non-null  int64 \n 27  SecurityDelay      484551 non-null  int64 \n 28  LateAircraftDelay  484551 non-null  int64 \ndtypes: int64(20), object(9)\nmemory usage: 107.2+ MB\n"
     ]
    }
   ],
   "source": [
    "df.describe()\n",
    "df.info()"
   ]
  },
  {
   "cell_type": "code",
   "execution_count": 0,
   "metadata": {
    "application/vnd.databricks.v1+cell": {
     "cellMetadata": {
      "byteLimit": 2048000,
      "rowLimit": 10000
     },
     "inputWidgets": {},
     "nuid": "c8ed5756-c0f4-43a7-9e67-aace6eb359f6",
     "showTitle": false,
     "tableResultSettingsMap": {},
     "title": ""
    }
   },
   "outputs": [
    {
     "output_type": "execute_result",
     "data": {
      "text/plain": [
       "DayOfWeek               0\n",
       "Date                    0\n",
       "DepTime                 0\n",
       "ArrTime                 0\n",
       "CRSArrTime              0\n",
       "UniqueCarrier           0\n",
       "Airline                 0\n",
       "FlightNum               0\n",
       "TailNum                 0\n",
       "ActualElapsedTime       0\n",
       "CRSElapsedTime          0\n",
       "AirTime                 0\n",
       "ArrDelay                0\n",
       "DepDelay                0\n",
       "Origin                  0\n",
       "Org_Airport          1177\n",
       "Dest                    0\n",
       "Dest_Airport         1479\n",
       "Distance                0\n",
       "TaxiIn                  0\n",
       "TaxiOut                 0\n",
       "Cancelled               0\n",
       "CancellationCode        0\n",
       "Diverted                0\n",
       "CarrierDelay            0\n",
       "WeatherDelay            0\n",
       "NASDelay                0\n",
       "SecurityDelay           0\n",
       "LateAircraftDelay       0\n",
       "dtype: int64"
      ]
     },
     "execution_count": 91,
     "metadata": {},
     "output_type": "execute_result"
    }
   ],
   "source": [
    "df.isnull().sum()"
   ]
  },
  {
   "cell_type": "code",
   "execution_count": 0,
   "metadata": {
    "application/vnd.databricks.v1+cell": {
     "cellMetadata": {
      "byteLimit": 2048000,
      "rowLimit": 10000
     },
     "inputWidgets": {},
     "nuid": "f1c65ec0-dae8-4a6d-8ed4-7a3421ee39d4",
     "showTitle": false,
     "tableResultSettingsMap": {},
     "title": ""
    }
   },
   "outputs": [
    {
     "output_type": "execute_result",
     "data": {
      "text/plain": [
       "Org_Airport     1177\n",
       "Dest_Airport    1479\n",
       "dtype: int64"
      ]
     },
     "execution_count": 92,
     "metadata": {},
     "output_type": "execute_result"
    }
   ],
   "source": [
    "null_cols = df.isnull().sum()\n",
    "null_cols[null_cols > 0]\n"
   ]
  },
  {
   "cell_type": "code",
   "execution_count": 0,
   "metadata": {
    "application/vnd.databricks.v1+cell": {
     "cellMetadata": {
      "byteLimit": 2048000,
      "rowLimit": 10000
     },
     "inputWidgets": {},
     "nuid": "3f6edfaa-d868-4726-b67b-4546023a3c45",
     "showTitle": false,
     "tableResultSettingsMap": {},
     "title": ""
    }
   },
   "outputs": [
    {
     "output_type": "execute_result",
     "data": {
      "text/plain": [
       "(484551, 29)"
      ]
     },
     "execution_count": 93,
     "metadata": {},
     "output_type": "execute_result"
    }
   ],
   "source": [
    "df.shape"
   ]
  },
  {
   "cell_type": "code",
   "execution_count": 0,
   "metadata": {
    "application/vnd.databricks.v1+cell": {
     "cellMetadata": {
      "byteLimit": 2048000,
      "rowLimit": 10000
     },
     "inputWidgets": {},
     "nuid": "54f4bd00-b1fc-455d-a6f2-11fe805e44f6",
     "showTitle": false,
     "tableResultSettingsMap": {},
     "title": ""
    }
   },
   "outputs": [
    {
     "output_type": "stream",
     "name": "stdout",
     "output_type": "stream",
     "text": [
      "Minimum Distance: 31\n"
     ]
    }
   ],
   "source": [
    "print(\"Minimum Distance:\", df['Distance'].min())"
   ]
  },
  {
   "cell_type": "code",
   "execution_count": 0,
   "metadata": {
    "application/vnd.databricks.v1+cell": {
     "cellMetadata": {
      "byteLimit": 2048000,
      "rowLimit": 10000
     },
     "inputWidgets": {},
     "nuid": "dec0dffc-728f-4d20-bf26-3bd686fd61a9",
     "showTitle": false,
     "tableResultSettingsMap": {},
     "title": ""
    }
   },
   "outputs": [
    {
     "output_type": "stream",
     "name": "stdout",
     "output_type": "stream",
     "text": [
      "Maximum Distance: 4502\n"
     ]
    }
   ],
   "source": [
    "print(\"Maximum Distance:\", df['Distance'].max())"
   ]
  },
  {
   "cell_type": "code",
   "execution_count": 0,
   "metadata": {
    "application/vnd.databricks.v1+cell": {
     "cellMetadata": {
      "byteLimit": 2048000,
      "rowLimit": 10000
     },
     "inputWidgets": {},
     "nuid": "38cfbf31-bcd1-41f2-80a7-730dbda274f7",
     "showTitle": false,
     "tableResultSettingsMap": {},
     "title": ""
    }
   },
   "outputs": [
    {
     "output_type": "stream",
     "name": "stdout",
     "output_type": "stream",
     "text": [
      "Average Distance: 752.1426887984959\n"
     ]
    }
   ],
   "source": [
    "print(\"Average Distance:\", df['Distance'].mean())"
   ]
  },
  {
   "cell_type": "code",
   "execution_count": 0,
   "metadata": {
    "application/vnd.databricks.v1+cell": {
     "cellMetadata": {
      "byteLimit": 2048000,
      "rowLimit": 10000
     },
     "inputWidgets": {},
     "nuid": "23a5653e-1f65-4ddb-90a5-c760ee9eec41",
     "showTitle": false,
     "tableResultSettingsMap": {},
     "title": ""
    }
   },
   "outputs": [
    {
     "output_type": "stream",
     "name": "stdout",
     "output_type": "stream",
     "text": [
      "Average Arrival Delay: 60.90776409500754\nAverage Departure Delay: 57.49808585680351\n"
     ]
    }
   ],
   "source": [
    "print(\"Average Arrival Delay:\", df['ArrDelay'].mean())\n",
    "print(\"Average Departure Delay:\", df['DepDelay'].mean())"
   ]
  },
  {
   "cell_type": "code",
   "execution_count": 0,
   "metadata": {
    "application/vnd.databricks.v1+cell": {
     "cellMetadata": {
      "byteLimit": 2048000,
      "rowLimit": 10000
     },
     "inputWidgets": {},
     "nuid": "8ba9f0dc-b917-4d3d-8cbe-6448ed7b4fc3",
     "showTitle": false,
     "tableResultSettingsMap": {},
     "title": ""
    }
   },
   "outputs": [
    {
     "output_type": "execute_result",
     "data": {
      "text/plain": [
       "Airline\n",
       "Alaska Airlines Inc.            2846\n",
       "American Airlines Inc.          4243\n",
       "American Eagle Airlines Inc.    1371\n",
       "Atlantic Southeast Airlines     1134\n",
       "Delta Air Lines Inc.            4502\n",
       "Frontier Airlines Inc.          2406\n",
       "Hawaiian Airlines Inc.          2917\n",
       "JetBlue Airways                 2704\n",
       "Skywest Airlines Inc.           2144\n",
       "Southwest Airlines Co.          2363\n",
       "US Airways Inc.                 2979\n",
       "United Air Lines Inc.           4243\n",
       "Name: Distance, dtype: int64"
      ]
     },
     "execution_count": 97,
     "metadata": {},
     "output_type": "execute_result"
    }
   ],
   "source": [
    "\n",
    "df.groupby('Airline')['Distance'].max()\n"
   ]
  },
  {
   "cell_type": "code",
   "execution_count": 0,
   "metadata": {
    "application/vnd.databricks.v1+cell": {
     "cellMetadata": {
      "byteLimit": 2048000,
      "rowLimit": 10000
     },
     "inputWidgets": {},
     "nuid": "af256ccc-adc6-4d87-89c5-591c6b9dc92c",
     "showTitle": false,
     "tableResultSettingsMap": {},
     "title": ""
    }
   },
   "outputs": [
    {
     "output_type": "execute_result",
     "data": {
      "text/plain": [
       "Airline\n",
       "Alaska Airlines Inc.            0\n",
       "American Airlines Inc.          0\n",
       "American Eagle Airlines Inc.    0\n",
       "Atlantic Southeast Airlines     0\n",
       "Delta Air Lines Inc.            0\n",
       "Frontier Airlines Inc.          0\n",
       "Hawaiian Airlines Inc.          0\n",
       "JetBlue Airways                 0\n",
       "Skywest Airlines Inc.           0\n",
       "Southwest Airlines Co.          0\n",
       "US Airways Inc.                 0\n",
       "United Air Lines Inc.           0\n",
       "Name: Cancelled, dtype: int64"
      ]
     },
     "execution_count": 5,
     "metadata": {},
     "output_type": "execute_result"
    }
   ],
   "source": [
    "\n",
    "df.groupby('Airline')['Cancelled'].sum()\n"
   ]
  },
  {
   "cell_type": "code",
   "execution_count": 0,
   "metadata": {
    "application/vnd.databricks.v1+cell": {
     "cellMetadata": {
      "byteLimit": 2048000,
      "rowLimit": 10000
     },
     "inputWidgets": {},
     "nuid": "a9b8c03f-f504-416a-86a1-24758d08204e",
     "showTitle": false,
     "tableResultSettingsMap": {},
     "title": ""
    }
   },
   "outputs": [
    {
     "output_type": "execute_result",
     "data": {
      "text/plain": [
       "2"
      ]
     },
     "execution_count": 7,
     "metadata": {},
     "output_type": "execute_result"
    }
   ],
   "source": [
    "df.duplicated().sum()"
   ]
  }
 ],
 "metadata": {
  "application/vnd.databricks.v1+notebook": {
   "computePreferences": {
    "hardware": {
     "accelerator": null,
     "gpuPoolId": null,
     "memory": null
    }
   },
   "dashboards": [],
   "environmentMetadata": {
    "base_environment": "",
    "environment_version": "3"
   },
   "inputWidgetPreferences": null,
   "language": "python",
   "notebookMetadata": {
    "pythonIndentUnit": 4
   },
   "notebookName": "Airdelay_week1",
   "widgets": {}
  },
  "language_info": {
   "name": "python"
  }
 },
 "nbformat": 4,
 "nbformat_minor": 0
}