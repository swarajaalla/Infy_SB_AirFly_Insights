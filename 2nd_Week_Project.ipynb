{
 "cells": [
  {
   "cell_type": "markdown",
   "id": "21307088-24d5-4ce3-898a-fbb034efd584",
   "metadata": {},
   "source": [
    "# Week 2: Preprocessing and Feature Engineering"
   ]
  },
  {
   "cell_type": "raw",
   "id": "cfcaa144-dab9-40a2-8248-d5585943ec25",
   "metadata": {},
   "source": [
    "• Handle nulls in delay and cancellation columns\n",
    "• Create derived features: Month, Day of Week, Hour, Route\n",
    "• Format datetime columns\n",
    "• Save preprocessed data for fast reuse"
   ]
  },
  {
   "cell_type": "code",
   "execution_count": 2,
   "id": "705ae534-fe69-4bee-bb5f-dc0b29159fec",
   "metadata": {},
   "outputs": [
    {
     "data": {
      "text/html": [
       "<div>\n",
       "<style scoped>\n",
       "    .dataframe tbody tr th:only-of-type {\n",
       "        vertical-align: middle;\n",
       "    }\n",
       "\n",
       "    .dataframe tbody tr th {\n",
       "        vertical-align: top;\n",
       "    }\n",
       "\n",
       "    .dataframe thead th {\n",
       "        text-align: right;\n",
       "    }\n",
       "</style>\n",
       "<table border=\"1\" class=\"dataframe\">\n",
       "  <thead>\n",
       "    <tr style=\"text-align: right;\">\n",
       "      <th></th>\n",
       "      <th>DayOfWeek</th>\n",
       "      <th>Date</th>\n",
       "      <th>DepTime</th>\n",
       "      <th>ArrTime</th>\n",
       "      <th>CRSArrTime</th>\n",
       "      <th>UniqueCarrier</th>\n",
       "      <th>Airline</th>\n",
       "      <th>FlightNum</th>\n",
       "      <th>TailNum</th>\n",
       "      <th>ActualElapsedTime</th>\n",
       "      <th>...</th>\n",
       "      <th>TaxiIn</th>\n",
       "      <th>TaxiOut</th>\n",
       "      <th>Cancelled</th>\n",
       "      <th>CancellationCode</th>\n",
       "      <th>Diverted</th>\n",
       "      <th>CarrierDelay</th>\n",
       "      <th>WeatherDelay</th>\n",
       "      <th>NASDelay</th>\n",
       "      <th>SecurityDelay</th>\n",
       "      <th>LateAircraftDelay</th>\n",
       "    </tr>\n",
       "  </thead>\n",
       "  <tbody>\n",
       "    <tr>\n",
       "      <th>0</th>\n",
       "      <td>4</td>\n",
       "      <td>03-01-2019</td>\n",
       "      <td>1829</td>\n",
       "      <td>1959</td>\n",
       "      <td>1925</td>\n",
       "      <td>WN</td>\n",
       "      <td>Southwest Airlines Co.</td>\n",
       "      <td>3920</td>\n",
       "      <td>N464WN</td>\n",
       "      <td>90</td>\n",
       "      <td>...</td>\n",
       "      <td>3</td>\n",
       "      <td>10</td>\n",
       "      <td>0</td>\n",
       "      <td>N</td>\n",
       "      <td>0</td>\n",
       "      <td>2</td>\n",
       "      <td>0</td>\n",
       "      <td>0</td>\n",
       "      <td>0</td>\n",
       "      <td>32</td>\n",
       "    </tr>\n",
       "    <tr>\n",
       "      <th>1</th>\n",
       "      <td>4</td>\n",
       "      <td>03-01-2019</td>\n",
       "      <td>1937</td>\n",
       "      <td>2037</td>\n",
       "      <td>1940</td>\n",
       "      <td>WN</td>\n",
       "      <td>Southwest Airlines Co.</td>\n",
       "      <td>509</td>\n",
       "      <td>N763SW</td>\n",
       "      <td>240</td>\n",
       "      <td>...</td>\n",
       "      <td>3</td>\n",
       "      <td>7</td>\n",
       "      <td>0</td>\n",
       "      <td>N</td>\n",
       "      <td>0</td>\n",
       "      <td>10</td>\n",
       "      <td>0</td>\n",
       "      <td>0</td>\n",
       "      <td>0</td>\n",
       "      <td>47</td>\n",
       "    </tr>\n",
       "    <tr>\n",
       "      <th>2</th>\n",
       "      <td>4</td>\n",
       "      <td>03-01-2019</td>\n",
       "      <td>1644</td>\n",
       "      <td>1845</td>\n",
       "      <td>1725</td>\n",
       "      <td>WN</td>\n",
       "      <td>Southwest Airlines Co.</td>\n",
       "      <td>1333</td>\n",
       "      <td>N334SW</td>\n",
       "      <td>121</td>\n",
       "      <td>...</td>\n",
       "      <td>6</td>\n",
       "      <td>8</td>\n",
       "      <td>0</td>\n",
       "      <td>N</td>\n",
       "      <td>0</td>\n",
       "      <td>8</td>\n",
       "      <td>0</td>\n",
       "      <td>0</td>\n",
       "      <td>0</td>\n",
       "      <td>72</td>\n",
       "    </tr>\n",
       "    <tr>\n",
       "      <th>3</th>\n",
       "      <td>4</td>\n",
       "      <td>03-01-2019</td>\n",
       "      <td>1452</td>\n",
       "      <td>1640</td>\n",
       "      <td>1625</td>\n",
       "      <td>WN</td>\n",
       "      <td>Southwest Airlines Co.</td>\n",
       "      <td>675</td>\n",
       "      <td>N286WN</td>\n",
       "      <td>228</td>\n",
       "      <td>...</td>\n",
       "      <td>7</td>\n",
       "      <td>8</td>\n",
       "      <td>0</td>\n",
       "      <td>N</td>\n",
       "      <td>0</td>\n",
       "      <td>3</td>\n",
       "      <td>0</td>\n",
       "      <td>0</td>\n",
       "      <td>0</td>\n",
       "      <td>12</td>\n",
       "    </tr>\n",
       "    <tr>\n",
       "      <th>4</th>\n",
       "      <td>4</td>\n",
       "      <td>03-01-2019</td>\n",
       "      <td>1323</td>\n",
       "      <td>1526</td>\n",
       "      <td>1510</td>\n",
       "      <td>WN</td>\n",
       "      <td>Southwest Airlines Co.</td>\n",
       "      <td>4</td>\n",
       "      <td>N674AA</td>\n",
       "      <td>123</td>\n",
       "      <td>...</td>\n",
       "      <td>4</td>\n",
       "      <td>9</td>\n",
       "      <td>0</td>\n",
       "      <td>N</td>\n",
       "      <td>0</td>\n",
       "      <td>0</td>\n",
       "      <td>0</td>\n",
       "      <td>0</td>\n",
       "      <td>0</td>\n",
       "      <td>16</td>\n",
       "    </tr>\n",
       "    <tr>\n",
       "      <th>...</th>\n",
       "      <td>...</td>\n",
       "      <td>...</td>\n",
       "      <td>...</td>\n",
       "      <td>...</td>\n",
       "      <td>...</td>\n",
       "      <td>...</td>\n",
       "      <td>...</td>\n",
       "      <td>...</td>\n",
       "      <td>...</td>\n",
       "      <td>...</td>\n",
       "      <td>...</td>\n",
       "      <td>...</td>\n",
       "      <td>...</td>\n",
       "      <td>...</td>\n",
       "      <td>...</td>\n",
       "      <td>...</td>\n",
       "      <td>...</td>\n",
       "      <td>...</td>\n",
       "      <td>...</td>\n",
       "      <td>...</td>\n",
       "      <td>...</td>\n",
       "    </tr>\n",
       "    <tr>\n",
       "      <th>484546</th>\n",
       "      <td>5</td>\n",
       "      <td>13-06-2019</td>\n",
       "      <td>1609</td>\n",
       "      <td>1942</td>\n",
       "      <td>1915</td>\n",
       "      <td>AA</td>\n",
       "      <td>American Airlines Inc.</td>\n",
       "      <td>1496</td>\n",
       "      <td>N510AA</td>\n",
       "      <td>153</td>\n",
       "      <td>...</td>\n",
       "      <td>7</td>\n",
       "      <td>15</td>\n",
       "      <td>0</td>\n",
       "      <td>N</td>\n",
       "      <td>0</td>\n",
       "      <td>27</td>\n",
       "      <td>0</td>\n",
       "      <td>0</td>\n",
       "      <td>0</td>\n",
       "      <td>0</td>\n",
       "    </tr>\n",
       "    <tr>\n",
       "      <th>484547</th>\n",
       "      <td>6</td>\n",
       "      <td>14-06-2019</td>\n",
       "      <td>1616</td>\n",
       "      <td>1954</td>\n",
       "      <td>1915</td>\n",
       "      <td>AA</td>\n",
       "      <td>American Airlines Inc.</td>\n",
       "      <td>1496</td>\n",
       "      <td>N559AA</td>\n",
       "      <td>158</td>\n",
       "      <td>...</td>\n",
       "      <td>11</td>\n",
       "      <td>11</td>\n",
       "      <td>0</td>\n",
       "      <td>N</td>\n",
       "      <td>0</td>\n",
       "      <td>11</td>\n",
       "      <td>0</td>\n",
       "      <td>0</td>\n",
       "      <td>0</td>\n",
       "      <td>28</td>\n",
       "    </tr>\n",
       "    <tr>\n",
       "      <th>484548</th>\n",
       "      <td>2</td>\n",
       "      <td>17-06-2019</td>\n",
       "      <td>1617</td>\n",
       "      <td>2002</td>\n",
       "      <td>1915</td>\n",
       "      <td>AA</td>\n",
       "      <td>American Airlines Inc.</td>\n",
       "      <td>1496</td>\n",
       "      <td>N505AA</td>\n",
       "      <td>165</td>\n",
       "      <td>...</td>\n",
       "      <td>7</td>\n",
       "      <td>17</td>\n",
       "      <td>0</td>\n",
       "      <td>N</td>\n",
       "      <td>0</td>\n",
       "      <td>0</td>\n",
       "      <td>22</td>\n",
       "      <td>5</td>\n",
       "      <td>0</td>\n",
       "      <td>20</td>\n",
       "    </tr>\n",
       "    <tr>\n",
       "      <th>484549</th>\n",
       "      <td>7</td>\n",
       "      <td>22-06-2019</td>\n",
       "      <td>1607</td>\n",
       "      <td>1941</td>\n",
       "      <td>1915</td>\n",
       "      <td>AA</td>\n",
       "      <td>American Airlines Inc.</td>\n",
       "      <td>1496</td>\n",
       "      <td>N421AA</td>\n",
       "      <td>154</td>\n",
       "      <td>...</td>\n",
       "      <td>5</td>\n",
       "      <td>12</td>\n",
       "      <td>0</td>\n",
       "      <td>N</td>\n",
       "      <td>0</td>\n",
       "      <td>1</td>\n",
       "      <td>0</td>\n",
       "      <td>0</td>\n",
       "      <td>0</td>\n",
       "      <td>25</td>\n",
       "    </tr>\n",
       "    <tr>\n",
       "      <th>484550</th>\n",
       "      <td>1</td>\n",
       "      <td>23-06-2019</td>\n",
       "      <td>1608</td>\n",
       "      <td>1933</td>\n",
       "      <td>1915</td>\n",
       "      <td>AA</td>\n",
       "      <td>American Airlines Inc.</td>\n",
       "      <td>1496</td>\n",
       "      <td>N487AA</td>\n",
       "      <td>145</td>\n",
       "      <td>...</td>\n",
       "      <td>6</td>\n",
       "      <td>10</td>\n",
       "      <td>0</td>\n",
       "      <td>N</td>\n",
       "      <td>0</td>\n",
       "      <td>18</td>\n",
       "      <td>0</td>\n",
       "      <td>0</td>\n",
       "      <td>0</td>\n",
       "      <td>0</td>\n",
       "    </tr>\n",
       "  </tbody>\n",
       "</table>\n",
       "<p>484551 rows × 29 columns</p>\n",
       "</div>"
      ],
      "text/plain": [
       "        DayOfWeek        Date  DepTime  ArrTime  CRSArrTime UniqueCarrier  \\\n",
       "0               4  03-01-2019     1829     1959        1925            WN   \n",
       "1               4  03-01-2019     1937     2037        1940            WN   \n",
       "2               4  03-01-2019     1644     1845        1725            WN   \n",
       "3               4  03-01-2019     1452     1640        1625            WN   \n",
       "4               4  03-01-2019     1323     1526        1510            WN   \n",
       "...           ...         ...      ...      ...         ...           ...   \n",
       "484546          5  13-06-2019     1609     1942        1915            AA   \n",
       "484547          6  14-06-2019     1616     1954        1915            AA   \n",
       "484548          2  17-06-2019     1617     2002        1915            AA   \n",
       "484549          7  22-06-2019     1607     1941        1915            AA   \n",
       "484550          1  23-06-2019     1608     1933        1915            AA   \n",
       "\n",
       "                       Airline  FlightNum TailNum  ActualElapsedTime  ...  \\\n",
       "0       Southwest Airlines Co.       3920  N464WN                 90  ...   \n",
       "1       Southwest Airlines Co.        509  N763SW                240  ...   \n",
       "2       Southwest Airlines Co.       1333  N334SW                121  ...   \n",
       "3       Southwest Airlines Co.        675  N286WN                228  ...   \n",
       "4       Southwest Airlines Co.          4  N674AA                123  ...   \n",
       "...                        ...        ...     ...                ...  ...   \n",
       "484546  American Airlines Inc.       1496  N510AA                153  ...   \n",
       "484547  American Airlines Inc.       1496  N559AA                158  ...   \n",
       "484548  American Airlines Inc.       1496  N505AA                165  ...   \n",
       "484549  American Airlines Inc.       1496  N421AA                154  ...   \n",
       "484550  American Airlines Inc.       1496  N487AA                145  ...   \n",
       "\n",
       "        TaxiIn  TaxiOut  Cancelled  CancellationCode Diverted CarrierDelay  \\\n",
       "0            3       10          0                 N        0            2   \n",
       "1            3        7          0                 N        0           10   \n",
       "2            6        8          0                 N        0            8   \n",
       "3            7        8          0                 N        0            3   \n",
       "4            4        9          0                 N        0            0   \n",
       "...        ...      ...        ...               ...      ...          ...   \n",
       "484546       7       15          0                 N        0           27   \n",
       "484547      11       11          0                 N        0           11   \n",
       "484548       7       17          0                 N        0            0   \n",
       "484549       5       12          0                 N        0            1   \n",
       "484550       6       10          0                 N        0           18   \n",
       "\n",
       "       WeatherDelay NASDelay  SecurityDelay  LateAircraftDelay  \n",
       "0                 0        0              0                 32  \n",
       "1                 0        0              0                 47  \n",
       "2                 0        0              0                 72  \n",
       "3                 0        0              0                 12  \n",
       "4                 0        0              0                 16  \n",
       "...             ...      ...            ...                ...  \n",
       "484546            0        0              0                  0  \n",
       "484547            0        0              0                 28  \n",
       "484548           22        5              0                 20  \n",
       "484549            0        0              0                 25  \n",
       "484550            0        0              0                  0  \n",
       "\n",
       "[484551 rows x 29 columns]"
      ]
     },
     "execution_count": 2,
     "metadata": {},
     "output_type": "execute_result"
    }
   ],
   "source": [
    "import pandas as pd\n",
    "df=pd.read_csv(\"Flight_delay.csv\")\n",
    "df"
   ]
  },
  {
   "cell_type": "code",
   "execution_count": 3,
   "id": "573a0306-daa0-473d-b8a7-f6d60d2a8f46",
   "metadata": {},
   "outputs": [
    {
     "data": {
      "text/plain": [
       "DayOfWeek               0\n",
       "Date                    0\n",
       "DepTime                 0\n",
       "ArrTime                 0\n",
       "CRSArrTime              0\n",
       "UniqueCarrier           0\n",
       "Airline                 0\n",
       "FlightNum               0\n",
       "TailNum                 0\n",
       "ActualElapsedTime       0\n",
       "CRSElapsedTime          0\n",
       "AirTime                 0\n",
       "ArrDelay                0\n",
       "DepDelay                0\n",
       "Origin                  0\n",
       "Org_Airport          1177\n",
       "Dest                    0\n",
       "Dest_Airport         1479\n",
       "Distance                0\n",
       "TaxiIn                  0\n",
       "TaxiOut                 0\n",
       "Cancelled               0\n",
       "CancellationCode        0\n",
       "Diverted                0\n",
       "CarrierDelay            0\n",
       "WeatherDelay            0\n",
       "NASDelay                0\n",
       "SecurityDelay           0\n",
       "LateAircraftDelay       0\n",
       "dtype: int64"
      ]
     },
     "execution_count": 3,
     "metadata": {},
     "output_type": "execute_result"
    }
   ],
   "source": [
    "df.isnull().sum()"
   ]
  },
  {
   "cell_type": "code",
   "execution_count": 4,
   "id": "7f26d6e1-c477-49bc-a406-311843c4abdf",
   "metadata": {},
   "outputs": [
    {
     "data": {
      "text/plain": [
       "np.int64(2)"
      ]
     },
     "execution_count": 4,
     "metadata": {},
     "output_type": "execute_result"
    }
   ],
   "source": [
    "df.duplicated().sum()"
   ]
  },
  {
   "cell_type": "code",
   "execution_count": 5,
   "id": "2ec23c73-6aa2-4349-a51b-2da89c469ad5",
   "metadata": {},
   "outputs": [
    {
     "name": "stdout",
     "output_type": "stream",
     "text": [
      "\n",
      "Duplicate Rows:\n",
      "        DayOfWeek        Date  DepTime  ArrTime  CRSArrTime UniqueCarrier  \\\n",
      "145746          4  28-02-2019     1854     1946        1902            F9   \n",
      "145748          4  28-02-2019     2027     2314        2229            F9   \n",
      "\n",
      "                       Airline  FlightNum TailNum  ActualElapsedTime  ...  \\\n",
      "145746  Frontier Airlines Inc.        773  N201FR                112  ...   \n",
      "145748  Frontier Airlines Inc.        780  N201FR                107  ...   \n",
      "\n",
      "        TaxiIn  TaxiOut  Cancelled  CancellationCode Diverted CarrierDelay  \\\n",
      "145746       8       13          0                 N        0           44   \n",
      "145748      10       13          0                 N        0            1   \n",
      "\n",
      "       WeatherDelay NASDelay  SecurityDelay  LateAircraftDelay  \n",
      "145746            0        0              0                  0  \n",
      "145748            0       44              0                  0  \n",
      "\n",
      "[2 rows x 29 columns]\n"
     ]
    }
   ],
   "source": [
    "duplicate_rows = df[df.duplicated()]\n",
    "print(\"\\nDuplicate Rows:\")\n",
    "print(duplicate_rows)"
   ]
  },
  {
   "cell_type": "code",
   "execution_count": 6,
   "id": "9f31f591-554b-412b-999f-a49eb96f2710",
   "metadata": {},
   "outputs": [
    {
     "name": "stdout",
     "output_type": "stream",
     "text": [
      "\n",
      "After Removing Duplicates, New Shape: (484549, 29)\n"
     ]
    }
   ],
   "source": [
    "df_cleaned = df.drop_duplicates()\n",
    "print(\"\\nAfter Removing Duplicates, New Shape:\", df_cleaned.shape)"
   ]
  },
  {
   "cell_type": "code",
   "execution_count": 7,
   "id": "c465ffac-e0c8-4fc9-8cdf-95f5acfa81d6",
   "metadata": {},
   "outputs": [
    {
     "data": {
      "text/plain": [
       "np.int64(2)"
      ]
     },
     "execution_count": 7,
     "metadata": {},
     "output_type": "execute_result"
    }
   ],
   "source": [
    "df.duplicated().sum()"
   ]
  },
  {
   "cell_type": "code",
   "execution_count": 8,
   "id": "00523fb4-82b4-46e3-a136-063254aa6aa2",
   "metadata": {},
   "outputs": [
    {
     "data": {
      "text/plain": [
       "0         False\n",
       "1         False\n",
       "2         False\n",
       "3         False\n",
       "4         False\n",
       "          ...  \n",
       "484546    False\n",
       "484547    False\n",
       "484548    False\n",
       "484549    False\n",
       "484550    False\n",
       "Length: 484551, dtype: bool"
      ]
     },
     "execution_count": 8,
     "metadata": {},
     "output_type": "execute_result"
    }
   ],
   "source": [
    "df.duplicated()"
   ]
  },
  {
   "cell_type": "code",
   "execution_count": 9,
   "id": "b20429fa-addc-43a7-9df1-c99161064ffe",
   "metadata": {},
   "outputs": [
    {
     "data": {
      "text/plain": [
       "np.int64(2)"
      ]
     },
     "execution_count": 9,
     "metadata": {},
     "output_type": "execute_result"
    }
   ],
   "source": [
    "df.duplicated().sum()"
   ]
  },
  {
   "cell_type": "code",
   "execution_count": 10,
   "id": "aa2358be-6f19-45c8-baec-198ccb11e2fa",
   "metadata": {},
   "outputs": [
    {
     "name": "stdout",
     "output_type": "stream",
     "text": [
      "After dropping duplicates, shape: (484549, 29)\n"
     ]
    }
   ],
   "source": [
    "# Drop duplicate rows based on all columns\n",
    "df = df.drop_duplicates()\n",
    "\n",
    "# Verify\n",
    "print(\"After dropping duplicates, shape:\", df.shape)\n"
   ]
  },
  {
   "cell_type": "code",
   "execution_count": 11,
   "id": "dd1d925c-8842-4893-80f3-ec35a38b6eb5",
   "metadata": {},
   "outputs": [
    {
     "data": {
      "text/plain": [
       "np.int64(0)"
      ]
     },
     "execution_count": 11,
     "metadata": {},
     "output_type": "execute_result"
    }
   ],
   "source": [
    "df.duplicated().sum()"
   ]
  },
  {
   "cell_type": "code",
   "execution_count": 12,
   "id": "4c640842-c181-4910-a87d-51d61ce3ea08",
   "metadata": {},
   "outputs": [
    {
     "name": "stdout",
     "output_type": "stream",
     "text": [
      "0   2019-03-01\n",
      "1   2019-03-01\n",
      "2   2019-03-01\n",
      "3   2019-03-01\n",
      "4   2019-03-01\n",
      "Name: Date, dtype: datetime64[ns]\n",
      "datetime64[ns]\n"
     ]
    },
    {
     "name": "stderr",
     "output_type": "stream",
     "text": [
      "/var/folders/zn/6mrjmx615t1727pg7bjz8sz00000gn/T/ipykernel_1770/1578851322.py:1: SettingWithCopyWarning: \n",
      "A value is trying to be set on a copy of a slice from a DataFrame.\n",
      "Try using .loc[row_indexer,col_indexer] = value instead\n",
      "\n",
      "See the caveats in the documentation: https://pandas.pydata.org/pandas-docs/stable/user_guide/indexing.html#returning-a-view-versus-a-copy\n",
      "  df['Date'] = pd.to_datetime(df['Date'], errors='coerce')\n"
     ]
    }
   ],
   "source": [
    "df['Date'] = pd.to_datetime(df['Date'], errors='coerce')\n",
    "\n",
    "# Verify conversion\n",
    "print(df['Date'].head())\n",
    "print(df['Date'].dtype)"
   ]
  },
  {
   "cell_type": "code",
   "execution_count": 13,
   "id": "8e03101b-3f76-4dcf-a44d-deceb33cbcdf",
   "metadata": {},
   "outputs": [
    {
     "name": "stderr",
     "output_type": "stream",
     "text": [
      "/var/folders/zn/6mrjmx615t1727pg7bjz8sz00000gn/T/ipykernel_1770/1764382064.py:2: SettingWithCopyWarning: \n",
      "A value is trying to be set on a copy of a slice from a DataFrame.\n",
      "Try using .loc[row_indexer,col_indexer] = value instead\n",
      "\n",
      "See the caveats in the documentation: https://pandas.pydata.org/pandas-docs/stable/user_guide/indexing.html#returning-a-view-versus-a-copy\n",
      "  df['Date'] = pd.to_datetime(df['Date'], format='%d-%m-%Y', errors='coerce')\n"
     ]
    }
   ],
   "source": [
    "#Convert Date column to datetime if not already\n",
    "df['Date'] = pd.to_datetime(df['Date'], format='%d-%m-%Y', errors='coerce')\n"
   ]
  },
  {
   "cell_type": "code",
   "execution_count": 14,
   "id": "e59b2f5d-dd48-468d-ac96-b5eb97b6415a",
   "metadata": {},
   "outputs": [
    {
     "name": "stderr",
     "output_type": "stream",
     "text": [
      "/var/folders/zn/6mrjmx615t1727pg7bjz8sz00000gn/T/ipykernel_1770/391299798.py:2: SettingWithCopyWarning: \n",
      "A value is trying to be set on a copy of a slice from a DataFrame.\n",
      "Try using .loc[row_indexer,col_indexer] = value instead\n",
      "\n",
      "See the caveats in the documentation: https://pandas.pydata.org/pandas-docs/stable/user_guide/indexing.html#returning-a-view-versus-a-copy\n",
      "  df['Month'] = df['Date'].dt.month\n"
     ]
    }
   ],
   "source": [
    "#Create Month column\n",
    "df['Month'] = df['Date'].dt.month"
   ]
  },
  {
   "cell_type": "code",
   "execution_count": 15,
   "id": "9c90741b-63b0-40cf-b9d5-d8f23b50c013",
   "metadata": {},
   "outputs": [
    {
     "name": "stderr",
     "output_type": "stream",
     "text": [
      "/var/folders/zn/6mrjmx615t1727pg7bjz8sz00000gn/T/ipykernel_1770/1624346913.py:2: SettingWithCopyWarning: \n",
      "A value is trying to be set on a copy of a slice from a DataFrame.\n",
      "Try using .loc[row_indexer,col_indexer] = value instead\n",
      "\n",
      "See the caveats in the documentation: https://pandas.pydata.org/pandas-docs/stable/user_guide/indexing.html#returning-a-view-versus-a-copy\n",
      "  df['DayOfWeekNum'] = df['Date'].dt.dayofweek  # optional if you want numeric\n"
     ]
    }
   ],
   "source": [
    "#Create DayOfWeek column (0=Monday, 6=Sunday) OR use your existing DayOfWeek\n",
    "df['DayOfWeekNum'] = df['Date'].dt.dayofweek  # optional if you want numeric\n"
   ]
  },
  {
   "cell_type": "code",
   "execution_count": 16,
   "id": "32615f70-5f12-4eba-b49a-6cdad681f7d7",
   "metadata": {},
   "outputs": [
    {
     "name": "stderr",
     "output_type": "stream",
     "text": [
      "/var/folders/zn/6mrjmx615t1727pg7bjz8sz00000gn/T/ipykernel_1770/1072883741.py:3: SettingWithCopyWarning: \n",
      "A value is trying to be set on a copy of a slice from a DataFrame.\n",
      "Try using .loc[row_indexer,col_indexer] = value instead\n",
      "\n",
      "See the caveats in the documentation: https://pandas.pydata.org/pandas-docs/stable/user_guide/indexing.html#returning-a-view-versus-a-copy\n",
      "  df['DepTime'] = df['DepTime'].fillna(0)\n"
     ]
    }
   ],
   "source": [
    "#Extract Hour from DepTime (assuming DepTime is in HHMM format)\n",
    "# First, fill missing DepTime with 0 if needed\n",
    "df['DepTime'] = df['DepTime'].fillna(0)"
   ]
  },
  {
   "cell_type": "code",
   "execution_count": 17,
   "id": "337a2266-7855-45e0-a81f-e8080d136d43",
   "metadata": {},
   "outputs": [
    {
     "name": "stderr",
     "output_type": "stream",
     "text": [
      "/var/folders/zn/6mrjmx615t1727pg7bjz8sz00000gn/T/ipykernel_1770/3453672463.py:2: SettingWithCopyWarning: \n",
      "A value is trying to be set on a copy of a slice from a DataFrame.\n",
      "Try using .loc[row_indexer,col_indexer] = value instead\n",
      "\n",
      "See the caveats in the documentation: https://pandas.pydata.org/pandas-docs/stable/user_guide/indexing.html#returning-a-view-versus-a-copy\n",
      "  df['DepTime'] = df['DepTime'].astype(int).astype(str).str.zfill(4)\n"
     ]
    }
   ],
   "source": [
    "# Convert DepTime to string and pad with zeros\n",
    "df['DepTime'] = df['DepTime'].astype(int).astype(str).str.zfill(4)"
   ]
  },
  {
   "cell_type": "code",
   "execution_count": 18,
   "id": "e440994b-a194-4a0a-ae7d-840089b7ab0a",
   "metadata": {},
   "outputs": [
    {
     "name": "stderr",
     "output_type": "stream",
     "text": [
      "/var/folders/zn/6mrjmx615t1727pg7bjz8sz00000gn/T/ipykernel_1770/193688746.py:2: SettingWithCopyWarning: \n",
      "A value is trying to be set on a copy of a slice from a DataFrame.\n",
      "Try using .loc[row_indexer,col_indexer] = value instead\n",
      "\n",
      "See the caveats in the documentation: https://pandas.pydata.org/pandas-docs/stable/user_guide/indexing.html#returning-a-view-versus-a-copy\n",
      "  df['DepHour'] = df['DepTime'].str[:2].astype(int)\n"
     ]
    }
   ],
   "source": [
    "# Extract hour\n",
    "df['DepHour'] = df['DepTime'].str[:2].astype(int)\n"
   ]
  },
  {
   "cell_type": "code",
   "execution_count": 19,
   "id": "d7711d0e-4b86-4a3a-b52c-5175f53035f0",
   "metadata": {},
   "outputs": [
    {
     "name": "stderr",
     "output_type": "stream",
     "text": [
      "/var/folders/zn/6mrjmx615t1727pg7bjz8sz00000gn/T/ipykernel_1770/3620569687.py:2: SettingWithCopyWarning: \n",
      "A value is trying to be set on a copy of a slice from a DataFrame.\n",
      "Try using .loc[row_indexer,col_indexer] = value instead\n",
      "\n",
      "See the caveats in the documentation: https://pandas.pydata.org/pandas-docs/stable/user_guide/indexing.html#returning-a-view-versus-a-copy\n",
      "  df['Route'] = df['Origin'] + \"-\" + df['Dest']\n"
     ]
    }
   ],
   "source": [
    "#Create Route column (Origin-Destination)\n",
    "df['Route'] = df['Origin'] + \"-\" + df['Dest']"
   ]
  },
  {
   "cell_type": "code",
   "execution_count": 20,
   "id": "d0168ac7-ef8c-48cf-83df-5b686b1268e9",
   "metadata": {},
   "outputs": [
    {
     "name": "stdout",
     "output_type": "stream",
     "text": [
      "        Date  Month  DayOfWeekNum DepTime  DepHour    Route\n",
      "0 2019-03-01    3.0           4.0    1829       18  IND-BWI\n",
      "1 2019-03-01    3.0           4.0    1937       19  IND-LAS\n",
      "2 2019-03-01    3.0           4.0    1644       16  IND-MCO\n",
      "3 2019-03-01    3.0           4.0    1452       14  IND-PHX\n",
      "4 2019-03-01    3.0           4.0    1323       13  IND-TPA\n"
     ]
    }
   ],
   "source": [
    "#Check the new columns\n",
    "print(df[['Date','Month','DayOfWeekNum','DepTime','DepHour','Route']].head())"
   ]
  },
  {
   "cell_type": "code",
   "execution_count": 21,
   "id": "0f5cfb68-95cd-40d1-8405-da23e8ec4cc4",
   "metadata": {},
   "outputs": [
    {
     "name": "stderr",
     "output_type": "stream",
     "text": [
      "/var/folders/zn/6mrjmx615t1727pg7bjz8sz00000gn/T/ipykernel_1770/2915140219.py:2: SettingWithCopyWarning: \n",
      "A value is trying to be set on a copy of a slice from a DataFrame.\n",
      "Try using .loc[row_indexer,col_indexer] = value instead\n",
      "\n",
      "See the caveats in the documentation: https://pandas.pydata.org/pandas-docs/stable/user_guide/indexing.html#returning-a-view-versus-a-copy\n",
      "  df['DayName'] = df['Date'].dt.day_name()\n"
     ]
    }
   ],
   "source": [
    "# Create Day Name column\n",
    "df['DayName'] = df['Date'].dt.day_name()"
   ]
  },
  {
   "cell_type": "code",
   "execution_count": 22,
   "id": "5c1592fa-1c8c-4e69-a266-47dc26d593ea",
   "metadata": {},
   "outputs": [
    {
     "name": "stdout",
     "output_type": "stream",
     "text": [
      "        Date DayName\n",
      "0 2019-03-01  Friday\n",
      "1 2019-03-01  Friday\n",
      "2 2019-03-01  Friday\n",
      "3 2019-03-01  Friday\n",
      "4 2019-03-01  Friday\n"
     ]
    }
   ],
   "source": [
    "# Check the new column\n",
    "print(df[['Date', 'DayName']].head())"
   ]
  },
  {
   "cell_type": "code",
   "execution_count": 23,
   "id": "c4e2f8f2-72e5-4bfb-b28f-c3cb9e675320",
   "metadata": {},
   "outputs": [],
   "source": [
    "df.to_csv(\"2nd_flights_preprocessed_and_Feature.csv\", index=False)"
   ]
  },
  {
   "cell_type": "code",
   "execution_count": null,
   "id": "e26a0135-6df4-4da5-ab77-f927b41f8b68",
   "metadata": {},
   "outputs": [],
   "source": [
    "prin"
   ]
  }
 ],
 "metadata": {
  "kernelspec": {
   "display_name": "Python 3 (ipykernel)",
   "language": "python",
   "name": "python3"
  },
  "language_info": {
   "codemirror_mode": {
    "name": "ipython",
    "version": 3
   },
   "file_extension": ".py",
   "mimetype": "text/x-python",
   "name": "python",
   "nbconvert_exporter": "python",
   "pygments_lexer": "ipython3",
   "version": "3.13.2"
  },
  "widgets": {
   "application/vnd.jupyter.widget-state+json": {
    "state": {},
    "version_major": 2,
    "version_minor": 0
   }
  }
 },
 "nbformat": 4,
 "nbformat_minor": 5
}
