{
 "cells": [
  {
   "cell_type": "markdown",
   "id": "a5a79c20",
   "metadata": {},
   "source": [
    "# Module: Pandas Assignments\n",
    "## Lesson: Pandas\n",
    "### Assignment 1: DataFrame Creation and Indexing\n",
    "\n",
    "1. Create a Pandas DataFrame with 4 columns and 6 rows filled with random integers. Set the index to be the first column.\n",
    "2. Create a Pandas DataFrame with columns 'A', 'B', 'C' and index 'X', 'Y', 'Z'. Fill the DataFrame with random integers and access the element at row 'Y' and column 'B'.\n",
    "\n",
    "### Assignment 2: DataFrame Operations\n",
    "\n",
    "1. Create a Pandas DataFrame with 3 columns and 5 rows filled with random integers. Add a new column that is the product of the first two columns.\n",
    "2. Create a Pandas DataFrame with 3 columns and 4 rows filled with random integers. Compute the row-wise and column-wise sum.\n",
    "\n",
    "### Assignment 3: Data Cleaning\n",
    "\n",
    "1. Create a Pandas DataFrame with 3 columns and 5 rows filled with random integers. Introduce some NaN values. Fill the NaN values with the mean of the respective columns.\n",
    "2. Create a Pandas DataFrame with 4 columns and 6 rows filled with random integers. Introduce some NaN values. Drop the rows with any NaN values.\n",
    "\n",
    "### Assignment 4: Data Aggregation\n",
    "\n",
    "1. Create a Pandas DataFrame with 2 columns: 'Category' and 'Value'. Fill the 'Category' column with random categories ('A', 'B', 'C') and the 'Value' column with random integers. Group the DataFrame by 'Category' and compute the sum and mean of 'Value' for each category.\n",
    "2. Create a Pandas DataFrame with 3 columns: 'Product', 'Category', and 'Sales'. Fill the DataFrame with random data. Group the DataFrame by 'Category' and compute the total sales for each category.\n",
    "\n",
    "### Assignment 5: Merging DataFrames\n",
    "\n",
    "1. Create two Pandas DataFrames with a common column. Merge the DataFrames using the common column.\n",
    "2. Create two Pandas DataFrames with different columns. Concatenate the DataFrames along the rows and along the columns.\n",
    "\n",
    "### Assignment 6: Time Series Analysis\n",
    "\n",
    "1. Create a Pandas DataFrame with a datetime index and one column filled with random integers. Resample the DataFrame to compute the monthly mean of the values.\n",
    "2. Create a Pandas DataFrame with a datetime index ranging from '2021-01-01' to '2021-12-31' and one column filled with random integers. Compute the rolling mean with a window of 7 days.\n",
    "\n",
    "### Assignment 7: MultiIndex DataFrame\n",
    "\n",
    "1. Create a Pandas DataFrame with a MultiIndex (hierarchical index). Perform some basic indexing and slicing operations on the MultiIndex DataFrame.\n",
    "2. Create a Pandas DataFrame with MultiIndex consisting of 'Category' and 'SubCategory'. Fill the DataFrame with random data and compute the sum of values for each 'Category' and 'SubCategory'.\n",
    "\n",
    "### Assignment 8: Pivot Tables\n",
    "\n",
    "1. Create a Pandas DataFrame with columns 'Date', 'Category', and 'Value'. Create a pivot table to compute the sum of 'Value' for each 'Category' by 'Date'.\n",
    "2. Create a Pandas DataFrame with columns 'Year', 'Quarter', and 'Revenue'. Create a pivot table to compute the mean 'Revenue' for each 'Quarter' by 'Year'.\n",
    "\n",
    "### Assignment 9: Applying Functions\n",
    "\n",
    "1. Create a Pandas DataFrame with 3 columns and 5 rows filled with random integers. Apply a function that doubles the values of the DataFrame.\n",
    "2. Create a Pandas DataFrame with 3 columns and 6 rows filled with random integers. Apply a lambda function to create a new column that is the sum of the existing columns.\n",
    "\n",
    "### Assignment 10: Working with Text Data\n",
    "\n",
    "1. Create a Pandas Series with 5 random text strings. Convert all the strings to uppercase.\n",
    "2. Create a Pandas Series with 5 random text strings. Extract the first three characters of each string.\n"
   ]
  },
  {
   "cell_type": "code",
   "execution_count": 2,
   "id": "246e8092",
   "metadata": {},
   "outputs": [
    {
     "name": "stdout",
     "output_type": "stream",
     "text": [
      "    A   B   C   D\n",
      "0  25  14  44  96\n",
      "1  78  34   2  95\n",
      "2  80  20  22  46\n",
      "3  26  37  65  42\n",
      "4  26  78  13  22\n",
      "5  42  46  84  22\n",
      "     B   C   D\n",
      "A             \n",
      "25  14  44  96\n",
      "78  34   2  95\n",
      "80  20  22  46\n",
      "26  37  65  42\n",
      "26  78  13  22\n",
      "42  46  84  22\n"
     ]
    }
   ],
   "source": [
    "import pandas as pd\n",
    "import numpy as np\n",
    "df=pd.DataFrame(np.random.randint(1,100,size=(6,4)),columns=['A','B','C','D'])\n",
    "print(df)\n",
    "\n",
    "df.set_index('A',inplace=True)\n",
    "print(df)"
   ]
  },
  {
   "cell_type": "code",
   "execution_count": 4,
   "id": "45d4b241",
   "metadata": {},
   "outputs": [
    {
     "name": "stdout",
     "output_type": "stream",
     "text": [
      "    A   B   C\n",
      "X  47  18  71\n",
      "Y  63  95   7\n",
      "Z  88  87  76\n",
      "95\n"
     ]
    }
   ],
   "source": [
    "df=pd.DataFrame(np.random.randint(1,100,size=(3,3)),columns=['A','B','C'],index=['X','Y','Z'])\n",
    "print(df)\n",
    "\n",
    "element=df.at['Y','B']\n",
    "print(element)"
   ]
  },
  {
   "cell_type": "code",
   "execution_count": 7,
   "id": "aac92c10",
   "metadata": {},
   "outputs": [
    {
     "name": "stdout",
     "output_type": "stream",
     "text": [
      "    A   B   C\n",
      "0  82  10  60\n",
      "1  41  53  31\n",
      "2  26  33  54\n",
      "3   6  29  66\n",
      "4  38  18  22\n",
      "    A   B   C     D\n",
      "0  82  10  60   820\n",
      "1  41  53  31  2173\n",
      "2  26  33  54   858\n",
      "3   6  29  66   174\n",
      "4  38  18  22   684\n"
     ]
    }
   ],
   "source": [
    "df=pd.DataFrame(np.random.randint(1,100,size=(5,3)),columns=['A','B','C'])\n",
    "print(df)\n",
    "\n",
    "df['D']=df['A']*df['B']\n",
    "print(df)"
   ]
  },
  {
   "cell_type": "code",
   "execution_count": 9,
   "id": "d4e6eec7",
   "metadata": {},
   "outputs": [
    {
     "name": "stdout",
     "output_type": "stream",
     "text": [
      "      A     B     C\n",
      "0   1.0   NaN  65.0\n",
      "1  79.0  45.0   NaN\n",
      "2  31.0  22.0   NaN\n",
      "3  65.0  30.0  78.0\n",
      "4   NaN  78.0  25.0\n",
      "      A      B     C\n",
      "0   1.0  43.75  65.0\n",
      "1  79.0  45.00  56.0\n",
      "2  31.0  22.00  56.0\n",
      "3  65.0  30.00  78.0\n",
      "4  44.0  78.00  25.0\n"
     ]
    }
   ],
   "source": [
    "df=pd.DataFrame(np.random.randint(1,100,size=(5,3)),columns=['A','B','C'])\n",
    "df.iloc[0,1]=np.nan\n",
    "df.iloc[2,2]=np.nan\n",
    "df.iloc[1,2]=np.nan\n",
    "df.iloc[4,0]=np.nan\n",
    "print(df)\n",
    "\n",
    "df.fillna(df.mean(),inplace=True)\n",
    "print(df)"
   ]
  },
  {
   "cell_type": "code",
   "execution_count": 10,
   "id": "35e37010",
   "metadata": {
    "vscode": {
     "languageId": "javascript"
    }
   },
   "outputs": [
    {
     "name": "stdout",
     "output_type": "stream",
     "text": [
      "  category  value\n",
      "0        C     43\n",
      "1        C     42\n",
      "2        B     32\n",
      "3        B     54\n",
      "4        C     94\n",
      "5        C      7\n",
      "6        C     64\n",
      "7        B     87\n",
      "8        C     56\n",
      "9        C     20\n",
      "          sum       mean\n",
      "category                \n",
      "B         173  57.666667\n",
      "C         326  46.571429\n"
     ]
    }
   ],
   "source": [
    "df=pd.DataFrame({'category':np.random.choice(['A','B','C'],size=10),'value': np.random.randint(1,100,size=10)})\n",
    "print(df)\n",
    "\n",
    "grouped = df.groupby('category')['value'].agg(['sum', 'mean'])\n",
    "print(grouped)\n",
    "\n",
    "\n",
    "\n",
    "\n"
   ]
  },
  {
   "cell_type": "code",
   "execution_count": 16,
   "id": "c8bea90c",
   "metadata": {},
   "outputs": [
    {
     "ename": "AttributeError",
     "evalue": "module 'pandas' has no attribute 'Dataframe'",
     "output_type": "error",
     "traceback": [
      "\u001b[31m---------------------------------------------------------------------------\u001b[39m",
      "\u001b[31mAttributeError\u001b[39m                            Traceback (most recent call last)",
      "\u001b[36mCell\u001b[39m\u001b[36m \u001b[39m\u001b[32mIn[16]\u001b[39m\u001b[32m, line 1\u001b[39m\n\u001b[32m----> \u001b[39m\u001b[32m1\u001b[39m df1=\u001b[43mpd\u001b[49m\u001b[43m.\u001b[49m\u001b[43mDataframe\u001b[49m({\u001b[33m'\u001b[39m\u001b[33mKeys\u001b[39m\u001b[33m'\u001b[39m:[\u001b[33m'\u001b[39m\u001b[33mA\u001b[39m\u001b[33m'\u001b[39m,\u001b[33m'\u001b[39m\u001b[33mB\u001b[39m\u001b[33m'\u001b[39m,\u001b[33m'\u001b[39m\u001b[33mC\u001b[39m\u001b[33m'\u001b[39m,\u001b[33m'\u001b[39m\u001b[33mD\u001b[39m\u001b[33m'\u001b[39m],\u001b[33m'\u001b[39m\u001b[33mValue1\u001b[39m\u001b[33m'\u001b[39m:np.random.randit(\u001b[32m1\u001b[39m,\u001b[32m100\u001b[39m,size=\u001b[32m4\u001b[39m)})\n\u001b[32m      2\u001b[39m df2=pd.Dataframe({\u001b[33m'\u001b[39m\u001b[33mKeys\u001b[39m\u001b[33m'\u001b[39m:[\u001b[33m'\u001b[39m\u001b[33mA\u001b[39m\u001b[33m'\u001b[39m,\u001b[33m'\u001b[39m\u001b[33mB\u001b[39m\u001b[33m'\u001b[39m,\u001b[33m\"\u001b[39m\u001b[33mt\u001b[39m\u001b[33m\"\u001b[39m,\u001b[33m\"\u001b[39m\u001b[33mC\u001b[39m\u001b[33m\"\u001b[39m],\u001b[33m'\u001b[39m\u001b[33mvalue2\u001b[39m\u001b[33m'\u001b[39m:np.random.randint(\u001b[32m1\u001b[39m,\u001b[32m100\u001b[39m,size=\u001b[32m4\u001b[39m)})\n\u001b[32m      4\u001b[39m result=pd.merge(df1,df2, on=\u001b[33m'\u001b[39m\u001b[33mKeys\u001b[39m\u001b[33m'\u001b[39m)\n",
      "\u001b[31mAttributeError\u001b[39m: module 'pandas' has no attribute 'Dataframe'"
     ]
    }
   ],
   "source": [
    "\n",
    "\n",
    "df1=pd.Dataframe({'Keys':['A','B','C','D'],'Value1':np.random.randit(1,100,size=4)})\n",
    "df2=pd.Dataframe({'Keys':['A','B',\"t\",\"C\"],'value2':np.random.randint(1,100,size=4)})\n",
    "\n",
    "result=pd.merge(df1,df2, on='Keys')\n",
    "print(result)"
   ]
  },
  {
   "cell_type": "code",
   "execution_count": 20,
   "id": "8c47b8f7",
   "metadata": {
    "vscode": {
     "languageId": "javascript"
    }
   },
   "outputs": [
    {
     "name": "stdout",
     "output_type": "stream",
     "text": [
      "      A     B     C     D\n",
      "0  96.0  10.0   NaN   NaN\n",
      "1  12.0  87.0   NaN   NaN\n",
      "2   9.0   3.0   NaN   NaN\n",
      "0   NaN   NaN  63.0  14.0\n",
      "1   NaN   NaN  80.0  27.0\n",
      "2   NaN   NaN  58.0  15.0\n",
      "    A   B   C   D\n",
      "0  96  10  63  14\n",
      "1  12  87  80  27\n",
      "2   9   3  58  15\n"
     ]
    }
   ],
   "source": [
    "df1 = pd.DataFrame({ 'A': np.random.randint(1, 100, size = 3), 'B': np.random.randint(1, 100, size = 3) })\n",
    "df2 = pd.DataFrame({ 'C': np.random.randint(1, 100, size = 3), 'D': np.random.randint(1, 100, size = 3) })\n",
    "concat_rows=pd.concat([df1,df2],axis=0)\n",
    "print(concat_rows)\n",
    "\n",
    "concat_rows=pd.concat([df1,df2],axis=1)\n",
    "print(concat_rows)\n"
   ]
  },
  {
   "cell_type": "code",
   "execution_count": 25,
   "id": "38548ef6",
   "metadata": {},
   "outputs": [
    {
     "ename": "TypeError",
     "evalue": "Series.name must be a hashable type",
     "output_type": "error",
     "traceback": [
      "\u001b[31m---------------------------------------------------------------------------\u001b[39m",
      "\u001b[31mTypeError\u001b[39m                                 Traceback (most recent call last)",
      "\u001b[36mCell\u001b[39m\u001b[36m \u001b[39m\u001b[32mIn[25]\u001b[39m\u001b[32m, line 1\u001b[39m\n\u001b[32m----> \u001b[39m\u001b[32m1\u001b[39m text_data=\u001b[43mpd\u001b[49m\u001b[43m.\u001b[49m\u001b[43mSeries\u001b[49m\u001b[43m(\u001b[49m\u001b[43m[\u001b[49m\u001b[33;43m'\u001b[39;49m\u001b[33;43mapple\u001b[39;49m\u001b[33;43m'\u001b[39;49m\u001b[43m]\u001b[49m\u001b[43m,\u001b[49m\u001b[43m[\u001b[49m\u001b[33;43m'\u001b[39;49m\u001b[33;43mbanana\u001b[39;49m\u001b[33;43m'\u001b[39;49m\u001b[43m]\u001b[49m\u001b[43m,\u001b[49m\u001b[43m[\u001b[49m\u001b[33;43m'\u001b[39;49m\u001b[33;43mgrapes\u001b[39;49m\u001b[33;43m'\u001b[39;49m\u001b[43m]\u001b[49m\u001b[43m,\u001b[49m\u001b[43m[\u001b[49m\u001b[33;43m'\u001b[39;49m\u001b[33;43mdate\u001b[39;49m\u001b[33;43m'\u001b[39;49m\u001b[43m]\u001b[49m\u001b[43m)\u001b[49m\n\u001b[32m      2\u001b[39m \u001b[38;5;28mprint\u001b[39m(text_data)\n\u001b[32m      3\u001b[39m uppercase_data=text_data.str.upper()\n",
      "\u001b[36mFile \u001b[39m\u001b[32mc:\\Users\\adrik\\Desktop\\python revise\\venv\\Lib\\site-packages\\pandas\\core\\series.py:487\u001b[39m, in \u001b[36mSeries.__init__\u001b[39m\u001b[34m(self, data, index, dtype, name, copy, fastpath)\u001b[39m\n\u001b[32m    478\u001b[39m     \u001b[38;5;28;01mif\u001b[39;00m \u001b[38;5;129;01mnot\u001b[39;00m allow_mgr:\n\u001b[32m    479\u001b[39m         warnings.warn(\n\u001b[32m    480\u001b[39m             \u001b[33mf\u001b[39m\u001b[33m\"\u001b[39m\u001b[33mPassing a \u001b[39m\u001b[38;5;132;01m{\u001b[39;00m\u001b[38;5;28mtype\u001b[39m(data).\u001b[34m__name__\u001b[39m\u001b[38;5;132;01m}\u001b[39;00m\u001b[33m to \u001b[39m\u001b[38;5;132;01m{\u001b[39;00m\u001b[38;5;28mtype\u001b[39m(\u001b[38;5;28mself\u001b[39m).\u001b[34m__name__\u001b[39m\u001b[38;5;132;01m}\u001b[39;00m\u001b[33m \u001b[39m\u001b[33m\"\u001b[39m\n\u001b[32m    481\u001b[39m             \u001b[33m\"\u001b[39m\u001b[33mis deprecated and will raise in a future version. \u001b[39m\u001b[33m\"\u001b[39m\n\u001b[32m   (...)\u001b[39m\u001b[32m    484\u001b[39m             stacklevel=\u001b[32m2\u001b[39m,\n\u001b[32m    485\u001b[39m         )\n\u001b[32m--> \u001b[39m\u001b[32m487\u001b[39m name = \u001b[43mibase\u001b[49m\u001b[43m.\u001b[49m\u001b[43mmaybe_extract_name\u001b[49m\u001b[43m(\u001b[49m\u001b[43mname\u001b[49m\u001b[43m,\u001b[49m\u001b[43m \u001b[49m\u001b[43mdata\u001b[49m\u001b[43m,\u001b[49m\u001b[43m \u001b[49m\u001b[38;5;28;43mtype\u001b[39;49m\u001b[43m(\u001b[49m\u001b[38;5;28;43mself\u001b[39;49m\u001b[43m)\u001b[49m\u001b[43m)\u001b[49m\n\u001b[32m    489\u001b[39m \u001b[38;5;28;01mif\u001b[39;00m index \u001b[38;5;129;01mis\u001b[39;00m \u001b[38;5;129;01mnot\u001b[39;00m \u001b[38;5;28;01mNone\u001b[39;00m:\n\u001b[32m    490\u001b[39m     index = ensure_index(index)\n",
      "\u001b[36mFile \u001b[39m\u001b[32mc:\\Users\\adrik\\Desktop\\python revise\\venv\\Lib\\site-packages\\pandas\\core\\indexes\\base.py:7765\u001b[39m, in \u001b[36mmaybe_extract_name\u001b[39m\u001b[34m(name, obj, cls)\u001b[39m\n\u001b[32m   7763\u001b[39m \u001b[38;5;66;03m# GH#29069\u001b[39;00m\n\u001b[32m   7764\u001b[39m \u001b[38;5;28;01mif\u001b[39;00m \u001b[38;5;129;01mnot\u001b[39;00m is_hashable(name):\n\u001b[32m-> \u001b[39m\u001b[32m7765\u001b[39m     \u001b[38;5;28;01mraise\u001b[39;00m \u001b[38;5;167;01mTypeError\u001b[39;00m(\u001b[33mf\u001b[39m\u001b[33m\"\u001b[39m\u001b[38;5;132;01m{\u001b[39;00m\u001b[38;5;28mcls\u001b[39m.\u001b[34m__name__\u001b[39m\u001b[38;5;132;01m}\u001b[39;00m\u001b[33m.name must be a hashable type\u001b[39m\u001b[33m\"\u001b[39m)\n\u001b[32m   7767\u001b[39m \u001b[38;5;28;01mreturn\u001b[39;00m name\n",
      "\u001b[31mTypeError\u001b[39m: Series.name must be a hashable type"
     ]
    }
   ],
   "source": [
    "text_data=pd.Series(['apple'],['banana'],['grapes'],['date'])\n",
    "print(text_data)\n",
    "uppercase_data=text_data.str.upper()"
   ]
  },
  {
   "cell_type": "code",
   "execution_count": null,
   "id": "4204972f",
   "metadata": {},
   "outputs": [],
   "source": []
  }
 ],
 "metadata": {
  "kernelspec": {
   "display_name": "Python 3",
   "language": "python",
   "name": "python3"
  },
  "language_info": {
   "codemirror_mode": {
    "name": "ipython",
    "version": 3
   },
   "file_extension": ".py",
   "mimetype": "text/x-python",
   "name": "python",
   "nbconvert_exporter": "python",
   "pygments_lexer": "ipython3",
   "version": "3.12.0"
  }
 },
 "nbformat": 4,
 "nbformat_minor": 5
}
