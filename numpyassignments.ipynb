{
 "cells": [
  {
   "cell_type": "markdown",
   "id": "83cfd5be",
   "metadata": {},
   "source": [
    "# Module: NumPy Assignments\n",
    "## Lesson: NumPy\n",
    "### Assignment 1: Array Creation and Manipulation\n",
    "\n",
    "1. Create a NumPy array of shape (5, 5) filled with random integers between 1 and 20. Replace all the elements in the third column with 1.\n",
    "2. Create a NumPy array of shape (4, 4) with values from 1 to 16. Replace the diagonal elements with 0.\n",
    "\n",
    "### Assignment 2: Array Indexing and Slicing\n",
    "\n",
    "1. Create a NumPy array of shape (6, 6) with values from 1 to 36. Extract the sub-array consisting of the 3rd to 5th rows and 2nd to 4th columns.\n",
    "2. Create a NumPy array of shape (5, 5) with random integers. Extract the elements on the border.\n",
    "\n",
    "### Assignment 3: Array Operations\n",
    "\n",
    "1. Create two NumPy arrays of shape (3, 4) filled with random integers. Perform element-wise addition, subtraction, multiplication, and division.\n",
    "2. Create a NumPy array of shape (4, 4) with values from 1 to 16. Compute the row-wise and column-wise sum.\n",
    "\n",
    "### Assignment 4: Statistical Operations\n",
    "\n",
    "1. Create a NumPy array of shape (5, 5) filled with random integers. Compute the mean, median, standard deviation, and variance of the array.\n",
    "2. Create a NumPy array of shape (3, 3) with values from 1 to 9. Normalize the array (i.e., scale the values to have a mean of 0 and a standard deviation of 1).\n",
    "\n",
    "### Assignment 5: Broadcasting\n",
    "\n",
    "1. Create a NumPy array of shape (3, 3) filled with random integers. Add a 1D array of shape (3,) to each row of the 2D array using broadcasting.\n",
    "2. Create a NumPy array of shape (4, 4) filled with random integers. Subtract a 1D array of shape (4,) from each column of the 2D array using broadcasting.\n",
    "\n",
    "### Assignment 6: Linear Algebra\n",
    "\n",
    "1. Create a NumPy array of shape (3, 3) representing a matrix. Compute its determinant, inverse, and eigenvalues.\n",
    "2. Create two NumPy arrays of shape (2, 3) and (3, 2). Perform matrix multiplication on these arrays.\n",
    "\n",
    "### Assignment 7: Advanced Array Manipulation\n",
    "\n",
    "1. Create a NumPy array of shape (3, 3) with values from 1 to 9. Reshape the array to shape (1, 9) and then to shape (9, 1).\n",
    "2. Create a NumPy array of shape (5, 5) filled with random integers. Flatten the array and then reshape it back to (5, 5).\n",
    "\n",
    "### Assignment 8: Fancy Indexing and Boolean Indexing\n",
    "\n",
    "1. Create a NumPy array of shape (5, 5) filled with random integers. Use fancy indexing to extract the elements at the corners of the array.\n",
    "2. Create a NumPy array of shape (4, 4) filled with random integers. Use boolean indexing to set all elements greater than 10 to 10.\n",
    "\n",
    "### Assignment 9: Structured Arrays\n",
    "\n",
    "1. Create a structured array with fields 'name' (string), 'age' (integer), and 'weight' (float). Add some data and sort the array by age.\n",
    "2. Create a structured array with fields 'x' and 'y' (both integers). Add some data and compute the Euclidean distance between each pair of points.\n",
    "\n",
    "### Assignment 10: Masked Arrays\n",
    "\n",
    "1. Create a masked array of shape (4, 4) with random integers and mask the elements greater than 10. Compute the sum of the unmasked elements.\n",
    "2. Create a masked array of shape (3, 3) with random integers and mask the diagonal elements. Replace the masked elements with the mean of the unmasked elements."
   ]
  },
  {
   "cell_type": "code",
   "execution_count": 4,
   "id": "eed4fa61",
   "metadata": {},
   "outputs": [
    {
     "name": "stdout",
     "output_type": "stream",
     "text": [
      "[[ 1  2  3  4  5]\n",
      " [ 6  7  8  9 10]\n",
      " [11 12 13 14 15]\n",
      " [16 17 18 19 20]]\n",
      "[[ 1  2  1  4  5]\n",
      " [ 6  7  1  9 10]\n",
      " [11 12  1 14 15]\n",
      " [16 17  1 19 20]]\n"
     ]
    }
   ],
   "source": [
    "import numpy as np\n",
    "arr=np.array([[1,2,3,4,5],[6,7,8,9,10],[11,12,13,14,15],[16,17,18,19,20]])\n",
    "print(arr)\n",
    "\n",
    "arr[:,2]=1\n",
    "print(arr)\n"
   ]
  },
  {
   "cell_type": "code",
   "execution_count": 8,
   "id": "dd805219",
   "metadata": {},
   "outputs": [
    {
     "name": "stdout",
     "output_type": "stream",
     "text": [
      "[[ 1  2  3  4]\n",
      " [ 5  6  7  8]\n",
      " [ 9 10 11 12]\n",
      " [13 14 15 16]]\n",
      "[[ 0  2  3  4]\n",
      " [ 5  0  7  8]\n",
      " [ 9 10  0 12]\n",
      " [13 14 15  0]]\n"
     ]
    }
   ],
   "source": [
    "import numpy as np\n",
    "array=np.arange(1,17).reshape(4,4)\n",
    "print(array)\n",
    "\n",
    "np.fill_diagonal(array,0)\n",
    "print(array)"
   ]
  },
  {
   "cell_type": "code",
   "execution_count": 12,
   "id": "47d7f78f",
   "metadata": {},
   "outputs": [
    {
     "name": "stdout",
     "output_type": "stream",
     "text": [
      "[[ 1  2  3  4  5  6]\n",
      " [ 7  8  9 10 11 12]\n",
      " [13 14 15 16 17 18]\n",
      " [19 20 21 22 23 24]\n",
      " [25 26 27 28 29 30]\n",
      " [31 32 33 34 35 36]]\n",
      "[[14 15 16]\n",
      " [20 21 22]\n",
      " [26 27 28]]\n"
     ]
    }
   ],
   "source": [
    "import numpy as np\n",
    "array=np.arange(1,37).reshape((6,6))\n",
    "print(array)\n",
    "\n",
    "subarray=array[2:5,1:4]\n",
    "print(subarray)"
   ]
  },
  {
   "cell_type": "code",
   "execution_count": 16,
   "id": "11c4c19d",
   "metadata": {},
   "outputs": [
    {
     "name": "stdout",
     "output_type": "stream",
     "text": [
      "[10 26 42 58]\n",
      "[28 32 36 40]\n"
     ]
    }
   ],
   "source": [
    "array=np.arange(1,17).reshape(4,4)\n",
    "rowsum=np.sum(array,axis=1)\n",
    "colsum=np.sum(array,axis=0)\n",
    "print(rowsum)\n",
    "print(colsum)\n"
   ]
  },
  {
   "cell_type": "code",
   "execution_count": 19,
   "id": "b1cacaa2",
   "metadata": {},
   "outputs": [
    {
     "name": "stdout",
     "output_type": "stream",
     "text": [
      "[[17 10 12 20 15]\n",
      " [ 9 20  5 17 16]\n",
      " [13  6  1 15 20]\n",
      " [ 2  2  4 18 20]\n",
      " [ 2  6  4 20 16]]\n",
      "11.6\n",
      "45.43999999999999\n",
      "13.0\n",
      "6.740919818541086\n"
     ]
    }
   ],
   "source": [
    "import numpy as np\n",
    "array=np.random.randint(1,21,size=(5,5))\n",
    "print(array)\n",
    "mean=np.mean(array)\n",
    "variance=np.var(array)\n",
    "median=np.median(array)\n",
    "Standarad_deviation=np.std(array)\n",
    "print(mean)\n",
    "print(variance)\n",
    "print(median)\n",
    "print(Standarad_deviation)"
   ]
  },
  {
   "cell_type": "code",
   "execution_count": 20,
   "id": "dd72333f",
   "metadata": {},
   "outputs": [
    {
     "name": "stdout",
     "output_type": "stream",
     "text": [
      "2.581988897471611\n"
     ]
    }
   ],
   "source": [
    "array=np.arange(1,10).reshape(3,3)\n",
    "mean=np.mean(array)\n",
    "stddev=np.std(array)\n",
    "normalized_data=(array-mean)/stddev\n",
    "print(stddev)\n"
   ]
  },
  {
   "cell_type": "code",
   "execution_count": 21,
   "id": "e967ebc7",
   "metadata": {},
   "outputs": [
    {
     "name": "stdout",
     "output_type": "stream",
     "text": [
      "[[13 15 16]\n",
      " [ 9 17 12]\n",
      " [15 12 15]]\n"
     ]
    }
   ],
   "source": [
    "array=np.random.randint(1,11,size=(3,3))\n",
    "rowarray=np.random.randint(1,11,size=(3,))\n",
    "result=array+rowarray\n",
    "print(result)\n"
   ]
  },
  {
   "cell_type": "code",
   "execution_count": 24,
   "id": "d06880e6",
   "metadata": {},
   "outputs": [
    {
     "name": "stdout",
     "output_type": "stream",
     "text": [
      "[[ 5  1  3  8]\n",
      " [ 5  3 -4  2]\n",
      " [ 1 -3  3  3]\n",
      " [ 1  0  1  2]]\n"
     ]
    }
   ],
   "source": [
    "array=np.random.randint(1,11,size=(4,4))\n",
    "colarr=np.random.randint(1,11,size=(4,))\n",
    "\n",
    "result=array-colarr[:,np.newaxis]\n",
    "print(result)"
   ]
  },
  {
   "cell_type": "code",
   "execution_count": 26,
   "id": "32afe7db",
   "metadata": {},
   "outputs": [
    {
     "name": "stdout",
     "output_type": "stream",
     "text": [
      "[[ 8  3 10]\n",
      " [ 1 10  9]\n",
      " [ 8  7  7]]\n",
      "-479.0000000000003\n",
      "[[-0.01461378 -0.10229645  0.15240084]\n",
      " [-0.13569937  0.05010438  0.12943633]\n",
      " [ 0.15240084  0.06680585 -0.16075157]]\n",
      "[21.07444147  7.11849997 -3.19294143]\n"
     ]
    }
   ],
   "source": [
    "matrix=np.random.randint(1,11,size=(3,3))\n",
    "print(matrix)\n",
    "determinant=np.linalg.det(matrix)\n",
    "print(determinant)\n",
    "inverse=np.linalg.inv(matrix)\n",
    "print(inverse)\n",
    "Eigenval=np.linalg.eigvals(matrix)\n",
    "print(Eigenval)"
   ]
  },
  {
   "cell_type": "code",
   "execution_count": 27,
   "id": "aa8906ec",
   "metadata": {},
   "outputs": [
    {
     "name": "stdout",
     "output_type": "stream",
     "text": [
      "[[154 151]\n",
      " [109 121]]\n"
     ]
    }
   ],
   "source": [
    "arr1=np.random.randint(1,11,size=(2,3))\n",
    "arr2=np.random.randint(1,11,size=(3,2))\n",
    "result=np.dot(arr1,arr2)\n",
    "print(result)"
   ]
  },
  {
   "cell_type": "code",
   "execution_count": 28,
   "id": "409b6a67",
   "metadata": {},
   "outputs": [
    {
     "name": "stdout",
     "output_type": "stream",
     "text": [
      "[[1 2 3]\n",
      " [4 5 6]\n",
      " [7 8 9]]\n",
      "[[1 2 3]\n",
      " [4 5 6]\n",
      " [7 8 9]]\n"
     ]
    }
   ],
   "source": [
    "arr=np.arange(1,10).reshape((3,3))\n",
    "arr.reshape(1,9)\n",
    "print(arr)\n",
    "arr.reshape(9,1)\n",
    "print(arr)\n"
   ]
  },
  {
   "cell_type": "code",
   "execution_count": null,
   "id": "6845e0c1",
   "metadata": {},
   "outputs": [
    {
     "name": "stdout",
     "output_type": "stream",
     "text": [
      "[1 2 3 4 5 6 7 8 9]\n"
     ]
    },
    {
     "ename": "ValueError",
     "evalue": "cannot reshape array of size 9 into shape (5,5)",
     "output_type": "error",
     "traceback": [
      "\u001b[31m---------------------------------------------------------------------------\u001b[39m",
      "\u001b[31mValueError\u001b[39m                                Traceback (most recent call last)",
      "\u001b[36mCell\u001b[39m\u001b[36m \u001b[39m\u001b[32mIn[31]\u001b[39m\u001b[32m, line 4\u001b[39m\n\u001b[32m      2\u001b[39m newarr=arr.flatten()\n\u001b[32m      3\u001b[39m \u001b[38;5;28mprint\u001b[39m(newarr)\n\u001b[32m----> \u001b[39m\u001b[32m4\u001b[39m sfs=\u001b[43mnewarr\u001b[49m\u001b[43m.\u001b[49m\u001b[43mreshape\u001b[49m\u001b[43m(\u001b[49m\u001b[43m(\u001b[49m\u001b[32;43m5\u001b[39;49m\u001b[43m,\u001b[49m\u001b[32;43m5\u001b[39;49m\u001b[43m)\u001b[49m\u001b[43m)\u001b[49m\n\u001b[32m      5\u001b[39m \u001b[38;5;28mprint\u001b[39m(newarr)\n",
      "\u001b[31mValueError\u001b[39m: cannot reshape array of size 9 into shape (5,5)"
     ]
    }
   ],
   "source": [
    "arr=np.arange(1,10).reshape((3,3))\n",
    "newarr=arr.flatten()\n",
    "print(newarr)\n",
    "sfs=newarr.reshape((5,5))\n",
    "print(newarr)"
   ]
  },
  {
   "cell_type": "code",
   "execution_count": 33,
   "id": "d7e70b24",
   "metadata": {},
   "outputs": [
    {
     "name": "stdout",
     "output_type": "stream",
     "text": [
      "[[10 10 10  1]\n",
      " [10 10 10 10]\n",
      " [ 9 10 10 10]\n",
      " [10 10  7 10]]\n"
     ]
    }
   ],
   "source": [
    "array=np.random.randint(1,21,size=(4,4))\n",
    "array[array>10]=10\n",
    "print(array)"
   ]
  },
  {
   "cell_type": "code",
   "execution_count": null,
   "id": "62fc3cec",
   "metadata": {},
   "outputs": [],
   "source": [
    "data_type=[('x','i4'),('y','i4')]\n",
    "data=np.array([(1,2),(3,4),(5,6)],dtype=data_type)\n",
    "print(data)\n",
    "\n"
   ]
  }
 ],
 "metadata": {
  "kernelspec": {
   "display_name": "Python 3",
   "language": "python",
   "name": "python3"
  },
  "language_info": {
   "codemirror_mode": {
    "name": "ipython",
    "version": 3
   },
   "file_extension": ".py",
   "mimetype": "text/x-python",
   "name": "python",
   "nbconvert_exporter": "python",
   "pygments_lexer": "ipython3",
   "version": "3.12.0"
  }
 },
 "nbformat": 4,
 "nbformat_minor": 5
}
