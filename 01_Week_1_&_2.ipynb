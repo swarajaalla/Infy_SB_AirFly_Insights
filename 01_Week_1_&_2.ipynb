{
 "cells": [
  {
   "cell_type": "markdown",
   "metadata": {
    "application/vnd.databricks.v1+cell": {
     "cellMetadata": {},
     "inputWidgets": {},
     "nuid": "ec9e1894-946f-4a13-b419-c9c758bc4bad",
     "showTitle": false,
     "tableResultSettingsMap": {},
     "title": ""
    }
   },
   "source": [
    "# \uD83D\uDCD8 PROJECT: Flight Delay Analysis  \n",
    "## Milestone 1: Data Foundation and Cleaning  \n",
    "\n",
    "This notebook covers:\n",
    "- **Week 1** → Dataset loading, exploration, sampling, and memory optimization  \n",
    "- **Week 2** → Preprocessing, feature engineering, and saving cleaned data\n"
   ]
  },
  {
   "cell_type": "code",
   "execution_count": 0,
   "metadata": {
    "application/vnd.databricks.v1+cell": {
     "cellMetadata": {
      "byteLimit": 2048000,
      "rowLimit": 10000
     },
     "inputWidgets": {},
     "nuid": "ef10a744-69dc-4e2d-9cfa-a7e60c2d6b74",
     "showTitle": false,
     "tableResultSettingsMap": {},
     "title": ""
    }
   },
   "outputs": [],
   "source": [
    "import pandas as pd\n",
    "\n",
    "# Replace 'your_file.csv' with the path to your dataset\n",
    "df = pd.read_csv(\"/Volumes/workspace/default/airlines/Flight_delay.csv\")"
   ]
  },
  {
   "cell_type": "markdown",
   "metadata": {
    "application/vnd.databricks.v1+cell": {
     "cellMetadata": {},
     "inputWidgets": {},
     "nuid": "5bb149f9-e2cd-473a-b529-cbfbc5ad969e",
     "showTitle": false,
     "tableResultSettingsMap": {},
     "title": ""
    }
   },
   "source": [
    "## \uD83D\uDDD3️ Week 1 – Project Initialization and Dataset Setup  \n",
    "### Step 1: Explore schema, size, and nulls\n"
   ]
  },
  {
   "cell_type": "code",
   "execution_count": 0,
   "metadata": {
    "application/vnd.databricks.v1+cell": {
     "cellMetadata": {
      "byteLimit": 2048000,
      "rowLimit": 10000
     },
     "inputWidgets": {},
     "nuid": "562a0294-21b9-4b9b-9881-70324424ae6a",
     "showTitle": false,
     "tableResultSettingsMap": {},
     "title": ""
    }
   },
   "outputs": [
    {
     "output_type": "execute_result",
     "data": {
      "text/html": [
       "<div>\n",
       "<style scoped>\n",
       "    .dataframe tbody tr th:only-of-type {\n",
       "        vertical-align: middle;\n",
       "    }\n",
       "\n",
       "    .dataframe tbody tr th {\n",
       "        vertical-align: top;\n",
       "    }\n",
       "\n",
       "    .dataframe thead th {\n",
       "        text-align: right;\n",
       "    }\n",
       "</style>\n",
       "<table border=\"1\" class=\"dataframe\">\n",
       "  <thead>\n",
       "    <tr style=\"text-align: right;\">\n",
       "      <th></th>\n",
       "      <th>DayOfWeek</th>\n",
       "      <th>Date</th>\n",
       "      <th>DepTime</th>\n",
       "      <th>ArrTime</th>\n",
       "      <th>CRSArrTime</th>\n",
       "      <th>UniqueCarrier</th>\n",
       "      <th>Airline</th>\n",
       "      <th>FlightNum</th>\n",
       "      <th>TailNum</th>\n",
       "      <th>ActualElapsedTime</th>\n",
       "      <th>CRSElapsedTime</th>\n",
       "      <th>AirTime</th>\n",
       "      <th>ArrDelay</th>\n",
       "      <th>DepDelay</th>\n",
       "      <th>Origin</th>\n",
       "      <th>Org_Airport</th>\n",
       "      <th>Dest</th>\n",
       "      <th>Dest_Airport</th>\n",
       "      <th>Distance</th>\n",
       "      <th>TaxiIn</th>\n",
       "      <th>TaxiOut</th>\n",
       "      <th>Cancelled</th>\n",
       "      <th>CancellationCode</th>\n",
       "      <th>Diverted</th>\n",
       "      <th>CarrierDelay</th>\n",
       "      <th>WeatherDelay</th>\n",
       "      <th>NASDelay</th>\n",
       "      <th>SecurityDelay</th>\n",
       "      <th>LateAircraftDelay</th>\n",
       "    </tr>\n",
       "  </thead>\n",
       "  <tbody>\n",
       "    <tr>\n",
       "      <th>0</th>\n",
       "      <td>4</td>\n",
       "      <td>03-01-2019</td>\n",
       "      <td>1829</td>\n",
       "      <td>1959</td>\n",
       "      <td>1925</td>\n",
       "      <td>WN</td>\n",
       "      <td>Southwest Airlines Co.</td>\n",
       "      <td>3920</td>\n",
       "      <td>N464WN</td>\n",
       "      <td>90</td>\n",
       "      <td>90</td>\n",
       "      <td>77</td>\n",
       "      <td>34</td>\n",
       "      <td>34</td>\n",
       "      <td>IND</td>\n",
       "      <td>Indianapolis International Airport</td>\n",
       "      <td>BWI</td>\n",
       "      <td>Baltimore-Washington International Airport</td>\n",
       "      <td>515</td>\n",
       "      <td>3</td>\n",
       "      <td>10</td>\n",
       "      <td>0</td>\n",
       "      <td>N</td>\n",
       "      <td>0</td>\n",
       "      <td>2</td>\n",
       "      <td>0</td>\n",
       "      <td>0</td>\n",
       "      <td>0</td>\n",
       "      <td>32</td>\n",
       "    </tr>\n",
       "    <tr>\n",
       "      <th>1</th>\n",
       "      <td>4</td>\n",
       "      <td>03-01-2019</td>\n",
       "      <td>1937</td>\n",
       "      <td>2037</td>\n",
       "      <td>1940</td>\n",
       "      <td>WN</td>\n",
       "      <td>Southwest Airlines Co.</td>\n",
       "      <td>509</td>\n",
       "      <td>N763SW</td>\n",
       "      <td>240</td>\n",
       "      <td>250</td>\n",
       "      <td>230</td>\n",
       "      <td>57</td>\n",
       "      <td>67</td>\n",
       "      <td>IND</td>\n",
       "      <td>Indianapolis International Airport</td>\n",
       "      <td>LAS</td>\n",
       "      <td>McCarran International Airport</td>\n",
       "      <td>1591</td>\n",
       "      <td>3</td>\n",
       "      <td>7</td>\n",
       "      <td>0</td>\n",
       "      <td>N</td>\n",
       "      <td>0</td>\n",
       "      <td>10</td>\n",
       "      <td>0</td>\n",
       "      <td>0</td>\n",
       "      <td>0</td>\n",
       "      <td>47</td>\n",
       "    </tr>\n",
       "    <tr>\n",
       "      <th>2</th>\n",
       "      <td>4</td>\n",
       "      <td>03-01-2019</td>\n",
       "      <td>1644</td>\n",
       "      <td>1845</td>\n",
       "      <td>1725</td>\n",
       "      <td>WN</td>\n",
       "      <td>Southwest Airlines Co.</td>\n",
       "      <td>1333</td>\n",
       "      <td>N334SW</td>\n",
       "      <td>121</td>\n",
       "      <td>135</td>\n",
       "      <td>107</td>\n",
       "      <td>80</td>\n",
       "      <td>94</td>\n",
       "      <td>IND</td>\n",
       "      <td>Indianapolis International Airport</td>\n",
       "      <td>MCO</td>\n",
       "      <td>Orlando International Airport</td>\n",
       "      <td>828</td>\n",
       "      <td>6</td>\n",
       "      <td>8</td>\n",
       "      <td>0</td>\n",
       "      <td>N</td>\n",
       "      <td>0</td>\n",
       "      <td>8</td>\n",
       "      <td>0</td>\n",
       "      <td>0</td>\n",
       "      <td>0</td>\n",
       "      <td>72</td>\n",
       "    </tr>\n",
       "    <tr>\n",
       "      <th>3</th>\n",
       "      <td>4</td>\n",
       "      <td>03-01-2019</td>\n",
       "      <td>1452</td>\n",
       "      <td>1640</td>\n",
       "      <td>1625</td>\n",
       "      <td>WN</td>\n",
       "      <td>Southwest Airlines Co.</td>\n",
       "      <td>675</td>\n",
       "      <td>N286WN</td>\n",
       "      <td>228</td>\n",
       "      <td>240</td>\n",
       "      <td>213</td>\n",
       "      <td>15</td>\n",
       "      <td>27</td>\n",
       "      <td>IND</td>\n",
       "      <td>Indianapolis International Airport</td>\n",
       "      <td>PHX</td>\n",
       "      <td>Phoenix Sky Harbor International Airport</td>\n",
       "      <td>1489</td>\n",
       "      <td>7</td>\n",
       "      <td>8</td>\n",
       "      <td>0</td>\n",
       "      <td>N</td>\n",
       "      <td>0</td>\n",
       "      <td>3</td>\n",
       "      <td>0</td>\n",
       "      <td>0</td>\n",
       "      <td>0</td>\n",
       "      <td>12</td>\n",
       "    </tr>\n",
       "    <tr>\n",
       "      <th>4</th>\n",
       "      <td>4</td>\n",
       "      <td>03-01-2019</td>\n",
       "      <td>1323</td>\n",
       "      <td>1526</td>\n",
       "      <td>1510</td>\n",
       "      <td>WN</td>\n",
       "      <td>Southwest Airlines Co.</td>\n",
       "      <td>4</td>\n",
       "      <td>N674AA</td>\n",
       "      <td>123</td>\n",
       "      <td>135</td>\n",
       "      <td>110</td>\n",
       "      <td>16</td>\n",
       "      <td>28</td>\n",
       "      <td>IND</td>\n",
       "      <td>Indianapolis International Airport</td>\n",
       "      <td>TPA</td>\n",
       "      <td>Tampa International Airport</td>\n",
       "      <td>838</td>\n",
       "      <td>4</td>\n",
       "      <td>9</td>\n",
       "      <td>0</td>\n",
       "      <td>N</td>\n",
       "      <td>0</td>\n",
       "      <td>0</td>\n",
       "      <td>0</td>\n",
       "      <td>0</td>\n",
       "      <td>0</td>\n",
       "      <td>16</td>\n",
       "    </tr>\n",
       "  </tbody>\n",
       "</table>\n",
       "</div>"
      ],
      "text/plain": [
       "   DayOfWeek        Date  DepTime  ...  NASDelay  SecurityDelay LateAircraftDelay\n",
       "0          4  03-01-2019     1829  ...         0              0                32\n",
       "1          4  03-01-2019     1937  ...         0              0                47\n",
       "2          4  03-01-2019     1644  ...         0              0                72\n",
       "3          4  03-01-2019     1452  ...         0              0                12\n",
       "4          4  03-01-2019     1323  ...         0              0                16\n",
       "\n",
       "[5 rows x 29 columns]"
      ]
     },
     "execution_count": 10,
     "metadata": {},
     "output_type": "execute_result"
    }
   ],
   "source": [
    "# displays first 5 rows of the DataFrame \n",
    "df.head()"
   ]
  },
  {
   "cell_type": "code",
   "execution_count": 0,
   "metadata": {
    "application/vnd.databricks.v1+cell": {
     "cellMetadata": {
      "byteLimit": 2048000,
      "rowLimit": 10000
     },
     "inputWidgets": {},
     "nuid": "8d255b0c-713a-4705-a4b7-e584562d7acd",
     "showTitle": false,
     "tableResultSettingsMap": {},
     "title": ""
    }
   },
   "outputs": [
    {
     "output_type": "execute_result",
     "data": {
      "text/html": [
       "<div>\n",
       "<style scoped>\n",
       "    .dataframe tbody tr th:only-of-type {\n",
       "        vertical-align: middle;\n",
       "    }\n",
       "\n",
       "    .dataframe tbody tr th {\n",
       "        vertical-align: top;\n",
       "    }\n",
       "\n",
       "    .dataframe thead th {\n",
       "        text-align: right;\n",
       "    }\n",
       "</style>\n",
       "<table border=\"1\" class=\"dataframe\">\n",
       "  <thead>\n",
       "    <tr style=\"text-align: right;\">\n",
       "      <th></th>\n",
       "      <th>DayOfWeek</th>\n",
       "      <th>Date</th>\n",
       "      <th>DepTime</th>\n",
       "      <th>ArrTime</th>\n",
       "      <th>CRSArrTime</th>\n",
       "      <th>UniqueCarrier</th>\n",
       "      <th>Airline</th>\n",
       "      <th>FlightNum</th>\n",
       "      <th>TailNum</th>\n",
       "      <th>ActualElapsedTime</th>\n",
       "      <th>CRSElapsedTime</th>\n",
       "      <th>AirTime</th>\n",
       "      <th>ArrDelay</th>\n",
       "      <th>DepDelay</th>\n",
       "      <th>Origin</th>\n",
       "      <th>Org_Airport</th>\n",
       "      <th>Dest</th>\n",
       "      <th>Dest_Airport</th>\n",
       "      <th>Distance</th>\n",
       "      <th>TaxiIn</th>\n",
       "      <th>TaxiOut</th>\n",
       "      <th>Cancelled</th>\n",
       "      <th>CancellationCode</th>\n",
       "      <th>Diverted</th>\n",
       "      <th>CarrierDelay</th>\n",
       "      <th>WeatherDelay</th>\n",
       "      <th>NASDelay</th>\n",
       "      <th>SecurityDelay</th>\n",
       "      <th>LateAircraftDelay</th>\n",
       "    </tr>\n",
       "  </thead>\n",
       "  <tbody>\n",
       "    <tr>\n",
       "      <th>484546</th>\n",
       "      <td>5</td>\n",
       "      <td>13-06-2019</td>\n",
       "      <td>1609</td>\n",
       "      <td>1942</td>\n",
       "      <td>1915</td>\n",
       "      <td>AA</td>\n",
       "      <td>American Airlines Inc.</td>\n",
       "      <td>1496</td>\n",
       "      <td>N510AA</td>\n",
       "      <td>153</td>\n",
       "      <td>160</td>\n",
       "      <td>131</td>\n",
       "      <td>27</td>\n",
       "      <td>34</td>\n",
       "      <td>DFW</td>\n",
       "      <td>Dallas/Fort Worth International Airport</td>\n",
       "      <td>MCO</td>\n",
       "      <td>Orlando International Airport</td>\n",
       "      <td>984</td>\n",
       "      <td>7</td>\n",
       "      <td>15</td>\n",
       "      <td>0</td>\n",
       "      <td>N</td>\n",
       "      <td>0</td>\n",
       "      <td>27</td>\n",
       "      <td>0</td>\n",
       "      <td>0</td>\n",
       "      <td>0</td>\n",
       "      <td>0</td>\n",
       "    </tr>\n",
       "    <tr>\n",
       "      <th>484547</th>\n",
       "      <td>6</td>\n",
       "      <td>14-06-2019</td>\n",
       "      <td>1616</td>\n",
       "      <td>1954</td>\n",
       "      <td>1915</td>\n",
       "      <td>AA</td>\n",
       "      <td>American Airlines Inc.</td>\n",
       "      <td>1496</td>\n",
       "      <td>N559AA</td>\n",
       "      <td>158</td>\n",
       "      <td>160</td>\n",
       "      <td>136</td>\n",
       "      <td>39</td>\n",
       "      <td>41</td>\n",
       "      <td>DFW</td>\n",
       "      <td>Dallas/Fort Worth International Airport</td>\n",
       "      <td>MCO</td>\n",
       "      <td>Orlando International Airport</td>\n",
       "      <td>984</td>\n",
       "      <td>11</td>\n",
       "      <td>11</td>\n",
       "      <td>0</td>\n",
       "      <td>N</td>\n",
       "      <td>0</td>\n",
       "      <td>11</td>\n",
       "      <td>0</td>\n",
       "      <td>0</td>\n",
       "      <td>0</td>\n",
       "      <td>28</td>\n",
       "    </tr>\n",
       "    <tr>\n",
       "      <th>484548</th>\n",
       "      <td>2</td>\n",
       "      <td>17-06-2019</td>\n",
       "      <td>1617</td>\n",
       "      <td>2002</td>\n",
       "      <td>1915</td>\n",
       "      <td>AA</td>\n",
       "      <td>American Airlines Inc.</td>\n",
       "      <td>1496</td>\n",
       "      <td>N505AA</td>\n",
       "      <td>165</td>\n",
       "      <td>160</td>\n",
       "      <td>141</td>\n",
       "      <td>47</td>\n",
       "      <td>42</td>\n",
       "      <td>DFW</td>\n",
       "      <td>Dallas/Fort Worth International Airport</td>\n",
       "      <td>MCO</td>\n",
       "      <td>Orlando International Airport</td>\n",
       "      <td>984</td>\n",
       "      <td>7</td>\n",
       "      <td>17</td>\n",
       "      <td>0</td>\n",
       "      <td>N</td>\n",
       "      <td>0</td>\n",
       "      <td>0</td>\n",
       "      <td>22</td>\n",
       "      <td>5</td>\n",
       "      <td>0</td>\n",
       "      <td>20</td>\n",
       "    </tr>\n",
       "    <tr>\n",
       "      <th>484549</th>\n",
       "      <td>7</td>\n",
       "      <td>22-06-2019</td>\n",
       "      <td>1607</td>\n",
       "      <td>1941</td>\n",
       "      <td>1915</td>\n",
       "      <td>AA</td>\n",
       "      <td>American Airlines Inc.</td>\n",
       "      <td>1496</td>\n",
       "      <td>N421AA</td>\n",
       "      <td>154</td>\n",
       "      <td>160</td>\n",
       "      <td>137</td>\n",
       "      <td>26</td>\n",
       "      <td>32</td>\n",
       "      <td>DFW</td>\n",
       "      <td>Dallas/Fort Worth International Airport</td>\n",
       "      <td>MCO</td>\n",
       "      <td>Orlando International Airport</td>\n",
       "      <td>984</td>\n",
       "      <td>5</td>\n",
       "      <td>12</td>\n",
       "      <td>0</td>\n",
       "      <td>N</td>\n",
       "      <td>0</td>\n",
       "      <td>1</td>\n",
       "      <td>0</td>\n",
       "      <td>0</td>\n",
       "      <td>0</td>\n",
       "      <td>25</td>\n",
       "    </tr>\n",
       "    <tr>\n",
       "      <th>484550</th>\n",
       "      <td>1</td>\n",
       "      <td>23-06-2019</td>\n",
       "      <td>1608</td>\n",
       "      <td>1933</td>\n",
       "      <td>1915</td>\n",
       "      <td>AA</td>\n",
       "      <td>American Airlines Inc.</td>\n",
       "      <td>1496</td>\n",
       "      <td>N487AA</td>\n",
       "      <td>145</td>\n",
       "      <td>160</td>\n",
       "      <td>129</td>\n",
       "      <td>18</td>\n",
       "      <td>33</td>\n",
       "      <td>DFW</td>\n",
       "      <td>Dallas/Fort Worth International Airport</td>\n",
       "      <td>MCO</td>\n",
       "      <td>Orlando International Airport</td>\n",
       "      <td>984</td>\n",
       "      <td>6</td>\n",
       "      <td>10</td>\n",
       "      <td>0</td>\n",
       "      <td>N</td>\n",
       "      <td>0</td>\n",
       "      <td>18</td>\n",
       "      <td>0</td>\n",
       "      <td>0</td>\n",
       "      <td>0</td>\n",
       "      <td>0</td>\n",
       "    </tr>\n",
       "  </tbody>\n",
       "</table>\n",
       "</div>"
      ],
      "text/plain": [
       "        DayOfWeek        Date  ...  SecurityDelay  LateAircraftDelay\n",
       "484546          5  13-06-2019  ...              0                  0\n",
       "484547          6  14-06-2019  ...              0                 28\n",
       "484548          2  17-06-2019  ...              0                 20\n",
       "484549          7  22-06-2019  ...              0                 25\n",
       "484550          1  23-06-2019  ...              0                  0\n",
       "\n",
       "[5 rows x 29 columns]"
      ]
     },
     "execution_count": 12,
     "metadata": {},
     "output_type": "execute_result"
    }
   ],
   "source": [
    "# displays last 10 rows of the DataFrame\n",
    "df.tail(5)\n"
   ]
  },
  {
   "cell_type": "code",
   "execution_count": 0,
   "metadata": {
    "application/vnd.databricks.v1+cell": {
     "cellMetadata": {
      "byteLimit": 2048000,
      "rowLimit": 10000
     },
     "inputWidgets": {},
     "nuid": "7cc58726-5d32-4daf-afea-0173b1f99b07",
     "showTitle": false,
     "tableResultSettingsMap": {},
     "title": ""
    }
   },
   "outputs": [
    {
     "output_type": "execute_result",
     "data": {
      "text/plain": [
       "14051979"
      ]
     },
     "execution_count": 13,
     "metadata": {},
     "output_type": "execute_result"
    }
   ],
   "source": [
    " # returns total number of elements (rows × columns) in the DataFrame\n",
    " df.size\n"
   ]
  },
  {
   "cell_type": "code",
   "execution_count": 0,
   "metadata": {
    "application/vnd.databricks.v1+cell": {
     "cellMetadata": {
      "byteLimit": 2048000,
      "rowLimit": 10000
     },
     "inputWidgets": {},
     "nuid": "9f37726f-31be-4839-ae48-5c3374175b17",
     "showTitle": false,
     "tableResultSettingsMap": {},
     "title": ""
    }
   },
   "outputs": [
    {
     "output_type": "execute_result",
     "data": {
      "text/plain": [
       "DayOfWeek             int64\n",
       "Date                 object\n",
       "DepTime               int64\n",
       "ArrTime               int64\n",
       "CRSArrTime            int64\n",
       "UniqueCarrier        object\n",
       "Airline              object\n",
       "FlightNum             int64\n",
       "TailNum              object\n",
       "ActualElapsedTime     int64\n",
       "CRSElapsedTime        int64\n",
       "AirTime               int64\n",
       "ArrDelay              int64\n",
       "DepDelay              int64\n",
       "Origin               object\n",
       "Org_Airport          object\n",
       "Dest                 object\n",
       "Dest_Airport         object\n",
       "Distance              int64\n",
       "TaxiIn                int64\n",
       "TaxiOut               int64\n",
       "Cancelled             int64\n",
       "CancellationCode     object\n",
       "Diverted              int64\n",
       "CarrierDelay          int64\n",
       "WeatherDelay          int64\n",
       "NASDelay              int64\n",
       "SecurityDelay         int64\n",
       "LateAircraftDelay     int64\n",
       "dtype: object"
      ]
     },
     "execution_count": 14,
     "metadata": {},
     "output_type": "execute_result"
    }
   ],
   "source": [
    " # shows data type of each column in the DataFrame\n",
    " df.dtypes\n"
   ]
  },
  {
   "cell_type": "code",
   "execution_count": 0,
   "metadata": {
    "application/vnd.databricks.v1+cell": {
     "cellMetadata": {
      "byteLimit": 2048000,
      "rowLimit": 10000
     },
     "inputWidgets": {},
     "nuid": "f43ffab9-52ec-4b29-8887-e2e84b3c0cef",
     "showTitle": false,
     "tableResultSettingsMap": {},
     "title": ""
    }
   },
   "outputs": [
    {
     "output_type": "execute_result",
     "data": {
      "text/plain": [
       "Index(['DayOfWeek', 'Date', 'DepTime', 'ArrTime', 'CRSArrTime',\n",
       "       'UniqueCarrier', 'Airline', 'FlightNum', 'TailNum', 'ActualElapsedTime',\n",
       "       'CRSElapsedTime', 'AirTime', 'ArrDelay', 'DepDelay', 'Origin',\n",
       "       'Org_Airport', 'Dest', 'Dest_Airport', 'Distance', 'TaxiIn', 'TaxiOut',\n",
       "       'Cancelled', 'CancellationCode', 'Diverted', 'CarrierDelay',\n",
       "       'WeatherDelay', 'NASDelay', 'SecurityDelay', 'LateAircraftDelay'],\n",
       "      dtype='object')"
      ]
     },
     "execution_count": 16,
     "metadata": {},
     "output_type": "execute_result"
    }
   ],
   "source": [
    "# returns the list of column labels in the DataFrame\n",
    "df.columns\n"
   ]
  },
  {
   "cell_type": "code",
   "execution_count": 0,
   "metadata": {
    "application/vnd.databricks.v1+cell": {
     "cellMetadata": {
      "byteLimit": 2048000,
      "rowLimit": 10000
     },
     "inputWidgets": {},
     "nuid": "b07b748a-c7c5-4599-8aff-cda0d11ff24a",
     "showTitle": false,
     "tableResultSettingsMap": {},
     "title": ""
    }
   },
   "outputs": [
    {
     "output_type": "execute_result",
     "data": {
      "text/plain": [
       "(484551, 29)"
      ]
     },
     "execution_count": 17,
     "metadata": {},
     "output_type": "execute_result"
    }
   ],
   "source": [
    "# returns the number of rows and columns in the DataFrame\n",
    "df.shape\n"
   ]
  },
  {
   "cell_type": "code",
   "execution_count": 0,
   "metadata": {
    "application/vnd.databricks.v1+cell": {
     "cellMetadata": {
      "byteLimit": 2048000,
      "rowLimit": 10000
     },
     "inputWidgets": {},
     "nuid": "1e8e47cd-4503-4f86-bc23-b6bd9d052a68",
     "showTitle": false,
     "tableResultSettingsMap": {},
     "title": ""
    }
   },
   "outputs": [
    {
     "output_type": "execute_result",
     "data": {
      "text/html": [
       "<div>\n",
       "<style scoped>\n",
       "    .dataframe tbody tr th:only-of-type {\n",
       "        vertical-align: middle;\n",
       "    }\n",
       "\n",
       "    .dataframe tbody tr th {\n",
       "        vertical-align: top;\n",
       "    }\n",
       "\n",
       "    .dataframe thead th {\n",
       "        text-align: right;\n",
       "    }\n",
       "</style>\n",
       "<table border=\"1\" class=\"dataframe\">\n",
       "  <thead>\n",
       "    <tr style=\"text-align: right;\">\n",
       "      <th></th>\n",
       "      <th>DayOfWeek</th>\n",
       "      <th>DepTime</th>\n",
       "      <th>ArrTime</th>\n",
       "      <th>CRSArrTime</th>\n",
       "      <th>FlightNum</th>\n",
       "      <th>ActualElapsedTime</th>\n",
       "      <th>CRSElapsedTime</th>\n",
       "      <th>AirTime</th>\n",
       "      <th>ArrDelay</th>\n",
       "      <th>DepDelay</th>\n",
       "      <th>Distance</th>\n",
       "      <th>TaxiIn</th>\n",
       "      <th>TaxiOut</th>\n",
       "      <th>Cancelled</th>\n",
       "      <th>Diverted</th>\n",
       "      <th>CarrierDelay</th>\n",
       "      <th>WeatherDelay</th>\n",
       "      <th>NASDelay</th>\n",
       "      <th>SecurityDelay</th>\n",
       "      <th>LateAircraftDelay</th>\n",
       "    </tr>\n",
       "  </thead>\n",
       "  <tbody>\n",
       "    <tr>\n",
       "      <th>count</th>\n",
       "      <td>484551.000000</td>\n",
       "      <td>484551.000000</td>\n",
       "      <td>484551.000000</td>\n",
       "      <td>484551.000000</td>\n",
       "      <td>484551.000000</td>\n",
       "      <td>484551.000000</td>\n",
       "      <td>484551.000000</td>\n",
       "      <td>484551.000000</td>\n",
       "      <td>484551.000000</td>\n",
       "      <td>484551.000000</td>\n",
       "      <td>484551.000000</td>\n",
       "      <td>484551.000000</td>\n",
       "      <td>484551.000000</td>\n",
       "      <td>484551.0</td>\n",
       "      <td>484551.0</td>\n",
       "      <td>484551.000000</td>\n",
       "      <td>484551.000000</td>\n",
       "      <td>484551.000000</td>\n",
       "      <td>484551.000000</td>\n",
       "      <td>484551.000000</td>\n",
       "    </tr>\n",
       "    <tr>\n",
       "      <th>mean</th>\n",
       "      <td>3.991605</td>\n",
       "      <td>1564.477865</td>\n",
       "      <td>1617.784438</td>\n",
       "      <td>1652.129929</td>\n",
       "      <td>2139.207386</td>\n",
       "      <td>134.810422</td>\n",
       "      <td>131.400761</td>\n",
       "      <td>108.877134</td>\n",
       "      <td>60.907764</td>\n",
       "      <td>57.498086</td>\n",
       "      <td>752.142689</td>\n",
       "      <td>6.782413</td>\n",
       "      <td>19.150876</td>\n",
       "      <td>0.0</td>\n",
       "      <td>0.0</td>\n",
       "      <td>17.419440</td>\n",
       "      <td>3.153284</td>\n",
       "      <td>13.599421</td>\n",
       "      <td>0.082033</td>\n",
       "      <td>26.653587</td>\n",
       "    </tr>\n",
       "    <tr>\n",
       "      <th>std</th>\n",
       "      <td>1.971466</td>\n",
       "      <td>452.235219</td>\n",
       "      <td>583.637660</td>\n",
       "      <td>466.096216</td>\n",
       "      <td>1812.677071</td>\n",
       "      <td>74.070374</td>\n",
       "      <td>71.542531</td>\n",
       "      <td>70.113513</td>\n",
       "      <td>56.975420</td>\n",
       "      <td>55.991012</td>\n",
       "      <td>571.631124</td>\n",
       "      <td>5.555816</td>\n",
       "      <td>15.309747</td>\n",
       "      <td>0.0</td>\n",
       "      <td>0.0</td>\n",
       "      <td>39.417893</td>\n",
       "      <td>19.503657</td>\n",
       "      <td>31.454655</td>\n",
       "      <td>1.884774</td>\n",
       "      <td>40.535994</td>\n",
       "    </tr>\n",
       "    <tr>\n",
       "      <th>min</th>\n",
       "      <td>1.000000</td>\n",
       "      <td>1.000000</td>\n",
       "      <td>1.000000</td>\n",
       "      <td>1.000000</td>\n",
       "      <td>1.000000</td>\n",
       "      <td>15.000000</td>\n",
       "      <td>-21.000000</td>\n",
       "      <td>0.000000</td>\n",
       "      <td>15.000000</td>\n",
       "      <td>6.000000</td>\n",
       "      <td>31.000000</td>\n",
       "      <td>0.000000</td>\n",
       "      <td>0.000000</td>\n",
       "      <td>0.0</td>\n",
       "      <td>0.0</td>\n",
       "      <td>0.000000</td>\n",
       "      <td>0.000000</td>\n",
       "      <td>0.000000</td>\n",
       "      <td>0.000000</td>\n",
       "      <td>0.000000</td>\n",
       "    </tr>\n",
       "    <tr>\n",
       "      <th>25%</th>\n",
       "      <td>2.000000</td>\n",
       "      <td>1234.000000</td>\n",
       "      <td>1327.000000</td>\n",
       "      <td>1339.000000</td>\n",
       "      <td>629.000000</td>\n",
       "      <td>80.000000</td>\n",
       "      <td>79.000000</td>\n",
       "      <td>57.000000</td>\n",
       "      <td>25.000000</td>\n",
       "      <td>23.000000</td>\n",
       "      <td>331.000000</td>\n",
       "      <td>4.000000</td>\n",
       "      <td>11.000000</td>\n",
       "      <td>0.0</td>\n",
       "      <td>0.0</td>\n",
       "      <td>0.000000</td>\n",
       "      <td>0.000000</td>\n",
       "      <td>0.000000</td>\n",
       "      <td>0.000000</td>\n",
       "      <td>0.000000</td>\n",
       "    </tr>\n",
       "    <tr>\n",
       "      <th>50%</th>\n",
       "      <td>4.000000</td>\n",
       "      <td>1620.000000</td>\n",
       "      <td>1737.000000</td>\n",
       "      <td>1723.000000</td>\n",
       "      <td>1514.000000</td>\n",
       "      <td>116.000000</td>\n",
       "      <td>114.000000</td>\n",
       "      <td>90.000000</td>\n",
       "      <td>42.000000</td>\n",
       "      <td>40.000000</td>\n",
       "      <td>599.000000</td>\n",
       "      <td>5.000000</td>\n",
       "      <td>15.000000</td>\n",
       "      <td>0.0</td>\n",
       "      <td>0.0</td>\n",
       "      <td>2.000000</td>\n",
       "      <td>0.000000</td>\n",
       "      <td>1.000000</td>\n",
       "      <td>0.000000</td>\n",
       "      <td>13.000000</td>\n",
       "    </tr>\n",
       "    <tr>\n",
       "      <th>75%</th>\n",
       "      <td>6.000000</td>\n",
       "      <td>1928.000000</td>\n",
       "      <td>2049.000000</td>\n",
       "      <td>2025.000000</td>\n",
       "      <td>3683.000000</td>\n",
       "      <td>168.000000</td>\n",
       "      <td>162.000000</td>\n",
       "      <td>139.000000</td>\n",
       "      <td>76.000000</td>\n",
       "      <td>72.000000</td>\n",
       "      <td>992.000000</td>\n",
       "      <td>8.000000</td>\n",
       "      <td>22.000000</td>\n",
       "      <td>0.0</td>\n",
       "      <td>0.0</td>\n",
       "      <td>19.000000</td>\n",
       "      <td>0.000000</td>\n",
       "      <td>13.000000</td>\n",
       "      <td>0.000000</td>\n",
       "      <td>36.000000</td>\n",
       "    </tr>\n",
       "    <tr>\n",
       "      <th>max</th>\n",
       "      <td>7.000000</td>\n",
       "      <td>2400.000000</td>\n",
       "      <td>2400.000000</td>\n",
       "      <td>2359.000000</td>\n",
       "      <td>8403.000000</td>\n",
       "      <td>727.000000</td>\n",
       "      <td>602.000000</td>\n",
       "      <td>609.000000</td>\n",
       "      <td>1707.000000</td>\n",
       "      <td>1710.000000</td>\n",
       "      <td>4502.000000</td>\n",
       "      <td>207.000000</td>\n",
       "      <td>383.000000</td>\n",
       "      <td>0.0</td>\n",
       "      <td>0.0</td>\n",
       "      <td>1707.000000</td>\n",
       "      <td>1148.000000</td>\n",
       "      <td>1357.000000</td>\n",
       "      <td>392.000000</td>\n",
       "      <td>1254.000000</td>\n",
       "    </tr>\n",
       "  </tbody>\n",
       "</table>\n",
       "</div>"
      ],
      "text/plain": [
       "           DayOfWeek        DepTime  ...  SecurityDelay  LateAircraftDelay\n",
       "count  484551.000000  484551.000000  ...  484551.000000      484551.000000\n",
       "mean        3.991605    1564.477865  ...       0.082033          26.653587\n",
       "std         1.971466     452.235219  ...       1.884774          40.535994\n",
       "min         1.000000       1.000000  ...       0.000000           0.000000\n",
       "25%         2.000000    1234.000000  ...       0.000000           0.000000\n",
       "50%         4.000000    1620.000000  ...       0.000000          13.000000\n",
       "75%         6.000000    1928.000000  ...       0.000000          36.000000\n",
       "max         7.000000    2400.000000  ...     392.000000        1254.000000\n",
       "\n",
       "[8 rows x 20 columns]"
      ]
     },
     "execution_count": 18,
     "metadata": {},
     "output_type": "execute_result"
    }
   ],
   "source": [
    " # generates summary statistics (count, mean, std, min, quartiles, max) for numerical columns\n",
    " df.describe()\n"
   ]
  },
  {
   "cell_type": "code",
   "execution_count": 0,
   "metadata": {
    "application/vnd.databricks.v1+cell": {
     "cellMetadata": {
      "byteLimit": 2048000,
      "rowLimit": 10000
     },
     "inputWidgets": {},
     "nuid": "88821189-f03a-40c6-bb90-a87e8230f0cb",
     "showTitle": false,
     "tableResultSettingsMap": {},
     "title": ""
    }
   },
   "outputs": [
    {
     "output_type": "stream",
     "name": "stdout",
     "output_type": "stream",
     "text": [
      "<class 'pandas.core.frame.DataFrame'>\nRangeIndex: 484551 entries, 0 to 484550\nData columns (total 29 columns):\n #   Column             Non-Null Count   Dtype \n---  ------             --------------   ----- \n 0   DayOfWeek          484551 non-null  int64 \n 1   Date               484551 non-null  object\n 2   DepTime            484551 non-null  int64 \n 3   ArrTime            484551 non-null  int64 \n 4   CRSArrTime         484551 non-null  int64 \n 5   UniqueCarrier      484551 non-null  object\n 6   Airline            484551 non-null  object\n 7   FlightNum          484551 non-null  int64 \n 8   TailNum            484551 non-null  object\n 9   ActualElapsedTime  484551 non-null  int64 \n 10  CRSElapsedTime     484551 non-null  int64 \n 11  AirTime            484551 non-null  int64 \n 12  ArrDelay           484551 non-null  int64 \n 13  DepDelay           484551 non-null  int64 \n 14  Origin             484551 non-null  object\n 15  Org_Airport        483374 non-null  object\n 16  Dest               484551 non-null  object\n 17  Dest_Airport       483072 non-null  object\n 18  Distance           484551 non-null  int64 \n 19  TaxiIn             484551 non-null  int64 \n 20  TaxiOut            484551 non-null  int64 \n 21  Cancelled          484551 non-null  int64 \n 22  CancellationCode   484551 non-null  object\n 23  Diverted           484551 non-null  int64 \n 24  CarrierDelay       484551 non-null  int64 \n 25  WeatherDelay       484551 non-null  int64 \n 26  NASDelay           484551 non-null  int64 \n 27  SecurityDelay      484551 non-null  int64 \n 28  LateAircraftDelay  484551 non-null  int64 \ndtypes: int64(20), object(9)\nmemory usage: 107.2+ MB\n"
     ]
    }
   ],
   "source": [
    "# displays summary of DataFrame (index, columns, non-null counts, and data types)\n",
    "df.info()\n"
   ]
  },
  {
   "cell_type": "markdown",
   "metadata": {
    "application/vnd.databricks.v1+cell": {
     "cellMetadata": {},
     "inputWidgets": {},
     "nuid": "fcaa32cb-5f22-4c43-b25a-712f16b08ccb",
     "showTitle": false,
     "tableResultSettingsMap": {},
     "title": ""
    }
   },
   "source": [
    "### Step 2: Handle duplicates and sampling\n"
   ]
  },
  {
   "cell_type": "code",
   "execution_count": 0,
   "metadata": {
    "application/vnd.databricks.v1+cell": {
     "cellMetadata": {
      "byteLimit": 2048000,
      "rowLimit": 10000
     },
     "inputWidgets": {},
     "nuid": "05181b45-4137-4e5b-af76-d23f5bb906e2",
     "showTitle": false,
     "tableResultSettingsMap": {},
     "title": ""
    }
   },
   "outputs": [
    {
     "output_type": "stream",
     "name": "stdout",
     "output_type": "stream",
     "text": [
      "Before removing duplicates: (484551, 29)\nAfter removing duplicates : (484549, 29)\n"
     ]
    }
   ],
   "source": [
    "# remove duplicate rows\n",
    "df_no_duplicates = df.drop_duplicates()\n",
    "\n",
    "# check shape before and after removing duplicates\n",
    "print(\"Before removing duplicates:\", df.shape)  \n",
    "print(\"After removing duplicates :\", df_no_duplicates.shape)\n"
   ]
  },
  {
   "cell_type": "code",
   "execution_count": 0,
   "metadata": {
    "application/vnd.databricks.v1+cell": {
     "cellMetadata": {
      "byteLimit": 2048000,
      "rowLimit": 10000
     },
     "inputWidgets": {},
     "nuid": "8f5de744-d252-4af0-a2fc-dbd041297c40",
     "showTitle": false,
     "tableResultSettingsMap": {},
     "title": ""
    }
   },
   "outputs": [
    {
     "output_type": "stream",
     "name": "stdout",
     "output_type": "stream",
     "text": [
      "        DayOfWeek        Date  ...  SecurityDelay  LateAircraftDelay\n9098            5  18-01-2019  ...              0                 26\n52651           1  21-01-2019  ...              0                  0\n185971          5  14-03-2019  ...              0                 31\n37599           4  10-01-2019  ...              0                  0\n238854          1  17-03-2019  ...              0                  0\n\n[5 rows x 29 columns]\n"
     ]
    }
   ],
   "source": [
    "# take 1% random sample of the data\n",
    "sample_df = df.sample(frac=0.01, random_state=42)\n",
    "\n",
    "# show first 5 rows of the sample\n",
    "print(sample_df.head())\n"
   ]
  },
  {
   "cell_type": "code",
   "execution_count": 0,
   "metadata": {
    "application/vnd.databricks.v1+cell": {
     "cellMetadata": {
      "byteLimit": 2048000,
      "rowLimit": 10000
     },
     "inputWidgets": {},
     "nuid": "09c0d3f1-5676-4f72-823a-4f17b713fb80",
     "showTitle": false,
     "tableResultSettingsMap": {},
     "title": ""
    }
   },
   "outputs": [],
   "source": [
    "# random sampling\n",
    "sample_df = pd.read_csv(\"/Volumes/workspace/default/airlines/Flight_delay.csv\", nrows=100000)  # first 100k rows\n"
   ]
  },
  {
   "cell_type": "markdown",
   "metadata": {
    "application/vnd.databricks.v1+cell": {
     "cellMetadata": {},
     "inputWidgets": {},
     "nuid": "abe152e1-294f-417c-8b02-0736b5769950",
     "showTitle": false,
     "tableResultSettingsMap": {},
     "title": ""
    }
   },
   "source": [
    "### Step 3: Memory Optimization Functions\n"
   ]
  },
  {
   "cell_type": "code",
   "execution_count": 0,
   "metadata": {
    "application/vnd.databricks.v1+cell": {
     "cellMetadata": {
      "byteLimit": 2048000,
      "rowLimit": 10000
     },
     "inputWidgets": {},
     "nuid": "1849411c-970a-4234-a556-1c6b9532f596",
     "showTitle": false,
     "tableResultSettingsMap": {},
     "title": ""
    }
   },
   "outputs": [],
   "source": [
    "#Memory Optimization\n",
    "def optimize_airfly_memory(path):\n",
    "    \"\"\"\n",
    "    Load AirFly dataset with optimized dtypes for memory usage.\n",
    "    \"\"\"\n",
    "    # Define numeric downcast mapping\n",
    "    dtype_map = {\n",
    "        \"DayOfWeek\": \"int8\",\n",
    "        \"DepTime\": \"int32\",\n",
    "        \"ArrTime\": \"int32\",\n",
    "        \"CRSArrTime\": \"int32\",\n",
    "        \"FlightNum\": \"int32\",\n",
    "        \"ActualElapsedTime\": \"float32\",   # may contain nulls after cleaning\n",
    "        \"CRSElapsedTime\": \"float32\",\n",
    "        \"AirTime\": \"float32\",\n",
    "        \"ArrDelay\": \"float32\",\n",
    "        \"DepDelay\": \"float32\",\n",
    "        \"Distance\": \"int32\",\n",
    "        \"TaxiIn\": \"float32\",\n",
    "        \"TaxiOut\": \"float32\",\n",
    "        \"Cancelled\": \"int8\",\n",
    "        \"Diverted\": \"int8\",\n",
    "        \"CarrierDelay\": \"float32\",\n",
    "        \"WeatherDelay\": \"float32\",\n",
    "        \"NASDelay\": \"float32\",\n",
    "        \"SecurityDelay\": \"float32\",\n",
    "        \"LateAircraftDelay\": \"float32\"\n",
    "    }\n",
    "\n",
    "    # Read CSV with dtype mapping (for numeric columns)\n",
    "    data = pd.read_csv(\"/Volumes/workspace/default/airdelay/Flight_delay.csv\", dtype=dtype_map, low_memory=True)\n",
    "\n",
    "    # Convert object columns to category\n",
    "    categorical_cols = [\n",
    "        \"Date\", \"UniqueCarrier\", \"Airline\", \"TailNum\",\n",
    "        \"Origin\", \"Org_Airport\", \"Dest\", \"Dest_Airport\",\n",
    "        \"CancellationCode\"\n",
    "    ]\n",
    "    for col in categorical_cols:\n",
    "        data[col] = data[col].astype(\"category\")\n",
    "\n",
    "    return data\n",
    "\n",
    "\n",
    "def report_memory(data):\n",
    "    \"\"\"\n",
    "    Prints memory usage of dataframe in MB by column.\n",
    "    \"\"\"\n",
    "    mem = data.memory_usage(deep=True) / 1024**2\n",
    "    mem_data = mem.reset_index()\n",
    "    mem_data.columns = [\"Column\", \"Memory_MB\"]\n",
    "    print(\"Total Memory: {:.2f} MB\".format(mem.sum()))\n",
    "    return mem_data\n"
   ]
  },
  {
   "cell_type": "code",
   "execution_count": 0,
   "metadata": {
    "application/vnd.databricks.v1+cell": {
     "cellMetadata": {
      "byteLimit": 2048000,
      "rowLimit": 10000
     },
     "inputWidgets": {},
     "nuid": "56db8ef7-b125-42a3-bc6e-a42c8f154bcd",
     "showTitle": false,
     "tableResultSettingsMap": {},
     "title": ""
    }
   },
   "outputs": [
    {
     "output_type": "stream",
     "name": "stdout",
     "output_type": "stream",
     "text": [
      "\uD83D\uDD39 Loading original dataset...\nOriginal memory usage:\nTotal Memory: 334.41 MB\n               Column  Memory_MB\n0               Index   0.000126\n1           DayOfWeek   3.696831\n2                Date  27.264127\n3             DepTime   3.696831\n4             ArrTime   3.696831\n5          CRSArrTime   3.696831\n6       UniqueCarrier  23.567296\n7             Airline  32.788416\n8           FlightNum   3.696831\n9             TailNum  25.414421\n10  ActualElapsedTime   3.696831\n11     CRSElapsedTime   3.696831\n12            AirTime   3.696831\n13           ArrDelay   3.696831\n14           DepDelay   3.696831\n15             Origin  24.029400\n16        Org_Airport  40.147590\n17               Dest  24.029400\n18       Dest_Airport  40.130426\n19           Distance   3.696831\n20             TaxiIn   3.696831\n21            TaxiOut   3.696831\n22          Cancelled   3.696831\n23   CancellationCode  23.105192\n24           Diverted   3.696831\n25       CarrierDelay   3.696831\n26       WeatherDelay   3.696831\n27           NASDelay   3.696831\n28      SecurityDelay   3.696831\n29  LateAircraftDelay   3.696831\n"
     ]
    }
   ],
   "source": [
    "path = \"/Volumes/workspace/default/airlines/Flight_delay.csv\"\n",
    "\n",
    "print(\"\uD83D\uDD39 Loading original dataset...\")\n",
    "df_raw = pd.read_csv(path)\n",
    "print(\"Original memory usage:\")\n",
    "print(report_memory(df_raw))\n"
   ]
  },
  {
   "cell_type": "code",
   "execution_count": 0,
   "metadata": {
    "application/vnd.databricks.v1+cell": {
     "cellMetadata": {
      "byteLimit": 2048000,
      "rowLimit": 10000
     },
     "inputWidgets": {},
     "nuid": "36a24d0c-f971-487d-98e5-13aeae9f42db",
     "showTitle": false,
     "tableResultSettingsMap": {},
     "title": ""
    }
   },
   "outputs": [],
   "source": [
    "# ✅ FIXED VERSION — Memory Optimization Block (no more FileNotFoundError)\n",
    "\n",
    "import pandas as pd\n",
    "import os\n",
    "\n",
    "def optimize_airfly_memory(path):\n",
    "    \"\"\"\n",
    "    Load AirFly dataset with optimized dtypes for memory usage.\n",
    "    Includes a safety check to ensure the file path exists.\n",
    "    \"\"\"\n",
    "    # Check if the file exists\n",
    "    if not os.path.exists(path):\n",
    "        raise FileNotFoundError(f\"❌ File not found at: {path}\")\n",
    "\n",
    "    # Define numeric downcast mapping\n",
    "    dtype_map = {\n",
    "        \"DayOfWeek\": \"int8\",\n",
    "        \"DepTime\": \"int32\",\n",
    "        \"ArrTime\": \"int32\",\n",
    "        \"CRSArrTime\": \"int32\",\n",
    "        \"FlightNum\": \"int32\",\n",
    "        \"ActualElapsedTime\": \"float32\",\n",
    "        \"CRSElapsedTime\": \"float32\",\n",
    "        \"AirTime\": \"float32\",\n",
    "        \"ArrDelay\": \"float32\",\n",
    "        \"DepDelay\": \"float32\",\n",
    "        \"Distance\": \"int32\",\n",
    "        \"TaxiIn\": \"float32\",\n",
    "        \"TaxiOut\": \"float32\",\n",
    "        \"Cancelled\": \"int8\",\n",
    "        \"Diverted\": \"int8\",\n",
    "        \"CarrierDelay\": \"float32\",\n",
    "        \"WeatherDelay\": \"float32\",\n",
    "        \"NASDelay\": \"float32\",\n",
    "        \"SecurityDelay\": \"float32\",\n",
    "        \"LateAircraftDelay\": \"float32\"\n",
    "    }\n",
    "\n",
    "    # ✅ FIX: use the passed path argument instead of hardcoded one\n",
    "    data = pd.read_csv(path, dtype=dtype_map, low_memory=True)\n",
    "\n",
    "    # Convert string/object columns to 'category' for memory efficiency\n",
    "    categorical_cols = [\n",
    "        \"Date\", \"UniqueCarrier\", \"Airline\", \"TailNum\",\n",
    "        \"Origin\", \"Org_Airport\", \"Dest\", \"Dest_Airport\",\n",
    "        \"CancellationCode\"\n",
    "    ]\n",
    "    for col in categorical_cols:\n",
    "        if col in data.columns:\n",
    "            data[col] = data[col].astype(\"category\")\n",
    "\n",
    "    return data\n",
    "\n",
    "\n",
    "def report_memory(data):\n",
    "    \"\"\"Print memory usage of dataframe in MB by column.\"\"\"\n",
    "    mem = data.memory_usage(deep=True) / 1024**2\n",
    "    mem_data = mem.reset_index()\n",
    "    mem_data.columns = [\"Column\", \"Memory_MB\"]\n",
    "    print(f\"\uD83D\uDCBE Total Memory: {mem.sum():.2f} MB\")\n",
    "    return mem_data\n"
   ]
  },
  {
   "cell_type": "code",
   "execution_count": 0,
   "metadata": {
    "application/vnd.databricks.v1+cell": {
     "cellMetadata": {
      "byteLimit": 2048000,
      "rowLimit": 10000
     },
     "inputWidgets": {},
     "nuid": "54b62b82-c9c2-45c0-be1c-7d70f3650a35",
     "showTitle": false,
     "tableResultSettingsMap": {},
     "title": ""
    }
   },
   "outputs": [
    {
     "output_type": "stream",
     "name": "stdout",
     "output_type": "stream",
     "text": [
      "\n\uD83D\uDD39 Loading optimized dataset...\n\n✅ Optimized memory usage:\n\uD83D\uDCBE Total Memory: 40.17 MB\n               Column  Memory_MB\n0               Index   0.000126\n1           DayOfWeek   0.462104\n2                Date   0.938367\n3             DepTime   1.848415\n4             ArrTime   1.848415\n5          CRSArrTime   1.848415\n6       UniqueCarrier   0.462974\n7             Airline   0.463194\n8           FlightNum   1.848415\n9             TailNum   1.234409\n10  ActualElapsedTime   1.848415\n11     CRSElapsedTime   1.848415\n12            AirTime   1.848415\n13           ArrDelay   1.848415\n14           DepDelay   1.848415\n15             Origin   0.945707\n16        Org_Airport   0.952967\n17               Dest   0.945707\n18       Dest_Airport   0.952967\n19           Distance   1.848415\n20             TaxiIn   1.848415\n21            TaxiOut   1.848415\n22          Cancelled   0.462104\n23   CancellationCode   0.462255\n24           Diverted   0.462104\n25       CarrierDelay   1.848415\n26       WeatherDelay   1.848415\n27           NASDelay   1.848415\n28      SecurityDelay   1.848415\n29  LateAircraftDelay   1.848415\n"
     ]
    }
   ],
   "source": [
    "# ✅ LOAD AND COMPARE MEMORY USAGE\n",
    "\n",
    "# Correct dataset path (as per your environment)\n",
    "path = \"/Volumes/workspace/default/airlines/Flight_delay.csv\"\n",
    "\n",
    "print(\"\\n\uD83D\uDD39 Loading optimized dataset...\")\n",
    "df_opt = optimize_airfly_memory(path)\n",
    "\n",
    "print(\"\\n✅ Optimized memory usage:\")\n",
    "print(report_memory(df_opt))\n"
   ]
  },
  {
   "cell_type": "markdown",
   "metadata": {
    "application/vnd.databricks.v1+cell": {
     "cellMetadata": {},
     "inputWidgets": {},
     "nuid": "84bd94c8-ca4e-49b4-898c-de42772d93df",
     "showTitle": false,
     "tableResultSettingsMap": {},
     "title": ""
    }
   },
   "source": [
    "## \uD83D\uDDD3️ Week 2 – Preprocessing and Feature Engineering  \n",
    "### Step 1: Handle Missing Values\n"
   ]
  },
  {
   "cell_type": "code",
   "execution_count": 0,
   "metadata": {
    "application/vnd.databricks.v1+cell": {
     "cellMetadata": {
      "byteLimit": 2048000,
      "rowLimit": 10000
     },
     "inputWidgets": {},
     "nuid": "7e6adea0-9104-4e03-9153-0f25cf4866a0",
     "showTitle": false,
     "tableResultSettingsMap": {},
     "title": ""
    }
   },
   "outputs": [
    {
     "output_type": "execute_result",
     "data": {
      "text/plain": [
       "DayOfWeek               0\n",
       "Date                    0\n",
       "DepTime                 0\n",
       "ArrTime                 0\n",
       "CRSArrTime              0\n",
       "UniqueCarrier           0\n",
       "Airline                 0\n",
       "FlightNum               0\n",
       "TailNum                 0\n",
       "ActualElapsedTime       0\n",
       "CRSElapsedTime          0\n",
       "AirTime                 0\n",
       "ArrDelay                0\n",
       "DepDelay                0\n",
       "Origin                  0\n",
       "Org_Airport          1177\n",
       "Dest                    0\n",
       "Dest_Airport         1479\n",
       "Distance                0\n",
       "TaxiIn                  0\n",
       "TaxiOut                 0\n",
       "Cancelled               0\n",
       "CancellationCode        0\n",
       "Diverted                0\n",
       "CarrierDelay            0\n",
       "WeatherDelay            0\n",
       "NASDelay                0\n",
       "SecurityDelay           0\n",
       "LateAircraftDelay       0\n",
       "dtype: int64"
      ]
     },
     "execution_count": 33,
     "metadata": {},
     "output_type": "execute_result"
    }
   ],
   "source": [
    "df.isnull().sum()\n"
   ]
  },
  {
   "cell_type": "code",
   "execution_count": 0,
   "metadata": {
    "application/vnd.databricks.v1+cell": {
     "cellMetadata": {
      "byteLimit": 2048000,
      "rowLimit": 10000
     },
     "inputWidgets": {},
     "nuid": "7ad3b038-b627-419e-b56e-6b078d824458",
     "showTitle": false,
     "tableResultSettingsMap": {},
     "title": ""
    }
   },
   "outputs": [],
   "source": [
    "# Handling Missing Values\n",
    "\n",
    "#1 Fill categorical text fields with \"Unknown\" for missing values\n",
    "categorical_cols = [\n",
    "    \"Date\", \"UniqueCarrier\", \"Airline\", \"TailNum\",\n",
    "    \"Origin\", \"Org_Airport\", \"Dest\", \"Dest_Airport\",\n",
    "    \"CancellationCode\"\n",
    "]\n",
    "\n",
    "for col in categorical_cols:\n",
    "    if df[col].isnull().any():\n",
    "        df[col] = df[col].fillna(\"Unknown\")\n"
   ]
  },
  {
   "cell_type": "code",
   "execution_count": 0,
   "metadata": {
    "application/vnd.databricks.v1+cell": {
     "cellMetadata": {
      "byteLimit": 2048000,
      "rowLimit": 10000
     },
     "inputWidgets": {},
     "nuid": "99363263-16ef-41e1-bce8-709f1fd03d71",
     "showTitle": false,
     "tableResultSettingsMap": {},
     "title": ""
    }
   },
   "outputs": [],
   "source": [
    "#2 Replace NaN with 0 for numeric delay fields\n",
    "delay_cols = [\n",
    "    \"ArrDelay\", \"DepDelay\", \"CarrierDelay\", \"WeatherDelay\",\n",
    "    \"NASDelay\", \"SecurityDelay\", \"LateAircraftDelay\"\n",
    "]\n",
    "df[delay_cols] = df[delay_cols].fillna(0)\n"
   ]
  },
  {
   "cell_type": "code",
   "execution_count": 0,
   "metadata": {
    "application/vnd.databricks.v1+cell": {
     "cellMetadata": {
      "byteLimit": 2048000,
      "rowLimit": 10000
     },
     "inputWidgets": {},
     "nuid": "78bd6869-91b0-4d50-ba24-11b80bbbb13e",
     "showTitle": false,
     "tableResultSettingsMap": {},
     "title": ""
    }
   },
   "outputs": [],
   "source": [
    "#3 Fill missing values in elapsed time or airtime columns with median\n",
    "elapsed_cols = [\"ActualElapsedTime\", \"CRSElapsedTime\", \"AirTime\"]\n",
    "for col in elapsed_cols:\n",
    "    if df[col].isnull().any():\n",
    "        median_val = df[col].median()\n",
    "        df[col] = df[col].fillna(median_val)\n"
   ]
  },
  {
   "cell_type": "code",
   "execution_count": 0,
   "metadata": {
    "application/vnd.databricks.v1+cell": {
     "cellMetadata": {
      "byteLimit": 2048000,
      "rowLimit": 10000
     },
     "inputWidgets": {},
     "nuid": "d4985c3e-7a24-4c16-a11e-78519f3ed53a",
     "showTitle": false,
     "tableResultSettingsMap": {},
     "title": ""
    }
   },
   "outputs": [],
   "source": [
    "#4 If 'CancellationCode' is null, it means the flight was NOT cancelled\n",
    "df['CancellationCode'] = df['CancellationCode'].fillna(\"NotCancelled\")\n"
   ]
  },
  {
   "cell_type": "code",
   "execution_count": 0,
   "metadata": {
    "application/vnd.databricks.v1+cell": {
     "cellMetadata": {
      "byteLimit": 2048000,
      "rowLimit": 10000
     },
     "inputWidgets": {},
     "nuid": "4fccda40-c228-48f4-b4a8-0475fee48d24",
     "showTitle": false,
     "tableResultSettingsMap": {},
     "title": ""
    }
   },
   "outputs": [
    {
     "output_type": "stream",
     "name": "stdout",
     "output_type": "stream",
     "text": [
      "ArrDelay             0\nDepDelay             0\nCarrierDelay         0\nWeatherDelay         0\nNASDelay             0\nSecurityDelay        0\nLateAircraftDelay    0\nCancelled            0\nCancellationCode     0\ndtype: int64\n"
     ]
    }
   ],
   "source": [
    "# Check results \n",
    "print(df[delay_cols + [\"Cancelled\", \"CancellationCode\"]].isnull().sum())\n"
   ]
  },
  {
   "cell_type": "code",
   "execution_count": 0,
   "metadata": {
    "application/vnd.databricks.v1+cell": {
     "cellMetadata": {
      "byteLimit": 2048000,
      "rowLimit": 10000
     },
     "inputWidgets": {},
     "nuid": "d60145b0-04e5-4c6a-92fe-9dd346b741bd",
     "showTitle": false,
     "tableResultSettingsMap": {},
     "title": ""
    }
   },
   "outputs": [],
   "source": [
    " #5 If still missing values remain → drop those rows (safe clean-up)\n",
    "df = df.dropna()\n"
   ]
  },
  {
   "cell_type": "code",
   "execution_count": 0,
   "metadata": {
    "application/vnd.databricks.v1+cell": {
     "cellMetadata": {
      "byteLimit": 2048000,
      "rowLimit": 10000
     },
     "inputWidgets": {},
     "nuid": "30dff290-9df3-4ff6-8a25-b04b04dc0400",
     "showTitle": false,
     "tableResultSettingsMap": {},
     "title": ""
    }
   },
   "outputs": [
    {
     "output_type": "stream",
     "name": "stdout",
     "output_type": "stream",
     "text": [
      "\nMissing values after cleaning:\nDayOfWeek            0\nDate                 0\nDepTime              0\nArrTime              0\nCRSArrTime           0\nUniqueCarrier        0\nAirline              0\nFlightNum            0\nTailNum              0\nActualElapsedTime    0\nCRSElapsedTime       0\nAirTime              0\nArrDelay             0\nDepDelay             0\nOrigin               0\nOrg_Airport          0\nDest                 0\nDest_Airport         0\nDistance             0\nTaxiIn               0\nTaxiOut              0\nCancelled            0\nCancellationCode     0\nDiverted             0\nCarrierDelay         0\nWeatherDelay         0\nNASDelay             0\nSecurityDelay        0\nLateAircraftDelay    0\ndtype: int64\n"
     ]
    }
   ],
   "source": [
    "#Missing value after cleaning\n",
    "print(\"\\nMissing values after cleaning:\")\n",
    "print(df.isnull().sum())\n"
   ]
  },
  {
   "cell_type": "markdown",
   "metadata": {
    "application/vnd.databricks.v1+cell": {
     "cellMetadata": {},
     "inputWidgets": {},
     "nuid": "72da5bbf-7ffa-432f-a2f3-29618bb824cb",
     "showTitle": false,
     "tableResultSettingsMap": {},
     "title": ""
    }
   },
   "source": [
    "### Step 2: Feature Engineering – Date & Time"
   ]
  },
  {
   "cell_type": "code",
   "execution_count": 0,
   "metadata": {
    "application/vnd.databricks.v1+cell": {
     "cellMetadata": {
      "byteLimit": 2048000,
      "rowLimit": 10000
     },
     "inputWidgets": {},
     "nuid": "18c52fde-9b26-4041-a317-5591afe1cf42",
     "showTitle": false,
     "tableResultSettingsMap": {},
     "title": ""
    }
   },
   "outputs": [],
   "source": [
    "# First, convert the 'Date' column to datetime type\n",
    "df[\"Date\"] = pd.to_datetime(df[\"Date\"], dayfirst=True, errors=\"coerce\")\n"
   ]
  },
  {
   "cell_type": "code",
   "execution_count": 0,
   "metadata": {
    "application/vnd.databricks.v1+cell": {
     "cellMetadata": {
      "byteLimit": 2048000,
      "rowLimit": 10000
     },
     "inputWidgets": {},
     "nuid": "d55f6f92-51c4-4038-857a-82f423f95d69",
     "showTitle": false,
     "tableResultSettingsMap": {},
     "title": ""
    }
   },
   "outputs": [],
   "source": [
    "#Convert 'DepTime' (HHMM integer) to a 4-digit string with leading zeros\n",
    "df[\"DepTime\"] = df[\"DepTime\"].apply(lambda x: f\"{int(x):04d}\" if pd.notnull(x) else \"0000\")\n"
   ]
  },
  {
   "cell_type": "code",
   "execution_count": 0,
   "metadata": {
    "application/vnd.databricks.v1+cell": {
     "cellMetadata": {
      "byteLimit": 2048000,
      "rowLimit": 10000
     },
     "inputWidgets": {},
     "nuid": "af6e470e-96c4-438b-ac49-a6c32c69e24c",
     "showTitle": false,
     "tableResultSettingsMap": {},
     "title": ""
    }
   },
   "outputs": [],
   "source": [
    " #Extract hour and minute from 'DepTime' string\n",
    " df[\"DepHour\"] = df[\"DepTime\"].str[:2].astype(int)\n",
    "df[\"DepMinute\"] = df[\"DepTime\"].str[2:].astype(int)\n"
   ]
  },
  {
   "cell_type": "code",
   "execution_count": 0,
   "metadata": {
    "application/vnd.databricks.v1+cell": {
     "cellMetadata": {
      "byteLimit": 2048000,
      "rowLimit": 10000
     },
     "inputWidgets": {},
     "nuid": "a44756b9-82f4-4e10-b8be-762df159597b",
     "showTitle": false,
     "tableResultSettingsMap": {},
     "title": ""
    }
   },
   "outputs": [],
   "source": [
    "# Combine 'Date', 'DepHour', and 'DepMinute' into a single datetime column 'DepDatetime'\n",
    "\n",
    "df[\"DepDatetime\"] = df.apply(\n",
    "    lambda row: pd.Timestamp(\n",
    "        year=row[\"Date\"].year,\n",
    "        month=row[\"Date\"].month,\n",
    "        day=row[\"Date\"].day,\n",
    "        hour=min(max(row[\"DepHour\"], 0), 23),\n",
    "        minute=min(max(row[\"DepMinute\"], 0), 59)\n",
    "    ),\n",
    "    axis=1\n",
    ")\n"
   ]
  },
  {
   "cell_type": "code",
   "execution_count": 0,
   "metadata": {
    "application/vnd.databricks.v1+cell": {
     "cellMetadata": {
      "byteLimit": 2048000,
      "rowLimit": 10000
     },
     "inputWidgets": {},
     "nuid": "b9866547-65ae-4772-869d-c108ec579b54",
     "showTitle": false,
     "tableResultSettingsMap": {},
     "title": ""
    }
   },
   "outputs": [],
   "source": [
    "# Extract the month number from departure datetime (1–12)\n",
    "df[\"Month\"] = df[\"DepDatetime\"].dt.month\n",
    "\n",
    "# Extract the day name of the week (Monday, Tuesday, etc.)\n",
    "df[\"DayOfWeek\"] = df[\"DepDatetime\"].dt.day_name()\n",
    "\n",
    "# Extract the hour of departure\n",
    "df[\"Hour\"] = df[\"DepDatetime\"].dt.hour\n"
   ]
  },
  {
   "cell_type": "code",
   "execution_count": 0,
   "metadata": {
    "application/vnd.databricks.v1+cell": {
     "cellMetadata": {
      "byteLimit": 2048000,
      "rowLimit": 10000
     },
     "inputWidgets": {},
     "nuid": "bb717ff0-ee6c-48e8-a16d-fa214bb8d361",
     "showTitle": false,
     "tableResultSettingsMap": {},
     "title": ""
    }
   },
   "outputs": [],
   "source": [
    "# Create a route string by combining Origin and Destination (e.g., ATL-LAX)\n",
    "df[\"Route\"] = df[\"Origin\"] + \"-\" + df[\"Dest\"]\n"
   ]
  },
  {
   "cell_type": "code",
   "execution_count": 0,
   "metadata": {
    "application/vnd.databricks.v1+cell": {
     "cellMetadata": {
      "byteLimit": 2048000,
      "rowLimit": 10000
     },
     "inputWidgets": {},
     "nuid": "ac5771a1-5977-474b-980f-42c3d929061d",
     "showTitle": false,
     "tableResultSettingsMap": {},
     "title": ""
    }
   },
   "outputs": [
    {
     "output_type": "stream",
     "name": "stdout",
     "output_type": "stream",
     "text": [
      "        Date DepTime         DepDatetime  Month DayOfWeek  Hour    Route\n0 2019-01-03    1829 2019-01-03 18:29:00      1  Thursday    18  IND-BWI\n1 2019-01-03    1937 2019-01-03 19:37:00      1  Thursday    19  IND-LAS\n2 2019-01-03    1644 2019-01-03 16:44:00      1  Thursday    16  IND-MCO\n3 2019-01-03    1452 2019-01-03 14:52:00      1  Thursday    14  IND-PHX\n4 2019-01-03    1323 2019-01-03 13:23:00      1  Thursday    13  IND-TPA\n"
     ]
    }
   ],
   "source": [
    "print(df[[\"Date\", \"DepTime\", \"DepDatetime\", \"Month\", \"DayOfWeek\", \"Hour\", \"Route\"]].head(5))\n"
   ]
  },
  {
   "cell_type": "markdown",
   "metadata": {
    "application/vnd.databricks.v1+cell": {
     "cellMetadata": {},
     "inputWidgets": {},
     "nuid": "40161a28-39e5-470b-a9c8-8198bb54e9d3",
     "showTitle": false,
     "tableResultSettingsMap": {},
     "title": ""
    }
   },
   "source": [
    "### Step 3: Exploratory Summaries and Derived Stats\n"
   ]
  },
  {
   "cell_type": "code",
   "execution_count": 0,
   "metadata": {
    "application/vnd.databricks.v1+cell": {
     "cellMetadata": {
      "byteLimit": 2048000,
      "rowLimit": 10000
     },
     "inputWidgets": {},
     "nuid": "e3e72317-c645-46df-afc3-60b4330e4c4b",
     "showTitle": false,
     "tableResultSettingsMap": {},
     "title": ""
    }
   },
   "outputs": [
    {
     "output_type": "stream",
     "name": "stdout",
     "output_type": "stream",
     "text": [
      "Minimum Distance: 31\n"
     ]
    }
   ],
   "source": [
    "# Print the minimum value from the 'Distance' column\n",
    "print(\"Minimum Distance:\", df['Distance'].min())\n"
   ]
  },
  {
   "cell_type": "code",
   "execution_count": 0,
   "metadata": {
    "application/vnd.databricks.v1+cell": {
     "cellMetadata": {
      "byteLimit": 2048000,
      "rowLimit": 10000
     },
     "inputWidgets": {},
     "nuid": "e595ffb5-7e87-4b9a-8b6f-ef64a85cbfe0",
     "showTitle": false,
     "tableResultSettingsMap": {},
     "title": ""
    }
   },
   "outputs": [
    {
     "output_type": "stream",
     "name": "stdout",
     "output_type": "stream",
     "text": [
      "Maximum Distance: 4502\n"
     ]
    }
   ],
   "source": [
    "# Print the maximum value from the 'Distance' column\n",
    "print(\"Maximum Distance:\", df['Distance'].max())\n"
   ]
  },
  {
   "cell_type": "code",
   "execution_count": 0,
   "metadata": {
    "application/vnd.databricks.v1+cell": {
     "cellMetadata": {
      "byteLimit": 2048000,
      "rowLimit": 10000
     },
     "inputWidgets": {},
     "nuid": "93e891f3-e029-4f5d-b22d-c14fa6e9df2c",
     "showTitle": false,
     "tableResultSettingsMap": {},
     "title": ""
    }
   },
   "outputs": [
    {
     "output_type": "stream",
     "name": "stdout",
     "output_type": "stream",
     "text": [
      "Average Distance: 752.1426887984959\n"
     ]
    }
   ],
   "source": [
    "# Print the average (mean) value of the 'Distance' column\n",
    "print(\"Average Distance:\", df['Distance'].mean())\n"
   ]
  },
  {
   "cell_type": "code",
   "execution_count": 0,
   "metadata": {
    "application/vnd.databricks.v1+cell": {
     "cellMetadata": {
      "byteLimit": 2048000,
      "rowLimit": 10000
     },
     "inputWidgets": {},
     "nuid": "5fec6043-63c8-47e8-81ca-b67f1f3128d0",
     "showTitle": false,
     "tableResultSettingsMap": {},
     "title": ""
    }
   },
   "outputs": [
    {
     "output_type": "stream",
     "name": "stdout",
     "output_type": "stream",
     "text": [
      "    FlightNum Origin Dest  Distance\n1         509    IND  LAS      1591\n3         675    IND  PHX      1489\n7         188    ISP  FLL      1093\n10       1056    ISP  PBI      1052\n25        302    LAS  ALB      2237\n"
     ]
    }
   ],
   "source": [
    "#Distance more than 1000\n",
    "print(\n",
    "    df.loc[\n",
    "        df[\"Distance\"] > 1000,\n",
    "        [\"FlightNum\", \"Origin\", \"Dest\", \"Distance\"]\n",
    "    ].head(5)\n",
    ")\n"
   ]
  },
  {
   "cell_type": "code",
   "execution_count": 0,
   "metadata": {
    "application/vnd.databricks.v1+cell": {
     "cellMetadata": {
      "byteLimit": 2048000,
      "rowLimit": 10000
     },
     "inputWidgets": {},
     "nuid": "7eaca63f-19e3-4005-999f-8b6a3ce4ba5f",
     "showTitle": false,
     "tableResultSettingsMap": {},
     "title": ""
    }
   },
   "outputs": [
    {
     "output_type": "stream",
     "name": "stdout",
     "output_type": "stream",
     "text": [
      "                         Airline   ArrDelay\n0           Alaska Airlines Inc.  57.557600\n1         American Airlines Inc.  65.729621\n2   American Eagle Airlines Inc.  64.277233\n3    Atlantic Southeast Airlines  63.210684\n4           Delta Air Lines Inc.  59.292422\n5         Frontier Airlines Inc.  41.973710\n6         Hawaiian Airlines Inc.  55.658333\n7                JetBlue Airways  72.869370\n8          Skywest Airlines Inc.  65.187659\n9         Southwest Airlines Co.  51.032945\n10               US Airways Inc.  58.454165\n11         United Air Lines Inc.  69.670539\n"
     ]
    }
   ],
   "source": [
    "# Calculate average arrival delay per airline\n",
    "avg_delay_per_airline = df.groupby(\"Airline\")[\"ArrDelay\"].mean().reset_index()\n",
    "print(avg_delay_per_airline)\n"
   ]
  },
  {
   "cell_type": "code",
   "execution_count": 0,
   "metadata": {
    "application/vnd.databricks.v1+cell": {
     "cellMetadata": {
      "byteLimit": 2048000,
      "rowLimit": 10000
     },
     "inputWidgets": {},
     "nuid": "1c24ebd7-8370-4147-9a11-fa986f07d846",
     "showTitle": false,
     "tableResultSettingsMap": {},
     "title": ""
    }
   },
   "outputs": [
    {
     "output_type": "stream",
     "name": "stdout",
     "output_type": "stream",
     "text": [
      "    Airport  AvgArrDelay\n0       ABE    86.921986\n1       ABI   100.898089\n2       ABQ    50.931923\n3       ABY    66.427184\n4       ACT    61.608696\n..      ...          ...\n269     WYS    21.000000\n270     XNA    75.252757\n271     YAK    74.535714\n272     YKM    38.037037\n273     YUM    50.383929\n\n[274 rows x 2 columns]\n"
     ]
    }
   ],
   "source": [
    "#Average delay per airport\n",
    "avg_delay_per_airport = df.groupby(\"Origin\")[\"ArrDelay\"].mean().reset_index().rename(columns={\"Origin\": \"Airport\", \"ArrDelay\": \"AvgArrDelay\"})\n",
    "print(avg_delay_per_airport)\n"
   ]
  },
  {
   "cell_type": "code",
   "execution_count": 0,
   "metadata": {
    "application/vnd.databricks.v1+cell": {
     "cellMetadata": {
      "byteLimit": 2048000,
      "rowLimit": 10000
     },
     "inputWidgets": {},
     "nuid": "ba8bcc97-4b65-47f3-a064-af7d01d0b3db",
     "showTitle": false,
     "tableResultSettingsMap": {},
     "title": ""
    }
   },
   "outputs": [
    {
     "output_type": "stream",
     "name": "stdout",
     "output_type": "stream",
     "text": [
      "        Route  AvgArrDelay\n0     ABE-ATL    89.353846\n1     ABE-CLT    71.333333\n2     ABE-CVG    55.000000\n3     ABE-ORD    86.911765\n4     ABI-DFW   100.898089\n...       ...          ...\n3372  YAK-JNU    74.272727\n3373  YKM-SLC    38.037037\n3374  YUM-IPL    39.625000\n3375  YUM-LAX    45.769231\n3376  YUM-SLC    71.250000\n\n[3377 rows x 2 columns]\n"
     ]
    }
   ],
   "source": [
    "# Average delay per route\n",
    "avg_delay_per_route = df.groupby(\"Route\")[\"ArrDelay\"].mean().reset_index().rename(columns={\"ArrDelay\": \"AvgArrDelay\"})\n",
    "print(avg_delay_per_route)\n"
   ]
  },
  {
   "cell_type": "code",
   "execution_count": 0,
   "metadata": {
    "application/vnd.databricks.v1+cell": {
     "cellMetadata": {
      "byteLimit": 2048000,
      "rowLimit": 10000
     },
     "inputWidgets": {},
     "nuid": "664ed1f6-c8c2-4171-8dbc-8ad088dac77e",
     "showTitle": false,
     "tableResultSettingsMap": {},
     "title": ""
    }
   },
   "outputs": [
    {
     "output_type": "stream",
     "name": "stdout",
     "output_type": "stream",
     "text": [
      "   DayOfWeek  TotalArrDelay\n0     Friday        4074079\n1     Monday        4117199\n2   Saturday        3671266\n3     Sunday        4145097\n4   Thursday        5366216\n5    Tuesday        4075335\n6  Wednesday        4063726\n"
     ]
    }
   ],
   "source": [
    "# Display the total arrival delay for each day of the week\n",
    "total_delay_by_day = df.groupby(\"DayOfWeek\")[\"ArrDelay\"].sum().reset_index().rename(columns={\"ArrDelay\": \"TotalArrDelay\"})\n",
    "print(total_delay_by_day)\n"
   ]
  },
  {
   "cell_type": "code",
   "execution_count": 0,
   "metadata": {
    "application/vnd.databricks.v1+cell": {
     "cellMetadata": {
      "byteLimit": 2048000,
      "rowLimit": 10000
     },
     "inputWidgets": {},
     "nuid": "9f05d67e-4fe9-4541-b1fb-175236bc9141",
     "showTitle": false,
     "tableResultSettingsMap": {},
     "title": ""
    }
   },
   "outputs": [
    {
     "output_type": "stream",
     "name": "stdout",
     "output_type": "stream",
     "text": [
      "Percentage of delayed flights: 100.00%\n"
     ]
    }
   ],
   "source": [
    "# Calculate percentage of delayed flights (ArrDelay > 0)\n",
    "delayed_flights = df[df[\"ArrDelay\"] > 0].shape[0]\n",
    "total_flights = df.shape[0]\n",
    "percentage_delayed = (delayed_flights / total_flights) * 100\n",
    "print(f\"Percentage of delayed flights: {percentage_delayed:.2f}%\")\n"
   ]
  },
  {
   "cell_type": "code",
   "execution_count": 0,
   "metadata": {
    "application/vnd.databricks.v1+cell": {
     "cellMetadata": {
      "byteLimit": 2048000,
      "rowLimit": 10000
     },
     "inputWidgets": {},
     "nuid": "d96b7cd0-694c-4202-95cd-9d53b74144a4",
     "showTitle": false,
     "tableResultSettingsMap": {},
     "title": ""
    }
   },
   "outputs": [
    {
     "output_type": "stream",
     "name": "stdout",
     "output_type": "stream",
     "text": [
      "On-time performance rate: 0.00%\n"
     ]
    }
   ],
   "source": [
    "# Calculate on-time performance rate (ArrDelay <= 0)\n",
    "on_time_flights = df[df[\"ArrDelay\"] <= 0].shape[0]\n",
    "total_flights = df.shape[0]\n",
    "on_time_performance_rate = (on_time_flights / total_flights) * 100\n",
    "print(f\"On-time performance rate: {on_time_performance_rate:.2f}%\")\n"
   ]
  },
  {
   "cell_type": "markdown",
   "metadata": {
    "application/vnd.databricks.v1+cell": {
     "cellMetadata": {},
     "inputWidgets": {},
     "nuid": "b111f787-2c67-4b9c-8825-78d909b4476b",
     "showTitle": false,
     "tableResultSettingsMap": {},
     "title": ""
    }
   },
   "source": [
    "### Step 4: Seasonal Delay Analysis using PySpark\n"
   ]
  },
  {
   "cell_type": "code",
   "execution_count": 0,
   "metadata": {
    "application/vnd.databricks.v1+cell": {
     "cellMetadata": {
      "byteLimit": 2048000,
      "rowLimit": 10000
     },
     "inputWidgets": {},
     "nuid": "4f2787f4-cd0a-4440-b70e-bb42d37c41db",
     "showTitle": false,
     "tableResultSettingsMap": {},
     "title": ""
    }
   },
   "outputs": [
    {
     "output_type": "display_data",
     "data": {
      "text/html": [
       "<style scoped>\n",
       "  .table-result-container {\n",
       "    max-height: 300px;\n",
       "    overflow: auto;\n",
       "  }\n",
       "  table, th, td {\n",
       "    border: 1px solid black;\n",
       "    border-collapse: collapse;\n",
       "  }\n",
       "  th, td {\n",
       "    padding: 5px;\n",
       "  }\n",
       "  th {\n",
       "    text-align: left;\n",
       "  }\n",
       "</style><div class='table-result-container'><table class='table-result'><thead style='background-color: white'><tr><th>Season</th><th>AvgArrDelay</th></tr></thead><tbody><tr><td>Winter</td><td>63.3222170758067</td></tr><tr><td>Spring</td><td>58.25259942022948</td></tr><tr><td>Summer</td><td>63.30072189408855</td></tr></tbody></table></div>"
      ]
     },
     "metadata": {
      "application/vnd.databricks.v1+output": {
       "addedWidgets": {},
       "aggData": [],
       "aggError": "",
       "aggOverflow": false,
       "aggSchema": [],
       "aggSeriesLimitReached": false,
       "aggType": "",
       "arguments": {},
       "columnCustomDisplayInfos": {},
       "data": [
        [
         "Winter",
         63.3222170758067
        ],
        [
         "Spring",
         58.25259942022948
        ],
        [
         "Summer",
         63.30072189408855
        ]
       ],
       "datasetInfos": [],
       "dbfsResultPath": null,
       "isJsonSchema": true,
       "metadata": {},
       "overflow": false,
       "plotOptions": {
        "customPlotOptions": {},
        "displayType": "table",
        "pivotAggregation": null,
        "pivotColumns": null,
        "xColumns": null,
        "yColumns": null
       },
       "removedWidgets": [],
       "schema": [
        {
         "metadata": "{}",
         "name": "Season",
         "type": "\"string\""
        },
        {
         "metadata": "{}",
         "name": "AvgArrDelay",
         "type": "\"double\""
        }
       ],
       "type": "table"
      }
     },
     "output_type": "display_data"
    }
   ],
   "source": [
    "# Calculate average arrival delay per season\n",
    "from pyspark.sql.functions import month, when, col, avg\n",
    "\n",
    "# Add a 'Season' column based on the month\n",
    "df_spark = spark.createDataFrame(df)\n",
    "df_spark = df_spark.withColumn(\n",
    "    \"Season\",\n",
    "    when(month(\"Date\").isin([12, 1, 2]), \"Winter\")\n",
    "    .when(month(\"Date\").isin([3, 4, 5]), \"Spring\")\n",
    "    .when(month(\"Date\").isin([6, 7, 8]), \"Summer\")\n",
    "    .when(month(\"Date\").isin([9, 10, 11]), \"Fall\")\n",
    ")\n",
    "\n",
    "# Calculate average delay per season\n",
    "avg_delay_per_season = df_spark.groupBy(\"Season\").agg(avg(\"ArrDelay\").alias(\"AvgArrDelay\"))\n",
    "display(avg_delay_per_season)\n"
   ]
  },
  {
   "cell_type": "markdown",
   "metadata": {
    "application/vnd.databricks.v1+cell": {
     "cellMetadata": {},
     "inputWidgets": {},
     "nuid": "a524911e-90a2-4524-8eb2-f0b39f4e9c07",
     "showTitle": false,
     "tableResultSettingsMap": {},
     "title": ""
    }
   },
   "source": [
    "### Step 5: Delay Distribution by Time of Day\n"
   ]
  },
  {
   "cell_type": "code",
   "execution_count": 0,
   "metadata": {
    "application/vnd.databricks.v1+cell": {
     "cellMetadata": {
      "byteLimit": 2048000,
      "rowLimit": 10000
     },
     "inputWidgets": {},
     "nuid": "0841aa18-b339-4982-99a7-31e974888e9c",
     "showTitle": false,
     "tableResultSettingsMap": {},
     "title": ""
    }
   },
   "outputs": [
    {
     "output_type": "stream",
     "name": "stdout",
     "output_type": "stream",
     "text": [
      "       DayOfWeek DepTime  ArrDelay\n0       Thursday    1829        34\n1       Thursday    1937        57\n2       Thursday    1644        80\n3       Thursday    1452        15\n4       Thursday    1323        16\n...          ...     ...       ...\n484546  Thursday    1609        27\n484547    Friday    1616        39\n484548    Monday    1617        47\n484549  Saturday    1607        26\n484550    Sunday    1608        18\n\n[484551 rows x 3 columns]\n"
     ]
    }
   ],
   "source": [
    "# Delay distribution by time of day. just day,time ,delay column is required\n",
    "delay_by_time = df[[\"DayOfWeek\", \"DepTime\", \"ArrDelay\"]]\n",
    "print(delay_by_time)\n"
   ]
  },
  {
   "cell_type": "code",
   "execution_count": 0,
   "metadata": {
    "application/vnd.databricks.v1+cell": {
     "cellMetadata": {
      "byteLimit": 2048000,
      "rowLimit": 10000
     },
     "inputWidgets": {},
     "nuid": "f78a4d91-76ce-49ed-a5ef-061ed82d9cef",
     "showTitle": false,
     "tableResultSettingsMap": {},
     "title": ""
    }
   },
   "outputs": [
    {
     "output_type": "execute_result",
     "data": {
      "text/plain": [
       "DayOfWeek            0\n",
       "Date                 0\n",
       "DepTime              0\n",
       "ArrTime              0\n",
       "CRSArrTime           0\n",
       "UniqueCarrier        0\n",
       "Airline              0\n",
       "FlightNum            0\n",
       "TailNum              0\n",
       "ActualElapsedTime    0\n",
       "CRSElapsedTime       0\n",
       "AirTime              0\n",
       "ArrDelay             0\n",
       "DepDelay             0\n",
       "Origin               0\n",
       "Org_Airport          0\n",
       "Dest                 0\n",
       "Dest_Airport         0\n",
       "Distance             0\n",
       "TaxiIn               0\n",
       "TaxiOut              0\n",
       "Cancelled            0\n",
       "CancellationCode     0\n",
       "Diverted             0\n",
       "CarrierDelay         0\n",
       "WeatherDelay         0\n",
       "NASDelay             0\n",
       "SecurityDelay        0\n",
       "LateAircraftDelay    0\n",
       "DepHour              0\n",
       "DepMinute            0\n",
       "DepDatetime          0\n",
       "Month                0\n",
       "Hour                 0\n",
       "Route                0\n",
       "dtype: int64"
      ]
     },
     "execution_count": 64,
     "metadata": {},
     "output_type": "execute_result"
    }
   ],
   "source": [
    "df.isnull().sum()\n"
   ]
  },
  {
   "cell_type": "markdown",
   "metadata": {
    "application/vnd.databricks.v1+cell": {
     "cellMetadata": {},
     "inputWidgets": {},
     "nuid": "9796faf4-d91c-470f-9f7f-146926e0e3a4",
     "showTitle": false,
     "tableResultSettingsMap": {},
     "title": ""
    }
   },
   "source": [
    "### Step 6: Save Cleaned and Preprocessed Dataset\n"
   ]
  },
  {
   "cell_type": "code",
   "execution_count": 0,
   "metadata": {
    "application/vnd.databricks.v1+cell": {
     "cellMetadata": {
      "byteLimit": 2048000,
      "rowLimit": 10000
     },
     "inputWidgets": {},
     "nuid": "3afe54ed-8bd8-45db-aa85-34d0ef7fbd93",
     "showTitle": false,
     "tableResultSettingsMap": {},
     "title": ""
    }
   },
   "outputs": [],
   "source": [
    "df.to_csv(\"/Volumes/workspace/default/airlines/Flight_delay_cleaned_new1.csv\", index=False)\n",
    "\n"
   ]
  },
  {
   "cell_type": "markdown",
   "metadata": {
    "application/vnd.databricks.v1+cell": {
     "cellMetadata": {},
     "inputWidgets": {},
     "nuid": "3b46f035-2d82-46a1-9122-476eaf9bfb6d",
     "showTitle": false,
     "tableResultSettingsMap": {},
     "title": ""
    }
   },
   "source": [
    "Further Optimization For better perfromance"
   ]
  },
  {
   "cell_type": "code",
   "execution_count": 0,
   "metadata": {
    "application/vnd.databricks.v1+cell": {
     "cellMetadata": {
      "byteLimit": 2048000,
      "rowLimit": 10000
     },
     "inputWidgets": {},
     "nuid": "e8a33dcd-53ef-41ea-8fe0-1be82693e9b4",
     "showTitle": false,
     "tableResultSettingsMap": {},
     "title": ""
    }
   },
   "outputs": [
    {
     "output_type": "stream",
     "name": "stdout",
     "output_type": "stream",
     "text": [
      "Loading: /Volumes/workspace/default/airlines/Flight_delay_cleaned_new1.csv\nLoaded dataframe shape: (484551, 35)\n---- Quick Post-cleaning Report ----\nRows: 484549, Columns: 44\nDuplicates removed: 2\nDepDatetime parse failures (NaT): 0\nSaved improved cleaned dataset to: /Volumes/workspace/default/airlines/Flight_delay_cleaned_final.csv\n"
     ]
    }
   ],
   "source": [
    "\n",
    "import os\n",
    "import pandas as pd\n",
    "import numpy as np\n",
    "\n",
    "\n",
    "input_path = \"/Volumes/workspace/default/airlines/Flight_delay_cleaned_new1.csv\"\n",
    "# final save path (Databricks project folder)\n",
    "save_path = \"/Volumes/workspace/default/airlines/Flight_delay_cleaned_final.csv\"\n",
    "# ======================================================================\n",
    "\n",
    "# 0) Load dataset (ensure df exists)\n",
    "print(f\"Loading: {input_path}\")\n",
    "df = pd.read_csv(input_path, low_memory=False)\n",
    "print(\"Loaded dataframe shape:\", df.shape)\n",
    "\n",
    "def improve_cleaned_df(df, save_path=save_path):\n",
    "    # 1) Normalize column names (strip spaces)\n",
    "    df.columns = [c.strip() for c in df.columns]\n",
    "\n",
    "    # 2) Unify departure datetime column naming\n",
    "    if 'DepDatetime' not in df.columns and 'DepDateTime' in df.columns:\n",
    "        df['DepDatetime'] = df['DepDateTime']\n",
    "\n",
    "    # 3) Combine date + hour + minute into DepDatetime if missing\n",
    "    date_cols_candidates = [c for c in df.columns if c.lower() in ('date','flightdate','depdate','fl_date')]\n",
    "    time_from_parts = False\n",
    "    if 'DepDatetime' not in df.columns:\n",
    "        if 'DepHour' in df.columns and 'DepMinute' in df.columns and date_cols_candidates:\n",
    "            date_col = date_cols_candidates[0]\n",
    "            df['DepDatetime'] = pd.to_datetime(df[date_col].astype(str).str.strip(), errors='coerce') \\\n",
    "                                + pd.to_timedelta(df['DepHour'].fillna(0).astype(int), unit='h') \\\n",
    "                                + pd.to_timedelta(df['DepMinute'].fillna(0).astype(int), unit='m')\n",
    "            time_from_parts = True\n",
    "\n",
    "    # 4) Parse DepDatetime robustly\n",
    "    if 'DepDatetime' in df.columns:\n",
    "        df['DepDatetime'] = pd.to_datetime(df['DepDatetime'], errors='coerce', utc=False)\n",
    "\n",
    "    # 5) Create time-based features (only if DepDatetime parsed)\n",
    "    if 'DepDatetime' in df.columns:\n",
    "        df['DepDate'] = df['DepDatetime'].dt.date\n",
    "        df['DepHour'] = df['DepDatetime'].dt.hour\n",
    "        df['DepMinute'] = df['DepDatetime'].dt.minute\n",
    "        df['Month'] = df['DepDatetime'].dt.month\n",
    "        df['DayOfWeek'] = df['DepDatetime'].dt.dayofweek   # monday=0\n",
    "        df['DayName'] = df['DepDatetime'].dt.day_name()\n",
    "    else:\n",
    "        if 'Month' in df.columns:\n",
    "            df['Month'] = pd.to_numeric(df['Month'], errors='coerce').astype('Int64')\n",
    "\n",
    "    # 6) Create Route (origin-dest) if not present\n",
    "    if 'Route' not in df.columns:\n",
    "        if 'ORIGIN' in df.columns and 'DEST' in df.columns:\n",
    "            df['Route'] = df['ORIGIN'].astype(str).str.upper().str.strip() + \"-\" + df['DEST'].astype(str).str.upper().str.strip()\n",
    "        elif 'Origin' in df.columns and 'Dest' in df.columns:\n",
    "            df['Route'] = df['Origin'].astype(str).str.upper().str.strip() + \"-\" + df['Dest'].astype(str).str.upper().str.strip()\n",
    "\n",
    "    # 7) Standardize numeric delay-related columns\n",
    "    numeric_delay_cols = [c for c in df.columns if any(k in c.lower() for k in ['delay','minutes','mins'])]\n",
    "    for c in ['DepDelay','ArrDelay','CarrierDelay','WeatherDelay','NASDelay','SecurityDelay','LateAircraftDelay']:\n",
    "        if c in df.columns and c not in numeric_delay_cols:\n",
    "            numeric_delay_cols.append(c)\n",
    "    numeric_delay_cols = sorted(set(numeric_delay_cols))\n",
    "    for col in numeric_delay_cols:\n",
    "        df[col] = pd.to_numeric(df[col], errors='coerce')\n",
    "\n",
    "    # 8) Mark and fill missing delays (keep audit flags)\n",
    "    for col in numeric_delay_cols:\n",
    "        miss_flag = f\"{col}_was_missing\"\n",
    "        df[miss_flag] = df[col].isna()\n",
    "        df[col] = df[col].fillna(0)\n",
    "\n",
    "    # 9) Create/normalize cancellation boolean\n",
    "    cancel_cols = [c for c in df.columns if 'cancel' in c.lower()]\n",
    "    if not cancel_cols:\n",
    "        if 'CancellationCode' in df.columns:\n",
    "            df['Cancelled'] = df['CancellationCode'].notna()\n",
    "    else:\n",
    "        col = cancel_cols[0]\n",
    "        # Attempt to coerce textual flags to boolean sensibly\n",
    "        if df[col].dtype == object:\n",
    "            s = df[col].astype(str).str.lower().str.strip()\n",
    "            df['Cancelled'] = s.isin(['true','1','yes','y'])\n",
    "        else:\n",
    "            df['Cancelled'] = df[col].astype(bool)\n",
    "\n",
    "    # 10) Remove exact duplicate rows\n",
    "    n_dup_before = df.duplicated().sum()\n",
    "    if n_dup_before > 0:\n",
    "        df = df.drop_duplicates().reset_index(drop=True)\n",
    "\n",
    "    # 11) Downcast numeric dtypes for memory savings\n",
    "    int_cols = df.select_dtypes(include=['int64','Int64']).columns.tolist()\n",
    "    float_cols = df.select_dtypes(include=['float64']).columns.tolist()\n",
    "    for c in int_cols:\n",
    "        try:\n",
    "            df[c] = pd.to_numeric(df[c], downcast='integer')\n",
    "        except Exception:\n",
    "            pass\n",
    "    for c in float_cols:\n",
    "        try:\n",
    "            df[c] = pd.to_numeric(df[c], downcast='float')\n",
    "        except Exception:\n",
    "            pass\n",
    "\n",
    "    # 12) Quick validation report\n",
    "    print(\"---- Quick Post-cleaning Report ----\")\n",
    "    print(f\"Rows: {df.shape[0]}, Columns: {df.shape[1]}\")\n",
    "    print(f\"Duplicates removed: {n_dup_before}\")\n",
    "    if 'DepDatetime' in df.columns:\n",
    "        n_bad_dates = df['DepDatetime'].isna().sum()\n",
    "        print(f\"DepDatetime parse failures (NaT): {n_bad_dates}\")\n",
    "        if n_bad_dates > 0:\n",
    "            sample_cols = [c for c in ['DepDate','DepHour','ORIGIN','DEST','DepDatetime'] if c in df.columns]\n",
    "            print(\" -> Preview rows with bad DepDatetime:\")\n",
    "            print(df.loc[df['DepDatetime'].isna()].head(5)[sample_cols])\n",
    "\n",
    "    # 13) Save final cleaned CSV (ensure folder exists)\n",
    "    out_dir = os.path.dirname(save_path)\n",
    "    if out_dir and not os.path.exists(out_dir):\n",
    "        try:\n",
    "            os.makedirs(out_dir, exist_ok=True)\n",
    "            print(f\"Created directory: {out_dir}\")\n",
    "        except Exception as e:\n",
    "            print(\"Warning: could not create directory:\", e)\n",
    "\n",
    "    df.to_csv(save_path, index=False)\n",
    "    print(f\"Saved improved cleaned dataset to: {save_path}\")\n",
    "\n",
    "    return df\n",
    "\n",
    "# Run the improvement function and overwrite df variable\n",
    "df = improve_cleaned_df(df, save_path=save_path)\n"
   ]
  }
 ],
 "metadata": {
  "application/vnd.databricks.v1+notebook": {
   "computePreferences": null,
   "dashboards": [],
   "environmentMetadata": {
    "base_environment": "",
    "environment_version": "4"
   },
   "inputWidgetPreferences": null,
   "language": "python",
   "notebookMetadata": {
    "pythonIndentUnit": 4
   },
   "notebookName": "Week_1_&_2_Final",
   "widgets": {}
  },
  "language_info": {
   "name": "python"
  }
 },
 "nbformat": 4,
 "nbformat_minor": 0
}
