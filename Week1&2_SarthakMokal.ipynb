{
 "cells": [
  {
   "cell_type": "markdown",
   "metadata": {
    "application/vnd.databricks.v1+cell": {
     "cellMetadata": {},
     "inputWidgets": {},
     "nuid": "0ef1e6ac-f612-49cd-9dca-6443dd4e4338",
     "showTitle": false,
     "tableResultSettingsMap": {},
     "title": ""
    }
   },
   "source": [
    "# Week 1 — Data Cleaning and EDA\n",
    "###  **Intern:** Sarthak Mokal , sarthakmokal198@gamil.com  \n",
    "### **Project:** AirFly Insights — Infosys Springboard  \n",
    "\n",
    "### Objective: Load the raw CSV, perform EDA, remove duplicates, handle missing values simply, derive basic features, save a cleaned CSV, and compute KPIs for Week 1.\n"
   ]
  },
  {
   "cell_type": "code",
   "execution_count": 0,
   "metadata": {
    "application/vnd.databricks.v1+cell": {
     "cellMetadata": {
      "byteLimit": 2048000,
      "rowLimit": 10000
     },
     "inputWidgets": {},
     "nuid": "b483894c-d2ae-4f95-b371-e8f58c4af0fd",
     "showTitle": false,
     "tableResultSettingsMap": {},
     "title": ""
    }
   },
   "outputs": [
    {
     "output_type": "stream",
     "name": "stdout",
     "output_type": "stream",
     "text": [
      "Data loaded.\nOriginal shape: (484551, 29)\n"
     ]
    },
    {
     "output_type": "display_data",
     "data": {
      "text/html": [
       "<style scoped>\n",
       "  .table-result-container {\n",
       "    max-height: 300px;\n",
       "    overflow: auto;\n",
       "  }\n",
       "  table, th, td {\n",
       "    border: 1px solid black;\n",
       "    border-collapse: collapse;\n",
       "  }\n",
       "  th, td {\n",
       "    padding: 5px;\n",
       "  }\n",
       "  th {\n",
       "    text-align: left;\n",
       "  }\n",
       "</style><div class='table-result-container'><table class='table-result'><thead style='background-color: white'><tr><th>DayOfWeek</th><th>Date</th><th>DepTime</th><th>ArrTime</th><th>CRSArrTime</th><th>UniqueCarrier</th><th>Airline</th><th>FlightNum</th><th>TailNum</th><th>ActualElapsedTime</th><th>CRSElapsedTime</th><th>AirTime</th><th>ArrDelay</th><th>DepDelay</th><th>Origin</th><th>Org_Airport</th><th>Dest</th><th>Dest_Airport</th><th>Distance</th><th>TaxiIn</th><th>TaxiOut</th><th>Cancelled</th><th>CancellationCode</th><th>Diverted</th><th>CarrierDelay</th><th>WeatherDelay</th><th>NASDelay</th><th>SecurityDelay</th><th>LateAircraftDelay</th></tr></thead><tbody><tr><td>4</td><td>03-01-2019</td><td>1829</td><td>1959</td><td>1925</td><td>WN</td><td>Southwest Airlines Co.</td><td>3920</td><td>N464WN</td><td>90</td><td>90</td><td>77</td><td>34</td><td>34</td><td>IND</td><td>Indianapolis International Airport</td><td>BWI</td><td>Baltimore-Washington International Airport</td><td>515</td><td>3</td><td>10</td><td>0</td><td>N</td><td>0</td><td>2</td><td>0</td><td>0</td><td>0</td><td>32</td></tr><tr><td>4</td><td>03-01-2019</td><td>1937</td><td>2037</td><td>1940</td><td>WN</td><td>Southwest Airlines Co.</td><td>509</td><td>N763SW</td><td>240</td><td>250</td><td>230</td><td>57</td><td>67</td><td>IND</td><td>Indianapolis International Airport</td><td>LAS</td><td>McCarran International Airport</td><td>1591</td><td>3</td><td>7</td><td>0</td><td>N</td><td>0</td><td>10</td><td>0</td><td>0</td><td>0</td><td>47</td></tr><tr><td>4</td><td>03-01-2019</td><td>1644</td><td>1845</td><td>1725</td><td>WN</td><td>Southwest Airlines Co.</td><td>1333</td><td>N334SW</td><td>121</td><td>135</td><td>107</td><td>80</td><td>94</td><td>IND</td><td>Indianapolis International Airport</td><td>MCO</td><td>Orlando International Airport</td><td>828</td><td>6</td><td>8</td><td>0</td><td>N</td><td>0</td><td>8</td><td>0</td><td>0</td><td>0</td><td>72</td></tr><tr><td>4</td><td>03-01-2019</td><td>1452</td><td>1640</td><td>1625</td><td>WN</td><td>Southwest Airlines Co.</td><td>675</td><td>N286WN</td><td>228</td><td>240</td><td>213</td><td>15</td><td>27</td><td>IND</td><td>Indianapolis International Airport</td><td>PHX</td><td>Phoenix Sky Harbor International Airport</td><td>1489</td><td>7</td><td>8</td><td>0</td><td>N</td><td>0</td><td>3</td><td>0</td><td>0</td><td>0</td><td>12</td></tr><tr><td>4</td><td>03-01-2019</td><td>1323</td><td>1526</td><td>1510</td><td>WN</td><td>Southwest Airlines Co.</td><td>4</td><td>N674AA</td><td>123</td><td>135</td><td>110</td><td>16</td><td>28</td><td>IND</td><td>Indianapolis International Airport</td><td>TPA</td><td>Tampa International Airport</td><td>838</td><td>4</td><td>9</td><td>0</td><td>N</td><td>0</td><td>0</td><td>0</td><td>0</td><td>0</td><td>16</td></tr></tbody></table></div>"
      ]
     },
     "metadata": {
      "application/vnd.databricks.v1+output": {
       "addedWidgets": {},
       "aggData": [],
       "aggError": "",
       "aggOverflow": false,
       "aggSchema": [],
       "aggSeriesLimitReached": false,
       "aggType": "",
       "arguments": {},
       "columnCustomDisplayInfos": {},
       "data": [
        [
         4,
         "03-01-2019",
         1829,
         1959,
         1925,
         "WN",
         "Southwest Airlines Co.",
         3920,
         "N464WN",
         90,
         90,
         77,
         34,
         34,
         "IND",
         "Indianapolis International Airport",
         "BWI",
         "Baltimore-Washington International Airport",
         515,
         3,
         10,
         0,
         "N",
         0,
         2,
         0,
         0,
         0,
         32
        ],
        [
         4,
         "03-01-2019",
         1937,
         2037,
         1940,
         "WN",
         "Southwest Airlines Co.",
         509,
         "N763SW",
         240,
         250,
         230,
         57,
         67,
         "IND",
         "Indianapolis International Airport",
         "LAS",
         "McCarran International Airport",
         1591,
         3,
         7,
         0,
         "N",
         0,
         10,
         0,
         0,
         0,
         47
        ],
        [
         4,
         "03-01-2019",
         1644,
         1845,
         1725,
         "WN",
         "Southwest Airlines Co.",
         1333,
         "N334SW",
         121,
         135,
         107,
         80,
         94,
         "IND",
         "Indianapolis International Airport",
         "MCO",
         "Orlando International Airport",
         828,
         6,
         8,
         0,
         "N",
         0,
         8,
         0,
         0,
         0,
         72
        ],
        [
         4,
         "03-01-2019",
         1452,
         1640,
         1625,
         "WN",
         "Southwest Airlines Co.",
         675,
         "N286WN",
         228,
         240,
         213,
         15,
         27,
         "IND",
         "Indianapolis International Airport",
         "PHX",
         "Phoenix Sky Harbor International Airport",
         1489,
         7,
         8,
         0,
         "N",
         0,
         3,
         0,
         0,
         0,
         12
        ],
        [
         4,
         "03-01-2019",
         1323,
         1526,
         1510,
         "WN",
         "Southwest Airlines Co.",
         4,
         "N674AA",
         123,
         135,
         110,
         16,
         28,
         "IND",
         "Indianapolis International Airport",
         "TPA",
         "Tampa International Airport",
         838,
         4,
         9,
         0,
         "N",
         0,
         0,
         0,
         0,
         0,
         16
        ]
       ],
       "datasetInfos": [],
       "dbfsResultPath": null,
       "isJsonSchema": true,
       "metadata": {},
       "overflow": false,
       "plotOptions": {
        "customPlotOptions": {},
        "displayType": "table",
        "pivotAggregation": null,
        "pivotColumns": null,
        "xColumns": null,
        "yColumns": null
       },
       "removedWidgets": [],
       "schema": [
        {
         "metadata": "{}",
         "name": "DayOfWeek",
         "type": "\"long\""
        },
        {
         "metadata": "{}",
         "name": "Date",
         "type": "\"string\""
        },
        {
         "metadata": "{}",
         "name": "DepTime",
         "type": "\"long\""
        },
        {
         "metadata": "{}",
         "name": "ArrTime",
         "type": "\"long\""
        },
        {
         "metadata": "{}",
         "name": "CRSArrTime",
         "type": "\"long\""
        },
        {
         "metadata": "{}",
         "name": "UniqueCarrier",
         "type": "\"string\""
        },
        {
         "metadata": "{}",
         "name": "Airline",
         "type": "\"string\""
        },
        {
         "metadata": "{}",
         "name": "FlightNum",
         "type": "\"long\""
        },
        {
         "metadata": "{}",
         "name": "TailNum",
         "type": "\"string\""
        },
        {
         "metadata": "{}",
         "name": "ActualElapsedTime",
         "type": "\"long\""
        },
        {
         "metadata": "{}",
         "name": "CRSElapsedTime",
         "type": "\"long\""
        },
        {
         "metadata": "{}",
         "name": "AirTime",
         "type": "\"long\""
        },
        {
         "metadata": "{}",
         "name": "ArrDelay",
         "type": "\"long\""
        },
        {
         "metadata": "{}",
         "name": "DepDelay",
         "type": "\"long\""
        },
        {
         "metadata": "{}",
         "name": "Origin",
         "type": "\"string\""
        },
        {
         "metadata": "{}",
         "name": "Org_Airport",
         "type": "\"string\""
        },
        {
         "metadata": "{}",
         "name": "Dest",
         "type": "\"string\""
        },
        {
         "metadata": "{}",
         "name": "Dest_Airport",
         "type": "\"string\""
        },
        {
         "metadata": "{}",
         "name": "Distance",
         "type": "\"long\""
        },
        {
         "metadata": "{}",
         "name": "TaxiIn",
         "type": "\"long\""
        },
        {
         "metadata": "{}",
         "name": "TaxiOut",
         "type": "\"long\""
        },
        {
         "metadata": "{}",
         "name": "Cancelled",
         "type": "\"long\""
        },
        {
         "metadata": "{}",
         "name": "CancellationCode",
         "type": "\"string\""
        },
        {
         "metadata": "{}",
         "name": "Diverted",
         "type": "\"long\""
        },
        {
         "metadata": "{}",
         "name": "CarrierDelay",
         "type": "\"long\""
        },
        {
         "metadata": "{}",
         "name": "WeatherDelay",
         "type": "\"long\""
        },
        {
         "metadata": "{}",
         "name": "NASDelay",
         "type": "\"long\""
        },
        {
         "metadata": "{}",
         "name": "SecurityDelay",
         "type": "\"long\""
        },
        {
         "metadata": "{}",
         "name": "LateAircraftDelay",
         "type": "\"long\""
        }
       ],
       "type": "table"
      }
     },
     "output_type": "display_data"
    }
   ],
   "source": [
    "import pandas as pd\n",
    "import numpy as np\n",
    "import time\n",
    "\n",
    "# Load dataset \n",
    "df = pd.read_csv(\"/Volumes/workspace/default/airlines/Flight_delay.csv\")\n",
    "\n",
    "print(\"Data loaded.\")\n",
    "print(\"Original shape:\", df.shape)\n",
    "display(df.head())\n"
   ]
  },
  {
   "cell_type": "markdown",
   "metadata": {
    "application/vnd.databricks.v1+cell": {
     "cellMetadata": {},
     "inputWidgets": {},
     "nuid": "6de0413b-d0fa-4d2d-a2e4-d3f444fac8d3",
     "showTitle": false,
     "tableResultSettingsMap": {},
     "title": ""
    }
   },
   "source": [
    "## Quick EDA\n",
    "We will check: dtypes, missing counts, duplicate rows, and basic numeric summary for delay columns.\n"
   ]
  },
  {
   "cell_type": "code",
   "execution_count": 0,
   "metadata": {
    "application/vnd.databricks.v1+cell": {
     "cellMetadata": {
      "byteLimit": 2048000,
      "rowLimit": 10000
     },
     "inputWidgets": {},
     "nuid": "57d2de56-832a-45a9-b27c-3d684ea8a90f",
     "showTitle": false,
     "tableResultSettingsMap": {},
     "title": ""
    }
   },
   "outputs": [
    {
     "output_type": "stream",
     "name": "stdout",
     "output_type": "stream",
     "text": [
      "Dtypes:\n"
     ]
    },
    {
     "output_type": "display_data",
     "data": {
      "text/plain": [
       "DayOfWeek             int64\n",
       "Date                 object\n",
       "DepTime               int64\n",
       "ArrTime               int64\n",
       "CRSArrTime            int64\n",
       "UniqueCarrier        object\n",
       "Airline              object\n",
       "FlightNum             int64\n",
       "TailNum              object\n",
       "ActualElapsedTime     int64\n",
       "CRSElapsedTime        int64\n",
       "AirTime               int64\n",
       "ArrDelay              int64\n",
       "DepDelay              int64\n",
       "Origin               object\n",
       "Org_Airport          object\n",
       "Dest                 object\n",
       "Dest_Airport         object\n",
       "Distance              int64\n",
       "TaxiIn                int64\n",
       "TaxiOut               int64\n",
       "Cancelled             int64\n",
       "CancellationCode     object\n",
       "Diverted              int64\n",
       "CarrierDelay          int64\n",
       "WeatherDelay          int64\n",
       "NASDelay              int64\n",
       "SecurityDelay         int64\n",
       "LateAircraftDelay     int64\n",
       "dtype: object"
      ]
     },
     "metadata": {},
     "output_type": "display_data"
    },
    {
     "output_type": "stream",
     "name": "stdout",
     "output_type": "stream",
     "text": [
      "\nMissing values per column (top 20):\n"
     ]
    },
    {
     "output_type": "display_data",
     "data": {
      "text/plain": [
       "Dest_Airport        1479\n",
       "Org_Airport         1177\n",
       "DayOfWeek              0\n",
       "SecurityDelay          0\n",
       "NASDelay               0\n",
       "WeatherDelay           0\n",
       "CarrierDelay           0\n",
       "Diverted               0\n",
       "CancellationCode       0\n",
       "Cancelled              0\n",
       "TaxiOut                0\n",
       "TaxiIn                 0\n",
       "Distance               0\n",
       "Dest                   0\n",
       "Origin                 0\n",
       "Date                   0\n",
       "DepDelay               0\n",
       "ArrDelay               0\n",
       "AirTime                0\n",
       "CRSElapsedTime         0\n",
       "dtype: int64"
      ]
     },
     "metadata": {},
     "output_type": "display_data"
    },
    {
     "output_type": "stream",
     "name": "stdout",
     "output_type": "stream",
     "text": [
      "\nExact duplicate rows: 2\n\nDelay columns summary:\n"
     ]
    },
    {
     "output_type": "display_data",
     "data": {
      "text/html": [
       "<style scoped>\n",
       "  .table-result-container {\n",
       "    max-height: 300px;\n",
       "    overflow: auto;\n",
       "  }\n",
       "  table, th, td {\n",
       "    border: 1px solid black;\n",
       "    border-collapse: collapse;\n",
       "  }\n",
       "  th, td {\n",
       "    padding: 5px;\n",
       "  }\n",
       "  th {\n",
       "    text-align: left;\n",
       "  }\n",
       "</style><div class='table-result-container'><table class='table-result'><thead style='background-color: white'><tr><th>count</th><th>mean</th><th>std</th><th>min</th><th>25%</th><th>50%</th><th>75%</th><th>max</th></tr></thead><tbody><tr><td>484551.0</td><td>60.90776409500754</td><td>56.97542038382813</td><td>15.0</td><td>25.0</td><td>42.0</td><td>76.0</td><td>1707.0</td></tr><tr><td>484551.0</td><td>57.49808585680351</td><td>55.99101236850621</td><td>6.0</td><td>23.0</td><td>40.0</td><td>72.0</td><td>1710.0</td></tr><tr><td>484551.0</td><td>17.41943985256454</td><td>39.41789257389614</td><td>0.0</td><td>0.0</td><td>2.0</td><td>19.0</td><td>1707.0</td></tr><tr><td>484551.0</td><td>3.1532841744212683</td><td>19.503656630515582</td><td>0.0</td><td>0.0</td><td>0.0</td><td>0.0</td><td>1148.0</td></tr><tr><td>484551.0</td><td>13.599420907190368</td><td>31.45465484663617</td><td>0.0</td><td>0.0</td><td>1.0</td><td>13.0</td><td>1357.0</td></tr><tr><td>484551.0</td><td>0.08203264465453584</td><td>1.8847739628803888</td><td>0.0</td><td>0.0</td><td>0.0</td><td>0.0</td><td>392.0</td></tr><tr><td>484551.0</td><td>26.653586516176833</td><td>40.53599410662208</td><td>0.0</td><td>0.0</td><td>13.0</td><td>36.0</td><td>1254.0</td></tr></tbody></table></div>"
      ]
     },
     "metadata": {
      "application/vnd.databricks.v1+output": {
       "addedWidgets": {},
       "aggData": [],
       "aggError": "",
       "aggOverflow": false,
       "aggSchema": [],
       "aggSeriesLimitReached": false,
       "aggType": "",
       "arguments": {},
       "columnCustomDisplayInfos": {},
       "data": [
        [
         484551.0,
         60.90776409500754,
         56.97542038382813,
         15.0,
         25.0,
         42.0,
         76.0,
         1707.0
        ],
        [
         484551.0,
         57.49808585680351,
         55.99101236850621,
         6.0,
         23.0,
         40.0,
         72.0,
         1710.0
        ],
        [
         484551.0,
         17.41943985256454,
         39.41789257389614,
         0.0,
         0.0,
         2.0,
         19.0,
         1707.0
        ],
        [
         484551.0,
         3.1532841744212683,
         19.503656630515582,
         0.0,
         0.0,
         0.0,
         0.0,
         1148.0
        ],
        [
         484551.0,
         13.599420907190368,
         31.45465484663617,
         0.0,
         0.0,
         1.0,
         13.0,
         1357.0
        ],
        [
         484551.0,
         0.08203264465453584,
         1.8847739628803888,
         0.0,
         0.0,
         0.0,
         0.0,
         392.0
        ],
        [
         484551.0,
         26.653586516176833,
         40.53599410662208,
         0.0,
         0.0,
         13.0,
         36.0,
         1254.0
        ]
       ],
       "datasetInfos": [],
       "dbfsResultPath": null,
       "isJsonSchema": true,
       "metadata": {},
       "overflow": false,
       "plotOptions": {
        "customPlotOptions": {},
        "displayType": "table",
        "pivotAggregation": null,
        "pivotColumns": null,
        "xColumns": null,
        "yColumns": null
       },
       "removedWidgets": [],
       "schema": [
        {
         "metadata": "{}",
         "name": "count",
         "type": "\"double\""
        },
        {
         "metadata": "{}",
         "name": "mean",
         "type": "\"double\""
        },
        {
         "metadata": "{}",
         "name": "std",
         "type": "\"double\""
        },
        {
         "metadata": "{}",
         "name": "min",
         "type": "\"double\""
        },
        {
         "metadata": "{}",
         "name": "25%",
         "type": "\"double\""
        },
        {
         "metadata": "{}",
         "name": "50%",
         "type": "\"double\""
        },
        {
         "metadata": "{}",
         "name": "75%",
         "type": "\"double\""
        },
        {
         "metadata": "{}",
         "name": "max",
         "type": "\"double\""
        }
       ],
       "type": "table"
      }
     },
     "output_type": "display_data"
    }
   ],
   "source": [
    "# basic info\n",
    "print(\"Dtypes:\")\n",
    "display(df.dtypes)\n",
    "\n",
    "# missing values\n",
    "print(\"\\nMissing values per column (top 20):\")\n",
    "display(df.isnull().sum().sort_values(ascending=False).head(20))\n",
    "\n",
    "# duplicates\n",
    "print(\"\\nExact duplicate rows:\", df.duplicated().sum())\n",
    "\n",
    "# numeric summary for delay columns (if present)\n",
    "delay_cols = [\"ArrDelay\",\"DepDelay\",\"CarrierDelay\",\"WeatherDelay\",\"NASDelay\",\"SecurityDelay\",\"LateAircraftDelay\"]\n",
    "present_delay_cols = [c for c in delay_cols if c in df.columns]\n",
    "if present_delay_cols:\n",
    "    print(\"\\nDelay columns summary:\")\n",
    "    display(df[present_delay_cols].describe().T)\n",
    "else:\n",
    "    print(\"\\nNo standard delay columns detected.\")\n"
   ]
  },
  {
   "cell_type": "markdown",
   "metadata": {
    "application/vnd.databricks.v1+cell": {
     "cellMetadata": {},
     "inputWidgets": {},
     "nuid": "7b646cea-c601-4c10-a912-52d68e9a5d9d",
     "showTitle": false,
     "tableResultSettingsMap": {},
     "title": ""
    }
   },
   "source": [
    "## Cleaning plan (simple & safe)\n",
    "1. Drop exact duplicate rows.  \n",
    "2. For delay numeric columns: fill missing with 0.  \n",
    "3. For categorical columns (Origin, Dest, TailNum, CancellationCode, UniqueCarrier): fill missing with 'Unknown'.  \n",
    "4. Convert Date to datetime; extract Month & DayOfWeek.  \n",
    "5. Extract Hour from DepTime if present (HHMM).  \n",
    "6. Create Route = Origin-Dest.  \n",
    "7. Save cleaned CSV as `Flight_delay_cleaned.csv`.  \n",
    "8. Compute KPIs (before & after numbers).\n"
   ]
  },
  {
   "cell_type": "markdown",
   "metadata": {
    "application/vnd.databricks.v1+cell": {
     "cellMetadata": {},
     "inputWidgets": {},
     "nuid": "00d84458-de73-4473-97be-0166fb1c0f89",
     "showTitle": false,
     "tableResultSettingsMap": {},
     "title": ""
    }
   },
   "source": [
    "###  Save KPI baseline (before cleaning)"
   ]
  },
  {
   "cell_type": "code",
   "execution_count": 0,
   "metadata": {
    "application/vnd.databricks.v1+cell": {
     "cellMetadata": {
      "byteLimit": 2048000,
      "rowLimit": 10000
     },
     "inputWidgets": {},
     "nuid": "fd47f912-75f4-4d0b-a2b6-98ca2e412511",
     "showTitle": false,
     "tableResultSettingsMap": {},
     "title": ""
    }
   },
   "outputs": [
    {
     "output_type": "stream",
     "name": "stdout",
     "output_type": "stream",
     "text": [
      "KPI baseline:\nrows_before: 484551\nnulls_before: 2656\ndup_before: 2\nneg_arrival_before: 0\n"
     ]
    }
   ],
   "source": [
    "# KPI baseline before cleaning\n",
    "kpi = {}\n",
    "kpi['rows_before'] = len(df)\n",
    "kpi['nulls_before'] = int(df.isnull().sum().sum())\n",
    "kpi['dup_before'] = int(df.duplicated().sum())\n",
    "# simple data quality counts before\n",
    "kpi['neg_arrival_before'] = int((df['ArrDelay'] < 0).sum()) if 'ArrDelay' in df.columns else None\n",
    "\n",
    "# print baseline\n",
    "print(\"KPI baseline:\")\n",
    "for k,v in kpi.items():\n",
    "    print(f\"{k}: {v}\")\n"
   ]
  },
  {
   "cell_type": "markdown",
   "metadata": {
    "application/vnd.databricks.v1+cell": {
     "cellMetadata": {},
     "inputWidgets": {},
     "nuid": "3b27c584-fbb4-4a47-9115-fe6aaeec33c9",
     "showTitle": false,
     "tableResultSettingsMap": {},
     "title": ""
    }
   },
   "source": [
    "### Remove duplicates & fill delays"
   ]
  },
  {
   "cell_type": "code",
   "execution_count": 0,
   "metadata": {
    "application/vnd.databricks.v1+cell": {
     "cellMetadata": {
      "byteLimit": 2048000,
      "rowLimit": 10000
     },
     "inputWidgets": {},
     "nuid": "741485a3-509b-42a0-a49d-6966fdaedd9a",
     "showTitle": false,
     "tableResultSettingsMap": {},
     "title": ""
    }
   },
   "outputs": [
    {
     "output_type": "stream",
     "name": "stdout",
     "output_type": "stream",
     "text": [
      "Cleaning steps applied (duplicates removed, simple fills).\n"
     ]
    }
   ],
   "source": [
    "start_time = time.time()\n",
    "\n",
    "# 1) drop exact duplicates\n",
    "df = df.drop_duplicates()\n",
    "\n",
    "# 2) fill delay numeric columns with 0\n",
    "for c in present_delay_cols:\n",
    "    df[c] = pd.to_numeric(df[c], errors=\"coerce\").fillna(0)\n",
    "\n",
    "# 3) fill categorical columns with 'Unknown'\n",
    "for c in [\"Origin\",\"Dest\",\"TailNum\",\"CancellationCode\",\"UniqueCarrier\",\"Airline\"]:\n",
    "    if c in df.columns:\n",
    "        df[c] = df[c].fillna(\"Unknown\")\n",
    "\n",
    "print(\"Cleaning steps applied (duplicates removed, simple fills).\")\n"
   ]
  },
  {
   "cell_type": "code",
   "execution_count": 0,
   "metadata": {
    "application/vnd.databricks.v1+cell": {
     "cellMetadata": {
      "byteLimit": 2048000,
      "rowLimit": 10000
     },
     "inputWidgets": {},
     "nuid": "871a9859-dfd2-43ec-832d-4645458e1e95",
     "showTitle": false,
     "tableResultSettingsMap": {},
     "title": ""
    }
   },
   "outputs": [
    {
     "output_type": "stream",
     "name": "stdout",
     "output_type": "stream",
     "text": [
      "Columns present: ['Org_Airport', 'Dest', 'Dest_Airport']\nFilled airport/categorical nulls with 'Unknown' where applicable.\n"
     ]
    }
   ],
   "source": [
    "\n",
    "\n",
    "# 1) check what airport-name columns exist (helps if column name variants exist)\n",
    "print(\"Columns present:\", [c for c in df.columns if \"Org\" in c or \"Dest\" in c or \"Airport\" in c][:30])\n",
    "\n",
    "# 2) Normalize whitespace & case for airport columns if they exist\n",
    "for col in [\"Org_Airport\", \"Dest_Airport\", \"Origin\", \"Dest\"]:\n",
    "    if col in df.columns:\n",
    "        # strip whitespace and replace empty strings with NaN\n",
    "        df[col] = df[col].astype(str).str.strip().replace({\"\": pd.NA, \"nan\": pd.NA})\n",
    "\n",
    "# 3) Fill common categorical columns with 'Unknown' \n",
    "for c in [\"Org_Airport\", \"Dest_Airport\", \"Origin\", \"Dest\", \"TailNum\", \"CancellationCode\"]:\n",
    "    if c in df.columns:\n",
    "        df[c] = df[c].fillna(\"Unknown\")\n",
    "\n",
    "# optional:\n",
    "for c in [\"Org_Airport\", \"Dest_Airport\"]:\n",
    "    if c in df.columns:\n",
    "        df[c + \"_was_missing\"] = (df[c] == \"Unknown\").astype(\"int8\")\n",
    "\n",
    "print(\"Filled airport/categorical nulls with 'Unknown' where applicable.\")\n"
   ]
  },
  {
   "cell_type": "code",
   "execution_count": 0,
   "metadata": {
    "application/vnd.databricks.v1+cell": {
     "cellMetadata": {
      "byteLimit": 2048000,
      "rowLimit": 10000
     },
     "inputWidgets": {},
     "nuid": "a65f8eec-f0cf-4ee2-9d71-9724299a76ef",
     "showTitle": false,
     "tableResultSettingsMap": {},
     "title": ""
    }
   },
   "outputs": [
    {
     "output_type": "stream",
     "name": "stdout",
     "output_type": "stream",
     "text": [
      "Rows before drop: 484549\nRows after drop: 484549\n"
     ]
    }
   ],
   "source": [
    "# — drop rows with nulls in critical columns\n",
    "critical = [c for c in [\"Date\",\"Origin\",\"Dest\"] if c in df.columns]\n",
    "print(\"Rows before drop:\", len(df))\n",
    "df = df.dropna(subset=critical)\n",
    "print(\"Rows after drop:\", len(df))"
   ]
  },
  {
   "cell_type": "markdown",
   "metadata": {
    "application/vnd.databricks.v1+cell": {
     "cellMetadata": {},
     "inputWidgets": {},
     "nuid": "82675cc0-8954-4974-8d4c-7a907f37f111",
     "showTitle": false,
     "tableResultSettingsMap": {},
     "title": ""
    }
   },
   "source": [
    "### Date/time handling & features"
   ]
  },
  {
   "cell_type": "code",
   "execution_count": 0,
   "metadata": {
    "application/vnd.databricks.v1+cell": {
     "cellMetadata": {
      "byteLimit": 2048000,
      "rowLimit": 10000
     },
     "inputWidgets": {},
     "nuid": "01773f4e-0e1f-47db-8105-e6079120920f",
     "showTitle": false,
     "tableResultSettingsMap": {},
     "title": ""
    }
   },
   "outputs": [
    {
     "output_type": "stream",
     "name": "stderr",
     "output_type": "stream",
     "text": [
      "/home/spark-c456debb-498b-4e63-8b1e-4a/.ipykernel/2462/command-4681392377714679-806502081:3: UserWarning: Parsing dates in DD/MM/YYYY format when dayfirst=False (the default) was specified. This may lead to inconsistently parsed dates! Specify a format to ensure consistent parsing.\n  df[\"Date\"] = pd.to_datetime(df[\"Date\"], errors=\"coerce\")\n"
     ]
    },
    {
     "output_type": "stream",
     "name": "stdout",
     "output_type": "stream",
     "text": [
      "Feature engineering done (Month, DayOfWeek, Hour, Route where possible).\n"
     ]
    }
   ],
   "source": [
    "# Date -> Month, DayOfWeek\n",
    "if \"Date\" in df.columns:\n",
    "    df[\"Date\"] = pd.to_datetime(df[\"Date\"], errors=\"coerce\")\n",
    "    df[\"Month\"] = df[\"Date\"].dt.month\n",
    "    df[\"DayOfWeek\"] = df[\"Date\"].dt.day_name()\n",
    "\n",
    "# DepTime -> Hour (simple HHMM extraction)\n",
    "if \"DepTime\" in df.columns:\n",
    "    try:\n",
    "        s = df[\"DepTime\"].fillna(0).astype(int).astype(str).str.zfill(4)\n",
    "        df[\"Hour\"] = s.str[:2].astype(int)\n",
    "    except Exception:\n",
    "        pass\n",
    "\n",
    "# Route\n",
    "if \"Origin\" in df.columns and \"Dest\" in df.columns:\n",
    "    df[\"Route\"] = df[\"Origin\"].astype(str) + \"-\" + df[\"Dest\"].astype(str)\n",
    "\n",
    "print(\"Feature engineering done (Month, DayOfWeek, Hour, Route where possible).\")\n"
   ]
  },
  {
   "cell_type": "markdown",
   "metadata": {
    "application/vnd.databricks.v1+cell": {
     "cellMetadata": {},
     "inputWidgets": {},
     "nuid": "004eddc2-697e-4b59-9c9a-85fd1d25999f",
     "showTitle": false,
     "tableResultSettingsMap": {},
     "title": ""
    }
   },
   "source": [
    "### Extra simple exploration"
   ]
  },
  {
   "cell_type": "code",
   "execution_count": 0,
   "metadata": {
    "application/vnd.databricks.v1+cell": {
     "cellMetadata": {
      "byteLimit": 2048000,
      "rowLimit": 10000
     },
     "inputWidgets": {},
     "nuid": "f11a1293-b89b-4f7e-a023-a503360fba0a",
     "showTitle": false,
     "tableResultSettingsMap": {},
     "title": ""
    }
   },
   "outputs": [
    {
     "output_type": "stream",
     "name": "stdout",
     "output_type": "stream",
     "text": [
      "Top airlines by count:\n"
     ]
    },
    {
     "output_type": "display_data",
     "data": {
      "text/plain": [
       "WN    119048\n",
       "AA     73053\n",
       "MQ     58698\n",
       "UA     56896\n",
       "OO     50384\n",
       "Name: UniqueCarrier, dtype: int64"
      ]
     },
     "metadata": {},
     "output_type": "display_data"
    },
    {
     "output_type": "stream",
     "name": "stdout",
     "output_type": "stream",
     "text": [
      "Top 10 routes:\n"
     ]
    },
    {
     "output_type": "display_data",
     "data": {
      "text/plain": [
       "ORD-LGA    1920\n",
       "LGA-ORD    1615\n",
       "LAX-SFO    1603\n",
       "SFO-LAX    1457\n",
       "LAS-LAX    1305\n",
       "HOU-DAL    1276\n",
       "DAL-HOU    1200\n",
       "ORD-LAX    1154\n",
       "PHX-LAS    1152\n",
       "DFW-ORD    1125\n",
       "Name: Route, dtype: int64"
      ]
     },
     "metadata": {},
     "output_type": "display_data"
    },
    {
     "output_type": "stream",
     "name": "stdout",
     "output_type": "stream",
     "text": [
      "Average arrival delay by DayOfWeek:\n"
     ]
    },
    {
     "output_type": "display_data",
     "data": {
      "text/plain": [
       "DayOfWeek\n",
       "Monday       64.116298\n",
       "Saturday     62.234384\n",
       "Tuesday      61.390009\n",
       "Thursday     61.335392\n",
       "Sunday       60.093748\n",
       "Wednesday    59.625807\n",
       "Friday       57.909918\n",
       "Name: ArrDelay, dtype: float64"
      ]
     },
     "metadata": {},
     "output_type": "display_data"
    }
   ],
   "source": [
    "# top airlines by count\n",
    "if \"UniqueCarrier\" in df.columns:\n",
    "    print(\"Top airlines by count:\")\n",
    "    display(df[\"UniqueCarrier\"].value_counts().head())\n",
    "\n",
    "# top routes\n",
    "if \"Route\" in df.columns:\n",
    "    print(\"Top 10 routes:\")\n",
    "    display(df[\"Route\"].value_counts().head(10))\n",
    "\n",
    "# average arrival delay by day of week\n",
    "if \"DayOfWeek\" in df.columns and \"ArrDelay\" in df.columns:\n",
    "    print(\"Average arrival delay by DayOfWeek:\")\n",
    "    display(df.groupby(\"DayOfWeek\")[\"ArrDelay\"].mean().sort_values(ascending=False))\n"
   ]
  },
  {
   "cell_type": "markdown",
   "metadata": {
    "application/vnd.databricks.v1+cell": {
     "cellMetadata": {},
     "inputWidgets": {},
     "nuid": "3656ec82-4cdf-4f49-afa4-0fab65cc6cd3",
     "showTitle": false,
     "tableResultSettingsMap": {},
     "title": ""
    }
   },
   "source": [
    "### Save cleaned CSV"
   ]
  },
  {
   "cell_type": "code",
   "execution_count": 0,
   "metadata": {
    "application/vnd.databricks.v1+cell": {
     "cellMetadata": {
      "byteLimit": 2048000,
      "rowLimit": 10000
     },
     "inputWidgets": {},
     "nuid": "eb2769e6-3128-4cb1-ab95-47cfc306ca2d",
     "showTitle": false,
     "tableResultSettingsMap": {},
     "title": ""
    }
   },
   "outputs": [
    {
     "output_type": "stream",
     "name": "stdout",
     "output_type": "stream",
     "text": [
      "✅ Cleaned dataset saved to: /Volumes/workspace/default/airlines/Flight_delay_cleaned.csv\n\uD83D\uDCCC Final shape: (484549, 34)\n"
     ]
    }
   ],
   "source": [
    "# Step 9: Save the cleaned dataset (persistent path in workspace volume)\n",
    "output_path = \"/Volumes/workspace/default/airlines/Flight_delay_cleaned.csv\"\n",
    "\n",
    "df.to_csv(output_path, index=False)\n",
    "\n",
    "print(f\"✅ Cleaned dataset saved to: {output_path}\")\n",
    "print(\"\uD83D\uDCCC Final shape:\", df.shape)\n"
   ]
  },
  {
   "cell_type": "code",
   "execution_count": 0,
   "metadata": {
    "application/vnd.databricks.v1+cell": {
     "cellMetadata": {
      "byteLimit": 2048000,
      "rowLimit": 10000
     },
     "inputWidgets": {},
     "nuid": "c06369f0-a054-429a-afd0-fafebc3109ef",
     "showTitle": false,
     "tableResultSettingsMap": {},
     "title": ""
    }
   },
   "outputs": [
    {
     "output_type": "stream",
     "name": "stdout",
     "output_type": "stream",
     "text": [
      "KPI results (copy these numbers into your Week-1 PDF):\nrows_before: 484551\nnulls_before: 2656\ndup_before: 2\nneg_arrival_before: 0\nrows_after: 484549\nnulls_after: 2656\ndup_after: 0\nneg_arrival_after: 0\ntime_taken_s: 108.4\nnull_reduction_pct: 0.0\n"
     ]
    }
   ],
   "source": [
    "# KPIs after cleaning\n",
    "kpi['rows_after'] = len(df)\n",
    "kpi['nulls_after'] = int(df.isnull().sum().sum())\n",
    "kpi['dup_after'] = int(df.duplicated().sum())\n",
    "kpi['neg_arrival_after'] = int((df['ArrDelay'] < 0).sum()) if 'ArrDelay' in df.columns else None\n",
    "kpi['time_taken_s'] = round(time.time() - start_time, 1)\n",
    "\n",
    "# derived KPI metrics\n",
    "kpi['null_reduction_pct'] = round(100 * (kpi['nulls_before'] - kpi['nulls_after']) / (kpi['nulls_before'] if kpi['nulls_before'] else 1), 1)\n",
    "\n",
    "print(\"KPI results (copy these numbers into your Week-1 PDF):\")\n",
    "for k,v in kpi.items():\n",
    "    print(f\"{k}: {v}\")\n"
   ]
  },
  {
   "cell_type": "code",
   "execution_count": 0,
   "metadata": {
    "application/vnd.databricks.v1+cell": {
     "cellMetadata": {
      "byteLimit": 2048000,
      "rowLimit": 10000
     },
     "inputWidgets": {},
     "nuid": "1d295545-3810-46b3-b4a0-c42665e95817",
     "showTitle": false,
     "tableResultSettingsMap": {},
     "title": ""
    }
   },
   "outputs": [
    {
     "output_type": "stream",
     "name": "stdout",
     "output_type": "stream",
     "text": [
      "Final shape: 484549\nTop missing values after cleaning:\n"
     ]
    },
    {
     "output_type": "display_data",
     "data": {
      "text/plain": [
       "Dest_Airport         1479\n",
       "Org_Airport          1177\n",
       "DayOfWeek               0\n",
       "Hour                    0\n",
       "Month                   0\n",
       "LateAircraftDelay       0\n",
       "SecurityDelay           0\n",
       "NASDelay                0\n",
       "WeatherDelay            0\n",
       "CarrierDelay            0\n",
       "Diverted                0\n",
       "CancellationCode        0\n",
       "Cancelled               0\n",
       "TaxiOut                 0\n",
       "TaxiIn                  0\n",
       "dtype: int64"
      ]
     },
     "metadata": {},
     "output_type": "display_data"
    },
    {
     "output_type": "stream",
     "name": "stdout",
     "output_type": "stream",
     "text": [
      "Sample rows after cleaning:\n"
     ]
    },
    {
     "output_type": "display_data",
     "data": {
      "text/html": [
       "<style scoped>\n",
       "  .table-result-container {\n",
       "    max-height: 300px;\n",
       "    overflow: auto;\n",
       "  }\n",
       "  table, th, td {\n",
       "    border: 1px solid black;\n",
       "    border-collapse: collapse;\n",
       "  }\n",
       "  th, td {\n",
       "    padding: 5px;\n",
       "  }\n",
       "  th {\n",
       "    text-align: left;\n",
       "  }\n",
       "</style><div class='table-result-container'><table class='table-result'><thead style='background-color: white'><tr><th>DayOfWeek</th><th>Date</th><th>DepTime</th><th>ArrTime</th><th>CRSArrTime</th><th>UniqueCarrier</th><th>Airline</th><th>FlightNum</th><th>TailNum</th><th>ActualElapsedTime</th><th>CRSElapsedTime</th><th>AirTime</th><th>ArrDelay</th><th>DepDelay</th><th>Origin</th><th>Org_Airport</th><th>Dest</th><th>Dest_Airport</th><th>Distance</th><th>TaxiIn</th><th>TaxiOut</th><th>Cancelled</th><th>CancellationCode</th><th>Diverted</th><th>CarrierDelay</th><th>WeatherDelay</th><th>NASDelay</th><th>SecurityDelay</th><th>LateAircraftDelay</th><th>Month</th><th>Hour</th><th>Route</th></tr></thead><tbody><tr><td>Friday</td><td>2019-03-01T00:00:00.000Z</td><td>1829</td><td>1959</td><td>1925</td><td>WN</td><td>Southwest Airlines Co.</td><td>3920</td><td>N464WN</td><td>90</td><td>90</td><td>77</td><td>34</td><td>34</td><td>IND</td><td>Indianapolis International Airport</td><td>BWI</td><td>Baltimore-Washington International Airport</td><td>515</td><td>3</td><td>10</td><td>0</td><td>N</td><td>0</td><td>2</td><td>0</td><td>0</td><td>0</td><td>32</td><td>3</td><td>18</td><td>IND-BWI</td></tr><tr><td>Friday</td><td>2019-03-01T00:00:00.000Z</td><td>1937</td><td>2037</td><td>1940</td><td>WN</td><td>Southwest Airlines Co.</td><td>509</td><td>N763SW</td><td>240</td><td>250</td><td>230</td><td>57</td><td>67</td><td>IND</td><td>Indianapolis International Airport</td><td>LAS</td><td>McCarran International Airport</td><td>1591</td><td>3</td><td>7</td><td>0</td><td>N</td><td>0</td><td>10</td><td>0</td><td>0</td><td>0</td><td>47</td><td>3</td><td>19</td><td>IND-LAS</td></tr><tr><td>Friday</td><td>2019-03-01T00:00:00.000Z</td><td>1644</td><td>1845</td><td>1725</td><td>WN</td><td>Southwest Airlines Co.</td><td>1333</td><td>N334SW</td><td>121</td><td>135</td><td>107</td><td>80</td><td>94</td><td>IND</td><td>Indianapolis International Airport</td><td>MCO</td><td>Orlando International Airport</td><td>828</td><td>6</td><td>8</td><td>0</td><td>N</td><td>0</td><td>8</td><td>0</td><td>0</td><td>0</td><td>72</td><td>3</td><td>16</td><td>IND-MCO</td></tr><tr><td>Friday</td><td>2019-03-01T00:00:00.000Z</td><td>1452</td><td>1640</td><td>1625</td><td>WN</td><td>Southwest Airlines Co.</td><td>675</td><td>N286WN</td><td>228</td><td>240</td><td>213</td><td>15</td><td>27</td><td>IND</td><td>Indianapolis International Airport</td><td>PHX</td><td>Phoenix Sky Harbor International Airport</td><td>1489</td><td>7</td><td>8</td><td>0</td><td>N</td><td>0</td><td>3</td><td>0</td><td>0</td><td>0</td><td>12</td><td>3</td><td>14</td><td>IND-PHX</td></tr><tr><td>Friday</td><td>2019-03-01T00:00:00.000Z</td><td>1323</td><td>1526</td><td>1510</td><td>WN</td><td>Southwest Airlines Co.</td><td>4</td><td>N674AA</td><td>123</td><td>135</td><td>110</td><td>16</td><td>28</td><td>IND</td><td>Indianapolis International Airport</td><td>TPA</td><td>Tampa International Airport</td><td>838</td><td>4</td><td>9</td><td>0</td><td>N</td><td>0</td><td>0</td><td>0</td><td>0</td><td>0</td><td>16</td><td>3</td><td>13</td><td>IND-TPA</td></tr></tbody></table></div>"
      ]
     },
     "metadata": {
      "application/vnd.databricks.v1+output": {
       "addedWidgets": {},
       "aggData": [],
       "aggError": "",
       "aggOverflow": false,
       "aggSchema": [],
       "aggSeriesLimitReached": false,
       "aggType": "",
       "arguments": {},
       "columnCustomDisplayInfos": {},
       "data": [
        [
         "Friday",
         "2019-03-01T00:00:00.000Z",
         1829,
         1959,
         1925,
         "WN",
         "Southwest Airlines Co.",
         3920,
         "N464WN",
         90,
         90,
         77,
         34,
         34,
         "IND",
         "Indianapolis International Airport",
         "BWI",
         "Baltimore-Washington International Airport",
         515,
         3,
         10,
         0,
         "N",
         0,
         2,
         0,
         0,
         0,
         32,
         3,
         18,
         "IND-BWI"
        ],
        [
         "Friday",
         "2019-03-01T00:00:00.000Z",
         1937,
         2037,
         1940,
         "WN",
         "Southwest Airlines Co.",
         509,
         "N763SW",
         240,
         250,
         230,
         57,
         67,
         "IND",
         "Indianapolis International Airport",
         "LAS",
         "McCarran International Airport",
         1591,
         3,
         7,
         0,
         "N",
         0,
         10,
         0,
         0,
         0,
         47,
         3,
         19,
         "IND-LAS"
        ],
        [
         "Friday",
         "2019-03-01T00:00:00.000Z",
         1644,
         1845,
         1725,
         "WN",
         "Southwest Airlines Co.",
         1333,
         "N334SW",
         121,
         135,
         107,
         80,
         94,
         "IND",
         "Indianapolis International Airport",
         "MCO",
         "Orlando International Airport",
         828,
         6,
         8,
         0,
         "N",
         0,
         8,
         0,
         0,
         0,
         72,
         3,
         16,
         "IND-MCO"
        ],
        [
         "Friday",
         "2019-03-01T00:00:00.000Z",
         1452,
         1640,
         1625,
         "WN",
         "Southwest Airlines Co.",
         675,
         "N286WN",
         228,
         240,
         213,
         15,
         27,
         "IND",
         "Indianapolis International Airport",
         "PHX",
         "Phoenix Sky Harbor International Airport",
         1489,
         7,
         8,
         0,
         "N",
         0,
         3,
         0,
         0,
         0,
         12,
         3,
         14,
         "IND-PHX"
        ],
        [
         "Friday",
         "2019-03-01T00:00:00.000Z",
         1323,
         1526,
         1510,
         "WN",
         "Southwest Airlines Co.",
         4,
         "N674AA",
         123,
         135,
         110,
         16,
         28,
         "IND",
         "Indianapolis International Airport",
         "TPA",
         "Tampa International Airport",
         838,
         4,
         9,
         0,
         "N",
         0,
         0,
         0,
         0,
         0,
         16,
         3,
         13,
         "IND-TPA"
        ]
       ],
       "datasetInfos": [],
       "dbfsResultPath": null,
       "isJsonSchema": true,
       "metadata": {},
       "overflow": false,
       "plotOptions": {
        "customPlotOptions": {},
        "displayType": "table",
        "pivotAggregation": null,
        "pivotColumns": null,
        "xColumns": null,
        "yColumns": null
       },
       "removedWidgets": [],
       "schema": [
        {
         "metadata": "{}",
         "name": "DayOfWeek",
         "type": "\"string\""
        },
        {
         "metadata": "{}",
         "name": "Date",
         "type": "\"timestamp\""
        },
        {
         "metadata": "{}",
         "name": "DepTime",
         "type": "\"long\""
        },
        {
         "metadata": "{}",
         "name": "ArrTime",
         "type": "\"long\""
        },
        {
         "metadata": "{}",
         "name": "CRSArrTime",
         "type": "\"long\""
        },
        {
         "metadata": "{}",
         "name": "UniqueCarrier",
         "type": "\"string\""
        },
        {
         "metadata": "{}",
         "name": "Airline",
         "type": "\"string\""
        },
        {
         "metadata": "{}",
         "name": "FlightNum",
         "type": "\"long\""
        },
        {
         "metadata": "{}",
         "name": "TailNum",
         "type": "\"string\""
        },
        {
         "metadata": "{}",
         "name": "ActualElapsedTime",
         "type": "\"long\""
        },
        {
         "metadata": "{}",
         "name": "CRSElapsedTime",
         "type": "\"long\""
        },
        {
         "metadata": "{}",
         "name": "AirTime",
         "type": "\"long\""
        },
        {
         "metadata": "{}",
         "name": "ArrDelay",
         "type": "\"long\""
        },
        {
         "metadata": "{}",
         "name": "DepDelay",
         "type": "\"long\""
        },
        {
         "metadata": "{}",
         "name": "Origin",
         "type": "\"string\""
        },
        {
         "metadata": "{}",
         "name": "Org_Airport",
         "type": "\"string\""
        },
        {
         "metadata": "{}",
         "name": "Dest",
         "type": "\"string\""
        },
        {
         "metadata": "{}",
         "name": "Dest_Airport",
         "type": "\"string\""
        },
        {
         "metadata": "{}",
         "name": "Distance",
         "type": "\"long\""
        },
        {
         "metadata": "{}",
         "name": "TaxiIn",
         "type": "\"long\""
        },
        {
         "metadata": "{}",
         "name": "TaxiOut",
         "type": "\"long\""
        },
        {
         "metadata": "{}",
         "name": "Cancelled",
         "type": "\"long\""
        },
        {
         "metadata": "{}",
         "name": "CancellationCode",
         "type": "\"string\""
        },
        {
         "metadata": "{}",
         "name": "Diverted",
         "type": "\"long\""
        },
        {
         "metadata": "{}",
         "name": "CarrierDelay",
         "type": "\"long\""
        },
        {
         "metadata": "{}",
         "name": "WeatherDelay",
         "type": "\"long\""
        },
        {
         "metadata": "{}",
         "name": "NASDelay",
         "type": "\"long\""
        },
        {
         "metadata": "{}",
         "name": "SecurityDelay",
         "type": "\"long\""
        },
        {
         "metadata": "{}",
         "name": "LateAircraftDelay",
         "type": "\"long\""
        },
        {
         "metadata": "{}",
         "name": "Month",
         "type": "\"long\""
        },
        {
         "metadata": "{}",
         "name": "Hour",
         "type": "\"long\""
        },
        {
         "metadata": "{}",
         "name": "Route",
         "type": "\"string\""
        }
       ],
       "type": "table"
      }
     },
     "output_type": "display_data"
    }
   ],
   "source": [
    "print(\"Final shape:\", kpi['rows_after'])\n",
    "print(\"Top missing values after cleaning:\")\n",
    "display(df.isnull().sum().sort_values(ascending=False).head(15))\n",
    "\n",
    "print(\"Sample rows after cleaning:\")\n",
    "display(df.head())\n"
   ]
  }
 ],
 "metadata": {
  "application/vnd.databricks.v1+notebook": {
   "computePreferences": null,
   "dashboards": [],
   "environmentMetadata": {
    "base_environment": "",
    "environment_version": "3"
   },
   "inputWidgetPreferences": null,
   "language": "python",
   "notebookMetadata": {
    "pythonIndentUnit": 4
   },
   "notebookName": "Week1&2_SarthakMokal",
   "widgets": {}
  },
  "language_info": {
   "name": "python"
  }
 },
 "nbformat": 4,
 "nbformat_minor": 0
}