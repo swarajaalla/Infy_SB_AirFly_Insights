{
 "cells": [
  {
   "cell_type": "code",
   "execution_count": 0,
   "metadata": {
    "application/vnd.databricks.v1+cell": {
     "cellMetadata": {},
     "inputWidgets": {},
     "nuid": "bea1677b-7bd0-4f50-b86c-909641147162",
     "showTitle": false,
     "tableResultSettingsMap": {},
     "title": ""
    }
   },
   "outputs": [],
   "source": [
    "#Goals\n",
    "#Analyze airline data to uncover operational trends and delay #patterns.\n",
    "#Help improve airline/airport performance through visual insights.\n",
    "#Serve stakeholders: airlines, airports, analysts, travelers.\n",
    "#KPIs\n",
    "#Average Departure/Arrival Delay (min)\n",
    "#Cancellation Rate %\n",
    "#Delay Causes (Carrier, Weather, NAS, Late Aircraft, Security)\n",
    "#Top Busiest/Most Delayed Routes & Airports\n",
    "#Seasonal/Hourly Trends\n",
    "#Workflow\n",
    "'''Load & Understand Data\n",
    "Clean Data & Engineer Features (e.g., Route, Season, Delay Flags)\n",
    "Univariate Analysis Distributions of key metrics\n",
    "Bivariate Analysis Relationships between variables\n",
    "Delay Cause Analysis Why delays happen\n",
    "Route & Airport Analysis Identify hotspots\n",
    "Seasonal & Cancellation Trends Time-based patterns\n",
    "Build Interactive Dashboard/Report'''"
   ]
  },
  {
   "cell_type": "code",
   "execution_count": 0,
   "metadata": {
    "application/vnd.databricks.v1+cell": {
     "cellMetadata": {},
     "inputWidgets": {},
     "nuid": "958a121e-38c9-45d5-8f79-ef25018f9c59",
     "showTitle": false,
     "tableResultSettingsMap": {},
     "title": ""
    }
   },
   "outputs": [],
   "source": [
    "import pandas as pd\n",
    "df=pd.read_csv(\"/Volumes/workspace/default/airlines/Flight_delay1.csv\",na_values=['#N/A'])\n",
    "display(df)"
   ]
  },
  {
   "cell_type": "code",
   "execution_count": 0,
   "metadata": {
    "application/vnd.databricks.v1+cell": {
     "cellMetadata": {},
     "inputWidgets": {},
     "nuid": "a13eea58-80c2-4820-80ba-32aad5c22745",
     "showTitle": false,
     "tableResultSettingsMap": {},
     "title": ""
    }
   },
   "outputs": [],
   "source": [
    "df.info()\n",
    "df.shape\n",
    "df.size\n",
    "df.columns\n",
    "df.dtypes\n",
    "df.describe()"
   ]
  },
  {
   "cell_type": "code",
   "execution_count": 0,
   "metadata": {
    "application/vnd.databricks.v1+cell": {
     "cellMetadata": {},
     "inputWidgets": {},
     "nuid": "077ee033-1817-4a5f-9372-8e1b0c093492",
     "showTitle": false,
     "tableResultSettingsMap": {},
     "title": ""
    }
   },
   "outputs": [],
   "source": [
    "print(df.isnull().sum())\n",
    "#find the no. of duplicates\n",
    "num_duplicates = df.duplicated().sum()\n",
    "print(num_duplicates)"
   ]
  },
  {
   "cell_type": "code",
   "execution_count": 0,
   "metadata": {
    "application/vnd.databricks.v1+cell": {
     "cellMetadata": {},
     "inputWidgets": {},
     "nuid": "0982248f-a709-4c53-901b-a46182041780",
     "showTitle": false,
     "tableResultSettingsMap": {},
     "title": ""
    }
   },
   "outputs": [],
   "source": [
    "sample_df = df.sample(frac=0.01, random_state=42)\n",
    "print(sample_df.shape)\n",
    "for col in sample_df.select_dtypes(include=['float']):\n",
    "    sample_df[col]=pd.to_numeric(sample_df[col],downcast='float')\n",
    "for col in sample_df.select_dtypes(include=['int']):\n",
    "    sample_df[col]=pd.to_numeric(sample_df[col],downcast='integer')\n",
    "for col in sample_df.select_dtypes(include=['object']):\n",
    "    num_unique=sample_df[col].nunique()\n",
    "    num_total=len(sample_df[col])\n",
    "    if num_unique/num_total < 0.5:\n",
    "        sample_df[col]=sample_df[col].astype('category')"
   ]
  },
  {
   "cell_type": "code",
   "execution_count": 0,
   "metadata": {
    "application/vnd.databricks.v1+cell": {
     "cellMetadata": {},
     "inputWidgets": {},
     "nuid": "565e6018-a417-4a2e-b52f-7a1de81db57d",
     "showTitle": false,
     "tableResultSettingsMap": {},
     "title": ""
    }
   },
   "outputs": [],
   "source": [
    "df_pd=df.copy()"
   ]
  },
  {
   "cell_type": "code",
   "execution_count": 0,
   "metadata": {
    "application/vnd.databricks.v1+cell": {
     "cellMetadata": {},
     "inputWidgets": {},
     "nuid": "79e4d889-a4e2-428b-9293-7f490974fb59",
     "showTitle": false,
     "tableResultSettingsMap": {},
     "title": ""
    }
   },
   "outputs": [],
   "source": [
    "df_pd = df_pd.drop_duplicates()"
   ]
  },
  {
   "cell_type": "code",
   "execution_count": 0,
   "metadata": {
    "application/vnd.databricks.v1+cell": {
     "cellMetadata": {},
     "inputWidgets": {},
     "nuid": "e0cb590a-e3b5-46e1-97cf-f5e640f395c6",
     "showTitle": false,
     "tableResultSettingsMap": {},
     "title": ""
    }
   },
   "outputs": [],
   "source": [
    "#Fill Empty cells of Cancelled column with 0 or 1 according to the CancellationCode if N then 0 otherwise 1\n",
    "df_pd['Cancelled'] = df_pd['CancellationCode'].fillna('N').apply(lambda x: 0 if x == 'N' else 1)"
   ]
  },
  {
   "cell_type": "code",
   "execution_count": 0,
   "metadata": {
    "application/vnd.databricks.v1+cell": {
     "cellMetadata": {},
     "inputWidgets": {},
     "nuid": "1f0620fd-dcaa-4fae-ba9c-d70832f09ddf",
     "showTitle": false,
     "tableResultSettingsMap": {},
     "title": ""
    }
   },
   "outputs": [],
   "source": [
    "#Display the rows that have Null Values in Org_Airport and Dest_Airport\n",
    "print(df[\"Org_Airport\"].isnull().sum())\n",
    "print(df[\"Dest_Airport\"].isnull().sum())"
   ]
  },
  {
   "cell_type": "code",
   "execution_count": 0,
   "metadata": {
    "application/vnd.databricks.v1+cell": {
     "cellMetadata": {},
     "inputWidgets": {},
     "nuid": "c5db70da-f386-4c1b-996c-4961ebc3f66b",
     "showTitle": false,
     "tableResultSettingsMap": {},
     "title": ""
    }
   },
   "outputs": [],
   "source": [
    "# Load the airport codes CSV\n",
    "airport_df = pd.read_csv(\"/Volumes/workspace/default/airlines/airport_codes_mapping.csv\")\n",
    "\n",
    "# Convert CSV to dictionary for mapping\n",
    "airport_dict = dict(zip(airport_df[\"IATA_Code\"], airport_df[\"Airport_Name\"]))\n",
    "\n",
    "# Fill missing values in Org_Airport and Dest_Airport\n",
    "df_pd[\"Org_Airport\"] = df_pd[\"Origin\"].map(airport_dict)\n",
    "df_pd[\"Dest_Airport\"] = df_pd[\"Dest\"].map(airport_dict)"
   ]
  },
  {
   "cell_type": "code",
   "execution_count": 0,
   "metadata": {
    "application/vnd.databricks.v1+cell": {
     "cellMetadata": {},
     "inputWidgets": {},
     "nuid": "b699f1e9-86cd-447e-8e90-0ab4180cc2a6",
     "showTitle": false,
     "tableResultSettingsMap": {},
     "title": ""
    }
   },
   "outputs": [],
   "source": [
    "print(df_pd[\"Org_Airport\"].isnull().sum())\n",
    "print(df_pd[\"Dest_Airport\"].isnull().sum())"
   ]
  },
  {
   "cell_type": "code",
   "execution_count": 0,
   "metadata": {
    "application/vnd.databricks.v1+cell": {
     "cellMetadata": {},
     "inputWidgets": {},
     "nuid": "35cb492d-760e-4e7f-83ee-e66c19a9eec5",
     "showTitle": false,
     "tableResultSettingsMap": {},
     "title": ""
    }
   },
   "outputs": [],
   "source": [
    "df_pd['Date'] = pd.to_datetime(df_pd['Date'])"
   ]
  },
  {
   "cell_type": "code",
   "execution_count": 0,
   "metadata": {
    "application/vnd.databricks.v1+cell": {
     "cellMetadata": {},
     "inputWidgets": {},
     "nuid": "2c70ac6f-2ef1-49f6-abec-366a7c742b20",
     "showTitle": false,
     "tableResultSettingsMap": {},
     "title": ""
    }
   },
   "outputs": [],
   "source": [
    "# Month and Day of Week from Date\n",
    "df_pd[\"Month\"] = df_pd[\"Date\"].dt.month\n",
    "df_pd[\"DayOfWeek\"] = df_pd[\"Date\"].dt.dayofweek  # Monday=0, Sunday=6\n",
    "arr_dt = pd.to_datetime(df_pd[\"ArrTime\"], format=\"%H:%M\", errors=\"coerce\")\n",
    "dep_dt = pd.to_datetime(df_pd[\"DepTime\"], format=\"%H:%M\", errors=\"coerce\")\n",
    "df_pd[\"Hour\"] = ((arr_dt - dep_dt).dt.total_seconds() / 3600).fillna(0).astype(int)\n",
    "\n",
    "df_pd[\"Route\"] = df_pd[\"Org_Airport\"] + \"-\" + df_pd[\"Dest_Airport\"]\n",
    "#for col in [\"ArrTime\", \"DepTime\"]:\n",
    " #   df_pd[col] = df_pd[col].astype(str)\n",
    "display(df_pd.head(10))"
   ]
  },
  {
   "cell_type": "code",
   "execution_count": 0,
   "metadata": {
    "application/vnd.databricks.v1+cell": {
     "cellMetadata": {},
     "inputWidgets": {},
     "nuid": "b16e2fea-40e1-4e75-bc19-da4f233bab3c",
     "showTitle": false,
     "tableResultSettingsMap": {},
     "title": ""
    }
   },
   "outputs": [],
   "source": [
    "df_pd.to_csv(\"/Volumes/workspace/default/airlines/Flight_delay_cleaned.csv\")"
   ]
  },
  {
   "cell_type": "code",
   "execution_count": 0,
   "metadata": {
    "application/vnd.databricks.v1+cell": {
     "cellMetadata": {},
     "inputWidgets": {},
     "nuid": "38477d59-59d3-4634-9e18-90c1a024eeea",
     "showTitle": false,
     "tableResultSettingsMap": {},
     "title": ""
    }
   },
   "outputs": [],
   "source": [
    "#i did not include the outputs as the file was getting big than 25 MB \n",
    "#But i have included them in pdf."
   ]
  }
 ],
 "metadata": {
  "application/vnd.databricks.v1+notebook": {
   "computePreferences": null,
   "dashboards": [],
   "environmentMetadata": {
    "base_environment": "",
    "environment_version": "3"
   },
   "inputWidgetPreferences": null,
   "language": "python",
   "notebookMetadata": {
    "pythonIndentUnit": 4
   },
   "notebookName": "airlines_insights",
   "widgets": {}
  },
  "language_info": {
   "name": "python"
  }
 },
 "nbformat": 4,
 "nbformat_minor": 0
}